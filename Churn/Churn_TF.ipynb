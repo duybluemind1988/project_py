{
  "cells": [
    {
      "cell_type": "markdown",
      "metadata": {
        "id": "6Jow0woF29lS"
      },
      "source": [
        "# Predict customer retention by deep learning"
      ]
    },
    {
      "cell_type": "markdown",
      "metadata": {
        "id": "Iiu5g9Ck-BmR"
      },
      "source": [
        "# 1. Classify structured data with feature columns"
      ]
    },
    {
      "cell_type": "markdown",
      "metadata": {
        "id": "y6bqGmnm4XY1"
      },
      "source": [
        "## Dataset"
      ]
    },
    {
      "cell_type": "code",
      "execution_count": 1,
      "metadata": {
        "id": "7NVf0eiY29lr"
      },
      "outputs": [],
      "source": [
        "import numpy as np\n",
        "import pandas as pd\n",
        "import tensorflow as tf\n",
        "import sklearn\n",
        "from sklearn import model_selection,pipeline,compose,preprocessing\n",
        "from tensorflow import feature_column\n",
        "from tensorflow.keras import layers\n",
        "# OOP python for feature engineering\n",
        "from sklearn.base import BaseEstimator, TransformerMixin"
      ]
    },
    {
      "cell_type": "code",
      "execution_count": 2,
      "metadata": {
        "colab": {
          "base_uri": "https://localhost:8080/",
          "height": 309
        },
        "id": "F6TCxcOA29lx",
        "outputId": "196b1ab5-7b4e-4fde-8be3-31759d203ea9"
      },
      "outputs": [
        {
          "data": {
            "text/html": "<div>\n<style scoped>\n    .dataframe tbody tr th:only-of-type {\n        vertical-align: middle;\n    }\n\n    .dataframe tbody tr th {\n        vertical-align: top;\n    }\n\n    .dataframe thead th {\n        text-align: right;\n    }\n</style>\n<table border=\"1\" class=\"dataframe\">\n  <thead>\n    <tr style=\"text-align: right;\">\n      <th></th>\n      <th>customerID</th>\n      <th>gender</th>\n      <th>SeniorCitizen</th>\n      <th>Partner</th>\n      <th>Dependents</th>\n      <th>tenure</th>\n      <th>PhoneService</th>\n      <th>MultipleLines</th>\n      <th>InternetService</th>\n      <th>OnlineSecurity</th>\n      <th>...</th>\n      <th>DeviceProtection</th>\n      <th>TechSupport</th>\n      <th>StreamingTV</th>\n      <th>StreamingMovies</th>\n      <th>Contract</th>\n      <th>PaperlessBilling</th>\n      <th>PaymentMethod</th>\n      <th>MonthlyCharges</th>\n      <th>TotalCharges</th>\n      <th>Churn</th>\n    </tr>\n  </thead>\n  <tbody>\n    <tr>\n      <th>0</th>\n      <td>7590-VHVEG</td>\n      <td>Female</td>\n      <td>0</td>\n      <td>Yes</td>\n      <td>No</td>\n      <td>1</td>\n      <td>No</td>\n      <td>No phone service</td>\n      <td>DSL</td>\n      <td>No</td>\n      <td>...</td>\n      <td>No</td>\n      <td>No</td>\n      <td>No</td>\n      <td>No</td>\n      <td>Month-to-month</td>\n      <td>Yes</td>\n      <td>Electronic check</td>\n      <td>29.85</td>\n      <td>29.85</td>\n      <td>No</td>\n    </tr>\n    <tr>\n      <th>1</th>\n      <td>5575-GNVDE</td>\n      <td>Male</td>\n      <td>0</td>\n      <td>No</td>\n      <td>No</td>\n      <td>34</td>\n      <td>Yes</td>\n      <td>No</td>\n      <td>DSL</td>\n      <td>Yes</td>\n      <td>...</td>\n      <td>Yes</td>\n      <td>No</td>\n      <td>No</td>\n      <td>No</td>\n      <td>One year</td>\n      <td>No</td>\n      <td>Mailed check</td>\n      <td>56.95</td>\n      <td>1889.5</td>\n      <td>No</td>\n    </tr>\n    <tr>\n      <th>2</th>\n      <td>3668-QPYBK</td>\n      <td>Male</td>\n      <td>0</td>\n      <td>No</td>\n      <td>No</td>\n      <td>2</td>\n      <td>Yes</td>\n      <td>No</td>\n      <td>DSL</td>\n      <td>Yes</td>\n      <td>...</td>\n      <td>No</td>\n      <td>No</td>\n      <td>No</td>\n      <td>No</td>\n      <td>Month-to-month</td>\n      <td>Yes</td>\n      <td>Mailed check</td>\n      <td>53.85</td>\n      <td>108.15</td>\n      <td>Yes</td>\n    </tr>\n    <tr>\n      <th>3</th>\n      <td>7795-CFOCW</td>\n      <td>Male</td>\n      <td>0</td>\n      <td>No</td>\n      <td>No</td>\n      <td>45</td>\n      <td>No</td>\n      <td>No phone service</td>\n      <td>DSL</td>\n      <td>Yes</td>\n      <td>...</td>\n      <td>Yes</td>\n      <td>Yes</td>\n      <td>No</td>\n      <td>No</td>\n      <td>One year</td>\n      <td>No</td>\n      <td>Bank transfer (automatic)</td>\n      <td>42.30</td>\n      <td>1840.75</td>\n      <td>No</td>\n    </tr>\n    <tr>\n      <th>4</th>\n      <td>9237-HQITU</td>\n      <td>Female</td>\n      <td>0</td>\n      <td>No</td>\n      <td>No</td>\n      <td>2</td>\n      <td>Yes</td>\n      <td>No</td>\n      <td>Fiber optic</td>\n      <td>No</td>\n      <td>...</td>\n      <td>No</td>\n      <td>No</td>\n      <td>No</td>\n      <td>No</td>\n      <td>Month-to-month</td>\n      <td>Yes</td>\n      <td>Electronic check</td>\n      <td>70.70</td>\n      <td>151.65</td>\n      <td>Yes</td>\n    </tr>\n  </tbody>\n</table>\n<p>5 rows × 21 columns</p>\n</div>",
            "text/plain": "   customerID  gender  SeniorCitizen Partner Dependents  tenure PhoneService  \\\n0  7590-VHVEG  Female              0     Yes         No       1           No   \n1  5575-GNVDE    Male              0      No         No      34          Yes   \n2  3668-QPYBK    Male              0      No         No       2          Yes   \n3  7795-CFOCW    Male              0      No         No      45           No   \n4  9237-HQITU  Female              0      No         No       2          Yes   \n\n      MultipleLines InternetService OnlineSecurity  ... DeviceProtection  \\\n0  No phone service             DSL             No  ...               No   \n1                No             DSL            Yes  ...              Yes   \n2                No             DSL            Yes  ...               No   \n3  No phone service             DSL            Yes  ...              Yes   \n4                No     Fiber optic             No  ...               No   \n\n  TechSupport StreamingTV StreamingMovies        Contract PaperlessBilling  \\\n0          No          No              No  Month-to-month              Yes   \n1          No          No              No        One year               No   \n2          No          No              No  Month-to-month              Yes   \n3         Yes          No              No        One year               No   \n4          No          No              No  Month-to-month              Yes   \n\n               PaymentMethod MonthlyCharges  TotalCharges Churn  \n0           Electronic check          29.85         29.85    No  \n1               Mailed check          56.95        1889.5    No  \n2               Mailed check          53.85        108.15   Yes  \n3  Bank transfer (automatic)          42.30       1840.75    No  \n4           Electronic check          70.70        151.65   Yes  \n\n[5 rows x 21 columns]"
          },
          "execution_count": 2,
          "metadata": {},
          "output_type": "execute_result"
        }
      ],
      "source": [
        "path='https://raw.githubusercontent.com/rstudio/keras-customer-churn/master/data/WA_Fn-UseC_-Telco-Customer-Churn.csv'\n",
        "dataframe=pd.read_csv(path)\n",
        "dataframe.head()"
      ]
    },
    {
      "cell_type": "code",
      "execution_count": 3,
      "metadata": {
        "colab": {
          "base_uri": "https://localhost:8080/"
        },
        "id": "YwMnpOx929mT",
        "outputId": "4e0a433f-3360-4b0d-e181-853f6ef62a50"
      },
      "outputs": [
        {
          "data": {
            "text/plain": "(7043, 21)"
          },
          "execution_count": 3,
          "metadata": {},
          "output_type": "execute_result"
        }
      ],
      "source": [
        "dataframe.shape"
      ]
    },
    {
      "cell_type": "code",
      "execution_count": 4,
      "metadata": {
        "colab": {
          "base_uri": "https://localhost:8080/",
          "height": 297
        },
        "id": "Y_Fcs9Pp29mU",
        "outputId": "b291a323-f174-4f30-cd75-222d47956a14"
      },
      "outputs": [
        {
          "data": {
            "text/html": "<div>\n<style scoped>\n    .dataframe tbody tr th:only-of-type {\n        vertical-align: middle;\n    }\n\n    .dataframe tbody tr th {\n        vertical-align: top;\n    }\n\n    .dataframe thead th {\n        text-align: right;\n    }\n</style>\n<table border=\"1\" class=\"dataframe\">\n  <thead>\n    <tr style=\"text-align: right;\">\n      <th></th>\n      <th>SeniorCitizen</th>\n      <th>tenure</th>\n      <th>MonthlyCharges</th>\n    </tr>\n  </thead>\n  <tbody>\n    <tr>\n      <th>count</th>\n      <td>7043.000000</td>\n      <td>7043.000000</td>\n      <td>7043.000000</td>\n    </tr>\n    <tr>\n      <th>mean</th>\n      <td>0.162147</td>\n      <td>32.371149</td>\n      <td>64.761692</td>\n    </tr>\n    <tr>\n      <th>std</th>\n      <td>0.368612</td>\n      <td>24.559481</td>\n      <td>30.090047</td>\n    </tr>\n    <tr>\n      <th>min</th>\n      <td>0.000000</td>\n      <td>0.000000</td>\n      <td>18.250000</td>\n    </tr>\n    <tr>\n      <th>25%</th>\n      <td>0.000000</td>\n      <td>9.000000</td>\n      <td>35.500000</td>\n    </tr>\n    <tr>\n      <th>50%</th>\n      <td>0.000000</td>\n      <td>29.000000</td>\n      <td>70.350000</td>\n    </tr>\n    <tr>\n      <th>75%</th>\n      <td>0.000000</td>\n      <td>55.000000</td>\n      <td>89.850000</td>\n    </tr>\n    <tr>\n      <th>max</th>\n      <td>1.000000</td>\n      <td>72.000000</td>\n      <td>118.750000</td>\n    </tr>\n  </tbody>\n</table>\n</div>",
            "text/plain": "       SeniorCitizen       tenure  MonthlyCharges\ncount    7043.000000  7043.000000     7043.000000\nmean        0.162147    32.371149       64.761692\nstd         0.368612    24.559481       30.090047\nmin         0.000000     0.000000       18.250000\n25%         0.000000     9.000000       35.500000\n50%         0.000000    29.000000       70.350000\n75%         0.000000    55.000000       89.850000\nmax         1.000000    72.000000      118.750000"
          },
          "execution_count": 4,
          "metadata": {},
          "output_type": "execute_result"
        }
      ],
      "source": [
        "dataframe.describe()"
      ]
    },
    {
      "cell_type": "markdown",
      "metadata": {
        "id": "DvTMidPK4cM6"
      },
      "source": [
        "## Create target variable"
      ]
    },
    {
      "cell_type": "code",
      "execution_count": 5,
      "metadata": {
        "colab": {
          "base_uri": "https://localhost:8080/",
          "height": 292
        },
        "id": "0mBNG1kH29mU",
        "outputId": "9c0121da-9532-4736-911b-7f0a03776a74"
      },
      "outputs": [
        {
          "data": {
            "text/html": "<div>\n<style scoped>\n    .dataframe tbody tr th:only-of-type {\n        vertical-align: middle;\n    }\n\n    .dataframe tbody tr th {\n        vertical-align: top;\n    }\n\n    .dataframe thead th {\n        text-align: right;\n    }\n</style>\n<table border=\"1\" class=\"dataframe\">\n  <thead>\n    <tr style=\"text-align: right;\">\n      <th></th>\n      <th>gender</th>\n      <th>SeniorCitizen</th>\n      <th>Partner</th>\n      <th>Dependents</th>\n      <th>tenure</th>\n      <th>PhoneService</th>\n      <th>MultipleLines</th>\n      <th>InternetService</th>\n      <th>OnlineSecurity</th>\n      <th>OnlineBackup</th>\n      <th>DeviceProtection</th>\n      <th>TechSupport</th>\n      <th>StreamingTV</th>\n      <th>StreamingMovies</th>\n      <th>Contract</th>\n      <th>PaperlessBilling</th>\n      <th>PaymentMethod</th>\n      <th>MonthlyCharges</th>\n      <th>TotalCharges</th>\n      <th>target</th>\n    </tr>\n  </thead>\n  <tbody>\n    <tr>\n      <th>0</th>\n      <td>Female</td>\n      <td>0</td>\n      <td>Yes</td>\n      <td>No</td>\n      <td>1</td>\n      <td>No</td>\n      <td>No phone service</td>\n      <td>DSL</td>\n      <td>No</td>\n      <td>Yes</td>\n      <td>No</td>\n      <td>No</td>\n      <td>No</td>\n      <td>No</td>\n      <td>Month-to-month</td>\n      <td>Yes</td>\n      <td>Electronic check</td>\n      <td>29.85</td>\n      <td>29.85</td>\n      <td>0</td>\n    </tr>\n    <tr>\n      <th>1</th>\n      <td>Male</td>\n      <td>0</td>\n      <td>No</td>\n      <td>No</td>\n      <td>34</td>\n      <td>Yes</td>\n      <td>No</td>\n      <td>DSL</td>\n      <td>Yes</td>\n      <td>No</td>\n      <td>Yes</td>\n      <td>No</td>\n      <td>No</td>\n      <td>No</td>\n      <td>One year</td>\n      <td>No</td>\n      <td>Mailed check</td>\n      <td>56.95</td>\n      <td>1889.50</td>\n      <td>0</td>\n    </tr>\n    <tr>\n      <th>2</th>\n      <td>Male</td>\n      <td>0</td>\n      <td>No</td>\n      <td>No</td>\n      <td>2</td>\n      <td>Yes</td>\n      <td>No</td>\n      <td>DSL</td>\n      <td>Yes</td>\n      <td>Yes</td>\n      <td>No</td>\n      <td>No</td>\n      <td>No</td>\n      <td>No</td>\n      <td>Month-to-month</td>\n      <td>Yes</td>\n      <td>Mailed check</td>\n      <td>53.85</td>\n      <td>108.15</td>\n      <td>1</td>\n    </tr>\n    <tr>\n      <th>3</th>\n      <td>Male</td>\n      <td>0</td>\n      <td>No</td>\n      <td>No</td>\n      <td>45</td>\n      <td>No</td>\n      <td>No phone service</td>\n      <td>DSL</td>\n      <td>Yes</td>\n      <td>No</td>\n      <td>Yes</td>\n      <td>Yes</td>\n      <td>No</td>\n      <td>No</td>\n      <td>One year</td>\n      <td>No</td>\n      <td>Bank transfer (automatic)</td>\n      <td>42.30</td>\n      <td>1840.75</td>\n      <td>0</td>\n    </tr>\n    <tr>\n      <th>4</th>\n      <td>Female</td>\n      <td>0</td>\n      <td>No</td>\n      <td>No</td>\n      <td>2</td>\n      <td>Yes</td>\n      <td>No</td>\n      <td>Fiber optic</td>\n      <td>No</td>\n      <td>No</td>\n      <td>No</td>\n      <td>No</td>\n      <td>No</td>\n      <td>No</td>\n      <td>Month-to-month</td>\n      <td>Yes</td>\n      <td>Electronic check</td>\n      <td>70.70</td>\n      <td>151.65</td>\n      <td>1</td>\n    </tr>\n  </tbody>\n</table>\n</div>",
            "text/plain": "   gender  SeniorCitizen Partner Dependents  tenure PhoneService  \\\n0  Female              0     Yes         No       1           No   \n1    Male              0      No         No      34          Yes   \n2    Male              0      No         No       2          Yes   \n3    Male              0      No         No      45           No   \n4  Female              0      No         No       2          Yes   \n\n      MultipleLines InternetService OnlineSecurity OnlineBackup  \\\n0  No phone service             DSL             No          Yes   \n1                No             DSL            Yes           No   \n2                No             DSL            Yes          Yes   \n3  No phone service             DSL            Yes           No   \n4                No     Fiber optic             No           No   \n\n  DeviceProtection TechSupport StreamingTV StreamingMovies        Contract  \\\n0               No          No          No              No  Month-to-month   \n1              Yes          No          No              No        One year   \n2               No          No          No              No  Month-to-month   \n3              Yes         Yes          No              No        One year   \n4               No          No          No              No  Month-to-month   \n\n  PaperlessBilling              PaymentMethod  MonthlyCharges  TotalCharges  \\\n0              Yes           Electronic check           29.85         29.85   \n1               No               Mailed check           56.95       1889.50   \n2              Yes               Mailed check           53.85        108.15   \n3               No  Bank transfer (automatic)           42.30       1840.75   \n4              Yes           Electronic check           70.70        151.65   \n\n   target  \n0       0  \n1       0  \n2       1  \n3       0  \n4       1  "
          },
          "execution_count": 5,
          "metadata": {},
          "output_type": "execute_result"
        }
      ],
      "source": [
        "# In the original dataset \"4\" indicates the pet was not adopted. ( No need in this case)\n",
        "#dataframe['target'] = np.where(dataframe['AdoptionSpeed']==4, 0, 1)\n",
        "dataframe.rename(columns = {'Churn': 'target'}, inplace=True)\n",
        "dataframe['target'] = np.where(dataframe['target']==\"Yes\", 1, 0)\n",
        "# Drop un-used columns.\n",
        "dataframe = dataframe.drop(columns=['customerID'])\n",
        "# Convert total charge from object to float:\n",
        "dataframe[\"TotalCharges\"] = dataframe[\"TotalCharges\"].replace(' ', np.nan).astype(float)\n",
        "# Remove NA\n",
        "dataframe.dropna(inplace=True)\n",
        "dataframe.head()"
      ]
    },
    {
      "cell_type": "code",
      "execution_count": 6,
      "metadata": {
        "colab": {
          "base_uri": "https://localhost:8080/"
        },
        "id": "YFxvLRNl4oW1",
        "outputId": "40ec47ed-9a94-4688-e8d7-c9b7588729e9"
      },
      "outputs": [
        {
          "name": "stdout",
          "output_type": "stream",
          "text": [
            "4500 train examples\n",
            "1125 validation examples\n",
            "1407 test examples\n"
          ]
        }
      ],
      "source": [
        "train, test = model_selection.train_test_split(dataframe, test_size=0.2)\n",
        "train, val = model_selection.train_test_split(train, test_size=0.2)\n",
        "print(len(train), 'train examples')\n",
        "print(len(val), 'validation examples')\n",
        "print(len(test), 'test examples')"
      ]
    },
    {
      "cell_type": "markdown",
      "metadata": {
        "id": "11fneZxs5SRS"
      },
      "source": [
        "Next, we will wrap the dataframes with tf.data. This will enable us to use feature columns as a bridge to map from the columns in the Pandas dataframe to features used to train the model. If we were working with a very large CSV file (so large that it does not fit into memory), we would use tf.data to read it from disk directly. That is not covered in this tutorial."
      ]
    },
    {
      "cell_type": "code",
      "execution_count": 7,
      "metadata": {
        "id": "5y8W5qXf29mV"
      },
      "outputs": [],
      "source": [
        "# A utility method to create a tf.data dataset from a Pandas Dataframe\n",
        "def df_to_dataset(dataframe, shuffle=True, batch_size=32):\n",
        "  dataframe = dataframe.copy()\n",
        "  labels = dataframe.pop('target')\n",
        "  ds = tf.data.Dataset.from_tensor_slices((dict(dataframe), labels))\n",
        "  if shuffle:\n",
        "    ds = ds.shuffle(buffer_size=len(dataframe))\n",
        "  ds = ds.batch(batch_size)\n",
        "  return ds"
      ]
    },
    {
      "cell_type": "code",
      "execution_count": 8,
      "metadata": {
        "id": "Ko3Q5JH429mV"
      },
      "outputs": [],
      "source": [
        "batch_size = 5 # A small batch sized is used for demonstration purposes\n",
        "train_ds = df_to_dataset(train, batch_size=batch_size) # need suffle train ?\n",
        "val_ds = df_to_dataset(val, shuffle=False, batch_size=batch_size)\n",
        "test_ds = df_to_dataset(test, shuffle=False, batch_size=batch_size)"
      ]
    },
    {
      "cell_type": "code",
      "execution_count": 9,
      "metadata": {
        "colab": {
          "base_uri": "https://localhost:8080/"
        },
        "id": "bzX5YC1529mW",
        "outputId": "9f6eed5a-6e72-47ed-e6eb-941b0141ec5f"
      },
      "outputs": [
        {
          "name": "stdout",
          "output_type": "stream",
          "text": [
            "900\n",
            "225\n",
            "282\n"
          ]
        }
      ],
      "source": [
        "print(len(list(train_ds))) #902 batchs, each batch 5 sample --> 4507 sample\n",
        "print(len(list(val_ds)))\n",
        "print(len(list(test_ds)))"
      ]
    },
    {
      "cell_type": "code",
      "execution_count": 10,
      "metadata": {
        "colab": {
          "base_uri": "https://localhost:8080/"
        },
        "id": "nEkqZEDk8uqK",
        "outputId": "b09fb392-ada3-40dc-a5fb-8197b696dbb7"
      },
      "outputs": [
        {
          "name": "stdout",
          "output_type": "stream",
          "text": [
            "Every feature: ['gender', 'SeniorCitizen', 'Partner', 'Dependents', 'tenure', 'PhoneService', 'MultipleLines', 'InternetService', 'OnlineSecurity', 'OnlineBackup', 'DeviceProtection', 'TechSupport', 'StreamingTV', 'StreamingMovies', 'Contract', 'PaperlessBilling', 'PaymentMethod', 'MonthlyCharges', 'TotalCharges']\n",
            "A batch of MonthlyCharges: tf.Tensor([ 55.65  95.9   69.25 101.15 106.  ], shape=(5,), dtype=float64)\n",
            "A batch of targets: tf.Tensor([0 1 0 0 0], shape=(5,), dtype=int64)\n"
          ]
        }
      ],
      "source": [
        "[(train_features, label_batch)] = train_ds.take(1)\n",
        "print('Every feature:', list(train_features.keys()))\n",
        "print('A batch of MonthlyCharges:', train_features['MonthlyCharges'])\n",
        "print('A batch of targets:', label_batch )"
      ]
    },
    {
      "cell_type": "markdown",
      "metadata": {
        "id": "ILUJzWMeQGHo"
      },
      "source": [
        "Demonstrate several types of feature columns"
      ]
    },
    {
      "cell_type": "code",
      "execution_count": 11,
      "metadata": {
        "colab": {
          "base_uri": "https://localhost:8080/"
        },
        "id": "aGPxyRxN8usp",
        "outputId": "43e1309c-6d02-47d2-cee9-882c3d5a1f43"
      },
      "outputs": [
        {
          "data": {
            "text/plain": "{'gender': <tf.Tensor: shape=(5,), dtype=string, numpy=array([b'Male', b'Male', b'Female', b'Female', b'Male'], dtype=object)>,\n 'SeniorCitizen': <tf.Tensor: shape=(5,), dtype=int64, numpy=array([1, 0, 0, 0, 0])>,\n 'Partner': <tf.Tensor: shape=(5,), dtype=string, numpy=array([b'Yes', b'Yes', b'Yes', b'Yes', b'No'], dtype=object)>,\n 'Dependents': <tf.Tensor: shape=(5,), dtype=string, numpy=array([b'No', b'Yes', b'Yes', b'Yes', b'No'], dtype=object)>,\n 'tenure': <tf.Tensor: shape=(5,), dtype=int64, numpy=array([29, 19, 71, 42,  2])>,\n 'PhoneService': <tf.Tensor: shape=(5,), dtype=string, numpy=array([b'Yes', b'Yes', b'Yes', b'Yes', b'Yes'], dtype=object)>,\n 'MultipleLines': <tf.Tensor: shape=(5,), dtype=string, numpy=array([b'Yes', b'Yes', b'Yes', b'No', b'No'], dtype=object)>,\n 'InternetService': <tf.Tensor: shape=(5,), dtype=string, numpy=\n array([b'Fiber optic', b'Fiber optic', b'No', b'Fiber optic', b'DSL'],\n       dtype=object)>,\n 'OnlineSecurity': <tf.Tensor: shape=(5,), dtype=string, numpy=array([b'No', b'No', b'No internet service', b'No', b'No'], dtype=object)>,\n 'OnlineBackup': <tf.Tensor: shape=(5,), dtype=string, numpy=array([b'No', b'No', b'No internet service', b'No', b'No'], dtype=object)>,\n 'DeviceProtection': <tf.Tensor: shape=(5,), dtype=string, numpy=array([b'No', b'Yes', b'No internet service', b'No', b'No'], dtype=object)>,\n 'TechSupport': <tf.Tensor: shape=(5,), dtype=string, numpy=array([b'Yes', b'Yes', b'No internet service', b'No', b'No'], dtype=object)>,\n 'StreamingTV': <tf.Tensor: shape=(5,), dtype=string, numpy=array([b'No', b'Yes', b'No internet service', b'Yes', b'No'], dtype=object)>,\n 'StreamingMovies': <tf.Tensor: shape=(5,), dtype=string, numpy=array([b'No', b'Yes', b'No internet service', b'No', b'No'], dtype=object)>,\n 'Contract': <tf.Tensor: shape=(5,), dtype=string, numpy=\n array([b'Month-to-month', b'Month-to-month', b'Two year',\n        b'Month-to-month', b'Month-to-month'], dtype=object)>,\n 'PaperlessBilling': <tf.Tensor: shape=(5,), dtype=string, numpy=array([b'Yes', b'No', b'No', b'Yes', b'No'], dtype=object)>,\n 'PaymentMethod': <tf.Tensor: shape=(5,), dtype=string, numpy=\n array([b'Electronic check', b'Electronic check',\n        b'Bank transfer (automatic)', b'Credit card (automatic)',\n        b'Mailed check'], dtype=object)>,\n 'MonthlyCharges': <tf.Tensor: shape=(5,), dtype=float64, numpy=array([ 79.3 , 103.3 ,  24.7 ,  77.95,  45.85])>,\n 'TotalCharges': <tf.Tensor: shape=(5,), dtype=float64, numpy=array([2414.55, 2012.7 , 1810.55, 3384.  ,   81.  ])>}"
          },
          "execution_count": 11,
          "metadata": {},
          "output_type": "execute_result"
        }
      ],
      "source": [
        "# We will use this batch to demonstrate several types of feature columns\n",
        "example_batch = next(iter(train_ds))[0]\n",
        "example_batch # contain only x train, not include y train"
      ]
    },
    {
      "cell_type": "code",
      "execution_count": 12,
      "metadata": {
        "id": "tzv_sG0-8uvi"
      },
      "outputs": [],
      "source": [
        "# A utility method to create a feature column\n",
        "# and to transform a batch of data\n",
        "def demo(feature_column):\n",
        "  feature_layer = layers.DenseFeatures(feature_column)\n",
        "  print(feature_layer(example_batch).numpy())"
      ]
    },
    {
      "cell_type": "markdown",
      "metadata": {
        "id": "Q7OEKe82N-Qb"
      },
      "source": [
        "### Numeric columns\n",
        "The output of a feature column becomes the input to the model (using the demo function defined above, we will be able to see exactly how each column from the dataframe is transformed). A [numeric column](https://www.tensorflow.org/api_docs/python/tf/feature_column/numeric_column) is the simplest type of column. It is used to represent real valued features. When using this column, your model will receive the column value from the dataframe unchanged."
      ]
    },
    {
      "cell_type": "code",
      "execution_count": 13,
      "metadata": {
        "colab": {
          "base_uri": "https://localhost:8080/"
        },
        "id": "lLGbsv2CQlHg",
        "outputId": "3ed48046-4da6-497f-ed3d-75bb0eb92961"
      },
      "outputs": [
        {
          "data": {
            "text/plain": "<tf.Tensor: shape=(5,), dtype=float64, numpy=array([ 79.3 , 103.3 ,  24.7 ,  77.95,  45.85])>"
          },
          "execution_count": 13,
          "metadata": {},
          "output_type": "execute_result"
        }
      ],
      "source": [
        "example_batch['MonthlyCharges']"
      ]
    },
    {
      "cell_type": "code",
      "execution_count": 14,
      "metadata": {
        "colab": {
          "base_uri": "https://localhost:8080/"
        },
        "id": "QZTZ0HnHOCxC",
        "outputId": "f53ab2c5-3574-472f-84b7-79b333ee1a28"
      },
      "outputs": [
        {
          "data": {
            "text/plain": "NumericColumn(key='MonthlyCharges', shape=(1,), default_value=None, dtype=tf.float32, normalizer_fn=None)"
          },
          "execution_count": 14,
          "metadata": {},
          "output_type": "execute_result"
        }
      ],
      "source": [
        "MonthlyCharges = feature_column.numeric_column('MonthlyCharges') # feature column from tensorflow\n",
        "MonthlyCharges"
      ]
    },
    {
      "cell_type": "code",
      "execution_count": 15,
      "metadata": {
        "colab": {
          "base_uri": "https://localhost:8080/"
        },
        "id": "iBRXEWnJ09h-",
        "outputId": "5e0465fd-7524-43a6-d596-a011589dc06c"
      },
      "outputs": [
        {
          "name": "stdout",
          "output_type": "stream",
          "text": [
            "[[ 79.3 ]\n",
            " [103.3 ]\n",
            " [ 24.7 ]\n",
            " [ 77.95]\n",
            " [ 45.85]]\n"
          ]
        }
      ],
      "source": [
        "demo(MonthlyCharges) # show one sample from feature column"
      ]
    },
    {
      "cell_type": "markdown",
      "metadata": {
        "id": "IcSxUoYgOlA1"
      },
      "source": [
        "### Bucketized columns\n",
        "Often, you don't want to feed a number directly into the model, but instead split its value into different categories based on numerical ranges. Consider raw data that represents a person's age. Instead of representing age as a numeric column, we could split the age into several buckets using a [bucketized column](https://www.tensorflow.org/api_docs/python/tf/feature_column/bucketized_column). Notice the one-hot values below describe which age range each row matches."
      ]
    },
    {
      "cell_type": "code",
      "execution_count": 16,
      "metadata": {
        "colab": {
          "base_uri": "https://localhost:8080/"
        },
        "id": "vdtsbsPWQrZY",
        "outputId": "099ec6e5-7865-4448-9b1a-e727ee9d5014"
      },
      "outputs": [
        {
          "data": {
            "text/plain": "<tf.Tensor: shape=(5,), dtype=float64, numpy=array([ 79.3 , 103.3 ,  24.7 ,  77.95,  45.85])>"
          },
          "execution_count": 16,
          "metadata": {},
          "output_type": "execute_result"
        }
      ],
      "source": [
        "example_batch['MonthlyCharges']"
      ]
    },
    {
      "cell_type": "code",
      "execution_count": 17,
      "metadata": {
        "colab": {
          "base_uri": "https://localhost:8080/"
        },
        "id": "wJ4Wt3SAOpTQ",
        "outputId": "9cc0496a-6d8e-45f6-ddf6-4b34445bf6b4"
      },
      "outputs": [
        {
          "data": {
            "text/plain": "BucketizedColumn(source_column=NumericColumn(key='MonthlyCharges', shape=(1,), default_value=None, dtype=tf.float32, normalizer_fn=None), boundaries=(1, 50, 200))"
          },
          "execution_count": 17,
          "metadata": {},
          "output_type": "execute_result"
        }
      ],
      "source": [
        "MonthlyCharges = feature_column.numeric_column('MonthlyCharges')\n",
        "MonthlyCharges_buckets = feature_column.bucketized_column(MonthlyCharges, boundaries=[1, 50, 200])\n",
        "MonthlyCharges_buckets"
      ]
    },
    {
      "cell_type": "code",
      "execution_count": 18,
      "metadata": {
        "colab": {
          "base_uri": "https://localhost:8080/"
        },
        "id": "esYJf60H1L2N",
        "outputId": "979ffe5b-29e8-4971-cb2e-015e3cb6bad6"
      },
      "outputs": [
        {
          "name": "stdout",
          "output_type": "stream",
          "text": [
            "[[0. 0. 1. 0.]\n",
            " [0. 0. 1. 0.]\n",
            " [0. 1. 0. 0.]\n",
            " [0. 0. 1. 0.]\n",
            " [0. 1. 0. 0.]]\n"
          ]
        }
      ],
      "source": [
        "demo(MonthlyCharges_buckets)"
      ]
    },
    {
      "cell_type": "markdown",
      "metadata": {
        "id": "r1tArzewPb-b"
      },
      "source": [
        "### Categorical columns\n",
        "In this dataset, Type is represented as a string (e.g. 'Dog', or 'Cat'). We cannot feed strings directly to a model. Instead, we must first map them to numeric values. The categorical vocabulary columns provide a way to represent strings as a one-hot vector (much like you have seen above with age buckets). The vocabulary can be passed as a list using [categorical_column_with_vocabulary_list](https://www.tensorflow.org/api_docs/python/tf/feature_column/categorical_column_with_vocabulary_list), or loaded from a file using [categorical_column_with_vocabulary_file](https://www.tensorflow.org/api_docs/python/tf/feature_column/categorical_column_with_vocabulary_file)."
      ]
    },
    {
      "cell_type": "code",
      "execution_count": 19,
      "metadata": {
        "colab": {
          "base_uri": "https://localhost:8080/"
        },
        "id": "3zLQbvC8cyxn",
        "outputId": "f5dc2001-39d3-4ddb-d824-ae1a7320adb8"
      },
      "outputs": [
        {
          "data": {
            "text/plain": "<tf.Tensor: shape=(5,), dtype=string, numpy=array([b'Yes', b'Yes', b'Yes', b'Yes', b'Yes'], dtype=object)>"
          },
          "execution_count": 19,
          "metadata": {},
          "output_type": "execute_result"
        }
      ],
      "source": [
        "example_batch['PhoneService']"
      ]
    },
    {
      "cell_type": "code",
      "execution_count": 20,
      "metadata": {
        "colab": {
          "base_uri": "https://localhost:8080/"
        },
        "id": "DJ6QnSHkPtOC",
        "outputId": "6e4cce67-0de9-4ce3-d535-5fe560e4d6c0"
      },
      "outputs": [
        {
          "data": {
            "text/plain": "VocabularyListCategoricalColumn(key='PhoneService', vocabulary_list=('No', 'Yes'), dtype=tf.string, default_value=-1, num_oov_buckets=0)"
          },
          "execution_count": 20,
          "metadata": {},
          "output_type": "execute_result"
        }
      ],
      "source": [
        "PhoneService_type = feature_column.categorical_column_with_vocabulary_list(\n",
        "      'PhoneService', dataframe.PhoneService.unique())\n",
        "\n",
        "PhoneService_type"
      ]
    },
    {
      "cell_type": "code",
      "execution_count": 21,
      "metadata": {
        "colab": {
          "base_uri": "https://localhost:8080/"
        },
        "id": "TqFC0gSYfZWK",
        "outputId": "37d480a0-e1c0-4d23-b2f5-ea543002fb57"
      },
      "outputs": [
        {
          "name": "stdout",
          "output_type": "stream",
          "text": [
            "[[0. 1.]\n",
            " [0. 1.]\n",
            " [0. 1.]\n",
            " [0. 1.]\n",
            " [0. 1.]]\n"
          ]
        }
      ],
      "source": [
        "PhoneService_type_one_hot = feature_column.indicator_column(PhoneService_type)\n",
        "demo(PhoneService_type_one_hot)"
      ]
    },
    {
      "cell_type": "markdown",
      "metadata": {
        "id": "LEFPjUr6QmwS"
      },
      "source": [
        "### Embedding columns\n",
        "Suppose instead of having just a few possible strings, we have thousands (or more) values per category. For a number of reasons, as the number of categories grow large, it becomes infeasible to train a neural network using one-hot encodings. We can use an embedding column to overcome this limitation. Instead of representing the data as a one-hot vector of many dimensions, an [embedding column](https://www.tensorflow.org/api_docs/python/tf/feature_column/embedding_column) represents that data as a lower-dimensional, dense vector in which each cell can contain any number, not just 0 or 1. The size of the embedding (8, in the example below) is a parameter that must be tuned.\n",
        "\n",
        "Key point: using an embedding column is best when a categorical column has many possible values. We are using one here for demonstration purposes, so you have a complete example you can modify for a different dataset in the future."
      ]
    },
    {
      "cell_type": "code",
      "execution_count": 22,
      "metadata": {
        "colab": {
          "base_uri": "https://localhost:8080/"
        },
        "id": "hmJHfq6QeZeo",
        "outputId": "18e1b220-378f-4dbc-97ff-f209b6b7cdc0"
      },
      "outputs": [
        {
          "data": {
            "text/plain": "<tf.Tensor: shape=(5,), dtype=string, numpy=array([b'Yes', b'Yes', b'Yes', b'No', b'No'], dtype=object)>"
          },
          "execution_count": 22,
          "metadata": {},
          "output_type": "execute_result"
        }
      ],
      "source": [
        "example_batch['MultipleLines']"
      ]
    },
    {
      "cell_type": "code",
      "execution_count": 23,
      "metadata": {
        "colab": {
          "base_uri": "https://localhost:8080/"
        },
        "id": "hSlohmr2Q_UU",
        "outputId": "a86e43ce-bf73-44a8-9faa-37df9c0c24de"
      },
      "outputs": [
        {
          "name": "stdout",
          "output_type": "stream",
          "text": [
            "[[-0.16279511  0.09879851  0.21911593  0.7444544 ]\n",
            " [-0.16279511  0.09879851  0.21911593  0.7444544 ]\n",
            " [-0.16279511  0.09879851  0.21911593  0.7444544 ]\n",
            " [-0.8048785  -0.280345   -0.19256836  0.25964463]\n",
            " [-0.8048785  -0.280345   -0.19256836  0.25964463]]\n"
          ]
        }
      ],
      "source": [
        "# Notice the input to the embedding column is the categorical column\n",
        "# we previously created\n",
        "MultipleLines = feature_column.categorical_column_with_vocabulary_list(\n",
        "      'MultipleLines', dataframe.MultipleLines.unique())\n",
        "MultipleLines_embedding = feature_column.embedding_column(MultipleLines, dimension=4)\n",
        "demo(MultipleLines_embedding)"
      ]
    },
    {
      "cell_type": "markdown",
      "metadata": {
        "id": "urFCAvTVRMpB"
      },
      "source": [
        "### Hashed feature columns\n",
        "\n",
        "Another way to represent a categorical column with a large number of values is to use a [categorical_column_with_hash_bucket](https://www.tensorflow.org/api_docs/python/tf/feature_column/categorical_column_with_hash_bucket). This feature column calculates a hash value of the input, then selects one of the `hash_bucket_size` buckets to encode a string. When using this column, you do not need to provide the vocabulary, and you can choose to make the number of hash_buckets significantly smaller than the number of actual categories to save space.\n",
        "\n",
        "Key point: An important downside of this technique is that there may be collisions in which different strings are mapped to the same bucket. In practice, this can work well for some datasets regardless."
      ]
    },
    {
      "cell_type": "code",
      "execution_count": 24,
      "metadata": {
        "colab": {
          "base_uri": "https://localhost:8080/"
        },
        "id": "YHU_Aj2nRRDC",
        "outputId": "ecce7b6f-d517-435e-e0e5-260dc1060419"
      },
      "outputs": [
        {
          "name": "stdout",
          "output_type": "stream",
          "text": [
            "[[0. 0. 0. 0. 0. 0. 1. 0. 0. 0.]\n",
            " [0. 0. 0. 0. 0. 0. 1. 0. 0. 0.]\n",
            " [0. 0. 0. 0. 0. 0. 1. 0. 0. 0.]\n",
            " [0. 0. 1. 0. 0. 0. 0. 0. 0. 0.]\n",
            " [0. 0. 1. 0. 0. 0. 0. 0. 0. 0.]]\n"
          ]
        }
      ],
      "source": [
        "MultipleLines_hashed = feature_column.categorical_column_with_hash_bucket(\n",
        "      'MultipleLines', hash_bucket_size=10)\n",
        "demo(feature_column.indicator_column(MultipleLines_hashed))"
      ]
    },
    {
      "cell_type": "markdown",
      "metadata": {
        "id": "fB94M27DRXtZ"
      },
      "source": [
        "### Crossed feature columns\n",
        "Combining features into a single feature, better known as [feature crosses](https://developers.google.com/machine-learning/glossary/#feature_cross), enables a model to learn separate weights for each combination of features. Here, we will create a new feature that is the cross of Age and Type. Note that `crossed_column` does not build the full table of all possible combinations (which could be very large). Instead, it is backed by a `hashed_column`, so you can choose how large the table is."
      ]
    },
    {
      "cell_type": "code",
      "execution_count": 25,
      "metadata": {
        "colab": {
          "base_uri": "https://localhost:8080/"
        },
        "id": "BrtgnXPGAxy4",
        "outputId": "b1bcc99a-e2c5-44f6-818e-2059705d73ad"
      },
      "outputs": [
        {
          "name": "stdout",
          "output_type": "stream",
          "text": [
            "[[0. 0. 1. 0.]\n",
            " [0. 0. 1. 0.]\n",
            " [0. 1. 0. 0.]\n",
            " [0. 0. 1. 0.]\n",
            " [0. 1. 0. 0.]]\n"
          ]
        }
      ],
      "source": [
        "demo(MonthlyCharges_buckets)"
      ]
    },
    {
      "cell_type": "code",
      "execution_count": 26,
      "metadata": {
        "colab": {
          "base_uri": "https://localhost:8080/"
        },
        "id": "aUFBhpsiA2Q2",
        "outputId": "26ed3c8d-f430-458e-fc66-dd6dc55417fa"
      },
      "outputs": [
        {
          "name": "stdout",
          "output_type": "stream",
          "text": [
            "[[0. 1.]\n",
            " [0. 1.]\n",
            " [0. 1.]\n",
            " [0. 1.]\n",
            " [0. 1.]]\n"
          ]
        }
      ],
      "source": [
        "PhoneService_type_one_hot = feature_column.indicator_column(PhoneService_type)\n",
        "demo(PhoneService_type_one_hot)"
      ]
    },
    {
      "cell_type": "code",
      "execution_count": 27,
      "metadata": {
        "colab": {
          "base_uri": "https://localhost:8080/"
        },
        "id": "NLZt92oG_gQB",
        "outputId": "34448544-5a5e-42fa-b9b8-eb42e17dc4e9"
      },
      "outputs": [],
      "source": [
        "#crossed_feature = feature_column.crossed_column([MonthlyCharges_buckets, PhoneService_type], hash_bucket_size=10)\n",
        "#demo(feature_column.indicator_column(crossed_feature))"
      ]
    },
    {
      "cell_type": "markdown",
      "metadata": {
        "id": "ypkI9zx6Rj1q"
      },
      "source": [
        "## Choose which columns to use\n",
        "We have seen how to use several types of feature columns. Now we will use them to train a model. The goal of this tutorial is to show you the complete code (e.g. mechanics) needed to work with feature columns. We have selected a few columns to train our model below arbitrarily.\n",
        "\n",
        "Key point: If your aim is to build an accurate model, try a larger dataset of your own, and think carefully about which features are the most meaningful to include, and how they should be represented."
      ]
    },
    {
      "cell_type": "code",
      "execution_count": 28,
      "metadata": {
        "id": "47qNruPKMWON"
      },
      "outputs": [
        {
          "data": {
            "text/html": "<div>\n<style scoped>\n    .dataframe tbody tr th:only-of-type {\n        vertical-align: middle;\n    }\n\n    .dataframe tbody tr th {\n        vertical-align: top;\n    }\n\n    .dataframe thead th {\n        text-align: right;\n    }\n</style>\n<table border=\"1\" class=\"dataframe\">\n  <thead>\n    <tr style=\"text-align: right;\">\n      <th></th>\n      <th>gender</th>\n      <th>SeniorCitizen</th>\n      <th>Partner</th>\n      <th>Dependents</th>\n      <th>tenure</th>\n      <th>PhoneService</th>\n      <th>MultipleLines</th>\n      <th>InternetService</th>\n      <th>OnlineSecurity</th>\n      <th>OnlineBackup</th>\n      <th>DeviceProtection</th>\n      <th>TechSupport</th>\n      <th>StreamingTV</th>\n      <th>StreamingMovies</th>\n      <th>Contract</th>\n      <th>PaperlessBilling</th>\n      <th>PaymentMethod</th>\n      <th>MonthlyCharges</th>\n      <th>TotalCharges</th>\n    </tr>\n  </thead>\n  <tbody>\n    <tr>\n      <th>0</th>\n      <td>Female</td>\n      <td>0</td>\n      <td>Yes</td>\n      <td>No</td>\n      <td>1</td>\n      <td>No</td>\n      <td>No phone service</td>\n      <td>DSL</td>\n      <td>No</td>\n      <td>Yes</td>\n      <td>No</td>\n      <td>No</td>\n      <td>No</td>\n      <td>No</td>\n      <td>Month-to-month</td>\n      <td>Yes</td>\n      <td>Electronic check</td>\n      <td>29.85</td>\n      <td>29.85</td>\n    </tr>\n    <tr>\n      <th>1</th>\n      <td>Male</td>\n      <td>0</td>\n      <td>No</td>\n      <td>No</td>\n      <td>34</td>\n      <td>Yes</td>\n      <td>No</td>\n      <td>DSL</td>\n      <td>Yes</td>\n      <td>No</td>\n      <td>Yes</td>\n      <td>No</td>\n      <td>No</td>\n      <td>No</td>\n      <td>One year</td>\n      <td>No</td>\n      <td>Mailed check</td>\n      <td>56.95</td>\n      <td>1889.50</td>\n    </tr>\n    <tr>\n      <th>2</th>\n      <td>Male</td>\n      <td>0</td>\n      <td>No</td>\n      <td>No</td>\n      <td>2</td>\n      <td>Yes</td>\n      <td>No</td>\n      <td>DSL</td>\n      <td>Yes</td>\n      <td>Yes</td>\n      <td>No</td>\n      <td>No</td>\n      <td>No</td>\n      <td>No</td>\n      <td>Month-to-month</td>\n      <td>Yes</td>\n      <td>Mailed check</td>\n      <td>53.85</td>\n      <td>108.15</td>\n    </tr>\n    <tr>\n      <th>3</th>\n      <td>Male</td>\n      <td>0</td>\n      <td>No</td>\n      <td>No</td>\n      <td>45</td>\n      <td>No</td>\n      <td>No phone service</td>\n      <td>DSL</td>\n      <td>Yes</td>\n      <td>No</td>\n      <td>Yes</td>\n      <td>Yes</td>\n      <td>No</td>\n      <td>No</td>\n      <td>One year</td>\n      <td>No</td>\n      <td>Bank transfer (automatic)</td>\n      <td>42.30</td>\n      <td>1840.75</td>\n    </tr>\n    <tr>\n      <th>4</th>\n      <td>Female</td>\n      <td>0</td>\n      <td>No</td>\n      <td>No</td>\n      <td>2</td>\n      <td>Yes</td>\n      <td>No</td>\n      <td>Fiber optic</td>\n      <td>No</td>\n      <td>No</td>\n      <td>No</td>\n      <td>No</td>\n      <td>No</td>\n      <td>No</td>\n      <td>Month-to-month</td>\n      <td>Yes</td>\n      <td>Electronic check</td>\n      <td>70.70</td>\n      <td>151.65</td>\n    </tr>\n  </tbody>\n</table>\n</div>",
            "text/plain": "   gender  SeniorCitizen Partner Dependents  tenure PhoneService  \\\n0  Female              0     Yes         No       1           No   \n1    Male              0      No         No      34          Yes   \n2    Male              0      No         No       2          Yes   \n3    Male              0      No         No      45           No   \n4  Female              0      No         No       2          Yes   \n\n      MultipleLines InternetService OnlineSecurity OnlineBackup  \\\n0  No phone service             DSL             No          Yes   \n1                No             DSL            Yes           No   \n2                No             DSL            Yes          Yes   \n3  No phone service             DSL            Yes           No   \n4                No     Fiber optic             No           No   \n\n  DeviceProtection TechSupport StreamingTV StreamingMovies        Contract  \\\n0               No          No          No              No  Month-to-month   \n1              Yes          No          No              No        One year   \n2               No          No          No              No  Month-to-month   \n3              Yes         Yes          No              No        One year   \n4               No          No          No              No  Month-to-month   \n\n  PaperlessBilling              PaymentMethod  MonthlyCharges  TotalCharges  \n0              Yes           Electronic check           29.85         29.85  \n1               No               Mailed check           56.95       1889.50  \n2              Yes               Mailed check           53.85        108.15  \n3               No  Bank transfer (automatic)           42.30       1840.75  \n4              Yes           Electronic check           70.70        151.65  "
          },
          "execution_count": 28,
          "metadata": {},
          "output_type": "execute_result"
        }
      ],
      "source": [
        "#train.head()\n",
        "\n",
        "dataframe_remove_target = dataframe.iloc[:,:-1]\n",
        "dataframe_remove_target.head()"
      ]
    },
    {
      "cell_type": "code",
      "execution_count": 29,
      "metadata": {},
      "outputs": [],
      "source": [
        "numerical_column =list(dataframe_remove_target.select_dtypes('number').columns)"
      ]
    },
    {
      "cell_type": "code",
      "execution_count": 30,
      "metadata": {
        "id": "4PlLY7fORuzA"
      },
      "outputs": [],
      "source": [
        "feature_columns = []\n",
        "# numeric cols\n",
        "for header in numerical_column:\n",
        "  feature_columns.append(feature_column.numeric_column(header))"
      ]
    },
    {
      "cell_type": "code",
      "execution_count": 31,
      "metadata": {
        "id": "jdF4rXkcDmBl"
      },
      "outputs": [],
      "source": [
        "# bucketized cols (bin numeric column, suggest for monthly charge and total charge)\n",
        "#age = feature_column.numeric_column('Age')\n",
        "#age_buckets = feature_column.bucketized_column(age, boundaries=[1, 2, 3, 4, 5])\n",
        "#feature_columns.append(age_buckets)"
      ]
    },
    {
      "cell_type": "code",
      "execution_count": 32,
      "metadata": {
        "id": "RsteO7FGDmNc"
      },
      "outputs": [],
      "source": [
        "# indicator_columns (for category)\n",
        "categorical_column = list(dataframe_remove_target.select_dtypes('object').columns) # Remove target column\n",
        "for col_name in categorical_column:\n",
        "  categorical_column = feature_column.categorical_column_with_vocabulary_list( col_name, dataframe_remove_target[col_name].unique()) # Define One hot encoder\n",
        "  indicator_column = feature_column.indicator_column(categorical_column) # convert to one hot\n",
        "  feature_columns.append(indicator_column)"
      ]
    },
    {
      "cell_type": "code",
      "execution_count": 33,
      "metadata": {
        "id": "6MhdqQ5uDmYU"
      },
      "outputs": [],
      "source": [
        "# embedding columns (for category with a lot of unique item, not apply here)\n",
        "#breed1 = feature_column.categorical_column_with_vocabulary_list(\n",
        "#      'Breed1', dataframe.Breed1.unique())\n",
        "#breed1_embedding = feature_column.embedding_column(breed1, dimension=8)\n",
        "#feature_columns.append(breed1_embedding)"
      ]
    },
    {
      "cell_type": "code",
      "execution_count": 34,
      "metadata": {
        "id": "qkzRNfCLDsQf"
      },
      "outputs": [],
      "source": [
        "# crossed columns (no need here)\n",
        "#age_type_feature = feature_column.crossed_column([age_buckets, animal_type], #hash_bucket_size=100)\n",
        "#feature_columns.append(feature_column.indicator_column(age_type_feature))"
      ]
    },
    {
      "cell_type": "code",
      "execution_count": 35,
      "metadata": {
        "id": "pXkdgJhp8u2-"
      },
      "outputs": [
        {
          "data": {
            "text/plain": "[NumericColumn(key='SeniorCitizen', shape=(1,), default_value=None, dtype=tf.float32, normalizer_fn=None),\n NumericColumn(key='tenure', shape=(1,), default_value=None, dtype=tf.float32, normalizer_fn=None),\n NumericColumn(key='MonthlyCharges', shape=(1,), default_value=None, dtype=tf.float32, normalizer_fn=None),\n NumericColumn(key='TotalCharges', shape=(1,), default_value=None, dtype=tf.float32, normalizer_fn=None),\n IndicatorColumn(categorical_column=VocabularyListCategoricalColumn(key='gender', vocabulary_list=('Female', 'Male'), dtype=tf.string, default_value=-1, num_oov_buckets=0)),\n IndicatorColumn(categorical_column=VocabularyListCategoricalColumn(key='Partner', vocabulary_list=('Yes', 'No'), dtype=tf.string, default_value=-1, num_oov_buckets=0)),\n IndicatorColumn(categorical_column=VocabularyListCategoricalColumn(key='Dependents', vocabulary_list=('No', 'Yes'), dtype=tf.string, default_value=-1, num_oov_buckets=0)),\n IndicatorColumn(categorical_column=VocabularyListCategoricalColumn(key='PhoneService', vocabulary_list=('No', 'Yes'), dtype=tf.string, default_value=-1, num_oov_buckets=0)),\n IndicatorColumn(categorical_column=VocabularyListCategoricalColumn(key='MultipleLines', vocabulary_list=('No phone service', 'No', 'Yes'), dtype=tf.string, default_value=-1, num_oov_buckets=0)),\n IndicatorColumn(categorical_column=VocabularyListCategoricalColumn(key='InternetService', vocabulary_list=('DSL', 'Fiber optic', 'No'), dtype=tf.string, default_value=-1, num_oov_buckets=0)),\n IndicatorColumn(categorical_column=VocabularyListCategoricalColumn(key='OnlineSecurity', vocabulary_list=('No', 'Yes', 'No internet service'), dtype=tf.string, default_value=-1, num_oov_buckets=0)),\n IndicatorColumn(categorical_column=VocabularyListCategoricalColumn(key='OnlineBackup', vocabulary_list=('Yes', 'No', 'No internet service'), dtype=tf.string, default_value=-1, num_oov_buckets=0)),\n IndicatorColumn(categorical_column=VocabularyListCategoricalColumn(key='DeviceProtection', vocabulary_list=('No', 'Yes', 'No internet service'), dtype=tf.string, default_value=-1, num_oov_buckets=0)),\n IndicatorColumn(categorical_column=VocabularyListCategoricalColumn(key='TechSupport', vocabulary_list=('No', 'Yes', 'No internet service'), dtype=tf.string, default_value=-1, num_oov_buckets=0)),\n IndicatorColumn(categorical_column=VocabularyListCategoricalColumn(key='StreamingTV', vocabulary_list=('No', 'Yes', 'No internet service'), dtype=tf.string, default_value=-1, num_oov_buckets=0)),\n IndicatorColumn(categorical_column=VocabularyListCategoricalColumn(key='StreamingMovies', vocabulary_list=('No', 'Yes', 'No internet service'), dtype=tf.string, default_value=-1, num_oov_buckets=0)),\n IndicatorColumn(categorical_column=VocabularyListCategoricalColumn(key='Contract', vocabulary_list=('Month-to-month', 'One year', 'Two year'), dtype=tf.string, default_value=-1, num_oov_buckets=0)),\n IndicatorColumn(categorical_column=VocabularyListCategoricalColumn(key='PaperlessBilling', vocabulary_list=('Yes', 'No'), dtype=tf.string, default_value=-1, num_oov_buckets=0)),\n IndicatorColumn(categorical_column=VocabularyListCategoricalColumn(key='PaymentMethod', vocabulary_list=('Electronic check', 'Mailed check', 'Bank transfer (automatic)', 'Credit card (automatic)'), dtype=tf.string, default_value=-1, num_oov_buckets=0))]"
          },
          "execution_count": 35,
          "metadata": {},
          "output_type": "execute_result"
        }
      ],
      "source": [
        "feature_columns"
      ]
    },
    {
      "cell_type": "markdown",
      "metadata": {},
      "source": [
        "Now that we have defined our feature columns, we will use a DenseFeatures layer to input them to our Keras model."
      ]
    },
    {
      "cell_type": "code",
      "execution_count": 36,
      "metadata": {
        "id": "aCaU2A1ogcxn"
      },
      "outputs": [],
      "source": [
        "feature_layer = tf.keras.layers.DenseFeatures(feature_columns)"
      ]
    },
    {
      "cell_type": "markdown",
      "metadata": {},
      "source": [
        "Earlier, we used a small batch size to demonstrate how feature columns worked. We create a new input pipeline with a larger batch size."
      ]
    },
    {
      "cell_type": "code",
      "execution_count": 37,
      "metadata": {
        "id": "SwmAJZpvgc0d"
      },
      "outputs": [],
      "source": [
        "batch_size = 32\n",
        "train_ds = df_to_dataset(train, batch_size=batch_size)\n",
        "val_ds = df_to_dataset(val, shuffle=False, batch_size=batch_size)\n",
        "test_ds = df_to_dataset(test, shuffle=False, batch_size=batch_size)"
      ]
    },
    {
      "cell_type": "markdown",
      "metadata": {
        "id": "I_5-93-ygc3L"
      },
      "source": [
        "## Create, compile, and train the model"
      ]
    },
    {
      "cell_type": "code",
      "execution_count": 38,
      "metadata": {},
      "outputs": [
        {
          "data": {
            "text/plain": "gender               object\nSeniorCitizen         int64\nPartner              object\nDependents           object\ntenure                int64\nPhoneService         object\nMultipleLines        object\nInternetService      object\nOnlineSecurity       object\nOnlineBackup         object\nDeviceProtection     object\nTechSupport          object\nStreamingTV          object\nStreamingMovies      object\nContract             object\nPaperlessBilling     object\nPaymentMethod        object\nMonthlyCharges      float64\nTotalCharges        float64\ntarget                int64\ndtype: object"
          },
          "execution_count": 38,
          "metadata": {},
          "output_type": "execute_result"
        }
      ],
      "source": [
        "train.dtypes"
      ]
    },
    {
      "cell_type": "code",
      "execution_count": 78,
      "metadata": {
        "id": "H90DtIAXgc6D"
      },
      "outputs": [],
      "source": [
        "tf.keras.backend.set_floatx('float64') ## remove warning : Sequential model should only have a single input tensor, but we receive a <class 'dict'> \n",
        "METRICS = [\n",
        "    tf.keras.metrics.TruePositives(name='tp'),\n",
        "    tf.keras.metrics.FalsePositives(name='fp'),\n",
        "    tf.keras.metrics.TrueNegatives(name='tn'),\n",
        "    tf.keras.metrics.FalseNegatives(name='fn'), \n",
        "    tf.keras.metrics.BinaryAccuracy(name='accuracy'),\n",
        "    tf.keras.metrics.Precision(name='precision'),\n",
        "    tf.keras.metrics.Recall(name='recall'),\n",
        "    tf.keras.metrics.AUC(name='auc'),\n",
        "]\n",
        "model = tf.keras.Sequential([\n",
        "  feature_layer,\n",
        "  layers.Dense(128, activation='relu'),\n",
        "  layers.Dense(128, activation='relu'),\n",
        "  layers.Dropout(.1),\n",
        "  layers.Dense(1)\n",
        "])\n",
        "model.compile(optimizer='adam',\n",
        "              loss=tf.keras.losses.BinaryCrossentropy(from_logits=True),\n",
        "              #metrics=METRICS\n",
        "              metrics=['accuracy']\n",
        "              )"
      ]
    },
    {
      "cell_type": "code",
      "execution_count": 79,
      "metadata": {},
      "outputs": [
        {
          "name": "stdout",
          "output_type": "stream",
          "text": [
            "Epoch 1/10\n",
            "WARNING:tensorflow:Layers in a Sequential model should only have a single input tensor, but we receive a <class 'dict'> input: {'gender': <tf.Tensor 'ExpandDims_17:0' shape=(None, 1) dtype=string>, 'SeniorCitizen': <tf.Tensor 'ExpandDims_12:0' shape=(None, 1) dtype=int64>, 'Partner': <tf.Tensor 'ExpandDims_9:0' shape=(None, 1) dtype=string>, 'Dependents': <tf.Tensor 'ExpandDims_1:0' shape=(None, 1) dtype=string>, 'tenure': <tf.Tensor 'ExpandDims_18:0' shape=(None, 1) dtype=int64>, 'PhoneService': <tf.Tensor 'ExpandDims_11:0' shape=(None, 1) dtype=string>, 'MultipleLines': <tf.Tensor 'ExpandDims_5:0' shape=(None, 1) dtype=string>, 'InternetService': <tf.Tensor 'ExpandDims_3:0' shape=(None, 1) dtype=string>, 'OnlineSecurity': <tf.Tensor 'ExpandDims_7:0' shape=(None, 1) dtype=string>, 'OnlineBackup': <tf.Tensor 'ExpandDims_6:0' shape=(None, 1) dtype=string>, 'DeviceProtection': <tf.Tensor 'ExpandDims_2:0' shape=(None, 1) dtype=string>, 'TechSupport': <tf.Tensor 'ExpandDims_15:0' shape=(None, 1) dtype=string>, 'StreamingTV': <tf.Tensor 'ExpandDims_14:0' shape=(None, 1) dtype=string>, 'StreamingMovies': <tf.Tensor 'ExpandDims_13:0' shape=(None, 1) dtype=string>, 'Contract': <tf.Tensor 'ExpandDims:0' shape=(None, 1) dtype=string>, 'PaperlessBilling': <tf.Tensor 'ExpandDims_8:0' shape=(None, 1) dtype=string>, 'PaymentMethod': <tf.Tensor 'ExpandDims_10:0' shape=(None, 1) dtype=string>, 'MonthlyCharges': <tf.Tensor 'ExpandDims_4:0' shape=(None, 1) dtype=float64>, 'TotalCharges': <tf.Tensor 'ExpandDims_16:0' shape=(None, 1) dtype=float64>}\n",
            "Consider rewriting this model with the Functional API.\n",
            "WARNING:tensorflow:Layers in a Sequential model should only have a single input tensor, but we receive a <class 'dict'> input: {'gender': <tf.Tensor 'ExpandDims_17:0' shape=(None, 1) dtype=string>, 'SeniorCitizen': <tf.Tensor 'ExpandDims_12:0' shape=(None, 1) dtype=int64>, 'Partner': <tf.Tensor 'ExpandDims_9:0' shape=(None, 1) dtype=string>, 'Dependents': <tf.Tensor 'ExpandDims_1:0' shape=(None, 1) dtype=string>, 'tenure': <tf.Tensor 'ExpandDims_18:0' shape=(None, 1) dtype=int64>, 'PhoneService': <tf.Tensor 'ExpandDims_11:0' shape=(None, 1) dtype=string>, 'MultipleLines': <tf.Tensor 'ExpandDims_5:0' shape=(None, 1) dtype=string>, 'InternetService': <tf.Tensor 'ExpandDims_3:0' shape=(None, 1) dtype=string>, 'OnlineSecurity': <tf.Tensor 'ExpandDims_7:0' shape=(None, 1) dtype=string>, 'OnlineBackup': <tf.Tensor 'ExpandDims_6:0' shape=(None, 1) dtype=string>, 'DeviceProtection': <tf.Tensor 'ExpandDims_2:0' shape=(None, 1) dtype=string>, 'TechSupport': <tf.Tensor 'ExpandDims_15:0' shape=(None, 1) dtype=string>, 'StreamingTV': <tf.Tensor 'ExpandDims_14:0' shape=(None, 1) dtype=string>, 'StreamingMovies': <tf.Tensor 'ExpandDims_13:0' shape=(None, 1) dtype=string>, 'Contract': <tf.Tensor 'ExpandDims:0' shape=(None, 1) dtype=string>, 'PaperlessBilling': <tf.Tensor 'ExpandDims_8:0' shape=(None, 1) dtype=string>, 'PaymentMethod': <tf.Tensor 'ExpandDims_10:0' shape=(None, 1) dtype=string>, 'MonthlyCharges': <tf.Tensor 'ExpandDims_4:0' shape=(None, 1) dtype=float64>, 'TotalCharges': <tf.Tensor 'ExpandDims_16:0' shape=(None, 1) dtype=float64>}\n",
            "Consider rewriting this model with the Functional API.\n",
            "137/141 [============================>.] - ETA: 0s - loss: 30.7005 - accuracy: 0.6472WARNING:tensorflow:Layers in a Sequential model should only have a single input tensor, but we receive a <class 'dict'> input: {'gender': <tf.Tensor 'ExpandDims_17:0' shape=(None, 1) dtype=string>, 'SeniorCitizen': <tf.Tensor 'ExpandDims_12:0' shape=(None, 1) dtype=int64>, 'Partner': <tf.Tensor 'ExpandDims_9:0' shape=(None, 1) dtype=string>, 'Dependents': <tf.Tensor 'ExpandDims_1:0' shape=(None, 1) dtype=string>, 'tenure': <tf.Tensor 'ExpandDims_18:0' shape=(None, 1) dtype=int64>, 'PhoneService': <tf.Tensor 'ExpandDims_11:0' shape=(None, 1) dtype=string>, 'MultipleLines': <tf.Tensor 'ExpandDims_5:0' shape=(None, 1) dtype=string>, 'InternetService': <tf.Tensor 'ExpandDims_3:0' shape=(None, 1) dtype=string>, 'OnlineSecurity': <tf.Tensor 'ExpandDims_7:0' shape=(None, 1) dtype=string>, 'OnlineBackup': <tf.Tensor 'ExpandDims_6:0' shape=(None, 1) dtype=string>, 'DeviceProtection': <tf.Tensor 'ExpandDims_2:0' shape=(None, 1) dtype=string>, 'TechSupport': <tf.Tensor 'ExpandDims_15:0' shape=(None, 1) dtype=string>, 'StreamingTV': <tf.Tensor 'ExpandDims_14:0' shape=(None, 1) dtype=string>, 'StreamingMovies': <tf.Tensor 'ExpandDims_13:0' shape=(None, 1) dtype=string>, 'Contract': <tf.Tensor 'ExpandDims:0' shape=(None, 1) dtype=string>, 'PaperlessBilling': <tf.Tensor 'ExpandDims_8:0' shape=(None, 1) dtype=string>, 'PaymentMethod': <tf.Tensor 'ExpandDims_10:0' shape=(None, 1) dtype=string>, 'MonthlyCharges': <tf.Tensor 'ExpandDims_4:0' shape=(None, 1) dtype=float64>, 'TotalCharges': <tf.Tensor 'ExpandDims_16:0' shape=(None, 1) dtype=float64>}\n",
            "Consider rewriting this model with the Functional API.\n",
            "141/141 [==============================] - 1s 4ms/step - loss: 30.2768 - accuracy: 0.6481 - val_loss: 5.8086 - val_accuracy: 0.7609\n",
            "Epoch 2/10\n",
            "141/141 [==============================] - 0s 2ms/step - loss: 7.5690 - accuracy: 0.7131 - val_loss: 1.7792 - val_accuracy: 0.4827\n",
            "Epoch 3/10\n",
            "141/141 [==============================] - 0s 2ms/step - loss: 2.9040 - accuracy: 0.7233 - val_loss: 0.6429 - val_accuracy: 0.7689\n",
            "Epoch 4/10\n",
            "141/141 [==============================] - 0s 2ms/step - loss: 0.5699 - accuracy: 0.7616 - val_loss: 0.5000 - val_accuracy: 0.7698\n",
            "Epoch 5/10\n",
            "141/141 [==============================] - 0s 2ms/step - loss: 0.4818 - accuracy: 0.7888 - val_loss: 0.4521 - val_accuracy: 0.7716\n",
            "Epoch 6/10\n",
            "141/141 [==============================] - 0s 2ms/step - loss: 0.4791 - accuracy: 0.7746 - val_loss: 0.4660 - val_accuracy: 0.7760\n",
            "Epoch 7/10\n",
            "141/141 [==============================] - 0s 2ms/step - loss: 0.4766 - accuracy: 0.7819 - val_loss: 0.4738 - val_accuracy: 0.7769\n",
            "Epoch 8/10\n",
            "141/141 [==============================] - 0s 2ms/step - loss: 0.4677 - accuracy: 0.7741 - val_loss: 0.4539 - val_accuracy: 0.7804\n",
            "Epoch 9/10\n",
            "141/141 [==============================] - 0s 3ms/step - loss: 0.4797 - accuracy: 0.7796 - val_loss: 0.4890 - val_accuracy: 0.7733\n",
            "Epoch 10/10\n",
            "141/141 [==============================] - 0s 2ms/step - loss: 0.4736 - accuracy: 0.7756 - val_loss: 0.4696 - val_accuracy: 0.7778\n"
          ]
        },
        {
          "data": {
            "text/plain": "<tensorflow.python.keras.callbacks.History at 0x7f803c12c2b0>"
          },
          "execution_count": 79,
          "metadata": {},
          "output_type": "execute_result"
        }
      ],
      "source": [
        "\n",
        "model.fit(train_ds,\n",
        "          validation_data=val_ds,\n",
        "          epochs=10)"
      ]
    },
    {
      "cell_type": "code",
      "execution_count": 91,
      "metadata": {},
      "outputs": [
        {
          "ename": "TypeError",
          "evalue": "'History' object is not subscriptable",
          "output_type": "error",
          "traceback": [
            "\u001b[0;31m---------------------------------------------------------------------------\u001b[0m",
            "\u001b[0;31mTypeError\u001b[0m                                 Traceback (most recent call last)",
            "\u001b[0;32m<ipython-input-91-9dbb4d09463f>\u001b[0m in \u001b[0;36m<module>\u001b[0;34m\u001b[0m\n\u001b[0;32m----> 1\u001b[0;31m \u001b[0mmodel\u001b[0m\u001b[0;34m.\u001b[0m\u001b[0mhistory\u001b[0m\u001b[0;34m[\u001b[0m\u001b[0;34m\"loss\"\u001b[0m\u001b[0;34m]\u001b[0m\u001b[0;34m\u001b[0m\u001b[0;34m\u001b[0m\u001b[0m\n\u001b[0m",
            "\u001b[0;31mTypeError\u001b[0m: 'History' object is not subscriptable"
          ]
        }
      ],
      "source": [
        "model.history[\"loss\"]"
      ]
    },
    {
      "cell_type": "code",
      "execution_count": 88,
      "metadata": {},
      "outputs": [],
      "source": [
        "import matplotlib.pyplot as plt\n",
        "def plot_loss_accuracy(model):\n",
        "  # plot training error and test error\n",
        "  fig,(ax1,ax2)=plt.subplots(1,2)\n",
        "  ax1.plot(model.history['loss'],label='train loss')\n",
        "  ax1.plot(model.history['val_loss'],label='validation loss')\n",
        "  ax2.plot(model.history['accuracy'],label='train accuracy')\n",
        "  ax2.plot(model.history['val_accuracy'],label='validation accuracy')\n",
        "\n",
        "  ax1.set(xlabel='epoch', ylabel='loss')\n",
        "  ax1.legend()\n",
        "\n",
        "  ax2.set(xlabel='epoch', ylabel='accuracy')\n",
        "  ax2.set_ylim([0, 1])\n",
        "  ax2.legend()\n",
        "  plt.tight_layout()\n",
        "  #plt.legend(['train loss', 'validation loss','train_accuracy','val_accuracy'], loc='lower right')\n",
        "\n"
      ]
    },
    {
      "cell_type": "code",
      "execution_count": 89,
      "metadata": {},
      "outputs": [
        {
          "ename": "TypeError",
          "evalue": "'History' object is not subscriptable",
          "output_type": "error",
          "traceback": [
            "\u001b[0;31m---------------------------------------------------------------------------\u001b[0m",
            "\u001b[0;31mTypeError\u001b[0m                                 Traceback (most recent call last)",
            "\u001b[0;32m<ipython-input-89-93c75e2fb9f6>\u001b[0m in \u001b[0;36m<module>\u001b[0;34m\u001b[0m\n\u001b[0;32m----> 1\u001b[0;31m \u001b[0mplot_loss_accuracy\u001b[0m\u001b[0;34m(\u001b[0m\u001b[0mmodel\u001b[0m\u001b[0;34m)\u001b[0m\u001b[0;34m\u001b[0m\u001b[0;34m\u001b[0m\u001b[0m\n\u001b[0m",
            "\u001b[0;32m<ipython-input-88-ddfe8c863d48>\u001b[0m in \u001b[0;36mplot_loss_accuracy\u001b[0;34m(model)\u001b[0m\n\u001b[1;32m      3\u001b[0m   \u001b[0;31m# plot training error and test error\u001b[0m\u001b[0;34m\u001b[0m\u001b[0;34m\u001b[0m\u001b[0;34m\u001b[0m\u001b[0m\n\u001b[1;32m      4\u001b[0m   \u001b[0mfig\u001b[0m\u001b[0;34m,\u001b[0m\u001b[0;34m(\u001b[0m\u001b[0max1\u001b[0m\u001b[0;34m,\u001b[0m\u001b[0max2\u001b[0m\u001b[0;34m)\u001b[0m\u001b[0;34m=\u001b[0m\u001b[0mplt\u001b[0m\u001b[0;34m.\u001b[0m\u001b[0msubplots\u001b[0m\u001b[0;34m(\u001b[0m\u001b[0;36m1\u001b[0m\u001b[0;34m,\u001b[0m\u001b[0;36m2\u001b[0m\u001b[0;34m)\u001b[0m\u001b[0;34m\u001b[0m\u001b[0;34m\u001b[0m\u001b[0m\n\u001b[0;32m----> 5\u001b[0;31m   \u001b[0max1\u001b[0m\u001b[0;34m.\u001b[0m\u001b[0mplot\u001b[0m\u001b[0;34m(\u001b[0m\u001b[0mmodel\u001b[0m\u001b[0;34m.\u001b[0m\u001b[0mhistory\u001b[0m\u001b[0;34m[\u001b[0m\u001b[0;34m'loss'\u001b[0m\u001b[0;34m]\u001b[0m\u001b[0;34m,\u001b[0m\u001b[0mlabel\u001b[0m\u001b[0;34m=\u001b[0m\u001b[0;34m'train loss'\u001b[0m\u001b[0;34m)\u001b[0m\u001b[0;34m\u001b[0m\u001b[0;34m\u001b[0m\u001b[0m\n\u001b[0m\u001b[1;32m      6\u001b[0m   \u001b[0max1\u001b[0m\u001b[0;34m.\u001b[0m\u001b[0mplot\u001b[0m\u001b[0;34m(\u001b[0m\u001b[0mmodel\u001b[0m\u001b[0;34m.\u001b[0m\u001b[0mhistory\u001b[0m\u001b[0;34m[\u001b[0m\u001b[0;34m'val_loss'\u001b[0m\u001b[0;34m]\u001b[0m\u001b[0;34m,\u001b[0m\u001b[0mlabel\u001b[0m\u001b[0;34m=\u001b[0m\u001b[0;34m'validation loss'\u001b[0m\u001b[0;34m)\u001b[0m\u001b[0;34m\u001b[0m\u001b[0;34m\u001b[0m\u001b[0m\n\u001b[1;32m      7\u001b[0m   \u001b[0max2\u001b[0m\u001b[0;34m.\u001b[0m\u001b[0mplot\u001b[0m\u001b[0;34m(\u001b[0m\u001b[0mmodel\u001b[0m\u001b[0;34m.\u001b[0m\u001b[0mhistory\u001b[0m\u001b[0;34m[\u001b[0m\u001b[0;34m'accuracy'\u001b[0m\u001b[0;34m]\u001b[0m\u001b[0;34m,\u001b[0m\u001b[0mlabel\u001b[0m\u001b[0;34m=\u001b[0m\u001b[0;34m'train accuracy'\u001b[0m\u001b[0;34m)\u001b[0m\u001b[0;34m\u001b[0m\u001b[0;34m\u001b[0m\u001b[0m\n",
            "\u001b[0;31mTypeError\u001b[0m: 'History' object is not subscriptable"
          ]
        },
        {
          "data": {
            "image/png": "[encoded data removed]",
            "text/plain": "<Figure size 432x288 with 2 Axes>"
          },
          "metadata": {
            "needs_background": "light"
          },
          "output_type": "display_data"
        }
      ],
      "source": [
        "plot_loss_accuracy(model)"
      ]
    },
    {
      "cell_type": "code",
      "execution_count": 62,
      "metadata": {},
      "outputs": [
        {
          "name": "stdout",
          "output_type": "stream",
          "text": [
            "44/44 [==============================] - 0s 1ms/step - loss: 0.4503 - accuracy: 0.7747\n",
            "Accuracy 0.7746979388770433\n"
          ]
        }
      ],
      "source": [
        "loss, accuracy = model.evaluate(test_ds)\n",
        "print(\"Accuracy\", accuracy)"
      ]
    },
    {
      "cell_type": "code",
      "execution_count": 68,
      "metadata": {},
      "outputs": [
        {
          "data": {
            "text/plain": "<BatchDataset shapes: ({gender: (None,), SeniorCitizen: (None,), Partner: (None,), Dependents: (None,), tenure: (None,), PhoneService: (None,), MultipleLines: (None,), InternetService: (None,), OnlineSecurity: (None,), OnlineBackup: (None,), DeviceProtection: (None,), TechSupport: (None,), StreamingTV: (None,), StreamingMovies: (None,), Contract: (None,), PaperlessBilling: (None,), PaymentMethod: (None,), MonthlyCharges: (None,), TotalCharges: (None,)}, (None,)), types: ({gender: tf.string, SeniorCitizen: tf.int64, Partner: tf.string, Dependents: tf.string, tenure: tf.int64, PhoneService: tf.string, MultipleLines: tf.string, InternetService: tf.string, OnlineSecurity: tf.string, OnlineBackup: tf.string, DeviceProtection: tf.string, TechSupport: tf.string, StreamingTV: tf.string, StreamingMovies: tf.string, Contract: tf.string, PaperlessBilling: tf.string, PaymentMethod: tf.string, MonthlyCharges: tf.float64, TotalCharges: tf.float64}, tf.int64)>"
          },
          "execution_count": 68,
          "metadata": {},
          "output_type": "execute_result"
        }
      ],
      "source": [
        "test_ds"
      ]
    },
    {
      "cell_type": "code",
      "execution_count": 65,
      "metadata": {},
      "outputs": [
        {
          "data": {
            "text/plain": "array([0, 0, 0, ..., 0, 0, 0])"
          },
          "execution_count": 65,
          "metadata": {},
          "output_type": "execute_result"
        }
      ],
      "source": [
        "y_pred=np.argmax(model.predict(test_ds), axis=-1)\n",
        "y_pred"
      ]
    },
    {
      "cell_type": "code",
      "execution_count": 64,
      "metadata": {},
      "outputs": [
        {
          "ename": "NameError",
          "evalue": "name 'X_test' is not defined",
          "output_type": "error",
          "traceback": [
            "\u001b[0;31m---------------------------------------------------------------------------\u001b[0m",
            "\u001b[0;31mNameError\u001b[0m                                 Traceback (most recent call last)",
            "\u001b[0;32m<ipython-input-64-7a7332bf2ec7>\u001b[0m in \u001b[0;36m<module>\u001b[0;34m\u001b[0m\n\u001b[0;32m----> 1\u001b[0;31m \u001b[0my_pred\u001b[0m\u001b[0;34m=\u001b[0m\u001b[0mmodel\u001b[0m\u001b[0;34m.\u001b[0m\u001b[0mpredict\u001b[0m\u001b[0;34m(\u001b[0m\u001b[0mX_test\u001b[0m\u001b[0;34m)\u001b[0m\u001b[0;34m\u001b[0m\u001b[0;34m\u001b[0m\u001b[0m\n\u001b[0m\u001b[1;32m      2\u001b[0m \u001b[0my_pred_probs\u001b[0m\u001b[0;34m=\u001b[0m\u001b[0mmodel\u001b[0m\u001b[0;34m.\u001b[0m\u001b[0mpredict_proba\u001b[0m\u001b[0;34m(\u001b[0m\u001b[0mX_test\u001b[0m\u001b[0;34m)\u001b[0m\u001b[0;34m\u001b[0m\u001b[0;34m\u001b[0m\u001b[0m\n\u001b[1;32m      3\u001b[0m \u001b[0mprint\u001b[0m\u001b[0;34m(\u001b[0m\u001b[0mmetrics\u001b[0m\u001b[0;34m.\u001b[0m\u001b[0mconfusion_matrix\u001b[0m\u001b[0;34m(\u001b[0m\u001b[0my_test\u001b[0m\u001b[0;34m,\u001b[0m\u001b[0my_pred\u001b[0m\u001b[0;34m)\u001b[0m\u001b[0;34m)\u001b[0m\u001b[0;34m\u001b[0m\u001b[0;34m\u001b[0m\u001b[0m\n\u001b[1;32m      4\u001b[0m \u001b[0mprint\u001b[0m\u001b[0;34m(\u001b[0m\u001b[0;34m'Balanced Accuracy score:'\u001b[0m\u001b[0;34m,\u001b[0m\u001b[0mmetrics\u001b[0m\u001b[0;34m.\u001b[0m\u001b[0mbalanced_accuracy_score\u001b[0m\u001b[0;34m(\u001b[0m\u001b[0my_test\u001b[0m\u001b[0;34m,\u001b[0m\u001b[0my_pred\u001b[0m\u001b[0;34m)\u001b[0m\u001b[0;34m)\u001b[0m\u001b[0;34m\u001b[0m\u001b[0;34m\u001b[0m\u001b[0m\n\u001b[1;32m      5\u001b[0m \u001b[0mprint\u001b[0m\u001b[0;34m(\u001b[0m\u001b[0;34m'f1 macro score:'\u001b[0m\u001b[0;34m,\u001b[0m\u001b[0mmetrics\u001b[0m\u001b[0;34m.\u001b[0m\u001b[0mf1_score\u001b[0m\u001b[0;34m(\u001b[0m\u001b[0my_test\u001b[0m\u001b[0;34m,\u001b[0m\u001b[0my_pred\u001b[0m\u001b[0;34m,\u001b[0m\u001b[0maverage\u001b[0m\u001b[0;34m=\u001b[0m\u001b[0;34m\"macro\"\u001b[0m\u001b[0;34m)\u001b[0m\u001b[0;34m)\u001b[0m \u001b[0;31m# good for imbalance dataset\u001b[0m\u001b[0;34m\u001b[0m\u001b[0;34m\u001b[0m\u001b[0m\n",
            "\u001b[0;31mNameError\u001b[0m: name 'X_test' is not defined"
          ]
        }
      ],
      "source": [
        "y_pred=model.predict(X_test)\n",
        "y_pred_probs=model.predict_proba(X_test)\n",
        "print(metrics.confusion_matrix(y_test,y_pred))\n",
        "print('Balanced Accuracy score:',metrics.balanced_accuracy_score(y_test,y_pred))\n",
        "print('f1 macro score:',metrics.f1_score(y_test,y_pred,average=\"macro\")) # good for imbalance dataset\n",
        "print('precision macro score:',metrics.precision_score(y_test,y_pred,average=\"macro\"))\n",
        "print('recall macro score:',metrics.recall_score(y_test,y_pred,average=\"macro\"))\n",
        "#fpr, tpr, thresholds = metrics.roc_curve(y_test, y_pred_probs[:,1],pos_label='Yes') # convert label to yes/no\n",
        "fpr, tpr, thresholds = metrics.roc_curve(y_test, y_pred_probs[:,1])\n",
        "print(\"AUC:\",metrics.auc(fpr, tpr))\n",
        "print(\"MCC:\",metrics.matthews_corrcoef(y_test,y_pred))\n",
        "print(classification_report(y_test,y_pred))"
      ]
    },
    {
      "cell_type": "code",
      "execution_count": null,
      "metadata": {},
      "outputs": [
        {
          "name": "stdout",
          "output_type": "stream",
          "text": [
            "Model: \"sequential\"\n",
            "_________________________________________________________________\n",
            "Layer (type)                 Output Shape              Param #   \n",
            "=================================================================\n",
            "dense_features_7 (DenseFeatu multiple                  0         \n",
            "_________________________________________________________________\n",
            "dense (Dense)                multiple                  5888      \n",
            "_________________________________________________________________\n",
            "dense_1 (Dense)              multiple                  16512     \n",
            "_________________________________________________________________\n",
            "dropout (Dropout)            multiple                  0         \n",
            "_________________________________________________________________\n",
            "dense_2 (Dense)              multiple                  129       \n",
            "=================================================================\n",
            "Total params: 22,529\n",
            "Trainable params: 22,529\n",
            "Non-trainable params: 0\n",
            "_________________________________________________________________\n"
          ]
        }
      ],
      "source": [
        "model.summary()"
      ]
    },
    {
      "cell_type": "markdown",
      "metadata": {},
      "source": [
        "Key point: You will typically see best results with deep learning with much larger and more complex datasets. When working with a small dataset like this one, we recommend using a decision tree or random forest as a strong baseline. The goal of this tutorial is not to train an accurate model, but to demonstrate the mechanics of working with structured data, so you have code to use as a starting point when working with your own datasets in the future."
      ]
    },
    {
      "cell_type": "code",
      "execution_count": null,
      "metadata": {},
      "outputs": [],
      "source": []
    }
  ],
  "metadata": {
    "colab": {
      "name": "Churn_TF.ipynb",
      "provenance": []
    },
    "kernelspec": {
      "display_name": "Python 3.8.5 64-bit ('base': conda)",
      "name": "python385jvsc74a57bd039723e74d68c9469e77c383b70f9660a5053b434bb0be10ee9e67cd8d9f188d6"
    },
    "language_info": {
      "codemirror_mode": {
        "name": "ipython",
        "version": 3
      },
      "file_extension": ".py",
      "mimetype": "text/x-python",
      "name": "python",
      "nbconvert_exporter": "python",
      "pygments_lexer": "ipython3",
      "version": "3.8.5"
    },
    "orig_nbformat": 2
  },
  "nbformat": 4,
  "nbformat_minor": 0
}