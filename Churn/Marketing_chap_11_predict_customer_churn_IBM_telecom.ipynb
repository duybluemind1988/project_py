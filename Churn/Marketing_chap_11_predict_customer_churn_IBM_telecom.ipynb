{
  "nbformat": 4,
  "nbformat_minor": 0,
  "metadata": {
    "colab": {
      "name": "Marketing chap 11 predict customer churn IBM telecom.ipynb",
      "provenance": [],
      "collapsed_sections": [],
      "toc_visible": true,
      "authorship_tag": "ABX9TyNU3FMYUV6YBi4GOabRibI0",
      "include_colab_link": true
    },
    "kernelspec": {
      "name": "python3",
      "display_name": "Python 3"
    }
  },
  "cells": [
    {
      "cell_type": "markdown",
      "metadata": {
        "id": "view-in-github",
        "colab_type": "text"
      },
      "source": [
        "<a href=\"https://colab.research.google.com/github/duybluemind1988/Data-science/blob/master/Marketing_chap_11_predict_customer_churn_IBM_telecom.ipynb\" target=\"_parent\"><img src=\"https://colab.research.google.com/assets/colab-badge.svg\" alt=\"Open In Colab\"/></a>"
      ]
    },
    {
      "cell_type": "code",
      "metadata": {
        "id": "juilYtTPgBpA",
        "colab_type": "code",
        "colab": {
          "base_uri": "https://localhost:8080/",
          "height": 68
        },
        "outputId": "f1173e0b-8495-4cb7-fe7a-457d739b359b"
      },
      "source": [
        "# Load basic library\n",
        "import numpy as np\n",
        "import matplotlib.pyplot as plt\n",
        "import pandas as pd\n",
        "from tensorflow import random\n",
        "import tensorflow as tf\n",
        "from tensorflow import keras\n",
        "\n",
        "# Load Keras\n",
        "from keras.datasets import imdb\n",
        "from keras.preprocessing.text import Tokenizer\n",
        "from keras import models\n",
        "from keras import layers\n",
        "from keras.models import Sequential\n",
        "from keras.layers import Dense\n",
        "from keras import regularizers\n",
        "from keras.callbacks import EarlyStopping, ModelCheckpoint\n",
        "from keras.wrappers.scikit_learn import KerasClassifier\n",
        "from keras.regularizers import l1\n",
        "from keras.regularizers import l2\n",
        "from keras.regularizers import l1_l2\n",
        "from keras.layers import Dropout\n",
        "\n",
        "#Load sklearn\n",
        "from sklearn.preprocessing import StandardScaler\n",
        "from sklearn.preprocessing import OneHotEncoder\n",
        "from sklearn.model_selection import train_test_split\n",
        "from sklearn.model_selection import KFold\n",
        "from sklearn.model_selection import StratifiedKFold\n",
        "from sklearn.model_selection import cross_val_score\n",
        "from sklearn.model_selection import cross_validate\n",
        "from sklearn.model_selection import RandomizedSearchCV\n",
        "from sklearn.model_selection import GridSearchCV\n",
        "from sklearn.pipeline import Pipeline\n",
        "from sklearn.compose import ColumnTransformer\n",
        "from sklearn.utils import shuffle\n",
        "\n",
        "from sklearn.metrics import log_loss \n",
        "from sklearn.metrics import classification_report\n",
        "from sklearn.metrics import confusion_matrix\n",
        "from sklearn.metrics import accuracy_score\n",
        "from sklearn.metrics import recall_score, precision_score\n",
        "from sklearn.metrics import make_scorer\n",
        "from sklearn.metrics import roc_curve, auc\n",
        "from sklearn.metrics import precision_recall_curve\n",
        "from sklearn.metrics import f1_score,balanced_accuracy_score\n",
        "from sklearn.metrics import average_precision_score \n",
        "\n",
        "from sklearn.pipeline import Pipeline\n",
        "from sklearn.decomposition import PCA, NMF\n",
        "\n",
        "#ML normal ML\n",
        "from sklearn.linear_model import LogisticRegression\n",
        "from sklearn.tree import DecisionTreeClassifier\n",
        "from sklearn.neighbors import KNeighborsClassifier\n",
        "from sklearn.discriminant_analysis import LinearDiscriminantAnalysis\n",
        "from sklearn.naive_bayes import GaussianNB\n",
        "from sklearn.svm import SVC\n",
        "\n",
        "#ML ensembles\n",
        "from sklearn.ensemble import AdaBoostClassifier\n",
        "from sklearn.ensemble import GradientBoostingClassifier\n",
        "from sklearn.ensemble import RandomForestClassifier\n",
        "from sklearn.ensemble import ExtraTreesClassifier\n",
        "from sklearn.ensemble import BaggingClassifier\n",
        "from sklearn.ensemble import VotingClassifier\n",
        "from sklearn.ensemble import StackingClassifier\n",
        "\n",
        "#Special\n",
        "import xgboost as xgb\n",
        "from xgboost import XGBClassifier\n",
        "import lightgbm as lgb\n",
        "from lightgbm import LGBMClassifier\n",
        "\n",
        "#Load visual neural:\n",
        "from IPython.display import SVG\n",
        "from keras.utils.vis_utils import model_to_dot\n",
        "from keras.utils import plot_model\n",
        "# import require packages for plotting\n",
        "import matplotlib.pyplot as plt \n",
        "import seaborn as sns\n",
        "sns.set()\n",
        "%matplotlib inline \n"
      ],
      "execution_count": 1,
      "outputs": [
        {
          "output_type": "stream",
          "text": [
            "Using TensorFlow backend.\n",
            "/usr/local/lib/python3.6/dist-packages/statsmodels/tools/_testing.py:19: FutureWarning: pandas.util.testing is deprecated. Use the functions in the public API at pandas.testing instead.\n",
            "  import pandas.util.testing as tm\n"
          ],
          "name": "stderr"
        }
      ]
    },
    {
      "cell_type": "markdown",
      "metadata": {
        "id": "P6XC8gmthGCG",
        "colab_type": "text"
      },
      "source": [
        "As customers have more options for similar content to consume or similar products and\n",
        "services to shop for, it has become more difficult for many businesses to retain their\n",
        "customers and not lose them to other competitors. As the cost of acquiring new customers\n",
        "is typically higher than that of retaining and keeping existing customers, customer churn is\n",
        "becoming more and more of a concern than ever before. In order to retain existing\n",
        "customers and not lose them to competitors, businesses should not only try to understand\n",
        "their customers and their customers' needs and interests, but they should also be able to\n",
        "identify which customers are highly likely to churn and how to retain these customers at\n",
        "churn risk.\n",
        "\n",
        "In this chapter, we are going to dive deeper into customer churn and how it hurts\n",
        "businesses, as well as how to retain existing customers. We will discuss some of the\n",
        "common reasons for customers leaving businesses and look at how data science can help\n",
        "reduce the risk of losing customers. As a way of predicting customer churn, we will learn\n",
        "about what an artificial neural network model is and its applications in different areas, as\n",
        "well as how we can build one using Python and "
      ]
    },
    {
      "cell_type": "code",
      "metadata": {
        "id": "UlkJp69Cg0Zs",
        "colab_type": "code",
        "colab": {
          "base_uri": "https://localhost:8080/",
          "height": 309
        },
        "outputId": "9ae3bc05-c305-46c7-ea70-8e60908142f8"
      },
      "source": [
        "path='https://raw.githubusercontent.com/rstudio/keras-customer-churn/master/data/WA_Fn-UseC_-Telco-Customer-Churn.csv'\n",
        "df=pd.read_csv(path)\n",
        "df.head()"
      ],
      "execution_count": 2,
      "outputs": [
        {
          "output_type": "execute_result",
          "data": {
            "text/html": [
              "<div>\n",
              "<style scoped>\n",
              "    .dataframe tbody tr th:only-of-type {\n",
              "        vertical-align: middle;\n",
              "    }\n",
              "\n",
              "    .dataframe tbody tr th {\n",
              "        vertical-align: top;\n",
              "    }\n",
              "\n",
              "    .dataframe thead th {\n",
              "        text-align: right;\n",
              "    }\n",
              "</style>\n",
              "<table border=\"1\" class=\"dataframe\">\n",
              "  <thead>\n",
              "    <tr style=\"text-align: right;\">\n",
              "      <th></th>\n",
              "      <th>customerID</th>\n",
              "      <th>gender</th>\n",
              "      <th>SeniorCitizen</th>\n",
              "      <th>Partner</th>\n",
              "      <th>Dependents</th>\n",
              "      <th>tenure</th>\n",
              "      <th>PhoneService</th>\n",
              "      <th>MultipleLines</th>\n",
              "      <th>InternetService</th>\n",
              "      <th>OnlineSecurity</th>\n",
              "      <th>OnlineBackup</th>\n",
              "      <th>DeviceProtection</th>\n",
              "      <th>TechSupport</th>\n",
              "      <th>StreamingTV</th>\n",
              "      <th>StreamingMovies</th>\n",
              "      <th>Contract</th>\n",
              "      <th>PaperlessBilling</th>\n",
              "      <th>PaymentMethod</th>\n",
              "      <th>MonthlyCharges</th>\n",
              "      <th>TotalCharges</th>\n",
              "      <th>Churn</th>\n",
              "    </tr>\n",
              "  </thead>\n",
              "  <tbody>\n",
              "    <tr>\n",
              "      <th>0</th>\n",
              "      <td>7590-VHVEG</td>\n",
              "      <td>Female</td>\n",
              "      <td>0</td>\n",
              "      <td>Yes</td>\n",
              "      <td>No</td>\n",
              "      <td>1</td>\n",
              "      <td>No</td>\n",
              "      <td>No phone service</td>\n",
              "      <td>DSL</td>\n",
              "      <td>No</td>\n",
              "      <td>Yes</td>\n",
              "      <td>No</td>\n",
              "      <td>No</td>\n",
              "      <td>No</td>\n",
              "      <td>No</td>\n",
              "      <td>Month-to-month</td>\n",
              "      <td>Yes</td>\n",
              "      <td>Electronic check</td>\n",
              "      <td>29.85</td>\n",
              "      <td>29.85</td>\n",
              "      <td>No</td>\n",
              "    </tr>\n",
              "    <tr>\n",
              "      <th>1</th>\n",
              "      <td>5575-GNVDE</td>\n",
              "      <td>Male</td>\n",
              "      <td>0</td>\n",
              "      <td>No</td>\n",
              "      <td>No</td>\n",
              "      <td>34</td>\n",
              "      <td>Yes</td>\n",
              "      <td>No</td>\n",
              "      <td>DSL</td>\n",
              "      <td>Yes</td>\n",
              "      <td>No</td>\n",
              "      <td>Yes</td>\n",
              "      <td>No</td>\n",
              "      <td>No</td>\n",
              "      <td>No</td>\n",
              "      <td>One year</td>\n",
              "      <td>No</td>\n",
              "      <td>Mailed check</td>\n",
              "      <td>56.95</td>\n",
              "      <td>1889.5</td>\n",
              "      <td>No</td>\n",
              "    </tr>\n",
              "    <tr>\n",
              "      <th>2</th>\n",
              "      <td>3668-QPYBK</td>\n",
              "      <td>Male</td>\n",
              "      <td>0</td>\n",
              "      <td>No</td>\n",
              "      <td>No</td>\n",
              "      <td>2</td>\n",
              "      <td>Yes</td>\n",
              "      <td>No</td>\n",
              "      <td>DSL</td>\n",
              "      <td>Yes</td>\n",
              "      <td>Yes</td>\n",
              "      <td>No</td>\n",
              "      <td>No</td>\n",
              "      <td>No</td>\n",
              "      <td>No</td>\n",
              "      <td>Month-to-month</td>\n",
              "      <td>Yes</td>\n",
              "      <td>Mailed check</td>\n",
              "      <td>53.85</td>\n",
              "      <td>108.15</td>\n",
              "      <td>Yes</td>\n",
              "    </tr>\n",
              "    <tr>\n",
              "      <th>3</th>\n",
              "      <td>7795-CFOCW</td>\n",
              "      <td>Male</td>\n",
              "      <td>0</td>\n",
              "      <td>No</td>\n",
              "      <td>No</td>\n",
              "      <td>45</td>\n",
              "      <td>No</td>\n",
              "      <td>No phone service</td>\n",
              "      <td>DSL</td>\n",
              "      <td>Yes</td>\n",
              "      <td>No</td>\n",
              "      <td>Yes</td>\n",
              "      <td>Yes</td>\n",
              "      <td>No</td>\n",
              "      <td>No</td>\n",
              "      <td>One year</td>\n",
              "      <td>No</td>\n",
              "      <td>Bank transfer (automatic)</td>\n",
              "      <td>42.30</td>\n",
              "      <td>1840.75</td>\n",
              "      <td>No</td>\n",
              "    </tr>\n",
              "    <tr>\n",
              "      <th>4</th>\n",
              "      <td>9237-HQITU</td>\n",
              "      <td>Female</td>\n",
              "      <td>0</td>\n",
              "      <td>No</td>\n",
              "      <td>No</td>\n",
              "      <td>2</td>\n",
              "      <td>Yes</td>\n",
              "      <td>No</td>\n",
              "      <td>Fiber optic</td>\n",
              "      <td>No</td>\n",
              "      <td>No</td>\n",
              "      <td>No</td>\n",
              "      <td>No</td>\n",
              "      <td>No</td>\n",
              "      <td>No</td>\n",
              "      <td>Month-to-month</td>\n",
              "      <td>Yes</td>\n",
              "      <td>Electronic check</td>\n",
              "      <td>70.70</td>\n",
              "      <td>151.65</td>\n",
              "      <td>Yes</td>\n",
              "    </tr>\n",
              "  </tbody>\n",
              "</table>\n",
              "</div>"
            ],
            "text/plain": [
              "   customerID  gender  SeniorCitizen  ... MonthlyCharges TotalCharges  Churn\n",
              "0  7590-VHVEG  Female              0  ...          29.85        29.85     No\n",
              "1  5575-GNVDE    Male              0  ...          56.95       1889.5     No\n",
              "2  3668-QPYBK    Male              0  ...          53.85       108.15    Yes\n",
              "3  7795-CFOCW    Male              0  ...          42.30      1840.75     No\n",
              "4  9237-HQITU  Female              0  ...          70.70       151.65    Yes\n",
              "\n",
              "[5 rows x 21 columns]"
            ]
          },
          "metadata": {
            "tags": []
          },
          "execution_count": 2
        }
      ]
    },
    {
      "cell_type": "code",
      "metadata": {
        "id": "DJQpAwJo27b3",
        "colab_type": "code",
        "colab": {
          "base_uri": "https://localhost:8080/",
          "height": 34
        },
        "outputId": "34c4fb34-9a3c-4bc8-eefa-127cd9d7bbcf"
      },
      "source": [
        "df.shape"
      ],
      "execution_count": 3,
      "outputs": [
        {
          "output_type": "execute_result",
          "data": {
            "text/plain": [
              "(7043, 21)"
            ]
          },
          "metadata": {
            "tags": []
          },
          "execution_count": 3
        }
      ]
    },
    {
      "cell_type": "markdown",
      "metadata": {
        "id": "eQj14fiq3HRI",
        "colab_type": "text"
      },
      "source": [
        "# Data analysis"
      ]
    },
    {
      "cell_type": "code",
      "metadata": {
        "id": "_nGKYqR138K6",
        "colab_type": "code",
        "colab": {
          "base_uri": "https://localhost:8080/",
          "height": 391
        },
        "outputId": "83ee442b-9c32-4297-80e6-ef0ea5bc5c1b"
      },
      "source": [
        "df.dtypes"
      ],
      "execution_count": 4,
      "outputs": [
        {
          "output_type": "execute_result",
          "data": {
            "text/plain": [
              "customerID           object\n",
              "gender               object\n",
              "SeniorCitizen         int64\n",
              "Partner              object\n",
              "Dependents           object\n",
              "tenure                int64\n",
              "PhoneService         object\n",
              "MultipleLines        object\n",
              "InternetService      object\n",
              "OnlineSecurity       object\n",
              "OnlineBackup         object\n",
              "DeviceProtection     object\n",
              "TechSupport          object\n",
              "StreamingTV          object\n",
              "StreamingMovies      object\n",
              "Contract             object\n",
              "PaperlessBilling     object\n",
              "PaymentMethod        object\n",
              "MonthlyCharges      float64\n",
              "TotalCharges         object\n",
              "Churn                object\n",
              "dtype: object"
            ]
          },
          "metadata": {
            "tags": []
          },
          "execution_count": 4
        }
      ]
    },
    {
      "cell_type": "code",
      "metadata": {
        "id": "953fhYma4CHZ",
        "colab_type": "code",
        "colab": {
          "base_uri": "https://localhost:8080/",
          "height": 391
        },
        "outputId": "79d60369-92c0-411d-b782-8416b6c3abf4"
      },
      "source": [
        "df.isnull().sum()"
      ],
      "execution_count": 5,
      "outputs": [
        {
          "output_type": "execute_result",
          "data": {
            "text/plain": [
              "customerID          0\n",
              "gender              0\n",
              "SeniorCitizen       0\n",
              "Partner             0\n",
              "Dependents          0\n",
              "tenure              0\n",
              "PhoneService        0\n",
              "MultipleLines       0\n",
              "InternetService     0\n",
              "OnlineSecurity      0\n",
              "OnlineBackup        0\n",
              "DeviceProtection    0\n",
              "TechSupport         0\n",
              "StreamingTV         0\n",
              "StreamingMovies     0\n",
              "Contract            0\n",
              "PaperlessBilling    0\n",
              "PaymentMethod       0\n",
              "MonthlyCharges      0\n",
              "TotalCharges        0\n",
              "Churn               0\n",
              "dtype: int64"
            ]
          },
          "metadata": {
            "tags": []
          },
          "execution_count": 5
        }
      ]
    },
    {
      "cell_type": "code",
      "metadata": {
        "id": "6ASQkzS33IOZ",
        "colab_type": "code",
        "colab": {
          "base_uri": "https://localhost:8080/",
          "height": 34
        },
        "outputId": "1cc44602-e296-492c-9743-c5b29e8229f8"
      },
      "source": [
        "df['Churn'] = df['Churn'].apply(lambda x: 1 if x == 'Yes' else 0)\n",
        "df['Churn'].mean()"
      ],
      "execution_count": 6,
      "outputs": [
        {
          "output_type": "execute_result",
          "data": {
            "text/plain": [
              "0.2653698707936959"
            ]
          },
          "metadata": {
            "tags": []
          },
          "execution_count": 6
        }
      ]
    },
    {
      "cell_type": "code",
      "metadata": {
        "id": "frrsZamOEMg2",
        "colab_type": "code",
        "colab": {
          "base_uri": "https://localhost:8080/",
          "height": 68
        },
        "outputId": "0dc79289-b850-4356-c6c0-bb3752b6f57f"
      },
      "source": [
        "df['Churn'].value_counts(normalize=True)"
      ],
      "execution_count": 7,
      "outputs": [
        {
          "output_type": "execute_result",
          "data": {
            "text/plain": [
              "0    0.73463\n",
              "1    0.26537\n",
              "Name: Churn, dtype: float64"
            ]
          },
          "metadata": {
            "tags": []
          },
          "execution_count": 7
        }
      ]
    },
    {
      "cell_type": "code",
      "metadata": {
        "id": "YEC4hRR13s7A",
        "colab_type": "code",
        "colab": {}
      },
      "source": [
        "df['TotalCharges'] = df['TotalCharges'].replace(' ', np.nan).astype(float)"
      ],
      "execution_count": 8,
      "outputs": []
    },
    {
      "cell_type": "code",
      "metadata": {
        "id": "n-Pez9UT77gv",
        "colab_type": "code",
        "colab": {}
      },
      "source": [
        "df = df.dropna()"
      ],
      "execution_count": 9,
      "outputs": []
    },
    {
      "cell_type": "markdown",
      "metadata": {
        "id": "GXavhO7G9BCJ",
        "colab_type": "text"
      },
      "source": [
        "# Standard scaler"
      ]
    },
    {
      "cell_type": "code",
      "metadata": {
        "id": "yWFP-kRZ7-fb",
        "colab_type": "code",
        "colab": {
          "base_uri": "https://localhost:8080/",
          "height": 297
        },
        "outputId": "1f9880e6-2d22-4ab2-857a-0206c8f04cef"
      },
      "source": [
        "df[['tenure', 'MonthlyCharges', 'TotalCharges']].describe()"
      ],
      "execution_count": 10,
      "outputs": [
        {
          "output_type": "execute_result",
          "data": {
            "text/html": [
              "<div>\n",
              "<style scoped>\n",
              "    .dataframe tbody tr th:only-of-type {\n",
              "        vertical-align: middle;\n",
              "    }\n",
              "\n",
              "    .dataframe tbody tr th {\n",
              "        vertical-align: top;\n",
              "    }\n",
              "\n",
              "    .dataframe thead th {\n",
              "        text-align: right;\n",
              "    }\n",
              "</style>\n",
              "<table border=\"1\" class=\"dataframe\">\n",
              "  <thead>\n",
              "    <tr style=\"text-align: right;\">\n",
              "      <th></th>\n",
              "      <th>tenure</th>\n",
              "      <th>MonthlyCharges</th>\n",
              "      <th>TotalCharges</th>\n",
              "    </tr>\n",
              "  </thead>\n",
              "  <tbody>\n",
              "    <tr>\n",
              "      <th>count</th>\n",
              "      <td>7032.000000</td>\n",
              "      <td>7032.000000</td>\n",
              "      <td>7032.000000</td>\n",
              "    </tr>\n",
              "    <tr>\n",
              "      <th>mean</th>\n",
              "      <td>32.421786</td>\n",
              "      <td>64.798208</td>\n",
              "      <td>2283.300441</td>\n",
              "    </tr>\n",
              "    <tr>\n",
              "      <th>std</th>\n",
              "      <td>24.545260</td>\n",
              "      <td>30.085974</td>\n",
              "      <td>2266.771362</td>\n",
              "    </tr>\n",
              "    <tr>\n",
              "      <th>min</th>\n",
              "      <td>1.000000</td>\n",
              "      <td>18.250000</td>\n",
              "      <td>18.800000</td>\n",
              "    </tr>\n",
              "    <tr>\n",
              "      <th>25%</th>\n",
              "      <td>9.000000</td>\n",
              "      <td>35.587500</td>\n",
              "      <td>401.450000</td>\n",
              "    </tr>\n",
              "    <tr>\n",
              "      <th>50%</th>\n",
              "      <td>29.000000</td>\n",
              "      <td>70.350000</td>\n",
              "      <td>1397.475000</td>\n",
              "    </tr>\n",
              "    <tr>\n",
              "      <th>75%</th>\n",
              "      <td>55.000000</td>\n",
              "      <td>89.862500</td>\n",
              "      <td>3794.737500</td>\n",
              "    </tr>\n",
              "    <tr>\n",
              "      <th>max</th>\n",
              "      <td>72.000000</td>\n",
              "      <td>118.750000</td>\n",
              "      <td>8684.800000</td>\n",
              "    </tr>\n",
              "  </tbody>\n",
              "</table>\n",
              "</div>"
            ],
            "text/plain": [
              "            tenure  MonthlyCharges  TotalCharges\n",
              "count  7032.000000     7032.000000   7032.000000\n",
              "mean     32.421786       64.798208   2283.300441\n",
              "std      24.545260       30.085974   2266.771362\n",
              "min       1.000000       18.250000     18.800000\n",
              "25%       9.000000       35.587500    401.450000\n",
              "50%      29.000000       70.350000   1397.475000\n",
              "75%      55.000000       89.862500   3794.737500\n",
              "max      72.000000      118.750000   8684.800000"
            ]
          },
          "metadata": {
            "tags": []
          },
          "execution_count": 10
        }
      ]
    },
    {
      "cell_type": "markdown",
      "metadata": {
        "id": "sZ06FoM18r76",
        "colab_type": "text"
      },
      "source": [
        "As you can see from the summary statistics, the three tenure, MonthlyCharges,\n",
        "and TotalCharges continuous variables all have different scales. The\n",
        "tenure variable, ranges from 1 to 72, while the TotalCharges variable , ranges\n",
        "from 18.8 to 8684.8. ANN models typically perform better with scaled or\n",
        "normalized features. Take a look at the following code for normalizing these three\n",
        "features:"
      ]
    },
    {
      "cell_type": "code",
      "metadata": {
        "id": "skmqV7Jq8JBZ",
        "colab_type": "code",
        "colab": {}
      },
      "source": [
        "df['MonthlyCharges'] = np.log(df['MonthlyCharges'])\n",
        "df['MonthlyCharges'] = (df['MonthlyCharges'] - df['MonthlyCharges'].mean())/df['MonthlyCharges'].std()\n",
        "\n",
        "df['TotalCharges'] = np.log(df['TotalCharges'])\n",
        "df['TotalCharges'] = (df['TotalCharges'] - df['TotalCharges'].mean())/df['TotalCharges'].std()\n",
        "\n",
        "df['tenure'] = (df['tenure'] - df['tenure'].mean())/df['tenure'].std()"
      ],
      "execution_count": 11,
      "outputs": []
    },
    {
      "cell_type": "markdown",
      "metadata": {
        "id": "jTOnjK0X8pJU",
        "colab_type": "text"
      },
      "source": [
        "As you can see from this code, we apply log-transform first and then normalize\n",
        "the continuous variables by subtracting by the mean and dividing the values by\n",
        "standard deviations. The results look like the following:"
      ]
    },
    {
      "cell_type": "code",
      "metadata": {
        "id": "0hdyfTJe8PZt",
        "colab_type": "code",
        "colab": {
          "base_uri": "https://localhost:8080/",
          "height": 297
        },
        "outputId": "312f1182-2821-44e3-aa1e-3628e4b3ad97"
      },
      "source": [
        "df[['tenure', 'MonthlyCharges', 'TotalCharges']].describe()"
      ],
      "execution_count": 12,
      "outputs": [
        {
          "output_type": "execute_result",
          "data": {
            "text/html": [
              "<div>\n",
              "<style scoped>\n",
              "    .dataframe tbody tr th:only-of-type {\n",
              "        vertical-align: middle;\n",
              "    }\n",
              "\n",
              "    .dataframe tbody tr th {\n",
              "        vertical-align: top;\n",
              "    }\n",
              "\n",
              "    .dataframe thead th {\n",
              "        text-align: right;\n",
              "    }\n",
              "</style>\n",
              "<table border=\"1\" class=\"dataframe\">\n",
              "  <thead>\n",
              "    <tr style=\"text-align: right;\">\n",
              "      <th></th>\n",
              "      <th>tenure</th>\n",
              "      <th>MonthlyCharges</th>\n",
              "      <th>TotalCharges</th>\n",
              "    </tr>\n",
              "  </thead>\n",
              "  <tbody>\n",
              "    <tr>\n",
              "      <th>count</th>\n",
              "      <td>7.032000e+03</td>\n",
              "      <td>7.032000e+03</td>\n",
              "      <td>7.032000e+03</td>\n",
              "    </tr>\n",
              "    <tr>\n",
              "      <th>mean</th>\n",
              "      <td>-1.028756e-16</td>\n",
              "      <td>4.688495e-14</td>\n",
              "      <td>7.150708e-15</td>\n",
              "    </tr>\n",
              "    <tr>\n",
              "      <th>std</th>\n",
              "      <td>1.000000e+00</td>\n",
              "      <td>1.000000e+00</td>\n",
              "      <td>1.000000e+00</td>\n",
              "    </tr>\n",
              "    <tr>\n",
              "      <th>min</th>\n",
              "      <td>-1.280157e+00</td>\n",
              "      <td>-1.882268e+00</td>\n",
              "      <td>-2.579056e+00</td>\n",
              "    </tr>\n",
              "    <tr>\n",
              "      <th>25%</th>\n",
              "      <td>-9.542285e-01</td>\n",
              "      <td>-7.583727e-01</td>\n",
              "      <td>-6.080585e-01</td>\n",
              "    </tr>\n",
              "    <tr>\n",
              "      <th>50%</th>\n",
              "      <td>-1.394072e-01</td>\n",
              "      <td>3.885103e-01</td>\n",
              "      <td>1.950521e-01</td>\n",
              "    </tr>\n",
              "    <tr>\n",
              "      <th>75%</th>\n",
              "      <td>9.198605e-01</td>\n",
              "      <td>8.004829e-01</td>\n",
              "      <td>8.382338e-01</td>\n",
              "    </tr>\n",
              "    <tr>\n",
              "      <th>max</th>\n",
              "      <td>1.612459e+00</td>\n",
              "      <td>1.269576e+00</td>\n",
              "      <td>1.371323e+00</td>\n",
              "    </tr>\n",
              "  </tbody>\n",
              "</table>\n",
              "</div>"
            ],
            "text/plain": [
              "             tenure  MonthlyCharges  TotalCharges\n",
              "count  7.032000e+03    7.032000e+03  7.032000e+03\n",
              "mean  -1.028756e-16    4.688495e-14  7.150708e-15\n",
              "std    1.000000e+00    1.000000e+00  1.000000e+00\n",
              "min   -1.280157e+00   -1.882268e+00 -2.579056e+00\n",
              "25%   -9.542285e-01   -7.583727e-01 -6.080585e-01\n",
              "50%   -1.394072e-01    3.885103e-01  1.950521e-01\n",
              "75%    9.198605e-01    8.004829e-01  8.382338e-01\n",
              "max    1.612459e+00    1.269576e+00  1.371323e+00"
            ]
          },
          "metadata": {
            "tags": []
          },
          "execution_count": 12
        }
      ]
    },
    {
      "cell_type": "code",
      "metadata": {
        "id": "ITLuNlnO8Q0_",
        "colab_type": "code",
        "colab": {
          "base_uri": "https://localhost:8080/",
          "height": 309
        },
        "outputId": "25b42cf4-af15-4632-f005-546c54bb0de8"
      },
      "source": [
        "df.head()"
      ],
      "execution_count": 13,
      "outputs": [
        {
          "output_type": "execute_result",
          "data": {
            "text/html": [
              "<div>\n",
              "<style scoped>\n",
              "    .dataframe tbody tr th:only-of-type {\n",
              "        vertical-align: middle;\n",
              "    }\n",
              "\n",
              "    .dataframe tbody tr th {\n",
              "        vertical-align: top;\n",
              "    }\n",
              "\n",
              "    .dataframe thead th {\n",
              "        text-align: right;\n",
              "    }\n",
              "</style>\n",
              "<table border=\"1\" class=\"dataframe\">\n",
              "  <thead>\n",
              "    <tr style=\"text-align: right;\">\n",
              "      <th></th>\n",
              "      <th>customerID</th>\n",
              "      <th>gender</th>\n",
              "      <th>SeniorCitizen</th>\n",
              "      <th>Partner</th>\n",
              "      <th>Dependents</th>\n",
              "      <th>tenure</th>\n",
              "      <th>PhoneService</th>\n",
              "      <th>MultipleLines</th>\n",
              "      <th>InternetService</th>\n",
              "      <th>OnlineSecurity</th>\n",
              "      <th>OnlineBackup</th>\n",
              "      <th>DeviceProtection</th>\n",
              "      <th>TechSupport</th>\n",
              "      <th>StreamingTV</th>\n",
              "      <th>StreamingMovies</th>\n",
              "      <th>Contract</th>\n",
              "      <th>PaperlessBilling</th>\n",
              "      <th>PaymentMethod</th>\n",
              "      <th>MonthlyCharges</th>\n",
              "      <th>TotalCharges</th>\n",
              "      <th>Churn</th>\n",
              "    </tr>\n",
              "  </thead>\n",
              "  <tbody>\n",
              "    <tr>\n",
              "      <th>0</th>\n",
              "      <td>7590-VHVEG</td>\n",
              "      <td>Female</td>\n",
              "      <td>0</td>\n",
              "      <td>Yes</td>\n",
              "      <td>No</td>\n",
              "      <td>-1.280157</td>\n",
              "      <td>No</td>\n",
              "      <td>No phone service</td>\n",
              "      <td>DSL</td>\n",
              "      <td>No</td>\n",
              "      <td>Yes</td>\n",
              "      <td>No</td>\n",
              "      <td>No</td>\n",
              "      <td>No</td>\n",
              "      <td>No</td>\n",
              "      <td>Month-to-month</td>\n",
              "      <td>Yes</td>\n",
              "      <td>Electronic check</td>\n",
              "      <td>-1.054244</td>\n",
              "      <td>-2.281382</td>\n",
              "      <td>0</td>\n",
              "    </tr>\n",
              "    <tr>\n",
              "      <th>1</th>\n",
              "      <td>5575-GNVDE</td>\n",
              "      <td>Male</td>\n",
              "      <td>0</td>\n",
              "      <td>No</td>\n",
              "      <td>No</td>\n",
              "      <td>0.064298</td>\n",
              "      <td>Yes</td>\n",
              "      <td>No</td>\n",
              "      <td>DSL</td>\n",
              "      <td>Yes</td>\n",
              "      <td>No</td>\n",
              "      <td>Yes</td>\n",
              "      <td>No</td>\n",
              "      <td>No</td>\n",
              "      <td>No</td>\n",
              "      <td>One year</td>\n",
              "      <td>No</td>\n",
              "      <td>Mailed check</td>\n",
              "      <td>0.032896</td>\n",
              "      <td>0.389269</td>\n",
              "      <td>0</td>\n",
              "    </tr>\n",
              "    <tr>\n",
              "      <th>2</th>\n",
              "      <td>3668-QPYBK</td>\n",
              "      <td>Male</td>\n",
              "      <td>0</td>\n",
              "      <td>No</td>\n",
              "      <td>No</td>\n",
              "      <td>-1.239416</td>\n",
              "      <td>Yes</td>\n",
              "      <td>No</td>\n",
              "      <td>DSL</td>\n",
              "      <td>Yes</td>\n",
              "      <td>Yes</td>\n",
              "      <td>No</td>\n",
              "      <td>No</td>\n",
              "      <td>No</td>\n",
              "      <td>No</td>\n",
              "      <td>Month-to-month</td>\n",
              "      <td>Yes</td>\n",
              "      <td>Mailed check</td>\n",
              "      <td>-0.061298</td>\n",
              "      <td>-1.452520</td>\n",
              "      <td>1</td>\n",
              "    </tr>\n",
              "    <tr>\n",
              "      <th>3</th>\n",
              "      <td>7795-CFOCW</td>\n",
              "      <td>Male</td>\n",
              "      <td>0</td>\n",
              "      <td>No</td>\n",
              "      <td>No</td>\n",
              "      <td>0.512450</td>\n",
              "      <td>No</td>\n",
              "      <td>No phone service</td>\n",
              "      <td>DSL</td>\n",
              "      <td>Yes</td>\n",
              "      <td>No</td>\n",
              "      <td>Yes</td>\n",
              "      <td>Yes</td>\n",
              "      <td>No</td>\n",
              "      <td>No</td>\n",
              "      <td>One year</td>\n",
              "      <td>No</td>\n",
              "      <td>Bank transfer (automatic)</td>\n",
              "      <td>-0.467578</td>\n",
              "      <td>0.372439</td>\n",
              "      <td>0</td>\n",
              "    </tr>\n",
              "    <tr>\n",
              "      <th>4</th>\n",
              "      <td>9237-HQITU</td>\n",
              "      <td>Female</td>\n",
              "      <td>0</td>\n",
              "      <td>No</td>\n",
              "      <td>No</td>\n",
              "      <td>-1.239416</td>\n",
              "      <td>Yes</td>\n",
              "      <td>No</td>\n",
              "      <td>Fiber optic</td>\n",
              "      <td>No</td>\n",
              "      <td>No</td>\n",
              "      <td>No</td>\n",
              "      <td>No</td>\n",
              "      <td>No</td>\n",
              "      <td>No</td>\n",
              "      <td>Month-to-month</td>\n",
              "      <td>Yes</td>\n",
              "      <td>Electronic check</td>\n",
              "      <td>0.396862</td>\n",
              "      <td>-1.234860</td>\n",
              "      <td>1</td>\n",
              "    </tr>\n",
              "  </tbody>\n",
              "</table>\n",
              "</div>"
            ],
            "text/plain": [
              "   customerID  gender  SeniorCitizen  ... MonthlyCharges TotalCharges  Churn\n",
              "0  7590-VHVEG  Female              0  ...      -1.054244    -2.281382      0\n",
              "1  5575-GNVDE    Male              0  ...       0.032896     0.389269      0\n",
              "2  3668-QPYBK    Male              0  ...      -0.061298    -1.452520      1\n",
              "3  7795-CFOCW    Male              0  ...      -0.467578     0.372439      0\n",
              "4  9237-HQITU  Female              0  ...       0.396862    -1.234860      1\n",
              "\n",
              "[5 rows x 21 columns]"
            ]
          },
          "metadata": {
            "tags": []
          },
          "execution_count": 13
        }
      ]
    },
    {
      "cell_type": "markdown",
      "metadata": {
        "id": "nkTsKzlX88XZ",
        "colab_type": "text"
      },
      "source": [
        "As you see from this output, all the variables now have a mean of 0 and a\n",
        "standard deviation of 1. We are going to use these normalized variables for future\n",
        "model building."
      ]
    },
    {
      "cell_type": "markdown",
      "metadata": {
        "id": "Es6QBS-r9Ek6",
        "colab_type": "text"
      },
      "source": [
        "# One hot encoding"
      ]
    },
    {
      "cell_type": "code",
      "metadata": {
        "id": "V-I4Uxdv-SSx",
        "colab_type": "code",
        "colab": {
          "base_uri": "https://localhost:8080/",
          "height": 391
        },
        "outputId": "d767f8b1-9139-4e66-9130-eebed40b7d84"
      },
      "source": [
        "df.dtypes"
      ],
      "execution_count": 14,
      "outputs": [
        {
          "output_type": "execute_result",
          "data": {
            "text/plain": [
              "customerID           object\n",
              "gender               object\n",
              "SeniorCitizen         int64\n",
              "Partner              object\n",
              "Dependents           object\n",
              "tenure              float64\n",
              "PhoneService         object\n",
              "MultipleLines        object\n",
              "InternetService      object\n",
              "OnlineSecurity       object\n",
              "OnlineBackup         object\n",
              "DeviceProtection     object\n",
              "TechSupport          object\n",
              "StreamingTV          object\n",
              "StreamingMovies      object\n",
              "Contract             object\n",
              "PaperlessBilling     object\n",
              "PaymentMethod        object\n",
              "MonthlyCharges      float64\n",
              "TotalCharges        float64\n",
              "Churn                 int64\n",
              "dtype: object"
            ]
          },
          "metadata": {
            "tags": []
          },
          "execution_count": 14
        }
      ]
    },
    {
      "cell_type": "code",
      "metadata": {
        "id": "zkTfDiC28Wuw",
        "colab_type": "code",
        "colab": {
          "base_uri": "https://localhost:8080/",
          "height": 408
        },
        "outputId": "06c42e8d-4679-41b6-9ad8-19646937962e"
      },
      "source": [
        "print(df.shape)\n",
        "df.nunique()"
      ],
      "execution_count": 15,
      "outputs": [
        {
          "output_type": "stream",
          "text": [
            "(7032, 21)\n"
          ],
          "name": "stdout"
        },
        {
          "output_type": "execute_result",
          "data": {
            "text/plain": [
              "customerID          7032\n",
              "gender                 2\n",
              "SeniorCitizen          2\n",
              "Partner                2\n",
              "Dependents             2\n",
              "tenure                72\n",
              "PhoneService           2\n",
              "MultipleLines          3\n",
              "InternetService        3\n",
              "OnlineSecurity         3\n",
              "OnlineBackup           3\n",
              "DeviceProtection       3\n",
              "TechSupport            3\n",
              "StreamingTV            3\n",
              "StreamingMovies        3\n",
              "Contract               3\n",
              "PaperlessBilling       2\n",
              "PaymentMethod          4\n",
              "MonthlyCharges      1584\n",
              "TotalCharges        6530\n",
              "Churn                  2\n",
              "dtype: int64"
            ]
          },
          "metadata": {
            "tags": []
          },
          "execution_count": 15
        }
      ]
    },
    {
      "cell_type": "markdown",
      "metadata": {
        "id": "PN-7tAv89dYa",
        "colab_type": "text"
      },
      "source": [
        "As this output suggests, there are 7032 unique customer IDs, 2 unique genders, 3 unique\n",
        "values for MultipleLines, and 6530 unique values for TotalCharges. We have handled\n",
        "the tenure, MonthlyCharges, and TotalCharges variables, in the previous step, so we\n",
        "are going to focus on those variables with 2 to 4 unique values"
      ]
    },
    {
      "cell_type": "code",
      "metadata": {
        "id": "AOpz4ct09J8z",
        "colab_type": "code",
        "colab": {
          "base_uri": "https://localhost:8080/",
          "height": 1000
        },
        "outputId": "a87f8569-5f94-4ff9-e289-45bd1682a50e"
      },
      "source": [
        "df.groupby('gender').count()['customerID'].plot(\n",
        "    kind='bar', color='skyblue', grid=True, figsize=(8,6), title='Gender'\n",
        ")\n",
        "plt.show()\n",
        "\n",
        "df.groupby('InternetService').count()['customerID'].plot(\n",
        "    kind='bar', color='skyblue', grid=True, figsize=(8,6), title='Internet Service'\n",
        ")\n",
        "plt.show()\n",
        "\n",
        "df.groupby('PaymentMethod').count()['customerID'].plot(\n",
        "    kind='bar', color='skyblue', grid=True, figsize=(8,6), title='Payment Method'\n",
        ")\n",
        "plt.show()"
      ],
      "execution_count": 16,
      "outputs": [
        {
          "output_type": "display_data",
          "data": {
            "image/png": "[encoded data removed]",
            "text/plain": [
              "<Figure size 576x432 with 1 Axes>"
            ]
          },
          "metadata": {
            "tags": [],
            "needs_background": "light"
          }
        },
        {
          "output_type": "display_data",
          "data": {
            "image/png": "[encoded data removed]",
            "text/plain": [
              "<Figure size 576x432 with 1 Axes>"
            ]
          },
          "metadata": {
            "tags": [],
            "needs_background": "light"
          }
        },
        {
          "output_type": "display_data",
          "data": {
            "image/png": "[encoded data removed]",
            "text/plain": [
              "<Figure size 576x432 with 1 Axes>"
            ]
          },
          "metadata": {
            "tags": [],
            "needs_background": "light"
          }
        }
      ]
    },
    {
      "cell_type": "code",
      "metadata": {
        "id": "t8tEq72C9U1J",
        "colab_type": "code",
        "colab": {
          "base_uri": "https://localhost:8080/",
          "height": 413
        },
        "outputId": "27badf57-63f2-44d5-aeba-d8c0c7c39a7b"
      },
      "source": [
        "dummy_cols = []\n",
        "\n",
        "sample_set = df[['tenure', 'MonthlyCharges', 'TotalCharges', 'Churn']].copy(deep=True)\n",
        "\n",
        "for col in list(df.columns):\n",
        "    if col not in ['tenure', 'MonthlyCharges', 'TotalCharges', 'Churn'] and df[col].nunique() < 5:\n",
        "        dummy_vars = pd.get_dummies(df[col])\n",
        "        dummy_vars.columns = [col+str(x) for x in dummy_vars.columns]        \n",
        "        sample_set = pd.concat([sample_set, dummy_vars], axis=1)\n",
        "sample_set.head(10)"
      ],
      "execution_count": 17,
      "outputs": [
        {
          "output_type": "execute_result",
          "data": {
            "text/html": [
              "<div>\n",
              "<style scoped>\n",
              "    .dataframe tbody tr th:only-of-type {\n",
              "        vertical-align: middle;\n",
              "    }\n",
              "\n",
              "    .dataframe tbody tr th {\n",
              "        vertical-align: top;\n",
              "    }\n",
              "\n",
              "    .dataframe thead th {\n",
              "        text-align: right;\n",
              "    }\n",
              "</style>\n",
              "<table border=\"1\" class=\"dataframe\">\n",
              "  <thead>\n",
              "    <tr style=\"text-align: right;\">\n",
              "      <th></th>\n",
              "      <th>tenure</th>\n",
              "      <th>MonthlyCharges</th>\n",
              "      <th>TotalCharges</th>\n",
              "      <th>Churn</th>\n",
              "      <th>genderFemale</th>\n",
              "      <th>genderMale</th>\n",
              "      <th>SeniorCitizen0</th>\n",
              "      <th>SeniorCitizen1</th>\n",
              "      <th>PartnerNo</th>\n",
              "      <th>PartnerYes</th>\n",
              "      <th>DependentsNo</th>\n",
              "      <th>DependentsYes</th>\n",
              "      <th>PhoneServiceNo</th>\n",
              "      <th>PhoneServiceYes</th>\n",
              "      <th>MultipleLinesNo</th>\n",
              "      <th>MultipleLinesNo phone service</th>\n",
              "      <th>MultipleLinesYes</th>\n",
              "      <th>InternetServiceDSL</th>\n",
              "      <th>InternetServiceFiber optic</th>\n",
              "      <th>InternetServiceNo</th>\n",
              "      <th>OnlineSecurityNo</th>\n",
              "      <th>OnlineSecurityNo internet service</th>\n",
              "      <th>OnlineSecurityYes</th>\n",
              "      <th>OnlineBackupNo</th>\n",
              "      <th>OnlineBackupNo internet service</th>\n",
              "      <th>OnlineBackupYes</th>\n",
              "      <th>DeviceProtectionNo</th>\n",
              "      <th>DeviceProtectionNo internet service</th>\n",
              "      <th>DeviceProtectionYes</th>\n",
              "      <th>TechSupportNo</th>\n",
              "      <th>TechSupportNo internet service</th>\n",
              "      <th>TechSupportYes</th>\n",
              "      <th>StreamingTVNo</th>\n",
              "      <th>StreamingTVNo internet service</th>\n",
              "      <th>StreamingTVYes</th>\n",
              "      <th>StreamingMoviesNo</th>\n",
              "      <th>StreamingMoviesNo internet service</th>\n",
              "      <th>StreamingMoviesYes</th>\n",
              "      <th>ContractMonth-to-month</th>\n",
              "      <th>ContractOne year</th>\n",
              "      <th>ContractTwo year</th>\n",
              "      <th>PaperlessBillingNo</th>\n",
              "      <th>PaperlessBillingYes</th>\n",
              "      <th>PaymentMethodBank transfer (automatic)</th>\n",
              "      <th>PaymentMethodCredit card (automatic)</th>\n",
              "      <th>PaymentMethodElectronic check</th>\n",
              "      <th>PaymentMethodMailed check</th>\n",
              "    </tr>\n",
              "  </thead>\n",
              "  <tbody>\n",
              "    <tr>\n",
              "      <th>0</th>\n",
              "      <td>-1.280157</td>\n",
              "      <td>-1.054244</td>\n",
              "      <td>-2.281382</td>\n",
              "      <td>0</td>\n",
              "      <td>1</td>\n",
              "      <td>0</td>\n",
              "      <td>1</td>\n",
              "      <td>0</td>\n",
              "      <td>0</td>\n",
              "      <td>1</td>\n",
              "      <td>1</td>\n",
              "      <td>0</td>\n",
              "      <td>1</td>\n",
              "      <td>0</td>\n",
              "      <td>0</td>\n",
              "      <td>1</td>\n",
              "      <td>0</td>\n",
              "      <td>1</td>\n",
              "      <td>0</td>\n",
              "      <td>0</td>\n",
              "      <td>1</td>\n",
              "      <td>0</td>\n",
              "      <td>0</td>\n",
              "      <td>0</td>\n",
              "      <td>0</td>\n",
              "      <td>1</td>\n",
              "      <td>1</td>\n",
              "      <td>0</td>\n",
              "      <td>0</td>\n",
              "      <td>1</td>\n",
              "      <td>0</td>\n",
              "      <td>0</td>\n",
              "      <td>1</td>\n",
              "      <td>0</td>\n",
              "      <td>0</td>\n",
              "      <td>1</td>\n",
              "      <td>0</td>\n",
              "      <td>0</td>\n",
              "      <td>1</td>\n",
              "      <td>0</td>\n",
              "      <td>0</td>\n",
              "      <td>0</td>\n",
              "      <td>1</td>\n",
              "      <td>0</td>\n",
              "      <td>0</td>\n",
              "      <td>1</td>\n",
              "      <td>0</td>\n",
              "    </tr>\n",
              "    <tr>\n",
              "      <th>1</th>\n",
              "      <td>0.064298</td>\n",
              "      <td>0.032896</td>\n",
              "      <td>0.389269</td>\n",
              "      <td>0</td>\n",
              "      <td>0</td>\n",
              "      <td>1</td>\n",
              "      <td>1</td>\n",
              "      <td>0</td>\n",
              "      <td>1</td>\n",
              "      <td>0</td>\n",
              "      <td>1</td>\n",
              "      <td>0</td>\n",
              "      <td>0</td>\n",
              "      <td>1</td>\n",
              "      <td>1</td>\n",
              "      <td>0</td>\n",
              "      <td>0</td>\n",
              "      <td>1</td>\n",
              "      <td>0</td>\n",
              "      <td>0</td>\n",
              "      <td>0</td>\n",
              "      <td>0</td>\n",
              "      <td>1</td>\n",
              "      <td>1</td>\n",
              "      <td>0</td>\n",
              "      <td>0</td>\n",
              "      <td>0</td>\n",
              "      <td>0</td>\n",
              "      <td>1</td>\n",
              "      <td>1</td>\n",
              "      <td>0</td>\n",
              "      <td>0</td>\n",
              "      <td>1</td>\n",
              "      <td>0</td>\n",
              "      <td>0</td>\n",
              "      <td>1</td>\n",
              "      <td>0</td>\n",
              "      <td>0</td>\n",
              "      <td>0</td>\n",
              "      <td>1</td>\n",
              "      <td>0</td>\n",
              "      <td>1</td>\n",
              "      <td>0</td>\n",
              "      <td>0</td>\n",
              "      <td>0</td>\n",
              "      <td>0</td>\n",
              "      <td>1</td>\n",
              "    </tr>\n",
              "    <tr>\n",
              "      <th>2</th>\n",
              "      <td>-1.239416</td>\n",
              "      <td>-0.061298</td>\n",
              "      <td>-1.452520</td>\n",
              "      <td>1</td>\n",
              "      <td>0</td>\n",
              "      <td>1</td>\n",
              "      <td>1</td>\n",
              "      <td>0</td>\n",
              "      <td>1</td>\n",
              "      <td>0</td>\n",
              "      <td>1</td>\n",
              "      <td>0</td>\n",
              "      <td>0</td>\n",
              "      <td>1</td>\n",
              "      <td>1</td>\n",
              "      <td>0</td>\n",
              "      <td>0</td>\n",
              "      <td>1</td>\n",
              "      <td>0</td>\n",
              "      <td>0</td>\n",
              "      <td>0</td>\n",
              "      <td>0</td>\n",
              "      <td>1</td>\n",
              "      <td>0</td>\n",
              "      <td>0</td>\n",
              "      <td>1</td>\n",
              "      <td>1</td>\n",
              "      <td>0</td>\n",
              "      <td>0</td>\n",
              "      <td>1</td>\n",
              "      <td>0</td>\n",
              "      <td>0</td>\n",
              "      <td>1</td>\n",
              "      <td>0</td>\n",
              "      <td>0</td>\n",
              "      <td>1</td>\n",
              "      <td>0</td>\n",
              "      <td>0</td>\n",
              "      <td>1</td>\n",
              "      <td>0</td>\n",
              "      <td>0</td>\n",
              "      <td>0</td>\n",
              "      <td>1</td>\n",
              "      <td>0</td>\n",
              "      <td>0</td>\n",
              "      <td>0</td>\n",
              "      <td>1</td>\n",
              "    </tr>\n",
              "    <tr>\n",
              "      <th>3</th>\n",
              "      <td>0.512450</td>\n",
              "      <td>-0.467578</td>\n",
              "      <td>0.372439</td>\n",
              "      <td>0</td>\n",
              "      <td>0</td>\n",
              "      <td>1</td>\n",
              "      <td>1</td>\n",
              "      <td>0</td>\n",
              "      <td>1</td>\n",
              "      <td>0</td>\n",
              "      <td>1</td>\n",
              "      <td>0</td>\n",
              "      <td>1</td>\n",
              "      <td>0</td>\n",
              "      <td>0</td>\n",
              "      <td>1</td>\n",
              "      <td>0</td>\n",
              "      <td>1</td>\n",
              "      <td>0</td>\n",
              "      <td>0</td>\n",
              "      <td>0</td>\n",
              "      <td>0</td>\n",
              "      <td>1</td>\n",
              "      <td>1</td>\n",
              "      <td>0</td>\n",
              "      <td>0</td>\n",
              "      <td>0</td>\n",
              "      <td>0</td>\n",
              "      <td>1</td>\n",
              "      <td>0</td>\n",
              "      <td>0</td>\n",
              "      <td>1</td>\n",
              "      <td>1</td>\n",
              "      <td>0</td>\n",
              "      <td>0</td>\n",
              "      <td>1</td>\n",
              "      <td>0</td>\n",
              "      <td>0</td>\n",
              "      <td>0</td>\n",
              "      <td>1</td>\n",
              "      <td>0</td>\n",
              "      <td>1</td>\n",
              "      <td>0</td>\n",
              "      <td>1</td>\n",
              "      <td>0</td>\n",
              "      <td>0</td>\n",
              "      <td>0</td>\n",
              "    </tr>\n",
              "    <tr>\n",
              "      <th>4</th>\n",
              "      <td>-1.239416</td>\n",
              "      <td>0.396862</td>\n",
              "      <td>-1.234860</td>\n",
              "      <td>1</td>\n",
              "      <td>1</td>\n",
              "      <td>0</td>\n",
              "      <td>1</td>\n",
              "      <td>0</td>\n",
              "      <td>1</td>\n",
              "      <td>0</td>\n",
              "      <td>1</td>\n",
              "      <td>0</td>\n",
              "      <td>0</td>\n",
              "      <td>1</td>\n",
              "      <td>1</td>\n",
              "      <td>0</td>\n",
              "      <td>0</td>\n",
              "      <td>0</td>\n",
              "      <td>1</td>\n",
              "      <td>0</td>\n",
              "      <td>1</td>\n",
              "      <td>0</td>\n",
              "      <td>0</td>\n",
              "      <td>1</td>\n",
              "      <td>0</td>\n",
              "      <td>0</td>\n",
              "      <td>1</td>\n",
              "      <td>0</td>\n",
              "      <td>0</td>\n",
              "      <td>1</td>\n",
              "      <td>0</td>\n",
              "      <td>0</td>\n",
              "      <td>1</td>\n",
              "      <td>0</td>\n",
              "      <td>0</td>\n",
              "      <td>1</td>\n",
              "      <td>0</td>\n",
              "      <td>0</td>\n",
              "      <td>1</td>\n",
              "      <td>0</td>\n",
              "      <td>0</td>\n",
              "      <td>0</td>\n",
              "      <td>1</td>\n",
              "      <td>0</td>\n",
              "      <td>0</td>\n",
              "      <td>1</td>\n",
              "      <td>0</td>\n",
              "    </tr>\n",
              "    <tr>\n",
              "      <th>5</th>\n",
              "      <td>-0.994970</td>\n",
              "      <td>0.974468</td>\n",
              "      <td>-0.147808</td>\n",
              "      <td>1</td>\n",
              "      <td>1</td>\n",
              "      <td>0</td>\n",
              "      <td>1</td>\n",
              "      <td>0</td>\n",
              "      <td>1</td>\n",
              "      <td>0</td>\n",
              "      <td>1</td>\n",
              "      <td>0</td>\n",
              "      <td>0</td>\n",
              "      <td>1</td>\n",
              "      <td>0</td>\n",
              "      <td>0</td>\n",
              "      <td>1</td>\n",
              "      <td>0</td>\n",
              "      <td>1</td>\n",
              "      <td>0</td>\n",
              "      <td>1</td>\n",
              "      <td>0</td>\n",
              "      <td>0</td>\n",
              "      <td>1</td>\n",
              "      <td>0</td>\n",
              "      <td>0</td>\n",
              "      <td>0</td>\n",
              "      <td>0</td>\n",
              "      <td>1</td>\n",
              "      <td>1</td>\n",
              "      <td>0</td>\n",
              "      <td>0</td>\n",
              "      <td>0</td>\n",
              "      <td>0</td>\n",
              "      <td>1</td>\n",
              "      <td>0</td>\n",
              "      <td>0</td>\n",
              "      <td>1</td>\n",
              "      <td>1</td>\n",
              "      <td>0</td>\n",
              "      <td>0</td>\n",
              "      <td>0</td>\n",
              "      <td>1</td>\n",
              "      <td>0</td>\n",
              "      <td>0</td>\n",
              "      <td>1</td>\n",
              "      <td>0</td>\n",
              "    </tr>\n",
              "    <tr>\n",
              "      <th>6</th>\n",
              "      <td>-0.424595</td>\n",
              "      <td>0.786142</td>\n",
              "      <td>0.409363</td>\n",
              "      <td>0</td>\n",
              "      <td>0</td>\n",
              "      <td>1</td>\n",
              "      <td>1</td>\n",
              "      <td>0</td>\n",
              "      <td>1</td>\n",
              "      <td>0</td>\n",
              "      <td>0</td>\n",
              "      <td>1</td>\n",
              "      <td>0</td>\n",
              "      <td>1</td>\n",
              "      <td>0</td>\n",
              "      <td>0</td>\n",
              "      <td>1</td>\n",
              "      <td>0</td>\n",
              "      <td>1</td>\n",
              "      <td>0</td>\n",
              "      <td>1</td>\n",
              "      <td>0</td>\n",
              "      <td>0</td>\n",
              "      <td>0</td>\n",
              "      <td>0</td>\n",
              "      <td>1</td>\n",
              "      <td>1</td>\n",
              "      <td>0</td>\n",
              "      <td>0</td>\n",
              "      <td>1</td>\n",
              "      <td>0</td>\n",
              "      <td>0</td>\n",
              "      <td>0</td>\n",
              "      <td>0</td>\n",
              "      <td>1</td>\n",
              "      <td>1</td>\n",
              "      <td>0</td>\n",
              "      <td>0</td>\n",
              "      <td>1</td>\n",
              "      <td>0</td>\n",
              "      <td>0</td>\n",
              "      <td>0</td>\n",
              "      <td>1</td>\n",
              "      <td>0</td>\n",
              "      <td>1</td>\n",
              "      <td>0</td>\n",
              "      <td>0</td>\n",
              "    </tr>\n",
              "    <tr>\n",
              "      <th>7</th>\n",
              "      <td>-0.913487</td>\n",
              "      <td>-1.059891</td>\n",
              "      <td>-0.791550</td>\n",
              "      <td>0</td>\n",
              "      <td>1</td>\n",
              "      <td>0</td>\n",
              "      <td>1</td>\n",
              "      <td>0</td>\n",
              "      <td>1</td>\n",
              "      <td>0</td>\n",
              "      <td>1</td>\n",
              "      <td>0</td>\n",
              "      <td>1</td>\n",
              "      <td>0</td>\n",
              "      <td>0</td>\n",
              "      <td>1</td>\n",
              "      <td>0</td>\n",
              "      <td>1</td>\n",
              "      <td>0</td>\n",
              "      <td>0</td>\n",
              "      <td>0</td>\n",
              "      <td>0</td>\n",
              "      <td>1</td>\n",
              "      <td>1</td>\n",
              "      <td>0</td>\n",
              "      <td>0</td>\n",
              "      <td>1</td>\n",
              "      <td>0</td>\n",
              "      <td>0</td>\n",
              "      <td>1</td>\n",
              "      <td>0</td>\n",
              "      <td>0</td>\n",
              "      <td>1</td>\n",
              "      <td>0</td>\n",
              "      <td>0</td>\n",
              "      <td>1</td>\n",
              "      <td>0</td>\n",
              "      <td>0</td>\n",
              "      <td>1</td>\n",
              "      <td>0</td>\n",
              "      <td>0</td>\n",
              "      <td>1</td>\n",
              "      <td>0</td>\n",
              "      <td>0</td>\n",
              "      <td>0</td>\n",
              "      <td>0</td>\n",
              "      <td>1</td>\n",
              "    </tr>\n",
              "    <tr>\n",
              "      <th>8</th>\n",
              "      <td>-0.180148</td>\n",
              "      <td>1.059269</td>\n",
              "      <td>0.696733</td>\n",
              "      <td>1</td>\n",
              "      <td>1</td>\n",
              "      <td>0</td>\n",
              "      <td>1</td>\n",
              "      <td>0</td>\n",
              "      <td>0</td>\n",
              "      <td>1</td>\n",
              "      <td>1</td>\n",
              "      <td>0</td>\n",
              "      <td>0</td>\n",
              "      <td>1</td>\n",
              "      <td>0</td>\n",
              "      <td>0</td>\n",
              "      <td>1</td>\n",
              "      <td>0</td>\n",
              "      <td>1</td>\n",
              "      <td>0</td>\n",
              "      <td>1</td>\n",
              "      <td>0</td>\n",
              "      <td>0</td>\n",
              "      <td>1</td>\n",
              "      <td>0</td>\n",
              "      <td>0</td>\n",
              "      <td>0</td>\n",
              "      <td>0</td>\n",
              "      <td>1</td>\n",
              "      <td>0</td>\n",
              "      <td>0</td>\n",
              "      <td>1</td>\n",
              "      <td>0</td>\n",
              "      <td>0</td>\n",
              "      <td>1</td>\n",
              "      <td>0</td>\n",
              "      <td>0</td>\n",
              "      <td>1</td>\n",
              "      <td>1</td>\n",
              "      <td>0</td>\n",
              "      <td>0</td>\n",
              "      <td>0</td>\n",
              "      <td>1</td>\n",
              "      <td>0</td>\n",
              "      <td>0</td>\n",
              "      <td>1</td>\n",
              "      <td>0</td>\n",
              "    </tr>\n",
              "    <tr>\n",
              "      <th>9</th>\n",
              "      <td>1.205048</td>\n",
              "      <td>0.009088</td>\n",
              "      <td>0.783956</td>\n",
              "      <td>0</td>\n",
              "      <td>0</td>\n",
              "      <td>1</td>\n",
              "      <td>1</td>\n",
              "      <td>0</td>\n",
              "      <td>1</td>\n",
              "      <td>0</td>\n",
              "      <td>0</td>\n",
              "      <td>1</td>\n",
              "      <td>0</td>\n",
              "      <td>1</td>\n",
              "      <td>1</td>\n",
              "      <td>0</td>\n",
              "      <td>0</td>\n",
              "      <td>1</td>\n",
              "      <td>0</td>\n",
              "      <td>0</td>\n",
              "      <td>0</td>\n",
              "      <td>0</td>\n",
              "      <td>1</td>\n",
              "      <td>0</td>\n",
              "      <td>0</td>\n",
              "      <td>1</td>\n",
              "      <td>1</td>\n",
              "      <td>0</td>\n",
              "      <td>0</td>\n",
              "      <td>1</td>\n",
              "      <td>0</td>\n",
              "      <td>0</td>\n",
              "      <td>1</td>\n",
              "      <td>0</td>\n",
              "      <td>0</td>\n",
              "      <td>1</td>\n",
              "      <td>0</td>\n",
              "      <td>0</td>\n",
              "      <td>0</td>\n",
              "      <td>1</td>\n",
              "      <td>0</td>\n",
              "      <td>1</td>\n",
              "      <td>0</td>\n",
              "      <td>1</td>\n",
              "      <td>0</td>\n",
              "      <td>0</td>\n",
              "      <td>0</td>\n",
              "    </tr>\n",
              "  </tbody>\n",
              "</table>\n",
              "</div>"
            ],
            "text/plain": [
              "     tenure  ...  PaymentMethodMailed check\n",
              "0 -1.280157  ...                          0\n",
              "1  0.064298  ...                          1\n",
              "2 -1.239416  ...                          1\n",
              "3  0.512450  ...                          0\n",
              "4 -1.239416  ...                          0\n",
              "5 -0.994970  ...                          0\n",
              "6 -0.424595  ...                          0\n",
              "7 -0.913487  ...                          1\n",
              "8 -0.180148  ...                          0\n",
              "9  1.205048  ...                          0\n",
              "\n",
              "[10 rows x 47 columns]"
            ]
          },
          "metadata": {
            "tags": []
          },
          "execution_count": 17
        }
      ]
    },
    {
      "cell_type": "code",
      "metadata": {
        "id": "IBfS1Tf--pAt",
        "colab_type": "code",
        "colab": {
          "base_uri": "https://localhost:8080/",
          "height": 34
        },
        "outputId": "38c89207-4398-4df4-b6de-e642ca2adec0"
      },
      "source": [
        "sample_set.shape"
      ],
      "execution_count": 18,
      "outputs": [
        {
          "output_type": "execute_result",
          "data": {
            "text/plain": [
              "(7032, 47)"
            ]
          },
          "metadata": {
            "tags": []
          },
          "execution_count": 18
        }
      ]
    },
    {
      "cell_type": "code",
      "metadata": {
        "id": "AFK7QSgs-ugM",
        "colab_type": "code",
        "colab": {
          "base_uri": "https://localhost:8080/",
          "height": 816
        },
        "outputId": "3bab951f-76cb-43be-9b33-429d33be982d"
      },
      "source": [
        "list(sample_set.columns)"
      ],
      "execution_count": 19,
      "outputs": [
        {
          "output_type": "execute_result",
          "data": {
            "text/plain": [
              "['tenure',\n",
              " 'MonthlyCharges',\n",
              " 'TotalCharges',\n",
              " 'Churn',\n",
              " 'genderFemale',\n",
              " 'genderMale',\n",
              " 'SeniorCitizen0',\n",
              " 'SeniorCitizen1',\n",
              " 'PartnerNo',\n",
              " 'PartnerYes',\n",
              " 'DependentsNo',\n",
              " 'DependentsYes',\n",
              " 'PhoneServiceNo',\n",
              " 'PhoneServiceYes',\n",
              " 'MultipleLinesNo',\n",
              " 'MultipleLinesNo phone service',\n",
              " 'MultipleLinesYes',\n",
              " 'InternetServiceDSL',\n",
              " 'InternetServiceFiber optic',\n",
              " 'InternetServiceNo',\n",
              " 'OnlineSecurityNo',\n",
              " 'OnlineSecurityNo internet service',\n",
              " 'OnlineSecurityYes',\n",
              " 'OnlineBackupNo',\n",
              " 'OnlineBackupNo internet service',\n",
              " 'OnlineBackupYes',\n",
              " 'DeviceProtectionNo',\n",
              " 'DeviceProtectionNo internet service',\n",
              " 'DeviceProtectionYes',\n",
              " 'TechSupportNo',\n",
              " 'TechSupportNo internet service',\n",
              " 'TechSupportYes',\n",
              " 'StreamingTVNo',\n",
              " 'StreamingTVNo internet service',\n",
              " 'StreamingTVYes',\n",
              " 'StreamingMoviesNo',\n",
              " 'StreamingMoviesNo internet service',\n",
              " 'StreamingMoviesYes',\n",
              " 'ContractMonth-to-month',\n",
              " 'ContractOne year',\n",
              " 'ContractTwo year',\n",
              " 'PaperlessBillingNo',\n",
              " 'PaperlessBillingYes',\n",
              " 'PaymentMethodBank transfer (automatic)',\n",
              " 'PaymentMethodCredit card (automatic)',\n",
              " 'PaymentMethodElectronic check',\n",
              " 'PaymentMethodMailed check']"
            ]
          },
          "metadata": {
            "tags": []
          },
          "execution_count": 19
        }
      ]
    },
    {
      "cell_type": "markdown",
      "metadata": {
        "id": "Uva9PJBvAOJM",
        "colab_type": "text"
      },
      "source": [
        "# Train & Test Sets"
      ]
    },
    {
      "cell_type": "code",
      "metadata": {
        "id": "3mnGNSl--0wl",
        "colab_type": "code",
        "colab": {
          "base_uri": "https://localhost:8080/",
          "height": 51
        },
        "outputId": "93cdc3be-23b9-47a6-ad84-27ff9371d0fa"
      },
      "source": [
        "X = sample_set.drop(columns='Churn')\n",
        "y= sample_set['Churn']\n",
        "print(X.shape)\n",
        "print(y.shape)"
      ],
      "execution_count": 20,
      "outputs": [
        {
          "output_type": "stream",
          "text": [
            "(7032, 46)\n",
            "(7032,)\n"
          ],
          "name": "stdout"
        }
      ]
    },
    {
      "cell_type": "code",
      "metadata": {
        "id": "P-sRvG26EsZG",
        "colab_type": "code",
        "colab": {}
      },
      "source": [
        "X_train_a, X_test, y_train_a, y_test = train_test_split(X,y, test_size=0.2, \n",
        "                                    random_state=2018, stratify=y)\n",
        "\n",
        "X_train, X_val, y_train, y_val = train_test_split(X_train_a, y_train_a,test_size=0.2, \n",
        "                                    random_state=2018, stratify=y_train_a)"
      ],
      "execution_count": 21,
      "outputs": []
    },
    {
      "cell_type": "markdown",
      "metadata": {
        "id": "PLvMb13OcE7D",
        "colab_type": "text"
      },
      "source": [
        "# Try different model"
      ]
    },
    {
      "cell_type": "code",
      "metadata": {
        "id": "tRptaoCikMaU",
        "colab_type": "code",
        "colab": {}
      },
      "source": [
        "# Creating a list of the classifiers\n",
        "classifiers = {\n",
        "    'KNN':KNeighborsClassifier(),     \n",
        "    'LR':LogisticRegression(),\n",
        "    'LDA':LinearDiscriminantAnalysis(), \n",
        "    'CART':DecisionTreeClassifier(), #Boosting is more suitable\n",
        "    'NB':GaussianNB(),\n",
        "    'SVC':SVC(), #only 0.5 not suitable for imbalanced data set before tunning\n",
        "    #Ensemble:\n",
        "    'RF':RandomForestClassifier(), #Bagging (very long)\n",
        "    'AB':AdaBoostClassifier(),  #Boosting\n",
        "    'GBM':GradientBoostingClassifier(), #Boosting\n",
        "    'ET':ExtraTreesClassifier(), #Bagging (very long)\n",
        "    #New from Matt cookbook\n",
        "    'XGB':XGBClassifier(), #New Boosting\n",
        "    'LGBM':LGBMClassifier(), #New Boosting\n",
        "    \n",
        "}\n"
      ],
      "execution_count": 22,
      "outputs": []
    },
    {
      "cell_type": "code",
      "metadata": {
        "id": "L9QoWOeekMng",
        "colab_type": "code",
        "colab": {
          "base_uri": "https://localhost:8080/",
          "height": 833
        },
        "outputId": "c43835d1-7988-406b-be1e-720f3d8c79d9"
      },
      "source": [
        "#Cross validate\n",
        "import time\n",
        "num_folds = 5\n",
        "seed = 7\n",
        "\n",
        "scoring = {'accuracy' : make_scorer(balanced_accuracy_score), \n",
        "           'precision' : make_scorer(precision_score,average='macro'),\n",
        "           'recall' : make_scorer(recall_score,average='macro'), \n",
        "           'f1' : make_scorer(f1_score,average='macro')}\n",
        "\n",
        "names = []\n",
        "train_acc=[]\n",
        "train_rec_macro=[]\n",
        "train_prec_macro=[]\n",
        "train_f1_macro=[]\n",
        "test_acc=[]\n",
        "test_rec_macro=[]\n",
        "test_prec_macro=[]\n",
        "test_f1_macro=[]\n",
        "fit_time=[]\n",
        "time_=[]\n",
        "\n",
        "for name, model in classifiers.items():\n",
        "  print(name)\n",
        "  start=time.time()\n",
        "  estimator = model\n",
        "  \n",
        "  kfold = StratifiedKFold(n_splits=num_folds, random_state=seed,shuffle=True)\n",
        "  cv_results = cross_validate(estimator, X_train, y_train, cv=kfold, scoring=scoring,\n",
        "                              return_train_score=True,\n",
        "                              return_estimator=True\n",
        "                              )\n",
        "\n",
        "  # Time :\n",
        "  time_cal=time.time() - start\n",
        "  print('time : %0.3f' % (time_cal),'\\n')\n",
        "  \n",
        "  #results.append(cv_results) # array of values\n",
        "  names.append(name)\n",
        "  train_acc.append(cv_results['train_accuracy'].mean())\n",
        "  train_rec_macro.append(cv_results['train_recall'].mean())\n",
        "  train_prec_macro.append(cv_results['train_precision'].mean())\n",
        "  train_f1_macro.append(cv_results['train_f1'].mean())\n",
        "\n",
        "  test_acc.append( cv_results['test_accuracy'].mean())\n",
        "  test_rec_macro.append(cv_results['test_recall'].mean())\n",
        "  test_prec_macro.append(cv_results['test_precision'].mean())\n",
        "  test_f1_macro.append(cv_results['test_f1'].mean())\n",
        "\n",
        "  fit_time.append(cv_results['fit_time'].mean())\n",
        "  time_.append(time_cal)\n",
        "\n",
        "  #print(cv_results.keys())\n",
        "  print(\"%s: train_acc: %0.2f train_rec_macro: %0.2f train_prec_macro: %0.2f \\\n",
        "  test_acc: %0.2f test_rec_macro: %0.2f test_prec_macro: %0.2f \\\n",
        "  fit_time: %0.2f\" % \n",
        "       (name, cv_results['train_accuracy'].mean(),cv_results['train_recall'].mean(),cv_results['train_precision'].mean(),\n",
        "       cv_results['test_accuracy'].mean(),cv_results['test_recall'].mean(),cv_results['test_precision'].mean(),\n",
        "       cv_results['fit_time'].mean()))\n",
        " # print(name, cv_results['train_acc'].mean(),cv_results['train_rec_micro'],cv_results['train_prec_macro'],\n",
        "  #      cv_results['test_acc'],cv_results['test_rec_micro'],cv_results['test_prec_macro'],\n",
        "   #      cv_results['score_time'],cv_results['fit_time']) \n"
      ],
      "execution_count": 23,
      "outputs": [
        {
          "output_type": "stream",
          "text": [
            "KNN\n",
            "time : 3.802 \n",
            "\n",
            "KNN: train_acc: 0.78 train_rec_macro: 0.78 train_prec_macro: 0.80   test_acc: 0.69 test_rec_macro: 0.69 test_prec_macro: 0.70   fit_time: 0.02\n",
            "LR\n",
            "time : 0.556 \n",
            "\n",
            "LR: train_acc: 0.72 train_rec_macro: 0.72 train_prec_macro: 0.76   test_acc: 0.72 test_rec_macro: 0.72 test_prec_macro: 0.76   fit_time: 0.08\n",
            "LDA\n",
            "time : 0.366 \n",
            "\n",
            "LDA: train_acc: 0.72 train_rec_macro: 0.72 train_prec_macro: 0.76   test_acc: 0.72 test_rec_macro: 0.72 test_prec_macro: 0.76   fit_time: 0.05\n",
            "CART\n",
            "time : 0.240 \n",
            "\n",
            "CART: train_acc: 1.00 train_rec_macro: 1.00 train_prec_macro: 1.00   test_acc: 0.66 test_rec_macro: 0.66 test_prec_macro: 0.66   fit_time: 0.03\n",
            "NB\n",
            "time : 0.118 \n",
            "\n",
            "NB: train_acc: 0.75 train_rec_macro: 0.75 train_prec_macro: 0.69   test_acc: 0.75 test_rec_macro: 0.75 test_prec_macro: 0.69   fit_time: 0.01\n",
            "SVC\n",
            "time : 6.731 \n",
            "\n",
            "SVC: train_acc: 0.74 train_rec_macro: 0.74 train_prec_macro: 0.79   test_acc: 0.71 test_rec_macro: 0.71 test_prec_macro: 0.75   fit_time: 0.71\n",
            "RF\n",
            "time : 2.570 \n",
            "\n",
            "RF: train_acc: 1.00 train_rec_macro: 1.00 train_prec_macro: 1.00   test_acc: 0.68 test_rec_macro: 0.68 test_prec_macro: 0.72   fit_time: 0.41\n",
            "AB\n",
            "time : 1.596 \n",
            "\n",
            "AB: train_acc: 0.73 train_rec_macro: 0.73 train_prec_macro: 0.76   test_acc: 0.72 test_rec_macro: 0.72 test_prec_macro: 0.75   fit_time: 0.24\n",
            "GBM\n",
            "time : 3.820 \n",
            "\n",
            "GBM: train_acc: 0.77 train_rec_macro: 0.77 train_prec_macro: 0.81   test_acc: 0.72 test_rec_macro: 0.72 test_prec_macro: 0.75   fit_time: 0.74\n",
            "ET\n",
            "time : 2.648 \n",
            "\n",
            "ET: train_acc: 1.00 train_rec_macro: 1.00 train_prec_macro: 1.00   test_acc: 0.67 test_rec_macro: 0.67 test_prec_macro: 0.69   fit_time: 0.41\n",
            "XGB\n",
            "time : 2.258 \n",
            "\n",
            "XGB: train_acc: 0.75 train_rec_macro: 0.75 train_prec_macro: 0.79   test_acc: 0.72 test_rec_macro: 0.72 test_prec_macro: 0.75   fit_time: 0.42\n",
            "LGBM\n",
            "time : 0.912 \n",
            "\n",
            "LGBM: train_acc: 0.88 train_rec_macro: 0.88 train_prec_macro: 0.90   test_acc: 0.70 test_rec_macro: 0.70 test_prec_macro: 0.73   fit_time: 0.13\n"
          ],
          "name": "stdout"
        }
      ]
    },
    {
      "cell_type": "code",
      "metadata": {
        "id": "YFE0JeqGkdxl",
        "colab_type": "code",
        "colab": {
          "base_uri": "https://localhost:8080/",
          "height": 421
        },
        "outputId": "7a1ab988-9bbc-4ed6-fbe7-18abfd872794"
      },
      "source": [
        "df_results_val=pd.DataFrame(list(zip(names,test_acc,test_rec_macro,test_prec_macro,test_f1_macro,\n",
        "                                     train_acc,train_rec_macro,train_prec_macro,train_f1_macro,\n",
        "                                     fit_time,time_)),\n",
        "                  columns=['Names','test_acc','test_rec_macro','test_prec_macro','test_f1_macro',\n",
        "                           'train_acc','train_rec_macro','train_prec_macro','train_f1_macro',\n",
        "                           'fit_time','time'])\n",
        "df_results_val=df_results_val.sort_values(by='test_f1_macro',ascending=False)\n",
        "df_results_val"
      ],
      "execution_count": 24,
      "outputs": [
        {
          "output_type": "execute_result",
          "data": {
            "text/html": [
              "<div>\n",
              "<style scoped>\n",
              "    .dataframe tbody tr th:only-of-type {\n",
              "        vertical-align: middle;\n",
              "    }\n",
              "\n",
              "    .dataframe tbody tr th {\n",
              "        vertical-align: top;\n",
              "    }\n",
              "\n",
              "    .dataframe thead th {\n",
              "        text-align: right;\n",
              "    }\n",
              "</style>\n",
              "<table border=\"1\" class=\"dataframe\">\n",
              "  <thead>\n",
              "    <tr style=\"text-align: right;\">\n",
              "      <th></th>\n",
              "      <th>Names</th>\n",
              "      <th>test_acc</th>\n",
              "      <th>test_rec_macro</th>\n",
              "      <th>test_prec_macro</th>\n",
              "      <th>test_f1_macro</th>\n",
              "      <th>train_acc</th>\n",
              "      <th>train_rec_macro</th>\n",
              "      <th>train_prec_macro</th>\n",
              "      <th>train_f1_macro</th>\n",
              "      <th>fit_time</th>\n",
              "      <th>time</th>\n",
              "    </tr>\n",
              "  </thead>\n",
              "  <tbody>\n",
              "    <tr>\n",
              "      <th>1</th>\n",
              "      <td>LR</td>\n",
              "      <td>0.723029</td>\n",
              "      <td>0.723029</td>\n",
              "      <td>0.760516</td>\n",
              "      <td>0.737065</td>\n",
              "      <td>0.723531</td>\n",
              "      <td>0.723531</td>\n",
              "      <td>0.761932</td>\n",
              "      <td>0.738131</td>\n",
              "      <td>0.083403</td>\n",
              "      <td>0.555601</td>\n",
              "    </tr>\n",
              "    <tr>\n",
              "      <th>2</th>\n",
              "      <td>LDA</td>\n",
              "      <td>0.724188</td>\n",
              "      <td>0.724188</td>\n",
              "      <td>0.756228</td>\n",
              "      <td>0.736716</td>\n",
              "      <td>0.724539</td>\n",
              "      <td>0.724539</td>\n",
              "      <td>0.758694</td>\n",
              "      <td>0.737874</td>\n",
              "      <td>0.047855</td>\n",
              "      <td>0.365548</td>\n",
              "    </tr>\n",
              "    <tr>\n",
              "      <th>7</th>\n",
              "      <td>AB</td>\n",
              "      <td>0.722097</td>\n",
              "      <td>0.722097</td>\n",
              "      <td>0.752299</td>\n",
              "      <td>0.734022</td>\n",
              "      <td>0.732681</td>\n",
              "      <td>0.732681</td>\n",
              "      <td>0.764799</td>\n",
              "      <td>0.745453</td>\n",
              "      <td>0.244550</td>\n",
              "      <td>1.596041</td>\n",
              "    </tr>\n",
              "    <tr>\n",
              "      <th>8</th>\n",
              "      <td>GBM</td>\n",
              "      <td>0.720317</td>\n",
              "      <td>0.720317</td>\n",
              "      <td>0.754142</td>\n",
              "      <td>0.733301</td>\n",
              "      <td>0.768259</td>\n",
              "      <td>0.768259</td>\n",
              "      <td>0.808703</td>\n",
              "      <td>0.784436</td>\n",
              "      <td>0.739786</td>\n",
              "      <td>3.820082</td>\n",
              "    </tr>\n",
              "    <tr>\n",
              "      <th>10</th>\n",
              "      <td>XGB</td>\n",
              "      <td>0.716862</td>\n",
              "      <td>0.716862</td>\n",
              "      <td>0.749388</td>\n",
              "      <td>0.729445</td>\n",
              "      <td>0.754279</td>\n",
              "      <td>0.754279</td>\n",
              "      <td>0.792835</td>\n",
              "      <td>0.769577</td>\n",
              "      <td>0.416965</td>\n",
              "      <td>2.257590</td>\n",
              "    </tr>\n",
              "    <tr>\n",
              "      <th>5</th>\n",
              "      <td>SVC</td>\n",
              "      <td>0.706234</td>\n",
              "      <td>0.706234</td>\n",
              "      <td>0.750305</td>\n",
              "      <td>0.721675</td>\n",
              "      <td>0.740276</td>\n",
              "      <td>0.740276</td>\n",
              "      <td>0.791326</td>\n",
              "      <td>0.758843</td>\n",
              "      <td>0.707453</td>\n",
              "      <td>6.731284</td>\n",
              "    </tr>\n",
              "    <tr>\n",
              "      <th>11</th>\n",
              "      <td>LGBM</td>\n",
              "      <td>0.702356</td>\n",
              "      <td>0.702356</td>\n",
              "      <td>0.733361</td>\n",
              "      <td>0.714208</td>\n",
              "      <td>0.877746</td>\n",
              "      <td>0.877746</td>\n",
              "      <td>0.896677</td>\n",
              "      <td>0.886512</td>\n",
              "      <td>0.132843</td>\n",
              "      <td>0.911852</td>\n",
              "    </tr>\n",
              "    <tr>\n",
              "      <th>6</th>\n",
              "      <td>RF</td>\n",
              "      <td>0.683732</td>\n",
              "      <td>0.683732</td>\n",
              "      <td>0.722739</td>\n",
              "      <td>0.697307</td>\n",
              "      <td>0.997153</td>\n",
              "      <td>0.997153</td>\n",
              "      <td>0.997156</td>\n",
              "      <td>0.997153</td>\n",
              "      <td>0.412202</td>\n",
              "      <td>2.569603</td>\n",
              "    </tr>\n",
              "    <tr>\n",
              "      <th>0</th>\n",
              "      <td>KNN</td>\n",
              "      <td>0.689204</td>\n",
              "      <td>0.689204</td>\n",
              "      <td>0.701583</td>\n",
              "      <td>0.694595</td>\n",
              "      <td>0.780175</td>\n",
              "      <td>0.780175</td>\n",
              "      <td>0.800183</td>\n",
              "      <td>0.789088</td>\n",
              "      <td>0.015952</td>\n",
              "      <td>3.802064</td>\n",
              "    </tr>\n",
              "    <tr>\n",
              "      <th>4</th>\n",
              "      <td>NB</td>\n",
              "      <td>0.747195</td>\n",
              "      <td>0.747195</td>\n",
              "      <td>0.693491</td>\n",
              "      <td>0.679375</td>\n",
              "      <td>0.747320</td>\n",
              "      <td>0.747320</td>\n",
              "      <td>0.693229</td>\n",
              "      <td>0.680111</td>\n",
              "      <td>0.005128</td>\n",
              "      <td>0.117567</td>\n",
              "    </tr>\n",
              "    <tr>\n",
              "      <th>9</th>\n",
              "      <td>ET</td>\n",
              "      <td>0.666210</td>\n",
              "      <td>0.666210</td>\n",
              "      <td>0.693958</td>\n",
              "      <td>0.676340</td>\n",
              "      <td>0.995953</td>\n",
              "      <td>0.995953</td>\n",
              "      <td>0.998356</td>\n",
              "      <td>0.997146</td>\n",
              "      <td>0.408144</td>\n",
              "      <td>2.648148</td>\n",
              "    </tr>\n",
              "    <tr>\n",
              "      <th>3</th>\n",
              "      <td>CART</td>\n",
              "      <td>0.661771</td>\n",
              "      <td>0.661771</td>\n",
              "      <td>0.659379</td>\n",
              "      <td>0.660287</td>\n",
              "      <td>0.995953</td>\n",
              "      <td>0.995953</td>\n",
              "      <td>0.998356</td>\n",
              "      <td>0.997146</td>\n",
              "      <td>0.029333</td>\n",
              "      <td>0.240036</td>\n",
              "    </tr>\n",
              "  </tbody>\n",
              "</table>\n",
              "</div>"
            ],
            "text/plain": [
              "   Names  test_acc  test_rec_macro  ...  train_f1_macro  fit_time      time\n",
              "1     LR  0.723029        0.723029  ...        0.738131  0.083403  0.555601\n",
              "2    LDA  0.724188        0.724188  ...        0.737874  0.047855  0.365548\n",
              "7     AB  0.722097        0.722097  ...        0.745453  0.244550  1.596041\n",
              "8    GBM  0.720317        0.720317  ...        0.784436  0.739786  3.820082\n",
              "10   XGB  0.716862        0.716862  ...        0.769577  0.416965  2.257590\n",
              "5    SVC  0.706234        0.706234  ...        0.758843  0.707453  6.731284\n",
              "11  LGBM  0.702356        0.702356  ...        0.886512  0.132843  0.911852\n",
              "6     RF  0.683732        0.683732  ...        0.997153  0.412202  2.569603\n",
              "0    KNN  0.689204        0.689204  ...        0.789088  0.015952  3.802064\n",
              "4     NB  0.747195        0.747195  ...        0.680111  0.005128  0.117567\n",
              "9     ET  0.666210        0.666210  ...        0.997146  0.408144  2.648148\n",
              "3   CART  0.661771        0.661771  ...        0.997146  0.029333  0.240036\n",
              "\n",
              "[12 rows x 11 columns]"
            ]
          },
          "metadata": {
            "tags": []
          },
          "execution_count": 24
        }
      ]
    },
    {
      "cell_type": "code",
      "metadata": {
        "id": "vAMmBEQ7kfky",
        "colab_type": "code",
        "colab": {
          "base_uri": "https://localhost:8080/",
          "height": 438
        },
        "outputId": "c94e9e64-2f07-4d9f-de8b-4f012813592c"
      },
      "source": [
        "# Define name:\n",
        "name=df_results_val['Names']\n",
        "test_acc=df_results_val['test_acc']\n",
        "test_rec_micro=df_results_val['test_rec_macro']\n",
        "test_prec_macro=df_results_val['test_prec_macro']\n",
        "test_f1_macro=df_results_val['test_f1_macro']\n",
        "time = df_results_val['time']\n",
        "# Plot:\n",
        "x = np.arange(len(name))\n",
        "fig, ax = plt.subplots(figsize=(10,6))\n",
        "rects1 = ax.bar(x, test_acc, color = 'b', width = 0.25,label='test_acc')\n",
        "rects2 = ax.plot(x, test_rec_micro, color = 'g',marker='o',label='test_rec_macro')\n",
        "rects3 = ax.plot(x, test_prec_macro, color = 'r',marker='o',label='test_prec_macro')\n",
        "rects4 = ax.plot(x, test_prec_macro, color = 'y',marker='o',label='test_f1_macro')\n",
        "\n",
        "ax2 = ax.twinx()\n",
        "ax2.plot(x,time,color ='c',marker='o',lw=2,label='time (s)')\n",
        "ax2.secondary_yaxis('right')\n",
        "\n",
        "ax.set_xticks(x)\n",
        "ax.set_xticklabels(name,fontsize=15)\n",
        "ax.set_ylabel('Percentage',fontsize=15)\n",
        "ax2.set_ylabel('Time',fontsize=15)\n",
        "#plt.gca().legend(loc ='center',bbox_to_anchor=(0.5, -0.2))\n",
        "legend1=ax.legend(loc='center',bbox_to_anchor=(0.5, -0.2),shadow=True, fontsize='medium')\n",
        "legend2=ax2.legend(loc='center',bbox_to_anchor=(0.9, -0.2),shadow=True, fontsize='medium')\n",
        "\n",
        "plt.axis('off')\n",
        "fig.tight_layout()\n",
        "plt.show()"
      ],
      "execution_count": 25,
      "outputs": [
        {
          "output_type": "display_data",
          "data": {
            "image/png": "[encoded data removed]",
            "text/plain": [
              "<Figure size 720x432 with 2 Axes>"
            ]
          },
          "metadata": {
            "tags": [],
            "needs_background": "light"
          }
        }
      ]
    },
    {
      "cell_type": "code",
      "metadata": {
        "id": "WcQmQWjgl_Bt",
        "colab_type": "code",
        "colab": {
          "base_uri": "https://localhost:8080/",
          "height": 170
        },
        "outputId": "a42ec948-778b-4921-aef3-475324136db7"
      },
      "source": [
        "model=LogisticRegression(C=1,max_iter=100000)\n",
        "model.fit(X_train,y_train)\n",
        "predictions=model.predict(X_test)\n",
        "#y_test_labels = np.argmax(y_test.values, axis =1)\n",
        "print(classification_report(y_test,predictions))"
      ],
      "execution_count": 26,
      "outputs": [
        {
          "output_type": "stream",
          "text": [
            "              precision    recall  f1-score   support\n",
            "\n",
            "           0       0.84      0.91      0.87      1033\n",
            "           1       0.66      0.51      0.58       374\n",
            "\n",
            "    accuracy                           0.80      1407\n",
            "   macro avg       0.75      0.71      0.72      1407\n",
            "weighted avg       0.79      0.80      0.79      1407\n",
            "\n"
          ],
          "name": "stdout"
        }
      ]
    },
    {
      "cell_type": "code",
      "metadata": {
        "id": "YEJzhsvRoD4J",
        "colab_type": "code",
        "colab": {
          "base_uri": "https://localhost:8080/",
          "height": 221
        },
        "outputId": "4ef339fa-e94b-4c86-fcfc-1d333de8aa7d"
      },
      "source": [
        "rfc = RandomForestClassifier(n_estimators=500)\n",
        "rfc.fit(X_train, y_train)\n",
        "rfc_pred = rfc.predict(X_test)\n",
        "\n",
        "print(confusion_matrix(y_test,rfc_pred))\n",
        "print('Accuracy score:',accuracy_score(y_test,rfc_pred))\n",
        "print(classification_report(y_test,rfc_pred))"
      ],
      "execution_count": 27,
      "outputs": [
        {
          "output_type": "stream",
          "text": [
            "[[928 105]\n",
            " [195 179]]\n",
            "Accuracy score: 0.7867803837953091\n",
            "              precision    recall  f1-score   support\n",
            "\n",
            "           0       0.83      0.90      0.86      1033\n",
            "           1       0.63      0.48      0.54       374\n",
            "\n",
            "    accuracy                           0.79      1407\n",
            "   macro avg       0.73      0.69      0.70      1407\n",
            "weighted avg       0.77      0.79      0.78      1407\n",
            "\n"
          ],
          "name": "stdout"
        }
      ]
    },
    {
      "cell_type": "code",
      "metadata": {
        "id": "mV9MFuLxnnhI",
        "colab_type": "code",
        "colab": {
          "base_uri": "https://localhost:8080/",
          "height": 170
        },
        "outputId": "ec990920-96cb-4482-eb50-eefc6b43c141"
      },
      "source": [
        "model=LGBMClassifier()\n",
        "model.fit(X_train,y_train)\n",
        "predictions=model.predict(X_test)\n",
        "#y_test_labels = np.argmax(y_test.values, axis =1)\n",
        "print(classification_report(y_test,predictions))"
      ],
      "execution_count": 28,
      "outputs": [
        {
          "output_type": "stream",
          "text": [
            "              precision    recall  f1-score   support\n",
            "\n",
            "           0       0.83      0.89      0.86      1033\n",
            "           1       0.62      0.50      0.55       374\n",
            "\n",
            "    accuracy                           0.78      1407\n",
            "   macro avg       0.72      0.69      0.70      1407\n",
            "weighted avg       0.77      0.78      0.78      1407\n",
            "\n"
          ],
          "name": "stdout"
        }
      ]
    },
    {
      "cell_type": "code",
      "metadata": {
        "id": "A8YB5TuCoVX0",
        "colab_type": "code",
        "colab": {
          "base_uri": "https://localhost:8080/",
          "height": 221
        },
        "outputId": "bb2e47e6-ce83-453e-c521-67640a44ab1e"
      },
      "source": [
        "svc = SVC(gamma=0.001)\n",
        "svc.fit(X_train, y_train)\n",
        "svc_pred = svc.predict(X_test)\n",
        "\n",
        "print(confusion_matrix(y_test,svc_pred))\n",
        "print('accuracy_score:',accuracy_score(y_test, svc_pred))\n",
        "print(classification_report(y_test, svc_pred))"
      ],
      "execution_count": 29,
      "outputs": [
        {
          "output_type": "stream",
          "text": [
            "[[959  74]\n",
            " [217 157]]\n",
            "accuracy_score: 0.7931769722814499\n",
            "              precision    recall  f1-score   support\n",
            "\n",
            "           0       0.82      0.93      0.87      1033\n",
            "           1       0.68      0.42      0.52       374\n",
            "\n",
            "    accuracy                           0.79      1407\n",
            "   macro avg       0.75      0.67      0.69      1407\n",
            "weighted avg       0.78      0.79      0.78      1407\n",
            "\n"
          ],
          "name": "stdout"
        }
      ]
    },
    {
      "cell_type": "markdown",
      "metadata": {
        "id": "1QS0UgneAeQE",
        "colab_type": "text"
      },
      "source": [
        "# Aritificial Neural Network (ANN) with Keras"
      ]
    },
    {
      "cell_type": "code",
      "metadata": {
        "id": "ozxVIHuHkT2j",
        "colab_type": "code",
        "colab": {}
      },
      "source": [
        "def plot_loss(history, label):\n",
        "  # Use a log scale to show the wide range of values.\n",
        "  plt.semilogy(history.epoch,  history.history['loss'],\n",
        "               #color=colors[n], \n",
        "               label='Train '+label)\n",
        "  plt.semilogy(history.epoch,  history.history['val_loss'],\n",
        "          #color=colors[n], \n",
        "          label='Val '+label,\n",
        "          linestyle=\"--\")\n",
        "  plt.xlabel('Epoch')\n",
        "  plt.ylabel('Loss')\n",
        "  \n",
        "  plt.legend()\n",
        "\n",
        "def plot_cm(labels, predictions, p=0.5):\n",
        "  cm = confusion_matrix(labels, predictions > p)\n",
        "  plt.figure(figsize=(5,5))\n",
        "  sns.heatmap(cm, annot=True, fmt=\"d\")\n",
        "  plt.title('Confusion matrix @{:.2f}'.format(p))\n",
        "  plt.ylabel('Actual label')\n",
        "  plt.xlabel('Predicted label')\n",
        "\n",
        "  print('Legitimate Transactions Detected (True Negatives): ', cm[0][0])\n",
        "  print('Legitimate Transactions Incorrectly Detected (False Positives): ', cm[0][1])\n",
        "  print('Fraudulent Transactions Missed (False Negatives): ', cm[1][0])\n",
        "  print('Fraudulent Transactions Detected (True Positives): ', cm[1][1])\n",
        "  print('Total Fraudulent Transactions: ', np.sum(cm[1]))"
      ],
      "execution_count": 30,
      "outputs": []
    },
    {
      "cell_type": "markdown",
      "metadata": {
        "id": "ZZEpZnura9aL",
        "colab_type": "text"
      },
      "source": [
        "## Base model"
      ]
    },
    {
      "cell_type": "code",
      "metadata": {
        "id": "x88wXDMSAbtz",
        "colab_type": "code",
        "colab": {
          "base_uri": "https://localhost:8080/",
          "height": 255
        },
        "outputId": "81df01fc-dd0f-4267-c21b-862140d3c438"
      },
      "source": [
        "tf.random.set_seed(42)\n",
        "np.random.seed(42)\n",
        "\n",
        "model = Sequential()\n",
        "model.add(Dense(16, input_dim=X_train.shape[1], activation='relu'))\n",
        "model.add(Dense(8, activation='relu'))\n",
        "model.add(Dense(1, activation='sigmoid'))\n",
        "model.summary()\n",
        "model.compile(loss='binary_crossentropy', optimizer='adam', metrics=['accuracy'])"
      ],
      "execution_count": 31,
      "outputs": [
        {
          "output_type": "stream",
          "text": [
            "Model: \"sequential_1\"\n",
            "_________________________________________________________________\n",
            "Layer (type)                 Output Shape              Param #   \n",
            "=================================================================\n",
            "dense_1 (Dense)              (None, 16)                752       \n",
            "_________________________________________________________________\n",
            "dense_2 (Dense)              (None, 8)                 136       \n",
            "_________________________________________________________________\n",
            "dense_3 (Dense)              (None, 1)                 9         \n",
            "=================================================================\n",
            "Total params: 897\n",
            "Trainable params: 897\n",
            "Non-trainable params: 0\n",
            "_________________________________________________________________\n"
          ],
          "name": "stdout"
        }
      ]
    },
    {
      "cell_type": "code",
      "metadata": {
        "id": "npqKm9PnXJEJ",
        "colab_type": "code",
        "colab": {
          "base_uri": "https://localhost:8080/",
          "height": 34
        },
        "outputId": "40c6997a-cb04-468f-b1dd-1af3942a3209"
      },
      "source": [
        "X_train.shape"
      ],
      "execution_count": 32,
      "outputs": [
        {
          "output_type": "execute_result",
          "data": {
            "text/plain": [
              "(4500, 46)"
            ]
          },
          "metadata": {
            "tags": []
          },
          "execution_count": 32
        }
      ]
    },
    {
      "cell_type": "code",
      "metadata": {
        "id": "1t3QlUq_Axb9",
        "colab_type": "code",
        "colab": {
          "base_uri": "https://localhost:8080/",
          "height": 374
        },
        "outputId": "6e7a1963-85cd-40c4-be4e-6cf8e36174ad"
      },
      "source": [
        "# network and training\n",
        "EPOCHS = 200\n",
        "BATCH_SIZE = 100 #10 as normal\n",
        "\n",
        "# Set callback functions to early stop training and save the best model so far\n",
        "callbacks = [EarlyStopping(monitor=\"val_accuracy\", patience=3, # patient =3\n",
        "                           #mode='max',restore_best_weights=True #Not include as normal\n",
        "                           ),\n",
        "            #ModelCheckpoint(filepath=\"best_model.h5\",\n",
        "            #                monitor=\"val_auc\",\n",
        "            #                save_best_only=True)\n",
        "            ]\n",
        "#training the moodel\n",
        "result=model.fit(X_train, y_train,\n",
        "                batch_size=BATCH_SIZE, epochs=EPOCHS,\n",
        "                callbacks=callbacks,\n",
        "                validation_data=(X_val, y_val),\n",
        "                verbose=2)"
      ],
      "execution_count": 33,
      "outputs": [
        {
          "output_type": "stream",
          "text": [
            "Train on 4500 samples, validate on 1125 samples\n",
            "Epoch 1/200\n",
            " - 0s - loss: 0.7313 - accuracy: 0.4784 - val_loss: 0.6365 - val_accuracy: 0.7342\n",
            "Epoch 2/200\n",
            " - 0s - loss: 0.5760 - accuracy: 0.7447 - val_loss: 0.5264 - val_accuracy: 0.7600\n",
            "Epoch 3/200\n",
            " - 0s - loss: 0.4756 - accuracy: 0.7880 - val_loss: 0.4530 - val_accuracy: 0.7929\n",
            "Epoch 4/200\n",
            " - 0s - loss: 0.4280 - accuracy: 0.8022 - val_loss: 0.4327 - val_accuracy: 0.7991\n",
            "Epoch 5/200\n",
            " - 0s - loss: 0.4167 - accuracy: 0.8042 - val_loss: 0.4276 - val_accuracy: 0.8018\n",
            "Epoch 6/200\n",
            " - 0s - loss: 0.4127 - accuracy: 0.8067 - val_loss: 0.4253 - val_accuracy: 0.8036\n",
            "Epoch 7/200\n",
            " - 0s - loss: 0.4104 - accuracy: 0.8082 - val_loss: 0.4234 - val_accuracy: 0.8044\n",
            "Epoch 8/200\n",
            " - 0s - loss: 0.4083 - accuracy: 0.8078 - val_loss: 0.4232 - val_accuracy: 0.8018\n",
            "Epoch 9/200\n",
            " - 0s - loss: 0.4071 - accuracy: 0.8084 - val_loss: 0.4209 - val_accuracy: 0.8009\n",
            "Epoch 10/200\n",
            " - 0s - loss: 0.4058 - accuracy: 0.8096 - val_loss: 0.4204 - val_accuracy: 0.8027\n"
          ],
          "name": "stdout"
        }
      ]
    },
    {
      "cell_type": "code",
      "metadata": {
        "id": "OcKxdaTxXuLy",
        "colab_type": "code",
        "colab": {
          "base_uri": "https://localhost:8080/",
          "height": 285
        },
        "outputId": "958c92ea-c821-41f2-9714-3454c4420400"
      },
      "source": [
        "plot_loss(result,'base')"
      ],
      "execution_count": 34,
      "outputs": [
        {
          "output_type": "display_data",
          "data": {
            "image/png": "[encoded data removed]",
            "text/plain": [
              "<Figure size 432x288 with 1 Axes>"
            ]
          },
          "metadata": {
            "tags": [],
            "needs_background": "light"
          }
        }
      ]
    },
    {
      "cell_type": "code",
      "metadata": {
        "id": "VfNkTlKvXw1f",
        "colab_type": "code",
        "colab": {
          "base_uri": "https://localhost:8080/",
          "height": 170
        },
        "outputId": "541e63d4-6701-4a5c-d6eb-a9deed0bef40"
      },
      "source": [
        "predictions=model.predict_classes(X_test)\n",
        "#y_test_labels = np.argmax(y_test.values, axis =1)\n",
        "print(classification_report(y_test,predictions))"
      ],
      "execution_count": 35,
      "outputs": [
        {
          "output_type": "stream",
          "text": [
            "              precision    recall  f1-score   support\n",
            "\n",
            "           0       0.84      0.90      0.87      1033\n",
            "           1       0.65      0.52      0.58       374\n",
            "\n",
            "    accuracy                           0.80      1407\n",
            "   macro avg       0.75      0.71      0.72      1407\n",
            "weighted avg       0.79      0.80      0.79      1407\n",
            "\n"
          ],
          "name": "stdout"
        }
      ]
    },
    {
      "cell_type": "markdown",
      "metadata": {
        "id": "jRLUmSPfa_BT",
        "colab_type": "text"
      },
      "source": [
        "## Turning different model"
      ]
    },
    {
      "cell_type": "code",
      "metadata": {
        "id": "5-onozlvabok",
        "colab_type": "code",
        "colab": {}
      },
      "source": [
        "METRICS = [\n",
        "      keras.metrics.TruePositives(name='tp'),\n",
        "      keras.metrics.FalsePositives(name='fp'),\n",
        "      keras.metrics.TrueNegatives(name='tn'),\n",
        "      keras.metrics.FalseNegatives(name='fn'), \n",
        "      keras.metrics.BinaryAccuracy(name='accuracy'),\n",
        "      keras.metrics.Precision(name='precision'),\n",
        "      keras.metrics.Recall(name='recall'),\n",
        "      keras.metrics.AUC(name='auc'),\n",
        "]"
      ],
      "execution_count": 36,
      "outputs": []
    },
    {
      "cell_type": "code",
      "metadata": {
        "id": "IfmkR0eQbCuK",
        "colab_type": "code",
        "colab": {
          "base_uri": "https://localhost:8080/",
          "height": 391
        },
        "outputId": "fabf796b-ae29-4a6c-8799-562b83a72a2f"
      },
      "source": [
        "tf.random.set_seed(42)\n",
        "np.random.seed(42)\n",
        "\n",
        "DROPOUT = 0.3\n",
        "numlabel=1\n",
        "#output_bias=0.5\n",
        "#build the model\n",
        "#----input-------#\n",
        "model3 =Sequential()\n",
        "model3.add(Dense(30,input_dim=X_train.shape[1],activation='relu'))\n",
        "model3.add(Dropout(DROPOUT))\n",
        "#----hiden layer-------#\n",
        "model3.add(Dense(20,activation='relu'))\n",
        "model3.add(Dropout(DROPOUT))\n",
        "model3.add(Dense(10,activation='relu'))\n",
        "model3.add(Dropout(DROPOUT))\n",
        "#----output-------#\n",
        "model3.add(Dense(numlabel,activation='sigmoid',  #binary: sigmoid. multi: softmax\n",
        "                #bias_initializer=output_bias\n",
        "                )) \n",
        "model3.summary()\n",
        "# compiling the model\n",
        "model3.compile(optimizer='Adam', \n",
        "              #optimizer=keras.optimizers.SGD(lr=1e-3),\n",
        "              loss='binary_crossentropy',\n",
        "              metrics=METRICS)"
      ],
      "execution_count": 37,
      "outputs": [
        {
          "output_type": "stream",
          "text": [
            "Model: \"sequential_2\"\n",
            "_________________________________________________________________\n",
            "Layer (type)                 Output Shape              Param #   \n",
            "=================================================================\n",
            "dense_4 (Dense)              (None, 30)                1410      \n",
            "_________________________________________________________________\n",
            "dropout_1 (Dropout)          (None, 30)                0         \n",
            "_________________________________________________________________\n",
            "dense_5 (Dense)              (None, 20)                620       \n",
            "_________________________________________________________________\n",
            "dropout_2 (Dropout)          (None, 20)                0         \n",
            "_________________________________________________________________\n",
            "dense_6 (Dense)              (None, 10)                210       \n",
            "_________________________________________________________________\n",
            "dropout_3 (Dropout)          (None, 10)                0         \n",
            "_________________________________________________________________\n",
            "dense_7 (Dense)              (None, 1)                 11        \n",
            "=================================================================\n",
            "Total params: 2,251\n",
            "Trainable params: 2,251\n",
            "Non-trainable params: 0\n",
            "_________________________________________________________________\n"
          ],
          "name": "stdout"
        }
      ]
    },
    {
      "cell_type": "code",
      "metadata": {
        "id": "R57KZGMsbdli",
        "colab_type": "code",
        "colab": {
          "base_uri": "https://localhost:8080/",
          "height": 258
        },
        "outputId": "c040cf4e-e018-43f3-87a1-f0c10af4497f"
      },
      "source": [
        "# network and training\n",
        "EPOCHS = 200\n",
        "BATCH_SIZE = 100 #10 as normal\n",
        "\n",
        "# Set callback functions to early stop training and save the best model so far\n",
        "callbacks = [EarlyStopping(monitor=\"val_recall\", patience=3, # patient =3\n",
        "                           #mode='max',restore_best_weights=True #Not include as normal\n",
        "                           ),\n",
        "            #ModelCheckpoint(filepath=\"best_model.h5\",\n",
        "            #                monitor=\"val_auc\",\n",
        "            #                save_best_only=True)\n",
        "            ]\n",
        "#training the moodel\n",
        "result=model3.fit(X_train, y_train,\n",
        "                batch_size=BATCH_SIZE, epochs=EPOCHS,\n",
        "                callbacks=callbacks,\n",
        "                validation_data=(X_val, y_val),\n",
        "                verbose=2)"
      ],
      "execution_count": 38,
      "outputs": [
        {
          "output_type": "stream",
          "text": [
            "Train on 4500 samples, validate on 1125 samples\n",
            "Epoch 1/200\n",
            " - 0s - loss: 0.6527 - tp: 206.3556 - fp: 556.6000 - tn: 1133.1111 - fn: 403.9333 - accuracy: 0.5502 - precision: 0.2659 - recall: 0.3856 - auc: 0.5169 - val_loss: 0.5710 - val_tp: 323.0000 - val_fp: 821.0000 - val_tn: 2961.0833 - val_fn: 1038.6666 - val_accuracy: 0.6381 - val_precision: 0.2823 - val_recall: 0.2383 - val_auc: 0.5465\n",
            "Epoch 2/200\n",
            " - 0s - loss: 0.5668 - tp: 387.3333 - fp: 936.6000 - tn: 4891.8887 - fn: 1709.1777 - accuracy: 0.6646 - precision: 0.2922 - recall: 0.1872 - auc: 0.5687 - val_loss: 0.4913 - val_tp: 438.7500 - val_fp: 1017.0000 - val_tn: 6895.0835 - val_fn: 2417.9167 - val_accuracy: 0.6810 - val_precision: 0.3014 - val_recall: 0.1537 - val_auc: 0.5982\n",
            "Epoch 3/200\n",
            " - 0s - loss: 0.5276 - tp: 498.6222 - fp: 1082.5111 - tn: 8869.7334 - fn: 3099.1333 - accuracy: 0.6910 - precision: 0.3149 - recall: 0.1389 - auc: 0.6207 - val_loss: 0.4590 - val_tp: 594.5833 - val_fp: 1152.3334 - val_tn: 10889.7500 - val_fn: 3757.0833 - val_accuracy: 0.7005 - val_precision: 0.3403 - val_recall: 0.1366 - val_auc: 0.6421\n",
            "Epoch 4/200\n",
            " - 0s - loss: 0.4937 - tp: 731.5778 - fp: 1232.6888 - tn: 12842.6445 - fn: 4368.0889 - accuracy: 0.7077 - precision: 0.3716 - recall: 0.1432 - auc: 0.6605 - val_loss: 0.4362 - val_tp: 930.0833 - val_fp: 1330.0000 - val_tn: 14842.0830 - val_fn: 4916.5835 - val_accuracy: 0.7163 - val_precision: 0.4114 - val_recall: 0.1590 - val_auc: 0.6802\n",
            "Epoch 5/200\n",
            " - 0s - loss: 0.4699 - tp: 1155.6666 - fp: 1461.0000 - tn: 16760.0215 - fn: 5423.3110 - accuracy: 0.7223 - precision: 0.4410 - recall: 0.1754 - auc: 0.6943 - val_loss: 0.4290 - val_tp: 1425.1666 - val_fp: 1618.5000 - val_tn: 18683.5840 - val_fn: 5916.5000 - val_accuracy: 0.7274 - val_precision: 0.4681 - val_recall: 0.1941 - val_auc: 0.7087\n",
            "Epoch 6/200\n",
            " - 0s - loss: 0.4675 - tp: 1762.6222 - fp: 1807.1333 - tn: 20525.0215 - fn: 6330.2222 - accuracy: 0.7325 - precision: 0.4932 - recall: 0.2174 - auc: 0.7197 - val_loss: 0.4259 - val_tp: 2095.8333 - val_fp: 2009.8334 - val_tn: 22422.2500 - val_fn: 6740.8335 - val_accuracy: 0.7370 - val_precision: 0.5104 - val_recall: 0.2371 - val_auc: 0.7288\n"
          ],
          "name": "stdout"
        }
      ]
    },
    {
      "cell_type": "code",
      "metadata": {
        "id": "zK5tYsMibkCk",
        "colab_type": "code",
        "colab": {
          "base_uri": "https://localhost:8080/",
          "height": 285
        },
        "outputId": "17c1fd37-4be5-406d-e770-1f737d048bd8"
      },
      "source": [
        "plot_loss(result,'base')"
      ],
      "execution_count": 39,
      "outputs": [
        {
          "output_type": "display_data",
          "data": {
            "image/png": "[encoded data removed]",
            "text/plain": [
              "<Figure size 432x288 with 1 Axes>"
            ]
          },
          "metadata": {
            "tags": [],
            "needs_background": "light"
          }
        }
      ]
    },
    {
      "cell_type": "code",
      "metadata": {
        "id": "kwjYlsVxbr2r",
        "colab_type": "code",
        "colab": {
          "base_uri": "https://localhost:8080/",
          "height": 170
        },
        "outputId": "6c604004-27aa-4de1-8339-57ceffe69b1c"
      },
      "source": [
        "predictions=model3.predict_classes(X_test)\n",
        "#y_test_labels = np.argmax(y_test.values, axis =1)\n",
        "print(classification_report(y_test,predictions))"
      ],
      "execution_count": 40,
      "outputs": [
        {
          "output_type": "stream",
          "text": [
            "              precision    recall  f1-score   support\n",
            "\n",
            "           0       0.85      0.88      0.86      1033\n",
            "           1       0.64      0.56      0.59       374\n",
            "\n",
            "    accuracy                           0.80      1407\n",
            "   macro avg       0.74      0.72      0.73      1407\n",
            "weighted avg       0.79      0.80      0.79      1407\n",
            "\n"
          ],
          "name": "stdout"
        }
      ]
    },
    {
      "cell_type": "markdown",
      "metadata": {
        "id": "tWi2Csn3o6A9",
        "colab_type": "text"
      },
      "source": [
        "## Under sampling"
      ]
    },
    {
      "cell_type": "code",
      "metadata": {
        "id": "ra2q2fXVb08b",
        "colab_type": "code",
        "colab": {
          "base_uri": "https://localhost:8080/",
          "height": 139
        },
        "outputId": "a2b3ae07-51d8-45a6-f604-862019f2fb94"
      },
      "source": [
        "#imblearn library\n",
        "from imblearn.pipeline import make_pipeline as imbalanced_make_pipeline\n",
        "from imblearn.over_sampling import SMOTE\n",
        "from imblearn.under_sampling import NearMiss\n",
        "from imblearn.metrics import classification_report_imbalanced\n",
        "from collections import Counter"
      ],
      "execution_count": 41,
      "outputs": [
        {
          "output_type": "stream",
          "text": [
            "/usr/local/lib/python3.6/dist-packages/sklearn/externals/six.py:31: FutureWarning: The module is deprecated in version 0.21 and will be removed in version 0.23 since we've dropped support for Python 2.7. Please rely on the official version of six (https://pypi.org/project/six/).\n",
            "  \"(https://pypi.org/project/six/).\", FutureWarning)\n",
            "/usr/local/lib/python3.6/dist-packages/sklearn/utils/deprecation.py:144: FutureWarning: The sklearn.neighbors.base module is  deprecated in version 0.22 and will be removed in version 0.24. The corresponding classes / functions should instead be imported from sklearn.neighbors. Anything that cannot be imported from sklearn.neighbors is now part of the private API.\n",
            "  warnings.warn(message, FutureWarning)\n",
            "/usr/local/lib/python3.6/dist-packages/sklearn/utils/deprecation.py:144: FutureWarning: The sklearn.metrics.classification module is  deprecated in version 0.22 and will be removed in version 0.24. The corresponding classes / functions should instead be imported from sklearn.metrics. Anything that cannot be imported from sklearn.metrics is now part of the private API.\n",
            "  warnings.warn(message, FutureWarning)\n"
          ],
          "name": "stderr"
        }
      ]
    },
    {
      "cell_type": "code",
      "metadata": {
        "id": "wCMBV5F6pAA6",
        "colab_type": "code",
        "colab": {
          "base_uri": "https://localhost:8080/",
          "height": 173
        },
        "outputId": "a543bff6-0b21-45d0-fb5b-400afda7d1ba"
      },
      "source": [
        "nr = NearMiss()\n",
        "X_train_under, y_train_under = nr.fit_sample(X_train, y_train)\n",
        "print(X_train_under.shape)\n",
        "Counter(y_train_under)"
      ],
      "execution_count": 42,
      "outputs": [
        {
          "output_type": "stream",
          "text": [
            "/usr/local/lib/python3.6/dist-packages/sklearn/utils/deprecation.py:87: FutureWarning: Function safe_indexing is deprecated; safe_indexing is deprecated in version 0.22 and will be removed in version 0.24.\n",
            "  warnings.warn(msg, category=FutureWarning)\n",
            "/usr/local/lib/python3.6/dist-packages/sklearn/utils/deprecation.py:87: FutureWarning: Function safe_indexing is deprecated; safe_indexing is deprecated in version 0.22 and will be removed in version 0.24.\n",
            "  warnings.warn(msg, category=FutureWarning)\n"
          ],
          "name": "stderr"
        },
        {
          "output_type": "stream",
          "text": [
            "(2392, 46)\n"
          ],
          "name": "stdout"
        },
        {
          "output_type": "stream",
          "text": [
            "/usr/local/lib/python3.6/dist-packages/sklearn/utils/deprecation.py:87: FutureWarning: Function safe_indexing is deprecated; safe_indexing is deprecated in version 0.22 and will be removed in version 0.24.\n",
            "  warnings.warn(msg, category=FutureWarning)\n"
          ],
          "name": "stderr"
        },
        {
          "output_type": "execute_result",
          "data": {
            "text/plain": [
              "Counter({0: 1196, 1: 1196})"
            ]
          },
          "metadata": {
            "tags": []
          },
          "execution_count": 42
        }
      ]
    },
    {
      "cell_type": "code",
      "metadata": {
        "id": "qwtR2LHspDpz",
        "colab_type": "code",
        "colab": {
          "base_uri": "https://localhost:8080/",
          "height": 343
        },
        "outputId": "27c94e0c-bca9-4274-864f-c3b508344da2"
      },
      "source": [
        "tf.random.set_seed(42)\n",
        "np.random.seed(42)\n",
        "\n",
        "DROPOUT = 0.3\n",
        "numlabel=1\n",
        "#output_bias=0.5\n",
        "#build the model\n",
        "#----input-------#\n",
        "model3 =Sequential()\n",
        "model3.add(Dense(30,input_dim=X_train.shape[1],activation='relu'))\n",
        "model3.add(Dropout(DROPOUT))\n",
        "#----hiden layer-------#\n",
        "model3.add(Dense(20,activation='relu'))\n",
        "model3.add(Dropout(DROPOUT))\n",
        "model3.add(Dense(10,activation='relu'))\n",
        "model3.add(Dropout(DROPOUT))\n",
        "#----output-------#\n",
        "model3.add(Dense(numlabel,activation='sigmoid',  #binary: sigmoid. multi: softmax\n",
        "                #bias_initializer=output_bias\n",
        "                )) \n",
        "# model3.summary()\n",
        "# compiling the model\n",
        "model3.compile(optimizer='Adam', \n",
        "              #optimizer=keras.optimizers.SGD(lr=1e-3),\n",
        "              loss='binary_crossentropy',\n",
        "              metrics=METRICS)\n",
        "# network and training\n",
        "EPOCHS = 200\n",
        "BATCH_SIZE = 100 #10 as normal\n",
        "\n",
        "# Set callback functions to early stop training and save the best model so far\n",
        "callbacks = [EarlyStopping(monitor=\"val_recall\", patience=3, # patient =3\n",
        "                           #mode='max',restore_best_weights=True #Not include as normal\n",
        "                           ),\n",
        "            ]\n",
        "#training the moodel\n",
        "result=model3.fit(X_train_under, y_train_under,\n",
        "                batch_size=BATCH_SIZE, epochs=EPOCHS,\n",
        "                callbacks=callbacks,\n",
        "                validation_data=(X_val, y_val),\n",
        "                verbose=2)\n",
        "predictions=model3.predict_classes(X_test)\n",
        "#y_test_labels = np.argmax(y_test.values, axis =1)\n",
        "print(classification_report(y_test,predictions))"
      ],
      "execution_count": 43,
      "outputs": [
        {
          "output_type": "stream",
          "text": [
            "Train on 2392 samples, validate on 1125 samples\n",
            "Epoch 1/200\n",
            " - 0s - loss: 0.6911 - tp: 2527.8750 - fp: 2371.3333 - tn: 23037.0840 - fn: 7063.3750 - accuracy: 0.7305 - precision: 0.5158 - recall: 0.2631 - auc: 0.7305 - val_loss: 0.6638 - val_tp: 2977.5000 - val_fp: 2812.9167 - val_tn: 23641.1660 - val_fn: 7354.1665 - val_accuracy: 0.7236 - val_precision: 0.5143 - val_recall: 0.2882 - val_auc: 0.7268\n",
            "Epoch 2/200\n",
            " - 0s - loss: 0.6773 - tp: 3426.7083 - fp: 3262.4167 - tn: 24179.1250 - fn: 7648.4165 - accuracy: 0.7168 - precision: 0.5122 - recall: 0.3091 - auc: 0.7243 - val_loss: 0.6528 - val_tp: 3879.8333 - val_fp: 3649.9167 - val_tn: 24826.1660 - val_fn: 7946.8335 - val_accuracy: 0.7123 - val_precision: 0.5153 - val_recall: 0.3280 - val_auc: 0.7224\n",
            "Epoch 3/200\n",
            " - 0s - loss: 0.6728 - tp: 4337.2915 - fp: 4025.7083 - tn: 25427.9160 - fn: 8242.7500 - accuracy: 0.7082 - precision: 0.5185 - recall: 0.3446 - auc: 0.7211 - val_loss: 0.6447 - val_tp: 4806.2500 - val_fp: 4437.6665 - val_tn: 26060.4160 - val_fn: 8515.4170 - val_accuracy: 0.7044 - val_precision: 0.5199 - val_recall: 0.3608 - val_auc: 0.7193\n",
            "Epoch 4/200\n",
            " - 0s - loss: 0.6670 - tp: 5296.9585 - fp: 4845.2085 - tn: 26635.7090 - fn: 8772.7920 - accuracy: 0.7011 - precision: 0.5222 - recall: 0.3763 - auc: 0.7185 - val_loss: 0.6321 - val_tp: 5771.6665 - val_fp: 5234.4165 - val_tn: 27285.6660 - val_fn: 9045.0000 - val_accuracy: 0.6983 - val_precision: 0.5244 - val_recall: 0.3895 - val_auc: 0.7177\n",
            "              precision    recall  f1-score   support\n",
            "\n",
            "           0       0.89      0.71      0.79      1033\n",
            "           1       0.49      0.75      0.59       374\n",
            "\n",
            "    accuracy                           0.72      1407\n",
            "   macro avg       0.69      0.73      0.69      1407\n",
            "weighted avg       0.78      0.72      0.74      1407\n",
            "\n"
          ],
          "name": "stdout"
        }
      ]
    },
    {
      "cell_type": "markdown",
      "metadata": {
        "id": "tgRxW6LSp3qW",
        "colab_type": "text"
      },
      "source": [
        "## SMOTE"
      ]
    },
    {
      "cell_type": "code",
      "metadata": {
        "id": "Rj6zDkrqpXM3",
        "colab_type": "code",
        "colab": {
          "base_uri": "https://localhost:8080/",
          "height": 105
        },
        "outputId": "ce5179cd-e5e2-4a31-f0b1-397e1becc918"
      },
      "source": [
        "smt = SMOTE()\n",
        "X_train_smote, y_train_smote = smt.fit_sample(X_train, y_train)\n",
        "print(X_train_smote.shape)\n",
        "Counter(y_train_smote)"
      ],
      "execution_count": 44,
      "outputs": [
        {
          "output_type": "stream",
          "text": [
            "(6608, 46)\n"
          ],
          "name": "stdout"
        },
        {
          "output_type": "stream",
          "text": [
            "/usr/local/lib/python3.6/dist-packages/sklearn/utils/deprecation.py:87: FutureWarning: Function safe_indexing is deprecated; safe_indexing is deprecated in version 0.22 and will be removed in version 0.24.\n",
            "  warnings.warn(msg, category=FutureWarning)\n"
          ],
          "name": "stderr"
        },
        {
          "output_type": "execute_result",
          "data": {
            "text/plain": [
              "Counter({0: 3304, 1: 3304})"
            ]
          },
          "metadata": {
            "tags": []
          },
          "execution_count": 44
        }
      ]
    },
    {
      "cell_type": "code",
      "metadata": {
        "id": "bIohNXpup6Mr",
        "colab_type": "code",
        "colab": {
          "base_uri": "https://localhost:8080/",
          "height": 343
        },
        "outputId": "4d642ee2-08c9-473d-8ec7-b615a2ff1cab"
      },
      "source": [
        "tf.random.set_seed(42)\n",
        "np.random.seed(42)\n",
        "\n",
        "DROPOUT = 0.3\n",
        "numlabel=1\n",
        "#output_bias=0.5\n",
        "#build the model\n",
        "#----input-------#\n",
        "model3 =Sequential()\n",
        "model3.add(Dense(30,input_dim=X_train.shape[1],activation='relu'))\n",
        "model3.add(Dropout(DROPOUT))\n",
        "#----hiden layer-------#\n",
        "model3.add(Dense(20,activation='relu'))\n",
        "model3.add(Dropout(DROPOUT))\n",
        "model3.add(Dense(10,activation='relu'))\n",
        "model3.add(Dropout(DROPOUT))\n",
        "#----output-------#\n",
        "model3.add(Dense(numlabel,activation='sigmoid',  #binary: sigmoid. multi: softmax\n",
        "                #bias_initializer=output_bias\n",
        "                )) \n",
        "# model3.summary()\n",
        "# compiling the model\n",
        "model3.compile(optimizer='Adam', \n",
        "              #optimizer=keras.optimizers.SGD(lr=1e-3),\n",
        "              loss='binary_crossentropy',\n",
        "              metrics=METRICS)\n",
        "# network and training\n",
        "EPOCHS = 200\n",
        "BATCH_SIZE = 100 #10 as normal\n",
        "\n",
        "# Set callback functions to early stop training and save the best model so far\n",
        "callbacks = [EarlyStopping(monitor=\"val_recall\", patience=3, # patient =3\n",
        "                           #mode='max',restore_best_weights=True #Not include as normal\n",
        "                           ),\n",
        "            ]\n",
        "#training the moodel\n",
        "result=model3.fit(X_train_smote, y_train_smote,\n",
        "                batch_size=BATCH_SIZE, epochs=EPOCHS,\n",
        "                callbacks=callbacks,\n",
        "                validation_data=(X_val, y_val),\n",
        "                verbose=2)\n",
        "predictions=model3.predict_classes(X_test)\n",
        "#y_test_labels = np.argmax(y_test.values, axis =1)\n",
        "print(classification_report(y_test,predictions))"
      ],
      "execution_count": 45,
      "outputs": [
        {
          "output_type": "stream",
          "text": [
            "Train on 6608 samples, validate on 1125 samples\n",
            "Epoch 1/200\n",
            " - 1s - loss: 0.6554 - tp: 6932.9551 - fp: 6137.5371 - tn: 28435.0898 - fn: 9711.0449 - accuracy: 0.6907 - precision: 0.5300 - recall: 0.4157 - auc: 0.7159 - val_loss: 0.6047 - val_tp: 8145.3335 - val_fp: 6969.5000 - val_tn: 29680.5840 - val_fn: 10274.3330 - val_accuracy: 0.6869 - val_precision: 0.5389 - val_recall: 0.4422 - val_auc: 0.7180\n",
            "Epoch 2/200\n",
            " - 0s - loss: 0.5976 - tp: 9360.8359 - fp: 7577.6270 - tn: 31133.5371 - fn: 10877.6270 - accuracy: 0.6869 - precision: 0.5522 - recall: 0.4621 - auc: 0.7225 - val_loss: 0.5280 - val_tp: 10587.6670 - val_fp: 8149.5000 - val_tn: 32630.5840 - val_fn: 11435.0000 - val_accuracy: 0.6882 - val_precision: 0.5651 - val_recall: 0.4808 - val_auc: 0.7284\n",
            "Epoch 3/200\n",
            " - 0s - loss: 0.5424 - tp: 11882.9551 - fp: 8653.1641 - tn: 34198.2539 - fn: 11948.2539 - accuracy: 0.6910 - precision: 0.5783 - recall: 0.4983 - auc: 0.7354 - val_loss: 0.5010 - val_tp: 13194.9170 - val_fp: 9160.9170 - val_tn: 35749.1680 - val_fn: 12430.7500 - val_accuracy: 0.6939 - val_precision: 0.5902 - val_recall: 0.5149 - val_auc: 0.7422\n",
            "Epoch 4/200\n",
            " - 0s - loss: 0.5234 - tp: 14617.1943 - fp: 9698.7012 - tn: 37256.3438 - fn: 12843.3877 - accuracy: 0.6970 - precision: 0.6009 - recall: 0.5320 - auc: 0.7489 - val_loss: 0.4718 - val_tp: 15988.0830 - val_fp: 10243.0830 - val_tn: 38797.0000 - val_fn: 13240.5830 - val_accuracy: 0.7000 - val_precision: 0.6095 - val_recall: 0.5470 - val_auc: 0.7549\n",
            "              precision    recall  f1-score   support\n",
            "\n",
            "           0       0.91      0.74      0.81      1033\n",
            "           1       0.52      0.79      0.63       374\n",
            "\n",
            "    accuracy                           0.75      1407\n",
            "   macro avg       0.71      0.76      0.72      1407\n",
            "weighted avg       0.80      0.75      0.77      1407\n",
            "\n"
          ],
          "name": "stdout"
        }
      ]
    },
    {
      "cell_type": "markdown",
      "metadata": {
        "id": "otbKw120qENs",
        "colab_type": "text"
      },
      "source": [
        "## MSMOTE"
      ]
    },
    {
      "cell_type": "code",
      "metadata": {
        "id": "7cnve2gPp_dC",
        "colab_type": "code",
        "colab": {
          "base_uri": "https://localhost:8080/",
          "height": 1000
        },
        "outputId": "db89dbfd-5720-49d5-d5ba-5d873f89dc32"
      },
      "source": [
        "!pip install smote_variants"
      ],
      "execution_count": 46,
      "outputs": [
        {
          "output_type": "stream",
          "text": [
            "Collecting smote_variants\n",
            "\u001b[?25l  Downloading https://files.pythonhosted.org/packages/c2/a9/ce76c71804f935c00e7a4f4222ea83744f88ae140b080e4428535fc88ddc/smote_variants-0.3.13-py3-none-any.whl (131kB)\n",
            "\r\u001b[K     |██▌                             | 10kB 23.9MB/s eta 0:00:01\r\u001b[K     |█████                           | 20kB 1.7MB/s eta 0:00:01\r\u001b[K     |███████▌                        | 30kB 2.1MB/s eta 0:00:01\r\u001b[K     |██████████                      | 40kB 2.4MB/s eta 0:00:01\r\u001b[K     |████████████▍                   | 51kB 1.9MB/s eta 0:00:01\r\u001b[K     |███████████████                 | 61kB 2.2MB/s eta 0:00:01\r\u001b[K     |█████████████████▍              | 71kB 2.4MB/s eta 0:00:01\r\u001b[K     |████████████████████            | 81kB 2.7MB/s eta 0:00:01\r\u001b[K     |██████████████████████▍         | 92kB 2.8MB/s eta 0:00:01\r\u001b[K     |████████████████████████▉       | 102kB 2.7MB/s eta 0:00:01\r\u001b[K     |███████████████████████████▍    | 112kB 2.7MB/s eta 0:00:01\r\u001b[K     |█████████████████████████████▉  | 122kB 2.7MB/s eta 0:00:01\r\u001b[K     |████████████████████████████████| 133kB 2.7MB/s \n",
            "\u001b[?25hRequirement already satisfied: numpy>=1.13.0 in /usr/local/lib/python3.6/dist-packages (from smote_variants) (1.18.5)\n",
            "Requirement already satisfied: mkl in /usr/local/lib/python3.6/dist-packages (from smote_variants) (2019.0)\n",
            "Collecting minisom\n",
            "  Downloading https://files.pythonhosted.org/packages/9d/10/a1c1621000d5ca00c41695689551c1a4d6d245d7bbf099d81e067da3e8f2/MiniSom-2.2.6.tar.gz\n",
            "Requirement already satisfied: tensorflow in /usr/local/lib/python3.6/dist-packages (from smote_variants) (2.2.0)\n",
            "Requirement already satisfied: pandas in /usr/local/lib/python3.6/dist-packages (from smote_variants) (1.0.5)\n",
            "Requirement already satisfied: scikit-learn in /usr/local/lib/python3.6/dist-packages (from smote_variants) (0.22.2.post1)\n",
            "Requirement already satisfied: joblib in /usr/local/lib/python3.6/dist-packages (from smote_variants) (0.15.1)\n",
            "Collecting statistics\n",
            "  Downloading https://files.pythonhosted.org/packages/bb/3a/ae99a15e65636559d936dd2159d75af1619491e8cb770859fbc8aa62cef6/statistics-1.0.3.5.tar.gz\n",
            "Requirement already satisfied: keras in /usr/local/lib/python3.6/dist-packages (from smote_variants) (2.3.1)\n",
            "Requirement already satisfied: scipy in /usr/local/lib/python3.6/dist-packages (from smote_variants) (1.4.1)\n",
            "Requirement already satisfied: intel-openmp in /usr/local/lib/python3.6/dist-packages (from mkl->smote_variants) (2020.0.133)\n",
            "Requirement already satisfied: tensorboard<2.3.0,>=2.2.0 in /usr/local/lib/python3.6/dist-packages (from tensorflow->smote_variants) (2.2.2)\n",
            "Requirement already satisfied: absl-py>=0.7.0 in /usr/local/lib/python3.6/dist-packages (from tensorflow->smote_variants) (0.9.0)\n",
            "Requirement already satisfied: google-pasta>=0.1.8 in /usr/local/lib/python3.6/dist-packages (from tensorflow->smote_variants) (0.2.0)\n",
            "Requirement already satisfied: astunparse==1.6.3 in /usr/local/lib/python3.6/dist-packages (from tensorflow->smote_variants) (1.6.3)\n",
            "Requirement already satisfied: opt-einsum>=2.3.2 in /usr/local/lib/python3.6/dist-packages (from tensorflow->smote_variants) (3.2.1)\n",
            "Requirement already satisfied: wheel>=0.26; python_version >= \"3\" in /usr/local/lib/python3.6/dist-packages (from tensorflow->smote_variants) (0.34.2)\n",
            "Requirement already satisfied: gast==0.3.3 in /usr/local/lib/python3.6/dist-packages (from tensorflow->smote_variants) (0.3.3)\n",
            "Requirement already satisfied: protobuf>=3.8.0 in /usr/local/lib/python3.6/dist-packages (from tensorflow->smote_variants) (3.10.0)\n",
            "Requirement already satisfied: tensorflow-estimator<2.3.0,>=2.2.0 in /usr/local/lib/python3.6/dist-packages (from tensorflow->smote_variants) (2.2.0)\n",
            "Requirement already satisfied: termcolor>=1.1.0 in /usr/local/lib/python3.6/dist-packages (from tensorflow->smote_variants) (1.1.0)\n",
            "Requirement already satisfied: wrapt>=1.11.1 in /usr/local/lib/python3.6/dist-packages (from tensorflow->smote_variants) (1.12.1)\n",
            "Requirement already satisfied: h5py<2.11.0,>=2.10.0 in /usr/local/lib/python3.6/dist-packages (from tensorflow->smote_variants) (2.10.0)\n",
            "Requirement already satisfied: keras-preprocessing>=1.1.0 in /usr/local/lib/python3.6/dist-packages (from tensorflow->smote_variants) (1.1.2)\n",
            "Requirement already satisfied: grpcio>=1.8.6 in /usr/local/lib/python3.6/dist-packages (from tensorflow->smote_variants) (1.30.0)\n",
            "Requirement already satisfied: six>=1.12.0 in /usr/local/lib/python3.6/dist-packages (from tensorflow->smote_variants) (1.12.0)\n",
            "Requirement already satisfied: python-dateutil>=2.6.1 in /usr/local/lib/python3.6/dist-packages (from pandas->smote_variants) (2.8.1)\n",
            "Requirement already satisfied: pytz>=2017.2 in /usr/local/lib/python3.6/dist-packages (from pandas->smote_variants) (2018.9)\n",
            "Requirement already satisfied: docutils>=0.3 in /usr/local/lib/python3.6/dist-packages (from statistics->smote_variants) (0.15.2)\n",
            "Requirement already satisfied: pyyaml in /usr/local/lib/python3.6/dist-packages (from keras->smote_variants) (3.13)\n",
            "Requirement already satisfied: keras-applications>=1.0.6 in /usr/local/lib/python3.6/dist-packages (from keras->smote_variants) (1.0.8)\n",
            "Requirement already satisfied: google-auth<2,>=1.6.3 in /usr/local/lib/python3.6/dist-packages (from tensorboard<2.3.0,>=2.2.0->tensorflow->smote_variants) (1.17.2)\n",
            "Requirement already satisfied: werkzeug>=0.11.15 in /usr/local/lib/python3.6/dist-packages (from tensorboard<2.3.0,>=2.2.0->tensorflow->smote_variants) (1.0.1)\n",
            "Requirement already satisfied: requests<3,>=2.21.0 in /usr/local/lib/python3.6/dist-packages (from tensorboard<2.3.0,>=2.2.0->tensorflow->smote_variants) (2.23.0)\n",
            "Requirement already satisfied: tensorboard-plugin-wit>=1.6.0 in /usr/local/lib/python3.6/dist-packages (from tensorboard<2.3.0,>=2.2.0->tensorflow->smote_variants) (1.6.0.post3)\n",
            "Requirement already satisfied: markdown>=2.6.8 in /usr/local/lib/python3.6/dist-packages (from tensorboard<2.3.0,>=2.2.0->tensorflow->smote_variants) (3.2.2)\n",
            "Requirement already satisfied: google-auth-oauthlib<0.5,>=0.4.1 in /usr/local/lib/python3.6/dist-packages (from tensorboard<2.3.0,>=2.2.0->tensorflow->smote_variants) (0.4.1)\n",
            "Requirement already satisfied: setuptools>=41.0.0 in /usr/local/lib/python3.6/dist-packages (from tensorboard<2.3.0,>=2.2.0->tensorflow->smote_variants) (47.3.1)\n",
            "Requirement already satisfied: rsa<5,>=3.1.4; python_version >= \"3\" in /usr/local/lib/python3.6/dist-packages (from google-auth<2,>=1.6.3->tensorboard<2.3.0,>=2.2.0->tensorflow->smote_variants) (4.6)\n",
            "Requirement already satisfied: cachetools<5.0,>=2.0.0 in /usr/local/lib/python3.6/dist-packages (from google-auth<2,>=1.6.3->tensorboard<2.3.0,>=2.2.0->tensorflow->smote_variants) (4.1.0)\n",
            "Requirement already satisfied: pyasn1-modules>=0.2.1 in /usr/local/lib/python3.6/dist-packages (from google-auth<2,>=1.6.3->tensorboard<2.3.0,>=2.2.0->tensorflow->smote_variants) (0.2.8)\n",
            "Requirement already satisfied: urllib3!=1.25.0,!=1.25.1,<1.26,>=1.21.1 in /usr/local/lib/python3.6/dist-packages (from requests<3,>=2.21.0->tensorboard<2.3.0,>=2.2.0->tensorflow->smote_variants) (1.24.3)\n",
            "Requirement already satisfied: chardet<4,>=3.0.2 in /usr/local/lib/python3.6/dist-packages (from requests<3,>=2.21.0->tensorboard<2.3.0,>=2.2.0->tensorflow->smote_variants) (3.0.4)\n",
            "Requirement already satisfied: certifi>=2017.4.17 in /usr/local/lib/python3.6/dist-packages (from requests<3,>=2.21.0->tensorboard<2.3.0,>=2.2.0->tensorflow->smote_variants) (2020.6.20)\n",
            "Requirement already satisfied: idna<3,>=2.5 in /usr/local/lib/python3.6/dist-packages (from requests<3,>=2.21.0->tensorboard<2.3.0,>=2.2.0->tensorflow->smote_variants) (2.9)\n",
            "Requirement already satisfied: importlib-metadata; python_version < \"3.8\" in /usr/local/lib/python3.6/dist-packages (from markdown>=2.6.8->tensorboard<2.3.0,>=2.2.0->tensorflow->smote_variants) (1.6.1)\n",
            "Requirement already satisfied: requests-oauthlib>=0.7.0 in /usr/local/lib/python3.6/dist-packages (from google-auth-oauthlib<0.5,>=0.4.1->tensorboard<2.3.0,>=2.2.0->tensorflow->smote_variants) (1.3.0)\n",
            "Requirement already satisfied: pyasn1>=0.1.3 in /usr/local/lib/python3.6/dist-packages (from rsa<5,>=3.1.4; python_version >= \"3\"->google-auth<2,>=1.6.3->tensorboard<2.3.0,>=2.2.0->tensorflow->smote_variants) (0.4.8)\n",
            "Requirement already satisfied: zipp>=0.5 in /usr/local/lib/python3.6/dist-packages (from importlib-metadata; python_version < \"3.8\"->markdown>=2.6.8->tensorboard<2.3.0,>=2.2.0->tensorflow->smote_variants) (3.1.0)\n",
            "Requirement already satisfied: oauthlib>=3.0.0 in /usr/local/lib/python3.6/dist-packages (from requests-oauthlib>=0.7.0->google-auth-oauthlib<0.5,>=0.4.1->tensorboard<2.3.0,>=2.2.0->tensorflow->smote_variants) (3.1.0)\n",
            "Building wheels for collected packages: minisom, statistics\n",
            "  Building wheel for minisom (setup.py) ... \u001b[?25l\u001b[?25hdone\n",
            "  Created wheel for minisom: filename=MiniSom-2.2.6-cp36-none-any.whl size=8525 sha256=b67a8f23a692fa3eb1ee027946121d041d89d5a7598b43d07be54a4dd4f88f07\n",
            "  Stored in directory: /root/.cache/pip/wheels/b8/c6/01/330066e36e1f7c826c96f656f9185822cfcdef0591315949ea\n",
            "  Building wheel for statistics (setup.py) ... \u001b[?25l\u001b[?25hdone\n",
            "  Created wheel for statistics: filename=statistics-1.0.3.5-cp36-none-any.whl size=7453 sha256=edfb825810e53dc8f919a87d5bf6c060bd160f0df25da6978669b081c9d266bc\n",
            "  Stored in directory: /root/.cache/pip/wheels/75/55/90/73aa7662bfb4565b567618547a275f01372a678ca92ecd64f3\n",
            "Successfully built minisom statistics\n",
            "Installing collected packages: minisom, statistics, smote-variants\n",
            "Successfully installed minisom-2.2.6 smote-variants-0.3.13 statistics-1.0.3.5\n"
          ],
          "name": "stdout"
        }
      ]
    },
    {
      "cell_type": "code",
      "metadata": {
        "id": "IdE176p6qGUF",
        "colab_type": "code",
        "colab": {
          "base_uri": "https://localhost:8080/",
          "height": 88
        },
        "outputId": "324c0bce-c8ff-4087-a4fa-179724f7ce44"
      },
      "source": [
        "import smote_variants as sv\n",
        "# Instantiating the MSMOTE class\n",
        "oversampler= sv.MSMOTE()\n",
        "X_train_msmote, y_train_msmote = oversampler.sample(np.array(X_train), np.array(y_train))\n",
        "print(X_train_msmote.shape)\n",
        "Counter(y_train_msmote)"
      ],
      "execution_count": 47,
      "outputs": [
        {
          "output_type": "stream",
          "text": [
            "2020-06-29 23:02:29,773:INFO:MSMOTE: Running sampling via ('MSMOTE', \"{'proportion': 1.0, 'n_neighbors': 5, 'n_jobs': 1, 'random_state': None}\")\n"
          ],
          "name": "stderr"
        },
        {
          "output_type": "stream",
          "text": [
            "(6608, 46)\n"
          ],
          "name": "stdout"
        },
        {
          "output_type": "execute_result",
          "data": {
            "text/plain": [
              "Counter({0: 3304, 1: 3304})"
            ]
          },
          "metadata": {
            "tags": []
          },
          "execution_count": 47
        }
      ]
    },
    {
      "cell_type": "code",
      "metadata": {
        "id": "cXhK1o8OqJ02",
        "colab_type": "code",
        "colab": {
          "base_uri": "https://localhost:8080/",
          "height": 343
        },
        "outputId": "f0bc0cfb-a037-4dd4-9301-d26d5f43e02a"
      },
      "source": [
        "tf.random.set_seed(42)\n",
        "np.random.seed(42)\n",
        "\n",
        "DROPOUT = 0.3\n",
        "numlabel=1\n",
        "#output_bias=0.5\n",
        "#build the model\n",
        "#----input-------#\n",
        "model3 =Sequential()\n",
        "model3.add(Dense(30,input_dim=X_train.shape[1],activation='relu'))\n",
        "model3.add(Dropout(DROPOUT))\n",
        "#----hiden layer-------#\n",
        "model3.add(Dense(20,activation='relu'))\n",
        "model3.add(Dropout(DROPOUT))\n",
        "model3.add(Dense(10,activation='relu'))\n",
        "model3.add(Dropout(DROPOUT))\n",
        "#----output-------#\n",
        "model3.add(Dense(numlabel,activation='sigmoid',  #binary: sigmoid. multi: softmax\n",
        "                #bias_initializer=output_bias\n",
        "                )) \n",
        "# model3.summary()\n",
        "# compiling the model\n",
        "model3.compile(optimizer='Adam', \n",
        "              #optimizer=keras.optimizers.SGD(lr=1e-3),\n",
        "              loss='binary_crossentropy',\n",
        "              metrics=METRICS)\n",
        "# network and training\n",
        "EPOCHS = 200\n",
        "BATCH_SIZE = 100 #10 as normal\n",
        "\n",
        "# Set callback functions to early stop training and save the best model so far\n",
        "callbacks = [EarlyStopping(monitor=\"val_recall\", patience=3, # patient =3\n",
        "                           #mode='max',restore_best_weights=True #Not include as normal\n",
        "                           ),\n",
        "            ]\n",
        "#training the moodel\n",
        "result=model3.fit(X_train_msmote, y_train_msmote,\n",
        "                batch_size=BATCH_SIZE, epochs=EPOCHS,\n",
        "                callbacks=callbacks,\n",
        "                validation_data=(X_val, y_val),\n",
        "                verbose=2)\n",
        "predictions=model3.predict_classes(X_test)\n",
        "#y_test_labels = np.argmax(y_test.values, axis =1)\n",
        "print(classification_report(y_test,predictions))"
      ],
      "execution_count": 48,
      "outputs": [
        {
          "output_type": "stream",
          "text": [
            "Train on 6608 samples, validate on 1125 samples\n",
            "Epoch 1/200\n",
            " - 0s - loss: 0.6524 - tp: 17173.2539 - fp: 11135.4326 - tn: 39957.1953 - fn: 13882.7461 - accuracy: 0.6955 - precision: 0.6066 - recall: 0.5529 - auc: 0.7519 - val_loss: 0.5987 - val_tp: 18396.0840 - val_fp: 11941.4170 - val_tn: 41228.6680 - val_fn: 14435.5830 - val_accuracy: 0.6933 - val_precision: 0.6064 - val_recall: 0.5603 - val_auc: 0.7508\n",
            "Epoch 2/200\n",
            " - 0s - loss: 0.5862 - tp: 19624.5371 - fp: 12508.1943 - tn: 42722.9688 - fn: 15025.9258 - accuracy: 0.6937 - precision: 0.6106 - recall: 0.5663 - auc: 0.7519 - val_loss: 0.5208 - val_tp: 20873.5840 - val_fp: 13054.3330 - val_tn: 44245.7500 - val_fn: 15561.0830 - val_accuracy: 0.6947 - val_precision: 0.6152 - val_recall: 0.5729 - val_auc: 0.7541\n",
            "Epoch 3/200\n",
            " - 0s - loss: 0.5260 - tp: 22193.5664 - fp: 13547.5674 - tn: 45823.8516 - fn: 16049.6416 - accuracy: 0.6968 - precision: 0.6209 - recall: 0.5802 - auc: 0.7575 - val_loss: 0.4841 - val_tp: 23547.5000 - val_fp: 14046.2500 - val_tn: 47383.8320 - val_fn: 16490.1660 - val_accuracy: 0.6991 - val_precision: 0.6264 - val_recall: 0.5881 - val_auc: 0.7612\n",
            "Epoch 4/200\n",
            " - 0s - loss: 0.5006 - tp: 24998.4629 - fp: 14570.4629 - tn: 48904.5820 - fn: 16874.1191 - accuracy: 0.7015 - precision: 0.6317 - recall: 0.5969 - auc: 0.7653 - val_loss: 0.4595 - val_tp: 26387.5000 - val_fp: 15095.7500 - val_tn: 50464.3320 - val_fn: 17253.1660 - val_accuracy: 0.7038 - val_precision: 0.6361 - val_recall: 0.6047 - val_auc: 0.7690\n",
            "              precision    recall  f1-score   support\n",
            "\n",
            "           0       0.90      0.74      0.81      1033\n",
            "           1       0.52      0.78      0.62       374\n",
            "\n",
            "    accuracy                           0.75      1407\n",
            "   macro avg       0.71      0.76      0.72      1407\n",
            "weighted avg       0.80      0.75      0.76      1407\n",
            "\n"
          ],
          "name": "stdout"
        }
      ]
    },
    {
      "cell_type": "markdown",
      "metadata": {
        "id": "ieHkidLoqVm0",
        "colab_type": "text"
      },
      "source": [
        "## Try all method imbalanced"
      ]
    },
    {
      "cell_type": "code",
      "metadata": {
        "id": "ANb4NQa5qcEl",
        "colab_type": "code",
        "colab": {}
      },
      "source": [
        "def make_model():\n",
        "  METRICS = [\n",
        "      keras.metrics.TruePositives(name='tp'),\n",
        "      keras.metrics.FalsePositives(name='fp'),\n",
        "      keras.metrics.TrueNegatives(name='tn'),\n",
        "      keras.metrics.FalseNegatives(name='fn'), \n",
        "      keras.metrics.BinaryAccuracy(name='accuracy'),\n",
        "      keras.metrics.Precision(name='precision'),\n",
        "      keras.metrics.Recall(name='recall'),\n",
        "      keras.metrics.AUC(name='auc'),\n",
        "  ]\n",
        "  tf.random.set_seed(42)\n",
        "  np.random.seed(42)\n",
        "\n",
        "  DROPOUT = 0.3\n",
        "  numlabel=1\n",
        "  #output_bias=0.5\n",
        "  #build the model\n",
        "  #----input-------#\n",
        "  model3 =Sequential()\n",
        "  model3.add(Dense(30,input_dim=X_train.shape[1],activation='relu'))\n",
        "  model3.add(Dropout(DROPOUT))\n",
        "  #----hiden layer-------#\n",
        "  model3.add(Dense(20,activation='relu'))\n",
        "  model3.add(Dropout(DROPOUT))\n",
        "  model3.add(Dense(10,activation='relu'))\n",
        "  model3.add(Dropout(DROPOUT))\n",
        "  #----output-------#\n",
        "  model3.add(Dense(numlabel,activation='sigmoid',  #binary: sigmoid. multi: softmax\n",
        "                  #bias_initializer=output_bias\n",
        "                  )) \n",
        "  # model3.summary()\n",
        "  # compiling the model\n",
        "  model3.compile(optimizer='Adam', \n",
        "                #optimizer=keras.optimizers.SGD(lr=1e-3),\n",
        "                loss='binary_crossentropy',\n",
        "                metrics=METRICS)\n",
        "  return model3"
      ],
      "execution_count": 54,
      "outputs": []
    },
    {
      "cell_type": "code",
      "metadata": {
        "id": "ZkiEPhcCqUKs",
        "colab_type": "code",
        "colab": {}
      },
      "source": [
        "from imblearn.under_sampling import RandomUnderSampler,NearMiss,RepeatedEditedNearestNeighbours\n",
        "from imblearn.under_sampling import AllKNN,CondensedNearestNeighbour,OneSidedSelection,NeighbourhoodCleaningRule\n",
        "from imblearn.over_sampling import ADASYN,SMOTE, BorderlineSMOTE, SVMSMOTE\n",
        "from imblearn.over_sampling import RandomOverSampler"
      ],
      "execution_count": 49,
      "outputs": []
    },
    {
      "cell_type": "code",
      "metadata": {
        "id": "Kv0_IgUAqQbH",
        "colab_type": "code",
        "colab": {}
      },
      "source": [
        "list_method={\n",
        "# Under sampling\n",
        "'NearMiss':NearMiss(),\n",
        "'RandomUnderSampler':RandomUnderSampler(random_state=0),\n",
        "'RepeatedEditedNearestNeighbours':RepeatedEditedNearestNeighbours(random_state=0), # Very long\n",
        "'AllKNN':AllKNN(random_state=0),\n",
        "#'CondensedNearestNeighbour':CondensedNearestNeighbour(random_state=0),\n",
        "'OneSidedSelection':OneSidedSelection(random_state=0),\n",
        "'NeighbourhoodCleaningRule':NeighbourhoodCleaningRule(random_state=0),\n",
        "\n",
        "# Over sampling\n",
        "'RandomOverSampler':RandomOverSampler(random_state=0),\n",
        "'SMOTE':SMOTE(random_state=0),\n",
        "'ADASYN':ADASYN(random_state=0),\n",
        "'BorderlineSMOTE-1':BorderlineSMOTE(random_state=0, kind='borderline-1'),\n",
        "'BorderlineSMOTE-2':BorderlineSMOTE(random_state=0, kind='borderline-2'),\n",
        "'SVMSMOTE':SVMSMOTE(random_state=0),\n",
        "}"
      ],
      "execution_count": 53,
      "outputs": []
    },
    {
      "cell_type": "code",
      "metadata": {
        "id": "Pf88CKxuq02N",
        "colab_type": "code",
        "colab": {
          "base_uri": "https://localhost:8080/",
          "height": 1000
        },
        "outputId": "f8942d65-7a90-47c8-dc98-3676a6960566"
      },
      "source": [
        "import time\n",
        "# network and training\n",
        "EPOCHS = 200\n",
        "BATCH_SIZE = 100 #10 as normal\n",
        "callbacks = [EarlyStopping(monitor=\"val_recall\", patience=3)]\n",
        "#training the moodel\n",
        "for name,method in list_method.items():\n",
        "  \n",
        "  t0=time.time()\n",
        "  print(name)\n",
        "  X_train_transform, y_train_transform= method.fit_sample(X_train, y_train)\n",
        "  model=make_model()\n",
        "  result=model.fit(X_train_transform, y_train_transform,\n",
        "                batch_size=BATCH_SIZE, epochs=EPOCHS,\n",
        "                callbacks=callbacks,\n",
        "                validation_data=(X_val, y_val),\n",
        "                verbose=0)\n",
        "  predictions=model.predict_classes(X_test)\n",
        "  #y_test_labels = np.argmax(y_test.values, axis =1)\n",
        "  t1=time.time()\n",
        "  print('time',t1-t0)\n",
        "  print(classification_report(y_test,predictions))\n",
        "  "
      ],
      "execution_count": 55,
      "outputs": [
        {
          "output_type": "stream",
          "text": [
            "NearMiss\n"
          ],
          "name": "stdout"
        },
        {
          "output_type": "stream",
          "text": [
            "/usr/local/lib/python3.6/dist-packages/sklearn/utils/deprecation.py:87: FutureWarning: Function safe_indexing is deprecated; safe_indexing is deprecated in version 0.22 and will be removed in version 0.24.\n",
            "  warnings.warn(msg, category=FutureWarning)\n",
            "/usr/local/lib/python3.6/dist-packages/sklearn/utils/deprecation.py:87: FutureWarning: Function safe_indexing is deprecated; safe_indexing is deprecated in version 0.22 and will be removed in version 0.24.\n",
            "  warnings.warn(msg, category=FutureWarning)\n",
            "/usr/local/lib/python3.6/dist-packages/sklearn/utils/deprecation.py:87: FutureWarning: Function safe_indexing is deprecated; safe_indexing is deprecated in version 0.22 and will be removed in version 0.24.\n",
            "  warnings.warn(msg, category=FutureWarning)\n"
          ],
          "name": "stderr"
        },
        {
          "output_type": "stream",
          "text": [
            "time 2.4163684844970703\n",
            "              precision    recall  f1-score   support\n",
            "\n",
            "           0       0.89      0.71      0.79      1033\n",
            "           1       0.49      0.75      0.59       374\n",
            "\n",
            "    accuracy                           0.72      1407\n",
            "   macro avg       0.69      0.73      0.69      1407\n",
            "weighted avg       0.78      0.72      0.74      1407\n",
            "\n",
            "RandomUnderSampler\n"
          ],
          "name": "stdout"
        },
        {
          "output_type": "stream",
          "text": [
            "/usr/local/lib/python3.6/dist-packages/sklearn/utils/deprecation.py:87: FutureWarning: Function safe_indexing is deprecated; safe_indexing is deprecated in version 0.22 and will be removed in version 0.24.\n",
            "  warnings.warn(msg, category=FutureWarning)\n"
          ],
          "name": "stderr"
        },
        {
          "output_type": "stream",
          "text": [
            "time 2.1110429763793945\n",
            "              precision    recall  f1-score   support\n",
            "\n",
            "           0       0.90      0.73      0.80      1033\n",
            "           1       0.51      0.77      0.61       374\n",
            "\n",
            "    accuracy                           0.74      1407\n",
            "   macro avg       0.70      0.75      0.71      1407\n",
            "weighted avg       0.79      0.74      0.75      1407\n",
            "\n",
            "RepeatedEditedNearestNeighbours\n"
          ],
          "name": "stdout"
        },
        {
          "output_type": "stream",
          "text": [
            "/usr/local/lib/python3.6/dist-packages/sklearn/utils/deprecation.py:87: FutureWarning: Function safe_indexing is deprecated; safe_indexing is deprecated in version 0.22 and will be removed in version 0.24.\n",
            "  warnings.warn(msg, category=FutureWarning)\n",
            "/usr/local/lib/python3.6/dist-packages/sklearn/utils/deprecation.py:87: FutureWarning: Function safe_indexing is deprecated; safe_indexing is deprecated in version 0.22 and will be removed in version 0.24.\n",
            "  warnings.warn(msg, category=FutureWarning)\n",
            "/usr/local/lib/python3.6/dist-packages/sklearn/utils/deprecation.py:87: FutureWarning: Function safe_indexing is deprecated; safe_indexing is deprecated in version 0.22 and will be removed in version 0.24.\n",
            "  warnings.warn(msg, category=FutureWarning)\n",
            "/usr/local/lib/python3.6/dist-packages/sklearn/utils/deprecation.py:87: FutureWarning: Function safe_indexing is deprecated; safe_indexing is deprecated in version 0.22 and will be removed in version 0.24.\n",
            "  warnings.warn(msg, category=FutureWarning)\n",
            "/usr/local/lib/python3.6/dist-packages/sklearn/utils/deprecation.py:87: FutureWarning: Function safe_indexing is deprecated; safe_indexing is deprecated in version 0.22 and will be removed in version 0.24.\n",
            "  warnings.warn(msg, category=FutureWarning)\n",
            "/usr/local/lib/python3.6/dist-packages/sklearn/utils/deprecation.py:87: FutureWarning: Function safe_indexing is deprecated; safe_indexing is deprecated in version 0.22 and will be removed in version 0.24.\n",
            "  warnings.warn(msg, category=FutureWarning)\n",
            "/usr/local/lib/python3.6/dist-packages/sklearn/utils/deprecation.py:87: FutureWarning: Function safe_indexing is deprecated; safe_indexing is deprecated in version 0.22 and will be removed in version 0.24.\n",
            "  warnings.warn(msg, category=FutureWarning)\n",
            "/usr/local/lib/python3.6/dist-packages/sklearn/utils/deprecation.py:87: FutureWarning: Function safe_indexing is deprecated; safe_indexing is deprecated in version 0.22 and will be removed in version 0.24.\n",
            "  warnings.warn(msg, category=FutureWarning)\n",
            "/usr/local/lib/python3.6/dist-packages/sklearn/utils/deprecation.py:87: FutureWarning: Function safe_indexing is deprecated; safe_indexing is deprecated in version 0.22 and will be removed in version 0.24.\n",
            "  warnings.warn(msg, category=FutureWarning)\n",
            "/usr/local/lib/python3.6/dist-packages/sklearn/utils/deprecation.py:87: FutureWarning: Function safe_indexing is deprecated; safe_indexing is deprecated in version 0.22 and will be removed in version 0.24.\n",
            "  warnings.warn(msg, category=FutureWarning)\n",
            "/usr/local/lib/python3.6/dist-packages/sklearn/utils/deprecation.py:87: FutureWarning: Function safe_indexing is deprecated; safe_indexing is deprecated in version 0.22 and will be removed in version 0.24.\n",
            "  warnings.warn(msg, category=FutureWarning)\n",
            "/usr/local/lib/python3.6/dist-packages/sklearn/utils/deprecation.py:87: FutureWarning: Function safe_indexing is deprecated; safe_indexing is deprecated in version 0.22 and will be removed in version 0.24.\n",
            "  warnings.warn(msg, category=FutureWarning)\n",
            "/usr/local/lib/python3.6/dist-packages/sklearn/utils/deprecation.py:87: FutureWarning: Function safe_indexing is deprecated; safe_indexing is deprecated in version 0.22 and will be removed in version 0.24.\n",
            "  warnings.warn(msg, category=FutureWarning)\n",
            "/usr/local/lib/python3.6/dist-packages/sklearn/utils/deprecation.py:87: FutureWarning: Function safe_indexing is deprecated; safe_indexing is deprecated in version 0.22 and will be removed in version 0.24.\n",
            "  warnings.warn(msg, category=FutureWarning)\n",
            "/usr/local/lib/python3.6/dist-packages/sklearn/utils/deprecation.py:87: FutureWarning: Function safe_indexing is deprecated; safe_indexing is deprecated in version 0.22 and will be removed in version 0.24.\n",
            "  warnings.warn(msg, category=FutureWarning)\n",
            "/usr/local/lib/python3.6/dist-packages/sklearn/utils/deprecation.py:87: FutureWarning: Function safe_indexing is deprecated; safe_indexing is deprecated in version 0.22 and will be removed in version 0.24.\n",
            "  warnings.warn(msg, category=FutureWarning)\n"
          ],
          "name": "stderr"
        },
        {
          "output_type": "stream",
          "text": [
            "time 4.060542821884155\n",
            "              precision    recall  f1-score   support\n",
            "\n",
            "           0       0.91      0.65      0.76      1033\n",
            "           1       0.46      0.83      0.59       374\n",
            "\n",
            "    accuracy                           0.70      1407\n",
            "   macro avg       0.69      0.74      0.68      1407\n",
            "weighted avg       0.79      0.70      0.72      1407\n",
            "\n",
            "AllKNN\n"
          ],
          "name": "stdout"
        },
        {
          "output_type": "stream",
          "text": [
            "/usr/local/lib/python3.6/dist-packages/sklearn/utils/deprecation.py:87: FutureWarning: Function safe_indexing is deprecated; safe_indexing is deprecated in version 0.22 and will be removed in version 0.24.\n",
            "  warnings.warn(msg, category=FutureWarning)\n",
            "/usr/local/lib/python3.6/dist-packages/sklearn/utils/deprecation.py:87: FutureWarning: Function safe_indexing is deprecated; safe_indexing is deprecated in version 0.22 and will be removed in version 0.24.\n",
            "  warnings.warn(msg, category=FutureWarning)\n",
            "/usr/local/lib/python3.6/dist-packages/sklearn/utils/deprecation.py:87: FutureWarning: Function safe_indexing is deprecated; safe_indexing is deprecated in version 0.22 and will be removed in version 0.24.\n",
            "  warnings.warn(msg, category=FutureWarning)\n",
            "/usr/local/lib/python3.6/dist-packages/sklearn/utils/deprecation.py:87: FutureWarning: Function safe_indexing is deprecated; safe_indexing is deprecated in version 0.22 and will be removed in version 0.24.\n",
            "  warnings.warn(msg, category=FutureWarning)\n",
            "/usr/local/lib/python3.6/dist-packages/sklearn/utils/deprecation.py:87: FutureWarning: Function safe_indexing is deprecated; safe_indexing is deprecated in version 0.22 and will be removed in version 0.24.\n",
            "  warnings.warn(msg, category=FutureWarning)\n",
            "/usr/local/lib/python3.6/dist-packages/sklearn/utils/deprecation.py:87: FutureWarning: Function safe_indexing is deprecated; safe_indexing is deprecated in version 0.22 and will be removed in version 0.24.\n",
            "  warnings.warn(msg, category=FutureWarning)\n"
          ],
          "name": "stderr"
        },
        {
          "output_type": "stream",
          "text": [
            "time 3.158869743347168\n",
            "              precision    recall  f1-score   support\n",
            "\n",
            "           0       0.90      0.70      0.79      1033\n",
            "           1       0.49      0.79      0.60       374\n",
            "\n",
            "    accuracy                           0.72      1407\n",
            "   macro avg       0.69      0.74      0.69      1407\n",
            "weighted avg       0.79      0.72      0.74      1407\n",
            "\n",
            "OneSidedSelection\n"
          ],
          "name": "stdout"
        },
        {
          "output_type": "stream",
          "text": [
            "/usr/local/lib/python3.6/dist-packages/sklearn/utils/deprecation.py:87: FutureWarning: Function safe_indexing is deprecated; safe_indexing is deprecated in version 0.22 and will be removed in version 0.24.\n",
            "  warnings.warn(msg, category=FutureWarning)\n",
            "/usr/local/lib/python3.6/dist-packages/sklearn/utils/deprecation.py:87: FutureWarning: Function safe_indexing is deprecated; safe_indexing is deprecated in version 0.22 and will be removed in version 0.24.\n",
            "  warnings.warn(msg, category=FutureWarning)\n",
            "/usr/local/lib/python3.6/dist-packages/sklearn/utils/deprecation.py:87: FutureWarning: Function safe_indexing is deprecated; safe_indexing is deprecated in version 0.22 and will be removed in version 0.24.\n",
            "  warnings.warn(msg, category=FutureWarning)\n"
          ],
          "name": "stderr"
        },
        {
          "output_type": "stream",
          "text": [
            "time 3.1764872074127197\n",
            "              precision    recall  f1-score   support\n",
            "\n",
            "           0       0.86      0.86      0.86      1033\n",
            "           1       0.61      0.60      0.61       374\n",
            "\n",
            "    accuracy                           0.79      1407\n",
            "   macro avg       0.74      0.73      0.73      1407\n",
            "weighted avg       0.79      0.79      0.79      1407\n",
            "\n",
            "NeighbourhoodCleaningRule\n"
          ],
          "name": "stdout"
        },
        {
          "output_type": "stream",
          "text": [
            "/usr/local/lib/python3.6/dist-packages/sklearn/utils/deprecation.py:87: FutureWarning: Function safe_indexing is deprecated; safe_indexing is deprecated in version 0.22 and will be removed in version 0.24.\n",
            "  warnings.warn(msg, category=FutureWarning)\n",
            "/usr/local/lib/python3.6/dist-packages/sklearn/utils/deprecation.py:87: FutureWarning: Function safe_indexing is deprecated; safe_indexing is deprecated in version 0.22 and will be removed in version 0.24.\n",
            "  warnings.warn(msg, category=FutureWarning)\n",
            "/usr/local/lib/python3.6/dist-packages/sklearn/utils/deprecation.py:87: FutureWarning: Function safe_indexing is deprecated; safe_indexing is deprecated in version 0.22 and will be removed in version 0.24.\n",
            "  warnings.warn(msg, category=FutureWarning)\n",
            "/usr/local/lib/python3.6/dist-packages/sklearn/utils/deprecation.py:87: FutureWarning: Function safe_indexing is deprecated; safe_indexing is deprecated in version 0.22 and will be removed in version 0.24.\n",
            "  warnings.warn(msg, category=FutureWarning)\n"
          ],
          "name": "stderr"
        },
        {
          "output_type": "stream",
          "text": [
            "time 3.0801825523376465\n",
            "              precision    recall  f1-score   support\n",
            "\n",
            "           0       0.89      0.74      0.81      1033\n",
            "           1       0.51      0.75      0.60       374\n",
            "\n",
            "    accuracy                           0.74      1407\n",
            "   macro avg       0.70      0.74      0.71      1407\n",
            "weighted avg       0.79      0.74      0.75      1407\n",
            "\n",
            "RandomOverSampler\n"
          ],
          "name": "stdout"
        },
        {
          "output_type": "stream",
          "text": [
            "/usr/local/lib/python3.6/dist-packages/sklearn/utils/deprecation.py:87: FutureWarning: Function safe_indexing is deprecated; safe_indexing is deprecated in version 0.22 and will be removed in version 0.24.\n",
            "  warnings.warn(msg, category=FutureWarning)\n"
          ],
          "name": "stderr"
        },
        {
          "output_type": "stream",
          "text": [
            "time 2.7256033420562744\n",
            "              precision    recall  f1-score   support\n",
            "\n",
            "           0       0.90      0.74      0.81      1033\n",
            "           1       0.52      0.77      0.62       374\n",
            "\n",
            "    accuracy                           0.75      1407\n",
            "   macro avg       0.71      0.76      0.72      1407\n",
            "weighted avg       0.80      0.75      0.76      1407\n",
            "\n",
            "SMOTE\n"
          ],
          "name": "stdout"
        },
        {
          "output_type": "stream",
          "text": [
            "/usr/local/lib/python3.6/dist-packages/sklearn/utils/deprecation.py:87: FutureWarning: Function safe_indexing is deprecated; safe_indexing is deprecated in version 0.22 and will be removed in version 0.24.\n",
            "  warnings.warn(msg, category=FutureWarning)\n"
          ],
          "name": "stderr"
        },
        {
          "output_type": "stream",
          "text": [
            "time 2.621826410293579\n",
            "              precision    recall  f1-score   support\n",
            "\n",
            "           0       0.90      0.75      0.82      1033\n",
            "           1       0.53      0.77      0.63       374\n",
            "\n",
            "    accuracy                           0.76      1407\n",
            "   macro avg       0.71      0.76      0.72      1407\n",
            "weighted avg       0.80      0.76      0.77      1407\n",
            "\n",
            "ADASYN\n"
          ],
          "name": "stdout"
        },
        {
          "output_type": "stream",
          "text": [
            "/usr/local/lib/python3.6/dist-packages/sklearn/utils/deprecation.py:87: FutureWarning: Function safe_indexing is deprecated; safe_indexing is deprecated in version 0.22 and will be removed in version 0.24.\n",
            "  warnings.warn(msg, category=FutureWarning)\n"
          ],
          "name": "stderr"
        },
        {
          "output_type": "stream",
          "text": [
            "time 2.750425338745117\n",
            "              precision    recall  f1-score   support\n",
            "\n",
            "           0       0.91      0.68      0.78      1033\n",
            "           1       0.48      0.82      0.60       374\n",
            "\n",
            "    accuracy                           0.72      1407\n",
            "   macro avg       0.70      0.75      0.69      1407\n",
            "weighted avg       0.80      0.72      0.73      1407\n",
            "\n",
            "BorderlineSMOTE-1\n"
          ],
          "name": "stdout"
        },
        {
          "output_type": "stream",
          "text": [
            "/usr/local/lib/python3.6/dist-packages/sklearn/utils/deprecation.py:87: FutureWarning: Function safe_indexing is deprecated; safe_indexing is deprecated in version 0.22 and will be removed in version 0.24.\n",
            "  warnings.warn(msg, category=FutureWarning)\n",
            "/usr/local/lib/python3.6/dist-packages/sklearn/utils/deprecation.py:87: FutureWarning: Function safe_indexing is deprecated; safe_indexing is deprecated in version 0.22 and will be removed in version 0.24.\n",
            "  warnings.warn(msg, category=FutureWarning)\n",
            "/usr/local/lib/python3.6/dist-packages/sklearn/utils/deprecation.py:87: FutureWarning: Function safe_indexing is deprecated; safe_indexing is deprecated in version 0.22 and will be removed in version 0.24.\n",
            "  warnings.warn(msg, category=FutureWarning)\n"
          ],
          "name": "stderr"
        },
        {
          "output_type": "stream",
          "text": [
            "time 2.6580419540405273\n",
            "              precision    recall  f1-score   support\n",
            "\n",
            "           0       0.91      0.68      0.78      1033\n",
            "           1       0.48      0.82      0.60       374\n",
            "\n",
            "    accuracy                           0.72      1407\n",
            "   macro avg       0.70      0.75      0.69      1407\n",
            "weighted avg       0.80      0.72      0.73      1407\n",
            "\n",
            "BorderlineSMOTE-2\n"
          ],
          "name": "stdout"
        },
        {
          "output_type": "stream",
          "text": [
            "/usr/local/lib/python3.6/dist-packages/sklearn/utils/deprecation.py:87: FutureWarning: Function safe_indexing is deprecated; safe_indexing is deprecated in version 0.22 and will be removed in version 0.24.\n",
            "  warnings.warn(msg, category=FutureWarning)\n",
            "/usr/local/lib/python3.6/dist-packages/sklearn/utils/deprecation.py:87: FutureWarning: Function safe_indexing is deprecated; safe_indexing is deprecated in version 0.22 and will be removed in version 0.24.\n",
            "  warnings.warn(msg, category=FutureWarning)\n",
            "/usr/local/lib/python3.6/dist-packages/sklearn/utils/deprecation.py:87: FutureWarning: Function safe_indexing is deprecated; safe_indexing is deprecated in version 0.22 and will be removed in version 0.24.\n",
            "  warnings.warn(msg, category=FutureWarning)\n"
          ],
          "name": "stderr"
        },
        {
          "output_type": "stream",
          "text": [
            "time 2.749598979949951\n",
            "              precision    recall  f1-score   support\n",
            "\n",
            "           0       0.91      0.67      0.77      1033\n",
            "           1       0.47      0.82      0.60       374\n",
            "\n",
            "    accuracy                           0.71      1407\n",
            "   macro avg       0.69      0.74      0.68      1407\n",
            "weighted avg       0.79      0.71      0.72      1407\n",
            "\n",
            "SVMSMOTE\n"
          ],
          "name": "stdout"
        },
        {
          "output_type": "stream",
          "text": [
            "/usr/local/lib/python3.6/dist-packages/sklearn/utils/deprecation.py:87: FutureWarning: Function safe_indexing is deprecated; safe_indexing is deprecated in version 0.22 and will be removed in version 0.24.\n",
            "  warnings.warn(msg, category=FutureWarning)\n",
            "/usr/local/lib/python3.6/dist-packages/sklearn/utils/deprecation.py:87: FutureWarning: Function safe_indexing is deprecated; safe_indexing is deprecated in version 0.22 and will be removed in version 0.24.\n",
            "  warnings.warn(msg, category=FutureWarning)\n",
            "/usr/local/lib/python3.6/dist-packages/sklearn/utils/deprecation.py:87: FutureWarning: Function safe_indexing is deprecated; safe_indexing is deprecated in version 0.22 and will be removed in version 0.24.\n",
            "  warnings.warn(msg, category=FutureWarning)\n",
            "/usr/local/lib/python3.6/dist-packages/sklearn/utils/deprecation.py:87: FutureWarning: Function safe_indexing is deprecated; safe_indexing is deprecated in version 0.22 and will be removed in version 0.24.\n",
            "  warnings.warn(msg, category=FutureWarning)\n",
            "/usr/local/lib/python3.6/dist-packages/sklearn/utils/deprecation.py:87: FutureWarning: Function safe_indexing is deprecated; safe_indexing is deprecated in version 0.22 and will be removed in version 0.24.\n",
            "  warnings.warn(msg, category=FutureWarning)\n",
            "/usr/local/lib/python3.6/dist-packages/sklearn/utils/deprecation.py:87: FutureWarning: Function safe_indexing is deprecated; safe_indexing is deprecated in version 0.22 and will be removed in version 0.24.\n",
            "  warnings.warn(msg, category=FutureWarning)\n"
          ],
          "name": "stderr"
        },
        {
          "output_type": "stream",
          "text": [
            "time 4.449349880218506\n",
            "              precision    recall  f1-score   support\n",
            "\n",
            "           0       0.91      0.70      0.79      1033\n",
            "           1       0.49      0.80      0.61       374\n",
            "\n",
            "    accuracy                           0.73      1407\n",
            "   macro avg       0.70      0.75      0.70      1407\n",
            "weighted avg       0.80      0.73      0.74      1407\n",
            "\n"
          ],
          "name": "stdout"
        }
      ]
    },
    {
      "cell_type": "code",
      "metadata": {
        "id": "tM1iltDAq8yH",
        "colab_type": "code",
        "colab": {}
      },
      "source": [
        ""
      ],
      "execution_count": 52,
      "outputs": []
    }
  ]
}