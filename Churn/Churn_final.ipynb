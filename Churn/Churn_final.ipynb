{
  "nbformat": 4,
  "nbformat_minor": 0,
  "metadata": {
    "colab": {
      "name": "Churn_final.ipynb",
      "provenance": [],
      "authorship_tag": "ABX9TyO0T4llvuyQYiafnuonTU+q",
      "include_colab_link": true
    },
    "kernelspec": {
      "name": "python3",
      "display_name": "Python 3"
    },
    "language_info": {
      "name": "python"
    },
    "widgets": {
      "application/vnd.jupyter.widget-state+json": {
        "b18bded39862406399d2b0ca6a7574a6": {
          "model_module": "@jupyter-widgets/controls",
          "model_name": "HBoxModel",
          "state": {
            "_view_name": "HBoxView",
            "_dom_classes": [],
            "_model_name": "HBoxModel",
            "_view_module": "@jupyter-widgets/controls",
            "_model_module_version": "1.5.0",
            "_view_count": null,
            "_view_module_version": "1.5.0",
            "box_style": "",
            "layout": "IPY_MODEL_115621f6876c47458520f69c56e17227",
            "_model_module": "@jupyter-widgets/controls",
            "children": [
              "IPY_MODEL_5632f3520d254597916829ad382d5e23",
              "IPY_MODEL_7e10a8ab11ed4c6e9f30681b3d47b987",
              "IPY_MODEL_d323fc1985304f96a6e245d5c5eb59ac"
            ]
          }
        },
        "115621f6876c47458520f69c56e17227": {
          "model_module": "@jupyter-widgets/base",
          "model_name": "LayoutModel",
          "state": {
            "_view_name": "LayoutView",
            "grid_template_rows": null,
            "right": null,
            "justify_content": null,
            "_view_module": "@jupyter-widgets/base",
            "overflow": null,
            "_model_module_version": "1.2.0",
            "_view_count": null,
            "flex_flow": "row wrap",
            "width": "100%",
            "min_width": null,
            "border": null,
            "align_items": null,
            "bottom": null,
            "_model_module": "@jupyter-widgets/base",
            "top": null,
            "grid_column": null,
            "overflow_y": null,
            "overflow_x": null,
            "grid_auto_flow": null,
            "grid_area": null,
            "grid_template_columns": null,
            "flex": null,
            "_model_name": "LayoutModel",
            "justify_items": null,
            "grid_row": null,
            "max_height": null,
            "align_content": null,
            "visibility": null,
            "align_self": null,
            "height": null,
            "min_height": null,
            "padding": null,
            "grid_auto_rows": null,
            "grid_gap": null,
            "max_width": null,
            "order": null,
            "_view_module_version": "1.2.0",
            "grid_template_areas": null,
            "object_position": null,
            "object_fit": null,
            "grid_auto_columns": null,
            "margin": null,
            "display": "inline-flex",
            "left": null
          }
        },
        "5632f3520d254597916829ad382d5e23": {
          "model_module": "@jupyter-widgets/controls",
          "model_name": "HTMLModel",
          "state": {
            "_view_name": "HTMLView",
            "style": "IPY_MODEL_cb6ebf3992b84d549579aab9130a5c10",
            "_dom_classes": [],
            "description": "",
            "_model_name": "HTMLModel",
            "placeholder": "​",
            "_view_module": "@jupyter-widgets/controls",
            "_model_module_version": "1.5.0",
            "value": "Done! Use &#x27;show&#x27; commands to display/save.   ",
            "_view_count": null,
            "_view_module_version": "1.5.0",
            "description_tooltip": null,
            "_model_module": "@jupyter-widgets/controls",
            "layout": "IPY_MODEL_c118750fc3824a97942314aa8ae56c72"
          }
        },
        "7e10a8ab11ed4c6e9f30681b3d47b987": {
          "model_module": "@jupyter-widgets/controls",
          "model_name": "FloatProgressModel",
          "state": {
            "_view_name": "ProgressView",
            "style": "IPY_MODEL_d93038b84cdf47a3a18743d54677d215",
            "_dom_classes": [],
            "description": "",
            "_model_name": "FloatProgressModel",
            "bar_style": "success",
            "max": 1,
            "_view_module": "@jupyter-widgets/controls",
            "_model_module_version": "1.5.0",
            "value": 1,
            "_view_count": null,
            "_view_module_version": "1.5.0",
            "orientation": "horizontal",
            "min": 0,
            "description_tooltip": null,
            "_model_module": "@jupyter-widgets/controls",
            "layout": "IPY_MODEL_c24fa9c1b0dc42949f80d7d5eb3d00fa"
          }
        },
        "d323fc1985304f96a6e245d5c5eb59ac": {
          "model_module": "@jupyter-widgets/controls",
          "model_name": "HTMLModel",
          "state": {
            "_view_name": "HTMLView",
            "style": "IPY_MODEL_11d53a577cf94d67b28a8f95aa680400",
            "_dom_classes": [],
            "description": "",
            "_model_name": "HTMLModel",
            "placeholder": "​",
            "_view_module": "@jupyter-widgets/controls",
            "_model_module_version": "1.5.0",
            "value": " [100%]   00:01 -&gt; (00:00 left)",
            "_view_count": null,
            "_view_module_version": "1.5.0",
            "description_tooltip": null,
            "_model_module": "@jupyter-widgets/controls",
            "layout": "IPY_MODEL_7bc46347cfaf4c85be18c02adda95888"
          }
        },
        "cb6ebf3992b84d549579aab9130a5c10": {
          "model_module": "@jupyter-widgets/controls",
          "model_name": "DescriptionStyleModel",
          "state": {
            "_view_name": "StyleView",
            "_model_name": "DescriptionStyleModel",
            "description_width": "",
            "_view_module": "@jupyter-widgets/base",
            "_model_module_version": "1.5.0",
            "_view_count": null,
            "_view_module_version": "1.2.0",
            "_model_module": "@jupyter-widgets/controls"
          }
        },
        "c118750fc3824a97942314aa8ae56c72": {
          "model_module": "@jupyter-widgets/base",
          "model_name": "LayoutModel",
          "state": {
            "_view_name": "LayoutView",
            "grid_template_rows": null,
            "right": null,
            "justify_content": null,
            "_view_module": "@jupyter-widgets/base",
            "overflow": null,
            "_model_module_version": "1.2.0",
            "_view_count": null,
            "flex_flow": null,
            "width": null,
            "min_width": null,
            "border": null,
            "align_items": null,
            "bottom": null,
            "_model_module": "@jupyter-widgets/base",
            "top": null,
            "grid_column": null,
            "overflow_y": null,
            "overflow_x": null,
            "grid_auto_flow": null,
            "grid_area": null,
            "grid_template_columns": null,
            "flex": null,
            "_model_name": "LayoutModel",
            "justify_items": null,
            "grid_row": null,
            "max_height": null,
            "align_content": null,
            "visibility": null,
            "align_self": null,
            "height": null,
            "min_height": null,
            "padding": null,
            "grid_auto_rows": null,
            "grid_gap": null,
            "max_width": null,
            "order": null,
            "_view_module_version": "1.2.0",
            "grid_template_areas": null,
            "object_position": null,
            "object_fit": null,
            "grid_auto_columns": null,
            "margin": null,
            "display": null,
            "left": null
          }
        },
        "d93038b84cdf47a3a18743d54677d215": {
          "model_module": "@jupyter-widgets/controls",
          "model_name": "ProgressStyleModel",
          "state": {
            "_view_name": "StyleView",
            "_model_name": "ProgressStyleModel",
            "description_width": "",
            "_view_module": "@jupyter-widgets/base",
            "_model_module_version": "1.5.0",
            "_view_count": null,
            "_view_module_version": "1.2.0",
            "bar_color": null,
            "_model_module": "@jupyter-widgets/controls"
          }
        },
        "c24fa9c1b0dc42949f80d7d5eb3d00fa": {
          "model_module": "@jupyter-widgets/base",
          "model_name": "LayoutModel",
          "state": {
            "_view_name": "LayoutView",
            "grid_template_rows": null,
            "right": null,
            "justify_content": null,
            "_view_module": "@jupyter-widgets/base",
            "overflow": null,
            "_model_module_version": "1.2.0",
            "_view_count": null,
            "flex_flow": null,
            "width": null,
            "min_width": null,
            "border": null,
            "align_items": null,
            "bottom": null,
            "_model_module": "@jupyter-widgets/base",
            "top": null,
            "grid_column": null,
            "overflow_y": null,
            "overflow_x": null,
            "grid_auto_flow": null,
            "grid_area": null,
            "grid_template_columns": null,
            "flex": "2",
            "_model_name": "LayoutModel",
            "justify_items": null,
            "grid_row": null,
            "max_height": null,
            "align_content": null,
            "visibility": null,
            "align_self": null,
            "height": null,
            "min_height": null,
            "padding": null,
            "grid_auto_rows": null,
            "grid_gap": null,
            "max_width": null,
            "order": null,
            "_view_module_version": "1.2.0",
            "grid_template_areas": null,
            "object_position": null,
            "object_fit": null,
            "grid_auto_columns": null,
            "margin": null,
            "display": null,
            "left": null
          }
        },
        "11d53a577cf94d67b28a8f95aa680400": {
          "model_module": "@jupyter-widgets/controls",
          "model_name": "DescriptionStyleModel",
          "state": {
            "_view_name": "StyleView",
            "_model_name": "DescriptionStyleModel",
            "description_width": "",
            "_view_module": "@jupyter-widgets/base",
            "_model_module_version": "1.5.0",
            "_view_count": null,
            "_view_module_version": "1.2.0",
            "_model_module": "@jupyter-widgets/controls"
          }
        },
        "7bc46347cfaf4c85be18c02adda95888": {
          "model_module": "@jupyter-widgets/base",
          "model_name": "LayoutModel",
          "state": {
            "_view_name": "LayoutView",
            "grid_template_rows": null,
            "right": null,
            "justify_content": null,
            "_view_module": "@jupyter-widgets/base",
            "overflow": null,
            "_model_module_version": "1.2.0",
            "_view_count": null,
            "flex_flow": null,
            "width": null,
            "min_width": null,
            "border": null,
            "align_items": null,
            "bottom": null,
            "_model_module": "@jupyter-widgets/base",
            "top": null,
            "grid_column": null,
            "overflow_y": null,
            "overflow_x": null,
            "grid_auto_flow": null,
            "grid_area": null,
            "grid_template_columns": null,
            "flex": null,
            "_model_name": "LayoutModel",
            "justify_items": null,
            "grid_row": null,
            "max_height": null,
            "align_content": null,
            "visibility": null,
            "align_self": null,
            "height": null,
            "min_height": null,
            "padding": null,
            "grid_auto_rows": null,
            "grid_gap": null,
            "max_width": null,
            "order": null,
            "_view_module_version": "1.2.0",
            "grid_template_areas": null,
            "object_position": null,
            "object_fit": null,
            "grid_auto_columns": null,
            "margin": null,
            "display": null,
            "left": null
          }
        }
      }
    }
  },
  "cells": [
    {
      "cell_type": "markdown",
      "metadata": {
        "id": "view-in-github",
        "colab_type": "text"
      },
      "source": [
        "<a href=\"https://colab.research.google.com/github/duybluemind1988/project_py/blob/main/Churn/Churn_final.ipynb\" target=\"_parent\"><img src=\"https://colab.research.google.com/assets/colab-badge.svg\" alt=\"Open In Colab\"/></a>"
      ]
    },
    {
      "cell_type": "code",
      "metadata": {
        "id": "xZ3F5RKO6Qiq"
      },
      "source": [
        "import sklearn as sk\n",
        "from sklearn import model_selection\n",
        "from sklearn import preprocessing\n",
        "from sklearn import pipeline\n",
        "from sklearn import compose\n",
        "from sklearn import metrics\n",
        "import tensorflow as tf\n",
        "import pandas as pd\n",
        "import numpy as np\n",
        "import matplotlib.pyplot as plt\n",
        "import seaborn as sns"
      ],
      "execution_count": null,
      "outputs": []
    },
    {
      "cell_type": "markdown",
      "metadata": {
        "id": "FYVlWe1h7AUk"
      },
      "source": [
        "# 1. Get data"
      ]
    },
    {
      "cell_type": "code",
      "metadata": {
        "id": "esSAzb7a6lMm",
        "colab": {
          "base_uri": "https://localhost:8080/",
          "height": 309
        },
        "outputId": "7673ad66-2b76-466b-edcd-ed14b621fb40"
      },
      "source": [
        "path='https://raw.githubusercontent.com/rstudio/keras-customer-churn/master/data/WA_Fn-UseC_-Telco-Customer-Churn.csv'\n",
        "df=pd.read_csv(path)\n",
        "df.head()"
      ],
      "execution_count": null,
      "outputs": [
        {
          "output_type": "execute_result",
          "data": {
            "text/html": [
              "<div>\n",
              "<style scoped>\n",
              "    .dataframe tbody tr th:only-of-type {\n",
              "        vertical-align: middle;\n",
              "    }\n",
              "\n",
              "    .dataframe tbody tr th {\n",
              "        vertical-align: top;\n",
              "    }\n",
              "\n",
              "    .dataframe thead th {\n",
              "        text-align: right;\n",
              "    }\n",
              "</style>\n",
              "<table border=\"1\" class=\"dataframe\">\n",
              "  <thead>\n",
              "    <tr style=\"text-align: right;\">\n",
              "      <th></th>\n",
              "      <th>customerID</th>\n",
              "      <th>gender</th>\n",
              "      <th>SeniorCitizen</th>\n",
              "      <th>Partner</th>\n",
              "      <th>Dependents</th>\n",
              "      <th>tenure</th>\n",
              "      <th>PhoneService</th>\n",
              "      <th>MultipleLines</th>\n",
              "      <th>InternetService</th>\n",
              "      <th>OnlineSecurity</th>\n",
              "      <th>OnlineBackup</th>\n",
              "      <th>DeviceProtection</th>\n",
              "      <th>TechSupport</th>\n",
              "      <th>StreamingTV</th>\n",
              "      <th>StreamingMovies</th>\n",
              "      <th>Contract</th>\n",
              "      <th>PaperlessBilling</th>\n",
              "      <th>PaymentMethod</th>\n",
              "      <th>MonthlyCharges</th>\n",
              "      <th>TotalCharges</th>\n",
              "      <th>Churn</th>\n",
              "    </tr>\n",
              "  </thead>\n",
              "  <tbody>\n",
              "    <tr>\n",
              "      <th>0</th>\n",
              "      <td>7590-VHVEG</td>\n",
              "      <td>Female</td>\n",
              "      <td>0</td>\n",
              "      <td>Yes</td>\n",
              "      <td>No</td>\n",
              "      <td>1</td>\n",
              "      <td>No</td>\n",
              "      <td>No phone service</td>\n",
              "      <td>DSL</td>\n",
              "      <td>No</td>\n",
              "      <td>Yes</td>\n",
              "      <td>No</td>\n",
              "      <td>No</td>\n",
              "      <td>No</td>\n",
              "      <td>No</td>\n",
              "      <td>Month-to-month</td>\n",
              "      <td>Yes</td>\n",
              "      <td>Electronic check</td>\n",
              "      <td>29.85</td>\n",
              "      <td>29.85</td>\n",
              "      <td>No</td>\n",
              "    </tr>\n",
              "    <tr>\n",
              "      <th>1</th>\n",
              "      <td>5575-GNVDE</td>\n",
              "      <td>Male</td>\n",
              "      <td>0</td>\n",
              "      <td>No</td>\n",
              "      <td>No</td>\n",
              "      <td>34</td>\n",
              "      <td>Yes</td>\n",
              "      <td>No</td>\n",
              "      <td>DSL</td>\n",
              "      <td>Yes</td>\n",
              "      <td>No</td>\n",
              "      <td>Yes</td>\n",
              "      <td>No</td>\n",
              "      <td>No</td>\n",
              "      <td>No</td>\n",
              "      <td>One year</td>\n",
              "      <td>No</td>\n",
              "      <td>Mailed check</td>\n",
              "      <td>56.95</td>\n",
              "      <td>1889.5</td>\n",
              "      <td>No</td>\n",
              "    </tr>\n",
              "    <tr>\n",
              "      <th>2</th>\n",
              "      <td>3668-QPYBK</td>\n",
              "      <td>Male</td>\n",
              "      <td>0</td>\n",
              "      <td>No</td>\n",
              "      <td>No</td>\n",
              "      <td>2</td>\n",
              "      <td>Yes</td>\n",
              "      <td>No</td>\n",
              "      <td>DSL</td>\n",
              "      <td>Yes</td>\n",
              "      <td>Yes</td>\n",
              "      <td>No</td>\n",
              "      <td>No</td>\n",
              "      <td>No</td>\n",
              "      <td>No</td>\n",
              "      <td>Month-to-month</td>\n",
              "      <td>Yes</td>\n",
              "      <td>Mailed check</td>\n",
              "      <td>53.85</td>\n",
              "      <td>108.15</td>\n",
              "      <td>Yes</td>\n",
              "    </tr>\n",
              "    <tr>\n",
              "      <th>3</th>\n",
              "      <td>7795-CFOCW</td>\n",
              "      <td>Male</td>\n",
              "      <td>0</td>\n",
              "      <td>No</td>\n",
              "      <td>No</td>\n",
              "      <td>45</td>\n",
              "      <td>No</td>\n",
              "      <td>No phone service</td>\n",
              "      <td>DSL</td>\n",
              "      <td>Yes</td>\n",
              "      <td>No</td>\n",
              "      <td>Yes</td>\n",
              "      <td>Yes</td>\n",
              "      <td>No</td>\n",
              "      <td>No</td>\n",
              "      <td>One year</td>\n",
              "      <td>No</td>\n",
              "      <td>Bank transfer (automatic)</td>\n",
              "      <td>42.30</td>\n",
              "      <td>1840.75</td>\n",
              "      <td>No</td>\n",
              "    </tr>\n",
              "    <tr>\n",
              "      <th>4</th>\n",
              "      <td>9237-HQITU</td>\n",
              "      <td>Female</td>\n",
              "      <td>0</td>\n",
              "      <td>No</td>\n",
              "      <td>No</td>\n",
              "      <td>2</td>\n",
              "      <td>Yes</td>\n",
              "      <td>No</td>\n",
              "      <td>Fiber optic</td>\n",
              "      <td>No</td>\n",
              "      <td>No</td>\n",
              "      <td>No</td>\n",
              "      <td>No</td>\n",
              "      <td>No</td>\n",
              "      <td>No</td>\n",
              "      <td>Month-to-month</td>\n",
              "      <td>Yes</td>\n",
              "      <td>Electronic check</td>\n",
              "      <td>70.70</td>\n",
              "      <td>151.65</td>\n",
              "      <td>Yes</td>\n",
              "    </tr>\n",
              "  </tbody>\n",
              "</table>\n",
              "</div>"
            ],
            "text/plain": [
              "   customerID  gender  SeniorCitizen  ... MonthlyCharges TotalCharges  Churn\n",
              "0  7590-VHVEG  Female              0  ...          29.85        29.85     No\n",
              "1  5575-GNVDE    Male              0  ...          56.95       1889.5     No\n",
              "2  3668-QPYBK    Male              0  ...          53.85       108.15    Yes\n",
              "3  7795-CFOCW    Male              0  ...          42.30      1840.75     No\n",
              "4  9237-HQITU  Female              0  ...          70.70       151.65    Yes\n",
              "\n",
              "[5 rows x 21 columns]"
            ]
          },
          "metadata": {
            "tags": []
          },
          "execution_count": 2
        }
      ]
    },
    {
      "cell_type": "markdown",
      "metadata": {
        "id": "P8I3nvlm7CWE"
      },
      "source": [
        "# 2. Data analysis"
      ]
    },
    {
      "cell_type": "code",
      "metadata": {
        "colab": {
          "base_uri": "https://localhost:8080/"
        },
        "id": "F0Bt42yX3qHr",
        "outputId": "fb20cb8a-bd2f-4fcc-e4a9-1e477c06c228"
      },
      "source": [
        "X = df.drop(columns='Churn')\n",
        "y= df['Churn']\n",
        "print(X.shape)\n",
        "print(y.shape)\n",
        "X_train_a, X_test, y_train_a, y_test = model_selection.train_test_split(X,y, test_size=0.2, \n",
        "                                    random_state=2018, stratify=y)\n",
        "\n",
        "X_train, X_val, y_train, y_val = model_selection.train_test_split(X_train_a, y_train_a,test_size=0.2, \n",
        "                                    random_state=2018, stratify=y_train_a)"
      ],
      "execution_count": null,
      "outputs": [
        {
          "output_type": "stream",
          "text": [
            "(7043, 20)\n",
            "(7043,)\n"
          ],
          "name": "stdout"
        }
      ]
    },
    {
      "cell_type": "code",
      "metadata": {
        "id": "0RagM6Ve6lPO",
        "colab": {
          "base_uri": "https://localhost:8080/"
        },
        "outputId": "a15a2cbd-e24b-4c5c-ac71-e548546a0a68"
      },
      "source": [
        "X_train.dtypes"
      ],
      "execution_count": null,
      "outputs": [
        {
          "output_type": "execute_result",
          "data": {
            "text/plain": [
              "customerID           object\n",
              "gender               object\n",
              "SeniorCitizen         int64\n",
              "Partner              object\n",
              "Dependents           object\n",
              "tenure                int64\n",
              "PhoneService         object\n",
              "MultipleLines        object\n",
              "InternetService      object\n",
              "OnlineSecurity       object\n",
              "OnlineBackup         object\n",
              "DeviceProtection     object\n",
              "TechSupport          object\n",
              "StreamingTV          object\n",
              "StreamingMovies      object\n",
              "Contract             object\n",
              "PaperlessBilling     object\n",
              "PaymentMethod        object\n",
              "MonthlyCharges      float64\n",
              "TotalCharges         object\n",
              "dtype: object"
            ]
          },
          "metadata": {
            "tags": []
          },
          "execution_count": 26
        }
      ]
    },
    {
      "cell_type": "code",
      "metadata": {
        "id": "4A3rfdby6lSG",
        "colab": {
          "base_uri": "https://localhost:8080/"
        },
        "outputId": "eaf1ff0a-8d18-41f1-d68b-0df731133941"
      },
      "source": [
        "X_train.isnull().sum()"
      ],
      "execution_count": null,
      "outputs": [
        {
          "output_type": "execute_result",
          "data": {
            "text/plain": [
              "customerID          0\n",
              "gender              0\n",
              "SeniorCitizen       0\n",
              "Partner             0\n",
              "Dependents          0\n",
              "tenure              0\n",
              "PhoneService        0\n",
              "MultipleLines       0\n",
              "InternetService     0\n",
              "OnlineSecurity      0\n",
              "OnlineBackup        0\n",
              "DeviceProtection    0\n",
              "TechSupport         0\n",
              "StreamingTV         0\n",
              "StreamingMovies     0\n",
              "Contract            0\n",
              "PaperlessBilling    0\n",
              "PaymentMethod       0\n",
              "MonthlyCharges      0\n",
              "TotalCharges        0\n",
              "dtype: int64"
            ]
          },
          "metadata": {
            "tags": []
          },
          "execution_count": 27
        }
      ]
    },
    {
      "cell_type": "code",
      "metadata": {
        "id": "gohTJATL6lU5",
        "colab": {
          "base_uri": "https://localhost:8080/"
        },
        "outputId": "d1cbbb8e-48d6-4456-934f-9a14c916b4ac"
      },
      "source": [
        "print(y_train.value_counts())\n",
        "print(y_train.value_counts(normalize=True))"
      ],
      "execution_count": null,
      "outputs": [
        {
          "output_type": "stream",
          "text": [
            "No     3311\n",
            "Yes    1196\n",
            "Name: Churn, dtype: int64\n",
            "No     0.734635\n",
            "Yes    0.265365\n",
            "Name: Churn, dtype: float64\n"
          ],
          "name": "stdout"
        }
      ]
    },
    {
      "cell_type": "code",
      "metadata": {
        "id": "y8LpJlaA6lXf",
        "colab": {
          "base_uri": "https://localhost:8080/"
        },
        "outputId": "dcdf152a-5baa-4d00-ce2a-00d592559c69"
      },
      "source": [
        "print(X_train.shape)\n",
        "X_train['TotalCharges'] = X_train['TotalCharges'].replace(' ', np.nan).astype(float)\n",
        "X_train = X_train.dropna()\n",
        "print(X_train.shape) # remove 7 values"
      ],
      "execution_count": null,
      "outputs": [
        {
          "output_type": "stream",
          "text": [
            "(4507, 20)\n",
            "(4500, 20)\n"
          ],
          "name": "stdout"
        },
        {
          "output_type": "stream",
          "text": [
            "/usr/local/lib/python3.7/dist-packages/ipykernel_launcher.py:2: SettingWithCopyWarning: \n",
            "A value is trying to be set on a copy of a slice from a DataFrame.\n",
            "Try using .loc[row_indexer,col_indexer] = value instead\n",
            "\n",
            "See the caveats in the documentation: https://pandas.pydata.org/pandas-docs/stable/user_guide/indexing.html#returning-a-view-versus-a-copy\n",
            "  \n"
          ],
          "name": "stderr"
        }
      ]
    },
    {
      "cell_type": "code",
      "metadata": {
        "colab": {
          "base_uri": "https://localhost:8080/"
        },
        "id": "4rR4siVh7Vdj",
        "outputId": "6fc8da6c-61b0-4981-f22e-828729b8d6da"
      },
      "source": [
        "print(X_test.shape)\n",
        "X_test['TotalCharges'] = X_test['TotalCharges'].replace(' ', np.nan).astype(float)\n",
        "X_test = X_test.dropna()\n",
        "print(X_test.shape) # remove 7 values"
      ],
      "execution_count": null,
      "outputs": [
        {
          "output_type": "stream",
          "text": [
            "(1409, 20)\n",
            "(1407, 20)\n"
          ],
          "name": "stdout"
        },
        {
          "output_type": "stream",
          "text": [
            "/usr/local/lib/python3.7/dist-packages/ipykernel_launcher.py:2: SettingWithCopyWarning: \n",
            "A value is trying to be set on a copy of a slice from a DataFrame.\n",
            "Try using .loc[row_indexer,col_indexer] = value instead\n",
            "\n",
            "See the caveats in the documentation: https://pandas.pydata.org/pandas-docs/stable/user_guide/indexing.html#returning-a-view-versus-a-copy\n",
            "  \n"
          ],
          "name": "stderr"
        }
      ]
    },
    {
      "cell_type": "markdown",
      "metadata": {
        "id": "EHo1M32k96qz"
      },
      "source": [
        "## Sweetvis"
      ]
    },
    {
      "cell_type": "code",
      "metadata": {
        "id": "4mjpER3N6laG"
      },
      "source": [
        "#!pip install sweetviz"
      ],
      "execution_count": null,
      "outputs": []
    },
    {
      "cell_type": "code",
      "metadata": {
        "id": "nRRBVCWt6lc2",
        "colab": {
          "base_uri": "https://localhost:8080/",
          "height": 66,
          "referenced_widgets": [
            "b18bded39862406399d2b0ca6a7574a6",
            "115621f6876c47458520f69c56e17227",
            "5632f3520d254597916829ad382d5e23",
            "7e10a8ab11ed4c6e9f30681b3d47b987",
            "d323fc1985304f96a6e245d5c5eb59ac",
            "cb6ebf3992b84d549579aab9130a5c10",
            "c118750fc3824a97942314aa8ae56c72",
            "d93038b84cdf47a3a18743d54677d215",
            "c24fa9c1b0dc42949f80d7d5eb3d00fa",
            "11d53a577cf94d67b28a8f95aa680400",
            "7bc46347cfaf4c85be18c02adda95888"
          ]
        },
        "outputId": "65113f47-1827-4a22-fe1d-9338f6017019"
      },
      "source": [
        "import sweetviz as sv\n",
        "\n",
        "my_report = sv.analyze(X_train)\n",
        "my_report.show_html(\"analyze.html\",open_browser=False) # Default arguments will generate to \"SWEETVIZ_REPORT.html\""
      ],
      "execution_count": null,
      "outputs": [
        {
          "output_type": "display_data",
          "data": {
            "application/vnd.jupyter.widget-view+json": {
              "model_id": "b18bded39862406399d2b0ca6a7574a6",
              "version_minor": 0,
              "version_major": 2
            },
            "text/plain": [
              "                                             |          | [  0%]   00:00 -> (? left)"
            ]
          },
          "metadata": {
            "tags": []
          }
        },
        {
          "output_type": "stream",
          "text": [
            "Report analyze.html was generated.\n"
          ],
          "name": "stdout"
        }
      ]
    },
    {
      "cell_type": "code",
      "metadata": {
        "id": "hmmd-EuV5zoR"
      },
      "source": [
        "import IPython\n",
        "IPython.display.HTML(\"analyze.html\")"
      ],
      "execution_count": null,
      "outputs": []
    },
    {
      "cell_type": "code",
      "metadata": {
        "id": "ifs0_QNI6vjf"
      },
      "source": [
        "compare_report = sv.compare([X_train,\"train\"],[X_test,\"test\"])\n",
        "compare_report.show_html(\"compare.html\",open_browser=False) "
      ],
      "execution_count": null,
      "outputs": []
    },
    {
      "cell_type": "code",
      "metadata": {
        "id": "HUaXcb0Z6vgn"
      },
      "source": [
        "IPython.display.HTML(\"compare.html\")"
      ],
      "execution_count": null,
      "outputs": []
    },
    {
      "cell_type": "markdown",
      "metadata": {
        "id": "lEt6P7Vw99r1"
      },
      "source": [
        "## Autovis"
      ]
    },
    {
      "cell_type": "code",
      "metadata": {
        "id": "gISneDBn-0Cw"
      },
      "source": [
        "!pip install autoviz"
      ],
      "execution_count": null,
      "outputs": []
    },
    {
      "cell_type": "code",
      "metadata": {
        "id": "jctOS9pv7Pb-"
      },
      "source": [
        "from autoviz.AutoViz_Class import AutoViz_Class\n",
        "\n",
        "#EDA using Autoviz\n",
        "autoviz = AutoViz_Class().AutoViz(path)"
      ],
      "execution_count": null,
      "outputs": []
    },
    {
      "cell_type": "markdown",
      "metadata": {
        "id": "KxTaXk2rBc_0"
      },
      "source": [
        "## Dtale"
      ]
    },
    {
      "cell_type": "code",
      "metadata": {
        "id": "HeSZDxtd_nuo"
      },
      "source": [
        "#!pip install dtale"
      ],
      "execution_count": null,
      "outputs": []
    },
    {
      "cell_type": "code",
      "metadata": {
        "colab": {
          "base_uri": "https://localhost:8080/",
          "height": 34
        },
        "id": "Q_Mn1EvH6veL",
        "outputId": "9a4869f4-f43f-4e80-f9f6-574744c5ffa0"
      },
      "source": [
        "import dtale\n",
        "import dtale.app as dtale_app\n",
        "dtale_app.USE_COLAB = True\n",
        "dtale.show(X_train)"
      ],
      "execution_count": null,
      "outputs": [
        {
          "output_type": "execute_result",
          "data": {
            "text/plain": [
              "https://ddzhzwx83oe-496ff2e9c6d22116-40000-colab.googleusercontent.com/dtale/main/7"
            ]
          },
          "metadata": {
            "tags": []
          },
          "execution_count": 64
        }
      ]
    },
    {
      "cell_type": "code",
      "metadata": {
        "id": "l38_0oSbLAyc"
      },
      "source": [
        "import sklearn as sk\n",
        "from sklearn import model_selection\n",
        "from sklearn import preprocessing\n",
        "from sklearn import pipeline\n",
        "from sklearn import compose\n",
        "from sklearn import metrics\n",
        "import tensorflow as tf\n",
        "import pandas as pd\n",
        "import numpy as np\n",
        "import matplotlib.pyplot as plt\n",
        "import seaborn as sns"
      ],
      "execution_count": null,
      "outputs": []
    },
    {
      "cell_type": "markdown",
      "metadata": {
        "id": "Xix975yVa-vd"
      },
      "source": [
        "# Try Worflow (fail)"
      ]
    },
    {
      "cell_type": "code",
      "metadata": {
        "id": "XznuR_K9fj7P",
        "colab": {
          "base_uri": "https://localhost:8080/",
          "height": 309
        },
        "outputId": "eb85972e-587c-4fc4-9ecc-e482387b0fb2"
      },
      "source": [
        "path='https://raw.githubusercontent.com/rstudio/keras-customer-churn/master/data/WA_Fn-UseC_-Telco-Customer-Churn.csv'\n",
        "df=pd.read_csv(path)\n",
        "df.head()"
      ],
      "execution_count": null,
      "outputs": [
        {
          "output_type": "execute_result",
          "data": {
            "text/html": [
              "<div>\n",
              "<style scoped>\n",
              "    .dataframe tbody tr th:only-of-type {\n",
              "        vertical-align: middle;\n",
              "    }\n",
              "\n",
              "    .dataframe tbody tr th {\n",
              "        vertical-align: top;\n",
              "    }\n",
              "\n",
              "    .dataframe thead th {\n",
              "        text-align: right;\n",
              "    }\n",
              "</style>\n",
              "<table border=\"1\" class=\"dataframe\">\n",
              "  <thead>\n",
              "    <tr style=\"text-align: right;\">\n",
              "      <th></th>\n",
              "      <th>customerID</th>\n",
              "      <th>gender</th>\n",
              "      <th>SeniorCitizen</th>\n",
              "      <th>Partner</th>\n",
              "      <th>Dependents</th>\n",
              "      <th>tenure</th>\n",
              "      <th>PhoneService</th>\n",
              "      <th>MultipleLines</th>\n",
              "      <th>InternetService</th>\n",
              "      <th>OnlineSecurity</th>\n",
              "      <th>OnlineBackup</th>\n",
              "      <th>DeviceProtection</th>\n",
              "      <th>TechSupport</th>\n",
              "      <th>StreamingTV</th>\n",
              "      <th>StreamingMovies</th>\n",
              "      <th>Contract</th>\n",
              "      <th>PaperlessBilling</th>\n",
              "      <th>PaymentMethod</th>\n",
              "      <th>MonthlyCharges</th>\n",
              "      <th>TotalCharges</th>\n",
              "      <th>Churn</th>\n",
              "    </tr>\n",
              "  </thead>\n",
              "  <tbody>\n",
              "    <tr>\n",
              "      <th>0</th>\n",
              "      <td>7590-VHVEG</td>\n",
              "      <td>Female</td>\n",
              "      <td>0</td>\n",
              "      <td>Yes</td>\n",
              "      <td>No</td>\n",
              "      <td>1</td>\n",
              "      <td>No</td>\n",
              "      <td>No phone service</td>\n",
              "      <td>DSL</td>\n",
              "      <td>No</td>\n",
              "      <td>Yes</td>\n",
              "      <td>No</td>\n",
              "      <td>No</td>\n",
              "      <td>No</td>\n",
              "      <td>No</td>\n",
              "      <td>Month-to-month</td>\n",
              "      <td>Yes</td>\n",
              "      <td>Electronic check</td>\n",
              "      <td>29.85</td>\n",
              "      <td>29.85</td>\n",
              "      <td>No</td>\n",
              "    </tr>\n",
              "    <tr>\n",
              "      <th>1</th>\n",
              "      <td>5575-GNVDE</td>\n",
              "      <td>Male</td>\n",
              "      <td>0</td>\n",
              "      <td>No</td>\n",
              "      <td>No</td>\n",
              "      <td>34</td>\n",
              "      <td>Yes</td>\n",
              "      <td>No</td>\n",
              "      <td>DSL</td>\n",
              "      <td>Yes</td>\n",
              "      <td>No</td>\n",
              "      <td>Yes</td>\n",
              "      <td>No</td>\n",
              "      <td>No</td>\n",
              "      <td>No</td>\n",
              "      <td>One year</td>\n",
              "      <td>No</td>\n",
              "      <td>Mailed check</td>\n",
              "      <td>56.95</td>\n",
              "      <td>1889.5</td>\n",
              "      <td>No</td>\n",
              "    </tr>\n",
              "    <tr>\n",
              "      <th>2</th>\n",
              "      <td>3668-QPYBK</td>\n",
              "      <td>Male</td>\n",
              "      <td>0</td>\n",
              "      <td>No</td>\n",
              "      <td>No</td>\n",
              "      <td>2</td>\n",
              "      <td>Yes</td>\n",
              "      <td>No</td>\n",
              "      <td>DSL</td>\n",
              "      <td>Yes</td>\n",
              "      <td>Yes</td>\n",
              "      <td>No</td>\n",
              "      <td>No</td>\n",
              "      <td>No</td>\n",
              "      <td>No</td>\n",
              "      <td>Month-to-month</td>\n",
              "      <td>Yes</td>\n",
              "      <td>Mailed check</td>\n",
              "      <td>53.85</td>\n",
              "      <td>108.15</td>\n",
              "      <td>Yes</td>\n",
              "    </tr>\n",
              "    <tr>\n",
              "      <th>3</th>\n",
              "      <td>7795-CFOCW</td>\n",
              "      <td>Male</td>\n",
              "      <td>0</td>\n",
              "      <td>No</td>\n",
              "      <td>No</td>\n",
              "      <td>45</td>\n",
              "      <td>No</td>\n",
              "      <td>No phone service</td>\n",
              "      <td>DSL</td>\n",
              "      <td>Yes</td>\n",
              "      <td>No</td>\n",
              "      <td>Yes</td>\n",
              "      <td>Yes</td>\n",
              "      <td>No</td>\n",
              "      <td>No</td>\n",
              "      <td>One year</td>\n",
              "      <td>No</td>\n",
              "      <td>Bank transfer (automatic)</td>\n",
              "      <td>42.30</td>\n",
              "      <td>1840.75</td>\n",
              "      <td>No</td>\n",
              "    </tr>\n",
              "    <tr>\n",
              "      <th>4</th>\n",
              "      <td>9237-HQITU</td>\n",
              "      <td>Female</td>\n",
              "      <td>0</td>\n",
              "      <td>No</td>\n",
              "      <td>No</td>\n",
              "      <td>2</td>\n",
              "      <td>Yes</td>\n",
              "      <td>No</td>\n",
              "      <td>Fiber optic</td>\n",
              "      <td>No</td>\n",
              "      <td>No</td>\n",
              "      <td>No</td>\n",
              "      <td>No</td>\n",
              "      <td>No</td>\n",
              "      <td>No</td>\n",
              "      <td>Month-to-month</td>\n",
              "      <td>Yes</td>\n",
              "      <td>Electronic check</td>\n",
              "      <td>70.70</td>\n",
              "      <td>151.65</td>\n",
              "      <td>Yes</td>\n",
              "    </tr>\n",
              "  </tbody>\n",
              "</table>\n",
              "</div>"
            ],
            "text/plain": [
              "   customerID  gender  SeniorCitizen  ... MonthlyCharges TotalCharges  Churn\n",
              "0  7590-VHVEG  Female              0  ...          29.85        29.85     No\n",
              "1  5575-GNVDE    Male              0  ...          56.95       1889.5     No\n",
              "2  3668-QPYBK    Male              0  ...          53.85       108.15    Yes\n",
              "3  7795-CFOCW    Male              0  ...          42.30      1840.75     No\n",
              "4  9237-HQITU  Female              0  ...          70.70       151.65    Yes\n",
              "\n",
              "[5 rows x 21 columns]"
            ]
          },
          "metadata": {
            "tags": []
          },
          "execution_count": 4
        }
      ]
    },
    {
      "cell_type": "code",
      "metadata": {
        "colab": {
          "base_uri": "https://localhost:8080/"
        },
        "id": "id_-K5aZa4Hj",
        "outputId": "42890131-6118-4e64-f462-d1676195d2a9"
      },
      "source": [
        "X = df.drop(columns='Churn')\n",
        "y= df['Churn']\n",
        "print(X.shape)\n",
        "print(y.shape)\n",
        "X_train_a, X_test, y_train_a, y_test = model_selection.train_test_split(X,y, test_size=0.2, \n",
        "                                    random_state=2018, stratify=y)\n",
        "\n",
        "X_train, X_val, y_train, y_val = model_selection.train_test_split(X_train_a, y_train_a,test_size=0.2, \n",
        "                                    random_state=2018, stratify=y_train_a)"
      ],
      "execution_count": null,
      "outputs": [
        {
          "output_type": "stream",
          "text": [
            "(7043, 20)\n",
            "(7043,)\n"
          ],
          "name": "stdout"
        }
      ]
    },
    {
      "cell_type": "code",
      "metadata": {
        "id": "dvaDt-pea4Hx"
      },
      "source": [
        "X_train.dtypes\n",
        "X_train.isnull().sum()"
      ],
      "execution_count": null,
      "outputs": []
    },
    {
      "cell_type": "code",
      "metadata": {
        "colab": {
          "base_uri": "https://localhost:8080/"
        },
        "id": "DgkAcLpWa4Hy",
        "outputId": "1c9ca1bf-421a-4fff-fe3a-1abf12a98d68"
      },
      "source": [
        "print(y_train.value_counts())\n",
        "print(y_train.value_counts(normalize=True))"
      ],
      "execution_count": null,
      "outputs": [
        {
          "output_type": "stream",
          "text": [
            "No     3311\n",
            "Yes    1196\n",
            "Name: Churn, dtype: int64\n",
            "No     0.734635\n",
            "Yes    0.265365\n",
            "Name: Churn, dtype: float64\n"
          ],
          "name": "stdout"
        }
      ]
    },
    {
      "cell_type": "code",
      "metadata": {
        "id": "EIsgzlRfbEDh",
        "colab": {
          "base_uri": "https://localhost:8080/",
          "height": 309
        },
        "outputId": "47931ca1-db14-43b2-e4f2-2c1257ef9329"
      },
      "source": [
        "X_train.head()"
      ],
      "execution_count": null,
      "outputs": [
        {
          "output_type": "execute_result",
          "data": {
            "text/html": [
              "<div>\n",
              "<style scoped>\n",
              "    .dataframe tbody tr th:only-of-type {\n",
              "        vertical-align: middle;\n",
              "    }\n",
              "\n",
              "    .dataframe tbody tr th {\n",
              "        vertical-align: top;\n",
              "    }\n",
              "\n",
              "    .dataframe thead th {\n",
              "        text-align: right;\n",
              "    }\n",
              "</style>\n",
              "<table border=\"1\" class=\"dataframe\">\n",
              "  <thead>\n",
              "    <tr style=\"text-align: right;\">\n",
              "      <th></th>\n",
              "      <th>customerID</th>\n",
              "      <th>gender</th>\n",
              "      <th>SeniorCitizen</th>\n",
              "      <th>Partner</th>\n",
              "      <th>Dependents</th>\n",
              "      <th>tenure</th>\n",
              "      <th>PhoneService</th>\n",
              "      <th>MultipleLines</th>\n",
              "      <th>InternetService</th>\n",
              "      <th>OnlineSecurity</th>\n",
              "      <th>OnlineBackup</th>\n",
              "      <th>DeviceProtection</th>\n",
              "      <th>TechSupport</th>\n",
              "      <th>StreamingTV</th>\n",
              "      <th>StreamingMovies</th>\n",
              "      <th>Contract</th>\n",
              "      <th>PaperlessBilling</th>\n",
              "      <th>PaymentMethod</th>\n",
              "      <th>MonthlyCharges</th>\n",
              "      <th>TotalCharges</th>\n",
              "    </tr>\n",
              "  </thead>\n",
              "  <tbody>\n",
              "    <tr>\n",
              "      <th>731</th>\n",
              "      <td>6621-YOBKI</td>\n",
              "      <td>Male</td>\n",
              "      <td>0</td>\n",
              "      <td>No</td>\n",
              "      <td>No</td>\n",
              "      <td>5</td>\n",
              "      <td>Yes</td>\n",
              "      <td>No</td>\n",
              "      <td>No</td>\n",
              "      <td>No internet service</td>\n",
              "      <td>No internet service</td>\n",
              "      <td>No internet service</td>\n",
              "      <td>No internet service</td>\n",
              "      <td>No internet service</td>\n",
              "      <td>No internet service</td>\n",
              "      <td>Month-to-month</td>\n",
              "      <td>No</td>\n",
              "      <td>Mailed check</td>\n",
              "      <td>20.35</td>\n",
              "      <td>92.75</td>\n",
              "    </tr>\n",
              "    <tr>\n",
              "      <th>5546</th>\n",
              "      <td>7880-XSOJX</td>\n",
              "      <td>Male</td>\n",
              "      <td>0</td>\n",
              "      <td>No</td>\n",
              "      <td>No</td>\n",
              "      <td>4</td>\n",
              "      <td>No</td>\n",
              "      <td>No phone service</td>\n",
              "      <td>DSL</td>\n",
              "      <td>Yes</td>\n",
              "      <td>Yes</td>\n",
              "      <td>No</td>\n",
              "      <td>Yes</td>\n",
              "      <td>No</td>\n",
              "      <td>No</td>\n",
              "      <td>Month-to-month</td>\n",
              "      <td>No</td>\n",
              "      <td>Mailed check</td>\n",
              "      <td>42.40</td>\n",
              "      <td>146.4</td>\n",
              "    </tr>\n",
              "    <tr>\n",
              "      <th>3023</th>\n",
              "      <td>0238-WHBIQ</td>\n",
              "      <td>Male</td>\n",
              "      <td>0</td>\n",
              "      <td>Yes</td>\n",
              "      <td>Yes</td>\n",
              "      <td>72</td>\n",
              "      <td>Yes</td>\n",
              "      <td>Yes</td>\n",
              "      <td>DSL</td>\n",
              "      <td>Yes</td>\n",
              "      <td>Yes</td>\n",
              "      <td>Yes</td>\n",
              "      <td>Yes</td>\n",
              "      <td>Yes</td>\n",
              "      <td>Yes</td>\n",
              "      <td>Two year</td>\n",
              "      <td>No</td>\n",
              "      <td>Credit card (automatic)</td>\n",
              "      <td>89.70</td>\n",
              "      <td>6339.3</td>\n",
              "    </tr>\n",
              "    <tr>\n",
              "      <th>3914</th>\n",
              "      <td>1755-FZQEC</td>\n",
              "      <td>Male</td>\n",
              "      <td>0</td>\n",
              "      <td>No</td>\n",
              "      <td>No</td>\n",
              "      <td>39</td>\n",
              "      <td>Yes</td>\n",
              "      <td>No</td>\n",
              "      <td>No</td>\n",
              "      <td>No internet service</td>\n",
              "      <td>No internet service</td>\n",
              "      <td>No internet service</td>\n",
              "      <td>No internet service</td>\n",
              "      <td>No internet service</td>\n",
              "      <td>No internet service</td>\n",
              "      <td>One year</td>\n",
              "      <td>No</td>\n",
              "      <td>Mailed check</td>\n",
              "      <td>19.90</td>\n",
              "      <td>791.15</td>\n",
              "    </tr>\n",
              "    <tr>\n",
              "      <th>4787</th>\n",
              "      <td>5542-DHSXL</td>\n",
              "      <td>Female</td>\n",
              "      <td>0</td>\n",
              "      <td>Yes</td>\n",
              "      <td>No</td>\n",
              "      <td>4</td>\n",
              "      <td>Yes</td>\n",
              "      <td>No</td>\n",
              "      <td>DSL</td>\n",
              "      <td>Yes</td>\n",
              "      <td>Yes</td>\n",
              "      <td>No</td>\n",
              "      <td>No</td>\n",
              "      <td>No</td>\n",
              "      <td>No</td>\n",
              "      <td>Month-to-month</td>\n",
              "      <td>No</td>\n",
              "      <td>Mailed check</td>\n",
              "      <td>54.70</td>\n",
              "      <td>235.05</td>\n",
              "    </tr>\n",
              "  </tbody>\n",
              "</table>\n",
              "</div>"
            ],
            "text/plain": [
              "      customerID  gender  ...  MonthlyCharges TotalCharges\n",
              "731   6621-YOBKI    Male  ...           20.35        92.75\n",
              "5546  7880-XSOJX    Male  ...           42.40        146.4\n",
              "3023  0238-WHBIQ    Male  ...           89.70       6339.3\n",
              "3914  1755-FZQEC    Male  ...           19.90       791.15\n",
              "4787  5542-DHSXL  Female  ...           54.70       235.05\n",
              "\n",
              "[5 rows x 20 columns]"
            ]
          },
          "metadata": {
            "tags": []
          },
          "execution_count": 9
        }
      ]
    },
    {
      "cell_type": "markdown",
      "metadata": {
        "id": "YuV-U9F4bGAs"
      },
      "source": [
        "- Replace '' in Total charges column\n",
        "- Convert to category or ordinal encoder or one hot encoder\n",
        "- No need to remove NA value for tree method\n"
      ]
    },
    {
      "cell_type": "code",
      "metadata": {
        "id": "2D7DbcFla4Hy",
        "colab": {
          "base_uri": "https://localhost:8080/"
        },
        "outputId": "444f87d7-9cc9-4b50-db68-7f0e3e8c957d"
      },
      "source": [
        "X_train['TotalCharges'] = X_train['TotalCharges'].replace(' ', np.nan).astype(float)\n",
        "X_test['TotalCharges'] = X_test['TotalCharges'].replace(' ', np.nan).astype(float)"
      ],
      "execution_count": null,
      "outputs": [
        {
          "output_type": "stream",
          "text": [
            "/usr/local/lib/python3.7/dist-packages/ipykernel_launcher.py:1: SettingWithCopyWarning: \n",
            "A value is trying to be set on a copy of a slice from a DataFrame.\n",
            "Try using .loc[row_indexer,col_indexer] = value instead\n",
            "\n",
            "See the caveats in the documentation: https://pandas.pydata.org/pandas-docs/stable/user_guide/indexing.html#returning-a-view-versus-a-copy\n",
            "  \"\"\"Entry point for launching an IPython kernel.\n",
            "/usr/local/lib/python3.7/dist-packages/ipykernel_launcher.py:2: SettingWithCopyWarning: \n",
            "A value is trying to be set on a copy of a slice from a DataFrame.\n",
            "Try using .loc[row_indexer,col_indexer] = value instead\n",
            "\n",
            "See the caveats in the documentation: https://pandas.pydata.org/pandas-docs/stable/user_guide/indexing.html#returning-a-view-versus-a-copy\n",
            "  \n"
          ],
          "name": "stderr"
        }
      ]
    },
    {
      "cell_type": "code",
      "metadata": {
        "id": "TAZkoMoJfoza",
        "colab": {
          "base_uri": "https://localhost:8080/"
        },
        "outputId": "3d6f1c80-912d-4afc-cc37-4ece7128edd3"
      },
      "source": [
        "X_train.isnull().sum()"
      ],
      "execution_count": null,
      "outputs": [
        {
          "output_type": "execute_result",
          "data": {
            "text/plain": [
              "customerID          0\n",
              "gender              0\n",
              "SeniorCitizen       0\n",
              "Partner             0\n",
              "Dependents          0\n",
              "tenure              0\n",
              "PhoneService        0\n",
              "MultipleLines       0\n",
              "InternetService     0\n",
              "OnlineSecurity      0\n",
              "OnlineBackup        0\n",
              "DeviceProtection    0\n",
              "TechSupport         0\n",
              "StreamingTV         0\n",
              "StreamingMovies     0\n",
              "Contract            0\n",
              "PaperlessBilling    0\n",
              "PaymentMethod       0\n",
              "MonthlyCharges      0\n",
              "TotalCharges        7\n",
              "dtype: int64"
            ]
          },
          "metadata": {
            "tags": []
          },
          "execution_count": 11
        }
      ]
    },
    {
      "cell_type": "code",
      "metadata": {
        "id": "myNwljZFsmHu"
      },
      "source": [
        "def to_category(x):\n",
        "  return x.astype(\"category\")\n",
        "\n",
        "to_category_transform = preprocessing.FunctionTransformer(to_category)"
      ],
      "execution_count": null,
      "outputs": []
    },
    {
      "cell_type": "code",
      "metadata": {
        "id": "0QrWGQtdvzwc",
        "colab": {
          "base_uri": "https://localhost:8080/"
        },
        "outputId": "71ad4856-c1dd-46c7-d0bf-c8f956b5e9f1"
      },
      "source": [
        "X_train_a = to_category_transform.fit_transform(X_train)\n",
        "X_train_a[\"gender\"]"
      ],
      "execution_count": null,
      "outputs": [
        {
          "output_type": "execute_result",
          "data": {
            "text/plain": [
              "731       Male\n",
              "5546      Male\n",
              "3023      Male\n",
              "3914      Male\n",
              "4787    Female\n",
              "         ...  \n",
              "913       Male\n",
              "3170      Male\n",
              "1222      Male\n",
              "5109      Male\n",
              "6524      Male\n",
              "Name: gender, Length: 4507, dtype: category\n",
              "Categories (2, object): ['Female', 'Male']"
            ]
          },
          "metadata": {
            "tags": []
          },
          "execution_count": 13
        }
      ]
    },
    {
      "cell_type": "code",
      "metadata": {
        "id": "A-wJIZ7Gq_e2"
      },
      "source": [
        "#Standard scaler all numeric value\n",
        "numeric_features = X_train.select_dtypes(include=['int64', 'float64']).columns\n",
        "numeric_transformer = pipeline.Pipeline(steps=[('scaler', preprocessing.StandardScaler())])\n",
        "\n",
        "#Convert to category all category value\n",
        "categorical_features = X_train.select_dtypes(include=['object']).columns\n",
        "categorical_transformer = pipeline.Pipeline(steps=[(\"astype_category\",to_category_transform)])\n",
        "\n",
        "\n",
        "transformers=[\n",
        "    ('numeric', numeric_transformer, numeric_features),\n",
        "    ('categoric', categorical_transformer, categorical_features),\n",
        "]\n",
        "preprocessor = compose.ColumnTransformer(transformers)"
      ],
      "execution_count": null,
      "outputs": []
    },
    {
      "cell_type": "code",
      "metadata": {
        "id": "HFF6J4R8furg"
      },
      "source": [
        "# Create transform X value\n",
        "X_train_tran = preprocessor.fit_transform(X_train)\n",
        "X_test_tran=preprocessor.transform(X_test)"
      ],
      "execution_count": null,
      "outputs": []
    },
    {
      "cell_type": "code",
      "metadata": {
        "id": "Xz58J1Ogupgi"
      },
      "source": [
        "pd.DataFrame(X_train_tran)"
      ],
      "execution_count": null,
      "outputs": []
    },
    {
      "cell_type": "code",
      "metadata": {
        "id": "VazPzTUFupi6",
        "colab": {
          "base_uri": "https://localhost:8080/"
        },
        "outputId": "e60cfc77-6afc-4010-8414-6bcbb42ea88c"
      },
      "source": [
        "pd.DataFrame(X_test_tran)[5]"
      ],
      "execution_count": null,
      "outputs": [
        {
          "output_type": "execute_result",
          "data": {
            "text/plain": [
              "0       Female\n",
              "1       Female\n",
              "2         Male\n",
              "3       Female\n",
              "4         Male\n",
              "         ...  \n",
              "1404      Male\n",
              "1405      Male\n",
              "1406      Male\n",
              "1407      Male\n",
              "1408    Female\n",
              "Name: 5, Length: 1409, dtype: object"
            ]
          },
          "metadata": {
            "tags": []
          },
          "execution_count": 17
        }
      ]
    },
    {
      "cell_type": "code",
      "metadata": {
        "id": "a565RE0Aupnx",
        "colab": {
          "base_uri": "https://localhost:8080/"
        },
        "outputId": "ec122c54-3eb9-4e36-f890-d6b8a925d645"
      },
      "source": [
        "# Keep track transformer colum names:\n",
        "def get_transformer_feature_names(columnTransformer): #mean: preprocessor \n",
        "\n",
        "    output_features = []\n",
        "\n",
        "    for name, pipe, features in columnTransformer.transformers_:\n",
        "        if name!='remainder':\n",
        "            for i in pipe:\n",
        "                trans_features = []\n",
        "                if hasattr(i,'categories_'):\n",
        "                    trans_features.extend(i.get_feature_names(features))\n",
        "                else:\n",
        "                    trans_features = features\n",
        "            output_features.extend(trans_features)\n",
        "\n",
        "    return output_features\n",
        "print(len(get_transformer_feature_names(preprocessor)))\n",
        "get_transformer_feature_names(preprocessor)"
      ],
      "execution_count": null,
      "outputs": [
        {
          "output_type": "stream",
          "text": [
            "20\n"
          ],
          "name": "stdout"
        },
        {
          "output_type": "execute_result",
          "data": {
            "text/plain": [
              "['SeniorCitizen',\n",
              " 'tenure',\n",
              " 'MonthlyCharges',\n",
              " 'TotalCharges',\n",
              " 'customerID',\n",
              " 'gender',\n",
              " 'Partner',\n",
              " 'Dependents',\n",
              " 'PhoneService',\n",
              " 'MultipleLines',\n",
              " 'InternetService',\n",
              " 'OnlineSecurity',\n",
              " 'OnlineBackup',\n",
              " 'DeviceProtection',\n",
              " 'TechSupport',\n",
              " 'StreamingTV',\n",
              " 'StreamingMovies',\n",
              " 'Contract',\n",
              " 'PaperlessBilling',\n",
              " 'PaymentMethod']"
            ]
          },
          "metadata": {
            "tags": []
          },
          "execution_count": 33
        }
      ]
    },
    {
      "cell_type": "code",
      "metadata": {
        "id": "yjsW5DHZQo6D",
        "colab": {
          "base_uri": "https://localhost:8080/",
          "height": 309
        },
        "outputId": "752c8755-dc85-4802-a593-9daa00247415"
      },
      "source": [
        "#Apply name to X_train and X_test after transformer\n",
        "X_train_tran_df=pd.DataFrame(X_train_tran, \n",
        "             columns=get_transformer_feature_names(preprocessor))\n",
        "X_test_tran_df=pd.DataFrame(X_test_tran, \n",
        "             columns=get_transformer_feature_names(preprocessor))\n",
        "X_train_tran_df.head()"
      ],
      "execution_count": null,
      "outputs": [
        {
          "output_type": "execute_result",
          "data": {
            "text/html": [
              "<div>\n",
              "<style scoped>\n",
              "    .dataframe tbody tr th:only-of-type {\n",
              "        vertical-align: middle;\n",
              "    }\n",
              "\n",
              "    .dataframe tbody tr th {\n",
              "        vertical-align: top;\n",
              "    }\n",
              "\n",
              "    .dataframe thead th {\n",
              "        text-align: right;\n",
              "    }\n",
              "</style>\n",
              "<table border=\"1\" class=\"dataframe\">\n",
              "  <thead>\n",
              "    <tr style=\"text-align: right;\">\n",
              "      <th></th>\n",
              "      <th>SeniorCitizen</th>\n",
              "      <th>tenure</th>\n",
              "      <th>MonthlyCharges</th>\n",
              "      <th>TotalCharges</th>\n",
              "      <th>customerID</th>\n",
              "      <th>gender</th>\n",
              "      <th>Partner</th>\n",
              "      <th>Dependents</th>\n",
              "      <th>PhoneService</th>\n",
              "      <th>MultipleLines</th>\n",
              "      <th>InternetService</th>\n",
              "      <th>OnlineSecurity</th>\n",
              "      <th>OnlineBackup</th>\n",
              "      <th>DeviceProtection</th>\n",
              "      <th>TechSupport</th>\n",
              "      <th>StreamingTV</th>\n",
              "      <th>StreamingMovies</th>\n",
              "      <th>Contract</th>\n",
              "      <th>PaperlessBilling</th>\n",
              "      <th>PaymentMethod</th>\n",
              "    </tr>\n",
              "  </thead>\n",
              "  <tbody>\n",
              "    <tr>\n",
              "      <th>0</th>\n",
              "      <td>-0.42989</td>\n",
              "      <td>-1.12507</td>\n",
              "      <td>-1.48178</td>\n",
              "      <td>-0.972213</td>\n",
              "      <td>6621-YOBKI</td>\n",
              "      <td>Male</td>\n",
              "      <td>No</td>\n",
              "      <td>No</td>\n",
              "      <td>Yes</td>\n",
              "      <td>No</td>\n",
              "      <td>No</td>\n",
              "      <td>No internet service</td>\n",
              "      <td>No internet service</td>\n",
              "      <td>No internet service</td>\n",
              "      <td>No internet service</td>\n",
              "      <td>No internet service</td>\n",
              "      <td>No internet service</td>\n",
              "      <td>Month-to-month</td>\n",
              "      <td>No</td>\n",
              "      <td>Mailed check</td>\n",
              "    </tr>\n",
              "    <tr>\n",
              "      <th>1</th>\n",
              "      <td>-0.42989</td>\n",
              "      <td>-1.1657</td>\n",
              "      <td>-0.742942</td>\n",
              "      <td>-0.948456</td>\n",
              "      <td>7880-XSOJX</td>\n",
              "      <td>Male</td>\n",
              "      <td>No</td>\n",
              "      <td>No</td>\n",
              "      <td>No</td>\n",
              "      <td>No phone service</td>\n",
              "      <td>DSL</td>\n",
              "      <td>Yes</td>\n",
              "      <td>Yes</td>\n",
              "      <td>No</td>\n",
              "      <td>Yes</td>\n",
              "      <td>No</td>\n",
              "      <td>No</td>\n",
              "      <td>Month-to-month</td>\n",
              "      <td>No</td>\n",
              "      <td>Mailed check</td>\n",
              "    </tr>\n",
              "    <tr>\n",
              "      <th>2</th>\n",
              "      <td>-0.42989</td>\n",
              "      <td>1.59694</td>\n",
              "      <td>0.841966</td>\n",
              "      <td>1.7939</td>\n",
              "      <td>0238-WHBIQ</td>\n",
              "      <td>Male</td>\n",
              "      <td>Yes</td>\n",
              "      <td>Yes</td>\n",
              "      <td>Yes</td>\n",
              "      <td>Yes</td>\n",
              "      <td>DSL</td>\n",
              "      <td>Yes</td>\n",
              "      <td>Yes</td>\n",
              "      <td>Yes</td>\n",
              "      <td>Yes</td>\n",
              "      <td>Yes</td>\n",
              "      <td>Yes</td>\n",
              "      <td>Two year</td>\n",
              "      <td>No</td>\n",
              "      <td>Credit card (automatic)</td>\n",
              "    </tr>\n",
              "    <tr>\n",
              "      <th>3</th>\n",
              "      <td>-0.42989</td>\n",
              "      <td>0.256246</td>\n",
              "      <td>-1.49686</td>\n",
              "      <td>-0.662946</td>\n",
              "      <td>1755-FZQEC</td>\n",
              "      <td>Male</td>\n",
              "      <td>No</td>\n",
              "      <td>No</td>\n",
              "      <td>Yes</td>\n",
              "      <td>No</td>\n",
              "      <td>No</td>\n",
              "      <td>No internet service</td>\n",
              "      <td>No internet service</td>\n",
              "      <td>No internet service</td>\n",
              "      <td>No internet service</td>\n",
              "      <td>No internet service</td>\n",
              "      <td>No internet service</td>\n",
              "      <td>One year</td>\n",
              "      <td>No</td>\n",
              "      <td>Mailed check</td>\n",
              "    </tr>\n",
              "    <tr>\n",
              "      <th>4</th>\n",
              "      <td>-0.42989</td>\n",
              "      <td>-1.1657</td>\n",
              "      <td>-0.330799</td>\n",
              "      <td>-0.9092</td>\n",
              "      <td>5542-DHSXL</td>\n",
              "      <td>Female</td>\n",
              "      <td>Yes</td>\n",
              "      <td>No</td>\n",
              "      <td>Yes</td>\n",
              "      <td>No</td>\n",
              "      <td>DSL</td>\n",
              "      <td>Yes</td>\n",
              "      <td>Yes</td>\n",
              "      <td>No</td>\n",
              "      <td>No</td>\n",
              "      <td>No</td>\n",
              "      <td>No</td>\n",
              "      <td>Month-to-month</td>\n",
              "      <td>No</td>\n",
              "      <td>Mailed check</td>\n",
              "    </tr>\n",
              "  </tbody>\n",
              "</table>\n",
              "</div>"
            ],
            "text/plain": [
              "  SeniorCitizen    tenure  ... PaperlessBilling            PaymentMethod\n",
              "0      -0.42989  -1.12507  ...               No             Mailed check\n",
              "1      -0.42989   -1.1657  ...               No             Mailed check\n",
              "2      -0.42989   1.59694  ...               No  Credit card (automatic)\n",
              "3      -0.42989  0.256246  ...               No             Mailed check\n",
              "4      -0.42989   -1.1657  ...               No             Mailed check\n",
              "\n",
              "[5 rows x 20 columns]"
            ]
          },
          "metadata": {
            "tags": []
          },
          "execution_count": 34
        }
      ]
    },
    {
      "cell_type": "markdown",
      "metadata": {
        "id": "UUYsjeivdP1C"
      },
      "source": [
        "# Try normal"
      ]
    },
    {
      "cell_type": "code",
      "metadata": {
        "id": "N-ccy2QSR_f7"
      },
      "source": [
        "import pandas as pd\n",
        "import numpy as np\n",
        "import matplotlib.pyplot as plt\n",
        "import seaborn as sns\n",
        "import sklearn as sk\n",
        "from sklearn import model_selection\n",
        "from sklearn import preprocessing\n",
        "from sklearn import pipeline\n",
        "from sklearn import compose\n",
        "from sklearn import metrics\n",
        "from sklearn.model_selection import StratifiedKFold,train_test_split,cross_val_score,cross_validate\n",
        "#ML normal ML\n",
        "from sklearn.linear_model import LogisticRegression\n",
        "from sklearn.tree import DecisionTreeClassifier\n",
        "from sklearn.neighbors import KNeighborsClassifier\n",
        "from sklearn.discriminant_analysis import LinearDiscriminantAnalysis\n",
        "from sklearn.naive_bayes import GaussianNB\n",
        "from sklearn.svm import SVC\n",
        "\n",
        "#ML ensembles\n",
        "from sklearn.ensemble import RandomForestClassifier\n",
        "from xgboost import XGBClassifier\n",
        "from lightgbm import LGBMClassifier\n",
        "from sklearn.metrics import make_scorer\n",
        "\n",
        "from sklearn.metrics import classification_report,confusion_matrix,accuracy_score\n",
        "from sklearn.metrics import recall_score,precision_score,roc_curve,auc,precision_recall_curve\n",
        "from sklearn.metrics import f1_score,balanced_accuracy_score,average_precision_score\n",
        "from sklearn.metrics import make_scorer"
      ],
      "execution_count": 19,
      "outputs": []
    },
    {
      "cell_type": "code",
      "metadata": {
        "id": "zvimEmmFR9UX",
        "colab": {
          "base_uri": "https://localhost:8080/",
          "height": 313
        },
        "outputId": "75f8daa7-d662-435b-80ca-039a67ca58e8"
      },
      "source": [
        "path='https://raw.githubusercontent.com/rstudio/keras-customer-churn/master/data/WA_Fn-UseC_-Telco-Customer-Churn.csv'\n",
        "df=pd.read_csv(path)\n",
        "df.head()"
      ],
      "execution_count": 20,
      "outputs": [
        {
          "output_type": "execute_result",
          "data": {
            "text/html": [
              "<div>\n",
              "<style scoped>\n",
              "    .dataframe tbody tr th:only-of-type {\n",
              "        vertical-align: middle;\n",
              "    }\n",
              "\n",
              "    .dataframe tbody tr th {\n",
              "        vertical-align: top;\n",
              "    }\n",
              "\n",
              "    .dataframe thead th {\n",
              "        text-align: right;\n",
              "    }\n",
              "</style>\n",
              "<table border=\"1\" class=\"dataframe\">\n",
              "  <thead>\n",
              "    <tr style=\"text-align: right;\">\n",
              "      <th></th>\n",
              "      <th>customerID</th>\n",
              "      <th>gender</th>\n",
              "      <th>SeniorCitizen</th>\n",
              "      <th>Partner</th>\n",
              "      <th>Dependents</th>\n",
              "      <th>tenure</th>\n",
              "      <th>PhoneService</th>\n",
              "      <th>MultipleLines</th>\n",
              "      <th>InternetService</th>\n",
              "      <th>OnlineSecurity</th>\n",
              "      <th>OnlineBackup</th>\n",
              "      <th>DeviceProtection</th>\n",
              "      <th>TechSupport</th>\n",
              "      <th>StreamingTV</th>\n",
              "      <th>StreamingMovies</th>\n",
              "      <th>Contract</th>\n",
              "      <th>PaperlessBilling</th>\n",
              "      <th>PaymentMethod</th>\n",
              "      <th>MonthlyCharges</th>\n",
              "      <th>TotalCharges</th>\n",
              "      <th>Churn</th>\n",
              "    </tr>\n",
              "  </thead>\n",
              "  <tbody>\n",
              "    <tr>\n",
              "      <th>0</th>\n",
              "      <td>7590-VHVEG</td>\n",
              "      <td>Female</td>\n",
              "      <td>0</td>\n",
              "      <td>Yes</td>\n",
              "      <td>No</td>\n",
              "      <td>1</td>\n",
              "      <td>No</td>\n",
              "      <td>No phone service</td>\n",
              "      <td>DSL</td>\n",
              "      <td>No</td>\n",
              "      <td>Yes</td>\n",
              "      <td>No</td>\n",
              "      <td>No</td>\n",
              "      <td>No</td>\n",
              "      <td>No</td>\n",
              "      <td>Month-to-month</td>\n",
              "      <td>Yes</td>\n",
              "      <td>Electronic check</td>\n",
              "      <td>29.85</td>\n",
              "      <td>29.85</td>\n",
              "      <td>No</td>\n",
              "    </tr>\n",
              "    <tr>\n",
              "      <th>1</th>\n",
              "      <td>5575-GNVDE</td>\n",
              "      <td>Male</td>\n",
              "      <td>0</td>\n",
              "      <td>No</td>\n",
              "      <td>No</td>\n",
              "      <td>34</td>\n",
              "      <td>Yes</td>\n",
              "      <td>No</td>\n",
              "      <td>DSL</td>\n",
              "      <td>Yes</td>\n",
              "      <td>No</td>\n",
              "      <td>Yes</td>\n",
              "      <td>No</td>\n",
              "      <td>No</td>\n",
              "      <td>No</td>\n",
              "      <td>One year</td>\n",
              "      <td>No</td>\n",
              "      <td>Mailed check</td>\n",
              "      <td>56.95</td>\n",
              "      <td>1889.5</td>\n",
              "      <td>No</td>\n",
              "    </tr>\n",
              "    <tr>\n",
              "      <th>2</th>\n",
              "      <td>3668-QPYBK</td>\n",
              "      <td>Male</td>\n",
              "      <td>0</td>\n",
              "      <td>No</td>\n",
              "      <td>No</td>\n",
              "      <td>2</td>\n",
              "      <td>Yes</td>\n",
              "      <td>No</td>\n",
              "      <td>DSL</td>\n",
              "      <td>Yes</td>\n",
              "      <td>Yes</td>\n",
              "      <td>No</td>\n",
              "      <td>No</td>\n",
              "      <td>No</td>\n",
              "      <td>No</td>\n",
              "      <td>Month-to-month</td>\n",
              "      <td>Yes</td>\n",
              "      <td>Mailed check</td>\n",
              "      <td>53.85</td>\n",
              "      <td>108.15</td>\n",
              "      <td>Yes</td>\n",
              "    </tr>\n",
              "    <tr>\n",
              "      <th>3</th>\n",
              "      <td>7795-CFOCW</td>\n",
              "      <td>Male</td>\n",
              "      <td>0</td>\n",
              "      <td>No</td>\n",
              "      <td>No</td>\n",
              "      <td>45</td>\n",
              "      <td>No</td>\n",
              "      <td>No phone service</td>\n",
              "      <td>DSL</td>\n",
              "      <td>Yes</td>\n",
              "      <td>No</td>\n",
              "      <td>Yes</td>\n",
              "      <td>Yes</td>\n",
              "      <td>No</td>\n",
              "      <td>No</td>\n",
              "      <td>One year</td>\n",
              "      <td>No</td>\n",
              "      <td>Bank transfer (automatic)</td>\n",
              "      <td>42.30</td>\n",
              "      <td>1840.75</td>\n",
              "      <td>No</td>\n",
              "    </tr>\n",
              "    <tr>\n",
              "      <th>4</th>\n",
              "      <td>9237-HQITU</td>\n",
              "      <td>Female</td>\n",
              "      <td>0</td>\n",
              "      <td>No</td>\n",
              "      <td>No</td>\n",
              "      <td>2</td>\n",
              "      <td>Yes</td>\n",
              "      <td>No</td>\n",
              "      <td>Fiber optic</td>\n",
              "      <td>No</td>\n",
              "      <td>No</td>\n",
              "      <td>No</td>\n",
              "      <td>No</td>\n",
              "      <td>No</td>\n",
              "      <td>No</td>\n",
              "      <td>Month-to-month</td>\n",
              "      <td>Yes</td>\n",
              "      <td>Electronic check</td>\n",
              "      <td>70.70</td>\n",
              "      <td>151.65</td>\n",
              "      <td>Yes</td>\n",
              "    </tr>\n",
              "  </tbody>\n",
              "</table>\n",
              "</div>"
            ],
            "text/plain": [
              "   customerID  gender  SeniorCitizen  ... MonthlyCharges TotalCharges  Churn\n",
              "0  7590-VHVEG  Female              0  ...          29.85        29.85     No\n",
              "1  5575-GNVDE    Male              0  ...          56.95       1889.5     No\n",
              "2  3668-QPYBK    Male              0  ...          53.85       108.15    Yes\n",
              "3  7795-CFOCW    Male              0  ...          42.30      1840.75     No\n",
              "4  9237-HQITU  Female              0  ...          70.70       151.65    Yes\n",
              "\n",
              "[5 rows x 21 columns]"
            ]
          },
          "metadata": {
            "tags": []
          },
          "execution_count": 20
        }
      ]
    },
    {
      "cell_type": "markdown",
      "metadata": {
        "id": "DBBYUs-vupMv"
      },
      "source": [
        "## No convert"
      ]
    },
    {
      "cell_type": "code",
      "metadata": {
        "id": "LJ8zxfObuosq",
        "outputId": "3896af09-1b65-4204-8001-e3df2c6c283c",
        "colab": {
          "base_uri": "https://localhost:8080/"
        }
      },
      "source": [
        "X = df.drop(columns='Churn')\n",
        "y= df['Churn']\n",
        "print(X.shape)\n",
        "print(y.shape)\n",
        "X_train_a, X_test, y_train_a, y_test = model_selection.train_test_split(X,y, test_size=0.2, \n",
        "                                    random_state=2018, stratify=y)\n",
        "\n",
        "X_train, X_val, y_train, y_val = model_selection.train_test_split(X_train_a, y_train_a,test_size=0.2, \n",
        "                                    random_state=2018, stratify=y_train_a)"
      ],
      "execution_count": 70,
      "outputs": [
        {
          "output_type": "stream",
          "text": [
            "(7043, 20)\n",
            "(7043,)\n"
          ],
          "name": "stdout"
        }
      ]
    },
    {
      "cell_type": "code",
      "metadata": {
        "id": "QC_jMxA5uuqW"
      },
      "source": [
        "# Drop unused column\n",
        "X_train=X_train.drop([\"customerID\"],axis=1)\n",
        "X_test=X_test.drop([\"customerID\"],axis=1)"
      ],
      "execution_count": 71,
      "outputs": []
    },
    {
      "cell_type": "code",
      "metadata": {
        "id": "Gjo88GVsuvk2"
      },
      "source": [
        "# evaluate the model\n",
        "model = LGBMClassifier()\n",
        "cv = model_selection.RepeatedStratifiedKFold(n_splits=5, n_repeats=1, random_state=1)\n",
        "n_scores = model_selection.cross_val_score(model, X_train, y_train, scoring='balanced_accuracy', cv=cv, n_jobs=-1, error_score='raise')\n",
        "# report performance\n",
        "print('Accuracy: %.3f (%.3f)' % (np.mean(n_scores), np.std(n_scores)))"
      ],
      "execution_count": null,
      "outputs": []
    },
    {
      "cell_type": "markdown",
      "metadata": {
        "id": "9uK1oAufu4PO"
      },
      "source": [
        "ValueError: DataFrame.dtypes for data must be int, float or bool.\n",
        "Did not expect the data types in fields gender, Partner, Dependents, PhoneService, MultipleLines, InternetService, OnlineSecurity, OnlineBackup, DeviceProtection, TechSupport, StreamingTV, StreamingMovies, Contract, PaperlessBilling, PaymentMethod, TotalCharges"
      ]
    },
    {
      "cell_type": "markdown",
      "metadata": {
        "id": "FvkDsZJCi5Tt"
      },
      "source": [
        "## Convert to category (factor) only"
      ]
    },
    {
      "cell_type": "code",
      "metadata": {
        "id": "kbInao-Fd0XO",
        "outputId": "cd9c4232-17a3-449c-8c7a-02966567f297",
        "colab": {
          "base_uri": "https://localhost:8080/"
        }
      },
      "source": [
        "X = df.drop(columns='Churn')\n",
        "y= df['Churn']\n",
        "print(X.shape)\n",
        "print(y.shape)\n",
        "X_train_a, X_test, y_train_a, y_test = model_selection.train_test_split(X,y, test_size=0.2, \n",
        "                                    random_state=2018, stratify=y)\n",
        "\n",
        "X_train, X_val, y_train, y_val = model_selection.train_test_split(X_train_a, y_train_a,test_size=0.2, \n",
        "                                    random_state=2018, stratify=y_train_a)"
      ],
      "execution_count": 74,
      "outputs": [
        {
          "output_type": "stream",
          "text": [
            "(7043, 20)\n",
            "(7043,)\n"
          ],
          "name": "stdout"
        }
      ]
    },
    {
      "cell_type": "code",
      "metadata": {
        "id": "QTyAwTG2euyx"
      },
      "source": [
        "# Drop unused column\n",
        "X_train=X_train.drop([\"customerID\"],axis=1)\n",
        "X_test=X_test.drop([\"customerID\"],axis=1)\n",
        "# Convert to category (factor)\n",
        "X_train=X_train.astype(\"category\")\n",
        "X_test=X_test.astype(\"category\")"
      ],
      "execution_count": 75,
      "outputs": []
    },
    {
      "cell_type": "code",
      "metadata": {
        "id": "qBTSU_Uou-GU"
      },
      "source": [
        "# Xgboost bat buoc phai dung onehot encoder or label / ordinal encoder, khong dung duoc cho category\n",
        "model=XGBClassifier()\n",
        "model.fit(X_train,y_train)\n",
        "predictions=model.predict(X_test)\n",
        "print(confusion_matrix(y_test,predictions))\n",
        "print('Balanced Accuracy score:',balanced_accuracy_score(y_test,predictions))\n",
        "print('macro f1 score:',f1_score(y_test,predictions,average=\"macro\")) # good for imbalance dataset\n",
        "print(classification_report(y_test,predictions))"
      ],
      "execution_count": null,
      "outputs": []
    },
    {
      "cell_type": "markdown",
      "metadata": {
        "id": "LsyoVwBevC2l"
      },
      "source": [
        "ValueError: DataFrame.dtypes for data must be int, float or bool.\n",
        "                Did not expect the data types in fields gender, SeniorCitizen, Partner, Dependents, tenure, PhoneService, MultipleLines, InternetService, OnlineSecurity, OnlineBackup, DeviceProtection, TechSupport, StreamingTV, StreamingMovies, Contract, PaperlessBilling, PaymentMethod, MonthlyCharges, TotalCharges"
      ]
    },
    {
      "cell_type": "code",
      "metadata": {
        "id": "2t99rQD3eu1n",
        "colab": {
          "base_uri": "https://localhost:8080/"
        },
        "outputId": "01d51429-c3f7-40ca-e798-9c14db674c38"
      },
      "source": [
        "# evaluate the model\n",
        "model = LGBMClassifier()\n",
        "cv = model_selection.RepeatedStratifiedKFold(n_splits=5, n_repeats=1, random_state=1)\n",
        "n_scores = model_selection.cross_val_score(model, X_train, y_train, scoring='balanced_accuracy', cv=cv, n_jobs=-1, error_score='raise')\n",
        "# report performance\n",
        "print('Accuracy: %.3f (%.3f)' % (np.mean(n_scores), np.std(n_scores)))"
      ],
      "execution_count": 24,
      "outputs": [
        {
          "output_type": "stream",
          "text": [
            "Accuracy: 0.689 (0.021)\n"
          ],
          "name": "stdout"
        }
      ]
    },
    {
      "cell_type": "code",
      "metadata": {
        "id": "NDKgB9kFeu7X",
        "colab": {
          "base_uri": "https://localhost:8080/",
          "height": 265
        },
        "outputId": "3217bca9-a0c8-45d2-a9ae-da6a910e49ca"
      },
      "source": [
        "from matplotlib import pyplot\n",
        "# plot model performance for comparison\n",
        "pyplot.boxplot(n_scores, showmeans=True)\n",
        "pyplot.show()"
      ],
      "execution_count": 25,
      "outputs": [
        {
          "output_type": "display_data",
          "data": {
            "image/png": "[encoded data removed]",
            "text/plain": [
              "<Figure size 432x288 with 1 Axes>"
            ]
          },
          "metadata": {
            "tags": [],
            "needs_background": "light"
          }
        }
      ]
    },
    {
      "cell_type": "code",
      "metadata": {
        "id": "_gbUR9yJl8IE",
        "colab": {
          "base_uri": "https://localhost:8080/"
        },
        "outputId": "f7caf6a9-699f-42d8-d597-c44aa7f94700"
      },
      "source": [
        "#Lgbm dung duoc neu convert object to category, khong can phai remove NaN value\n",
        "model=LGBMClassifier()\n",
        "model.fit(X_train,y_train)\n",
        "predictions=model.predict(X_test)\n",
        "print(confusion_matrix(y_test,predictions))\n",
        "print('Balanced Accuracy score:',balanced_accuracy_score(y_test,predictions))\n",
        "print('macro f1 score:',f1_score(y_test,predictions,average=\"macro\")) # good for imbalance dataset\n",
        "print(classification_report(y_test,predictions))"
      ],
      "execution_count": 77,
      "outputs": [
        {
          "output_type": "stream",
          "text": [
            "[[902 133]\n",
            " [166 208]]\n",
            "Balanced Accuracy score: 0.7138236585806919\n",
            "macro f1 score: 0.7198201703194571\n",
            "              precision    recall  f1-score   support\n",
            "\n",
            "          No       0.84      0.87      0.86      1035\n",
            "         Yes       0.61      0.56      0.58       374\n",
            "\n",
            "    accuracy                           0.79      1409\n",
            "   macro avg       0.73      0.71      0.72      1409\n",
            "weighted avg       0.78      0.79      0.78      1409\n",
            "\n"
          ],
          "name": "stdout"
        }
      ]
    },
    {
      "cell_type": "code",
      "metadata": {
        "id": "FKIFZqPMic21",
        "outputId": "780c5059-1d11-4abf-84f6-c268f9f2304a",
        "colab": {
          "base_uri": "https://localhost:8080/",
          "height": 363
        }
      },
      "source": [
        "imp_vals= model.feature_importances_\n",
        "varimp_grid_df=pd.DataFrame({'feature': X_train.columns, 'importance': imp_vals})\n",
        "varimp_grid_df=varimp_grid_df.sort_values(by='importance',ascending=False)\n",
        "varimp_grid_df.head(10)"
      ],
      "execution_count": 56,
      "outputs": [
        {
          "output_type": "execute_result",
          "data": {
            "text/html": [
              "<div>\n",
              "<style scoped>\n",
              "    .dataframe tbody tr th:only-of-type {\n",
              "        vertical-align: middle;\n",
              "    }\n",
              "\n",
              "    .dataframe tbody tr th {\n",
              "        vertical-align: top;\n",
              "    }\n",
              "\n",
              "    .dataframe thead th {\n",
              "        text-align: right;\n",
              "    }\n",
              "</style>\n",
              "<table border=\"1\" class=\"dataframe\">\n",
              "  <thead>\n",
              "    <tr style=\"text-align: right;\">\n",
              "      <th></th>\n",
              "      <th>feature</th>\n",
              "      <th>importance</th>\n",
              "    </tr>\n",
              "  </thead>\n",
              "  <tbody>\n",
              "    <tr>\n",
              "      <th>16</th>\n",
              "      <td>PaymentMethod</td>\n",
              "      <td>447</td>\n",
              "    </tr>\n",
              "    <tr>\n",
              "      <th>4</th>\n",
              "      <td>tenure</td>\n",
              "      <td>374</td>\n",
              "    </tr>\n",
              "    <tr>\n",
              "      <th>7</th>\n",
              "      <td>InternetService</td>\n",
              "      <td>211</td>\n",
              "    </tr>\n",
              "    <tr>\n",
              "      <th>14</th>\n",
              "      <td>Contract</td>\n",
              "      <td>204</td>\n",
              "    </tr>\n",
              "    <tr>\n",
              "      <th>6</th>\n",
              "      <td>MultipleLines</td>\n",
              "      <td>186</td>\n",
              "    </tr>\n",
              "    <tr>\n",
              "      <th>0</th>\n",
              "      <td>gender</td>\n",
              "      <td>169</td>\n",
              "    </tr>\n",
              "    <tr>\n",
              "      <th>9</th>\n",
              "      <td>OnlineBackup</td>\n",
              "      <td>159</td>\n",
              "    </tr>\n",
              "    <tr>\n",
              "      <th>8</th>\n",
              "      <td>OnlineSecurity</td>\n",
              "      <td>140</td>\n",
              "    </tr>\n",
              "    <tr>\n",
              "      <th>10</th>\n",
              "      <td>DeviceProtection</td>\n",
              "      <td>135</td>\n",
              "    </tr>\n",
              "    <tr>\n",
              "      <th>11</th>\n",
              "      <td>TechSupport</td>\n",
              "      <td>134</td>\n",
              "    </tr>\n",
              "  </tbody>\n",
              "</table>\n",
              "</div>"
            ],
            "text/plain": [
              "             feature  importance\n",
              "16     PaymentMethod         447\n",
              "4             tenure         374\n",
              "7    InternetService         211\n",
              "14          Contract         204\n",
              "6      MultipleLines         186\n",
              "0             gender         169\n",
              "9       OnlineBackup         159\n",
              "8     OnlineSecurity         140\n",
              "10  DeviceProtection         135\n",
              "11       TechSupport         134"
            ]
          },
          "metadata": {
            "tags": []
          },
          "execution_count": 56
        }
      ]
    },
    {
      "cell_type": "code",
      "metadata": {
        "id": "PXNUYDBfi0yh",
        "outputId": "10d13110-2511-4d7d-b0fd-568a72e07552",
        "colab": {
          "base_uri": "https://localhost:8080/",
          "height": 497
        }
      },
      "source": [
        "fig,ax=plt.subplots(figsize=(8,8))\n",
        "sns.barplot(x='importance',y='feature',data=varimp_grid_df,ax=ax)\n",
        "plt.show()"
      ],
      "execution_count": 57,
      "outputs": [
        {
          "output_type": "display_data",
          "data": {
            "image/png": "[encoded data removed]",
            "text/plain": [
              "<Figure size 576x576 with 1 Axes>"
            ]
          },
          "metadata": {
            "tags": [],
            "needs_background": "light"
          }
        }
      ]
    },
    {
      "cell_type": "code",
      "metadata": {
        "id": "arsY_vEAjJ5G",
        "outputId": "00cee3c2-714e-4004-bfe8-97cd36c930e6",
        "colab": {
          "base_uri": "https://localhost:8080/"
        }
      },
      "source": [
        "!pip install shap\n",
        "import shap"
      ],
      "execution_count": 59,
      "outputs": [
        {
          "output_type": "stream",
          "text": [
            "Collecting shap\n",
            "\u001b[?25l  Downloading https://files.pythonhosted.org/packages/b9/f4/c5b95cddae15be80f8e58b25edceca105aa83c0b8c86a1edad24a6af80d3/shap-0.39.0.tar.gz (356kB)\n",
            "\r\u001b[K     |█                               | 10kB 14.6MB/s eta 0:00:01\r\u001b[K     |█▉                              | 20kB 20.7MB/s eta 0:00:01\r\u001b[K     |██▊                             | 30kB 12.4MB/s eta 0:00:01\r\u001b[K     |███▊                            | 40kB 9.5MB/s eta 0:00:01\r\u001b[K     |████▋                           | 51kB 4.5MB/s eta 0:00:01\r\u001b[K     |█████▌                          | 61kB 5.0MB/s eta 0:00:01\r\u001b[K     |██████▍                         | 71kB 5.1MB/s eta 0:00:01\r\u001b[K     |███████▍                        | 81kB 5.4MB/s eta 0:00:01\r\u001b[K     |████████▎                       | 92kB 5.8MB/s eta 0:00:01\r\u001b[K     |█████████▏                      | 102kB 6.0MB/s eta 0:00:01\r\u001b[K     |██████████▏                     | 112kB 6.0MB/s eta 0:00:01\r\u001b[K     |███████████                     | 122kB 6.0MB/s eta 0:00:01\r\u001b[K     |████████████                    | 133kB 6.0MB/s eta 0:00:01\r\u001b[K     |████████████▉                   | 143kB 6.0MB/s eta 0:00:01\r\u001b[K     |█████████████▉                  | 153kB 6.0MB/s eta 0:00:01\r\u001b[K     |██████████████▊                 | 163kB 6.0MB/s eta 0:00:01\r\u001b[K     |███████████████▋                | 174kB 6.0MB/s eta 0:00:01\r\u001b[K     |████████████████▋               | 184kB 6.0MB/s eta 0:00:01\r\u001b[K     |█████████████████▌              | 194kB 6.0MB/s eta 0:00:01\r\u001b[K     |██████████████████▍             | 204kB 6.0MB/s eta 0:00:01\r\u001b[K     |███████████████████▎            | 215kB 6.0MB/s eta 0:00:01\r\u001b[K     |████████████████████▎           | 225kB 6.0MB/s eta 0:00:01\r\u001b[K     |█████████████████████▏          | 235kB 6.0MB/s eta 0:00:01\r\u001b[K     |██████████████████████          | 245kB 6.0MB/s eta 0:00:01\r\u001b[K     |███████████████████████         | 256kB 6.0MB/s eta 0:00:01\r\u001b[K     |████████████████████████        | 266kB 6.0MB/s eta 0:00:01\r\u001b[K     |████████████████████████▉       | 276kB 6.0MB/s eta 0:00:01\r\u001b[K     |█████████████████████████▊      | 286kB 6.0MB/s eta 0:00:01\r\u001b[K     |██████████████████████████▊     | 296kB 6.0MB/s eta 0:00:01\r\u001b[K     |███████████████████████████▋    | 307kB 6.0MB/s eta 0:00:01\r\u001b[K     |████████████████████████████▌   | 317kB 6.0MB/s eta 0:00:01\r\u001b[K     |█████████████████████████████▍  | 327kB 6.0MB/s eta 0:00:01\r\u001b[K     |██████████████████████████████▍ | 337kB 6.0MB/s eta 0:00:01\r\u001b[K     |███████████████████████████████▎| 348kB 6.0MB/s eta 0:00:01\r\u001b[K     |████████████████████████████████| 358kB 6.0MB/s \n",
            "\u001b[?25hRequirement already satisfied: numpy in /usr/local/lib/python3.7/dist-packages (from shap) (1.19.5)\n",
            "Requirement already satisfied: scipy in /usr/local/lib/python3.7/dist-packages (from shap) (1.4.1)\n",
            "Requirement already satisfied: scikit-learn in /usr/local/lib/python3.7/dist-packages (from shap) (0.22.2.post1)\n",
            "Requirement already satisfied: pandas in /usr/local/lib/python3.7/dist-packages (from shap) (1.1.5)\n",
            "Requirement already satisfied: tqdm>4.25.0 in /usr/local/lib/python3.7/dist-packages (from shap) (4.41.1)\n",
            "Collecting slicer==0.0.7\n",
            "  Downloading https://files.pythonhosted.org/packages/78/c2/b3f55dfdb8af9812fdb9baf70cacf3b9e82e505b2bd4324d588888b81202/slicer-0.0.7-py3-none-any.whl\n",
            "Requirement already satisfied: numba in /usr/local/lib/python3.7/dist-packages (from shap) (0.51.2)\n",
            "Requirement already satisfied: cloudpickle in /usr/local/lib/python3.7/dist-packages (from shap) (1.3.0)\n",
            "Requirement already satisfied: joblib>=0.11 in /usr/local/lib/python3.7/dist-packages (from scikit-learn->shap) (1.0.1)\n",
            "Requirement already satisfied: python-dateutil>=2.7.3 in /usr/local/lib/python3.7/dist-packages (from pandas->shap) (2.8.1)\n",
            "Requirement already satisfied: pytz>=2017.2 in /usr/local/lib/python3.7/dist-packages (from pandas->shap) (2018.9)\n",
            "Requirement already satisfied: setuptools in /usr/local/lib/python3.7/dist-packages (from numba->shap) (54.1.2)\n",
            "Requirement already satisfied: llvmlite<0.35,>=0.34.0.dev0 in /usr/local/lib/python3.7/dist-packages (from numba->shap) (0.34.0)\n",
            "Requirement already satisfied: six>=1.5 in /usr/local/lib/python3.7/dist-packages (from python-dateutil>=2.7.3->pandas->shap) (1.15.0)\n",
            "Building wheels for collected packages: shap\n",
            "  Building wheel for shap (setup.py) ... \u001b[?25l\u001b[?25hdone\n",
            "  Created wheel for shap: filename=shap-0.39.0-cp37-cp37m-linux_x86_64.whl size=491630 sha256=13471121f1133af2d3a606bfef15521049b97e20f5c32e29f6130abec9033f2f\n",
            "  Stored in directory: /root/.cache/pip/wheels/15/27/f5/a8ab9da52fd159aae6477b5ede6eaaec69fd130fa0fa59f283\n",
            "Successfully built shap\n",
            "Installing collected packages: slicer, shap\n",
            "Successfully installed shap-0.39.0 slicer-0.0.7\n"
          ],
          "name": "stdout"
        }
      ]
    },
    {
      "cell_type": "code",
      "metadata": {
        "id": "fVWn20IOjINP",
        "outputId": "061f1cbd-b01e-4132-d5b6-732054612b64",
        "colab": {
          "base_uri": "https://localhost:8080/",
          "height": 577
        }
      },
      "source": [
        "explainer = shap.TreeExplainer(model)\n",
        "shap_values = explainer.shap_values(X_test)\n",
        "\n",
        "shap.summary_plot(shap_values[1], X_test, plot_type=\"bar\")"
      ],
      "execution_count": 60,
      "outputs": [
        {
          "output_type": "stream",
          "text": [
            "LightGBM binary classifier with TreeExplainer shap values output has changed to a list of ndarray\n"
          ],
          "name": "stderr"
        },
        {
          "output_type": "display_data",
          "data": {
            "image/png": "[encoded data removed]",
            "text/plain": [
              "<Figure size 576x655.2 with 1 Axes>"
            ]
          },
          "metadata": {
            "tags": [],
            "needs_background": "light"
          }
        }
      ]
    },
    {
      "cell_type": "code",
      "metadata": {
        "id": "_-0pdiEDjSyb",
        "outputId": "73d9689f-34af-4678-8bab-29fa92959732",
        "colab": {
          "base_uri": "https://localhost:8080/",
          "height": 564
        }
      },
      "source": [
        "shap.summary_plot(shap_values[1], X_test)"
      ],
      "execution_count": 61,
      "outputs": [
        {
          "output_type": "display_data",
          "data": {
            "image/png": "[encoded data removed]",
            "text/plain": [
              "<Figure size 576x655.2 with 2 Axes>"
            ]
          },
          "metadata": {
            "tags": [],
            "needs_background": "light"
          }
        }
      ]
    },
    {
      "cell_type": "markdown",
      "metadata": {
        "id": "NVjSK6V-dgcO"
      },
      "source": [
        "## Convert to ordinal encoder or one hot encoder"
      ]
    },
    {
      "cell_type": "code",
      "metadata": {
        "id": "1kJikg3vd16l",
        "outputId": "a9a49d87-69d4-4e1d-a141-bf77a9c8aa15",
        "colab": {
          "base_uri": "https://localhost:8080/"
        }
      },
      "source": [
        "X = df.drop(columns='Churn')\n",
        "y= df['Churn']\n",
        "print(X.shape)\n",
        "print(y.shape)\n",
        "X_train_a, X_test, y_train_a, y_test = model_selection.train_test_split(X,y, test_size=0.2, \n",
        "                                    random_state=2018, stratify=y)\n",
        "\n",
        "X_train, X_val, y_train, y_val = model_selection.train_test_split(X_train_a, y_train_a,test_size=0.2, \n",
        "                                    random_state=2018, stratify=y_train_a)"
      ],
      "execution_count": 83,
      "outputs": [
        {
          "output_type": "stream",
          "text": [
            "(7043, 20)\n",
            "(7043,)\n"
          ],
          "name": "stdout"
        }
      ]
    },
    {
      "cell_type": "code",
      "metadata": {
        "id": "NKdDq1phdm41"
      },
      "source": [
        "# Drop unused column\n",
        "X_train=X_train.drop([\"customerID\"],axis=1)\n",
        "X_test=X_test.drop([\"customerID\"],axis=1)\n",
        "# Convert total charge object to numeric\n",
        "X_train['TotalCharges'] = X_train['TotalCharges'].replace(' ', np.nan).astype(float)\n",
        "X_test['TotalCharges'] = X_test['TotalCharges'].replace(' ', np.nan).astype(float)\n",
        "# Convert to category (factor)\n",
        "X_train=pd.get_dummies(X_train)\n",
        "X_test=pd.get_dummies(X_test)"
      ],
      "execution_count": 79,
      "outputs": []
    },
    {
      "cell_type": "code",
      "metadata": {
        "id": "26Y5Lu-LeD4Z",
        "outputId": "f65bb653-cdc1-439b-e617-8872bb34766a",
        "colab": {
          "base_uri": "https://localhost:8080/",
          "height": 479
        }
      },
      "source": [
        "X_train"
      ],
      "execution_count": 40,
      "outputs": [
        {
          "output_type": "execute_result",
          "data": {
            "text/html": [
              "<div>\n",
              "<style scoped>\n",
              "    .dataframe tbody tr th:only-of-type {\n",
              "        vertical-align: middle;\n",
              "    }\n",
              "\n",
              "    .dataframe tbody tr th {\n",
              "        vertical-align: top;\n",
              "    }\n",
              "\n",
              "    .dataframe thead th {\n",
              "        text-align: right;\n",
              "    }\n",
              "</style>\n",
              "<table border=\"1\" class=\"dataframe\">\n",
              "  <thead>\n",
              "    <tr style=\"text-align: right;\">\n",
              "      <th></th>\n",
              "      <th>SeniorCitizen</th>\n",
              "      <th>tenure</th>\n",
              "      <th>MonthlyCharges</th>\n",
              "      <th>TotalCharges</th>\n",
              "      <th>gender_Female</th>\n",
              "      <th>gender_Male</th>\n",
              "      <th>Partner_No</th>\n",
              "      <th>Partner_Yes</th>\n",
              "      <th>Dependents_No</th>\n",
              "      <th>Dependents_Yes</th>\n",
              "      <th>PhoneService_No</th>\n",
              "      <th>PhoneService_Yes</th>\n",
              "      <th>MultipleLines_No</th>\n",
              "      <th>MultipleLines_No phone service</th>\n",
              "      <th>MultipleLines_Yes</th>\n",
              "      <th>InternetService_DSL</th>\n",
              "      <th>InternetService_Fiber optic</th>\n",
              "      <th>InternetService_No</th>\n",
              "      <th>OnlineSecurity_No</th>\n",
              "      <th>OnlineSecurity_No internet service</th>\n",
              "      <th>OnlineSecurity_Yes</th>\n",
              "      <th>OnlineBackup_No</th>\n",
              "      <th>OnlineBackup_No internet service</th>\n",
              "      <th>OnlineBackup_Yes</th>\n",
              "      <th>DeviceProtection_No</th>\n",
              "      <th>DeviceProtection_No internet service</th>\n",
              "      <th>DeviceProtection_Yes</th>\n",
              "      <th>TechSupport_No</th>\n",
              "      <th>TechSupport_No internet service</th>\n",
              "      <th>TechSupport_Yes</th>\n",
              "      <th>StreamingTV_No</th>\n",
              "      <th>StreamingTV_No internet service</th>\n",
              "      <th>StreamingTV_Yes</th>\n",
              "      <th>StreamingMovies_No</th>\n",
              "      <th>StreamingMovies_No internet service</th>\n",
              "      <th>StreamingMovies_Yes</th>\n",
              "      <th>Contract_Month-to-month</th>\n",
              "      <th>Contract_One year</th>\n",
              "      <th>Contract_Two year</th>\n",
              "      <th>PaperlessBilling_No</th>\n",
              "      <th>PaperlessBilling_Yes</th>\n",
              "      <th>PaymentMethod_Bank transfer (automatic)</th>\n",
              "      <th>PaymentMethod_Credit card (automatic)</th>\n",
              "      <th>PaymentMethod_Electronic check</th>\n",
              "      <th>PaymentMethod_Mailed check</th>\n",
              "    </tr>\n",
              "  </thead>\n",
              "  <tbody>\n",
              "    <tr>\n",
              "      <th>731</th>\n",
              "      <td>0</td>\n",
              "      <td>5</td>\n",
              "      <td>20.35</td>\n",
              "      <td>92.75</td>\n",
              "      <td>0</td>\n",
              "      <td>1</td>\n",
              "      <td>1</td>\n",
              "      <td>0</td>\n",
              "      <td>1</td>\n",
              "      <td>0</td>\n",
              "      <td>0</td>\n",
              "      <td>1</td>\n",
              "      <td>1</td>\n",
              "      <td>0</td>\n",
              "      <td>0</td>\n",
              "      <td>0</td>\n",
              "      <td>0</td>\n",
              "      <td>1</td>\n",
              "      <td>0</td>\n",
              "      <td>1</td>\n",
              "      <td>0</td>\n",
              "      <td>0</td>\n",
              "      <td>1</td>\n",
              "      <td>0</td>\n",
              "      <td>0</td>\n",
              "      <td>1</td>\n",
              "      <td>0</td>\n",
              "      <td>0</td>\n",
              "      <td>1</td>\n",
              "      <td>0</td>\n",
              "      <td>0</td>\n",
              "      <td>1</td>\n",
              "      <td>0</td>\n",
              "      <td>0</td>\n",
              "      <td>1</td>\n",
              "      <td>0</td>\n",
              "      <td>1</td>\n",
              "      <td>0</td>\n",
              "      <td>0</td>\n",
              "      <td>1</td>\n",
              "      <td>0</td>\n",
              "      <td>0</td>\n",
              "      <td>0</td>\n",
              "      <td>0</td>\n",
              "      <td>1</td>\n",
              "    </tr>\n",
              "    <tr>\n",
              "      <th>5546</th>\n",
              "      <td>0</td>\n",
              "      <td>4</td>\n",
              "      <td>42.40</td>\n",
              "      <td>146.40</td>\n",
              "      <td>0</td>\n",
              "      <td>1</td>\n",
              "      <td>1</td>\n",
              "      <td>0</td>\n",
              "      <td>1</td>\n",
              "      <td>0</td>\n",
              "      <td>1</td>\n",
              "      <td>0</td>\n",
              "      <td>0</td>\n",
              "      <td>1</td>\n",
              "      <td>0</td>\n",
              "      <td>1</td>\n",
              "      <td>0</td>\n",
              "      <td>0</td>\n",
              "      <td>0</td>\n",
              "      <td>0</td>\n",
              "      <td>1</td>\n",
              "      <td>0</td>\n",
              "      <td>0</td>\n",
              "      <td>1</td>\n",
              "      <td>1</td>\n",
              "      <td>0</td>\n",
              "      <td>0</td>\n",
              "      <td>0</td>\n",
              "      <td>0</td>\n",
              "      <td>1</td>\n",
              "      <td>1</td>\n",
              "      <td>0</td>\n",
              "      <td>0</td>\n",
              "      <td>1</td>\n",
              "      <td>0</td>\n",
              "      <td>0</td>\n",
              "      <td>1</td>\n",
              "      <td>0</td>\n",
              "      <td>0</td>\n",
              "      <td>1</td>\n",
              "      <td>0</td>\n",
              "      <td>0</td>\n",
              "      <td>0</td>\n",
              "      <td>0</td>\n",
              "      <td>1</td>\n",
              "    </tr>\n",
              "    <tr>\n",
              "      <th>3023</th>\n",
              "      <td>0</td>\n",
              "      <td>72</td>\n",
              "      <td>89.70</td>\n",
              "      <td>6339.30</td>\n",
              "      <td>0</td>\n",
              "      <td>1</td>\n",
              "      <td>0</td>\n",
              "      <td>1</td>\n",
              "      <td>0</td>\n",
              "      <td>1</td>\n",
              "      <td>0</td>\n",
              "      <td>1</td>\n",
              "      <td>0</td>\n",
              "      <td>0</td>\n",
              "      <td>1</td>\n",
              "      <td>1</td>\n",
              "      <td>0</td>\n",
              "      <td>0</td>\n",
              "      <td>0</td>\n",
              "      <td>0</td>\n",
              "      <td>1</td>\n",
              "      <td>0</td>\n",
              "      <td>0</td>\n",
              "      <td>1</td>\n",
              "      <td>0</td>\n",
              "      <td>0</td>\n",
              "      <td>1</td>\n",
              "      <td>0</td>\n",
              "      <td>0</td>\n",
              "      <td>1</td>\n",
              "      <td>0</td>\n",
              "      <td>0</td>\n",
              "      <td>1</td>\n",
              "      <td>0</td>\n",
              "      <td>0</td>\n",
              "      <td>1</td>\n",
              "      <td>0</td>\n",
              "      <td>0</td>\n",
              "      <td>1</td>\n",
              "      <td>1</td>\n",
              "      <td>0</td>\n",
              "      <td>0</td>\n",
              "      <td>1</td>\n",
              "      <td>0</td>\n",
              "      <td>0</td>\n",
              "    </tr>\n",
              "    <tr>\n",
              "      <th>3914</th>\n",
              "      <td>0</td>\n",
              "      <td>39</td>\n",
              "      <td>19.90</td>\n",
              "      <td>791.15</td>\n",
              "      <td>0</td>\n",
              "      <td>1</td>\n",
              "      <td>1</td>\n",
              "      <td>0</td>\n",
              "      <td>1</td>\n",
              "      <td>0</td>\n",
              "      <td>0</td>\n",
              "      <td>1</td>\n",
              "      <td>1</td>\n",
              "      <td>0</td>\n",
              "      <td>0</td>\n",
              "      <td>0</td>\n",
              "      <td>0</td>\n",
              "      <td>1</td>\n",
              "      <td>0</td>\n",
              "      <td>1</td>\n",
              "      <td>0</td>\n",
              "      <td>0</td>\n",
              "      <td>1</td>\n",
              "      <td>0</td>\n",
              "      <td>0</td>\n",
              "      <td>1</td>\n",
              "      <td>0</td>\n",
              "      <td>0</td>\n",
              "      <td>1</td>\n",
              "      <td>0</td>\n",
              "      <td>0</td>\n",
              "      <td>1</td>\n",
              "      <td>0</td>\n",
              "      <td>0</td>\n",
              "      <td>1</td>\n",
              "      <td>0</td>\n",
              "      <td>0</td>\n",
              "      <td>1</td>\n",
              "      <td>0</td>\n",
              "      <td>1</td>\n",
              "      <td>0</td>\n",
              "      <td>0</td>\n",
              "      <td>0</td>\n",
              "      <td>0</td>\n",
              "      <td>1</td>\n",
              "    </tr>\n",
              "    <tr>\n",
              "      <th>4787</th>\n",
              "      <td>0</td>\n",
              "      <td>4</td>\n",
              "      <td>54.70</td>\n",
              "      <td>235.05</td>\n",
              "      <td>1</td>\n",
              "      <td>0</td>\n",
              "      <td>0</td>\n",
              "      <td>1</td>\n",
              "      <td>1</td>\n",
              "      <td>0</td>\n",
              "      <td>0</td>\n",
              "      <td>1</td>\n",
              "      <td>1</td>\n",
              "      <td>0</td>\n",
              "      <td>0</td>\n",
              "      <td>1</td>\n",
              "      <td>0</td>\n",
              "      <td>0</td>\n",
              "      <td>0</td>\n",
              "      <td>0</td>\n",
              "      <td>1</td>\n",
              "      <td>0</td>\n",
              "      <td>0</td>\n",
              "      <td>1</td>\n",
              "      <td>1</td>\n",
              "      <td>0</td>\n",
              "      <td>0</td>\n",
              "      <td>1</td>\n",
              "      <td>0</td>\n",
              "      <td>0</td>\n",
              "      <td>1</td>\n",
              "      <td>0</td>\n",
              "      <td>0</td>\n",
              "      <td>1</td>\n",
              "      <td>0</td>\n",
              "      <td>0</td>\n",
              "      <td>1</td>\n",
              "      <td>0</td>\n",
              "      <td>0</td>\n",
              "      <td>1</td>\n",
              "      <td>0</td>\n",
              "      <td>0</td>\n",
              "      <td>0</td>\n",
              "      <td>0</td>\n",
              "      <td>1</td>\n",
              "    </tr>\n",
              "    <tr>\n",
              "      <th>...</th>\n",
              "      <td>...</td>\n",
              "      <td>...</td>\n",
              "      <td>...</td>\n",
              "      <td>...</td>\n",
              "      <td>...</td>\n",
              "      <td>...</td>\n",
              "      <td>...</td>\n",
              "      <td>...</td>\n",
              "      <td>...</td>\n",
              "      <td>...</td>\n",
              "      <td>...</td>\n",
              "      <td>...</td>\n",
              "      <td>...</td>\n",
              "      <td>...</td>\n",
              "      <td>...</td>\n",
              "      <td>...</td>\n",
              "      <td>...</td>\n",
              "      <td>...</td>\n",
              "      <td>...</td>\n",
              "      <td>...</td>\n",
              "      <td>...</td>\n",
              "      <td>...</td>\n",
              "      <td>...</td>\n",
              "      <td>...</td>\n",
              "      <td>...</td>\n",
              "      <td>...</td>\n",
              "      <td>...</td>\n",
              "      <td>...</td>\n",
              "      <td>...</td>\n",
              "      <td>...</td>\n",
              "      <td>...</td>\n",
              "      <td>...</td>\n",
              "      <td>...</td>\n",
              "      <td>...</td>\n",
              "      <td>...</td>\n",
              "      <td>...</td>\n",
              "      <td>...</td>\n",
              "      <td>...</td>\n",
              "      <td>...</td>\n",
              "      <td>...</td>\n",
              "      <td>...</td>\n",
              "      <td>...</td>\n",
              "      <td>...</td>\n",
              "      <td>...</td>\n",
              "      <td>...</td>\n",
              "    </tr>\n",
              "    <tr>\n",
              "      <th>913</th>\n",
              "      <td>0</td>\n",
              "      <td>12</td>\n",
              "      <td>20.05</td>\n",
              "      <td>267.00</td>\n",
              "      <td>0</td>\n",
              "      <td>1</td>\n",
              "      <td>1</td>\n",
              "      <td>0</td>\n",
              "      <td>1</td>\n",
              "      <td>0</td>\n",
              "      <td>0</td>\n",
              "      <td>1</td>\n",
              "      <td>1</td>\n",
              "      <td>0</td>\n",
              "      <td>0</td>\n",
              "      <td>0</td>\n",
              "      <td>0</td>\n",
              "      <td>1</td>\n",
              "      <td>0</td>\n",
              "      <td>1</td>\n",
              "      <td>0</td>\n",
              "      <td>0</td>\n",
              "      <td>1</td>\n",
              "      <td>0</td>\n",
              "      <td>0</td>\n",
              "      <td>1</td>\n",
              "      <td>0</td>\n",
              "      <td>0</td>\n",
              "      <td>1</td>\n",
              "      <td>0</td>\n",
              "      <td>0</td>\n",
              "      <td>1</td>\n",
              "      <td>0</td>\n",
              "      <td>0</td>\n",
              "      <td>1</td>\n",
              "      <td>0</td>\n",
              "      <td>0</td>\n",
              "      <td>1</td>\n",
              "      <td>0</td>\n",
              "      <td>1</td>\n",
              "      <td>0</td>\n",
              "      <td>0</td>\n",
              "      <td>1</td>\n",
              "      <td>0</td>\n",
              "      <td>0</td>\n",
              "    </tr>\n",
              "    <tr>\n",
              "      <th>3170</th>\n",
              "      <td>0</td>\n",
              "      <td>28</td>\n",
              "      <td>100.20</td>\n",
              "      <td>2688.45</td>\n",
              "      <td>0</td>\n",
              "      <td>1</td>\n",
              "      <td>1</td>\n",
              "      <td>0</td>\n",
              "      <td>1</td>\n",
              "      <td>0</td>\n",
              "      <td>0</td>\n",
              "      <td>1</td>\n",
              "      <td>0</td>\n",
              "      <td>0</td>\n",
              "      <td>1</td>\n",
              "      <td>0</td>\n",
              "      <td>1</td>\n",
              "      <td>0</td>\n",
              "      <td>1</td>\n",
              "      <td>0</td>\n",
              "      <td>0</td>\n",
              "      <td>0</td>\n",
              "      <td>0</td>\n",
              "      <td>1</td>\n",
              "      <td>1</td>\n",
              "      <td>0</td>\n",
              "      <td>0</td>\n",
              "      <td>1</td>\n",
              "      <td>0</td>\n",
              "      <td>0</td>\n",
              "      <td>0</td>\n",
              "      <td>0</td>\n",
              "      <td>1</td>\n",
              "      <td>0</td>\n",
              "      <td>0</td>\n",
              "      <td>1</td>\n",
              "      <td>0</td>\n",
              "      <td>1</td>\n",
              "      <td>0</td>\n",
              "      <td>1</td>\n",
              "      <td>0</td>\n",
              "      <td>0</td>\n",
              "      <td>0</td>\n",
              "      <td>1</td>\n",
              "      <td>0</td>\n",
              "    </tr>\n",
              "    <tr>\n",
              "      <th>1222</th>\n",
              "      <td>0</td>\n",
              "      <td>64</td>\n",
              "      <td>69.25</td>\n",
              "      <td>4447.75</td>\n",
              "      <td>0</td>\n",
              "      <td>1</td>\n",
              "      <td>0</td>\n",
              "      <td>1</td>\n",
              "      <td>0</td>\n",
              "      <td>1</td>\n",
              "      <td>0</td>\n",
              "      <td>1</td>\n",
              "      <td>1</td>\n",
              "      <td>0</td>\n",
              "      <td>0</td>\n",
              "      <td>1</td>\n",
              "      <td>0</td>\n",
              "      <td>0</td>\n",
              "      <td>0</td>\n",
              "      <td>0</td>\n",
              "      <td>1</td>\n",
              "      <td>1</td>\n",
              "      <td>0</td>\n",
              "      <td>0</td>\n",
              "      <td>0</td>\n",
              "      <td>0</td>\n",
              "      <td>1</td>\n",
              "      <td>0</td>\n",
              "      <td>0</td>\n",
              "      <td>1</td>\n",
              "      <td>0</td>\n",
              "      <td>0</td>\n",
              "      <td>1</td>\n",
              "      <td>1</td>\n",
              "      <td>0</td>\n",
              "      <td>0</td>\n",
              "      <td>0</td>\n",
              "      <td>0</td>\n",
              "      <td>1</td>\n",
              "      <td>1</td>\n",
              "      <td>0</td>\n",
              "      <td>0</td>\n",
              "      <td>0</td>\n",
              "      <td>0</td>\n",
              "      <td>1</td>\n",
              "    </tr>\n",
              "    <tr>\n",
              "      <th>5109</th>\n",
              "      <td>0</td>\n",
              "      <td>66</td>\n",
              "      <td>65.85</td>\n",
              "      <td>4097.05</td>\n",
              "      <td>0</td>\n",
              "      <td>1</td>\n",
              "      <td>0</td>\n",
              "      <td>1</td>\n",
              "      <td>0</td>\n",
              "      <td>1</td>\n",
              "      <td>0</td>\n",
              "      <td>1</td>\n",
              "      <td>1</td>\n",
              "      <td>0</td>\n",
              "      <td>0</td>\n",
              "      <td>1</td>\n",
              "      <td>0</td>\n",
              "      <td>0</td>\n",
              "      <td>0</td>\n",
              "      <td>0</td>\n",
              "      <td>1</td>\n",
              "      <td>0</td>\n",
              "      <td>0</td>\n",
              "      <td>1</td>\n",
              "      <td>0</td>\n",
              "      <td>0</td>\n",
              "      <td>1</td>\n",
              "      <td>0</td>\n",
              "      <td>0</td>\n",
              "      <td>1</td>\n",
              "      <td>1</td>\n",
              "      <td>0</td>\n",
              "      <td>0</td>\n",
              "      <td>1</td>\n",
              "      <td>0</td>\n",
              "      <td>0</td>\n",
              "      <td>0</td>\n",
              "      <td>0</td>\n",
              "      <td>1</td>\n",
              "      <td>1</td>\n",
              "      <td>0</td>\n",
              "      <td>0</td>\n",
              "      <td>0</td>\n",
              "      <td>0</td>\n",
              "      <td>1</td>\n",
              "    </tr>\n",
              "    <tr>\n",
              "      <th>6524</th>\n",
              "      <td>0</td>\n",
              "      <td>10</td>\n",
              "      <td>95.20</td>\n",
              "      <td>930.40</td>\n",
              "      <td>0</td>\n",
              "      <td>1</td>\n",
              "      <td>1</td>\n",
              "      <td>0</td>\n",
              "      <td>0</td>\n",
              "      <td>1</td>\n",
              "      <td>0</td>\n",
              "      <td>1</td>\n",
              "      <td>0</td>\n",
              "      <td>0</td>\n",
              "      <td>1</td>\n",
              "      <td>0</td>\n",
              "      <td>1</td>\n",
              "      <td>0</td>\n",
              "      <td>1</td>\n",
              "      <td>0</td>\n",
              "      <td>0</td>\n",
              "      <td>1</td>\n",
              "      <td>0</td>\n",
              "      <td>0</td>\n",
              "      <td>1</td>\n",
              "      <td>0</td>\n",
              "      <td>0</td>\n",
              "      <td>1</td>\n",
              "      <td>0</td>\n",
              "      <td>0</td>\n",
              "      <td>0</td>\n",
              "      <td>0</td>\n",
              "      <td>1</td>\n",
              "      <td>0</td>\n",
              "      <td>0</td>\n",
              "      <td>1</td>\n",
              "      <td>1</td>\n",
              "      <td>0</td>\n",
              "      <td>0</td>\n",
              "      <td>1</td>\n",
              "      <td>0</td>\n",
              "      <td>0</td>\n",
              "      <td>0</td>\n",
              "      <td>1</td>\n",
              "      <td>0</td>\n",
              "    </tr>\n",
              "  </tbody>\n",
              "</table>\n",
              "<p>4507 rows × 45 columns</p>\n",
              "</div>"
            ],
            "text/plain": [
              "      SeniorCitizen  ...  PaymentMethod_Mailed check\n",
              "731               0  ...                           1\n",
              "5546              0  ...                           1\n",
              "3023              0  ...                           0\n",
              "3914              0  ...                           1\n",
              "4787              0  ...                           1\n",
              "...             ...  ...                         ...\n",
              "913               0  ...                           0\n",
              "3170              0  ...                           0\n",
              "1222              0  ...                           1\n",
              "5109              0  ...                           1\n",
              "6524              0  ...                           0\n",
              "\n",
              "[4507 rows x 45 columns]"
            ]
          },
          "metadata": {
            "tags": []
          },
          "execution_count": 40
        }
      ]
    },
    {
      "cell_type": "code",
      "metadata": {
        "id": "vwf79fanWboi",
        "outputId": "b695d58d-7778-4663-c2db-ff67ec6fa59b",
        "colab": {
          "base_uri": "https://localhost:8080/"
        }
      },
      "source": [
        "# Xgboost bat buoc phai dung onehot encoder or label / ordinal encoder, khong dung duoc cho category\n",
        "model=XGBClassifier()\n",
        "model.fit(X_train,y_train)\n",
        "predictions=model.predict(X_test)\n",
        "print(confusion_matrix(y_test,predictions))\n",
        "print('Balanced Accuracy score:',balanced_accuracy_score(y_test,predictions))\n",
        "print('macro f1 score:',f1_score(y_test,predictions,average=\"macro\")) # good for imbalance dataset\n",
        "print(classification_report(y_test,predictions))"
      ],
      "execution_count": 80,
      "outputs": [
        {
          "output_type": "stream",
          "text": [
            "[[923 112]\n",
            " [171 203]]\n",
            "Balanced Accuracy score: 0.7172840941383141\n",
            "macro f1 score: 0.7281667701742676\n",
            "              precision    recall  f1-score   support\n",
            "\n",
            "          No       0.84      0.89      0.87      1035\n",
            "         Yes       0.64      0.54      0.59       374\n",
            "\n",
            "    accuracy                           0.80      1409\n",
            "   macro avg       0.74      0.72      0.73      1409\n",
            "weighted avg       0.79      0.80      0.79      1409\n",
            "\n"
          ],
          "name": "stdout"
        }
      ]
    },
    {
      "cell_type": "markdown",
      "metadata": {
        "id": "l2TCFRVSxkNK"
      },
      "source": [
        "Drop na for random forest"
      ]
    },
    {
      "cell_type": "code",
      "metadata": {
        "id": "dExEQfPsxLh6",
        "outputId": "84eafb3b-1d02-4288-f2df-7ed54234d222",
        "colab": {
          "base_uri": "https://localhost:8080/"
        }
      },
      "source": [
        "df['TotalCharges'] = df['TotalCharges'].replace(' ', np.nan).astype(float)\n",
        "df=df.dropna()\n",
        "X = df.drop(columns='Churn')\n",
        "y= df['Churn']\n",
        "print(X.shape)\n",
        "print(y.shape)\n",
        "X_train_a, X_test, y_train_a, y_test = model_selection.train_test_split(X,y, test_size=0.2, \n",
        "                                    random_state=2018, stratify=y)\n",
        "\n",
        "X_train, X_val, y_train, y_val = model_selection.train_test_split(X_train_a, y_train_a,test_size=0.2, \n",
        "                                    random_state=2018, stratify=y_train_a)"
      ],
      "execution_count": 86,
      "outputs": [
        {
          "output_type": "stream",
          "text": [
            "(7032, 20)\n",
            "(7032,)\n"
          ],
          "name": "stdout"
        }
      ]
    },
    {
      "cell_type": "code",
      "metadata": {
        "id": "StYWiYLxxjii"
      },
      "source": [
        "# Drop unused column\n",
        "X_train=X_train.drop([\"customerID\"],axis=1)\n",
        "X_test=X_test.drop([\"customerID\"],axis=1)\n",
        "# Convert total charge object to numeric\n",
        "X_train['TotalCharges'] = X_train['TotalCharges'].replace(' ', np.nan).astype(float)\n",
        "X_test['TotalCharges'] = X_test['TotalCharges'].replace(' ', np.nan).astype(float)\n",
        "# Convert to category (factor)\n",
        "X_train=pd.get_dummies(X_train)\n",
        "X_test=pd.get_dummies(X_test)"
      ],
      "execution_count": 87,
      "outputs": []
    },
    {
      "cell_type": "code",
      "metadata": {
        "id": "eeuFABHGlwUi",
        "colab": {
          "base_uri": "https://localhost:8080/"
        },
        "outputId": "61923a09-ffb5-4408-dbf2-3586804e5ddb"
      },
      "source": [
        "# Random forest khong dung duoc neu con Nan value\n",
        "model = RandomForestClassifier(n_estimators=500)\n",
        "model.fit(X_train, y_train)\n",
        "predictions=model.predict(X_test)\n",
        "print(confusion_matrix(y_test,predictions))\n",
        "print('Balanced Accuracy score:',balanced_accuracy_score(y_test,predictions))\n",
        "print('macro f1 score:',f1_score(y_test,predictions,average=\"macro\")) # good for imbalance dataset\n",
        "print(classification_report(y_test,predictions))"
      ],
      "execution_count": 88,
      "outputs": [
        {
          "output_type": "stream",
          "text": [
            "[[923 110]\n",
            " [190 184]]\n",
            "Balanced Accuracy score: 0.6927463232058643\n",
            "macro f1 score: 0.7055516181058201\n",
            "              precision    recall  f1-score   support\n",
            "\n",
            "          No       0.83      0.89      0.86      1033\n",
            "         Yes       0.63      0.49      0.55       374\n",
            "\n",
            "    accuracy                           0.79      1407\n",
            "   macro avg       0.73      0.69      0.71      1407\n",
            "weighted avg       0.78      0.79      0.78      1407\n",
            "\n"
          ],
          "name": "stdout"
        }
      ]
    },
    {
      "cell_type": "code",
      "metadata": {
        "id": "glm2p98xWWdy",
        "outputId": "95af5bd7-dc89-4846-cbb0-3168208885d4",
        "colab": {
          "base_uri": "https://localhost:8080/"
        }
      },
      "source": [
        "# LogisticRegression khong dung duoc neu con Nan value\n",
        "model=LogisticRegression(C=1,max_iter=100000)\n",
        "model.fit(X_train,y_train)\n",
        "predictions=model.predict(X_test)\n",
        "print(confusion_matrix(y_test,predictions))\n",
        "print('Balanced Accuracy score:',balanced_accuracy_score(y_test,predictions))\n",
        "print('macro f1 score:',f1_score(y_test,predictions,average=\"macro\")) # good for imbalance dataset\n",
        "print(classification_report(y_test,predictions))"
      ],
      "execution_count": 89,
      "outputs": [
        {
          "output_type": "stream",
          "text": [
            "[[917 116]\n",
            " [164 210]]\n",
            "Balanced Accuracy score: 0.7246015188615269\n",
            "macro f1 score: 0.7337748344370861\n",
            "              precision    recall  f1-score   support\n",
            "\n",
            "          No       0.85      0.89      0.87      1033\n",
            "         Yes       0.64      0.56      0.60       374\n",
            "\n",
            "    accuracy                           0.80      1407\n",
            "   macro avg       0.75      0.72      0.73      1407\n",
            "weighted avg       0.79      0.80      0.80      1407\n",
            "\n"
          ],
          "name": "stdout"
        }
      ]
    },
    {
      "cell_type": "markdown",
      "metadata": {
        "id": "pq6_aka0i0so"
      },
      "source": [
        "## Try different model"
      ]
    },
    {
      "cell_type": "code",
      "metadata": {
        "id": "RoRQuErHixOc"
      },
      "source": [
        "# Creating a list of the classifiers\n",
        "classifiers = {\n",
        "    #'KNN':KNeighborsClassifier(),     \n",
        "    'LR':LogisticRegression(),\n",
        "    'LDA':LinearDiscriminantAnalysis(), \n",
        "    'CART':DecisionTreeClassifier(), #Boosting is more suitable\n",
        "    #'NB':GaussianNB(),\n",
        "    #'SVC':SVC(), #only 0.5 not suitable for imbalanced data set before tunning\n",
        "    #Ensemble:\n",
        "    'RF':RandomForestClassifier(), #Bagging (very long)\n",
        "    #'AB':AdaBoostClassifier(),  #Boosting\n",
        "    #'GBM':GradientBoostingClassifier(), #Boosting\n",
        "    #'ET':ExtraTreesClassifier(), #Bagging (very long)\n",
        "    #New from Matt cookbook\n",
        "    'XGB':XGBClassifier(), #New Boosting\n",
        "    'LGBM':LGBMClassifier(), #New Boosting\n",
        "    \n",
        "}"
      ],
      "execution_count": null,
      "outputs": []
    },
    {
      "cell_type": "code",
      "metadata": {
        "id": "riHSKhHajAei"
      },
      "source": [
        "#Cross validate\n",
        "import time\n",
        "num_folds = 5\n",
        "seed = 7\n",
        "\n",
        "scoring = {'accuracy' : make_scorer(balanced_accuracy_score), \n",
        "           'precision' : make_scorer(precision_score,average='macro'),\n",
        "           'recall' : make_scorer(recall_score,average='macro'), \n",
        "           'f1' : make_scorer(f1_score,average='macro')}\n",
        "\n",
        "names = []\n",
        "train_acc=[]\n",
        "train_rec_macro=[]\n",
        "train_prec_macro=[]\n",
        "train_f1_macro=[]\n",
        "test_acc=[]\n",
        "test_rec_macro=[]\n",
        "test_prec_macro=[]\n",
        "test_f1_macro=[]\n",
        "fit_time=[]\n",
        "time_=[]\n",
        "\n",
        "for name, model in classifiers.items():\n",
        "  print(name)\n",
        "  start=time.time()\n",
        "  estimator = model\n",
        "  \n",
        "  kfold = StratifiedKFold(n_splits=num_folds, random_state=seed,shuffle=True)\n",
        "  cv_results = cross_validate(estimator, X_train, y_train, cv=kfold, scoring=scoring,\n",
        "                              return_train_score=True,\n",
        "                              return_estimator=True\n",
        "                              )\n",
        "\n",
        "  # Time :\n",
        "  time_cal=time.time() - start\n",
        "  print('time : %0.3f' % (time_cal),'\\n')\n",
        "  \n",
        "  #results.append(cv_results) # array of values\n",
        "  names.append(name)\n",
        "  train_acc.append(cv_results['train_accuracy'].mean())\n",
        "  train_rec_macro.append(cv_results['train_recall'].mean())\n",
        "  train_prec_macro.append(cv_results['train_precision'].mean())\n",
        "  train_f1_macro.append(cv_results['train_f1'].mean())\n",
        "\n",
        "  test_acc.append( cv_results['test_accuracy'].mean())\n",
        "  test_rec_macro.append(cv_results['test_recall'].mean())\n",
        "  test_prec_macro.append(cv_results['test_precision'].mean())\n",
        "  test_f1_macro.append(cv_results['test_f1'].mean())\n",
        "\n",
        "  fit_time.append(cv_results['fit_time'].mean())\n",
        "  time_.append(time_cal)\n",
        "\n",
        "  #print(cv_results.keys())\n",
        "  print(\"%s: train_acc: %0.2f train_rec_macro: %0.2f train_prec_macro: %0.2f \\\n",
        "  test_acc: %0.2f test_rec_macro: %0.2f test_prec_macro: %0.2f \\\n",
        "  fit_time: %0.2f\" % \n",
        "       (name, cv_results['train_accuracy'].mean(),cv_results['train_recall'].mean(),cv_results['train_precision'].mean(),\n",
        "       cv_results['test_accuracy'].mean(),cv_results['test_recall'].mean(),cv_results['test_precision'].mean(),\n",
        "       cv_results['fit_time'].mean()))\n",
        " # print(name, cv_results['train_acc'].mean(),cv_results['train_rec_micro'],cv_results['train_prec_macro'],\n",
        "  #      cv_results['test_acc'],cv_results['test_rec_micro'],cv_results['test_prec_macro'],\n",
        "   #      cv_results['score_time'],cv_results['fit_time']) \n"
      ],
      "execution_count": null,
      "outputs": []
    },
    {
      "cell_type": "code",
      "metadata": {
        "id": "QicdsntyjET6"
      },
      "source": [
        "df_results_val=pd.DataFrame(list(zip(names,test_acc,test_rec_macro,test_prec_macro,test_f1_macro,\n",
        "                                     train_acc,train_rec_macro,train_prec_macro,train_f1_macro,\n",
        "                                     fit_time,time_)),\n",
        "                  columns=['Names','test_acc','test_rec_macro','test_prec_macro','test_f1_macro',\n",
        "                           'train_acc','train_rec_macro','train_prec_macro','train_f1_macro',\n",
        "                           'fit_time','time'])\n",
        "df_results_val=df_results_val.sort_values(by='test_f1_macro',ascending=False)\n",
        "df_results_val"
      ],
      "execution_count": null,
      "outputs": []
    },
    {
      "cell_type": "code",
      "metadata": {
        "id": "B-n_t0fHjHvL"
      },
      "source": [
        "# Define name:\n",
        "name=df_results_val['Names']\n",
        "test_acc=df_results_val['test_acc']\n",
        "test_rec_micro=df_results_val['test_rec_macro']\n",
        "test_prec_macro=df_results_val['test_prec_macro']\n",
        "test_f1_macro=df_results_val['test_f1_macro']\n",
        "time = df_results_val['time']\n",
        "# Plot:\n",
        "x = np.arange(len(name))\n",
        "fig, ax = plt.subplots(figsize=(10,6))\n",
        "rects1 = ax.bar(x, test_acc, color = 'b', width = 0.25,label='test_acc')\n",
        "rects2 = ax.plot(x, test_rec_micro, color = 'g',marker='o',label='test_rec_macro')\n",
        "rects3 = ax.plot(x, test_prec_macro, color = 'r',marker='o',label='test_prec_macro')\n",
        "rects4 = ax.plot(x, test_prec_macro, color = 'y',marker='o',label='test_f1_macro')\n",
        "\n",
        "ax2 = ax.twinx()\n",
        "ax2.plot(x,time,color ='c',marker='o',lw=2,label='time (s)')\n",
        "ax2.secondary_yaxis('right')\n",
        "\n",
        "ax.set_xticks(x)\n",
        "ax.set_xticklabels(name,fontsize=15)\n",
        "ax.set_ylabel('Percentage',fontsize=15)\n",
        "ax2.set_ylabel('Time',fontsize=15)\n",
        "#plt.gca().legend(loc ='center',bbox_to_anchor=(0.5, -0.2))\n",
        "legend1=ax.legend(loc='center',bbox_to_anchor=(0.5, -0.2),shadow=True, fontsize='medium')\n",
        "legend2=ax2.legend(loc='center',bbox_to_anchor=(0.9, -0.2),shadow=True, fontsize='medium')\n",
        "\n",
        "plt.axis('off')\n",
        "fig.tight_layout()\n",
        "plt.show()"
      ],
      "execution_count": null,
      "outputs": []
    },
    {
      "cell_type": "markdown",
      "metadata": {
        "id": "k2mvXZApiy5M"
      },
      "source": [
        "## Grid search"
      ]
    },
    {
      "cell_type": "code",
      "metadata": {
        "id": "o8wlnkSyj1mZ"
      },
      "source": [
        "param_grid = {\n",
        "    'num_leaves': [31, 127],\n",
        "    'reg_alpha': [0.1, 0.5],\n",
        "    'min_data_in_leaf': [30, 50, 100, 300, 400],\n",
        "    'lambda_l1': [0, 1, 1.5],\n",
        "    'lambda_l2': [0, 1]\n",
        "    }"
      ],
      "execution_count": null,
      "outputs": []
    },
    {
      "cell_type": "code",
      "metadata": {
        "id": "oHr4rApCj1oz"
      },
      "source": [
        "\n",
        "lgb_estimator =LGBMClassifier(boosting_type='gbdt',  objective='binary', \n",
        "                              num_boost_round=2000, learning_rate=0.01, metric='balanced_accuracy')\n",
        "cv = model_selection.RepeatedStratifiedKFold(n_splits=5, n_repeats=3, random_state=1)\n",
        "\n",
        "gsearch = model_selection.GridSearchCV(estimator=lgb_estimator, param_grid=param_grid, cv=cv)\n",
        "lgb_model = gsearch.fit(X=X_train, y=y_train)\n",
        "\n",
        "print(lgb_model.best_params_, lgb_model.best_score_)"
      ],
      "execution_count": null,
      "outputs": []
    },
    {
      "cell_type": "code",
      "metadata": {
        "id": "iYYB_DlFj1rY"
      },
      "source": [
        ""
      ],
      "execution_count": null,
      "outputs": []
    }
  ]
}