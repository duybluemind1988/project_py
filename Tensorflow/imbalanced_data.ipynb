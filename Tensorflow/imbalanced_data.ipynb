{
  "nbformat": 4,
  "nbformat_minor": 0,
  "metadata": {
    "colab": {
      "name": "imbalanced_data.ipynb",
      "provenance": [],
      "collapsed_sections": []
    },
    "kernelspec": {
      "display_name": "Python 3",
      "name": "python3"
    }
  },
  "cells": [
    {
      "cell_type": "markdown",
      "metadata": {
        "id": "dUeKVCYTbcyT"
      },
      "source": [
        "#### Copyright 2019 The TensorFlow Authors."
      ]
    },
    {
      "cell_type": "code",
      "metadata": {
        "cellView": "form",
        "id": "4ellrPx7tdxq"
      },
      "source": [
        "#@title Licensed under the Apache License, Version 2.0 (the \"License\");\n",
        "# you may not use this file except in compliance with the License.\n",
        "# You may obtain a copy of the License at\n",
        "#\n",
        "# https://www.apache.org/licenses/LICENSE-2.0\n",
        "#\n",
        "# Unless required by applicable law or agreed to in writing, software\n",
        "# distributed under the License is distributed on an \"AS IS\" BASIS,\n",
        "# WITHOUT WARRANTIES OR CONDITIONS OF ANY KIND, either express or implied.\n",
        "# See the License for the specific language governing permissions and\n",
        "# limitations under the License."
      ],
      "execution_count": null,
      "outputs": []
    },
    {
      "cell_type": "markdown",
      "metadata": {
        "id": "7JfLUlawto_D"
      },
      "source": [
        "# Classification on imbalanced data"
      ]
    },
    {
      "cell_type": "markdown",
      "metadata": {
        "id": "DwdpaTKJOoPu"
      },
      "source": [
        "<table class=\"tfo-notebook-buttons\" align=\"left\">\n",
        "  <td>\n",
        "    <a target=\"_blank\" href=\"https://www.tensorflow.org/tutorials/structured_data/imbalanced_data\"><img src=\"https://www.tensorflow.org/images/tf_logo_32px.png\" />View on TensorFlow.org</a>\n",
        "  </td>\n",
        "  <td>\n",
        "    <a target=\"_blank\" href=\"https://colab.research.google.com/github/tensorflow/docs/blob/master/site/en/tutorials/structured_data/imbalanced_data.ipynb\"><img src=\"https://www.tensorflow.org/images/colab_logo_32px.png\" />Run in Google Colab</a>\n",
        "  </td>\n",
        "  <td>\n",
        "    <a target=\"_blank\" href=\"https://github.com/tensorflow/docs/blob/master/site/en/tutorials/structured_data/imbalanced_data.ipynb\"><img src=\"https://www.tensorflow.org/images/GitHub-Mark-32px.png\" />View source on GitHub</a>\n",
        "  </td>\n",
        "  <td>\n",
        "    <a href=\"https://storage.googleapis.com/tensorflow_docs/docs/site/en/tutorials/structured_data/imbalanced_data.ipynb\"><img src=\"https://www.tensorflow.org/images/download_logo_32px.png\" />Download notebook</a>\n",
        "  </td>\n",
        "</table>"
      ]
    },
    {
      "cell_type": "markdown",
      "metadata": {
        "id": "mthoSGBAOoX-"
      },
      "source": [
        "This tutorial demonstrates how to classify a highly imbalanced dataset in which the number of examples in one class greatly outnumbers the examples in another. You will work with the [Credit Card Fraud Detection](https://www.kaggle.com/mlg-ulb/creditcardfraud) dataset hosted on Kaggle. The aim is to detect a mere 492 fraudulent transactions from 284,807 transactions in total. You will use [Keras](../../guide/keras/overview.ipynb) to define the model and [class weights](https://www.tensorflow.org/versions/r2.0/api_docs/python/tf/keras/Model) to help the model learn from the imbalanced data. .\n",
        "\n",
        "This tutorial contains complete code to:\n",
        "\n",
        "* Load a CSV file using Pandas.\n",
        "* Create train, validation, and test sets.\n",
        "* Define and train a model using Keras (including setting class weights).\n",
        "* Evaluate the model using various metrics (including precision and recall).\n",
        "* Try common techniques for dealing with imbalanced data like:\n",
        "    * Class weighting \n",
        "    * Oversampling\n"
      ]
    },
    {
      "cell_type": "markdown",
      "metadata": {
        "id": "kRHmSyHxEIhN"
      },
      "source": [
        "## Setup"
      ]
    },
    {
      "cell_type": "code",
      "metadata": {
        "id": "JM7hDSNClfoK"
      },
      "source": [
        "import tensorflow as tf\n",
        "from tensorflow import keras\n",
        "\n",
        "import os\n",
        "import tempfile\n",
        "\n",
        "import matplotlib as mpl\n",
        "import matplotlib.pyplot as plt\n",
        "import numpy as np\n",
        "import pandas as pd\n",
        "import seaborn as sns\n",
        "\n",
        "import sklearn\n",
        "from sklearn.metrics import confusion_matrix\n",
        "from sklearn.model_selection import train_test_split\n",
        "from sklearn.preprocessing import StandardScaler"
      ],
      "execution_count": 1,
      "outputs": []
    },
    {
      "cell_type": "code",
      "metadata": {
        "id": "c8o1FHzD-_y_"
      },
      "source": [
        "mpl.rcParams['figure.figsize'] = (12, 10)\n",
        "colors = plt.rcParams['axes.prop_cycle'].by_key()['color']"
      ],
      "execution_count": 2,
      "outputs": []
    },
    {
      "cell_type": "markdown",
      "metadata": {
        "id": "Z3iZVjziKHmX"
      },
      "source": [
        "## Data processing and exploration"
      ]
    },
    {
      "cell_type": "markdown",
      "metadata": {
        "id": "4sA9WOcmzH2D"
      },
      "source": [
        "### Download the Kaggle Credit Card Fraud data set\n",
        "\n",
        "Pandas is a Python library with many helpful utilities for loading and working with structured data and can be used to download CSVs into a dataframe.\n",
        "\n",
        "Note: This dataset has been collected and analysed during a research collaboration of Worldline and the [Machine Learning Group](http://mlg.ulb.ac.be) of ULB (Université Libre de Bruxelles) on big data mining and fraud detection. More details on current and past projects on related topics are available [here](https://www.researchgate.net/project/Fraud-detection-5) and the page of the [DefeatFraud](https://mlg.ulb.ac.be/wordpress/portfolio_page/defeatfraud-assessment-and-validation-of-deep-feature-engineering-and-learning-solutions-for-fraud-detection/) project"
      ]
    },
    {
      "cell_type": "code",
      "metadata": {
        "id": "pR_SnbMArXr7",
        "outputId": "a4538909-77a3-422d-8aa3-6b7662a093bb",
        "colab": {
          "base_uri": "https://localhost:8080/",
          "height": 224
        }
      },
      "source": [
        "file = tf.keras.utils\n",
        "raw_df = pd.read_csv('https://storage.googleapis.com/download.tensorflow.org/data/creditcard.csv')\n",
        "raw_df.head()"
      ],
      "execution_count": 3,
      "outputs": [
        {
          "output_type": "execute_result",
          "data": {
            "text/html": [
              "<div>\n",
              "<style scoped>\n",
              "    .dataframe tbody tr th:only-of-type {\n",
              "        vertical-align: middle;\n",
              "    }\n",
              "\n",
              "    .dataframe tbody tr th {\n",
              "        vertical-align: top;\n",
              "    }\n",
              "\n",
              "    .dataframe thead th {\n",
              "        text-align: right;\n",
              "    }\n",
              "</style>\n",
              "<table border=\"1\" class=\"dataframe\">\n",
              "  <thead>\n",
              "    <tr style=\"text-align: right;\">\n",
              "      <th></th>\n",
              "      <th>Time</th>\n",
              "      <th>V1</th>\n",
              "      <th>V2</th>\n",
              "      <th>V3</th>\n",
              "      <th>V4</th>\n",
              "      <th>V5</th>\n",
              "      <th>V6</th>\n",
              "      <th>V7</th>\n",
              "      <th>V8</th>\n",
              "      <th>V9</th>\n",
              "      <th>V10</th>\n",
              "      <th>V11</th>\n",
              "      <th>V12</th>\n",
              "      <th>V13</th>\n",
              "      <th>V14</th>\n",
              "      <th>V15</th>\n",
              "      <th>V16</th>\n",
              "      <th>V17</th>\n",
              "      <th>V18</th>\n",
              "      <th>V19</th>\n",
              "      <th>V20</th>\n",
              "      <th>V21</th>\n",
              "      <th>V22</th>\n",
              "      <th>V23</th>\n",
              "      <th>V24</th>\n",
              "      <th>V25</th>\n",
              "      <th>V26</th>\n",
              "      <th>V27</th>\n",
              "      <th>V28</th>\n",
              "      <th>Amount</th>\n",
              "      <th>Class</th>\n",
              "    </tr>\n",
              "  </thead>\n",
              "  <tbody>\n",
              "    <tr>\n",
              "      <th>0</th>\n",
              "      <td>0.0</td>\n",
              "      <td>-1.359807</td>\n",
              "      <td>-0.072781</td>\n",
              "      <td>2.536347</td>\n",
              "      <td>1.378155</td>\n",
              "      <td>-0.338321</td>\n",
              "      <td>0.462388</td>\n",
              "      <td>0.239599</td>\n",
              "      <td>0.098698</td>\n",
              "      <td>0.363787</td>\n",
              "      <td>0.090794</td>\n",
              "      <td>-0.551600</td>\n",
              "      <td>-0.617801</td>\n",
              "      <td>-0.991390</td>\n",
              "      <td>-0.311169</td>\n",
              "      <td>1.468177</td>\n",
              "      <td>-0.470401</td>\n",
              "      <td>0.207971</td>\n",
              "      <td>0.025791</td>\n",
              "      <td>0.403993</td>\n",
              "      <td>0.251412</td>\n",
              "      <td>-0.018307</td>\n",
              "      <td>0.277838</td>\n",
              "      <td>-0.110474</td>\n",
              "      <td>0.066928</td>\n",
              "      <td>0.128539</td>\n",
              "      <td>-0.189115</td>\n",
              "      <td>0.133558</td>\n",
              "      <td>-0.021053</td>\n",
              "      <td>149.62</td>\n",
              "      <td>0</td>\n",
              "    </tr>\n",
              "    <tr>\n",
              "      <th>1</th>\n",
              "      <td>0.0</td>\n",
              "      <td>1.191857</td>\n",
              "      <td>0.266151</td>\n",
              "      <td>0.166480</td>\n",
              "      <td>0.448154</td>\n",
              "      <td>0.060018</td>\n",
              "      <td>-0.082361</td>\n",
              "      <td>-0.078803</td>\n",
              "      <td>0.085102</td>\n",
              "      <td>-0.255425</td>\n",
              "      <td>-0.166974</td>\n",
              "      <td>1.612727</td>\n",
              "      <td>1.065235</td>\n",
              "      <td>0.489095</td>\n",
              "      <td>-0.143772</td>\n",
              "      <td>0.635558</td>\n",
              "      <td>0.463917</td>\n",
              "      <td>-0.114805</td>\n",
              "      <td>-0.183361</td>\n",
              "      <td>-0.145783</td>\n",
              "      <td>-0.069083</td>\n",
              "      <td>-0.225775</td>\n",
              "      <td>-0.638672</td>\n",
              "      <td>0.101288</td>\n",
              "      <td>-0.339846</td>\n",
              "      <td>0.167170</td>\n",
              "      <td>0.125895</td>\n",
              "      <td>-0.008983</td>\n",
              "      <td>0.014724</td>\n",
              "      <td>2.69</td>\n",
              "      <td>0</td>\n",
              "    </tr>\n",
              "    <tr>\n",
              "      <th>2</th>\n",
              "      <td>1.0</td>\n",
              "      <td>-1.358354</td>\n",
              "      <td>-1.340163</td>\n",
              "      <td>1.773209</td>\n",
              "      <td>0.379780</td>\n",
              "      <td>-0.503198</td>\n",
              "      <td>1.800499</td>\n",
              "      <td>0.791461</td>\n",
              "      <td>0.247676</td>\n",
              "      <td>-1.514654</td>\n",
              "      <td>0.207643</td>\n",
              "      <td>0.624501</td>\n",
              "      <td>0.066084</td>\n",
              "      <td>0.717293</td>\n",
              "      <td>-0.165946</td>\n",
              "      <td>2.345865</td>\n",
              "      <td>-2.890083</td>\n",
              "      <td>1.109969</td>\n",
              "      <td>-0.121359</td>\n",
              "      <td>-2.261857</td>\n",
              "      <td>0.524980</td>\n",
              "      <td>0.247998</td>\n",
              "      <td>0.771679</td>\n",
              "      <td>0.909412</td>\n",
              "      <td>-0.689281</td>\n",
              "      <td>-0.327642</td>\n",
              "      <td>-0.139097</td>\n",
              "      <td>-0.055353</td>\n",
              "      <td>-0.059752</td>\n",
              "      <td>378.66</td>\n",
              "      <td>0</td>\n",
              "    </tr>\n",
              "    <tr>\n",
              "      <th>3</th>\n",
              "      <td>1.0</td>\n",
              "      <td>-0.966272</td>\n",
              "      <td>-0.185226</td>\n",
              "      <td>1.792993</td>\n",
              "      <td>-0.863291</td>\n",
              "      <td>-0.010309</td>\n",
              "      <td>1.247203</td>\n",
              "      <td>0.237609</td>\n",
              "      <td>0.377436</td>\n",
              "      <td>-1.387024</td>\n",
              "      <td>-0.054952</td>\n",
              "      <td>-0.226487</td>\n",
              "      <td>0.178228</td>\n",
              "      <td>0.507757</td>\n",
              "      <td>-0.287924</td>\n",
              "      <td>-0.631418</td>\n",
              "      <td>-1.059647</td>\n",
              "      <td>-0.684093</td>\n",
              "      <td>1.965775</td>\n",
              "      <td>-1.232622</td>\n",
              "      <td>-0.208038</td>\n",
              "      <td>-0.108300</td>\n",
              "      <td>0.005274</td>\n",
              "      <td>-0.190321</td>\n",
              "      <td>-1.175575</td>\n",
              "      <td>0.647376</td>\n",
              "      <td>-0.221929</td>\n",
              "      <td>0.062723</td>\n",
              "      <td>0.061458</td>\n",
              "      <td>123.50</td>\n",
              "      <td>0</td>\n",
              "    </tr>\n",
              "    <tr>\n",
              "      <th>4</th>\n",
              "      <td>2.0</td>\n",
              "      <td>-1.158233</td>\n",
              "      <td>0.877737</td>\n",
              "      <td>1.548718</td>\n",
              "      <td>0.403034</td>\n",
              "      <td>-0.407193</td>\n",
              "      <td>0.095921</td>\n",
              "      <td>0.592941</td>\n",
              "      <td>-0.270533</td>\n",
              "      <td>0.817739</td>\n",
              "      <td>0.753074</td>\n",
              "      <td>-0.822843</td>\n",
              "      <td>0.538196</td>\n",
              "      <td>1.345852</td>\n",
              "      <td>-1.119670</td>\n",
              "      <td>0.175121</td>\n",
              "      <td>-0.451449</td>\n",
              "      <td>-0.237033</td>\n",
              "      <td>-0.038195</td>\n",
              "      <td>0.803487</td>\n",
              "      <td>0.408542</td>\n",
              "      <td>-0.009431</td>\n",
              "      <td>0.798278</td>\n",
              "      <td>-0.137458</td>\n",
              "      <td>0.141267</td>\n",
              "      <td>-0.206010</td>\n",
              "      <td>0.502292</td>\n",
              "      <td>0.219422</td>\n",
              "      <td>0.215153</td>\n",
              "      <td>69.99</td>\n",
              "      <td>0</td>\n",
              "    </tr>\n",
              "  </tbody>\n",
              "</table>\n",
              "</div>"
            ],
            "text/plain": [
              "   Time        V1        V2        V3  ...       V27       V28  Amount  Class\n",
              "0   0.0 -1.359807 -0.072781  2.536347  ...  0.133558 -0.021053  149.62      0\n",
              "1   0.0  1.191857  0.266151  0.166480  ... -0.008983  0.014724    2.69      0\n",
              "2   1.0 -1.358354 -1.340163  1.773209  ... -0.055353 -0.059752  378.66      0\n",
              "3   1.0 -0.966272 -0.185226  1.792993  ...  0.062723  0.061458  123.50      0\n",
              "4   2.0 -1.158233  0.877737  1.548718  ...  0.219422  0.215153   69.99      0\n",
              "\n",
              "[5 rows x 31 columns]"
            ]
          },
          "metadata": {
            "tags": []
          },
          "execution_count": 3
        }
      ]
    },
    {
      "cell_type": "code",
      "metadata": {
        "id": "KRkeZgv5FL2q",
        "outputId": "58dbeb45-f41c-481b-f229-e01a15606e47",
        "colab": {
          "base_uri": "https://localhost:8080/",
          "height": 34
        }
      },
      "source": [
        "raw_df.shape"
      ],
      "execution_count": 4,
      "outputs": [
        {
          "output_type": "execute_result",
          "data": {
            "text/plain": [
              "(284807, 31)"
            ]
          },
          "metadata": {
            "tags": []
          },
          "execution_count": 4
        }
      ]
    },
    {
      "cell_type": "code",
      "metadata": {
        "id": "-fgdQgmwUFuj",
        "outputId": "f5f74cc2-b4a1-4142-da18-b8cd074dcf43",
        "colab": {
          "base_uri": "https://localhost:8080/",
          "height": 317
        }
      },
      "source": [
        "raw_df[['Time', 'V1', 'V2', 'V3', 'V4', 'V5', 'V26', 'V27', 'V28', 'Amount', 'Class']].describe()"
      ],
      "execution_count": 5,
      "outputs": [
        {
          "output_type": "execute_result",
          "data": {
            "text/html": [
              "<div>\n",
              "<style scoped>\n",
              "    .dataframe tbody tr th:only-of-type {\n",
              "        vertical-align: middle;\n",
              "    }\n",
              "\n",
              "    .dataframe tbody tr th {\n",
              "        vertical-align: top;\n",
              "    }\n",
              "\n",
              "    .dataframe thead th {\n",
              "        text-align: right;\n",
              "    }\n",
              "</style>\n",
              "<table border=\"1\" class=\"dataframe\">\n",
              "  <thead>\n",
              "    <tr style=\"text-align: right;\">\n",
              "      <th></th>\n",
              "      <th>Time</th>\n",
              "      <th>V1</th>\n",
              "      <th>V2</th>\n",
              "      <th>V3</th>\n",
              "      <th>V4</th>\n",
              "      <th>V5</th>\n",
              "      <th>V26</th>\n",
              "      <th>V27</th>\n",
              "      <th>V28</th>\n",
              "      <th>Amount</th>\n",
              "      <th>Class</th>\n",
              "    </tr>\n",
              "  </thead>\n",
              "  <tbody>\n",
              "    <tr>\n",
              "      <th>count</th>\n",
              "      <td>284807.000000</td>\n",
              "      <td>2.848070e+05</td>\n",
              "      <td>2.848070e+05</td>\n",
              "      <td>2.848070e+05</td>\n",
              "      <td>2.848070e+05</td>\n",
              "      <td>2.848070e+05</td>\n",
              "      <td>2.848070e+05</td>\n",
              "      <td>2.848070e+05</td>\n",
              "      <td>2.848070e+05</td>\n",
              "      <td>284807.000000</td>\n",
              "      <td>284807.000000</td>\n",
              "    </tr>\n",
              "    <tr>\n",
              "      <th>mean</th>\n",
              "      <td>94813.859575</td>\n",
              "      <td>3.919560e-15</td>\n",
              "      <td>5.688174e-16</td>\n",
              "      <td>-8.769071e-15</td>\n",
              "      <td>2.782312e-15</td>\n",
              "      <td>-1.552563e-15</td>\n",
              "      <td>1.699104e-15</td>\n",
              "      <td>-3.660161e-16</td>\n",
              "      <td>-1.206049e-16</td>\n",
              "      <td>88.349619</td>\n",
              "      <td>0.001727</td>\n",
              "    </tr>\n",
              "    <tr>\n",
              "      <th>std</th>\n",
              "      <td>47488.145955</td>\n",
              "      <td>1.958696e+00</td>\n",
              "      <td>1.651309e+00</td>\n",
              "      <td>1.516255e+00</td>\n",
              "      <td>1.415869e+00</td>\n",
              "      <td>1.380247e+00</td>\n",
              "      <td>4.822270e-01</td>\n",
              "      <td>4.036325e-01</td>\n",
              "      <td>3.300833e-01</td>\n",
              "      <td>250.120109</td>\n",
              "      <td>0.041527</td>\n",
              "    </tr>\n",
              "    <tr>\n",
              "      <th>min</th>\n",
              "      <td>0.000000</td>\n",
              "      <td>-5.640751e+01</td>\n",
              "      <td>-7.271573e+01</td>\n",
              "      <td>-4.832559e+01</td>\n",
              "      <td>-5.683171e+00</td>\n",
              "      <td>-1.137433e+02</td>\n",
              "      <td>-2.604551e+00</td>\n",
              "      <td>-2.256568e+01</td>\n",
              "      <td>-1.543008e+01</td>\n",
              "      <td>0.000000</td>\n",
              "      <td>0.000000</td>\n",
              "    </tr>\n",
              "    <tr>\n",
              "      <th>25%</th>\n",
              "      <td>54201.500000</td>\n",
              "      <td>-9.203734e-01</td>\n",
              "      <td>-5.985499e-01</td>\n",
              "      <td>-8.903648e-01</td>\n",
              "      <td>-8.486401e-01</td>\n",
              "      <td>-6.915971e-01</td>\n",
              "      <td>-3.269839e-01</td>\n",
              "      <td>-7.083953e-02</td>\n",
              "      <td>-5.295979e-02</td>\n",
              "      <td>5.600000</td>\n",
              "      <td>0.000000</td>\n",
              "    </tr>\n",
              "    <tr>\n",
              "      <th>50%</th>\n",
              "      <td>84692.000000</td>\n",
              "      <td>1.810880e-02</td>\n",
              "      <td>6.548556e-02</td>\n",
              "      <td>1.798463e-01</td>\n",
              "      <td>-1.984653e-02</td>\n",
              "      <td>-5.433583e-02</td>\n",
              "      <td>-5.213911e-02</td>\n",
              "      <td>1.342146e-03</td>\n",
              "      <td>1.124383e-02</td>\n",
              "      <td>22.000000</td>\n",
              "      <td>0.000000</td>\n",
              "    </tr>\n",
              "    <tr>\n",
              "      <th>75%</th>\n",
              "      <td>139320.500000</td>\n",
              "      <td>1.315642e+00</td>\n",
              "      <td>8.037239e-01</td>\n",
              "      <td>1.027196e+00</td>\n",
              "      <td>7.433413e-01</td>\n",
              "      <td>6.119264e-01</td>\n",
              "      <td>2.409522e-01</td>\n",
              "      <td>9.104512e-02</td>\n",
              "      <td>7.827995e-02</td>\n",
              "      <td>77.165000</td>\n",
              "      <td>0.000000</td>\n",
              "    </tr>\n",
              "    <tr>\n",
              "      <th>max</th>\n",
              "      <td>172792.000000</td>\n",
              "      <td>2.454930e+00</td>\n",
              "      <td>2.205773e+01</td>\n",
              "      <td>9.382558e+00</td>\n",
              "      <td>1.687534e+01</td>\n",
              "      <td>3.480167e+01</td>\n",
              "      <td>3.517346e+00</td>\n",
              "      <td>3.161220e+01</td>\n",
              "      <td>3.384781e+01</td>\n",
              "      <td>25691.160000</td>\n",
              "      <td>1.000000</td>\n",
              "    </tr>\n",
              "  </tbody>\n",
              "</table>\n",
              "</div>"
            ],
            "text/plain": [
              "                Time            V1  ...         Amount          Class\n",
              "count  284807.000000  2.848070e+05  ...  284807.000000  284807.000000\n",
              "mean    94813.859575  3.919560e-15  ...      88.349619       0.001727\n",
              "std     47488.145955  1.958696e+00  ...     250.120109       0.041527\n",
              "min         0.000000 -5.640751e+01  ...       0.000000       0.000000\n",
              "25%     54201.500000 -9.203734e-01  ...       5.600000       0.000000\n",
              "50%     84692.000000  1.810880e-02  ...      22.000000       0.000000\n",
              "75%    139320.500000  1.315642e+00  ...      77.165000       0.000000\n",
              "max    172792.000000  2.454930e+00  ...   25691.160000       1.000000\n",
              "\n",
              "[8 rows x 11 columns]"
            ]
          },
          "metadata": {
            "tags": []
          },
          "execution_count": 5
        }
      ]
    },
    {
      "cell_type": "markdown",
      "metadata": {
        "id": "xWKB_CVZFLpB"
      },
      "source": [
        "### Examine the class label imbalance\n",
        "\n",
        "Let's look at the dataset imbalance:"
      ]
    },
    {
      "cell_type": "code",
      "metadata": {
        "id": "HCJFrtuY2iLF",
        "outputId": "58e95cc1-6c4b-4706-961d-ff0e0d1cca05",
        "colab": {
          "base_uri": "https://localhost:8080/",
          "height": 85
        }
      },
      "source": [
        "neg, pos = np.bincount(raw_df['Class'])\n",
        "total = neg + pos\n",
        "print('Examples:\\n    Total: {}\\n    Positive: {} ({:.2f}% of total)\\n'.format(\n",
        "    total, pos, 100 * pos / total))"
      ],
      "execution_count": 6,
      "outputs": [
        {
          "output_type": "stream",
          "text": [
            "Examples:\n",
            "    Total: 284807\n",
            "    Positive: 492 (0.17% of total)\n",
            "\n"
          ],
          "name": "stdout"
        }
      ]
    },
    {
      "cell_type": "markdown",
      "metadata": {
        "id": "KnLKFQDsCBUg"
      },
      "source": [
        "This shows the small fraction of positive samples."
      ]
    },
    {
      "cell_type": "markdown",
      "metadata": {
        "id": "6qox6ryyzwdr"
      },
      "source": [
        "### Clean, split and normalize the data\n",
        "\n",
        "The raw data has a few issues. First the `Time` and `Amount` columns are too variable to use directly. Drop the `Time` column (since it's not clear what it means) and take the log of the `Amount` column to reduce its range."
      ]
    },
    {
      "cell_type": "code",
      "metadata": {
        "id": "Ef42jTuxEjnj"
      },
      "source": [
        "cleaned_df = raw_df.copy()\n",
        "\n",
        "# You don't want the `Time` column.\n",
        "cleaned_df.pop('Time')\n",
        "\n",
        "# The `Amount` column covers a huge range. Convert to log-space.\n",
        "eps=0.001 # 0 => 0.1¢\n",
        "cleaned_df['Log Ammount'] = np.log(cleaned_df.pop('Amount')+eps)"
      ],
      "execution_count": 7,
      "outputs": []
    },
    {
      "cell_type": "markdown",
      "metadata": {
        "id": "uSNgdQFFFQ6u"
      },
      "source": [
        "Split the dataset into train, validation, and test sets. The validation set is used during the model fitting to evaluate the loss and any metrics, however the model is not fit with this data. The test set is completely unused during the training phase and is only used at the end to evaluate how well the model generalizes to new data. This is especially important with imbalanced datasets where [overfitting](https://developers.google.com/machine-learning/crash-course/generalization/peril-of-overfitting) is a significant concern from the lack of training data."
      ]
    },
    {
      "cell_type": "code",
      "metadata": {
        "id": "xfxhKg7Yr1-b"
      },
      "source": [
        "# Use a utility from sklearn to split and shuffle our dataset.\n",
        "train_df, test_df = train_test_split(cleaned_df, test_size=0.2)\n",
        "train_df, val_df = train_test_split(train_df, test_size=0.2)\n",
        "\n",
        "# Form np arrays of labels and features.\n",
        "train_labels = np.array(train_df.pop('Class'))\n",
        "bool_train_labels = train_labels != 0\n",
        "val_labels = np.array(val_df.pop('Class'))\n",
        "test_labels = np.array(test_df.pop('Class'))\n",
        "\n",
        "train_features = np.array(train_df)\n",
        "val_features = np.array(val_df)\n",
        "test_features = np.array(test_df)"
      ],
      "execution_count": 8,
      "outputs": []
    },
    {
      "cell_type": "code",
      "metadata": {
        "id": "RuVRm0uBd4W6",
        "outputId": "1ce88d22-cb66-4b1d-8270-93321998a038",
        "colab": {
          "base_uri": "https://localhost:8080/",
          "height": 34
        }
      },
      "source": [
        "train_labels"
      ],
      "execution_count": 9,
      "outputs": [
        {
          "output_type": "execute_result",
          "data": {
            "text/plain": [
              "array([0, 0, 0, ..., 0, 0, 0])"
            ]
          },
          "metadata": {
            "tags": []
          },
          "execution_count": 9
        }
      ]
    },
    {
      "cell_type": "code",
      "metadata": {
        "id": "FDVIPw-gd7WW",
        "outputId": "fc53e926-d653-4af6-be9c-f73f495f39bd",
        "colab": {
          "base_uri": "https://localhost:8080/",
          "height": 34
        }
      },
      "source": [
        "bool_train_labels"
      ],
      "execution_count": 10,
      "outputs": [
        {
          "output_type": "execute_result",
          "data": {
            "text/plain": [
              "array([False, False, False, ..., False, False, False])"
            ]
          },
          "metadata": {
            "tags": []
          },
          "execution_count": 10
        }
      ]
    },
    {
      "cell_type": "code",
      "metadata": {
        "id": "UsSfHB6cd8zm",
        "outputId": "b4655bd7-c605-4e22-cdc6-0960b5e72b93",
        "colab": {
          "base_uri": "https://localhost:8080/",
          "height": 255
        }
      },
      "source": [
        "print(train_features.shape)\n",
        "train_features"
      ],
      "execution_count": 12,
      "outputs": [
        {
          "output_type": "stream",
          "text": [
            "(182276, 29)\n"
          ],
          "name": "stdout"
        },
        {
          "output_type": "execute_result",
          "data": {
            "text/plain": [
              "array([[ 1.73522380e+00, -6.60122444e-01, -1.29882139e+00, ...,\n",
              "        -2.69116105e-02, -7.39460195e-02,  4.60518019e+00],\n",
              "       [-5.27015456e-01,  5.79473288e-01,  1.14350222e+00, ...,\n",
              "         8.25100205e-02,  2.14780555e-01,  2.19622408e+00],\n",
              "       [-1.16307492e+00,  3.89337212e-01,  2.24244243e+00, ...,\n",
              "         2.61840433e-03,  1.01799895e-01,  9.99500333e-04],\n",
              "       ...,\n",
              "       [ 1.14252322e+00, -4.24387311e-01,  1.01646644e+00, ...,\n",
              "         7.25998833e-02,  1.55354210e-02,  2.47241225e+00],\n",
              "       [-5.71055353e-01,  6.07655689e-01,  1.12181442e+00, ...,\n",
              "         1.41317174e-01,  1.34120758e-01,  2.39798618e+00],\n",
              "       [ 1.99097978e+00, -4.18301114e-01, -3.96901810e-01, ...,\n",
              "         4.75587430e-03, -5.09619276e-02, -2.60066905e-01]])"
            ]
          },
          "metadata": {
            "tags": []
          },
          "execution_count": 12
        }
      ]
    },
    {
      "cell_type": "markdown",
      "metadata": {
        "id": "8a_Z_kBmr7Oh"
      },
      "source": [
        "Normalize the input features using the sklearn StandardScaler.\n",
        "This will set the mean to 0 and standard deviation to 1.\n",
        "\n",
        "Note: The `StandardScaler` is only fit using the `train_features` to be sure the model is not peeking at the validation or test sets. "
      ]
    },
    {
      "cell_type": "code",
      "metadata": {
        "id": "IO-qEUmJ5JQg",
        "outputId": "bfc2ee36-0d10-4298-b1cd-07cf05dbb204",
        "colab": {
          "base_uri": "https://localhost:8080/",
          "height": 119
        }
      },
      "source": [
        "scaler = StandardScaler()\n",
        "train_features = scaler.fit_transform(train_features)\n",
        "\n",
        "val_features = scaler.transform(val_features)\n",
        "test_features = scaler.transform(test_features)\n",
        "\n",
        "train_features = np.clip(train_features, -5, 5) # if outside -5 and 5, the value become -5 or 5\n",
        "val_features = np.clip(val_features, -5, 5)\n",
        "test_features = np.clip(test_features, -5, 5)\n",
        "\n",
        "\n",
        "print('Training labels shape:', train_labels.shape)\n",
        "print('Validation labels shape:', val_labels.shape)\n",
        "print('Test labels shape:', test_labels.shape)\n",
        "\n",
        "print('Training features shape:', train_features.shape)\n",
        "print('Validation features shape:', val_features.shape)\n",
        "print('Test features shape:', test_features.shape)\n"
      ],
      "execution_count": 13,
      "outputs": [
        {
          "output_type": "stream",
          "text": [
            "Training labels shape: (182276,)\n",
            "Validation labels shape: (45569,)\n",
            "Test labels shape: (56962,)\n",
            "Training features shape: (182276, 29)\n",
            "Validation features shape: (45569, 29)\n",
            "Test features shape: (56962, 29)\n"
          ],
          "name": "stdout"
        }
      ]
    },
    {
      "cell_type": "code",
      "metadata": {
        "id": "VzAXBs3NgGBJ",
        "outputId": "b5720667-565d-49c6-ecc0-c9858d1177f4",
        "colab": {
          "base_uri": "https://localhost:8080/",
          "height": 238
        }
      },
      "source": [
        "train_features"
      ],
      "execution_count": 14,
      "outputs": [
        {
          "output_type": "execute_result",
          "data": {
            "text/plain": [
              "array([[ 0.89411003, -0.40932641, -0.86677522, ..., -0.06537348,\n",
              "        -0.23314004,  0.82344431],\n",
              "       [-0.2743173 ,  0.35534143,  0.7632933 , ...,  0.20771599,\n",
              "         0.67849354, -0.36906543],\n",
              "       [-0.6028366 ,  0.23805243,  1.49675378, ...,  0.00832617,\n",
              "         0.32176516, -1.45577128],\n",
              "       ...,\n",
              "       [ 0.58798522, -0.26390878,  0.67850641, ...,  0.18298273,\n",
              "         0.04939123, -0.23234351],\n",
              "       [-0.29706353,  0.37272627,  0.74881831, ...,  0.35448418,\n",
              "         0.42381598, -0.26918678],\n",
              "       [ 1.02620581, -0.2601544 , -0.26481129, ...,  0.01366077,\n",
              "        -0.16056941, -1.58500743]])"
            ]
          },
          "metadata": {
            "tags": []
          },
          "execution_count": 14
        }
      ]
    },
    {
      "cell_type": "markdown",
      "metadata": {
        "id": "XF2nNfWKJ33w"
      },
      "source": [
        "Caution: If you want to deploy a model, it's critical that you preserve the preprocessing calculations. The easiest way to implement them as layers, and attach them to your model before export.\n"
      ]
    },
    {
      "cell_type": "markdown",
      "metadata": {
        "id": "uQ7m9nqDC3W6"
      },
      "source": [
        "### Look at the data distribution\n",
        "\n",
        "Next compare the distributions of the positive and negative examples over a few features. Good questions to ask yourself at this point are:\n",
        "\n",
        "* Do these distributions make sense? \n",
        "    * Yes. You've normalized the input and these are mostly concentrated in the `+/- 2` range.\n",
        "* Can you see the difference between the distributions?\n",
        "    * Yes the positive examples contain a much higher rate of extreme values."
      ]
    },
    {
      "cell_type": "code",
      "metadata": {
        "id": "raK7hyjd_vf6",
        "outputId": "d8d202b4-a709-4b07-997a-5ce2a084f4c2",
        "colab": {
          "base_uri": "https://localhost:8080/",
          "height": 957
        }
      },
      "source": [
        "pos_df = pd.DataFrame(train_features[ bool_train_labels], columns = train_df.columns)\n",
        "neg_df = pd.DataFrame(train_features[~bool_train_labels], columns = train_df.columns)\n",
        "\n",
        "sns.jointplot(pos_df['V5'], pos_df['V6'],\n",
        "              kind='hex', xlim = (-5,5), ylim = (-5,5))\n",
        "plt.suptitle(\"Positive distribution\")\n",
        "\n",
        "sns.jointplot(neg_df['V5'], neg_df['V6'],\n",
        "              kind='hex', xlim = (-5,5), ylim = (-5,5))\n",
        "_ = plt.suptitle(\"Negative distribution\")"
      ],
      "execution_count": 15,
      "outputs": [
        {
          "output_type": "stream",
          "text": [
            "/usr/local/lib/python3.6/dist-packages/seaborn/_decorators.py:43: FutureWarning: Pass the following variables as keyword args: x, y. From version 0.12, the only valid positional argument will be `data`, and passing other arguments without an explicit keyword will result in an error or misinterpretation.\n",
            "  FutureWarning\n",
            "/usr/local/lib/python3.6/dist-packages/seaborn/_decorators.py:43: FutureWarning: Pass the following variables as keyword args: x, y. From version 0.12, the only valid positional argument will be `data`, and passing other arguments without an explicit keyword will result in an error or misinterpretation.\n",
            "  FutureWarning\n"
          ],
          "name": "stderr"
        },
        {
          "output_type": "display_data",
          "data": {
            "image/png": "[encoded data removed]",
            "text/plain": [
              "<Figure size 432x432 with 3 Axes>"
            ]
          },
          "metadata": {
            "tags": [],
            "needs_background": "light"
          }
        },
        {
          "output_type": "display_data",
          "data": {
            "image/png": "[encoded data removed]",
            "text/plain": [
              "<Figure size 432x432 with 3 Axes>"
            ]
          },
          "metadata": {
            "tags": [],
            "needs_background": "light"
          }
        }
      ]
    },
    {
      "cell_type": "markdown",
      "metadata": {
        "id": "qFK1u4JX16D8"
      },
      "source": [
        "## Define the model and metrics\n",
        "\n",
        "Define a function that creates a simple neural network with a densly connected hidden layer, a [dropout](https://developers.google.com/machine-learning/glossary/#dropout_regularization) layer to reduce overfitting, and an output sigmoid layer that returns the probability of a transaction being fraudulent: "
      ]
    },
    {
      "cell_type": "code",
      "metadata": {
        "id": "3JQDzUqT3UYG"
      },
      "source": [
        "METRICS = [\n",
        "      keras.metrics.TruePositives(name='tp'),\n",
        "      keras.metrics.FalsePositives(name='fp'),\n",
        "      keras.metrics.TrueNegatives(name='tn'),\n",
        "      keras.metrics.FalseNegatives(name='fn'), \n",
        "      keras.metrics.BinaryAccuracy(name='accuracy'),\n",
        "      keras.metrics.Precision(name='precision'),\n",
        "      keras.metrics.Recall(name='recall'),\n",
        "      keras.metrics.AUC(name='auc'),\n",
        "]\n",
        "\n",
        "def make_model(metrics = METRICS, output_bias=None):\n",
        "  if output_bias is not None:\n",
        "    output_bias = tf.keras.initializers.Constant(output_bias)\n",
        "  model = keras.Sequential([\n",
        "      keras.layers.Dense(\n",
        "          16, activation='relu',\n",
        "          input_shape=(train_features.shape[-1],)),\n",
        "      keras.layers.Dropout(0.5),\n",
        "      keras.layers.Dense(1, activation='sigmoid',\n",
        "                         bias_initializer=output_bias),\n",
        "  ])\n",
        "\n",
        "  model.compile(\n",
        "      optimizer=keras.optimizers.Adam(lr=1e-3),\n",
        "      loss=keras.losses.BinaryCrossentropy(),\n",
        "      metrics=metrics)\n",
        "\n",
        "  return model"
      ],
      "execution_count": 16,
      "outputs": []
    },
    {
      "cell_type": "markdown",
      "metadata": {
        "id": "SU0GX6E6mieP"
      },
      "source": [
        "### Understanding useful metrics\n",
        "\n",
        "Notice that there are a few metrics defined above that can be computed by the model that will be helpful when evaluating the performance.\n",
        "\n",
        "\n",
        "\n",
        "*   **False** negatives and **false** positives are samples that were **incorrectly** classified\n",
        "*   **True** negatives and **true** positives are samples that were **correctly** classified\n",
        "*   **Accuracy** is the percentage of examples correctly classified\n",
        ">   $\\frac{\\text{true samples}}{\\text{total samples}}$\n",
        "*   **Precision** is the percentage of **predicted** positives that were correctly classified\n",
        ">   $\\frac{\\text{true positives}}{\\text{true positives + false positives}}$\n",
        "*   **Recall** is the percentage of **actual** positives that were correctly classified\n",
        ">   $\\frac{\\text{true positives}}{\\text{true positives + false negatives}}$\n",
        "*   **AUC** refers to the Area Under the Curve of a Receiver Operating Characteristic curve (ROC-AUC). This metric is equal to the probability that a classifier will rank a random positive sample higher than a random negative sample.\n",
        "\n",
        "Note: Accuracy is not a helpful metric for this task. You can 99.8%+ accuracy on this task by predicting False all the time.  \n",
        "\n",
        "Read more:\n",
        "*  [True vs. False and Positive vs. Negative](https://developers.google.com/machine-learning/crash-course/classification/true-false-positive-negative)\n",
        "*  [Accuracy](https://developers.google.com/machine-learning/crash-course/classification/accuracy)\n",
        "*   [Precision and Recall](https://developers.google.com/machine-learning/crash-course/classification/precision-and-recall)\n",
        "*   [ROC-AUC](https://developers.google.com/machine-learning/crash-course/classification/roc-and-auc)"
      ]
    },
    {
      "cell_type": "markdown",
      "metadata": {
        "id": "FYdhSAoaF_TK"
      },
      "source": [
        "## Baseline model"
      ]
    },
    {
      "cell_type": "markdown",
      "metadata": {
        "id": "IDbltVPg2m2q"
      },
      "source": [
        "### Build the model\n",
        "\n",
        "Now create and train your model using the function that was defined earlier. Notice that the model is fit using a larger than default batch size of 2048, this is important to ensure that each batch has a decent chance of containing a few positive samples. If the batch size was too small, they would likely have no fraudulent transactions to learn from.\n",
        "\n",
        "\n",
        "Note: this model will not handle the class imbalance well. You will improve it later in this tutorial."
      ]
    },
    {
      "cell_type": "code",
      "metadata": {
        "id": "ouUkwPcGQsy3"
      },
      "source": [
        "EPOCHS = 100\n",
        "BATCH_SIZE = 2048\n",
        "\n",
        "early_stopping = tf.keras.callbacks.EarlyStopping(\n",
        "    monitor='val_auc', \n",
        "    verbose=1,\n",
        "    patience=10,\n",
        "    mode='max',\n",
        "    restore_best_weights=True)"
      ],
      "execution_count": 17,
      "outputs": []
    },
    {
      "cell_type": "code",
      "metadata": {
        "id": "1xlR_dekzw7C",
        "outputId": "c61174c3-7b77-4009-81dc-663cf7d67ef6",
        "colab": {
          "base_uri": "https://localhost:8080/",
          "height": 255
        }
      },
      "source": [
        "model = make_model()\n",
        "model.summary()"
      ],
      "execution_count": 18,
      "outputs": [
        {
          "output_type": "stream",
          "text": [
            "Model: \"sequential\"\n",
            "_________________________________________________________________\n",
            "Layer (type)                 Output Shape              Param #   \n",
            "=================================================================\n",
            "dense (Dense)                (None, 16)                480       \n",
            "_________________________________________________________________\n",
            "dropout (Dropout)            (None, 16)                0         \n",
            "_________________________________________________________________\n",
            "dense_1 (Dense)              (None, 1)                 17        \n",
            "=================================================================\n",
            "Total params: 497\n",
            "Trainable params: 497\n",
            "Non-trainable params: 0\n",
            "_________________________________________________________________\n"
          ],
          "name": "stdout"
        }
      ]
    },
    {
      "cell_type": "markdown",
      "metadata": {
        "id": "Wx7ND3_SqckO"
      },
      "source": [
        "Test run the model:"
      ]
    },
    {
      "cell_type": "code",
      "metadata": {
        "id": "LopSd-yQqO3a",
        "outputId": "66bdde66-4d52-4615-88c7-27ff6d4abf4f",
        "colab": {
          "base_uri": "https://localhost:8080/",
          "height": 187
        }
      },
      "source": [
        "model.predict(train_features[:10])"
      ],
      "execution_count": 19,
      "outputs": [
        {
          "output_type": "execute_result",
          "data": {
            "text/plain": [
              "array([[0.6592425 ],\n",
              "       [0.2310853 ],\n",
              "       [0.4012823 ],\n",
              "       [0.392119  ],\n",
              "       [0.581092  ],\n",
              "       [0.42848355],\n",
              "       [0.6423234 ],\n",
              "       [0.34538868],\n",
              "       [0.34863055],\n",
              "       [0.48276892]], dtype=float32)"
            ]
          },
          "metadata": {
            "tags": []
          },
          "execution_count": 19
        }
      ]
    },
    {
      "cell_type": "markdown",
      "metadata": {
        "id": "YKIgWqHms_03"
      },
      "source": [
        "### Optional: Set the correct initial bias."
      ]
    },
    {
      "cell_type": "markdown",
      "metadata": {
        "id": "qk_3Ry6EoYDq"
      },
      "source": [
        "These initial guesses are not great. You know the dataset is imbalanced. Set the output layer's bias to reflect that (See: [A Recipe for Training Neural Networks: \"init well\"](http://karpathy.github.io/2019/04/25/recipe/#2-set-up-the-end-to-end-trainingevaluation-skeleton--get-dumb-baselines)). This can help with initial convergence."
      ]
    },
    {
      "cell_type": "markdown",
      "metadata": {
        "id": "PdbfWDuVpo6k"
      },
      "source": [
        "With the default bias initialization the loss should be about `math.log(2) = 0.69314` "
      ]
    },
    {
      "cell_type": "code",
      "metadata": {
        "id": "H-oPqh3SoGXk",
        "outputId": "b124cbdd-b1e2-460e-9cd1-de00ced4dfc1",
        "colab": {
          "base_uri": "https://localhost:8080/",
          "height": 34
        }
      },
      "source": [
        "results = model.evaluate(train_features, train_labels, batch_size=BATCH_SIZE, verbose=0)\n",
        "print(\"Loss: {:0.4f}\".format(results[0]))"
      ],
      "execution_count": 20,
      "outputs": [
        {
          "output_type": "stream",
          "text": [
            "Loss: 0.6173\n"
          ],
          "name": "stdout"
        }
      ]
    },
    {
      "cell_type": "markdown",
      "metadata": {
        "id": "hE-JRzfKqfhB"
      },
      "source": [
        "The correct bias to set can be derived from:\n",
        "\n",
        "$$ p_0 = pos/(pos + neg) = 1/(1+e^{-b_0}) $$\n",
        "$$ b_0 = -log_e(1/p_0 - 1) $$\n",
        "$$ b_0 = log_e(pos/neg)$$"
      ]
    },
    {
      "cell_type": "code",
      "metadata": {
        "id": "EerjZUYIhlHS",
        "outputId": "39a98de8-0cfc-403b-aa91-dbd685fee07e",
        "colab": {
          "base_uri": "https://localhost:8080/",
          "height": 34
        }
      },
      "source": [
        "print(pos,neg)"
      ],
      "execution_count": 22,
      "outputs": [
        {
          "output_type": "stream",
          "text": [
            "492 284315\n"
          ],
          "name": "stdout"
        }
      ]
    },
    {
      "cell_type": "code",
      "metadata": {
        "id": "F5KWPSjjstUS",
        "outputId": "e2302458-e929-4f9f-874c-197714a553db",
        "colab": {
          "base_uri": "https://localhost:8080/",
          "height": 34
        }
      },
      "source": [
        "initial_bias = np.log([pos/neg])\n",
        "initial_bias"
      ],
      "execution_count": 23,
      "outputs": [
        {
          "output_type": "execute_result",
          "data": {
            "text/plain": [
              "array([-6.35935934])"
            ]
          },
          "metadata": {
            "tags": []
          },
          "execution_count": 23
        }
      ]
    },
    {
      "cell_type": "markdown",
      "metadata": {
        "id": "d1juXI9yY1KD"
      },
      "source": [
        "Set that as the initial bias, and the model will give much more reasonable initial guesses. \n",
        "\n",
        "It should be near: `pos/total = 0.0018`"
      ]
    },
    {
      "cell_type": "code",
      "metadata": {
        "id": "50oyu1uss0i-",
        "outputId": "722b9253-53fd-44cf-a96c-ec6f74b170e6",
        "colab": {
          "base_uri": "https://localhost:8080/",
          "height": 187
        }
      },
      "source": [
        "model = make_model(output_bias = initial_bias)\n",
        "model.predict(train_features[:10])"
      ],
      "execution_count": 24,
      "outputs": [
        {
          "output_type": "execute_result",
          "data": {
            "text/plain": [
              "array([[0.0006057 ],\n",
              "       [0.00229868],\n",
              "       [0.00564429],\n",
              "       [0.00218204],\n",
              "       [0.00106147],\n",
              "       [0.00349715],\n",
              "       [0.03353539],\n",
              "       [0.00130937],\n",
              "       [0.00113866],\n",
              "       [0.00205639]], dtype=float32)"
            ]
          },
          "metadata": {
            "tags": []
          },
          "execution_count": 24
        }
      ]
    },
    {
      "cell_type": "markdown",
      "metadata": {
        "id": "4xqFYb2KqRHQ"
      },
      "source": [
        "With this initialization the initial loss should be approximately:\n",
        "\n",
        "$$-p_0log(p_0)-(1-p_0)log(1-p_0) = 0.01317$$"
      ]
    },
    {
      "cell_type": "code",
      "metadata": {
        "id": "xVDqCWXDqHSc",
        "outputId": "13074913-f564-4b67-df05-e19e20fa7eea",
        "colab": {
          "base_uri": "https://localhost:8080/",
          "height": 34
        }
      },
      "source": [
        "results = model.evaluate(train_features, train_labels, batch_size=BATCH_SIZE, verbose=0)\n",
        "print(\"Loss: {:0.4f}\".format(results[0]))"
      ],
      "execution_count": 25,
      "outputs": [
        {
          "output_type": "stream",
          "text": [
            "Loss: 0.0094\n"
          ],
          "name": "stdout"
        }
      ]
    },
    {
      "cell_type": "markdown",
      "metadata": {
        "id": "FrDC8hvNr9yw"
      },
      "source": [
        "This initial loss is about 50 times less than if would have been with naive initialization.\n",
        "\n",
        "This way the model doesn't need to spend the first few epochs just learning that positive examples are unlikely. This also makes it easier to read plots of the loss during training."
      ]
    },
    {
      "cell_type": "markdown",
      "metadata": {
        "id": "0EJj9ixKVBMT"
      },
      "source": [
        "### Checkpoint the initial weights\n",
        "\n",
        "To make the various training runs more comparable, keep this initial model's weights in a checkpoint file, and load them into each model before training."
      ]
    },
    {
      "cell_type": "code",
      "metadata": {
        "id": "_tSUm4yAVIif"
      },
      "source": [
        "initial_weights = os.path.join(tempfile.mkdtemp(),'initial_weights')\n",
        "model.save_weights(initial_weights)"
      ],
      "execution_count": 26,
      "outputs": []
    },
    {
      "cell_type": "markdown",
      "metadata": {
        "id": "EVXiLyqyZ8AX"
      },
      "source": [
        "### Confirm that the bias fix helps\n",
        "\n",
        "Before moving on, confirm quick that the careful bias initialization actually helped.\n",
        "\n",
        "Train the model for 20 epochs, with and without this careful initialization, and compare the losses: "
      ]
    },
    {
      "cell_type": "code",
      "metadata": {
        "id": "Dm4-4K5RZ63Q",
        "outputId": "d1602ede-6a3f-4c95-a8f3-0dfa5e92d2b9",
        "colab": {
          "base_uri": "https://localhost:8080/",
          "height": 717
        }
      },
      "source": [
        "model = make_model()\n",
        "model.load_weights(initial_weights)\n",
        "model.layers[-1].bias.assign([0.0])\n",
        "zero_bias_history = model.fit(\n",
        "    train_features,\n",
        "    train_labels,\n",
        "    batch_size=BATCH_SIZE,\n",
        "    epochs=20,\n",
        "    validation_data=(val_features, val_labels), \n",
        "    verbose=1)"
      ],
      "execution_count": 28,
      "outputs": [
        {
          "output_type": "stream",
          "text": [
            "Epoch 1/20\n",
            "90/90 [==============================] - 2s 17ms/step - loss: 0.7959 - tp: 274.0000 - fp: 90914.0000 - tn: 121710.0000 - fn: 98.0000 - accuracy: 0.5727 - precision: 0.0030 - recall: 0.7366 - auc: 0.7627 - val_loss: 0.4536 - val_tp: 57.0000 - val_fp: 5861.0000 - val_tn: 39631.0000 - val_fn: 20.0000 - val_accuracy: 0.8709 - val_precision: 0.0096 - val_recall: 0.7403 - val_auc: 0.8108\n",
            "Epoch 2/20\n",
            "90/90 [==============================] - 1s 9ms/step - loss: 0.4193 - tp: 167.0000 - fp: 30795.0000 - tn: 151165.0000 - fn: 149.0000 - accuracy: 0.8302 - precision: 0.0054 - recall: 0.5285 - auc: 0.6521 - val_loss: 0.2461 - val_tp: 40.0000 - val_fp: 199.0000 - val_tn: 45293.0000 - val_fn: 37.0000 - val_accuracy: 0.9948 - val_precision: 0.1674 - val_recall: 0.5195 - val_auc: 0.7557\n",
            "Epoch 3/20\n",
            "90/90 [==============================] - 1s 9ms/step - loss: 0.2751 - tp: 150.0000 - fp: 10458.0000 - tn: 171502.0000 - fn: 166.0000 - accuracy: 0.9417 - precision: 0.0141 - recall: 0.4747 - auc: 0.6806 - val_loss: 0.1460 - val_tp: 21.0000 - val_fp: 21.0000 - val_tn: 45471.0000 - val_fn: 56.0000 - val_accuracy: 0.9983 - val_precision: 0.5000 - val_recall: 0.2727 - val_auc: 0.7375\n",
            "Epoch 4/20\n",
            "90/90 [==============================] - 1s 9ms/step - loss: 0.1994 - tp: 131.0000 - fp: 4194.0000 - tn: 177766.0000 - fn: 185.0000 - accuracy: 0.9760 - precision: 0.0303 - recall: 0.4146 - auc: 0.6474 - val_loss: 0.0902 - val_tp: 29.0000 - val_fp: 9.0000 - val_tn: 45483.0000 - val_fn: 48.0000 - val_accuracy: 0.9987 - val_precision: 0.7632 - val_recall: 0.3766 - val_auc: 0.7653\n",
            "Epoch 5/20\n",
            "90/90 [==============================] - 1s 9ms/step - loss: 0.1530 - tp: 113.0000 - fp: 1687.0000 - tn: 180273.0000 - fn: 203.0000 - accuracy: 0.9896 - precision: 0.0628 - recall: 0.3576 - auc: 0.6591 - val_loss: 0.0579 - val_tp: 39.0000 - val_fp: 7.0000 - val_tn: 45485.0000 - val_fn: 38.0000 - val_accuracy: 0.9990 - val_precision: 0.8478 - val_recall: 0.5065 - val_auc: 0.7997\n",
            "Epoch 6/20\n",
            "90/90 [==============================] - 1s 9ms/step - loss: 0.1227 - tp: 127.0000 - fp: 698.0000 - tn: 181262.0000 - fn: 189.0000 - accuracy: 0.9951 - precision: 0.1539 - recall: 0.4019 - auc: 0.7248 - val_loss: 0.0390 - val_tp: 43.0000 - val_fp: 7.0000 - val_tn: 45485.0000 - val_fn: 34.0000 - val_accuracy: 0.9991 - val_precision: 0.8600 - val_recall: 0.5584 - val_auc: 0.8137\n",
            "Epoch 7/20\n",
            "90/90 [==============================] - 1s 9ms/step - loss: 0.1019 - tp: 151.0000 - fp: 329.0000 - tn: 181631.0000 - fn: 165.0000 - accuracy: 0.9973 - precision: 0.3146 - recall: 0.4778 - auc: 0.7748 - val_loss: 0.0276 - val_tp: 43.0000 - val_fp: 7.0000 - val_tn: 45485.0000 - val_fn: 34.0000 - val_accuracy: 0.9991 - val_precision: 0.8600 - val_recall: 0.5584 - val_auc: 0.8253\n",
            "Epoch 8/20\n",
            "90/90 [==============================] - 1s 9ms/step - loss: 0.0882 - tp: 163.0000 - fp: 190.0000 - tn: 181770.0000 - fn: 153.0000 - accuracy: 0.9981 - precision: 0.4618 - recall: 0.5158 - auc: 0.7958 - val_loss: 0.0204 - val_tp: 44.0000 - val_fp: 7.0000 - val_tn: 45485.0000 - val_fn: 33.0000 - val_accuracy: 0.9991 - val_precision: 0.8627 - val_recall: 0.5714 - val_auc: 0.8359\n",
            "Epoch 9/20\n",
            "90/90 [==============================] - 1s 9ms/step - loss: 0.0785 - tp: 159.0000 - fp: 136.0000 - tn: 181824.0000 - fn: 157.0000 - accuracy: 0.9984 - precision: 0.5390 - recall: 0.5032 - auc: 0.7989 - val_loss: 0.0156 - val_tp: 46.0000 - val_fp: 7.0000 - val_tn: 45485.0000 - val_fn: 31.0000 - val_accuracy: 0.9992 - val_precision: 0.8679 - val_recall: 0.5974 - val_auc: 0.8476\n",
            "Epoch 10/20\n",
            "90/90 [==============================] - 1s 10ms/step - loss: 0.0692 - tp: 168.0000 - fp: 79.0000 - tn: 181881.0000 - fn: 148.0000 - accuracy: 0.9988 - precision: 0.6802 - recall: 0.5316 - auc: 0.8260 - val_loss: 0.0124 - val_tp: 48.0000 - val_fp: 8.0000 - val_tn: 45484.0000 - val_fn: 29.0000 - val_accuracy: 0.9992 - val_precision: 0.8571 - val_recall: 0.6234 - val_auc: 0.8497\n",
            "Epoch 11/20\n",
            "90/90 [==============================] - 1s 10ms/step - loss: 0.0625 - tp: 170.0000 - fp: 71.0000 - tn: 181889.0000 - fn: 146.0000 - accuracy: 0.9988 - precision: 0.7054 - recall: 0.5380 - auc: 0.8228 - val_loss: 0.0101 - val_tp: 49.0000 - val_fp: 8.0000 - val_tn: 45484.0000 - val_fn: 28.0000 - val_accuracy: 0.9992 - val_precision: 0.8596 - val_recall: 0.6364 - val_auc: 0.8619\n",
            "Epoch 12/20\n",
            "90/90 [==============================] - 1s 9ms/step - loss: 0.0562 - tp: 170.0000 - fp: 62.0000 - tn: 181898.0000 - fn: 146.0000 - accuracy: 0.9989 - precision: 0.7328 - recall: 0.5380 - auc: 0.8261 - val_loss: 0.0085 - val_tp: 50.0000 - val_fp: 8.0000 - val_tn: 45484.0000 - val_fn: 27.0000 - val_accuracy: 0.9992 - val_precision: 0.8621 - val_recall: 0.6494 - val_auc: 0.8761\n",
            "Epoch 13/20\n",
            "90/90 [==============================] - 1s 9ms/step - loss: 0.0504 - tp: 179.0000 - fp: 53.0000 - tn: 181907.0000 - fn: 137.0000 - accuracy: 0.9990 - precision: 0.7716 - recall: 0.5665 - auc: 0.8518 - val_loss: 0.0074 - val_tp: 53.0000 - val_fp: 8.0000 - val_tn: 45484.0000 - val_fn: 24.0000 - val_accuracy: 0.9993 - val_precision: 0.8689 - val_recall: 0.6883 - val_auc: 0.8817\n",
            "Epoch 14/20\n",
            "90/90 [==============================] - 1s 9ms/step - loss: 0.0458 - tp: 178.0000 - fp: 51.0000 - tn: 181909.0000 - fn: 138.0000 - accuracy: 0.9990 - precision: 0.7773 - recall: 0.5633 - auc: 0.8610 - val_loss: 0.0065 - val_tp: 54.0000 - val_fp: 8.0000 - val_tn: 45484.0000 - val_fn: 23.0000 - val_accuracy: 0.9993 - val_precision: 0.8710 - val_recall: 0.7013 - val_auc: 0.8899\n",
            "Epoch 15/20\n",
            "90/90 [==============================] - 1s 9ms/step - loss: 0.0419 - tp: 180.0000 - fp: 39.0000 - tn: 181921.0000 - fn: 136.0000 - accuracy: 0.9990 - precision: 0.8219 - recall: 0.5696 - auc: 0.8571 - val_loss: 0.0059 - val_tp: 54.0000 - val_fp: 8.0000 - val_tn: 45484.0000 - val_fn: 23.0000 - val_accuracy: 0.9993 - val_precision: 0.8710 - val_recall: 0.7013 - val_auc: 0.8946\n",
            "Epoch 16/20\n",
            "90/90 [==============================] - 1s 9ms/step - loss: 0.0386 - tp: 186.0000 - fp: 41.0000 - tn: 181919.0000 - fn: 130.0000 - accuracy: 0.9991 - precision: 0.8194 - recall: 0.5886 - auc: 0.8696 - val_loss: 0.0055 - val_tp: 55.0000 - val_fp: 8.0000 - val_tn: 45484.0000 - val_fn: 22.0000 - val_accuracy: 0.9993 - val_precision: 0.8730 - val_recall: 0.7143 - val_auc: 0.9039\n",
            "Epoch 17/20\n",
            "90/90 [==============================] - 1s 9ms/step - loss: 0.0353 - tp: 173.0000 - fp: 35.0000 - tn: 181925.0000 - fn: 143.0000 - accuracy: 0.9990 - precision: 0.8317 - recall: 0.5475 - auc: 0.8678 - val_loss: 0.0051 - val_tp: 54.0000 - val_fp: 8.0000 - val_tn: 45484.0000 - val_fn: 23.0000 - val_accuracy: 0.9993 - val_precision: 0.8710 - val_recall: 0.7013 - val_auc: 0.9057\n",
            "Epoch 18/20\n",
            "90/90 [==============================] - 1s 10ms/step - loss: 0.0327 - tp: 186.0000 - fp: 41.0000 - tn: 181919.0000 - fn: 130.0000 - accuracy: 0.9991 - precision: 0.8194 - recall: 0.5886 - auc: 0.8831 - val_loss: 0.0049 - val_tp: 53.0000 - val_fp: 8.0000 - val_tn: 45484.0000 - val_fn: 24.0000 - val_accuracy: 0.9993 - val_precision: 0.8689 - val_recall: 0.6883 - val_auc: 0.9069\n",
            "Epoch 19/20\n",
            "90/90 [==============================] - 1s 9ms/step - loss: 0.0306 - tp: 190.0000 - fp: 43.0000 - tn: 181917.0000 - fn: 126.0000 - accuracy: 0.9991 - precision: 0.8155 - recall: 0.6013 - auc: 0.8961 - val_loss: 0.0047 - val_tp: 54.0000 - val_fp: 7.0000 - val_tn: 45485.0000 - val_fn: 23.0000 - val_accuracy: 0.9993 - val_precision: 0.8852 - val_recall: 0.7013 - val_auc: 0.9074\n",
            "Epoch 20/20\n",
            "90/90 [==============================] - 1s 9ms/step - loss: 0.0291 - tp: 190.0000 - fp: 43.0000 - tn: 181917.0000 - fn: 126.0000 - accuracy: 0.9991 - precision: 0.8155 - recall: 0.6013 - auc: 0.8833 - val_loss: 0.0045 - val_tp: 53.0000 - val_fp: 7.0000 - val_tn: 45485.0000 - val_fn: 24.0000 - val_accuracy: 0.9993 - val_precision: 0.8833 - val_recall: 0.6883 - val_auc: 0.9079\n"
          ],
          "name": "stdout"
        }
      ]
    },
    {
      "cell_type": "code",
      "metadata": {
        "id": "j8DsLXHQaSql",
        "outputId": "c9af1882-e3cb-4afa-e436-6962c61a725c",
        "colab": {
          "base_uri": "https://localhost:8080/",
          "height": 717
        }
      },
      "source": [
        "model = make_model()\n",
        "model.load_weights(initial_weights)\n",
        "careful_bias_history = model.fit(\n",
        "    train_features,\n",
        "    train_labels,\n",
        "    batch_size=BATCH_SIZE,\n",
        "    epochs=20,\n",
        "    validation_data=(val_features, val_labels), \n",
        "    verbose=1)"
      ],
      "execution_count": 29,
      "outputs": [
        {
          "output_type": "stream",
          "text": [
            "Epoch 1/20\n",
            "90/90 [==============================] - 2s 19ms/step - loss: 0.0106 - tp: 150.0000 - fp: 119.0000 - tn: 227333.0000 - fn: 243.0000 - accuracy: 0.9984 - precision: 0.5576 - recall: 0.3817 - auc: 0.8663 - val_loss: 0.0054 - val_tp: 41.0000 - val_fp: 6.0000 - val_tn: 45486.0000 - val_fn: 36.0000 - val_accuracy: 0.9991 - val_precision: 0.8723 - val_recall: 0.5325 - val_auc: 0.9070\n",
            "Epoch 2/20\n",
            "90/90 [==============================] - 1s 9ms/step - loss: 0.0073 - tp: 142.0000 - fp: 41.0000 - tn: 181919.0000 - fn: 174.0000 - accuracy: 0.9988 - precision: 0.7760 - recall: 0.4494 - auc: 0.8809 - val_loss: 0.0046 - val_tp: 45.0000 - val_fp: 6.0000 - val_tn: 45486.0000 - val_fn: 32.0000 - val_accuracy: 0.9992 - val_precision: 0.8824 - val_recall: 0.5844 - val_auc: 0.9280\n",
            "Epoch 3/20\n",
            "90/90 [==============================] - 1s 10ms/step - loss: 0.0065 - tp: 141.0000 - fp: 32.0000 - tn: 181928.0000 - fn: 175.0000 - accuracy: 0.9989 - precision: 0.8150 - recall: 0.4462 - auc: 0.9087 - val_loss: 0.0041 - val_tp: 48.0000 - val_fp: 7.0000 - val_tn: 45485.0000 - val_fn: 29.0000 - val_accuracy: 0.9992 - val_precision: 0.8727 - val_recall: 0.6234 - val_auc: 0.9412\n",
            "Epoch 4/20\n",
            "90/90 [==============================] - 1s 9ms/step - loss: 0.0060 - tp: 164.0000 - fp: 35.0000 - tn: 181925.0000 - fn: 152.0000 - accuracy: 0.9990 - precision: 0.8241 - recall: 0.5190 - auc: 0.9079 - val_loss: 0.0038 - val_tp: 46.0000 - val_fp: 7.0000 - val_tn: 45485.0000 - val_fn: 31.0000 - val_accuracy: 0.9992 - val_precision: 0.8679 - val_recall: 0.5974 - val_auc: 0.9477\n",
            "Epoch 5/20\n",
            "90/90 [==============================] - 1s 10ms/step - loss: 0.0056 - tp: 170.0000 - fp: 33.0000 - tn: 181927.0000 - fn: 146.0000 - accuracy: 0.9990 - precision: 0.8374 - recall: 0.5380 - auc: 0.9104 - val_loss: 0.0036 - val_tp: 51.0000 - val_fp: 7.0000 - val_tn: 45485.0000 - val_fn: 26.0000 - val_accuracy: 0.9993 - val_precision: 0.8793 - val_recall: 0.6623 - val_auc: 0.9542\n",
            "Epoch 6/20\n",
            "90/90 [==============================] - 1s 10ms/step - loss: 0.0051 - tp: 173.0000 - fp: 34.0000 - tn: 181926.0000 - fn: 143.0000 - accuracy: 0.9990 - precision: 0.8357 - recall: 0.5475 - auc: 0.9157 - val_loss: 0.0034 - val_tp: 55.0000 - val_fp: 7.0000 - val_tn: 45485.0000 - val_fn: 22.0000 - val_accuracy: 0.9994 - val_precision: 0.8871 - val_recall: 0.7143 - val_auc: 0.9541\n",
            "Epoch 7/20\n",
            "90/90 [==============================] - 1s 10ms/step - loss: 0.0047 - tp: 196.0000 - fp: 33.0000 - tn: 181927.0000 - fn: 120.0000 - accuracy: 0.9992 - precision: 0.8559 - recall: 0.6203 - auc: 0.9145 - val_loss: 0.0033 - val_tp: 53.0000 - val_fp: 7.0000 - val_tn: 45485.0000 - val_fn: 24.0000 - val_accuracy: 0.9993 - val_precision: 0.8833 - val_recall: 0.6883 - val_auc: 0.9477\n",
            "Epoch 8/20\n",
            "90/90 [==============================] - 1s 10ms/step - loss: 0.0050 - tp: 173.0000 - fp: 30.0000 - tn: 181930.0000 - fn: 143.0000 - accuracy: 0.9991 - precision: 0.8522 - recall: 0.5475 - auc: 0.9272 - val_loss: 0.0032 - val_tp: 57.0000 - val_fp: 9.0000 - val_tn: 45483.0000 - val_fn: 20.0000 - val_accuracy: 0.9994 - val_precision: 0.8636 - val_recall: 0.7403 - val_auc: 0.9541\n",
            "Epoch 9/20\n",
            "90/90 [==============================] - 1s 9ms/step - loss: 0.0048 - tp: 196.0000 - fp: 35.0000 - tn: 181925.0000 - fn: 120.0000 - accuracy: 0.9991 - precision: 0.8485 - recall: 0.6203 - auc: 0.9130 - val_loss: 0.0031 - val_tp: 53.0000 - val_fp: 8.0000 - val_tn: 45484.0000 - val_fn: 24.0000 - val_accuracy: 0.9993 - val_precision: 0.8689 - val_recall: 0.6883 - val_auc: 0.9541\n",
            "Epoch 10/20\n",
            "90/90 [==============================] - 1s 10ms/step - loss: 0.0047 - tp: 182.0000 - fp: 33.0000 - tn: 181927.0000 - fn: 134.0000 - accuracy: 0.9991 - precision: 0.8465 - recall: 0.5759 - auc: 0.9258 - val_loss: 0.0030 - val_tp: 56.0000 - val_fp: 8.0000 - val_tn: 45484.0000 - val_fn: 21.0000 - val_accuracy: 0.9994 - val_precision: 0.8750 - val_recall: 0.7273 - val_auc: 0.9476\n",
            "Epoch 11/20\n",
            "90/90 [==============================] - 1s 9ms/step - loss: 0.0046 - tp: 181.0000 - fp: 31.0000 - tn: 181929.0000 - fn: 135.0000 - accuracy: 0.9991 - precision: 0.8538 - recall: 0.5728 - auc: 0.9179 - val_loss: 0.0030 - val_tp: 57.0000 - val_fp: 9.0000 - val_tn: 45483.0000 - val_fn: 20.0000 - val_accuracy: 0.9994 - val_precision: 0.8636 - val_recall: 0.7403 - val_auc: 0.9476\n",
            "Epoch 12/20\n",
            "90/90 [==============================] - 1s 9ms/step - loss: 0.0042 - tp: 204.0000 - fp: 31.0000 - tn: 181929.0000 - fn: 112.0000 - accuracy: 0.9992 - precision: 0.8681 - recall: 0.6456 - auc: 0.9164 - val_loss: 0.0030 - val_tp: 57.0000 - val_fp: 9.0000 - val_tn: 45483.0000 - val_fn: 20.0000 - val_accuracy: 0.9994 - val_precision: 0.8636 - val_recall: 0.7403 - val_auc: 0.9477\n",
            "Epoch 13/20\n",
            "90/90 [==============================] - 1s 9ms/step - loss: 0.0043 - tp: 187.0000 - fp: 36.0000 - tn: 181924.0000 - fn: 129.0000 - accuracy: 0.9991 - precision: 0.8386 - recall: 0.5918 - auc: 0.9197 - val_loss: 0.0029 - val_tp: 57.0000 - val_fp: 9.0000 - val_tn: 45483.0000 - val_fn: 20.0000 - val_accuracy: 0.9994 - val_precision: 0.8636 - val_recall: 0.7403 - val_auc: 0.9477\n",
            "Epoch 14/20\n",
            "90/90 [==============================] - 1s 10ms/step - loss: 0.0042 - tp: 194.0000 - fp: 31.0000 - tn: 181929.0000 - fn: 122.0000 - accuracy: 0.9992 - precision: 0.8622 - recall: 0.6139 - auc: 0.9229 - val_loss: 0.0029 - val_tp: 57.0000 - val_fp: 6.0000 - val_tn: 45486.0000 - val_fn: 20.0000 - val_accuracy: 0.9994 - val_precision: 0.9048 - val_recall: 0.7403 - val_auc: 0.9476\n",
            "Epoch 15/20\n",
            "90/90 [==============================] - 1s 10ms/step - loss: 0.0043 - tp: 189.0000 - fp: 33.0000 - tn: 181927.0000 - fn: 127.0000 - accuracy: 0.9991 - precision: 0.8514 - recall: 0.5981 - auc: 0.9262 - val_loss: 0.0029 - val_tp: 57.0000 - val_fp: 7.0000 - val_tn: 45485.0000 - val_fn: 20.0000 - val_accuracy: 0.9994 - val_precision: 0.8906 - val_recall: 0.7403 - val_auc: 0.9477\n",
            "Epoch 16/20\n",
            "90/90 [==============================] - 1s 10ms/step - loss: 0.0042 - tp: 200.0000 - fp: 27.0000 - tn: 181933.0000 - fn: 116.0000 - accuracy: 0.9992 - precision: 0.8811 - recall: 0.6329 - auc: 0.9231 - val_loss: 0.0029 - val_tp: 57.0000 - val_fp: 7.0000 - val_tn: 45485.0000 - val_fn: 20.0000 - val_accuracy: 0.9994 - val_precision: 0.8906 - val_recall: 0.7403 - val_auc: 0.9477\n",
            "Epoch 17/20\n",
            "90/90 [==============================] - 1s 10ms/step - loss: 0.0041 - tp: 197.0000 - fp: 32.0000 - tn: 181928.0000 - fn: 119.0000 - accuracy: 0.9992 - precision: 0.8603 - recall: 0.6234 - auc: 0.9293 - val_loss: 0.0029 - val_tp: 57.0000 - val_fp: 6.0000 - val_tn: 45486.0000 - val_fn: 20.0000 - val_accuracy: 0.9994 - val_precision: 0.9048 - val_recall: 0.7403 - val_auc: 0.9477\n",
            "Epoch 18/20\n",
            "90/90 [==============================] - 1s 10ms/step - loss: 0.0041 - tp: 200.0000 - fp: 27.0000 - tn: 181933.0000 - fn: 116.0000 - accuracy: 0.9992 - precision: 0.8811 - recall: 0.6329 - auc: 0.9261 - val_loss: 0.0028 - val_tp: 58.0000 - val_fp: 7.0000 - val_tn: 45485.0000 - val_fn: 19.0000 - val_accuracy: 0.9994 - val_precision: 0.8923 - val_recall: 0.7532 - val_auc: 0.9477\n",
            "Epoch 19/20\n",
            "90/90 [==============================] - 1s 10ms/step - loss: 0.0042 - tp: 198.0000 - fp: 35.0000 - tn: 181925.0000 - fn: 118.0000 - accuracy: 0.9992 - precision: 0.8498 - recall: 0.6266 - auc: 0.9198 - val_loss: 0.0029 - val_tp: 47.0000 - val_fp: 5.0000 - val_tn: 45487.0000 - val_fn: 30.0000 - val_accuracy: 0.9992 - val_precision: 0.9038 - val_recall: 0.6104 - val_auc: 0.9412\n",
            "Epoch 20/20\n",
            "90/90 [==============================] - 1s 10ms/step - loss: 0.0042 - tp: 195.0000 - fp: 33.0000 - tn: 181927.0000 - fn: 121.0000 - accuracy: 0.9992 - precision: 0.8553 - recall: 0.6171 - auc: 0.9263 - val_loss: 0.0029 - val_tp: 54.0000 - val_fp: 5.0000 - val_tn: 45487.0000 - val_fn: 23.0000 - val_accuracy: 0.9994 - val_precision: 0.9153 - val_recall: 0.7013 - val_auc: 0.9477\n"
          ],
          "name": "stdout"
        }
      ]
    },
    {
      "cell_type": "code",
      "metadata": {
        "id": "E3XsMBjhauFV"
      },
      "source": [
        "def plot_loss(history, label, n):\n",
        "  # Use a log scale to show the wide range of values.\n",
        "  plt.semilogy(history.epoch,  history.history['loss'],\n",
        "               color=colors[n], label='Train '+label)\n",
        "  plt.semilogy(history.epoch,  history.history['val_loss'],\n",
        "          color=colors[n], label='Val '+label,\n",
        "          linestyle=\"--\")\n",
        "  plt.xlabel('Epoch')\n",
        "  plt.ylabel('Loss')\n",
        "  \n",
        "  plt.legend()"
      ],
      "execution_count": 30,
      "outputs": []
    },
    {
      "cell_type": "code",
      "metadata": {
        "id": "dxFaskm7beC7",
        "outputId": "b80269e9-f410-47f3-a632-692ac2bb12f5",
        "colab": {
          "base_uri": "https://localhost:8080/",
          "height": 607
        }
      },
      "source": [
        "plot_loss(zero_bias_history, \"Zero Bias\", 0)\n",
        "plot_loss(careful_bias_history, \"Careful Bias\", 1)"
      ],
      "execution_count": 31,
      "outputs": [
        {
          "output_type": "display_data",
          "data": {
            "image/png": "[encoded data removed]",
            "text/plain": [
              "<Figure size 864x720 with 1 Axes>"
            ]
          },
          "metadata": {
            "tags": [],
            "needs_background": "light"
          }
        }
      ]
    },
    {
      "cell_type": "markdown",
      "metadata": {
        "id": "fKMioV0ddG3R"
      },
      "source": [
        "The above figure makes it clear: In terms of validation loss, on this problem, this careful initialization gives a clear advantage. "
      ]
    },
    {
      "cell_type": "markdown",
      "metadata": {
        "id": "RsA_7SEntRaV"
      },
      "source": [
        "### Train the model"
      ]
    },
    {
      "cell_type": "code",
      "metadata": {
        "id": "yZKAc8NCDnoR",
        "outputId": "9971cdac-1aac-4615-ca60-833ff07e54ce",
        "colab": {
          "base_uri": "https://localhost:8080/",
          "height": 717
        }
      },
      "source": [
        "model = make_model()\n",
        "model.load_weights(initial_weights)\n",
        "baseline_history = model.fit(\n",
        "    train_features,\n",
        "    train_labels,\n",
        "    batch_size=BATCH_SIZE,\n",
        "    epochs=EPOCHS,\n",
        "    callbacks = [early_stopping],\n",
        "    validation_data=(val_features, val_labels))"
      ],
      "execution_count": 32,
      "outputs": [
        {
          "output_type": "stream",
          "text": [
            "Epoch 1/100\n",
            "90/90 [==============================] - 2s 17ms/step - loss: 0.0108 - tp: 155.0000 - fp: 116.0000 - tn: 227336.0000 - fn: 238.0000 - accuracy: 0.9984 - precision: 0.5720 - recall: 0.3944 - auc: 0.8602 - val_loss: 0.0054 - val_tp: 39.0000 - val_fp: 6.0000 - val_tn: 45486.0000 - val_fn: 38.0000 - val_accuracy: 0.9990 - val_precision: 0.8667 - val_recall: 0.5065 - val_auc: 0.9136\n",
            "Epoch 2/100\n",
            "90/90 [==============================] - 1s 10ms/step - loss: 0.0074 - tp: 131.0000 - fp: 37.0000 - tn: 181923.0000 - fn: 185.0000 - accuracy: 0.9988 - precision: 0.7798 - recall: 0.4146 - auc: 0.8763 - val_loss: 0.0046 - val_tp: 45.0000 - val_fp: 6.0000 - val_tn: 45486.0000 - val_fn: 32.0000 - val_accuracy: 0.9992 - val_precision: 0.8824 - val_recall: 0.5844 - val_auc: 0.9279\n",
            "Epoch 3/100\n",
            "90/90 [==============================] - 1s 10ms/step - loss: 0.0066 - tp: 155.0000 - fp: 33.0000 - tn: 181927.0000 - fn: 161.0000 - accuracy: 0.9989 - precision: 0.8245 - recall: 0.4905 - auc: 0.8897 - val_loss: 0.0042 - val_tp: 45.0000 - val_fp: 7.0000 - val_tn: 45485.0000 - val_fn: 32.0000 - val_accuracy: 0.9991 - val_precision: 0.8654 - val_recall: 0.5844 - val_auc: 0.9412\n",
            "Epoch 4/100\n",
            "90/90 [==============================] - 1s 9ms/step - loss: 0.0058 - tp: 167.0000 - fp: 27.0000 - tn: 181933.0000 - fn: 149.0000 - accuracy: 0.9990 - precision: 0.8608 - recall: 0.5285 - auc: 0.9048 - val_loss: 0.0039 - val_tp: 50.0000 - val_fp: 7.0000 - val_tn: 45485.0000 - val_fn: 27.0000 - val_accuracy: 0.9993 - val_precision: 0.8772 - val_recall: 0.6494 - val_auc: 0.9348\n",
            "Epoch 5/100\n",
            "90/90 [==============================] - 1s 10ms/step - loss: 0.0059 - tp: 165.0000 - fp: 38.0000 - tn: 181922.0000 - fn: 151.0000 - accuracy: 0.9990 - precision: 0.8128 - recall: 0.5222 - auc: 0.9089 - val_loss: 0.0036 - val_tp: 51.0000 - val_fp: 7.0000 - val_tn: 45485.0000 - val_fn: 26.0000 - val_accuracy: 0.9993 - val_precision: 0.8793 - val_recall: 0.6623 - val_auc: 0.9477\n",
            "Epoch 6/100\n",
            "90/90 [==============================] - 1s 10ms/step - loss: 0.0051 - tp: 177.0000 - fp: 31.0000 - tn: 181929.0000 - fn: 139.0000 - accuracy: 0.9991 - precision: 0.8510 - recall: 0.5601 - auc: 0.9158 - val_loss: 0.0034 - val_tp: 53.0000 - val_fp: 7.0000 - val_tn: 45485.0000 - val_fn: 24.0000 - val_accuracy: 0.9993 - val_precision: 0.8833 - val_recall: 0.6883 - val_auc: 0.9477\n",
            "Epoch 7/100\n",
            "90/90 [==============================] - 1s 10ms/step - loss: 0.0051 - tp: 189.0000 - fp: 30.0000 - tn: 181930.0000 - fn: 127.0000 - accuracy: 0.9991 - precision: 0.8630 - recall: 0.5981 - auc: 0.9065 - val_loss: 0.0033 - val_tp: 55.0000 - val_fp: 7.0000 - val_tn: 45485.0000 - val_fn: 22.0000 - val_accuracy: 0.9994 - val_precision: 0.8871 - val_recall: 0.7143 - val_auc: 0.9476\n",
            "Epoch 8/100\n",
            "90/90 [==============================] - 1s 9ms/step - loss: 0.0049 - tp: 185.0000 - fp: 33.0000 - tn: 181927.0000 - fn: 131.0000 - accuracy: 0.9991 - precision: 0.8486 - recall: 0.5854 - auc: 0.9163 - val_loss: 0.0032 - val_tp: 56.0000 - val_fp: 9.0000 - val_tn: 45483.0000 - val_fn: 21.0000 - val_accuracy: 0.9993 - val_precision: 0.8615 - val_recall: 0.7273 - val_auc: 0.9477\n",
            "Epoch 9/100\n",
            "90/90 [==============================] - 1s 9ms/step - loss: 0.0047 - tp: 196.0000 - fp: 33.0000 - tn: 181927.0000 - fn: 120.0000 - accuracy: 0.9992 - precision: 0.8559 - recall: 0.6203 - auc: 0.9210 - val_loss: 0.0031 - val_tp: 55.0000 - val_fp: 8.0000 - val_tn: 45484.0000 - val_fn: 22.0000 - val_accuracy: 0.9993 - val_precision: 0.8730 - val_recall: 0.7143 - val_auc: 0.9477\n",
            "Epoch 10/100\n",
            "90/90 [==============================] - 1s 10ms/step - loss: 0.0044 - tp: 194.0000 - fp: 30.0000 - tn: 181930.0000 - fn: 122.0000 - accuracy: 0.9992 - precision: 0.8661 - recall: 0.6139 - auc: 0.9166 - val_loss: 0.0030 - val_tp: 55.0000 - val_fp: 8.0000 - val_tn: 45484.0000 - val_fn: 22.0000 - val_accuracy: 0.9993 - val_precision: 0.8730 - val_recall: 0.7143 - val_auc: 0.9477\n",
            "Epoch 11/100\n",
            "90/90 [==============================] - 1s 10ms/step - loss: 0.0045 - tp: 192.0000 - fp: 31.0000 - tn: 181929.0000 - fn: 124.0000 - accuracy: 0.9991 - precision: 0.8610 - recall: 0.6076 - auc: 0.9118 - val_loss: 0.0030 - val_tp: 56.0000 - val_fp: 9.0000 - val_tn: 45483.0000 - val_fn: 21.0000 - val_accuracy: 0.9993 - val_precision: 0.8615 - val_recall: 0.7273 - val_auc: 0.9477\n",
            "Epoch 12/100\n",
            "90/90 [==============================] - 1s 10ms/step - loss: 0.0042 - tp: 198.0000 - fp: 29.0000 - tn: 181931.0000 - fn: 118.0000 - accuracy: 0.9992 - precision: 0.8722 - recall: 0.6266 - auc: 0.9261 - val_loss: 0.0030 - val_tp: 57.0000 - val_fp: 9.0000 - val_tn: 45483.0000 - val_fn: 20.0000 - val_accuracy: 0.9994 - val_precision: 0.8636 - val_recall: 0.7403 - val_auc: 0.9477\n",
            "Epoch 13/100\n",
            "90/90 [==============================] - 1s 10ms/step - loss: 0.0044 - tp: 193.0000 - fp: 36.0000 - tn: 181924.0000 - fn: 123.0000 - accuracy: 0.9991 - precision: 0.8428 - recall: 0.6108 - auc: 0.9182 - val_loss: 0.0029 - val_tp: 57.0000 - val_fp: 9.0000 - val_tn: 45483.0000 - val_fn: 20.0000 - val_accuracy: 0.9994 - val_precision: 0.8636 - val_recall: 0.7403 - val_auc: 0.9477\n",
            "Epoch 14/100\n",
            "90/90 [==============================] - 1s 10ms/step - loss: 0.0044 - tp: 190.0000 - fp: 32.0000 - tn: 181928.0000 - fn: 126.0000 - accuracy: 0.9991 - precision: 0.8559 - recall: 0.6013 - auc: 0.9246 - val_loss: 0.0029 - val_tp: 57.0000 - val_fp: 9.0000 - val_tn: 45483.0000 - val_fn: 20.0000 - val_accuracy: 0.9994 - val_precision: 0.8636 - val_recall: 0.7403 - val_auc: 0.9477\n",
            "Epoch 15/100\n",
            "90/90 [==============================] - 1s 10ms/step - loss: 0.0043 - tp: 192.0000 - fp: 25.0000 - tn: 181935.0000 - fn: 124.0000 - accuracy: 0.9992 - precision: 0.8848 - recall: 0.6076 - auc: 0.9181 - val_loss: 0.0029 - val_tp: 60.0000 - val_fp: 9.0000 - val_tn: 45483.0000 - val_fn: 17.0000 - val_accuracy: 0.9994 - val_precision: 0.8696 - val_recall: 0.7792 - val_auc: 0.9477\n",
            "Epoch 16/100\n",
            "90/90 [==============================] - 1s 10ms/step - loss: 0.0042 - tp: 204.0000 - fp: 32.0000 - tn: 181928.0000 - fn: 112.0000 - accuracy: 0.9992 - precision: 0.8644 - recall: 0.6456 - auc: 0.9245 - val_loss: 0.0029 - val_tp: 57.0000 - val_fp: 7.0000 - val_tn: 45485.0000 - val_fn: 20.0000 - val_accuracy: 0.9994 - val_precision: 0.8906 - val_recall: 0.7403 - val_auc: 0.9477\n",
            "Epoch 17/100\n",
            "90/90 [==============================] - 1s 10ms/step - loss: 0.0041 - tp: 189.0000 - fp: 32.0000 - tn: 181928.0000 - fn: 127.0000 - accuracy: 0.9991 - precision: 0.8552 - recall: 0.5981 - auc: 0.9214 - val_loss: 0.0029 - val_tp: 58.0000 - val_fp: 7.0000 - val_tn: 45485.0000 - val_fn: 19.0000 - val_accuracy: 0.9994 - val_precision: 0.8923 - val_recall: 0.7532 - val_auc: 0.9477\n",
            "Epoch 18/100\n",
            "90/90 [==============================] - 1s 10ms/step - loss: 0.0041 - tp: 198.0000 - fp: 35.0000 - tn: 181925.0000 - fn: 118.0000 - accuracy: 0.9992 - precision: 0.8498 - recall: 0.6266 - auc: 0.9278 - val_loss: 0.0028 - val_tp: 57.0000 - val_fp: 7.0000 - val_tn: 45485.0000 - val_fn: 20.0000 - val_accuracy: 0.9994 - val_precision: 0.8906 - val_recall: 0.7403 - val_auc: 0.9477\n",
            "Epoch 19/100\n",
            "88/90 [============================>.] - ETA: 0s - loss: 0.0043 - tp: 196.0000 - fp: 35.0000 - tn: 179876.0000 - fn: 117.0000 - accuracy: 0.9992 - precision: 0.8485 - recall: 0.6262 - auc: 0.9176Restoring model weights from the end of the best epoch.\n",
            "90/90 [==============================] - 1s 10ms/step - loss: 0.0043 - tp: 197.0000 - fp: 35.0000 - tn: 181925.0000 - fn: 119.0000 - accuracy: 0.9992 - precision: 0.8491 - recall: 0.6234 - auc: 0.9151 - val_loss: 0.0028 - val_tp: 57.0000 - val_fp: 7.0000 - val_tn: 45485.0000 - val_fn: 20.0000 - val_accuracy: 0.9994 - val_precision: 0.8906 - val_recall: 0.7403 - val_auc: 0.9477\n",
            "Epoch 00019: early stopping\n"
          ],
          "name": "stdout"
        }
      ]
    },
    {
      "cell_type": "markdown",
      "metadata": {
        "id": "iSaDBYU9xtP6"
      },
      "source": [
        "### Check training history\n",
        "In this section, you will produce plots of your model's accuracy and loss on the training and validation set. These are useful to check for overfitting, which you can learn more about in this [tutorial](https://www.tensorflow.org/tutorials/keras/overfit_and_underfit).\n",
        "\n",
        "Additionally, you can produce these plots for any of the metrics you created above. False negatives are included as an example."
      ]
    },
    {
      "cell_type": "code",
      "metadata": {
        "id": "WTSkhT1jyGu6"
      },
      "source": [
        "def plot_metrics(history):\n",
        "  metrics =  ['loss', 'auc', 'precision', 'recall']\n",
        "  for n, metric in enumerate(metrics):\n",
        "    name = metric.replace(\"_\",\" \").capitalize()\n",
        "    plt.subplot(2,2,n+1)\n",
        "    plt.plot(history.epoch,  history.history[metric], color=colors[0], label='Train')\n",
        "    plt.plot(history.epoch, history.history['val_'+metric],\n",
        "             color=colors[0], linestyle=\"--\", label='Val')\n",
        "    plt.xlabel('Epoch')\n",
        "    plt.ylabel(name)\n",
        "    if metric == 'loss':\n",
        "      plt.ylim([0, plt.ylim()[1]])\n",
        "    elif metric == 'auc':\n",
        "      plt.ylim([0.8,1])\n",
        "    else:\n",
        "      plt.ylim([0,1])\n",
        "\n",
        "    plt.legend()\n"
      ],
      "execution_count": 33,
      "outputs": []
    },
    {
      "cell_type": "code",
      "metadata": {
        "id": "u6LReDsqlZlk",
        "outputId": "713def47-fb97-4ee3-89f8-c540bfbaf448",
        "colab": {
          "base_uri": "https://localhost:8080/",
          "height": 609
        }
      },
      "source": [
        "plot_metrics(baseline_history)"
      ],
      "execution_count": 34,
      "outputs": [
        {
          "output_type": "display_data",
          "data": {
            "image/png": "[encoded data removed]",
            "text/plain": [
              "<Figure size 864x720 with 4 Axes>"
            ]
          },
          "metadata": {
            "tags": [],
            "needs_background": "light"
          }
        }
      ]
    },
    {
      "cell_type": "markdown",
      "metadata": {
        "id": "UCa4iWo6WDKR"
      },
      "source": [
        "Note: That the validation curve generally performs better than the training curve. This is mainly caused by the fact that the dropout layer is not active when evaluating the model."
      ]
    },
    {
      "cell_type": "markdown",
      "metadata": {
        "id": "aJC1booryouo"
      },
      "source": [
        "### Evaluate metrics\n",
        "\n",
        "You can use a [confusion matrix](https://developers.google.com/machine-learning/glossary/#confusion_matrix) to summarize the actual vs. predicted labels where the X axis is the predicted label and the Y axis is the actual label."
      ]
    },
    {
      "cell_type": "code",
      "metadata": {
        "id": "aNS796IJKrev"
      },
      "source": [
        "train_predictions_baseline = model.predict(train_features, batch_size=BATCH_SIZE)\n",
        "test_predictions_baseline = model.predict(test_features, batch_size=BATCH_SIZE)"
      ],
      "execution_count": 35,
      "outputs": []
    },
    {
      "cell_type": "code",
      "metadata": {
        "id": "MVWBGfADwbWI"
      },
      "source": [
        "def plot_cm(labels, predictions, p=0.5):\n",
        "  cm = confusion_matrix(labels, predictions > p)\n",
        "  plt.figure(figsize=(5,5))\n",
        "  sns.heatmap(cm, annot=True, fmt=\"d\")\n",
        "  plt.title('Confusion matrix @{:.2f}'.format(p))\n",
        "  plt.ylabel('Actual label')\n",
        "  plt.xlabel('Predicted label')\n",
        "\n",
        "  print('Legitimate Transactions Detected (True Negatives): ', cm[0][0])\n",
        "  print('Legitimate Transactions Incorrectly Detected (False Positives): ', cm[0][1])\n",
        "  print('Fraudulent Transactions Missed (False Negatives): ', cm[1][0])\n",
        "  print('Fraudulent Transactions Detected (True Positives): ', cm[1][1])\n",
        "  print('Total Fraudulent Transactions: ', np.sum(cm[1]))"
      ],
      "execution_count": 36,
      "outputs": []
    },
    {
      "cell_type": "markdown",
      "metadata": {
        "id": "nOTjD5Z5Wp1U"
      },
      "source": [
        "Evaluate your model on the test dataset and display the results for the metrics you created above."
      ]
    },
    {
      "cell_type": "code",
      "metadata": {
        "id": "5PDaNUGBj8lG",
        "outputId": "f04e3bec-a687-4b0f-a9db-abe422e551d2",
        "colab": {
          "base_uri": "https://localhost:8080/",
          "height": 170
        }
      },
      "source": [
        "baseline_results = model.evaluate(test_features, test_labels,\n",
        "                                  batch_size=BATCH_SIZE, verbose=0)\n",
        "baseline_results"
      ],
      "execution_count": 38,
      "outputs": [
        {
          "output_type": "execute_result",
          "data": {
            "text/plain": [
              "[0.0029977415688335896,\n",
              " 76.0,\n",
              " 10.0,\n",
              " 56853.0,\n",
              " 23.0,\n",
              " 0.9994206428527832,\n",
              " 0.8837209343910217,\n",
              " 0.7676767706871033,\n",
              " 0.954325795173645]"
            ]
          },
          "metadata": {
            "tags": []
          },
          "execution_count": 38
        }
      ]
    },
    {
      "cell_type": "code",
      "metadata": {
        "id": "poh_hZngt2_9",
        "outputId": "6a232594-141b-4e6e-e87f-bcab8e15f205",
        "colab": {
          "base_uri": "https://localhost:8080/",
          "height": 605
        }
      },
      "source": [
        "\n",
        "for name, value in zip(model.metrics_names, baseline_results):\n",
        "  print(name, ': ', value)\n",
        "print()\n",
        "\n",
        "plot_cm(test_labels, test_predictions_baseline)"
      ],
      "execution_count": 37,
      "outputs": [
        {
          "output_type": "stream",
          "text": [
            "loss :  0.0029977415688335896\n",
            "tp :  76.0\n",
            "fp :  10.0\n",
            "tn :  56853.0\n",
            "fn :  23.0\n",
            "accuracy :  0.9994206428527832\n",
            "precision :  0.8837209343910217\n",
            "recall :  0.7676767706871033\n",
            "auc :  0.954325795173645\n",
            "\n",
            "Legitimate Transactions Detected (True Negatives):  56853\n",
            "Legitimate Transactions Incorrectly Detected (False Positives):  10\n",
            "Fraudulent Transactions Missed (False Negatives):  23\n",
            "Fraudulent Transactions Detected (True Positives):  76\n",
            "Total Fraudulent Transactions:  99\n"
          ],
          "name": "stdout"
        },
        {
          "output_type": "display_data",
          "data": {
            "image/png": "[encoded data removed]",
            "text/plain": [
              "<Figure size 360x360 with 2 Axes>"
            ]
          },
          "metadata": {
            "tags": [],
            "needs_background": "light"
          }
        }
      ]
    },
    {
      "cell_type": "markdown",
      "metadata": {
        "id": "PyZtSr1v6L4t"
      },
      "source": [
        "If the model had predicted everything perfectly, this would be a [diagonal matrix](https://en.wikipedia.org/wiki/Diagonal_matrix) where values off the main diagonal, indicating incorrect predictions, would be zero. In this case the matrix shows that you have relatively few false positives, meaning that there were relatively few legitimate transactions that were incorrectly flagged. However, you would likely want to have even fewer false negatives despite the cost of increasing the number of false positives. This trade off may be preferable because false negatives would allow fraudulent transactions to go through, whereas false positives may cause an email to be sent to a customer to ask them to verify their card activity."
      ]
    },
    {
      "cell_type": "markdown",
      "metadata": {
        "id": "P-QpQsip_F2Q"
      },
      "source": [
        "### Plot the ROC\n",
        "\n",
        "Now plot the [ROC](https://developers.google.com/machine-learning/glossary#ROC). This plot is useful because it shows, at a glance, the range of performance the model can reach just by tuning the output threshold."
      ]
    },
    {
      "cell_type": "code",
      "metadata": {
        "id": "lhaxsLSvANF9"
      },
      "source": [
        "def plot_roc(name, labels, predictions, **kwargs):\n",
        "  fp, tp, _ = sklearn.metrics.roc_curve(labels, predictions)\n",
        "\n",
        "  plt.plot(100*fp, 100*tp, label=name, linewidth=2, **kwargs)\n",
        "  plt.xlabel('False positives [%]')\n",
        "  plt.ylabel('True positives [%]')\n",
        "  plt.xlim([-0.5,20])\n",
        "  plt.ylim([80,100.5])\n",
        "  plt.grid(True)\n",
        "  ax = plt.gca()\n",
        "  ax.set_aspect('equal')"
      ],
      "execution_count": 39,
      "outputs": []
    },
    {
      "cell_type": "code",
      "metadata": {
        "id": "DfHHspttKJE0",
        "outputId": "30e17e5d-f49a-498d-e3a3-f07c6fa8f9ba",
        "colab": {
          "base_uri": "https://localhost:8080/",
          "height": 623
        }
      },
      "source": [
        "plot_roc(\"Train Baseline\", train_labels, train_predictions_baseline, color=colors[0])\n",
        "plot_roc(\"Test Baseline\", test_labels, test_predictions_baseline, color=colors[0], linestyle='--')\n",
        "plt.legend(loc='lower right')"
      ],
      "execution_count": 40,
      "outputs": [
        {
          "output_type": "execute_result",
          "data": {
            "text/plain": [
              "<matplotlib.legend.Legend at 0x7fbb7fdbf748>"
            ]
          },
          "metadata": {
            "tags": []
          },
          "execution_count": 40
        },
        {
          "output_type": "display_data",
          "data": {
            "image/png": "[encoded data removed]",
            "text/plain": [
              "<Figure size 864x720 with 1 Axes>"
            ]
          },
          "metadata": {
            "tags": [],
            "needs_background": "light"
          }
        }
      ]
    },
    {
      "cell_type": "markdown",
      "metadata": {
        "id": "gpdsFyp64DhY"
      },
      "source": [
        "It looks like the precision is relatively high, but the recall and the area under the ROC curve (AUC) aren't as high as you might like. Classifiers often face challenges when trying to maximize both precision and recall, which is especially true when working with imbalanced datasets. It is important to consider the costs of different types of errors in the context of the problem you care about. In this example, a false negative (a fraudulent transaction is missed) may have a financial cost, while a false positive (a transaction is incorrectly flagged as fraudulent) may decrease user happiness."
      ]
    },
    {
      "cell_type": "markdown",
      "metadata": {
        "id": "cveQoiMyGQCo"
      },
      "source": [
        "## Class weights"
      ]
    },
    {
      "cell_type": "markdown",
      "metadata": {
        "id": "ePGp6GUE1WfH"
      },
      "source": [
        "### Calculate class weights\n",
        "\n",
        "The goal is to identify fraudulent transactions, but you don't have very many of those positive samples to work with, so you would want to have the classifier heavily weight the few examples that are available. You can do this by passing Keras weights for each class through a parameter. These will cause the model to \"pay more attention\" to examples from an under-represented class."
      ]
    },
    {
      "cell_type": "code",
      "metadata": {
        "id": "qjGWErngGny7",
        "outputId": "8fc1c465-9b0f-40c0-c7f4-a32ca0410e7d",
        "colab": {
          "base_uri": "https://localhost:8080/",
          "height": 51
        }
      },
      "source": [
        "# Scaling by total/2 helps keep the loss to a similar magnitude.\n",
        "# The sum of the weights of all examples stays the same.\n",
        "weight_for_0 = (1 / neg)*(total)/2.0 \n",
        "weight_for_1 = (1 / pos)*(total)/2.0\n",
        "\n",
        "class_weight = {0: weight_for_0, 1: weight_for_1}\n",
        "\n",
        "print('Weight for class 0: {:.2f}'.format(weight_for_0))\n",
        "print('Weight for class 1: {:.2f}'.format(weight_for_1))"
      ],
      "execution_count": 41,
      "outputs": [
        {
          "output_type": "stream",
          "text": [
            "Weight for class 0: 0.50\n",
            "Weight for class 1: 289.44\n"
          ],
          "name": "stdout"
        }
      ]
    },
    {
      "cell_type": "markdown",
      "metadata": {
        "id": "Mk1OOE2ZSHzy"
      },
      "source": [
        "### Train a model with class weights\n",
        "\n",
        "Now try re-training and evaluating the model with class weights to see how that affects the predictions.\n",
        "\n",
        "Note: Using `class_weights` changes the range of the loss. This may affect the stability of the training depending on the optimizer. Optimizers whose step size is dependent on the magnitude of the gradient, like `optimizers.SGD`, may fail. The optimizer used here, `optimizers.Adam`, is unaffected by the scaling change. Also note that because of the weighting, the total losses are not comparable between the two models."
      ]
    },
    {
      "cell_type": "code",
      "metadata": {
        "id": "UJ589fn8ST3x",
        "outputId": "6d4e905d-cd1a-4f42-c624-82b9831f461d",
        "colab": {
          "base_uri": "https://localhost:8080/",
          "height": 1000
        }
      },
      "source": [
        "weighted_model = make_model()\n",
        "weighted_model.load_weights(initial_weights)\n",
        "\n",
        "weighted_history = weighted_model.fit(\n",
        "    train_features,\n",
        "    train_labels,\n",
        "    batch_size=BATCH_SIZE,\n",
        "    epochs=EPOCHS,\n",
        "    callbacks = [early_stopping],\n",
        "    validation_data=(val_features, val_labels),\n",
        "    # The class weights go here\n",
        "    class_weight=class_weight) "
      ],
      "execution_count": 42,
      "outputs": [
        {
          "output_type": "stream",
          "text": [
            "Epoch 1/100\n",
            "90/90 [==============================] - 2s 17ms/step - loss: 1.0993 - tp: 225.0000 - fp: 505.0000 - tn: 238318.0000 - fn: 190.0000 - accuracy: 0.9971 - precision: 0.3082 - recall: 0.5422 - auc: 0.8785 - val_loss: 0.0119 - val_tp: 59.0000 - val_fp: 41.0000 - val_tn: 45451.0000 - val_fn: 18.0000 - val_accuracy: 0.9987 - val_precision: 0.5900 - val_recall: 0.7662 - val_auc: 0.9486\n",
            "Epoch 2/100\n",
            "90/90 [==============================] - 1s 10ms/step - loss: 0.5930 - tp: 220.0000 - fp: 977.0000 - tn: 180983.0000 - fn: 96.0000 - accuracy: 0.9941 - precision: 0.1838 - recall: 0.6962 - auc: 0.9165 - val_loss: 0.0181 - val_tp: 63.0000 - val_fp: 102.0000 - val_tn: 45390.0000 - val_fn: 14.0000 - val_accuracy: 0.9975 - val_precision: 0.3818 - val_recall: 0.8182 - val_auc: 0.9569\n",
            "Epoch 3/100\n",
            "90/90 [==============================] - 1s 10ms/step - loss: 0.4601 - tp: 243.0000 - fp: 1690.0000 - tn: 180270.0000 - fn: 73.0000 - accuracy: 0.9903 - precision: 0.1257 - recall: 0.7690 - auc: 0.9291 - val_loss: 0.0254 - val_tp: 64.0000 - val_fp: 170.0000 - val_tn: 45322.0000 - val_fn: 13.0000 - val_accuracy: 0.9960 - val_precision: 0.2735 - val_recall: 0.8312 - val_auc: 0.9628\n",
            "Epoch 4/100\n",
            "90/90 [==============================] - 1s 10ms/step - loss: 0.4003 - tp: 253.0000 - fp: 2695.0000 - tn: 179265.0000 - fn: 63.0000 - accuracy: 0.9849 - precision: 0.0858 - recall: 0.8006 - auc: 0.9321 - val_loss: 0.0350 - val_tp: 69.0000 - val_fp: 255.0000 - val_tn: 45237.0000 - val_fn: 8.0000 - val_accuracy: 0.9942 - val_precision: 0.2130 - val_recall: 0.8961 - val_auc: 0.9694\n",
            "Epoch 5/100\n",
            "90/90 [==============================] - 1s 10ms/step - loss: 0.3471 - tp: 259.0000 - fp: 3943.0000 - tn: 178017.0000 - fn: 57.0000 - accuracy: 0.9781 - precision: 0.0616 - recall: 0.8196 - auc: 0.9428 - val_loss: 0.0472 - val_tp: 70.0000 - val_fp: 448.0000 - val_tn: 45044.0000 - val_fn: 7.0000 - val_accuracy: 0.9900 - val_precision: 0.1351 - val_recall: 0.9091 - val_auc: 0.9772\n",
            "Epoch 6/100\n",
            "90/90 [==============================] - 1s 9ms/step - loss: 0.3582 - tp: 261.0000 - fp: 4831.0000 - tn: 177129.0000 - fn: 55.0000 - accuracy: 0.9732 - precision: 0.0513 - recall: 0.8259 - auc: 0.9427 - val_loss: 0.0557 - val_tp: 70.0000 - val_fp: 602.0000 - val_tn: 44890.0000 - val_fn: 7.0000 - val_accuracy: 0.9866 - val_precision: 0.1042 - val_recall: 0.9091 - val_auc: 0.9778\n",
            "Epoch 7/100\n",
            "90/90 [==============================] - 1s 10ms/step - loss: 0.3154 - tp: 272.0000 - fp: 5800.0000 - tn: 176160.0000 - fn: 44.0000 - accuracy: 0.9679 - precision: 0.0448 - recall: 0.8608 - auc: 0.9459 - val_loss: 0.0635 - val_tp: 70.0000 - val_fp: 741.0000 - val_tn: 44751.0000 - val_fn: 7.0000 - val_accuracy: 0.9836 - val_precision: 0.0863 - val_recall: 0.9091 - val_auc: 0.9815\n",
            "Epoch 8/100\n",
            "90/90 [==============================] - 1s 10ms/step - loss: 0.3232 - tp: 266.0000 - fp: 6376.0000 - tn: 175584.0000 - fn: 50.0000 - accuracy: 0.9647 - precision: 0.0400 - recall: 0.8418 - auc: 0.9443 - val_loss: 0.0722 - val_tp: 70.0000 - val_fp: 859.0000 - val_tn: 44633.0000 - val_fn: 7.0000 - val_accuracy: 0.9810 - val_precision: 0.0753 - val_recall: 0.9091 - val_auc: 0.9837\n",
            "Epoch 9/100\n",
            "90/90 [==============================] - 1s 9ms/step - loss: 0.2728 - tp: 278.0000 - fp: 6964.0000 - tn: 174996.0000 - fn: 38.0000 - accuracy: 0.9616 - precision: 0.0384 - recall: 0.8797 - auc: 0.9542 - val_loss: 0.0749 - val_tp: 70.0000 - val_fp: 881.0000 - val_tn: 44611.0000 - val_fn: 7.0000 - val_accuracy: 0.9805 - val_precision: 0.0736 - val_recall: 0.9091 - val_auc: 0.9839\n",
            "Epoch 10/100\n",
            "90/90 [==============================] - 1s 9ms/step - loss: 0.2863 - tp: 270.0000 - fp: 7272.0000 - tn: 174688.0000 - fn: 46.0000 - accuracy: 0.9599 - precision: 0.0358 - recall: 0.8544 - auc: 0.9553 - val_loss: 0.0806 - val_tp: 70.0000 - val_fp: 948.0000 - val_tn: 44544.0000 - val_fn: 7.0000 - val_accuracy: 0.9790 - val_precision: 0.0688 - val_recall: 0.9091 - val_auc: 0.9841\n",
            "Epoch 11/100\n",
            "90/90 [==============================] - 1s 10ms/step - loss: 0.3013 - tp: 270.0000 - fp: 7578.0000 - tn: 174382.0000 - fn: 46.0000 - accuracy: 0.9582 - precision: 0.0344 - recall: 0.8544 - auc: 0.9481 - val_loss: 0.0840 - val_tp: 70.0000 - val_fp: 987.0000 - val_tn: 44505.0000 - val_fn: 7.0000 - val_accuracy: 0.9782 - val_precision: 0.0662 - val_recall: 0.9091 - val_auc: 0.9845\n",
            "Epoch 12/100\n",
            "90/90 [==============================] - 1s 10ms/step - loss: 0.2592 - tp: 275.0000 - fp: 7775.0000 - tn: 174185.0000 - fn: 41.0000 - accuracy: 0.9571 - precision: 0.0342 - recall: 0.8703 - auc: 0.9617 - val_loss: 0.0881 - val_tp: 70.0000 - val_fp: 1031.0000 - val_tn: 44461.0000 - val_fn: 7.0000 - val_accuracy: 0.9772 - val_precision: 0.0636 - val_recall: 0.9091 - val_auc: 0.9861\n",
            "Epoch 13/100\n",
            "90/90 [==============================] - 1s 9ms/step - loss: 0.2484 - tp: 277.0000 - fp: 8211.0000 - tn: 173749.0000 - fn: 39.0000 - accuracy: 0.9547 - precision: 0.0326 - recall: 0.8766 - auc: 0.9647 - val_loss: 0.0892 - val_tp: 70.0000 - val_fp: 1053.0000 - val_tn: 44439.0000 - val_fn: 7.0000 - val_accuracy: 0.9767 - val_precision: 0.0623 - val_recall: 0.9091 - val_auc: 0.9870\n",
            "Epoch 14/100\n",
            "90/90 [==============================] - 1s 10ms/step - loss: 0.2671 - tp: 277.0000 - fp: 7903.0000 - tn: 174057.0000 - fn: 39.0000 - accuracy: 0.9564 - precision: 0.0339 - recall: 0.8766 - auc: 0.9579 - val_loss: 0.0867 - val_tp: 70.0000 - val_fp: 1004.0000 - val_tn: 44488.0000 - val_fn: 7.0000 - val_accuracy: 0.9778 - val_precision: 0.0652 - val_recall: 0.9091 - val_auc: 0.9871\n",
            "Epoch 15/100\n",
            "90/90 [==============================] - 1s 10ms/step - loss: 0.2643 - tp: 273.0000 - fp: 7979.0000 - tn: 173981.0000 - fn: 43.0000 - accuracy: 0.9560 - precision: 0.0331 - recall: 0.8639 - auc: 0.9594 - val_loss: 0.0924 - val_tp: 70.0000 - val_fp: 1073.0000 - val_tn: 44419.0000 - val_fn: 7.0000 - val_accuracy: 0.9763 - val_precision: 0.0612 - val_recall: 0.9091 - val_auc: 0.9869\n",
            "Epoch 16/100\n",
            "90/90 [==============================] - 1s 10ms/step - loss: 0.2175 - tp: 282.0000 - fp: 8064.0000 - tn: 173896.0000 - fn: 34.0000 - accuracy: 0.9556 - precision: 0.0338 - recall: 0.8924 - auc: 0.9685 - val_loss: 0.0875 - val_tp: 70.0000 - val_fp: 994.0000 - val_tn: 44498.0000 - val_fn: 7.0000 - val_accuracy: 0.9780 - val_precision: 0.0658 - val_recall: 0.9091 - val_auc: 0.9872\n",
            "Epoch 17/100\n",
            "90/90 [==============================] - 1s 9ms/step - loss: 0.2586 - tp: 278.0000 - fp: 7664.0000 - tn: 174296.0000 - fn: 38.0000 - accuracy: 0.9577 - precision: 0.0350 - recall: 0.8797 - auc: 0.9577 - val_loss: 0.0849 - val_tp: 70.0000 - val_fp: 941.0000 - val_tn: 44551.0000 - val_fn: 7.0000 - val_accuracy: 0.9792 - val_precision: 0.0692 - val_recall: 0.9091 - val_auc: 0.9871\n",
            "Epoch 18/100\n",
            "90/90 [==============================] - 1s 10ms/step - loss: 0.2367 - tp: 280.0000 - fp: 7597.0000 - tn: 174363.0000 - fn: 36.0000 - accuracy: 0.9581 - precision: 0.0355 - recall: 0.8861 - auc: 0.9662 - val_loss: 0.0837 - val_tp: 71.0000 - val_fp: 919.0000 - val_tn: 44573.0000 - val_fn: 6.0000 - val_accuracy: 0.9797 - val_precision: 0.0717 - val_recall: 0.9221 - val_auc: 0.9869\n",
            "Epoch 19/100\n",
            "90/90 [==============================] - 1s 10ms/step - loss: 0.2246 - tp: 281.0000 - fp: 7463.0000 - tn: 174497.0000 - fn: 35.0000 - accuracy: 0.9589 - precision: 0.0363 - recall: 0.8892 - auc: 0.9667 - val_loss: 0.0841 - val_tp: 71.0000 - val_fp: 899.0000 - val_tn: 44593.0000 - val_fn: 6.0000 - val_accuracy: 0.9801 - val_precision: 0.0732 - val_recall: 0.9221 - val_auc: 0.9872\n",
            "Epoch 20/100\n",
            "90/90 [==============================] - 1s 10ms/step - loss: 0.2351 - tp: 278.0000 - fp: 7321.0000 - tn: 174639.0000 - fn: 38.0000 - accuracy: 0.9596 - precision: 0.0366 - recall: 0.8797 - auc: 0.9656 - val_loss: 0.0845 - val_tp: 71.0000 - val_fp: 898.0000 - val_tn: 44594.0000 - val_fn: 6.0000 - val_accuracy: 0.9802 - val_precision: 0.0733 - val_recall: 0.9221 - val_auc: 0.9873\n",
            "Epoch 21/100\n",
            "90/90 [==============================] - 1s 10ms/step - loss: 0.2190 - tp: 281.0000 - fp: 7353.0000 - tn: 174607.0000 - fn: 35.0000 - accuracy: 0.9595 - precision: 0.0368 - recall: 0.8892 - auc: 0.9698 - val_loss: 0.0845 - val_tp: 71.0000 - val_fp: 878.0000 - val_tn: 44614.0000 - val_fn: 6.0000 - val_accuracy: 0.9806 - val_precision: 0.0748 - val_recall: 0.9221 - val_auc: 0.9873\n",
            "Epoch 22/100\n",
            "90/90 [==============================] - 1s 10ms/step - loss: 0.2290 - tp: 282.0000 - fp: 7259.0000 - tn: 174701.0000 - fn: 34.0000 - accuracy: 0.9600 - precision: 0.0374 - recall: 0.8924 - auc: 0.9664 - val_loss: 0.0846 - val_tp: 71.0000 - val_fp: 859.0000 - val_tn: 44633.0000 - val_fn: 6.0000 - val_accuracy: 0.9810 - val_precision: 0.0763 - val_recall: 0.9221 - val_auc: 0.9875\n",
            "Epoch 23/100\n",
            "90/90 [==============================] - 1s 10ms/step - loss: 0.1936 - tp: 285.0000 - fp: 7320.0000 - tn: 174640.0000 - fn: 31.0000 - accuracy: 0.9597 - precision: 0.0375 - recall: 0.9019 - auc: 0.9763 - val_loss: 0.0842 - val_tp: 71.0000 - val_fp: 856.0000 - val_tn: 44636.0000 - val_fn: 6.0000 - val_accuracy: 0.9811 - val_precision: 0.0766 - val_recall: 0.9221 - val_auc: 0.9873\n",
            "Epoch 24/100\n",
            "90/90 [==============================] - 1s 10ms/step - loss: 0.2250 - tp: 283.0000 - fp: 7211.0000 - tn: 174749.0000 - fn: 33.0000 - accuracy: 0.9603 - precision: 0.0378 - recall: 0.8956 - auc: 0.9655 - val_loss: 0.0821 - val_tp: 71.0000 - val_fp: 830.0000 - val_tn: 44662.0000 - val_fn: 6.0000 - val_accuracy: 0.9817 - val_precision: 0.0788 - val_recall: 0.9221 - val_auc: 0.9876\n",
            "Epoch 25/100\n",
            "90/90 [==============================] - 1s 10ms/step - loss: 0.2067 - tp: 283.0000 - fp: 7131.0000 - tn: 174829.0000 - fn: 33.0000 - accuracy: 0.9607 - precision: 0.0382 - recall: 0.8956 - auc: 0.9724 - val_loss: 0.0802 - val_tp: 71.0000 - val_fp: 782.0000 - val_tn: 44710.0000 - val_fn: 6.0000 - val_accuracy: 0.9827 - val_precision: 0.0832 - val_recall: 0.9221 - val_auc: 0.9871\n",
            "Epoch 26/100\n",
            "90/90 [==============================] - 1s 10ms/step - loss: 0.2250 - tp: 282.0000 - fp: 7039.0000 - tn: 174921.0000 - fn: 34.0000 - accuracy: 0.9612 - precision: 0.0385 - recall: 0.8924 - auc: 0.9682 - val_loss: 0.0821 - val_tp: 71.0000 - val_fp: 810.0000 - val_tn: 44682.0000 - val_fn: 6.0000 - val_accuracy: 0.9821 - val_precision: 0.0806 - val_recall: 0.9221 - val_auc: 0.9879\n",
            "Epoch 27/100\n",
            "90/90 [==============================] - 1s 10ms/step - loss: 0.2203 - tp: 277.0000 - fp: 7051.0000 - tn: 174909.0000 - fn: 39.0000 - accuracy: 0.9611 - precision: 0.0378 - recall: 0.8766 - auc: 0.9707 - val_loss: 0.0830 - val_tp: 71.0000 - val_fp: 822.0000 - val_tn: 44670.0000 - val_fn: 6.0000 - val_accuracy: 0.9818 - val_precision: 0.0795 - val_recall: 0.9221 - val_auc: 0.9879\n",
            "Epoch 28/100\n",
            "90/90 [==============================] - 1s 10ms/step - loss: 0.2392 - tp: 278.0000 - fp: 6906.0000 - tn: 175054.0000 - fn: 38.0000 - accuracy: 0.9619 - precision: 0.0387 - recall: 0.8797 - auc: 0.9633 - val_loss: 0.0858 - val_tp: 71.0000 - val_fp: 872.0000 - val_tn: 44620.0000 - val_fn: 6.0000 - val_accuracy: 0.9807 - val_precision: 0.0753 - val_recall: 0.9221 - val_auc: 0.9878\n",
            "Epoch 29/100\n",
            "90/90 [==============================] - 1s 10ms/step - loss: 0.2113 - tp: 278.0000 - fp: 7257.0000 - tn: 174703.0000 - fn: 38.0000 - accuracy: 0.9600 - precision: 0.0369 - recall: 0.8797 - auc: 0.9730 - val_loss: 0.0878 - val_tp: 71.0000 - val_fp: 897.0000 - val_tn: 44595.0000 - val_fn: 6.0000 - val_accuracy: 0.9802 - val_precision: 0.0733 - val_recall: 0.9221 - val_auc: 0.9881\n",
            "Epoch 30/100\n",
            "90/90 [==============================] - 1s 10ms/step - loss: 0.1901 - tp: 284.0000 - fp: 7057.0000 - tn: 174903.0000 - fn: 32.0000 - accuracy: 0.9611 - precision: 0.0387 - recall: 0.8987 - auc: 0.9761 - val_loss: 0.0865 - val_tp: 71.0000 - val_fp: 877.0000 - val_tn: 44615.0000 - val_fn: 6.0000 - val_accuracy: 0.9806 - val_precision: 0.0749 - val_recall: 0.9221 - val_auc: 0.9874\n",
            "Epoch 31/100\n",
            "90/90 [==============================] - 1s 10ms/step - loss: 0.2066 - tp: 282.0000 - fp: 7137.0000 - tn: 174823.0000 - fn: 34.0000 - accuracy: 0.9607 - precision: 0.0380 - recall: 0.8924 - auc: 0.9727 - val_loss: 0.0861 - val_tp: 71.0000 - val_fp: 872.0000 - val_tn: 44620.0000 - val_fn: 6.0000 - val_accuracy: 0.9807 - val_precision: 0.0753 - val_recall: 0.9221 - val_auc: 0.9873\n",
            "Epoch 32/100\n",
            "90/90 [==============================] - 1s 10ms/step - loss: 0.1760 - tp: 287.0000 - fp: 6645.0000 - tn: 175315.0000 - fn: 29.0000 - accuracy: 0.9634 - precision: 0.0414 - recall: 0.9082 - auc: 0.9787 - val_loss: 0.0834 - val_tp: 71.0000 - val_fp: 838.0000 - val_tn: 44654.0000 - val_fn: 6.0000 - val_accuracy: 0.9815 - val_precision: 0.0781 - val_recall: 0.9221 - val_auc: 0.9876\n",
            "Epoch 33/100\n",
            "90/90 [==============================] - 1s 10ms/step - loss: 0.2007 - tp: 284.0000 - fp: 7074.0000 - tn: 174886.0000 - fn: 32.0000 - accuracy: 0.9610 - precision: 0.0386 - recall: 0.8987 - auc: 0.9753 - val_loss: 0.0864 - val_tp: 71.0000 - val_fp: 887.0000 - val_tn: 44605.0000 - val_fn: 6.0000 - val_accuracy: 0.9804 - val_precision: 0.0741 - val_recall: 0.9221 - val_auc: 0.9869\n",
            "Epoch 34/100\n",
            "90/90 [==============================] - 1s 10ms/step - loss: 0.2047 - tp: 284.0000 - fp: 6780.0000 - tn: 175180.0000 - fn: 32.0000 - accuracy: 0.9626 - precision: 0.0402 - recall: 0.8987 - auc: 0.9719 - val_loss: 0.0822 - val_tp: 71.0000 - val_fp: 811.0000 - val_tn: 44681.0000 - val_fn: 6.0000 - val_accuracy: 0.9821 - val_precision: 0.0805 - val_recall: 0.9221 - val_auc: 0.9867\n",
            "Epoch 35/100\n",
            "90/90 [==============================] - 1s 10ms/step - loss: 0.2216 - tp: 277.0000 - fp: 6895.0000 - tn: 175065.0000 - fn: 39.0000 - accuracy: 0.9620 - precision: 0.0386 - recall: 0.8766 - auc: 0.9681 - val_loss: 0.0826 - val_tp: 71.0000 - val_fp: 812.0000 - val_tn: 44680.0000 - val_fn: 6.0000 - val_accuracy: 0.9820 - val_precision: 0.0804 - val_recall: 0.9221 - val_auc: 0.9864\n",
            "Epoch 36/100\n",
            "90/90 [==============================] - 1s 10ms/step - loss: 0.2200 - tp: 279.0000 - fp: 6749.0000 - tn: 175211.0000 - fn: 37.0000 - accuracy: 0.9628 - precision: 0.0397 - recall: 0.8829 - auc: 0.9679 - val_loss: 0.0837 - val_tp: 71.0000 - val_fp: 838.0000 - val_tn: 44654.0000 - val_fn: 6.0000 - val_accuracy: 0.9815 - val_precision: 0.0781 - val_recall: 0.9221 - val_auc: 0.9855\n",
            "Epoch 37/100\n",
            "90/90 [==============================] - 1s 10ms/step - loss: 0.1932 - tp: 284.0000 - fp: 7076.0000 - tn: 174884.0000 - fn: 32.0000 - accuracy: 0.9610 - precision: 0.0386 - recall: 0.8987 - auc: 0.9749 - val_loss: 0.0842 - val_tp: 71.0000 - val_fp: 865.0000 - val_tn: 44627.0000 - val_fn: 6.0000 - val_accuracy: 0.9809 - val_precision: 0.0759 - val_recall: 0.9221 - val_auc: 0.9862\n",
            "Epoch 38/100\n",
            "90/90 [==============================] - 1s 10ms/step - loss: 0.2059 - tp: 279.0000 - fp: 7108.0000 - tn: 174852.0000 - fn: 37.0000 - accuracy: 0.9608 - precision: 0.0378 - recall: 0.8829 - auc: 0.9752 - val_loss: 0.0845 - val_tp: 71.0000 - val_fp: 868.0000 - val_tn: 44624.0000 - val_fn: 6.0000 - val_accuracy: 0.9808 - val_precision: 0.0756 - val_recall: 0.9221 - val_auc: 0.9862\n",
            "Epoch 39/100\n",
            "84/90 [===========================>..] - ETA: 0s - loss: 0.2120 - tp: 264.0000 - fp: 6230.0000 - tn: 165511.0000 - fn: 27.0000 - accuracy: 0.9636 - precision: 0.0407 - recall: 0.9072 - auc: 0.9663Restoring model weights from the end of the best epoch.\n",
            "90/90 [==============================] - 1s 10ms/step - loss: 0.2149 - tp: 287.0000 - fp: 6558.0000 - tn: 175402.0000 - fn: 29.0000 - accuracy: 0.9639 - precision: 0.0419 - recall: 0.9082 - auc: 0.9666 - val_loss: 0.0791 - val_tp: 71.0000 - val_fp: 767.0000 - val_tn: 44725.0000 - val_fn: 6.0000 - val_accuracy: 0.9830 - val_precision: 0.0847 - val_recall: 0.9221 - val_auc: 0.9858\n",
            "Epoch 00039: early stopping\n"
          ],
          "name": "stdout"
        }
      ]
    },
    {
      "cell_type": "markdown",
      "metadata": {
        "id": "R0ynYRO0G3Lx"
      },
      "source": [
        "### Check training history"
      ]
    },
    {
      "cell_type": "code",
      "metadata": {
        "id": "BBe9FMO5ucTC",
        "outputId": "44fb04b3-189d-4b32-b60f-76166c10cbd6",
        "colab": {
          "base_uri": "https://localhost:8080/",
          "height": 609
        }
      },
      "source": [
        "plot_metrics(weighted_history)"
      ],
      "execution_count": 43,
      "outputs": [
        {
          "output_type": "display_data",
          "data": {
            "image/png": "[encoded data removed]",
            "text/plain": [
              "<Figure size 864x720 with 4 Axes>"
            ]
          },
          "metadata": {
            "tags": [],
            "needs_background": "light"
          }
        }
      ]
    },
    {
      "cell_type": "markdown",
      "metadata": {
        "id": "REy6WClTZIwQ"
      },
      "source": [
        "### Evaluate metrics"
      ]
    },
    {
      "cell_type": "code",
      "metadata": {
        "id": "nifqscPGw-5w"
      },
      "source": [
        "train_predictions_weighted = weighted_model.predict(train_features, batch_size=BATCH_SIZE)\n",
        "test_predictions_weighted = weighted_model.predict(test_features, batch_size=BATCH_SIZE)"
      ],
      "execution_count": 44,
      "outputs": []
    },
    {
      "cell_type": "code",
      "metadata": {
        "id": "owKL2vdMBJr6",
        "outputId": "35c194fc-4635-4c1e-c09b-e7d2571d62e6",
        "colab": {
          "base_uri": "https://localhost:8080/",
          "height": 605
        }
      },
      "source": [
        "weighted_results = weighted_model.evaluate(test_features, test_labels,\n",
        "                                           batch_size=BATCH_SIZE, verbose=0)\n",
        "for name, value in zip(weighted_model.metrics_names, weighted_results):\n",
        "  print(name, ': ', value)\n",
        "print()\n",
        "\n",
        "plot_cm(test_labels, test_predictions_weighted)"
      ],
      "execution_count": 45,
      "outputs": [
        {
          "output_type": "stream",
          "text": [
            "loss :  0.08729013055562973\n",
            "tp :  91.0\n",
            "fp :  1107.0\n",
            "tn :  55756.0\n",
            "fn :  8.0\n",
            "accuracy :  0.9804255366325378\n",
            "precision :  0.0759599357843399\n",
            "recall :  0.9191918969154358\n",
            "auc :  0.9922374486923218\n",
            "\n",
            "Legitimate Transactions Detected (True Negatives):  55756\n",
            "Legitimate Transactions Incorrectly Detected (False Positives):  1107\n",
            "Fraudulent Transactions Missed (False Negatives):  8\n",
            "Fraudulent Transactions Detected (True Positives):  91\n",
            "Total Fraudulent Transactions:  99\n"
          ],
          "name": "stdout"
        },
        {
          "output_type": "display_data",
          "data": {
            "image/png": "[encoded data removed]",
            "text/plain": [
              "<Figure size 360x360 with 2 Axes>"
            ]
          },
          "metadata": {
            "tags": [],
            "needs_background": "light"
          }
        }
      ]
    },
    {
      "cell_type": "markdown",
      "metadata": {
        "id": "PTh1rtDn8r4-"
      },
      "source": [
        "Here you can see that with class weights the accuracy and precision are lower because there are more false positives, but conversely the recall and AUC are higher because the model also found more true positives. Despite having lower accuracy, this model has higher recall (and identifies more fraudulent transactions). Of course, there is a cost to both types of error (you wouldn't want to bug users by flagging too many legitimate transactions as fraudulent, either). Carefully consider the trade-offs between these different types of errors for your application."
      ]
    },
    {
      "cell_type": "markdown",
      "metadata": {
        "id": "hXDAwyr0HYdX"
      },
      "source": [
        "### Plot the ROC"
      ]
    },
    {
      "cell_type": "code",
      "metadata": {
        "id": "3hzScIVZS1Xm",
        "outputId": "69a1f69d-395f-4018-c59e-c0bac31a8579",
        "colab": {
          "base_uri": "https://localhost:8080/",
          "height": 623
        }
      },
      "source": [
        "plot_roc(\"Train Baseline\", train_labels, train_predictions_baseline, color=colors[0])\n",
        "plot_roc(\"Test Baseline\", test_labels, test_predictions_baseline, color=colors[0], linestyle='--')\n",
        "\n",
        "plot_roc(\"Train Weighted\", train_labels, train_predictions_weighted, color=colors[1])\n",
        "plot_roc(\"Test Weighted\", test_labels, test_predictions_weighted, color=colors[1], linestyle='--')\n",
        "\n",
        "\n",
        "plt.legend(loc='lower right')"
      ],
      "execution_count": 46,
      "outputs": [
        {
          "output_type": "execute_result",
          "data": {
            "text/plain": [
              "<matplotlib.legend.Legend at 0x7fbb7d74b400>"
            ]
          },
          "metadata": {
            "tags": []
          },
          "execution_count": 46
        },
        {
          "output_type": "display_data",
          "data": {
            "image/png": "[encoded data removed]",
            "text/plain": [
              "<Figure size 864x720 with 1 Axes>"
            ]
          },
          "metadata": {
            "tags": [],
            "needs_background": "light"
          }
        }
      ]
    },
    {
      "cell_type": "markdown",
      "metadata": {
        "id": "5ysRtr6xHnXP"
      },
      "source": [
        "## Oversampling"
      ]
    },
    {
      "cell_type": "markdown",
      "metadata": {
        "id": "18VUHNc-UF5w"
      },
      "source": [
        "### Oversample the minority class\n",
        "\n",
        "A related approach would be to resample the dataset by oversampling the minority class."
      ]
    },
    {
      "cell_type": "code",
      "metadata": {
        "id": "sHirNp6u7OWp"
      },
      "source": [
        "pos_features = train_features[bool_train_labels]\n",
        "neg_features = train_features[~bool_train_labels]\n",
        "\n",
        "pos_labels = train_labels[bool_train_labels]\n",
        "neg_labels = train_labels[~bool_train_labels]"
      ],
      "execution_count": 47,
      "outputs": []
    },
    {
      "cell_type": "code",
      "metadata": {
        "id": "xqM089sPnAhk",
        "outputId": "c6c9c136-4f19-48bb-fb49-590476f32803",
        "colab": {
          "base_uri": "https://localhost:8080/",
          "height": 85
        }
      },
      "source": [
        "print(pos_features.shape)\n",
        "print(neg_features.shape)\n",
        "print(pos_labels.shape)\n",
        "print(neg_labels.shape)"
      ],
      "execution_count": 55,
      "outputs": [
        {
          "output_type": "stream",
          "text": [
            "(316, 29)\n",
            "(181960, 29)\n",
            "(316,)\n",
            "(181960,)\n"
          ],
          "name": "stdout"
        }
      ]
    },
    {
      "cell_type": "markdown",
      "metadata": {
        "id": "WgBVbX7P7QrL"
      },
      "source": [
        "#### Using NumPy\n",
        "\n",
        "You can balance the dataset manually by choosing the right number of random \n",
        "indices from the positive examples:"
      ]
    },
    {
      "cell_type": "code",
      "metadata": {
        "id": "zGv5Q3-hnsh8",
        "outputId": "b6156744-340b-4a85-b812-957981dc813c",
        "colab": {
          "base_uri": "https://localhost:8080/",
          "height": 442
        }
      },
      "source": [
        "ids = np.arange(len(pos_features))\n",
        "ids"
      ],
      "execution_count": 56,
      "outputs": [
        {
          "output_type": "execute_result",
          "data": {
            "text/plain": [
              "array([  0,   1,   2,   3,   4,   5,   6,   7,   8,   9,  10,  11,  12,\n",
              "        13,  14,  15,  16,  17,  18,  19,  20,  21,  22,  23,  24,  25,\n",
              "        26,  27,  28,  29,  30,  31,  32,  33,  34,  35,  36,  37,  38,\n",
              "        39,  40,  41,  42,  43,  44,  45,  46,  47,  48,  49,  50,  51,\n",
              "        52,  53,  54,  55,  56,  57,  58,  59,  60,  61,  62,  63,  64,\n",
              "        65,  66,  67,  68,  69,  70,  71,  72,  73,  74,  75,  76,  77,\n",
              "        78,  79,  80,  81,  82,  83,  84,  85,  86,  87,  88,  89,  90,\n",
              "        91,  92,  93,  94,  95,  96,  97,  98,  99, 100, 101, 102, 103,\n",
              "       104, 105, 106, 107, 108, 109, 110, 111, 112, 113, 114, 115, 116,\n",
              "       117, 118, 119, 120, 121, 122, 123, 124, 125, 126, 127, 128, 129,\n",
              "       130, 131, 132, 133, 134, 135, 136, 137, 138, 139, 140, 141, 142,\n",
              "       143, 144, 145, 146, 147, 148, 149, 150, 151, 152, 153, 154, 155,\n",
              "       156, 157, 158, 159, 160, 161, 162, 163, 164, 165, 166, 167, 168,\n",
              "       169, 170, 171, 172, 173, 174, 175, 176, 177, 178, 179, 180, 181,\n",
              "       182, 183, 184, 185, 186, 187, 188, 189, 190, 191, 192, 193, 194,\n",
              "       195, 196, 197, 198, 199, 200, 201, 202, 203, 204, 205, 206, 207,\n",
              "       208, 209, 210, 211, 212, 213, 214, 215, 216, 217, 218, 219, 220,\n",
              "       221, 222, 223, 224, 225, 226, 227, 228, 229, 230, 231, 232, 233,\n",
              "       234, 235, 236, 237, 238, 239, 240, 241, 242, 243, 244, 245, 246,\n",
              "       247, 248, 249, 250, 251, 252, 253, 254, 255, 256, 257, 258, 259,\n",
              "       260, 261, 262, 263, 264, 265, 266, 267, 268, 269, 270, 271, 272,\n",
              "       273, 274, 275, 276, 277, 278, 279, 280, 281, 282, 283, 284, 285,\n",
              "       286, 287, 288, 289, 290, 291, 292, 293, 294, 295, 296, 297, 298,\n",
              "       299, 300, 301, 302, 303, 304, 305, 306, 307, 308, 309, 310, 311,\n",
              "       312, 313, 314, 315])"
            ]
          },
          "metadata": {
            "tags": []
          },
          "execution_count": 56
        }
      ]
    },
    {
      "cell_type": "code",
      "metadata": {
        "id": "3OKasdD4ofW6",
        "outputId": "ceba8f71-5bab-4502-81cf-8b88cf6824d4",
        "colab": {
          "base_uri": "https://localhost:8080/",
          "height": 34
        }
      },
      "source": [
        "neg_features.shape"
      ],
      "execution_count": 65,
      "outputs": [
        {
          "output_type": "execute_result",
          "data": {
            "text/plain": [
              "(181960, 29)"
            ]
          },
          "metadata": {
            "tags": []
          },
          "execution_count": 65
        }
      ]
    },
    {
      "cell_type": "code",
      "metadata": {
        "id": "xwresh86ntOu",
        "outputId": "28c84288-ff6d-4a12-e2cc-01a625e0e1c6",
        "colab": {
          "base_uri": "https://localhost:8080/",
          "height": 51
        }
      },
      "source": [
        "choices = np.random.choice(ids, len(neg_features))\n",
        "print(choices.shape)\n",
        "choices"
      ],
      "execution_count": 58,
      "outputs": [
        {
          "output_type": "stream",
          "text": [
            "(181960,)\n"
          ],
          "name": "stdout"
        },
        {
          "output_type": "execute_result",
          "data": {
            "text/plain": [
              "array([288, 308, 209, ..., 121, 116,  69])"
            ]
          },
          "metadata": {
            "tags": []
          },
          "execution_count": 58
        }
      ]
    },
    {
      "cell_type": "code",
      "metadata": {
        "id": "cfnvs3ZToJLs",
        "outputId": "57edae64-6201-47e5-bef2-7adefad1f7f7",
        "colab": {
          "base_uri": "https://localhost:8080/",
          "height": 255
        }
      },
      "source": [
        "print(pos_features.shape)\n",
        "pos_features"
      ],
      "execution_count": 64,
      "outputs": [
        {
          "output_type": "stream",
          "text": [
            "(316, 29)\n"
          ],
          "name": "stdout"
        },
        {
          "output_type": "execute_result",
          "data": {
            "text/plain": [
              "array([[-1.33963354,  4.32627414, -5.        , ...,  4.8291305 ,\n",
              "         2.49372023, -1.45577128],\n",
              "       [-1.66283561, -0.22679538, -0.84212184, ...,  2.1633062 ,\n",
              "        -1.36829859, -0.57668622],\n",
              "       [-2.98066209, -5.        ,  0.0378294 , ...,  0.18465158,\n",
              "         1.84364431, -4.8758242 ],\n",
              "       ...,\n",
              "       [ 0.26843023,  0.94274515, -2.78733736, ...,  0.67433846,\n",
              "        -0.1993538 ,  0.95412082],\n",
              "       [-1.17583107,  1.80853146, -3.25120059, ...,  1.43386246,\n",
              "         0.55625915,  1.10300911],\n",
              "       [-0.96024136,  0.9570909 , -0.93818135, ...,  0.91700762,\n",
              "         0.2332524 ,  0.35427026]])"
            ]
          },
          "metadata": {
            "tags": []
          },
          "execution_count": 64
        }
      ]
    },
    {
      "cell_type": "code",
      "metadata": {
        "id": "_V1NozNNn6bc",
        "outputId": "6a353535-d784-4440-900b-c8d28fb908d0",
        "colab": {
          "base_uri": "https://localhost:8080/",
          "height": 255
        }
      },
      "source": [
        "res_pos_features = pos_features[choices]\n",
        "print(res_pos_features.shape)\n",
        "res_pos_features"
      ],
      "execution_count": 60,
      "outputs": [
        {
          "output_type": "stream",
          "text": [
            "(181960, 29)\n"
          ],
          "name": "stdout"
        },
        {
          "output_type": "execute_result",
          "data": {
            "text/plain": [
              "array([[-4.36145314,  3.79017755, -5.        , ...,  1.98015225,\n",
              "         0.21437991,  0.23172276],\n",
              "       [-5.        ,  5.        , -5.        , ...,  3.1703166 ,\n",
              "         2.96645106, -1.45577128],\n",
              "       [-1.61038582,  0.35928376, -3.60382546, ...,  2.21022296,\n",
              "        -0.80070144,  1.2670334 ],\n",
              "       ...,\n",
              "       [ 0.52670384,  1.23253614, -3.18336196, ...,  0.98804006,\n",
              "         0.0641368 , -1.45577128],\n",
              "       [-2.47800673,  2.10690154, -3.38672157, ...,  0.82207455,\n",
              "         2.63803919,  0.82270121],\n",
              "       [-1.48257076,  1.44564218, -2.70518836, ...,  1.53732132,\n",
              "         2.53626869,  0.93204165]])"
            ]
          },
          "metadata": {
            "tags": []
          },
          "execution_count": 60
        }
      ]
    },
    {
      "cell_type": "code",
      "metadata": {
        "id": "BUzGjSkwqT88",
        "outputId": "3bbeabcf-32f3-4f10-b712-f0aca7ee8a1a",
        "colab": {
          "base_uri": "https://localhost:8080/",
          "height": 34
        }
      },
      "source": [
        "res_pos_labels = pos_labels[choices]\n",
        "res_pos_labels.shape"
      ],
      "execution_count": 66,
      "outputs": [
        {
          "output_type": "execute_result",
          "data": {
            "text/plain": [
              "(181960,)"
            ]
          },
          "metadata": {
            "tags": []
          },
          "execution_count": 66
        }
      ]
    },
    {
      "cell_type": "code",
      "metadata": {
        "id": "7ie_FFet6cep",
        "outputId": "ab0719bb-fcd0-43f5-95a5-9bf49bf1273e",
        "colab": {
          "base_uri": "https://localhost:8080/",
          "height": 34
        }
      },
      "source": [
        "resampled_features = np.concatenate([res_pos_features, neg_features], axis=0)\n",
        "resampled_labels = np.concatenate([res_pos_labels, neg_labels], axis=0)\n",
        "\n",
        "order = np.arange(len(resampled_labels))\n",
        "np.random.shuffle(order)\n",
        "resampled_features = resampled_features[order]\n",
        "resampled_labels = resampled_labels[order]\n",
        "\n",
        "resampled_features.shape"
      ],
      "execution_count": 67,
      "outputs": [
        {
          "output_type": "execute_result",
          "data": {
            "text/plain": [
              "(363920, 29)"
            ]
          },
          "metadata": {
            "tags": []
          },
          "execution_count": 67
        }
      ]
    },
    {
      "cell_type": "markdown",
      "metadata": {
        "id": "IYfJe2Kc-FAz"
      },
      "source": [
        "#### Using `tf.data`"
      ]
    },
    {
      "cell_type": "markdown",
      "metadata": {
        "id": "usyixaST8v5P"
      },
      "source": [
        "If you're using `tf.data` the easiest way to produce balanced examples is to start with a `positive` and a `negative` dataset, and merge them. See [the tf.data guide](../../guide/data.ipynb) for more examples."
      ]
    },
    {
      "cell_type": "code",
      "metadata": {
        "id": "yF4OZ-rI6xb6"
      },
      "source": [
        "BUFFER_SIZE = 100000\n",
        "\n",
        "def make_ds(features, labels):\n",
        "  ds = tf.data.Dataset.from_tensor_slices((features, labels))#.cache()\n",
        "  ds = ds.shuffle(BUFFER_SIZE).repeat()\n",
        "  return ds\n",
        "\n",
        "pos_ds = make_ds(pos_features, pos_labels)\n",
        "neg_ds = make_ds(neg_features, neg_labels)"
      ],
      "execution_count": 68,
      "outputs": []
    },
    {
      "cell_type": "markdown",
      "metadata": {
        "id": "RNQUx-OA-oJc"
      },
      "source": [
        "Each dataset provides `(feature, label)` pairs:"
      ]
    },
    {
      "cell_type": "code",
      "metadata": {
        "id": "llXc9rNH7Fbz",
        "outputId": "24c3dc4a-c765-4c8d-94ee-d90aebade899",
        "colab": {
          "base_uri": "https://localhost:8080/",
          "height": 153
        }
      },
      "source": [
        "for features, label in pos_ds.take(1):\n",
        "  print(\"Features:\\n\", features.numpy())\n",
        "  print()\n",
        "  print(\"Label: \", label.numpy())"
      ],
      "execution_count": 69,
      "outputs": [
        {
          "output_type": "stream",
          "text": [
            "Features:\n",
            " [-5.          5.         -5.          4.46005613 -5.         -3.46072313\n",
            " -5.          5.         -3.48385505 -5.          4.90382458 -5.\n",
            "  0.6947472  -5.         -0.04884819 -5.         -5.         -5.\n",
            "  1.20323203  2.15342733  2.3805012  -2.40423353 -1.78734922  0.24370305\n",
            "  3.19382453 -0.45843301  3.64078934  1.35902835  0.82339481]\n",
            "\n",
            "Label:  1\n"
          ],
          "name": "stdout"
        }
      ]
    },
    {
      "cell_type": "markdown",
      "metadata": {
        "id": "sLEfjZO0-vbN"
      },
      "source": [
        "Merge the two together using `experimental.sample_from_datasets`:"
      ]
    },
    {
      "cell_type": "code",
      "metadata": {
        "id": "e7w9UQPT9wzE"
      },
      "source": [
        "resampled_ds = tf.data.experimental.sample_from_datasets([pos_ds, neg_ds], weights=[0.5, 0.5])\n",
        "resampled_ds = resampled_ds.batch(BATCH_SIZE).prefetch(2)"
      ],
      "execution_count": 70,
      "outputs": []
    },
    {
      "cell_type": "code",
      "metadata": {
        "id": "EWXARdTdAuQK",
        "outputId": "2511a61d-961f-4ab0-8a0f-0eb1cc0f0706",
        "colab": {
          "base_uri": "https://localhost:8080/",
          "height": 34
        }
      },
      "source": [
        "for features, label in resampled_ds.take(1):\n",
        "  print(label.numpy().mean())"
      ],
      "execution_count": 71,
      "outputs": [
        {
          "output_type": "stream",
          "text": [
            "0.51806640625\n"
          ],
          "name": "stdout"
        }
      ]
    },
    {
      "cell_type": "markdown",
      "metadata": {
        "id": "irgqf3YxAyN0"
      },
      "source": [
        "To use this dataset, you'll need the number of steps per epoch.\n",
        "\n",
        "The definition of \"epoch\" in this case is less clear. Say it's the number of batches required to see each negative example once:"
      ]
    },
    {
      "cell_type": "code",
      "metadata": {
        "id": "xH-7K46AAxpq",
        "outputId": "18124ec5-9dee-4833-f144-8bdbcdbfb6c1",
        "colab": {
          "base_uri": "https://localhost:8080/",
          "height": 34
        }
      },
      "source": [
        "resampled_steps_per_epoch = np.ceil(2.0*neg/BATCH_SIZE)\n",
        "resampled_steps_per_epoch"
      ],
      "execution_count": 72,
      "outputs": [
        {
          "output_type": "execute_result",
          "data": {
            "text/plain": [
              "278.0"
            ]
          },
          "metadata": {
            "tags": []
          },
          "execution_count": 72
        }
      ]
    },
    {
      "cell_type": "markdown",
      "metadata": {
        "id": "XZ1BvEpcBVHP"
      },
      "source": [
        "### Train on the oversampled data\n",
        "\n",
        "Now try training the model with the resampled data set instead of using class weights to see how these methods compare.\n",
        "\n",
        "Note: Because the data was balanced by replicating the positive examples, the total dataset size is larger, and each epoch runs for more training steps. "
      ]
    },
    {
      "cell_type": "code",
      "metadata": {
        "id": "soRQ89JYqd6b",
        "outputId": "9bcb3a45-db43-4be4-c7a3-a0112d2f9343",
        "colab": {
          "base_uri": "https://localhost:8080/",
          "height": 751
        }
      },
      "source": [
        "resampled_model = make_model()\n",
        "resampled_model.load_weights(initial_weights)\n",
        "\n",
        "# Reset the bias to zero, since this dataset is balanced.\n",
        "output_layer = resampled_model.layers[-1] \n",
        "output_layer.bias.assign([0])\n",
        "\n",
        "val_ds = tf.data.Dataset.from_tensor_slices((val_features, val_labels)).cache()\n",
        "val_ds = val_ds.batch(BATCH_SIZE).prefetch(2) \n",
        "\n",
        "resampled_history = resampled_model.fit(\n",
        "    resampled_ds,\n",
        "    epochs=EPOCHS,\n",
        "    steps_per_epoch=resampled_steps_per_epoch,\n",
        "    callbacks = [early_stopping],\n",
        "    validation_data=val_ds)"
      ],
      "execution_count": 73,
      "outputs": [
        {
          "output_type": "stream",
          "text": [
            "Epoch 1/100\n",
            "278/278 [==============================] - 6s 23ms/step - loss: 0.3874 - tp: 256028.0000 - fp: 85376.0000 - tn: 256298.0000 - fn: 28604.0000 - accuracy: 0.8180 - precision: 0.7499 - recall: 0.8995 - auc: 0.9350 - val_loss: 0.2523 - val_tp: 70.0000 - val_fp: 1542.0000 - val_tn: 43950.0000 - val_fn: 7.0000 - val_accuracy: 0.9660 - val_precision: 0.0434 - val_recall: 0.9091 - val_auc: 0.9853\n",
            "Epoch 2/100\n",
            "278/278 [==============================] - 5s 20ms/step - loss: 0.2090 - tp: 260212.0000 - fp: 18549.0000 - tn: 265942.0000 - fn: 24641.0000 - accuracy: 0.9241 - precision: 0.9335 - recall: 0.9135 - auc: 0.9715 - val_loss: 0.1319 - val_tp: 70.0000 - val_fp: 1014.0000 - val_tn: 44478.0000 - val_fn: 7.0000 - val_accuracy: 0.9776 - val_precision: 0.0646 - val_recall: 0.9091 - val_auc: 0.9888\n",
            "Epoch 3/100\n",
            "278/278 [==============================] - 6s 20ms/step - loss: 0.1625 - tp: 264381.0000 - fp: 11895.0000 - tn: 272435.0000 - fn: 20633.0000 - accuracy: 0.9429 - precision: 0.9569 - recall: 0.9276 - auc: 0.9826 - val_loss: 0.0974 - val_tp: 70.0000 - val_fp: 884.0000 - val_tn: 44608.0000 - val_fn: 7.0000 - val_accuracy: 0.9804 - val_precision: 0.0734 - val_recall: 0.9091 - val_auc: 0.9895\n",
            "Epoch 4/100\n",
            "278/278 [==============================] - 6s 20ms/step - loss: 0.1417 - tp: 265760.0000 - fp: 9701.0000 - tn: 275300.0000 - fn: 18583.0000 - accuracy: 0.9503 - precision: 0.9648 - recall: 0.9346 - auc: 0.9872 - val_loss: 0.0792 - val_tp: 71.0000 - val_fp: 739.0000 - val_tn: 44753.0000 - val_fn: 6.0000 - val_accuracy: 0.9837 - val_precision: 0.0877 - val_recall: 0.9221 - val_auc: 0.9906\n",
            "Epoch 5/100\n",
            "278/278 [==============================] - 6s 20ms/step - loss: 0.1281 - tp: 267379.0000 - fp: 8820.0000 - tn: 276005.0000 - fn: 17140.0000 - accuracy: 0.9544 - precision: 0.9681 - recall: 0.9398 - auc: 0.9898 - val_loss: 0.0707 - val_tp: 72.0000 - val_fp: 727.0000 - val_tn: 44765.0000 - val_fn: 5.0000 - val_accuracy: 0.9839 - val_precision: 0.0901 - val_recall: 0.9351 - val_auc: 0.9911\n",
            "Epoch 6/100\n",
            "278/278 [==============================] - 6s 20ms/step - loss: 0.1189 - tp: 268774.0000 - fp: 8483.0000 - tn: 276069.0000 - fn: 16018.0000 - accuracy: 0.9570 - precision: 0.9694 - recall: 0.9438 - auc: 0.9915 - val_loss: 0.0637 - val_tp: 72.0000 - val_fp: 653.0000 - val_tn: 44839.0000 - val_fn: 5.0000 - val_accuracy: 0.9856 - val_precision: 0.0993 - val_recall: 0.9351 - val_auc: 0.9917\n",
            "Epoch 7/100\n",
            "278/278 [==============================] - 6s 20ms/step - loss: 0.1122 - tp: 268446.0000 - fp: 8006.0000 - tn: 277243.0000 - fn: 15649.0000 - accuracy: 0.9585 - precision: 0.9710 - recall: 0.9449 - auc: 0.9928 - val_loss: 0.0589 - val_tp: 71.0000 - val_fp: 649.0000 - val_tn: 44843.0000 - val_fn: 6.0000 - val_accuracy: 0.9856 - val_precision: 0.0986 - val_recall: 0.9221 - val_auc: 0.9919\n",
            "Epoch 8/100\n",
            "278/278 [==============================] - 6s 21ms/step - loss: 0.1058 - tp: 270296.0000 - fp: 7849.0000 - tn: 276109.0000 - fn: 15090.0000 - accuracy: 0.9597 - precision: 0.9718 - recall: 0.9471 - auc: 0.9938 - val_loss: 0.0553 - val_tp: 71.0000 - val_fp: 648.0000 - val_tn: 44844.0000 - val_fn: 6.0000 - val_accuracy: 0.9856 - val_precision: 0.0987 - val_recall: 0.9221 - val_auc: 0.9925\n",
            "Epoch 9/100\n",
            "278/278 [==============================] - 6s 20ms/step - loss: 0.1007 - tp: 270221.0000 - fp: 7569.0000 - tn: 277136.0000 - fn: 14418.0000 - accuracy: 0.9614 - precision: 0.9728 - recall: 0.9493 - auc: 0.9944 - val_loss: 0.0504 - val_tp: 72.0000 - val_fp: 606.0000 - val_tn: 44886.0000 - val_fn: 5.0000 - val_accuracy: 0.9866 - val_precision: 0.1062 - val_recall: 0.9351 - val_auc: 0.9930\n",
            "Epoch 10/100\n",
            "278/278 [==============================] - 6s 20ms/step - loss: 0.0962 - tp: 270509.0000 - fp: 7219.0000 - tn: 277527.0000 - fn: 14089.0000 - accuracy: 0.9626 - precision: 0.9740 - recall: 0.9505 - auc: 0.9950 - val_loss: 0.0473 - val_tp: 72.0000 - val_fp: 563.0000 - val_tn: 44929.0000 - val_fn: 5.0000 - val_accuracy: 0.9875 - val_precision: 0.1134 - val_recall: 0.9351 - val_auc: 0.9934\n",
            "Epoch 11/100\n",
            "278/278 [==============================] - 6s 21ms/step - loss: 0.0929 - tp: 272120.0000 - fp: 7085.0000 - tn: 276821.0000 - fn: 13318.0000 - accuracy: 0.9642 - precision: 0.9746 - recall: 0.9533 - auc: 0.9953 - val_loss: 0.0430 - val_tp: 71.0000 - val_fp: 510.0000 - val_tn: 44982.0000 - val_fn: 6.0000 - val_accuracy: 0.9887 - val_precision: 0.1222 - val_recall: 0.9221 - val_auc: 0.9931\n",
            "Epoch 12/100\n",
            "278/278 [==============================] - 6s 21ms/step - loss: 0.0886 - tp: 271781.0000 - fp: 6777.0000 - tn: 278005.0000 - fn: 12781.0000 - accuracy: 0.9656 - precision: 0.9757 - recall: 0.9551 - auc: 0.9958 - val_loss: 0.0408 - val_tp: 72.0000 - val_fp: 493.0000 - val_tn: 44999.0000 - val_fn: 5.0000 - val_accuracy: 0.9891 - val_precision: 0.1274 - val_recall: 0.9351 - val_auc: 0.9933\n",
            "Epoch 13/100\n",
            "278/278 [==============================] - 6s 20ms/step - loss: 0.0856 - tp: 271606.0000 - fp: 6657.0000 - tn: 278564.0000 - fn: 12517.0000 - accuracy: 0.9663 - precision: 0.9761 - recall: 0.9559 - auc: 0.9960 - val_loss: 0.0393 - val_tp: 72.0000 - val_fp: 494.0000 - val_tn: 44998.0000 - val_fn: 5.0000 - val_accuracy: 0.9890 - val_precision: 0.1272 - val_recall: 0.9351 - val_auc: 0.9883\n",
            "Epoch 14/100\n",
            "278/278 [==============================] - 6s 20ms/step - loss: 0.0835 - tp: 272442.0000 - fp: 6674.0000 - tn: 277972.0000 - fn: 12256.0000 - accuracy: 0.9668 - precision: 0.9761 - recall: 0.9570 - auc: 0.9962 - val_loss: 0.0371 - val_tp: 72.0000 - val_fp: 469.0000 - val_tn: 45023.0000 - val_fn: 5.0000 - val_accuracy: 0.9896 - val_precision: 0.1331 - val_recall: 0.9351 - val_auc: 0.9885\n",
            "Epoch 15/100\n",
            "278/278 [==============================] - 6s 20ms/step - loss: 0.0815 - tp: 272749.0000 - fp: 6667.0000 - tn: 277934.0000 - fn: 11994.0000 - accuracy: 0.9672 - precision: 0.9761 - recall: 0.9579 - auc: 0.9963 - val_loss: 0.0342 - val_tp: 72.0000 - val_fp: 436.0000 - val_tn: 45056.0000 - val_fn: 5.0000 - val_accuracy: 0.9903 - val_precision: 0.1417 - val_recall: 0.9351 - val_auc: 0.9886\n",
            "Epoch 16/100\n",
            "278/278 [==============================] - 6s 21ms/step - loss: 0.0796 - tp: 272351.0000 - fp: 6591.0000 - tn: 278487.0000 - fn: 11915.0000 - accuracy: 0.9675 - precision: 0.9764 - recall: 0.9581 - auc: 0.9965 - val_loss: 0.0331 - val_tp: 72.0000 - val_fp: 434.0000 - val_tn: 45058.0000 - val_fn: 5.0000 - val_accuracy: 0.9904 - val_precision: 0.1423 - val_recall: 0.9351 - val_auc: 0.9887\n",
            "Epoch 17/100\n",
            "278/278 [==============================] - 6s 20ms/step - loss: 0.0781 - tp: 273310.0000 - fp: 6564.0000 - tn: 277898.0000 - fn: 11572.0000 - accuracy: 0.9681 - precision: 0.9765 - recall: 0.9594 - auc: 0.9965 - val_loss: 0.0325 - val_tp: 72.0000 - val_fp: 414.0000 - val_tn: 45078.0000 - val_fn: 5.0000 - val_accuracy: 0.9908 - val_precision: 0.1481 - val_recall: 0.9351 - val_auc: 0.9888\n",
            "Epoch 18/100\n",
            "278/278 [==============================] - 6s 20ms/step - loss: 0.0768 - tp: 273287.0000 - fp: 6540.0000 - tn: 278366.0000 - fn: 11151.0000 - accuracy: 0.9689 - precision: 0.9766 - recall: 0.9608 - auc: 0.9967 - val_loss: 0.0303 - val_tp: 72.0000 - val_fp: 398.0000 - val_tn: 45094.0000 - val_fn: 5.0000 - val_accuracy: 0.9912 - val_precision: 0.1532 - val_recall: 0.9351 - val_auc: 0.9887\n",
            "Epoch 19/100\n",
            "278/278 [==============================] - 6s 21ms/step - loss: 0.0762 - tp: 273568.0000 - fp: 6540.0000 - tn: 278234.0000 - fn: 11002.0000 - accuracy: 0.9692 - precision: 0.9767 - recall: 0.9613 - auc: 0.9966 - val_loss: 0.0300 - val_tp: 72.0000 - val_fp: 400.0000 - val_tn: 45092.0000 - val_fn: 5.0000 - val_accuracy: 0.9911 - val_precision: 0.1525 - val_recall: 0.9351 - val_auc: 0.9890\n",
            "Epoch 20/100\n",
            "276/278 [============================>.] - ETA: 0s - loss: 0.0749 - tp: 272695.0000 - fp: 6581.0000 - tn: 275398.0000 - fn: 10574.0000 - accuracy: 0.9697 - precision: 0.9764 - recall: 0.9627 - auc: 0.9967Restoring model weights from the end of the best epoch.\n",
            "278/278 [==============================] - 6s 21ms/step - loss: 0.0749 - tp: 274635.0000 - fp: 6628.0000 - tn: 277440.0000 - fn: 10641.0000 - accuracy: 0.9697 - precision: 0.9764 - recall: 0.9627 - auc: 0.9967 - val_loss: 0.0289 - val_tp: 72.0000 - val_fp: 387.0000 - val_tn: 45105.0000 - val_fn: 5.0000 - val_accuracy: 0.9914 - val_precision: 0.1569 - val_recall: 0.9351 - val_auc: 0.9830\n",
            "Epoch 00020: early stopping\n"
          ],
          "name": "stdout"
        }
      ]
    },
    {
      "cell_type": "markdown",
      "metadata": {
        "id": "avALvzUp3T_c"
      },
      "source": [
        "If the training process were considering the whole dataset on each gradient update, this oversampling would be basically identical to the class weighting.\n",
        "\n",
        "But when training the model batch-wise, as you did here, the oversampled data provides a smoother gradient signal: Instead of each positive example being shown in one batch with a large weight, they're shown in many different batches each time with a small weight. \n",
        "\n",
        "This smoother gradient signal makes it easier to train the model."
      ]
    },
    {
      "cell_type": "markdown",
      "metadata": {
        "id": "klHZ0HV76VC5"
      },
      "source": [
        "### Check training history\n",
        "\n",
        "Note that the distributions of metrics will be different here, because the training data has a totally different distribution from the validation and test data. "
      ]
    },
    {
      "cell_type": "code",
      "metadata": {
        "id": "YoUGfr1vuivl",
        "outputId": "65264ca7-5635-4230-ba29-3649af7e6351",
        "colab": {
          "base_uri": "https://localhost:8080/",
          "height": 609
        }
      },
      "source": [
        "plot_metrics(resampled_history )"
      ],
      "execution_count": 74,
      "outputs": [
        {
          "output_type": "display_data",
          "data": {
            "image/png": "[encoded data removed]",
            "text/plain": [
              "<Figure size 864x720 with 4 Axes>"
            ]
          },
          "metadata": {
            "tags": [],
            "needs_background": "light"
          }
        }
      ]
    },
    {
      "cell_type": "markdown",
      "metadata": {
        "id": "1PuH3A2vnwrh"
      },
      "source": [
        "### Re-train\n"
      ]
    },
    {
      "cell_type": "markdown",
      "metadata": {
        "id": "KFLxRL8eoDE5"
      },
      "source": [
        "Because training is easier on the balanced data, the above training procedure may overfit quickly. \n",
        "\n",
        "So break up the epochs to give the `callbacks.EarlyStopping` finer control over when to stop training."
      ]
    },
    {
      "cell_type": "code",
      "metadata": {
        "id": "e_yn9I26qAHU",
        "outputId": "3b2a2d53-373a-46f2-ad3a-4e9d6dbd6d34",
        "colab": {
          "base_uri": "https://localhost:8080/",
          "height": 1000
        }
      },
      "source": [
        "resampled_model = make_model()\n",
        "resampled_model.load_weights(initial_weights)\n",
        "\n",
        "# Reset the bias to zero, since this dataset is balanced.\n",
        "output_layer = resampled_model.layers[-1] \n",
        "output_layer.bias.assign([0])\n",
        "\n",
        "resampled_history = resampled_model.fit(\n",
        "    resampled_ds,\n",
        "    # These are not real epochs\n",
        "    steps_per_epoch = 20,\n",
        "    epochs=10*EPOCHS,\n",
        "    callbacks = [early_stopping],\n",
        "    validation_data=(val_ds))"
      ],
      "execution_count": 75,
      "outputs": [
        {
          "output_type": "stream",
          "text": [
            "Epoch 1/1000\n",
            "20/20 [==============================] - 1s 64ms/step - loss: 0.6797 - tp: 17946.0000 - fp: 14486.0000 - tn: 51449.0000 - fn: 2648.0000 - accuracy: 0.8020 - precision: 0.5533 - recall: 0.8714 - auc: 0.9390 - val_loss: 0.9282 - val_tp: 73.0000 - val_fp: 33496.0000 - val_tn: 11996.0000 - val_fn: 4.0000 - val_accuracy: 0.2649 - val_precision: 0.0022 - val_recall: 0.9481 - val_auc: 0.9099\n",
            "Epoch 2/1000\n",
            "20/20 [==============================] - 1s 29ms/step - loss: 0.5796 - tp: 18277.0000 - fp: 12585.0000 - tn: 7940.0000 - fn: 2158.0000 - accuracy: 0.6401 - precision: 0.5922 - recall: 0.8944 - auc: 0.8617 - val_loss: 0.7964 - val_tp: 72.0000 - val_fp: 27081.0000 - val_tn: 18411.0000 - val_fn: 5.0000 - val_accuracy: 0.4056 - val_precision: 0.0027 - val_recall: 0.9351 - val_auc: 0.9326\n",
            "Epoch 3/1000\n",
            "20/20 [==============================] - 1s 28ms/step - loss: 0.5097 - tp: 18533.0000 - fp: 10807.0000 - tn: 9657.0000 - fn: 1963.0000 - accuracy: 0.6882 - precision: 0.6317 - recall: 0.9042 - auc: 0.8881 - val_loss: 0.6877 - val_tp: 71.0000 - val_fp: 20207.0000 - val_tn: 25285.0000 - val_fn: 6.0000 - val_accuracy: 0.5564 - val_precision: 0.0035 - val_recall: 0.9221 - val_auc: 0.9435\n",
            "Epoch 4/1000\n",
            "20/20 [==============================] - 1s 30ms/step - loss: 0.4578 - tp: 18416.0000 - fp: 9013.0000 - tn: 11532.0000 - fn: 1999.0000 - accuracy: 0.7312 - precision: 0.6714 - recall: 0.9021 - auc: 0.9031 - val_loss: 0.6010 - val_tp: 71.0000 - val_fp: 13871.0000 - val_tn: 31621.0000 - val_fn: 6.0000 - val_accuracy: 0.6955 - val_precision: 0.0051 - val_recall: 0.9221 - val_auc: 0.9506\n",
            "Epoch 5/1000\n",
            "20/20 [==============================] - 1s 28ms/step - loss: 0.4149 - tp: 18610.0000 - fp: 7342.0000 - tn: 13009.0000 - fn: 1999.0000 - accuracy: 0.7719 - precision: 0.7171 - recall: 0.9030 - auc: 0.9157 - val_loss: 0.5335 - val_tp: 71.0000 - val_fp: 9261.0000 - val_tn: 36231.0000 - val_fn: 6.0000 - val_accuracy: 0.7966 - val_precision: 0.0076 - val_recall: 0.9221 - val_auc: 0.9563\n",
            "Epoch 6/1000\n",
            "20/20 [==============================] - 1s 29ms/step - loss: 0.3837 - tp: 18503.0000 - fp: 6112.0000 - tn: 14383.0000 - fn: 1962.0000 - accuracy: 0.8029 - precision: 0.7517 - recall: 0.9041 - auc: 0.9261 - val_loss: 0.4781 - val_tp: 71.0000 - val_fp: 6109.0000 - val_tn: 39383.0000 - val_fn: 6.0000 - val_accuracy: 0.8658 - val_precision: 0.0115 - val_recall: 0.9221 - val_auc: 0.9607\n",
            "Epoch 7/1000\n",
            "20/20 [==============================] - 1s 29ms/step - loss: 0.3547 - tp: 18557.0000 - fp: 4856.0000 - tn: 15528.0000 - fn: 2019.0000 - accuracy: 0.8322 - precision: 0.7926 - recall: 0.9019 - auc: 0.9334 - val_loss: 0.4324 - val_tp: 71.0000 - val_fp: 4284.0000 - val_tn: 41208.0000 - val_fn: 6.0000 - val_accuracy: 0.9059 - val_precision: 0.0163 - val_recall: 0.9221 - val_auc: 0.9653\n",
            "Epoch 8/1000\n",
            "20/20 [==============================] - 1s 28ms/step - loss: 0.3331 - tp: 18560.0000 - fp: 4169.0000 - tn: 16218.0000 - fn: 2013.0000 - accuracy: 0.8491 - precision: 0.8166 - recall: 0.9022 - auc: 0.9390 - val_loss: 0.3931 - val_tp: 71.0000 - val_fp: 3109.0000 - val_tn: 42383.0000 - val_fn: 6.0000 - val_accuracy: 0.9316 - val_precision: 0.0223 - val_recall: 0.9221 - val_auc: 0.9695\n",
            "Epoch 9/1000\n",
            "20/20 [==============================] - 1s 29ms/step - loss: 0.3170 - tp: 18481.0000 - fp: 3471.0000 - tn: 16933.0000 - fn: 2075.0000 - accuracy: 0.8646 - precision: 0.8419 - recall: 0.8991 - auc: 0.9420 - val_loss: 0.3608 - val_tp: 71.0000 - val_fp: 2515.0000 - val_tn: 42977.0000 - val_fn: 6.0000 - val_accuracy: 0.9447 - val_precision: 0.0275 - val_recall: 0.9221 - val_auc: 0.9734\n",
            "Epoch 10/1000\n",
            "20/20 [==============================] - 1s 29ms/step - loss: 0.3010 - tp: 18559.0000 - fp: 3018.0000 - tn: 17395.0000 - fn: 1988.0000 - accuracy: 0.8778 - precision: 0.8601 - recall: 0.9032 - auc: 0.9471 - val_loss: 0.3347 - val_tp: 71.0000 - val_fp: 2219.0000 - val_tn: 43273.0000 - val_fn: 6.0000 - val_accuracy: 0.9512 - val_precision: 0.0310 - val_recall: 0.9221 - val_auc: 0.9775\n",
            "Epoch 11/1000\n",
            "20/20 [==============================] - 1s 29ms/step - loss: 0.2872 - tp: 18442.0000 - fp: 2658.0000 - tn: 17808.0000 - fn: 2052.0000 - accuracy: 0.8850 - precision: 0.8740 - recall: 0.8999 - auc: 0.9506 - val_loss: 0.3100 - val_tp: 71.0000 - val_fp: 1909.0000 - val_tn: 43583.0000 - val_fn: 6.0000 - val_accuracy: 0.9580 - val_precision: 0.0359 - val_recall: 0.9221 - val_auc: 0.9803\n",
            "Epoch 12/1000\n",
            "20/20 [==============================] - 1s 29ms/step - loss: 0.2769 - tp: 18416.0000 - fp: 2470.0000 - tn: 18144.0000 - fn: 1930.0000 - accuracy: 0.8926 - precision: 0.8817 - recall: 0.9051 - auc: 0.9542 - val_loss: 0.2874 - val_tp: 71.0000 - val_fp: 1730.0000 - val_tn: 43762.0000 - val_fn: 6.0000 - val_accuracy: 0.9619 - val_precision: 0.0394 - val_recall: 0.9221 - val_auc: 0.9824\n",
            "Epoch 13/1000\n",
            "20/20 [==============================] - 1s 28ms/step - loss: 0.2626 - tp: 18552.0000 - fp: 2202.0000 - tn: 18252.0000 - fn: 1954.0000 - accuracy: 0.8985 - precision: 0.8939 - recall: 0.9047 - auc: 0.9572 - val_loss: 0.2687 - val_tp: 70.0000 - val_fp: 1650.0000 - val_tn: 43842.0000 - val_fn: 7.0000 - val_accuracy: 0.9636 - val_precision: 0.0407 - val_recall: 0.9091 - val_auc: 0.9841\n",
            "Epoch 14/1000\n",
            "20/20 [==============================] - 1s 28ms/step - loss: 0.2579 - tp: 18447.0000 - fp: 1991.0000 - tn: 18557.0000 - fn: 1965.0000 - accuracy: 0.9034 - precision: 0.9026 - recall: 0.9037 - auc: 0.9580 - val_loss: 0.2508 - val_tp: 70.0000 - val_fp: 1542.0000 - val_tn: 43950.0000 - val_fn: 7.0000 - val_accuracy: 0.9660 - val_precision: 0.0434 - val_recall: 0.9091 - val_auc: 0.9852\n",
            "Epoch 15/1000\n",
            "20/20 [==============================] - 1s 29ms/step - loss: 0.2443 - tp: 18534.0000 - fp: 1903.0000 - tn: 18637.0000 - fn: 1886.0000 - accuracy: 0.9075 - precision: 0.9069 - recall: 0.9076 - auc: 0.9623 - val_loss: 0.2352 - val_tp: 70.0000 - val_fp: 1458.0000 - val_tn: 44034.0000 - val_fn: 7.0000 - val_accuracy: 0.9679 - val_precision: 0.0458 - val_recall: 0.9091 - val_auc: 0.9859\n",
            "Epoch 16/1000\n",
            "20/20 [==============================] - 1s 29ms/step - loss: 0.2391 - tp: 18421.0000 - fp: 1721.0000 - tn: 18911.0000 - fn: 1907.0000 - accuracy: 0.9114 - precision: 0.9146 - recall: 0.9062 - auc: 0.9634 - val_loss: 0.2209 - val_tp: 70.0000 - val_fp: 1371.0000 - val_tn: 44121.0000 - val_fn: 7.0000 - val_accuracy: 0.9698 - val_precision: 0.0486 - val_recall: 0.9091 - val_auc: 0.9865\n",
            "Epoch 17/1000\n",
            "20/20 [==============================] - 1s 30ms/step - loss: 0.2318 - tp: 18731.0000 - fp: 1582.0000 - tn: 18743.0000 - fn: 1904.0000 - accuracy: 0.9149 - precision: 0.9221 - recall: 0.9077 - auc: 0.9649 - val_loss: 0.2102 - val_tp: 70.0000 - val_fp: 1359.0000 - val_tn: 44133.0000 - val_fn: 7.0000 - val_accuracy: 0.9700 - val_precision: 0.0490 - val_recall: 0.9091 - val_auc: 0.9869\n",
            "Epoch 18/1000\n",
            "20/20 [==============================] - 1s 29ms/step - loss: 0.2254 - tp: 18804.0000 - fp: 1585.0000 - tn: 18720.0000 - fn: 1851.0000 - accuracy: 0.9161 - precision: 0.9223 - recall: 0.9104 - auc: 0.9671 - val_loss: 0.2005 - val_tp: 70.0000 - val_fp: 1346.0000 - val_tn: 44146.0000 - val_fn: 7.0000 - val_accuracy: 0.9703 - val_precision: 0.0494 - val_recall: 0.9091 - val_auc: 0.9875\n",
            "Epoch 19/1000\n",
            "20/20 [==============================] - 1s 30ms/step - loss: 0.2199 - tp: 18647.0000 - fp: 1452.0000 - tn: 19040.0000 - fn: 1821.0000 - accuracy: 0.9201 - precision: 0.9278 - recall: 0.9110 - auc: 0.9687 - val_loss: 0.1907 - val_tp: 70.0000 - val_fp: 1305.0000 - val_tn: 44187.0000 - val_fn: 7.0000 - val_accuracy: 0.9712 - val_precision: 0.0509 - val_recall: 0.9091 - val_auc: 0.9876\n",
            "Epoch 20/1000\n",
            "20/20 [==============================] - 1s 29ms/step - loss: 0.2144 - tp: 18595.0000 - fp: 1334.0000 - tn: 19192.0000 - fn: 1839.0000 - accuracy: 0.9225 - precision: 0.9331 - recall: 0.9100 - auc: 0.9703 - val_loss: 0.1815 - val_tp: 70.0000 - val_fp: 1287.0000 - val_tn: 44205.0000 - val_fn: 7.0000 - val_accuracy: 0.9716 - val_precision: 0.0516 - val_recall: 0.9091 - val_auc: 0.9877\n",
            "Epoch 21/1000\n",
            "20/20 [==============================] - 1s 30ms/step - loss: 0.2078 - tp: 18588.0000 - fp: 1318.0000 - tn: 19265.0000 - fn: 1789.0000 - accuracy: 0.9241 - precision: 0.9338 - recall: 0.9122 - auc: 0.9720 - val_loss: 0.1731 - val_tp: 70.0000 - val_fp: 1251.0000 - val_tn: 44241.0000 - val_fn: 7.0000 - val_accuracy: 0.9724 - val_precision: 0.0530 - val_recall: 0.9091 - val_auc: 0.9880\n",
            "Epoch 22/1000\n",
            "20/20 [==============================] - 1s 30ms/step - loss: 0.2041 - tp: 18840.0000 - fp: 1245.0000 - tn: 19130.0000 - fn: 1745.0000 - accuracy: 0.9270 - precision: 0.9380 - recall: 0.9152 - auc: 0.9727 - val_loss: 0.1652 - val_tp: 70.0000 - val_fp: 1217.0000 - val_tn: 44275.0000 - val_fn: 7.0000 - val_accuracy: 0.9731 - val_precision: 0.0544 - val_recall: 0.9091 - val_auc: 0.9882\n",
            "Epoch 23/1000\n",
            "20/20 [==============================] - 1s 29ms/step - loss: 0.1984 - tp: 18837.0000 - fp: 1203.0000 - tn: 19186.0000 - fn: 1734.0000 - accuracy: 0.9283 - precision: 0.9400 - recall: 0.9157 - auc: 0.9741 - val_loss: 0.1587 - val_tp: 70.0000 - val_fp: 1166.0000 - val_tn: 44326.0000 - val_fn: 7.0000 - val_accuracy: 0.9743 - val_precision: 0.0566 - val_recall: 0.9091 - val_auc: 0.9887\n",
            "Epoch 24/1000\n",
            "20/20 [==============================] - 1s 29ms/step - loss: 0.1942 - tp: 18781.0000 - fp: 1109.0000 - tn: 19380.0000 - fn: 1690.0000 - accuracy: 0.9317 - precision: 0.9442 - recall: 0.9174 - auc: 0.9748 - val_loss: 0.1535 - val_tp: 70.0000 - val_fp: 1161.0000 - val_tn: 44331.0000 - val_fn: 7.0000 - val_accuracy: 0.9744 - val_precision: 0.0569 - val_recall: 0.9091 - val_auc: 0.9887\n",
            "Epoch 25/1000\n",
            "20/20 [==============================] - 1s 29ms/step - loss: 0.1926 - tp: 18882.0000 - fp: 1163.0000 - tn: 19250.0000 - fn: 1665.0000 - accuracy: 0.9310 - precision: 0.9420 - recall: 0.9190 - auc: 0.9755 - val_loss: 0.1477 - val_tp: 70.0000 - val_fp: 1125.0000 - val_tn: 44367.0000 - val_fn: 7.0000 - val_accuracy: 0.9752 - val_precision: 0.0586 - val_recall: 0.9091 - val_auc: 0.9887\n",
            "Epoch 26/1000\n",
            "20/20 [==============================] - 1s 28ms/step - loss: 0.1860 - tp: 18993.0000 - fp: 1050.0000 - tn: 19262.0000 - fn: 1655.0000 - accuracy: 0.9340 - precision: 0.9476 - recall: 0.9198 - auc: 0.9770 - val_loss: 0.1422 - val_tp: 70.0000 - val_fp: 1101.0000 - val_tn: 44391.0000 - val_fn: 7.0000 - val_accuracy: 0.9757 - val_precision: 0.0598 - val_recall: 0.9091 - val_auc: 0.9888\n",
            "Epoch 27/1000\n",
            "20/20 [==============================] - 1s 29ms/step - loss: 0.1823 - tp: 18842.0000 - fp: 1064.0000 - tn: 19424.0000 - fn: 1630.0000 - accuracy: 0.9342 - precision: 0.9465 - recall: 0.9204 - auc: 0.9781 - val_loss: 0.1374 - val_tp: 70.0000 - val_fp: 1075.0000 - val_tn: 44417.0000 - val_fn: 7.0000 - val_accuracy: 0.9763 - val_precision: 0.0611 - val_recall: 0.9091 - val_auc: 0.9886\n",
            "Epoch 28/1000\n",
            "20/20 [==============================] - 1s 29ms/step - loss: 0.1801 - tp: 18804.0000 - fp: 962.0000 - tn: 19596.0000 - fn: 1598.0000 - accuracy: 0.9375 - precision: 0.9513 - recall: 0.9217 - auc: 0.9786 - val_loss: 0.1330 - val_tp: 70.0000 - val_fp: 1059.0000 - val_tn: 44433.0000 - val_fn: 7.0000 - val_accuracy: 0.9766 - val_precision: 0.0620 - val_recall: 0.9091 - val_auc: 0.9886\n",
            "Epoch 29/1000\n",
            "20/20 [==============================] - 1s 28ms/step - loss: 0.1791 - tp: 18973.0000 - fp: 1005.0000 - tn: 19371.0000 - fn: 1611.0000 - accuracy: 0.9361 - precision: 0.9497 - recall: 0.9217 - auc: 0.9787 - val_loss: 0.1288 - val_tp: 70.0000 - val_fp: 1020.0000 - val_tn: 44472.0000 - val_fn: 7.0000 - val_accuracy: 0.9775 - val_precision: 0.0642 - val_recall: 0.9091 - val_auc: 0.9886\n",
            "Epoch 30/1000\n",
            "20/20 [==============================] - 1s 29ms/step - loss: 0.1749 - tp: 18876.0000 - fp: 953.0000 - tn: 19599.0000 - fn: 1532.0000 - accuracy: 0.9393 - precision: 0.9519 - recall: 0.9249 - auc: 0.9797 - val_loss: 0.1254 - val_tp: 70.0000 - val_fp: 1020.0000 - val_tn: 44472.0000 - val_fn: 7.0000 - val_accuracy: 0.9775 - val_precision: 0.0642 - val_recall: 0.9091 - val_auc: 0.9885\n",
            "Epoch 31/1000\n",
            "20/20 [==============================] - 1s 28ms/step - loss: 0.1712 - tp: 18810.0000 - fp: 915.0000 - tn: 19689.0000 - fn: 1546.0000 - accuracy: 0.9399 - precision: 0.9536 - recall: 0.9241 - auc: 0.9806 - val_loss: 0.1222 - val_tp: 70.0000 - val_fp: 1025.0000 - val_tn: 44467.0000 - val_fn: 7.0000 - val_accuracy: 0.9774 - val_precision: 0.0639 - val_recall: 0.9091 - val_auc: 0.9884\n",
            "Epoch 32/1000\n",
            "20/20 [==============================] - 1s 29ms/step - loss: 0.1688 - tp: 19052.0000 - fp: 868.0000 - tn: 19481.0000 - fn: 1559.0000 - accuracy: 0.9407 - precision: 0.9564 - recall: 0.9244 - auc: 0.9809 - val_loss: 0.1194 - val_tp: 70.0000 - val_fp: 1018.0000 - val_tn: 44474.0000 - val_fn: 7.0000 - val_accuracy: 0.9775 - val_precision: 0.0643 - val_recall: 0.9091 - val_auc: 0.9884\n",
            "Epoch 33/1000\n",
            "20/20 [==============================] - 1s 28ms/step - loss: 0.1672 - tp: 18975.0000 - fp: 893.0000 - tn: 19595.0000 - fn: 1497.0000 - accuracy: 0.9417 - precision: 0.9551 - recall: 0.9269 - auc: 0.9815 - val_loss: 0.1166 - val_tp: 70.0000 - val_fp: 1005.0000 - val_tn: 44487.0000 - val_fn: 7.0000 - val_accuracy: 0.9778 - val_precision: 0.0651 - val_recall: 0.9091 - val_auc: 0.9883\n",
            "Epoch 34/1000\n",
            "20/20 [==============================] - 1s 29ms/step - loss: 0.1614 - tp: 18885.0000 - fp: 900.0000 - tn: 19697.0000 - fn: 1478.0000 - accuracy: 0.9419 - precision: 0.9545 - recall: 0.9274 - auc: 0.9828 - val_loss: 0.1130 - val_tp: 70.0000 - val_fp: 968.0000 - val_tn: 44524.0000 - val_fn: 7.0000 - val_accuracy: 0.9786 - val_precision: 0.0674 - val_recall: 0.9091 - val_auc: 0.9884\n",
            "Epoch 35/1000\n",
            "20/20 [==============================] - 1s 29ms/step - loss: 0.1632 - tp: 18995.0000 - fp: 858.0000 - tn: 19649.0000 - fn: 1458.0000 - accuracy: 0.9435 - precision: 0.9568 - recall: 0.9287 - auc: 0.9820 - val_loss: 0.1105 - val_tp: 70.0000 - val_fp: 948.0000 - val_tn: 44544.0000 - val_fn: 7.0000 - val_accuracy: 0.9790 - val_precision: 0.0688 - val_recall: 0.9091 - val_auc: 0.9881\n",
            "Epoch 36/1000\n",
            "19/20 [===========================>..] - ETA: 0s - loss: 0.1603 - tp: 17903.0000 - fp: 796.0000 - tn: 18818.0000 - fn: 1395.0000 - accuracy: 0.9437 - precision: 0.9574 - recall: 0.9277 - auc: 0.9830Restoring model weights from the end of the best epoch.\n",
            "20/20 [==============================] - 1s 29ms/step - loss: 0.1609 - tp: 18882.0000 - fp: 844.0000 - tn: 19764.0000 - fn: 1470.0000 - accuracy: 0.9435 - precision: 0.9572 - recall: 0.9278 - auc: 0.9828 - val_loss: 0.1075 - val_tp: 70.0000 - val_fp: 915.0000 - val_tn: 44577.0000 - val_fn: 7.0000 - val_accuracy: 0.9798 - val_precision: 0.0711 - val_recall: 0.9091 - val_auc: 0.9885\n",
            "Epoch 00036: early stopping\n"
          ],
          "name": "stdout"
        }
      ]
    },
    {
      "cell_type": "markdown",
      "metadata": {
        "id": "UuJYKv0gpBK1"
      },
      "source": [
        "### Re-check training history"
      ]
    },
    {
      "cell_type": "code",
      "metadata": {
        "id": "FMycrpJwn39w",
        "outputId": "cd7a6be8-1579-4f21-a2ad-a78e05ad7287",
        "colab": {
          "base_uri": "https://localhost:8080/",
          "height": 609
        }
      },
      "source": [
        "plot_metrics(resampled_history)"
      ],
      "execution_count": 76,
      "outputs": [
        {
          "output_type": "display_data",
          "data": {
            "image/png": "[encoded data removed]",
            "text/plain": [
              "<Figure size 864x720 with 4 Axes>"
            ]
          },
          "metadata": {
            "tags": [],
            "needs_background": "light"
          }
        }
      ]
    },
    {
      "cell_type": "markdown",
      "metadata": {
        "id": "bUuE5HOWZiwP"
      },
      "source": [
        "### Evaluate metrics"
      ]
    },
    {
      "cell_type": "code",
      "metadata": {
        "id": "C0fmHSgXxFdW"
      },
      "source": [
        "train_predictions_resampled = resampled_model.predict(train_features, batch_size=BATCH_SIZE)\n",
        "test_predictions_resampled = resampled_model.predict(test_features, batch_size=BATCH_SIZE)"
      ],
      "execution_count": 77,
      "outputs": []
    },
    {
      "cell_type": "code",
      "metadata": {
        "id": "FO0mMOYUDWFk",
        "outputId": "2a6b48d6-1143-4d49-a7df-245646f559f2",
        "colab": {
          "base_uri": "https://localhost:8080/",
          "height": 605
        }
      },
      "source": [
        "resampled_results = resampled_model.evaluate(test_features, test_labels,\n",
        "                                             batch_size=BATCH_SIZE, verbose=0)\n",
        "for name, value in zip(resampled_model.metrics_names, resampled_results):\n",
        "  print(name, ': ', value)\n",
        "print()\n",
        "\n",
        "plot_cm(test_labels, test_predictions_resampled)"
      ],
      "execution_count": 78,
      "outputs": [
        {
          "output_type": "stream",
          "text": [
            "loss :  0.14161184430122375\n",
            "tp :  92.0\n",
            "fp :  1377.0\n",
            "tn :  55486.0\n",
            "fn :  7.0\n",
            "accuracy :  0.9757031202316284\n",
            "precision :  0.0626276358962059\n",
            "recall :  0.9292929172515869\n",
            "auc :  0.9924299120903015\n",
            "\n",
            "Legitimate Transactions Detected (True Negatives):  55486\n",
            "Legitimate Transactions Incorrectly Detected (False Positives):  1377\n",
            "Fraudulent Transactions Missed (False Negatives):  7\n",
            "Fraudulent Transactions Detected (True Positives):  92\n",
            "Total Fraudulent Transactions:  99\n"
          ],
          "name": "stdout"
        },
        {
          "output_type": "display_data",
          "data": {
            "image/png": "[encoded data removed]",
            "text/plain": [
              "<Figure size 360x360 with 2 Axes>"
            ]
          },
          "metadata": {
            "tags": [],
            "needs_background": "light"
          }
        }
      ]
    },
    {
      "cell_type": "markdown",
      "metadata": {
        "id": "_xYozM1IIITq"
      },
      "source": [
        "### Plot the ROC"
      ]
    },
    {
      "cell_type": "code",
      "metadata": {
        "id": "fye_CiuYrZ1U",
        "outputId": "afa7ff3e-9833-4c5f-bd86-6549983e8fa6",
        "colab": {
          "base_uri": "https://localhost:8080/",
          "height": 623
        }
      },
      "source": [
        "plot_roc(\"Train Baseline\", train_labels, train_predictions_baseline, color=colors[0])\n",
        "plot_roc(\"Test Baseline\", test_labels, test_predictions_baseline, color=colors[0], linestyle='--')\n",
        "\n",
        "plot_roc(\"Train Weighted\", train_labels, train_predictions_weighted, color=colors[1])\n",
        "plot_roc(\"Test Weighted\", test_labels, test_predictions_weighted, color=colors[1], linestyle='--')\n",
        "\n",
        "plot_roc(\"Train Resampled\", train_labels, train_predictions_resampled,  color=colors[2])\n",
        "plot_roc(\"Test Resampled\", test_labels, test_predictions_resampled,  color=colors[2], linestyle='--')\n",
        "plt.legend(loc='lower right')"
      ],
      "execution_count": 79,
      "outputs": [
        {
          "output_type": "execute_result",
          "data": {
            "text/plain": [
              "<matplotlib.legend.Legend at 0x7fbb7af23a90>"
            ]
          },
          "metadata": {
            "tags": []
          },
          "execution_count": 79
        },
        {
          "output_type": "display_data",
          "data": {
            "image/png": "[encoded data removed]",
            "text/plain": [
              "<Figure size 864x720 with 1 Axes>"
            ]
          },
          "metadata": {
            "tags": [],
            "needs_background": "light"
          }
        }
      ]
    },
    {
      "cell_type": "markdown",
      "metadata": {
        "id": "3o3f0ywl8uqW"
      },
      "source": [
        "## Applying this tutorial to your problem\n",
        "\n",
        "Imbalanced data classification is an inherently difficult task since there are so few samples to learn from. You should always start with the data first and do your best to collect as many samples as possible and give substantial thought to what features may be relevant so the model can get the most out of your minority class. At some point your model may struggle to improve and yield the results you want, so it is important to keep in mind the context of your problem and the trade offs between different types of errors."
      ]
    },
    {
      "cell_type": "code",
      "metadata": {
        "id": "7icprSYMqore"
      },
      "source": [
        ""
      ],
      "execution_count": null,
      "outputs": []
    }
  ]
}