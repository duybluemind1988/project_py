{
  "nbformat": 4,
  "nbformat_minor": 0,
  "metadata": {
    "colab": {
      "name": "preprocessing_layers.ipynb",
      "provenance": [],
      "collapsed_sections": []
    },
    "kernelspec": {
      "display_name": "Python 3",
      "name": "python3"
    }
  },
  "cells": [
    {
      "cell_type": "markdown",
      "metadata": {
        "id": "zg02FZzDyEqd"
      },
      "source": [
        "##### Copyright 2019 The TensorFlow Authors.\n"
      ]
    },
    {
      "cell_type": "code",
      "metadata": {
        "cellView": "form",
        "id": "2mapZ9afGJ69"
      },
      "source": [
        "#@title Licensed under the Apache License, Version 2.0 (the \"License\");\n",
        "# you may not use this file except in compliance with the License.\n",
        "# You may obtain a copy of the License at\n",
        "#\n",
        "# https://www.apache.org/licenses/LICENSE-2.0\n",
        "#\n",
        "# Unless required by applicable law or agreed to in writing, software\n",
        "# distributed under the License is distributed on an \"AS IS\" BASIS,\n",
        "# WITHOUT WARRANTIES OR CONDITIONS OF ANY KIND, either express or implied.\n",
        "# See the License for the specific language governing permissions and\n",
        "# limitations under the License."
      ],
      "execution_count": 62,
      "outputs": []
    },
    {
      "cell_type": "markdown",
      "metadata": {
        "id": "sMYQvJuBi7MS"
      },
      "source": [
        "# Classify structured data using Keras Preprocessing Layers"
      ]
    },
    {
      "cell_type": "markdown",
      "metadata": {
        "id": "8FaL4wnr22oy"
      },
      "source": [
        "<table class=\"tfo-notebook-buttons\" align=\"left\">\n",
        "  <td>\n",
        "    <a target=\"_blank\" href=\"https://www.tensorflow.org/tutorials/structured_data/preprocessing_layers\">\n",
        "    <img src=\"https://www.tensorflow.org/images/tf_logo_32px.png\" />\n",
        "    View on TensorFlow.org</a>\n",
        "  </td>\n",
        "  <td>\n",
        "    <a target=\"_blank\" href=\"https://colab.research.google.com/github/tensorflow/docs/blob/master/site/en/tutorials/structured_data/preprocessing_layers.ipynb\">\n",
        "    <img src=\"https://www.tensorflow.org/images/colab_logo_32px.png\" />\n",
        "    Run in Google Colab</a>\n",
        "  </td>\n",
        "  <td>\n",
        "    <a target=\"_blank\" href=\"https://github.com/tensorflow/docs/blob/master/site/en/tutorials/structured_data/preprocessing_layers.ipynb\">\n",
        "    <img src=\"https://www.tensorflow.org/images/GitHub-Mark-32px.png\" />\n",
        "    View source on GitHub</a>\n",
        "  </td>\n",
        "  <td>\n",
        "    <a href=\"https://storage.googleapis.com/tensorflow_docs/docs/site/en/tutorials/structured_data/preprocessing_layers.ipynb\"><img src=\"https://www.tensorflow.org/images/download_logo_32px.png\" />Download notebook</a>\n",
        "  </td>\n",
        "</table>"
      ]
    },
    {
      "cell_type": "markdown",
      "metadata": {
        "id": "Nna1tOKxyEqe"
      },
      "source": [
        "This tutorial demonstrates how to classify structured data (e.g. tabular data in a CSV). You will use [Keras](https://www.tensorflow.org/guide/keras) to define the model, and [preprocessing layers](https://keras.io/guides/preprocessing_layers/) as a bridge to map from columns in a CSV to features used to train the model. This tutorial contains complete code to:\n",
        "\n",
        "* Load a CSV file using [Pandas](https://pandas.pydata.org/).\n",
        "* Build an input pipeline to batch and shuffle the rows using [tf.data](https://www.tensorflow.org/guide/datasets).\n",
        "* Map from columns in the CSV to features used to train the model using Keras Preprocessing layers.\n",
        "* Build, train, and evaluate a model using Keras."
      ]
    },
    {
      "cell_type": "markdown",
      "metadata": {
        "id": "h5xkXCicjFQD"
      },
      "source": [
        "Note: This tutorial is similar to [Classify structured data with feature columns](https://www.tensorflow.org/tutorials/structured_data/feature_columns). This version uses new experimental Keras [Preprocessing Layers](https://www.tensorflow.org/api_docs/python/tf/keras/layers/experimental/preprocessing) instead of `tf.feature_column`. Keras Preprocessing Layers are more intuitive, and can be easily included inside your model to simplify deployment."
      ]
    },
    {
      "cell_type": "markdown",
      "metadata": {
        "id": "ZHxU1FMNpomc"
      },
      "source": [
        "## The Dataset\n",
        "\n",
        "You will use a simplified version of the PetFinder [dataset](https://www.kaggle.com/c/petfinder-adoption-prediction). There are several thousand rows in the CSV. Each row describes a pet, and each column describes an attribute. You will use this information to predict if the pet will be adopted.\n",
        "\n",
        "Following is a description of this dataset. Notice there are both numeric and categorical columns. There is a free text column which you will not use in this tutorial.\n",
        "\n",
        "Column | Description| Feature Type | Data Type\n",
        "------------|--------------------|----------------------|-----------------\n",
        "Type | Type of animal (Dog, Cat) | Categorical | string\n",
        "Age |  Age of the pet | Numerical | integer\n",
        "Breed1 | Primary breed of the pet | Categorical | string\n",
        "Color1 | Color 1 of pet | Categorical | string\n",
        "Color2 | Color 2 of pet | Categorical | string\n",
        "MaturitySize | Size at maturity | Categorical | string\n",
        "FurLength | Fur length | Categorical | string\n",
        "Vaccinated | Pet has been vaccinated | Categorical | string\n",
        "Sterilized | Pet has been sterilized | Categorical | string\n",
        "Health | Health Condition | Categorical | string\n",
        "Fee | Adoption Fee | Numerical | integer\n",
        "Description | Profile write-up for this pet | Text | string\n",
        "PhotoAmt | Total uploaded photos for this pet | Numerical | integer\n",
        "AdoptionSpeed | Speed of adoption | Classification | integer"
      ]
    },
    {
      "cell_type": "markdown",
      "metadata": {
        "id": "vjFbdBldyEqf"
      },
      "source": [
        "## Import TensorFlow and other libraries\n"
      ]
    },
    {
      "cell_type": "code",
      "metadata": {
        "id": "S_BdyQlPjfDW"
      },
      "source": [
        "!pip install -q sklearn"
      ],
      "execution_count": 63,
      "outputs": []
    },
    {
      "cell_type": "code",
      "metadata": {
        "id": "LklnLlt6yEqf"
      },
      "source": [
        "import numpy as np\n",
        "import pandas as pd\n",
        "import tensorflow as tf\n",
        "\n",
        "from sklearn.model_selection import train_test_split\n",
        "from tensorflow.keras import layers\n",
        "from tensorflow.keras.layers.experimental import preprocessing"
      ],
      "execution_count": 64,
      "outputs": []
    },
    {
      "cell_type": "markdown",
      "metadata": {
        "id": "UXvBvobayEqi"
      },
      "source": [
        "## Use Pandas to create a dataframe\n",
        "\n",
        "[Pandas](https://pandas.pydata.org/) is a Python library with many helpful utilities for loading and working with structured data. You will use Pandas to download the dataset from a URL, and load it into a dataframe."
      ]
    },
    {
      "cell_type": "code",
      "metadata": {
        "id": "qJ4Ajn-YyEqj"
      },
      "source": [
        "import pathlib\n",
        "\n",
        "dataset_url = 'http://storage.googleapis.com/download.tensorflow.org/data/petfinder-mini.zip'\n",
        "csv_file = 'datasets/petfinder-mini/petfinder-mini.csv'\n",
        "\n",
        "tf.keras.utils.get_file('petfinder_mini.zip', dataset_url,\n",
        "                        extract=True, cache_dir='.')\n",
        "dataframe = pd.read_csv(csv_file)"
      ],
      "execution_count": 65,
      "outputs": []
    },
    {
      "cell_type": "code",
      "metadata": {
        "id": "3uiq4hoIGyXI",
        "outputId": "e31ab4a5-5f2a-4a07-9303-0bd6cf1df7ec",
        "colab": {
          "base_uri": "https://localhost:8080/",
          "height": 479
        }
      },
      "source": [
        "dataframe.head()"
      ],
      "execution_count": 66,
      "outputs": [
        {
          "output_type": "execute_result",
          "data": {
            "text/html": [
              "<div>\n",
              "<style scoped>\n",
              "    .dataframe tbody tr th:only-of-type {\n",
              "        vertical-align: middle;\n",
              "    }\n",
              "\n",
              "    .dataframe tbody tr th {\n",
              "        vertical-align: top;\n",
              "    }\n",
              "\n",
              "    .dataframe thead th {\n",
              "        text-align: right;\n",
              "    }\n",
              "</style>\n",
              "<table border=\"1\" class=\"dataframe\">\n",
              "  <thead>\n",
              "    <tr style=\"text-align: right;\">\n",
              "      <th></th>\n",
              "      <th>Type</th>\n",
              "      <th>Age</th>\n",
              "      <th>Breed1</th>\n",
              "      <th>Gender</th>\n",
              "      <th>Color1</th>\n",
              "      <th>Color2</th>\n",
              "      <th>MaturitySize</th>\n",
              "      <th>FurLength</th>\n",
              "      <th>Vaccinated</th>\n",
              "      <th>Sterilized</th>\n",
              "      <th>Health</th>\n",
              "      <th>Fee</th>\n",
              "      <th>Description</th>\n",
              "      <th>PhotoAmt</th>\n",
              "      <th>AdoptionSpeed</th>\n",
              "    </tr>\n",
              "  </thead>\n",
              "  <tbody>\n",
              "    <tr>\n",
              "      <th>0</th>\n",
              "      <td>Cat</td>\n",
              "      <td>3</td>\n",
              "      <td>Tabby</td>\n",
              "      <td>Male</td>\n",
              "      <td>Black</td>\n",
              "      <td>White</td>\n",
              "      <td>Small</td>\n",
              "      <td>Short</td>\n",
              "      <td>No</td>\n",
              "      <td>No</td>\n",
              "      <td>Healthy</td>\n",
              "      <td>100</td>\n",
              "      <td>Nibble is a 3+ month old ball of cuteness. He ...</td>\n",
              "      <td>1</td>\n",
              "      <td>2</td>\n",
              "    </tr>\n",
              "    <tr>\n",
              "      <th>1</th>\n",
              "      <td>Cat</td>\n",
              "      <td>1</td>\n",
              "      <td>Domestic Medium Hair</td>\n",
              "      <td>Male</td>\n",
              "      <td>Black</td>\n",
              "      <td>Brown</td>\n",
              "      <td>Medium</td>\n",
              "      <td>Medium</td>\n",
              "      <td>Not Sure</td>\n",
              "      <td>Not Sure</td>\n",
              "      <td>Healthy</td>\n",
              "      <td>0</td>\n",
              "      <td>I just found it alone yesterday near my apartm...</td>\n",
              "      <td>2</td>\n",
              "      <td>0</td>\n",
              "    </tr>\n",
              "    <tr>\n",
              "      <th>2</th>\n",
              "      <td>Dog</td>\n",
              "      <td>1</td>\n",
              "      <td>Mixed Breed</td>\n",
              "      <td>Male</td>\n",
              "      <td>Brown</td>\n",
              "      <td>White</td>\n",
              "      <td>Medium</td>\n",
              "      <td>Medium</td>\n",
              "      <td>Yes</td>\n",
              "      <td>No</td>\n",
              "      <td>Healthy</td>\n",
              "      <td>0</td>\n",
              "      <td>Their pregnant mother was dumped by her irresp...</td>\n",
              "      <td>7</td>\n",
              "      <td>3</td>\n",
              "    </tr>\n",
              "    <tr>\n",
              "      <th>3</th>\n",
              "      <td>Dog</td>\n",
              "      <td>4</td>\n",
              "      <td>Mixed Breed</td>\n",
              "      <td>Female</td>\n",
              "      <td>Black</td>\n",
              "      <td>Brown</td>\n",
              "      <td>Medium</td>\n",
              "      <td>Short</td>\n",
              "      <td>Yes</td>\n",
              "      <td>No</td>\n",
              "      <td>Healthy</td>\n",
              "      <td>150</td>\n",
              "      <td>Good guard dog, very alert, active, obedience ...</td>\n",
              "      <td>8</td>\n",
              "      <td>2</td>\n",
              "    </tr>\n",
              "    <tr>\n",
              "      <th>4</th>\n",
              "      <td>Dog</td>\n",
              "      <td>1</td>\n",
              "      <td>Mixed Breed</td>\n",
              "      <td>Male</td>\n",
              "      <td>Black</td>\n",
              "      <td>No Color</td>\n",
              "      <td>Medium</td>\n",
              "      <td>Short</td>\n",
              "      <td>No</td>\n",
              "      <td>No</td>\n",
              "      <td>Healthy</td>\n",
              "      <td>0</td>\n",
              "      <td>This handsome yet cute boy is up for adoption....</td>\n",
              "      <td>3</td>\n",
              "      <td>2</td>\n",
              "    </tr>\n",
              "  </tbody>\n",
              "</table>\n",
              "</div>"
            ],
            "text/plain": [
              "  Type  Age  ... PhotoAmt AdoptionSpeed\n",
              "0  Cat    3  ...        1             2\n",
              "1  Cat    1  ...        2             0\n",
              "2  Dog    1  ...        7             3\n",
              "3  Dog    4  ...        8             2\n",
              "4  Dog    1  ...        3             2\n",
              "\n",
              "[5 rows x 15 columns]"
            ]
          },
          "metadata": {
            "tags": []
          },
          "execution_count": 66
        }
      ]
    },
    {
      "cell_type": "markdown",
      "metadata": {
        "id": "C3zDbrozyEqq"
      },
      "source": [
        "## Create target variable\n",
        "\n",
        "The task in the Kaggle competition is to predict the speed at which a pet will be adopted (e.g., in the first week, the first month, the first three months, and so on). Let's simplify this for our tutorial. Here, you will transform this into a binary classification problem, and simply predict whether the pet was adopted, or not.\n",
        "\n",
        "After modifying the label column, 0 will indicate the pet was not adopted, and 1 will indicate it was."
      ]
    },
    {
      "cell_type": "code",
      "metadata": {
        "id": "wmMDc46-yEqq"
      },
      "source": [
        "# In the original dataset \"4\" indicates the pet was not adopted.\n",
        "dataframe['target'] = np.where(dataframe['AdoptionSpeed']==4, 0, 1)\n",
        "\n",
        "# Drop un-used columns.\n",
        "dataframe = dataframe.drop(columns=['AdoptionSpeed', 'Description'])"
      ],
      "execution_count": 67,
      "outputs": []
    },
    {
      "cell_type": "code",
      "metadata": {
        "id": "NHCmM-rVqgv4",
        "outputId": "3cefaed6-53c9-46a8-fd50-326cea096cdc",
        "colab": {
          "base_uri": "https://localhost:8080/",
          "height": 309
        }
      },
      "source": [
        "dataframe.head()"
      ],
      "execution_count": 68,
      "outputs": [
        {
          "output_type": "execute_result",
          "data": {
            "text/html": [
              "<div>\n",
              "<style scoped>\n",
              "    .dataframe tbody tr th:only-of-type {\n",
              "        vertical-align: middle;\n",
              "    }\n",
              "\n",
              "    .dataframe tbody tr th {\n",
              "        vertical-align: top;\n",
              "    }\n",
              "\n",
              "    .dataframe thead th {\n",
              "        text-align: right;\n",
              "    }\n",
              "</style>\n",
              "<table border=\"1\" class=\"dataframe\">\n",
              "  <thead>\n",
              "    <tr style=\"text-align: right;\">\n",
              "      <th></th>\n",
              "      <th>Type</th>\n",
              "      <th>Age</th>\n",
              "      <th>Breed1</th>\n",
              "      <th>Gender</th>\n",
              "      <th>Color1</th>\n",
              "      <th>Color2</th>\n",
              "      <th>MaturitySize</th>\n",
              "      <th>FurLength</th>\n",
              "      <th>Vaccinated</th>\n",
              "      <th>Sterilized</th>\n",
              "      <th>Health</th>\n",
              "      <th>Fee</th>\n",
              "      <th>PhotoAmt</th>\n",
              "      <th>target</th>\n",
              "    </tr>\n",
              "  </thead>\n",
              "  <tbody>\n",
              "    <tr>\n",
              "      <th>0</th>\n",
              "      <td>Cat</td>\n",
              "      <td>3</td>\n",
              "      <td>Tabby</td>\n",
              "      <td>Male</td>\n",
              "      <td>Black</td>\n",
              "      <td>White</td>\n",
              "      <td>Small</td>\n",
              "      <td>Short</td>\n",
              "      <td>No</td>\n",
              "      <td>No</td>\n",
              "      <td>Healthy</td>\n",
              "      <td>100</td>\n",
              "      <td>1</td>\n",
              "      <td>1</td>\n",
              "    </tr>\n",
              "    <tr>\n",
              "      <th>1</th>\n",
              "      <td>Cat</td>\n",
              "      <td>1</td>\n",
              "      <td>Domestic Medium Hair</td>\n",
              "      <td>Male</td>\n",
              "      <td>Black</td>\n",
              "      <td>Brown</td>\n",
              "      <td>Medium</td>\n",
              "      <td>Medium</td>\n",
              "      <td>Not Sure</td>\n",
              "      <td>Not Sure</td>\n",
              "      <td>Healthy</td>\n",
              "      <td>0</td>\n",
              "      <td>2</td>\n",
              "      <td>1</td>\n",
              "    </tr>\n",
              "    <tr>\n",
              "      <th>2</th>\n",
              "      <td>Dog</td>\n",
              "      <td>1</td>\n",
              "      <td>Mixed Breed</td>\n",
              "      <td>Male</td>\n",
              "      <td>Brown</td>\n",
              "      <td>White</td>\n",
              "      <td>Medium</td>\n",
              "      <td>Medium</td>\n",
              "      <td>Yes</td>\n",
              "      <td>No</td>\n",
              "      <td>Healthy</td>\n",
              "      <td>0</td>\n",
              "      <td>7</td>\n",
              "      <td>1</td>\n",
              "    </tr>\n",
              "    <tr>\n",
              "      <th>3</th>\n",
              "      <td>Dog</td>\n",
              "      <td>4</td>\n",
              "      <td>Mixed Breed</td>\n",
              "      <td>Female</td>\n",
              "      <td>Black</td>\n",
              "      <td>Brown</td>\n",
              "      <td>Medium</td>\n",
              "      <td>Short</td>\n",
              "      <td>Yes</td>\n",
              "      <td>No</td>\n",
              "      <td>Healthy</td>\n",
              "      <td>150</td>\n",
              "      <td>8</td>\n",
              "      <td>1</td>\n",
              "    </tr>\n",
              "    <tr>\n",
              "      <th>4</th>\n",
              "      <td>Dog</td>\n",
              "      <td>1</td>\n",
              "      <td>Mixed Breed</td>\n",
              "      <td>Male</td>\n",
              "      <td>Black</td>\n",
              "      <td>No Color</td>\n",
              "      <td>Medium</td>\n",
              "      <td>Short</td>\n",
              "      <td>No</td>\n",
              "      <td>No</td>\n",
              "      <td>Healthy</td>\n",
              "      <td>0</td>\n",
              "      <td>3</td>\n",
              "      <td>1</td>\n",
              "    </tr>\n",
              "  </tbody>\n",
              "</table>\n",
              "</div>"
            ],
            "text/plain": [
              "  Type  Age                Breed1  Gender  ...   Health  Fee PhotoAmt target\n",
              "0  Cat    3                 Tabby    Male  ...  Healthy  100        1      1\n",
              "1  Cat    1  Domestic Medium Hair    Male  ...  Healthy    0        2      1\n",
              "2  Dog    1           Mixed Breed    Male  ...  Healthy    0        7      1\n",
              "3  Dog    4           Mixed Breed  Female  ...  Healthy  150        8      1\n",
              "4  Dog    1           Mixed Breed    Male  ...  Healthy    0        3      1\n",
              "\n",
              "[5 rows x 14 columns]"
            ]
          },
          "metadata": {
            "tags": []
          },
          "execution_count": 68
        }
      ]
    },
    {
      "cell_type": "markdown",
      "metadata": {
        "id": "sp0NCbswyEqs"
      },
      "source": [
        "## Split the dataframe into train, validation, and test\n",
        "\n",
        "The dataset you downloaded was a single CSV file. You will split this into train, validation, and test sets."
      ]
    },
    {
      "cell_type": "code",
      "metadata": {
        "id": "qT6HdyEwyEqt",
        "outputId": "403bb907-e386-4e4f-c3d1-f4d277041c6d",
        "colab": {
          "base_uri": "https://localhost:8080/",
          "height": 68
        }
      },
      "source": [
        "train, test = train_test_split(dataframe, test_size=0.2)\n",
        "train, val = train_test_split(train, test_size=0.2)\n",
        "print(len(train), 'train examples')\n",
        "print(len(val), 'validation examples')\n",
        "print(len(test), 'test examples')"
      ],
      "execution_count": 69,
      "outputs": [
        {
          "output_type": "stream",
          "text": [
            "7383 train examples\n",
            "1846 validation examples\n",
            "2308 test examples\n"
          ],
          "name": "stdout"
        }
      ]
    },
    {
      "cell_type": "markdown",
      "metadata": {
        "id": "C_7uVu-xyEqv"
      },
      "source": [
        "## Create an input pipeline using tf.data\n",
        "\n",
        "Next, you will wrap the dataframes with [tf.data](https://www.tensorflow.org/guide/datasets), in order to shuffle and batch the data. If you were working with a very large CSV file (so large that it does not fit into memory), you would use tf.data to read it from disk directly. That is not covered in this tutorial."
      ]
    },
    {
      "cell_type": "code",
      "metadata": {
        "id": "7r4j-1lRyEqw"
      },
      "source": [
        "# A utility method to create a tf.data dataset from a Pandas Dataframe\n",
        "def df_to_dataset(dataframe, shuffle=True, batch_size=32):\n",
        "  dataframe = dataframe.copy()\n",
        "  labels = dataframe.pop('target')\n",
        "  ds = tf.data.Dataset.from_tensor_slices((dict(dataframe), labels))\n",
        "  if shuffle:\n",
        "    ds = ds.shuffle(buffer_size=len(dataframe))\n",
        "  ds = ds.batch(batch_size)\n",
        "  ds = ds.prefetch(batch_size)\n",
        "  return ds"
      ],
      "execution_count": 70,
      "outputs": []
    },
    {
      "cell_type": "markdown",
      "metadata": {
        "id": "PYxIXH579uS9"
      },
      "source": [
        "Now that you have created the input pipeline, let's call it to see the format of the data it returns. You have used a small batch size to keep the output readable."
      ]
    },
    {
      "cell_type": "code",
      "metadata": {
        "id": "tYiNH-QI96Jo"
      },
      "source": [
        "batch_size = 5\n",
        "train_ds = df_to_dataset(train, batch_size=batch_size)"
      ],
      "execution_count": 71,
      "outputs": []
    },
    {
      "cell_type": "code",
      "metadata": {
        "id": "nFYir6S8HgIJ",
        "outputId": "b76448f9-382c-4a8f-d5c7-8cf1a5119b4f",
        "colab": {
          "base_uri": "https://localhost:8080/",
          "height": 88
        }
      },
      "source": [
        "[(train_features, label_batch)] = train_ds.take(1)\n",
        "print('Every feature:', list(train_features.keys()))\n",
        "print('A batch of ages:', train_features['Age'])\n",
        "print('A batch of targets:', label_batch )"
      ],
      "execution_count": 72,
      "outputs": [
        {
          "output_type": "stream",
          "text": [
            "Every feature: ['Type', 'Age', 'Breed1', 'Gender', 'Color1', 'Color2', 'MaturitySize', 'FurLength', 'Vaccinated', 'Sterilized', 'Health', 'Fee', 'PhotoAmt']\n",
            "A batch of ages: tf.Tensor([ 6 84  3  5 18], shape=(5,), dtype=int64)\n",
            "A batch of targets: tf.Tensor([1 1 0 1 0], shape=(5,), dtype=int64)\n"
          ],
          "name": "stdout"
        }
      ]
    },
    {
      "cell_type": "markdown",
      "metadata": {
        "id": "geqHWW54Hmte"
      },
      "source": [
        "You can see that the dataset returns a dictionary of column names (from the dataframe) that map to column values from rows in the dataframe."
      ]
    },
    {
      "cell_type": "markdown",
      "metadata": {
        "id": "-v50jBIuj4gb"
      },
      "source": [
        "## Demonstrate the use of preprocessing layers.\n",
        "\n",
        "The Keras preprocessing layers API allows you to build Keras-native input processing pipelines. You will use 3 preprocessing layers to demonstrate the feature preprocessing code.\n",
        "\n",
        "*   [`Normalization`](https://www.tensorflow.org/api_docs/python/tf/keras/layers/experimental/preprocessing/Normalization) - Feature-wise normalization of the data.\n",
        "*   [`CategoryEncoding`](https://www.tensorflow.org/api_docs/python/tf/keras/layers/experimental/preprocessing/CategoryEncoding) - Category encoding layer.\n",
        "*   [`StringLookup`](https://www.tensorflow.org/api_docs/python/tf/keras/layers/experimental/preprocessing/StringLookup) - Maps strings from a vocabulary to integer indices.\n",
        "*   [`IntegerLookup`](https://www.tensorflow.org/api_docs/python/tf/keras/layers/experimental/preprocessing/IntegerLookup) - Maps integers from a vocabulary to integer indices.\n",
        "\n",
        "You can find a list of available preprocessing layers [here](https://www.tensorflow.org/api_docs/python/tf/keras/layers/experimental/preprocessing)."
      ]
    },
    {
      "cell_type": "markdown",
      "metadata": {
        "id": "twXBSxnT66o8"
      },
      "source": [
        "### Numeric columns\n",
        "For each of the Numeric feature, you will use a Normalization() layer to make sure the mean of each feature is 0 and its standard deviation is 1."
      ]
    },
    {
      "cell_type": "markdown",
      "metadata": {
        "id": "OosUh4kTsK_q"
      },
      "source": [
        "`get_normalization_layer` function returns a layer which applies featurewise normalization to numerical features."
      ]
    },
    {
      "cell_type": "code",
      "metadata": {
        "id": "D6OuEKMMyEq1"
      },
      "source": [
        "def get_normalization_layer(name, dataset):\n",
        "  # Create a Normalization layer for our feature.\n",
        "  normalizer = preprocessing.Normalization()\n",
        "\n",
        "  # Prepare a Dataset that only yields our feature.\n",
        "  feature_ds = dataset.map(lambda x, y: x[name])\n",
        "\n",
        "  # Learn the statistics of the data.\n",
        "  normalizer.adapt(feature_ds)\n",
        "\n",
        "  return normalizer"
      ],
      "execution_count": 73,
      "outputs": []
    },
    {
      "cell_type": "code",
      "metadata": {
        "id": "MpKgUDyk69bM",
        "outputId": "4bfb1dee-666e-4465-887c-df7a686c3573",
        "colab": {
          "base_uri": "https://localhost:8080/",
          "height": 119
        }
      },
      "source": [
        "photo_count_col = train_features['PhotoAmt']\n",
        "layer = get_normalization_layer('PhotoAmt', train_ds)\n",
        "layer(photo_count_col)"
      ],
      "execution_count": 74,
      "outputs": [
        {
          "output_type": "execute_result",
          "data": {
            "text/plain": [
              "<tf.Tensor: shape=(5, 1), dtype=float32, numpy=\n",
              "array([[-0.5122131 ],\n",
              "       [-0.83085734],\n",
              "       [-0.83085734],\n",
              "       [-0.5122131 ],\n",
              "       [ 0.44371948]], dtype=float32)>"
            ]
          },
          "metadata": {
            "tags": []
          },
          "execution_count": 74
        }
      ]
    },
    {
      "cell_type": "markdown",
      "metadata": {
        "id": "foWY00YBUx9N"
      },
      "source": [
        "Note: If you many numeric features (hundreds, or more), it is more efficient to concatenate them first and use a single [normalization](https://www.tensorflow.org/api_docs/python/tf/keras/layers/experimental/preprocessing/Normalization) layer."
      ]
    },
    {
      "cell_type": "markdown",
      "metadata": {
        "id": "fQjRRFeyw5Bv"
      },
      "source": [
        "### Explain"
      ]
    },
    {
      "cell_type": "code",
      "metadata": {
        "id": "ouVWiojaw6nu",
        "outputId": "3cc55a9c-0550-4590-8d78-9a736650b6b0",
        "colab": {
          "base_uri": "https://localhost:8080/",
          "height": 34
        }
      },
      "source": [
        "photo_count_col = train_features['PhotoAmt']\n",
        "photo_count_col"
      ],
      "execution_count": 75,
      "outputs": [
        {
          "output_type": "execute_result",
          "data": {
            "text/plain": [
              "<tf.Tensor: shape=(5,), dtype=int64, numpy=array([2, 1, 1, 2, 5])>"
            ]
          },
          "metadata": {
            "tags": []
          },
          "execution_count": 75
        }
      ]
    },
    {
      "cell_type": "code",
      "metadata": {
        "id": "N49b3GdYwwdZ",
        "outputId": "9830630e-5efa-4701-9f47-4edef57baa59",
        "colab": {
          "base_uri": "https://localhost:8080/",
          "height": 54
        }
      },
      "source": [
        "# Create a Normalization layer for our feature.\n",
        "batch_size = 5\n",
        "train_ds = df_to_dataset(train, batch_size=batch_size)\n",
        "dataset=train_ds\n",
        "dataset"
      ],
      "execution_count": 76,
      "outputs": [
        {
          "output_type": "execute_result",
          "data": {
            "text/plain": [
              "<PrefetchDataset shapes: ({Type: (None,), Age: (None,), Breed1: (None,), Gender: (None,), Color1: (None,), Color2: (None,), MaturitySize: (None,), FurLength: (None,), Vaccinated: (None,), Sterilized: (None,), Health: (None,), Fee: (None,), PhotoAmt: (None,)}, (None,)), types: ({Type: tf.string, Age: tf.int64, Breed1: tf.string, Gender: tf.string, Color1: tf.string, Color2: tf.string, MaturitySize: tf.string, FurLength: tf.string, Vaccinated: tf.string, Sterilized: tf.string, Health: tf.string, Fee: tf.int64, PhotoAmt: tf.int64}, tf.int64)>"
            ]
          },
          "metadata": {
            "tags": []
          },
          "execution_count": 76
        }
      ]
    },
    {
      "cell_type": "code",
      "metadata": {
        "id": "WljCpn1ixVY9",
        "outputId": "51d649aa-e8b9-4ca9-98b6-e5afd4680c74",
        "colab": {
          "base_uri": "https://localhost:8080/",
          "height": 34
        }
      },
      "source": [
        "# Prepare a Dataset that only yields our feature.\n",
        "name='PhotoAmt'\n",
        "feature_ds = dataset.map(lambda x, y: x[name])\n",
        "feature_ds"
      ],
      "execution_count": 77,
      "outputs": [
        {
          "output_type": "execute_result",
          "data": {
            "text/plain": [
              "<MapDataset shapes: (None,), types: tf.int64>"
            ]
          },
          "metadata": {
            "tags": []
          },
          "execution_count": 77
        }
      ]
    },
    {
      "cell_type": "code",
      "metadata": {
        "id": "_CmWOL-oxBhB",
        "outputId": "178daf61-379d-41e0-a3eb-930d6c94c5f9",
        "colab": {
          "base_uri": "https://localhost:8080/",
          "height": 34
        }
      },
      "source": [
        "normalizer = preprocessing.Normalization()\n",
        "normalizer.adapt(feature_ds)\n",
        "normalizer"
      ],
      "execution_count": 78,
      "outputs": [
        {
          "output_type": "execute_result",
          "data": {
            "text/plain": [
              "<tensorflow.python.keras.layers.preprocessing.normalization.Normalization at 0x7efc3bc0dd68>"
            ]
          },
          "metadata": {
            "tags": []
          },
          "execution_count": 78
        }
      ]
    },
    {
      "cell_type": "code",
      "metadata": {
        "id": "273s-56-y2cW",
        "outputId": "5f48b4b2-d9ff-4d2c-c7ea-c7b093fb6846",
        "colab": {
          "base_uri": "https://localhost:8080/",
          "height": 34
        }
      },
      "source": [
        "photo_count_col"
      ],
      "execution_count": 79,
      "outputs": [
        {
          "output_type": "execute_result",
          "data": {
            "text/plain": [
              "<tf.Tensor: shape=(5,), dtype=int64, numpy=array([2, 1, 1, 2, 5])>"
            ]
          },
          "metadata": {
            "tags": []
          },
          "execution_count": 79
        }
      ]
    },
    {
      "cell_type": "code",
      "metadata": {
        "id": "f7zCbb_AyF-c",
        "outputId": "93538980-8b50-4c45-d072-bb302710e63d",
        "colab": {
          "base_uri": "https://localhost:8080/",
          "height": 119
        }
      },
      "source": [
        "normalizer(photo_count_col)"
      ],
      "execution_count": 80,
      "outputs": [
        {
          "output_type": "execute_result",
          "data": {
            "text/plain": [
              "<tf.Tensor: shape=(5, 1), dtype=float32, numpy=\n",
              "array([[-0.5122131 ],\n",
              "       [-0.83085734],\n",
              "       [-0.83085734],\n",
              "       [-0.5122131 ],\n",
              "       [ 0.44371948]], dtype=float32)>"
            ]
          },
          "metadata": {
            "tags": []
          },
          "execution_count": 80
        }
      ]
    },
    {
      "cell_type": "markdown",
      "metadata": {
        "id": "_vlCIRaExBuX"
      },
      "source": [
        "### End explain"
      ]
    },
    {
      "cell_type": "markdown",
      "metadata": {
        "id": "yVD--2WZ7vmh"
      },
      "source": [
        "### Categorical columns\n",
        "In this dataset, Type is represented as a string (e.g. 'Dog', or 'Cat'). You cannot feed strings directly to a model. The preprocessing layer takes care of representing strings as a one-hot vector."
      ]
    },
    {
      "cell_type": "markdown",
      "metadata": {
        "id": "LWlkOPwMsxdv"
      },
      "source": [
        "`get_category_encoding_layer` function returns a layer which maps values from a vocabulary to integer indices and one-hot encodes the features."
      ]
    },
    {
      "cell_type": "code",
      "metadata": {
        "id": "GmgaeRjlDoUO"
      },
      "source": [
        "def get_category_encoding_layer(name, dataset, dtype, max_tokens=None):\n",
        "  # Create a StringLookup layer which will turn strings into integer indices\n",
        "  if dtype == 'string':\n",
        "    index = preprocessing.StringLookup(max_tokens=max_tokens)\n",
        "  else:\n",
        "    index = preprocessing.IntegerLookup(max_values=max_tokens)\n",
        "\n",
        "  # Prepare a Dataset that only yields our feature\n",
        "  feature_ds = dataset.map(lambda x, y: x[name])\n",
        "\n",
        "  # Learn the set of possible values and assign them a fixed integer index.\n",
        "  index.adapt(feature_ds)\n",
        "\n",
        "  # Create a Discretization for our integer indices.\n",
        "  encoder = preprocessing.CategoryEncoding(max_tokens=index.vocab_size())\n",
        "\n",
        "  # Prepare a Dataset that only yields our feature.\n",
        "  feature_ds = feature_ds.map(index)\n",
        "\n",
        "  # Learn the space of possible indices.\n",
        "  encoder.adapt(feature_ds)\n",
        "\n",
        "  # Apply one-hot encoding to our indices. The lambda function captures the\n",
        "  # layer so we can use them, or include them in the functional model later.\n",
        "  return lambda feature: encoder(index(feature))"
      ],
      "execution_count": 81,
      "outputs": []
    },
    {
      "cell_type": "code",
      "metadata": {
        "id": "AQwLFJSXy9tN",
        "outputId": "1d7ad978-356b-4fd1-f3fe-d3267a8a971c",
        "colab": {
          "base_uri": "https://localhost:8080/",
          "height": 54
        }
      },
      "source": [
        "type_col = train_features['Type']\n",
        "type_col"
      ],
      "execution_count": 82,
      "outputs": [
        {
          "output_type": "execute_result",
          "data": {
            "text/plain": [
              "<tf.Tensor: shape=(5,), dtype=string, numpy=array([b'Dog', b'Dog', b'Dog', b'Dog', b'Cat'], dtype=object)>"
            ]
          },
          "metadata": {
            "tags": []
          },
          "execution_count": 82
        }
      ]
    },
    {
      "cell_type": "code",
      "metadata": {
        "id": "X2t2ff9K8PcT",
        "outputId": "25e39e42-2add-4a37-f2bc-8aa6d9652ec9",
        "colab": {
          "base_uri": "https://localhost:8080/",
          "height": 119
        }
      },
      "source": [
        "layer = get_category_encoding_layer('Type', train_ds, 'string')\n",
        "layer(type_col)"
      ],
      "execution_count": 83,
      "outputs": [
        {
          "output_type": "execute_result",
          "data": {
            "text/plain": [
              "<tf.Tensor: shape=(5, 4), dtype=float32, numpy=\n",
              "array([[0., 0., 1., 0.],\n",
              "       [0., 0., 1., 0.],\n",
              "       [0., 0., 1., 0.],\n",
              "       [0., 0., 1., 0.],\n",
              "       [0., 0., 0., 1.]], dtype=float32)>"
            ]
          },
          "metadata": {
            "tags": []
          },
          "execution_count": 83
        }
      ]
    },
    {
      "cell_type": "markdown",
      "metadata": {
        "id": "j6eDongw8knz"
      },
      "source": [
        "Often, you don't want to feed a number directly into the model, but instead use a one-hot encoding of those inputs. Consider raw data that represents a pet's age."
      ]
    },
    {
      "cell_type": "code",
      "metadata": {
        "id": "7FjBioQ38oNE",
        "outputId": "00433946-223c-4802-b60b-14ac5345259b",
        "colab": {
          "base_uri": "https://localhost:8080/",
          "height": 119
        }
      },
      "source": [
        "type_col = train_features['Age']\n",
        "category_encoding_layer = get_category_encoding_layer('Age', train_ds,\n",
        "                                                      'int64', 5)\n",
        "category_encoding_layer(type_col)"
      ],
      "execution_count": 84,
      "outputs": [
        {
          "output_type": "execute_result",
          "data": {
            "text/plain": [
              "<tf.Tensor: shape=(5, 5), dtype=float32, numpy=\n",
              "array([[0., 1., 0., 0., 0.],\n",
              "       [0., 1., 0., 0., 0.],\n",
              "       [0., 0., 0., 1., 0.],\n",
              "       [0., 1., 0., 0., 0.],\n",
              "       [0., 1., 0., 0., 0.]], dtype=float32)>"
            ]
          },
          "metadata": {
            "tags": []
          },
          "execution_count": 84
        }
      ]
    },
    {
      "cell_type": "markdown",
      "metadata": {
        "id": "A8ZNtR450GCD"
      },
      "source": [
        "### Explain"
      ]
    },
    {
      "cell_type": "code",
      "metadata": {
        "id": "e0KsxCQe0Inj"
      },
      "source": [
        "def get_category_encoding_layer2(name, dataset, dtype, max_tokens=None):\n",
        "  # Create a StringLookup layer which will turn strings into integer indices\n",
        "  if dtype == 'string':\n",
        "    index = preprocessing.StringLookup(max_tokens=max_tokens)\n",
        "  else:\n",
        "    index = preprocessing.IntegerLookup(max_values=max_tokens)\n",
        "  print(index)\n",
        "\n",
        "  # Prepare a Dataset that only yields our feature\n",
        "  feature_ds = dataset.map(lambda x, y: x[name])\n",
        "  print(feature_ds)\n",
        "\n",
        "  # Learn the set of possible values and assign them a fixed integer index.\n",
        "  index.adapt(feature_ds)\n",
        "  print(index)\n",
        "\n",
        "  # Create a Discretization for our integer indices.\n",
        "  encoder = preprocessing.CategoryEncoding(max_tokens=index.vocab_size())\n",
        "  print(index.vocab_size())\n",
        "  print(encoder)\n",
        "\n",
        "  # Prepare a Dataset that only yields our feature.\n",
        "  feature_ds = feature_ds.map(index)\n",
        "  print(feature_ds)\n",
        "\n",
        "  # Learn the space of possible indices.\n",
        "  encoder.adapt(feature_ds)\n",
        "  print(encoder)\n",
        "\n",
        "  # Apply one-hot encoding to our indices. The lambda function captures the\n",
        "  # layer so we can use them, or include them in the functional model later.\n",
        "  print(lambda feature: encoder(index(feature)))\n",
        "  return lambda feature: encoder(index(feature))"
      ],
      "execution_count": 85,
      "outputs": []
    },
    {
      "cell_type": "code",
      "metadata": {
        "id": "cU9rO06z0IqD",
        "outputId": "9658682a-4a78-4552-da3b-ed22f563afa7",
        "colab": {
          "base_uri": "https://localhost:8080/",
          "height": 54
        }
      },
      "source": [
        "type_col = train_features['Type']\n",
        "type_col"
      ],
      "execution_count": 86,
      "outputs": [
        {
          "output_type": "execute_result",
          "data": {
            "text/plain": [
              "<tf.Tensor: shape=(5,), dtype=string, numpy=array([b'Dog', b'Dog', b'Dog', b'Dog', b'Cat'], dtype=object)>"
            ]
          },
          "metadata": {
            "tags": []
          },
          "execution_count": 86
        }
      ]
    },
    {
      "cell_type": "code",
      "metadata": {
        "id": "gVa0DcD_05Sm",
        "outputId": "5ca42069-f280-4f34-95b8-b198ac4b1b86",
        "colab": {
          "base_uri": "https://localhost:8080/",
          "height": 173
        }
      },
      "source": [
        "layer = get_category_encoding_layer2('Type', train_ds, 'string')"
      ],
      "execution_count": 87,
      "outputs": [
        {
          "output_type": "stream",
          "text": [
            "<tensorflow.python.keras.layers.preprocessing.string_lookup.StringLookup object at 0x7efc3bbf8ac8>\n",
            "<MapDataset shapes: (None,), types: tf.string>\n",
            "<tensorflow.python.keras.layers.preprocessing.string_lookup.StringLookup object at 0x7efc3bbf8ac8>\n",
            "4\n",
            "<tensorflow.python.keras.layers.preprocessing.category_encoding.CategoryEncoding object at 0x7efc3bb09668>\n",
            "<MapDataset shapes: (None,), types: tf.int64>\n",
            "<tensorflow.python.keras.layers.preprocessing.category_encoding.CategoryEncoding object at 0x7efc3bb09668>\n",
            "<function get_category_encoding_layer2.<locals>.<lambda> at 0x7efc3bac1598>\n"
          ],
          "name": "stdout"
        }
      ]
    },
    {
      "cell_type": "code",
      "metadata": {
        "id": "6gjrsBfO0Itv",
        "outputId": "2cf3fd5a-0a3f-40c8-de34-847e1c14e1c0",
        "colab": {
          "base_uri": "https://localhost:8080/",
          "height": 119
        }
      },
      "source": [
        "layer(type_col)"
      ],
      "execution_count": 88,
      "outputs": [
        {
          "output_type": "execute_result",
          "data": {
            "text/plain": [
              "<tf.Tensor: shape=(5, 4), dtype=float32, numpy=\n",
              "array([[0., 0., 1., 0.],\n",
              "       [0., 0., 1., 0.],\n",
              "       [0., 0., 1., 0.],\n",
              "       [0., 0., 1., 0.],\n",
              "       [0., 0., 0., 1.]], dtype=float32)>"
            ]
          },
          "metadata": {
            "tags": []
          },
          "execution_count": 88
        }
      ]
    },
    {
      "cell_type": "markdown",
      "metadata": {
        "id": "z0sCdf5h0JAW"
      },
      "source": [
        "### End explain"
      ]
    },
    {
      "cell_type": "markdown",
      "metadata": {
        "id": "SiE0glOPkMyh"
      },
      "source": [
        "## Choose which columns to use\n",
        "You have seen how to use several types of preprocessing layers. Now you will use them to train a model. You will be using [Keras-functional API](https://www.tensorflow.org/guide/keras/functional) to build the model. The Keras functional API is a way to create models that are more flexible than the [tf.keras.Sequential](https://www.tensorflow.org/api_docs/python/tf/keras/Sequential) API.\n",
        "\n",
        "The goal of this tutorial is to show you the complete code (e.g. mechanics) needed to work with preprocessing layers. A few columns have been selected arbitrarily to train our model.\n",
        "\n",
        "Key point: If your aim is to build an accurate model, try a larger dataset of your own, and think carefully about which features are the most meaningful to include, and how they should be represented."
      ]
    },
    {
      "cell_type": "markdown",
      "metadata": {
        "id": "Uj1GoHSZ9R3H"
      },
      "source": [
        "Earlier, you used a small batch size to demonstrate the input pipeline. Let's now create a new input pipeline with a larger batch size.\n"
      ]
    },
    {
      "cell_type": "code",
      "metadata": {
        "id": "Rcv2kQTTo23h"
      },
      "source": [
        "batch_size = 256\n",
        "train_ds = df_to_dataset(train, batch_size=batch_size)\n",
        "val_ds = df_to_dataset(val, shuffle=False, batch_size=batch_size)\n",
        "test_ds = df_to_dataset(test, shuffle=False, batch_size=batch_size)"
      ],
      "execution_count": 100,
      "outputs": []
    },
    {
      "cell_type": "code",
      "metadata": {
        "id": "Q3RBa51VkaAn"
      },
      "source": [
        "all_inputs = []\n",
        "encoded_features = []\n",
        "\n",
        "# Numeric features.\n",
        "for header in ['PhotoAmt', 'Fee']:\n",
        "  numeric_col = tf.keras.Input(shape=(1,), name=header)\n",
        "  normalization_layer = get_normalization_layer(header, train_ds)\n",
        "  encoded_numeric_col = normalization_layer(numeric_col)\n",
        "  all_inputs.append(numeric_col)\n",
        "  encoded_features.append(encoded_numeric_col)"
      ],
      "execution_count": 101,
      "outputs": []
    },
    {
      "cell_type": "code",
      "metadata": {
        "id": "1FOMGfZflhoA"
      },
      "source": [
        "# Categorical features encoded as integers.\n",
        "age_col = tf.keras.Input(shape=(1,), name='Age', dtype='int64')\n",
        "encoding_layer = get_category_encoding_layer('Age', train_ds, dtype='int64',\n",
        "                                             max_tokens=5)\n",
        "encoded_age_col = encoding_layer(age_col)\n",
        "all_inputs.append(age_col)\n",
        "encoded_features.append(encoded_age_col)"
      ],
      "execution_count": 102,
      "outputs": []
    },
    {
      "cell_type": "code",
      "metadata": {
        "id": "K8C8xyiXm-Ie"
      },
      "source": [
        "# Categorical features encoded as string.\n",
        "categorical_cols = ['Type', 'Color1', 'Color2', 'Gender', 'MaturitySize',\n",
        "                    'FurLength', 'Vaccinated', 'Sterilized', 'Health', 'Breed1']\n",
        "for header in categorical_cols:\n",
        "  categorical_col = tf.keras.Input(shape=(1,), name=header, dtype='string')\n",
        "  encoding_layer = get_category_encoding_layer(header, train_ds, dtype='string',\n",
        "                                               max_tokens=5)\n",
        "  encoded_categorical_col = encoding_layer(categorical_col)\n",
        "  all_inputs.append(categorical_col)\n",
        "  encoded_features.append(encoded_categorical_col)\n"
      ],
      "execution_count": 103,
      "outputs": []
    },
    {
      "cell_type": "markdown",
      "metadata": {
        "id": "W9jzO3Ao2AJT"
      },
      "source": [
        "### Explain"
      ]
    },
    {
      "cell_type": "code",
      "metadata": {
        "id": "lgGaQYoO2B8j"
      },
      "source": [
        "batch_size = 256\n",
        "train_ds = df_to_dataset(train, batch_size=batch_size)\n",
        "val_ds = df_to_dataset(val, shuffle=False, batch_size=batch_size)\n",
        "test_ds = df_to_dataset(test, shuffle=False, batch_size=batch_size)"
      ],
      "execution_count": 93,
      "outputs": []
    },
    {
      "cell_type": "code",
      "metadata": {
        "id": "xqMXxNYD9Esu",
        "outputId": "16495748-b5d4-4597-ce16-2a04940af0fa",
        "colab": {
          "base_uri": "https://localhost:8080/",
          "height": 462
        }
      },
      "source": [
        "[(train_features, label_batch)] = train_ds.take(1)\n",
        "print('Every feature:', list(train_features.keys()))\n",
        "print('A batch of ages:', train_features['Age'])\n",
        "print('A batch of targets:', label_batch )"
      ],
      "execution_count": 94,
      "outputs": [
        {
          "output_type": "stream",
          "text": [
            "Every feature: ['Type', 'Age', 'Breed1', 'Gender', 'Color1', 'Color2', 'MaturitySize', 'FurLength', 'Vaccinated', 'Sterilized', 'Health', 'Fee', 'PhotoAmt']\n",
            "A batch of ages: tf.Tensor(\n",
            "[  2  60  66   2  24  12   2   3   5  36   6   2   3  36   2   6   3  36\n",
            "   1   4   3   4   3   7  24   2   2   2  12   5  18   2   1   2  12  24\n",
            "   5   3   6  11   3   1   2   2   1   4  84   4  72  10   3  36   2  36\n",
            "   8   3  49   3   2  24   1   3   8   2  12   1   1  12  14   2  12   2\n",
            "   1  12   1  10   3   5   2  12 108   3   2   2  12  60   3   2   1  36\n",
            "   4   2   2   2  22   4   2   2   2   4  10   2   1   1  65   3  18   3\n",
            "   1   2  18   2   8  10   6   2   5  72   4   2   8   2   3   2  36   6\n",
            "   2   7  12   2   2   2  36   3   8   2   5  60  24   5   2  57   2   2\n",
            "   2   2  24  12  12  10   7   1   3   2  17   1   3   6   2   4   0  72\n",
            "   3  11   7   1  12   9   2  84   2   2   2  12   1  10   2   3   5   1\n",
            "  11   4  60   4   2  48   2  12   3   1   2   2   4   3   2  24   5   2\n",
            "   2   3   2   9  10   7  12  12   3   1  24   2  48   3  12  22   2   8\n",
            "  10  13  12   4   2   3  22   6  12   2   2   2   1  20   6   8   2   3\n",
            "  10   1   4  36   2   2   6   4   2  28  12   2  72 120   9  96   2   3\n",
            "   1   8   2  60], shape=(256,), dtype=int64)\n",
            "A batch of targets: tf.Tensor(\n",
            "[1 1 1 0 1 1 1 1 0 0 1 1 0 0 1 0 1 0 1 1 0 0 1 0 0 1 0 1 1 0 0 1 1 1 1 1 0\n",
            " 1 1 1 1 1 1 1 1 1 0 0 0 1 0 0 1 1 1 1 0 1 0 1 1 1 0 1 1 0 1 1 0 1 0 1 1 0\n",
            " 1 0 1 1 1 0 0 1 1 1 0 1 1 1 1 0 1 0 1 1 0 1 1 1 1 1 1 1 1 1 1 1 1 1 1 1 1\n",
            " 1 1 1 0 1 1 1 1 1 1 1 1 1 1 0 1 1 0 1 1 1 0 1 0 1 1 1 1 1 1 0 1 1 1 1 1 1\n",
            " 1 1 0 1 1 1 0 1 1 1 1 1 1 1 1 0 0 1 1 0 1 0 1 1 1 1 1 1 1 1 1 1 1 0 1 1 1\n",
            " 1 1 1 1 1 0 1 0 1 1 0 1 1 1 1 0 1 1 1 0 0 0 1 1 1 1 1 0 0 1 1 1 0 0 1 0 0\n",
            " 1 0 1 1 1 1 1 1 1 1 1 0 1 1 1 1 1 1 1 1 1 0 1 1 1 1 0 0 1 0 1 0 0 1], shape=(256,), dtype=int64)\n"
          ],
          "name": "stdout"
        }
      ]
    },
    {
      "cell_type": "code",
      "metadata": {
        "id": "HUYJYmqh2B_f",
        "outputId": "ed088348-1cdb-4c6d-96df-95decec7ea6a",
        "colab": {
          "base_uri": "https://localhost:8080/",
          "height": 1000
        }
      },
      "source": [
        "#all_inputs = []\n",
        "#encoded_features = []\n",
        "\n",
        "# Numeric features.\n",
        "for header in ['PhotoAmt', 'Fee']:\n",
        "  print(header)\n",
        "  numeric_col = tf.keras.Input(shape=(1,), name=header)\n",
        "  normalization_layer = get_normalization_layer(header, train_ds)\n",
        "  encoded_numeric_col = normalization_layer(numeric_col)\n",
        "  print(normalization_layer(train_features[header]))\n",
        "  #all_inputs.append(numeric_col)\n",
        "  #encoded_features.append(encoded_numeric_col)"
      ],
      "execution_count": 95,
      "outputs": [
        {
          "output_type": "stream",
          "text": [
            "PhotoAmt\n",
            "tf.Tensor(\n",
            "[[ 1.7182963 ]\n",
            " [-0.5122131 ]\n",
            " [-0.83085734]\n",
            " [-0.83085734]\n",
            " [ 0.12507527]\n",
            " [-0.83085734]\n",
            " [ 0.44371948]\n",
            " [ 2.6742287 ]\n",
            " [-0.83085734]\n",
            " [ 0.12507527]\n",
            " [ 0.44371948]\n",
            " [-0.83085734]\n",
            " [-0.83085734]\n",
            " [ 6.1793146 ]\n",
            " [ 2.992873  ]\n",
            " [ 0.12507527]\n",
            " [ 0.44371948]\n",
            " [ 0.44371948]\n",
            " [-0.83085734]\n",
            " [-0.19356893]\n",
            " [-0.83085734]\n",
            " [-0.83085734]\n",
            " [ 5.8606706 ]\n",
            " [ 0.44371948]\n",
            " [ 0.12507527]\n",
            " [ 2.6742287 ]\n",
            " [-0.5122131 ]\n",
            " [ 0.12507527]\n",
            " [ 1.7182963 ]\n",
            " [ 0.7623637 ]\n",
            " [-0.5122131 ]\n",
            " [-0.5122131 ]\n",
            " [ 0.44371948]\n",
            " [ 0.44371948]\n",
            " [ 0.12507527]\n",
            " [ 0.12507527]\n",
            " [-0.83085734]\n",
            " [ 0.44371948]\n",
            " [ 1.7182963 ]\n",
            " [-0.19356893]\n",
            " [ 0.44371948]\n",
            " [ 0.12507527]\n",
            " [ 0.44371948]\n",
            " [-0.19356893]\n",
            " [-0.83085734]\n",
            " [-0.19356893]\n",
            " [-0.83085734]\n",
            " [ 0.44371948]\n",
            " [ 6.497959  ]\n",
            " [-0.83085734]\n",
            " [ 1.0810078 ]\n",
            " [ 0.44371948]\n",
            " [ 1.399652  ]\n",
            " [-0.5122131 ]\n",
            " [ 0.12507527]\n",
            " [ 0.12507527]\n",
            " [-0.5122131 ]\n",
            " [-0.5122131 ]\n",
            " [-0.5122131 ]\n",
            " [ 0.44371948]\n",
            " [-0.83085734]\n",
            " [-0.5122131 ]\n",
            " [-0.19356893]\n",
            " [-0.19356893]\n",
            " [ 0.7623637 ]\n",
            " [ 0.12507527]\n",
            " [ 1.399652  ]\n",
            " [ 0.12507527]\n",
            " [ 0.44371948]\n",
            " [ 2.992873  ]\n",
            " [-0.83085734]\n",
            " [ 0.12507527]\n",
            " [-0.19356893]\n",
            " [-0.19356893]\n",
            " [-0.83085734]\n",
            " [-0.83085734]\n",
            " [-0.19356893]\n",
            " [ 0.44371948]\n",
            " [-0.5122131 ]\n",
            " [-0.5122131 ]\n",
            " [-0.83085734]\n",
            " [ 2.0369403 ]\n",
            " [-0.5122131 ]\n",
            " [-0.83085734]\n",
            " [-0.5122131 ]\n",
            " [-0.83085734]\n",
            " [ 1.399652  ]\n",
            " [-0.5122131 ]\n",
            " [ 0.7623637 ]\n",
            " [-0.83085734]\n",
            " [ 2.3555846 ]\n",
            " [ 0.12507527]\n",
            " [-0.5122131 ]\n",
            " [ 0.44371948]\n",
            " [-0.5122131 ]\n",
            " [ 0.12507527]\n",
            " [-0.5122131 ]\n",
            " [-0.83085734]\n",
            " [-0.19356893]\n",
            " [-0.83085734]\n",
            " [-0.5122131 ]\n",
            " [-0.83085734]\n",
            " [-0.19356893]\n",
            " [ 0.12507527]\n",
            " [-0.83085734]\n",
            " [ 0.44371948]\n",
            " [-0.19356893]\n",
            " [-0.83085734]\n",
            " [-0.83085734]\n",
            " [-0.83085734]\n",
            " [-0.19356893]\n",
            " [ 2.3555846 ]\n",
            " [-0.19356893]\n",
            " [-0.5122131 ]\n",
            " [ 0.12507527]\n",
            " [ 0.44371948]\n",
            " [ 2.3555846 ]\n",
            " [ 1.0810078 ]\n",
            " [ 2.3555846 ]\n",
            " [-0.5122131 ]\n",
            " [ 0.44371948]\n",
            " [-0.83085734]\n",
            " [ 0.44371948]\n",
            " [-0.83085734]\n",
            " [-0.5122131 ]\n",
            " [-0.5122131 ]\n",
            " [-0.5122131 ]\n",
            " [ 0.12507527]\n",
            " [-0.83085734]\n",
            " [-0.83085734]\n",
            " [-0.19356893]\n",
            " [-0.83085734]\n",
            " [-0.5122131 ]\n",
            " [-0.83085734]\n",
            " [-0.19356893]\n",
            " [ 0.12507527]\n",
            " [ 0.44371948]\n",
            " [ 1.0810078 ]\n",
            " [-0.83085734]\n",
            " [ 0.44371948]\n",
            " [-0.5122131 ]\n",
            " [-0.83085734]\n",
            " [ 0.12507527]\n",
            " [-0.83085734]\n",
            " [-0.83085734]\n",
            " [ 0.44371948]\n",
            " [ 1.0810078 ]\n",
            " [-0.5122131 ]\n",
            " [-0.5122131 ]\n",
            " [-0.5122131 ]\n",
            " [-0.5122131 ]\n",
            " [-0.5122131 ]\n",
            " [ 2.0369403 ]\n",
            " [ 1.7182963 ]\n",
            " [-0.83085734]\n",
            " [-0.19356893]\n",
            " [-0.19356893]\n",
            " [ 0.12507527]\n",
            " [ 0.44371948]\n",
            " [ 0.44371948]\n",
            " [ 0.12507527]\n",
            " [ 2.3555846 ]\n",
            " [ 0.44371948]\n",
            " [-0.83085734]\n",
            " [-1.1495016 ]\n",
            " [-0.19356893]\n",
            " [ 2.3555846 ]\n",
            " [ 0.44371948]\n",
            " [-0.5122131 ]\n",
            " [-0.83085734]\n",
            " [ 1.399652  ]\n",
            " [-0.19356893]\n",
            " [ 0.44371948]\n",
            " [ 1.0810078 ]\n",
            " [-0.19356893]\n",
            " [-0.83085734]\n",
            " [-0.19356893]\n",
            " [-0.5122131 ]\n",
            " [-0.5122131 ]\n",
            " [ 0.44371948]\n",
            " [-0.19356893]\n",
            " [-0.5122131 ]\n",
            " [-0.19356893]\n",
            " [ 2.3555846 ]\n",
            " [-0.83085734]\n",
            " [ 1.0810078 ]\n",
            " [ 0.44371948]\n",
            " [ 1.0810078 ]\n",
            " [ 0.12507527]\n",
            " [-0.83085734]\n",
            " [-0.19356893]\n",
            " [-0.5122131 ]\n",
            " [-0.83085734]\n",
            " [ 2.6742287 ]\n",
            " [ 0.44371948]\n",
            " [-0.83085734]\n",
            " [-0.5122131 ]\n",
            " [-0.83085734]\n",
            " [ 2.0369403 ]\n",
            " [ 0.12507527]\n",
            " [-0.5122131 ]\n",
            " [ 0.44371948]\n",
            " [ 6.1793146 ]\n",
            " [-0.5122131 ]\n",
            " [-0.5122131 ]\n",
            " [-0.5122131 ]\n",
            " [-0.83085734]\n",
            " [-0.5122131 ]\n",
            " [-0.83085734]\n",
            " [ 0.12507527]\n",
            " [-0.5122131 ]\n",
            " [-0.19356893]\n",
            " [-0.5122131 ]\n",
            " [ 0.12507527]\n",
            " [ 0.7623637 ]\n",
            " [-0.19356893]\n",
            " [ 1.7182963 ]\n",
            " [-0.83085734]\n",
            " [-0.83085734]\n",
            " [-0.5122131 ]\n",
            " [-0.19356893]\n",
            " [-0.19356893]\n",
            " [-0.83085734]\n",
            " [-0.5122131 ]\n",
            " [-0.83085734]\n",
            " [-0.5122131 ]\n",
            " [ 1.0810078 ]\n",
            " [ 0.7623637 ]\n",
            " [ 2.6742287 ]\n",
            " [-0.83085734]\n",
            " [ 0.12507527]\n",
            " [-0.5122131 ]\n",
            " [-0.5122131 ]\n",
            " [-0.83085734]\n",
            " [-0.19356893]\n",
            " [ 0.44371948]\n",
            " [ 0.7623637 ]\n",
            " [-0.5122131 ]\n",
            " [ 0.44371948]\n",
            " [ 1.0810078 ]\n",
            " [-0.19356893]\n",
            " [ 0.44371948]\n",
            " [-0.83085734]\n",
            " [-1.1495016 ]\n",
            " [-0.5122131 ]\n",
            " [ 0.12507527]\n",
            " [ 0.7623637 ]\n",
            " [-0.83085734]\n",
            " [ 0.44371948]\n",
            " [-0.19356893]\n",
            " [ 8.409824  ]\n",
            " [-0.83085734]\n",
            " [ 0.44371948]\n",
            " [-0.5122131 ]\n",
            " [ 0.44371948]\n",
            " [-0.83085734]], shape=(256, 1), dtype=float32)\n",
            "Fee\n",
            "tf.Tensor(\n",
            "[[-0.28823656]\n",
            " [-0.28823656]\n",
            " [ 3.436777  ]\n",
            " [-0.28823656]\n",
            " [-0.28823656]\n",
            " [-0.28823656]\n",
            " [ 0.70510036]\n",
            " [ 0.332599  ]\n",
            " [ 0.9534346 ]\n",
            " [-0.28823656]\n",
            " [-0.28823656]\n",
            " [-0.28823656]\n",
            " [-0.28823656]\n",
            " [-0.28823656]\n",
            " [-0.28823656]\n",
            " [ 0.9534346 ]\n",
            " [-0.28823656]\n",
            " [-0.16406944]\n",
            " [-0.28823656]\n",
            " [-0.28823656]\n",
            " [ 0.332599  ]\n",
            " [-0.28823656]\n",
            " [-0.28823656]\n",
            " [ 0.9534346 ]\n",
            " [-0.28823656]\n",
            " [-0.28823656]\n",
            " [-0.28823656]\n",
            " [-0.28823656]\n",
            " [-0.28823656]\n",
            " [ 0.332599  ]\n",
            " [-0.28823656]\n",
            " [-0.28823656]\n",
            " [-0.28823656]\n",
            " [-0.28823656]\n",
            " [-0.28823656]\n",
            " [-0.28823656]\n",
            " [-0.03990232]\n",
            " [-0.28823656]\n",
            " [-0.28823656]\n",
            " [-0.28823656]\n",
            " [-0.28823656]\n",
            " [-0.28823656]\n",
            " [-0.28823656]\n",
            " [ 0.9534346 ]\n",
            " [-0.28823656]\n",
            " [-0.28823656]\n",
            " [-0.28823656]\n",
            " [-0.28823656]\n",
            " [-0.28823656]\n",
            " [ 0.332599  ]\n",
            " [-0.28823656]\n",
            " [-0.28823656]\n",
            " [-0.28823656]\n",
            " [ 3.436777  ]\n",
            " [-0.28823656]\n",
            " [ 2.1951058 ]\n",
            " [-0.17648615]\n",
            " [ 0.9534346 ]\n",
            " [-0.28823656]\n",
            " [-0.28823656]\n",
            " [-0.28823656]\n",
            " [-0.28823656]\n",
            " [-0.28823656]\n",
            " [-0.28823656]\n",
            " [-0.28823656]\n",
            " [-0.28823656]\n",
            " [-0.28823656]\n",
            " [-0.28823656]\n",
            " [-0.28823656]\n",
            " [-0.28823656]\n",
            " [-0.28823656]\n",
            " [-0.28823656]\n",
            " [-0.28823656]\n",
            " [-0.28823656]\n",
            " [-0.28823656]\n",
            " [-0.28823656]\n",
            " [-0.28823656]\n",
            " [-0.28823656]\n",
            " [-0.28823656]\n",
            " [-0.28823656]\n",
            " [ 2.1951058 ]\n",
            " [ 0.9534346 ]\n",
            " [-0.28823656]\n",
            " [-0.28823656]\n",
            " [-0.28823656]\n",
            " [ 5.9201193 ]\n",
            " [-0.28823656]\n",
            " [-0.28823656]\n",
            " [-0.28823656]\n",
            " [-0.28823656]\n",
            " [-0.28823656]\n",
            " [-0.28823656]\n",
            " [-0.28823656]\n",
            " [-0.28823656]\n",
            " [ 0.332599  ]\n",
            " [-0.28823656]\n",
            " [-0.28823656]\n",
            " [ 0.20843191]\n",
            " [-0.28823656]\n",
            " [-0.28823656]\n",
            " [-0.28823656]\n",
            " [-0.28823656]\n",
            " [-0.28823656]\n",
            " [-0.28823656]\n",
            " [-0.28823656]\n",
            " [ 2.8159413 ]\n",
            " [ 3.436777  ]\n",
            " [-0.28823656]\n",
            " [-0.28823656]\n",
            " [-0.28823656]\n",
            " [-0.28823656]\n",
            " [-0.28823656]\n",
            " [-0.28823656]\n",
            " [-0.28823656]\n",
            " [ 0.9534346 ]\n",
            " [-0.28823656]\n",
            " [-0.28823656]\n",
            " [-0.28823656]\n",
            " [-0.28823656]\n",
            " [-0.28823656]\n",
            " [-0.28823656]\n",
            " [-0.28823656]\n",
            " [-0.28823656]\n",
            " [ 0.332599  ]\n",
            " [-0.28823656]\n",
            " [-0.28823656]\n",
            " [-0.16406944]\n",
            " [-0.28823656]\n",
            " [-0.28823656]\n",
            " [-0.28823656]\n",
            " [-0.28823656]\n",
            " [-0.03990232]\n",
            " [-0.28823656]\n",
            " [-0.28823656]\n",
            " [-0.28823656]\n",
            " [-0.28823656]\n",
            " [-0.28823656]\n",
            " [-0.28823656]\n",
            " [-0.28823656]\n",
            " [ 0.5809332 ]\n",
            " [-0.28823656]\n",
            " [ 2.8159413 ]\n",
            " [-0.28823656]\n",
            " [-0.28823656]\n",
            " [-0.28823656]\n",
            " [-0.28823656]\n",
            " [-0.28823656]\n",
            " [-0.28823656]\n",
            " [ 0.9534346 ]\n",
            " [ 0.9534346 ]\n",
            " [-0.28823656]\n",
            " [-0.28823656]\n",
            " [-0.28823656]\n",
            " [ 4.0576124 ]\n",
            " [ 0.5809332 ]\n",
            " [ 0.9534346 ]\n",
            " [-0.28823656]\n",
            " [-0.28823656]\n",
            " [-0.28823656]\n",
            " [-0.28823656]\n",
            " [-0.28823656]\n",
            " [ 1.5742701 ]\n",
            " [-0.28823656]\n",
            " [-0.28823656]\n",
            " [-0.28823656]\n",
            " [-0.28823656]\n",
            " [-0.28823656]\n",
            " [ 5.9201193 ]\n",
            " [-0.28823656]\n",
            " [-0.28823656]\n",
            " [ 0.45676613]\n",
            " [-0.28823656]\n",
            " [-0.28823656]\n",
            " [-0.28823656]\n",
            " [-0.28823656]\n",
            " [-0.28823656]\n",
            " [-0.28823656]\n",
            " [-0.28823656]\n",
            " [-0.28823656]\n",
            " [-0.28823656]\n",
            " [-0.28823656]\n",
            " [-0.28823656]\n",
            " [ 3.436777  ]\n",
            " [-0.28823656]\n",
            " [-0.03990232]\n",
            " [-0.28823656]\n",
            " [ 0.08426479]\n",
            " [-0.28823656]\n",
            " [-0.28823656]\n",
            " [-0.28823656]\n",
            " [-0.03990232]\n",
            " [-0.28823656]\n",
            " [-0.28823656]\n",
            " [-0.28823656]\n",
            " [-0.28823656]\n",
            " [-0.28823656]\n",
            " [-0.28823656]\n",
            " [-0.28823656]\n",
            " [-0.28823656]\n",
            " [ 0.332599  ]\n",
            " [-0.28823656]\n",
            " [-0.28823656]\n",
            " [-0.28823656]\n",
            " [ 0.332599  ]\n",
            " [-0.28823656]\n",
            " [-0.28823656]\n",
            " [-0.28823656]\n",
            " [-0.28823656]\n",
            " [-0.28823656]\n",
            " [-0.28823656]\n",
            " [-0.28823656]\n",
            " [-0.28823656]\n",
            " [-0.28823656]\n",
            " [-0.28823656]\n",
            " [ 7.7826257 ]\n",
            " [-0.28823656]\n",
            " [ 5.9201193 ]\n",
            " [ 0.332599  ]\n",
            " [-0.28823656]\n",
            " [ 0.332599  ]\n",
            " [-0.28823656]\n",
            " [-0.28823656]\n",
            " [-0.28823656]\n",
            " [-0.28823656]\n",
            " [-0.28823656]\n",
            " [-0.28823656]\n",
            " [-0.28823656]\n",
            " [-0.28823656]\n",
            " [-0.28823656]\n",
            " [-0.28823656]\n",
            " [-0.28823656]\n",
            " [12.128475  ]\n",
            " [-0.28823656]\n",
            " [ 0.9534346 ]\n",
            " [-0.28823656]\n",
            " [-0.28823656]\n",
            " [ 0.332599  ]\n",
            " [-0.28823656]\n",
            " [-0.28823656]\n",
            " [-0.28823656]\n",
            " [-0.28823656]\n",
            " [-0.28823656]\n",
            " [-0.28823656]\n",
            " [-0.28823656]\n",
            " [ 0.9534346 ]\n",
            " [-0.28823656]\n",
            " [-0.28823656]\n",
            " [-0.28823656]\n",
            " [ 0.9534346 ]\n",
            " [-0.28823656]\n",
            " [ 0.332599  ]\n",
            " [-0.28823656]\n",
            " [ 0.332599  ]\n",
            " [-0.28823656]\n",
            " [-0.28823656]\n",
            " [ 3.436777  ]], shape=(256, 1), dtype=float32)\n"
          ],
          "name": "stdout"
        }
      ]
    },
    {
      "cell_type": "code",
      "metadata": {
        "id": "MsPWLMST2CEa",
        "outputId": "ff62c8dd-2156-4db7-f449-013d8686ac14",
        "colab": {
          "base_uri": "https://localhost:8080/",
          "height": 153
        }
      },
      "source": [
        "# Categorical features encoded as integers.\n",
        "age_col = tf.keras.Input(shape=(1,), name='Age', dtype='int64')\n",
        "encoding_layer = get_category_encoding_layer('Age', train_ds, dtype='int64',\n",
        "                                             max_tokens=5)\n",
        "encoded_age_col = encoding_layer(age_col)\n",
        "print(encoding_layer(train_features['Age']))\n",
        "#all_inputs.append(age_col)\n",
        "#encoded_features.append(encoded_age_col)"
      ],
      "execution_count": 96,
      "outputs": [
        {
          "output_type": "stream",
          "text": [
            "tf.Tensor(\n",
            "[[0. 0. 1. 0. 0.]\n",
            " [0. 1. 0. 0. 0.]\n",
            " [0. 1. 0. 0. 0.]\n",
            " ...\n",
            " [0. 1. 0. 0. 0.]\n",
            " [0. 0. 1. 0. 0.]\n",
            " [0. 1. 0. 0. 0.]], shape=(256, 5), dtype=float32)\n"
          ],
          "name": "stdout"
        }
      ]
    },
    {
      "cell_type": "code",
      "metadata": {
        "id": "UJjXeNek7nld",
        "outputId": "80fadad6-a754-4149-dbda-d71fc1c2a8d9",
        "colab": {
          "base_uri": "https://localhost:8080/",
          "height": 1000
        }
      },
      "source": [
        "# Categorical features encoded as string.\n",
        "categorical_cols = ['Type', 'Color1', 'Color2', 'Gender', 'MaturitySize',\n",
        "                    'FurLength', 'Vaccinated', 'Sterilized', 'Health', 'Breed1']\n",
        "for header in categorical_cols:\n",
        "  print('-'*10)\n",
        "  print(header)\n",
        "  categorical_col = tf.keras.Input(shape=(1,), name=header, dtype='string')\n",
        "  encoding_layer = get_category_encoding_layer(header, train_ds, dtype='string',\n",
        "                                               max_tokens=5)\n",
        "  encoded_categorical_col = encoding_layer(categorical_col)\n",
        "  print(encoding_layer(train_features[header]))\n",
        "  #all_inputs.append(categorical_col)\n",
        "  #encoded_features.append(encoded_categorical_col)\n"
      ],
      "execution_count": 97,
      "outputs": [
        {
          "output_type": "stream",
          "text": [
            "----------\n",
            "Type\n",
            "tf.Tensor(\n",
            "[[0. 0. 1. 0.]\n",
            " [0. 0. 1. 0.]\n",
            " [0. 0. 1. 0.]\n",
            " ...\n",
            " [0. 0. 1. 0.]\n",
            " [0. 0. 1. 0.]\n",
            " [0. 0. 1. 0.]], shape=(256, 4), dtype=float32)\n",
            "----------\n",
            "Color1\n",
            "tf.Tensor(\n",
            "[[0. 0. 0. 1. 0.]\n",
            " [0. 0. 0. 1. 0.]\n",
            " [0. 0. 1. 0. 0.]\n",
            " ...\n",
            " [0. 0. 1. 0. 0.]\n",
            " [0. 1. 0. 0. 0.]\n",
            " [0. 0. 1. 0. 0.]], shape=(256, 5), dtype=float32)\n",
            "----------\n",
            "Color2\n",
            "tf.Tensor(\n",
            "[[0. 0. 1. 0. 0.]\n",
            " [0. 0. 1. 0. 0.]\n",
            " [0. 0. 0. 1. 0.]\n",
            " ...\n",
            " [0. 0. 0. 1. 0.]\n",
            " [0. 0. 1. 0. 0.]\n",
            " [0. 1. 0. 0. 0.]], shape=(256, 5), dtype=float32)\n",
            "----------\n",
            "Gender\n",
            "tf.Tensor(\n",
            "[[0. 0. 1. 0.]\n",
            " [0. 0. 0. 1.]\n",
            " [0. 0. 1. 0.]\n",
            " ...\n",
            " [0. 0. 1. 0.]\n",
            " [0. 0. 1. 0.]\n",
            " [0. 0. 0. 1.]], shape=(256, 4), dtype=float32)\n",
            "----------\n",
            "MaturitySize\n",
            "tf.Tensor(\n",
            "[[0. 0. 1. 0. 0.]\n",
            " [0. 0. 1. 0. 0.]\n",
            " [0. 0. 1. 0. 0.]\n",
            " ...\n",
            " [0. 0. 1. 0. 0.]\n",
            " [0. 0. 1. 0. 0.]\n",
            " [0. 0. 0. 1. 0.]], shape=(256, 5), dtype=float32)\n",
            "----------\n",
            "FurLength\n",
            "tf.Tensor(\n",
            "[[0. 0. 0. 1. 0.]\n",
            " [0. 0. 0. 1. 0.]\n",
            " [0. 0. 1. 0. 0.]\n",
            " ...\n",
            " [0. 0. 1. 0. 0.]\n",
            " [0. 0. 1. 0. 0.]\n",
            " [0. 0. 1. 0. 0.]], shape=(256, 5), dtype=float32)\n",
            "----------\n",
            "Vaccinated\n",
            "tf.Tensor(\n",
            "[[0. 0. 0. 1. 0.]\n",
            " [0. 0. 1. 0. 0.]\n",
            " [0. 0. 0. 1. 0.]\n",
            " ...\n",
            " [0. 0. 1. 0. 0.]\n",
            " [0. 0. 0. 1. 0.]\n",
            " [0. 0. 1. 0. 0.]], shape=(256, 5), dtype=float32)\n",
            "----------\n",
            "Sterilized\n",
            "tf.Tensor(\n",
            "[[0. 0. 1. 0. 0.]\n",
            " [0. 0. 1. 0. 0.]\n",
            " [0. 0. 1. 0. 0.]\n",
            " ...\n",
            " [0. 0. 0. 1. 0.]\n",
            " [0. 0. 1. 0. 0.]\n",
            " [0. 0. 1. 0. 0.]], shape=(256, 5), dtype=float32)\n",
            "----------\n",
            "Health\n",
            "tf.Tensor(\n",
            "[[0. 0. 1. 0. 0.]\n",
            " [0. 0. 1. 0. 0.]\n",
            " [0. 0. 1. 0. 0.]\n",
            " ...\n",
            " [0. 0. 1. 0. 0.]\n",
            " [0. 0. 1. 0. 0.]\n",
            " [0. 0. 1. 0. 0.]], shape=(256, 5), dtype=float32)\n",
            "----------\n",
            "Breed1\n",
            "tf.Tensor(\n",
            "[[0. 0. 1. 0. 0.]\n",
            " [0. 1. 0. 0. 0.]\n",
            " [0. 1. 0. 0. 0.]\n",
            " ...\n",
            " [0. 0. 1. 0. 0.]\n",
            " [0. 0. 1. 0. 0.]\n",
            " [0. 1. 0. 0. 0.]], shape=(256, 5), dtype=float32)\n"
          ],
          "name": "stdout"
        }
      ]
    },
    {
      "cell_type": "markdown",
      "metadata": {
        "id": "b9TwFwdn2CNZ"
      },
      "source": [
        "### End Explain"
      ]
    },
    {
      "cell_type": "markdown",
      "metadata": {
        "id": "YHSnhz2fyEq3"
      },
      "source": [
        "## Create, compile, and train the model\n"
      ]
    },
    {
      "cell_type": "markdown",
      "metadata": {
        "id": "IDGyN_wpo0XS"
      },
      "source": [
        "Now you can create our end-to-end model."
      ]
    },
    {
      "cell_type": "code",
      "metadata": {
        "id": "VnxeOFJlAW8Y",
        "outputId": "43207508-7241-4da1-e198-6308a767e675",
        "colab": {
          "base_uri": "https://localhost:8080/",
          "height": 238
        }
      },
      "source": [
        "all_inputs"
      ],
      "execution_count": 107,
      "outputs": [
        {
          "output_type": "execute_result",
          "data": {
            "text/plain": [
              "[<tf.Tensor 'PhotoAmt_6:0' shape=(None, 1) dtype=float32>,\n",
              " <tf.Tensor 'Fee_6:0' shape=(None, 1) dtype=float32>,\n",
              " <tf.Tensor 'Age_6:0' shape=(None, 1) dtype=int64>,\n",
              " <tf.Tensor 'Type_8:0' shape=(None, 1) dtype=string>,\n",
              " <tf.Tensor 'Color1_8:0' shape=(None, 1) dtype=string>,\n",
              " <tf.Tensor 'Color2_8:0' shape=(None, 1) dtype=string>,\n",
              " <tf.Tensor 'Gender_8:0' shape=(None, 1) dtype=string>,\n",
              " <tf.Tensor 'MaturitySize_8:0' shape=(None, 1) dtype=string>,\n",
              " <tf.Tensor 'FurLength_8:0' shape=(None, 1) dtype=string>,\n",
              " <tf.Tensor 'Vaccinated_8:0' shape=(None, 1) dtype=string>,\n",
              " <tf.Tensor 'Sterilized_8:0' shape=(None, 1) dtype=string>,\n",
              " <tf.Tensor 'Health_8:0' shape=(None, 1) dtype=string>,\n",
              " <tf.Tensor 'Breed1_8:0' shape=(None, 1) dtype=string>]"
            ]
          },
          "metadata": {
            "tags": []
          },
          "execution_count": 107
        }
      ]
    },
    {
      "cell_type": "code",
      "metadata": {
        "id": "6Yrj-_pr6jyL"
      },
      "source": [
        "all_features = tf.keras.layers.concatenate(encoded_features)\n",
        "x = tf.keras.layers.Dense(32, activation=\"relu\")(all_features)\n",
        "x = tf.keras.layers.Dropout(0.5)(x)\n",
        "output = tf.keras.layers.Dense(1)(x)\n",
        "model = tf.keras.Model(all_inputs, output)\n",
        "model.compile(optimizer='adam',\n",
        "              loss=tf.keras.losses.BinaryCrossentropy(from_logits=True),\n",
        "              metrics=[\"accuracy\"])"
      ],
      "execution_count": 104,
      "outputs": []
    },
    {
      "cell_type": "code",
      "metadata": {
        "id": "VBcI4AFq_BTo",
        "outputId": "5a26d3f6-81c3-46e7-f5d0-8350b2f951b5",
        "colab": {
          "base_uri": "https://localhost:8080/",
          "height": 34
        }
      },
      "source": [
        "all_features"
      ],
      "execution_count": 105,
      "outputs": [
        {
          "output_type": "execute_result",
          "data": {
            "text/plain": [
              "<tf.Tensor 'concatenate_3/concat:0' shape=(None, 55) dtype=float32>"
            ]
          },
          "metadata": {
            "tags": []
          },
          "execution_count": 105
        }
      ]
    },
    {
      "cell_type": "markdown",
      "metadata": {
        "id": "f6mNMfG6yEq5"
      },
      "source": [
        "Let's visualize our connectivity graph:\n"
      ]
    },
    {
      "cell_type": "code",
      "metadata": {
        "id": "Y7Bkx4c7yEq5",
        "outputId": "81fb0de3-a7e2-4582-a894-4c6469fcb2a8",
        "colab": {
          "base_uri": "https://localhost:8080/",
          "height": 516
        }
      },
      "source": [
        "# rankdir='LR' is used to make the graph horizontal.\n",
        "tf.keras.utils.plot_model(model, show_shapes=True, rankdir=\"LR\")\n"
      ],
      "execution_count": 106,
      "outputs": [
        {
          "output_type": "execute_result",
          "data": {
            "image/png": "[encoded data removed]",
            "text/plain": [
              "<IPython.core.display.Image object>"
            ]
          },
          "metadata": {
            "tags": []
          },
          "execution_count": 106
        }
      ]
    },
    {
      "cell_type": "markdown",
      "metadata": {
        "id": "CED6OStLyEq7"
      },
      "source": [
        "### Train the model\n"
      ]
    },
    {
      "cell_type": "code",
      "metadata": {
        "id": "OQfE3PC6yEq8",
        "outputId": "ee0b1363-849a-406d-9646-3cb946b8390b",
        "colab": {
          "base_uri": "https://localhost:8080/",
          "height": 394
        }
      },
      "source": [
        "model.fit(train_ds, epochs=10, validation_data=val_ds)"
      ],
      "execution_count": 23,
      "outputs": [
        {
          "output_type": "stream",
          "text": [
            "Epoch 1/10\n",
            "29/29 [==============================] - 0s 14ms/step - loss: 0.6194 - accuracy: 0.5758 - val_loss: 0.5623 - val_accuracy: 0.7216\n",
            "Epoch 2/10\n",
            "29/29 [==============================] - 0s 4ms/step - loss: 0.5755 - accuracy: 0.6694 - val_loss: 0.5408 - val_accuracy: 0.7373\n",
            "Epoch 3/10\n",
            "29/29 [==============================] - 0s 4ms/step - loss: 0.5552 - accuracy: 0.6897 - val_loss: 0.5275 - val_accuracy: 0.7492\n",
            "Epoch 4/10\n",
            "29/29 [==============================] - 0s 4ms/step - loss: 0.5459 - accuracy: 0.7057 - val_loss: 0.5195 - val_accuracy: 0.7524\n",
            "Epoch 5/10\n",
            "29/29 [==============================] - 0s 4ms/step - loss: 0.5407 - accuracy: 0.7062 - val_loss: 0.5147 - val_accuracy: 0.7508\n",
            "Epoch 6/10\n",
            "29/29 [==============================] - 0s 4ms/step - loss: 0.5346 - accuracy: 0.7088 - val_loss: 0.5114 - val_accuracy: 0.7470\n",
            "Epoch 7/10\n",
            "29/29 [==============================] - 0s 4ms/step - loss: 0.5294 - accuracy: 0.7157 - val_loss: 0.5092 - val_accuracy: 0.7508\n",
            "Epoch 8/10\n",
            "29/29 [==============================] - 0s 4ms/step - loss: 0.5266 - accuracy: 0.7238 - val_loss: 0.5080 - val_accuracy: 0.7524\n",
            "Epoch 9/10\n",
            "29/29 [==============================] - 0s 4ms/step - loss: 0.5202 - accuracy: 0.7214 - val_loss: 0.5068 - val_accuracy: 0.7497\n",
            "Epoch 10/10\n",
            "29/29 [==============================] - 0s 4ms/step - loss: 0.5211 - accuracy: 0.7295 - val_loss: 0.5058 - val_accuracy: 0.7519\n"
          ],
          "name": "stdout"
        },
        {
          "output_type": "execute_result",
          "data": {
            "text/plain": [
              "<tensorflow.python.keras.callbacks.History at 0x7efc3f512080>"
            ]
          },
          "metadata": {
            "tags": []
          },
          "execution_count": 23
        }
      ]
    },
    {
      "cell_type": "code",
      "metadata": {
        "id": "T8N2uAdU2Cni",
        "outputId": "c36d8936-0642-46b8-8fb2-034bbe8a20bf",
        "colab": {
          "base_uri": "https://localhost:8080/",
          "height": 51
        }
      },
      "source": [
        "loss, accuracy = model.evaluate(test_ds)\n",
        "print(\"Accuracy\", accuracy)"
      ],
      "execution_count": 24,
      "outputs": [
        {
          "output_type": "stream",
          "text": [
            "10/10 [==============================] - 0s 2ms/step - loss: 0.5149 - accuracy: 0.7470\n",
            "Accuracy 0.746967077255249\n"
          ],
          "name": "stdout"
        }
      ]
    },
    {
      "cell_type": "markdown",
      "metadata": {
        "id": "LmZMnTKaCZda"
      },
      "source": [
        "## Inference on new data\n",
        "\n",
        "Key point: The model you have developed can now classify a row from a CSV file directly, because the preprocessing code is included inside the model itself.\n"
      ]
    },
    {
      "cell_type": "markdown",
      "metadata": {
        "id": "4xkOlK8Zweeh"
      },
      "source": [
        "You can now save and reload the Keras model. Follow the tutorial [here](https://www.tensorflow.org/tutorials/keras/save_and_load) for more information on TensorFlow models."
      ]
    },
    {
      "cell_type": "code",
      "metadata": {
        "id": "QH9Zy1sBvwOH",
        "outputId": "a1ba446d-62c0-432b-e47d-98c843bd71b5",
        "colab": {
          "base_uri": "https://localhost:8080/",
          "height": 275
        }
      },
      "source": [
        "model.save('my_pet_classifier')\n",
        "reloaded_model = tf.keras.models.load_model('my_pet_classifier')"
      ],
      "execution_count": 25,
      "outputs": [
        {
          "output_type": "stream",
          "text": [
            "WARNING:tensorflow:From /usr/local/lib/python3.6/dist-packages/tensorflow/python/training/tracking/tracking.py:111: Model.state_updates (from tensorflow.python.keras.engine.training) is deprecated and will be removed in a future version.\n",
            "Instructions for updating:\n",
            "This property should not be used in TensorFlow 2.0, as updates are applied automatically.\n",
            "WARNING:tensorflow:From /usr/local/lib/python3.6/dist-packages/tensorflow/python/training/tracking/tracking.py:111: Layer.updates (from tensorflow.python.keras.engine.base_layer) is deprecated and will be removed in a future version.\n",
            "Instructions for updating:\n",
            "This property should not be used in TensorFlow 2.0, as updates are applied automatically.\n",
            "INFO:tensorflow:Assets written to: my_pet_classifier/assets\n",
            "WARNING:tensorflow:5 out of the last 5 calls to <function recreate_function.<locals>.restored_function_body at 0x7efc3b896f28> triggered tf.function retracing. Tracing is expensive and the excessive number of tracings could be due to (1) creating @tf.function repeatedly in a loop, (2) passing tensors with different shapes, (3) passing Python objects instead of tensors. For (1), please define your @tf.function outside of the loop. For (2), @tf.function has experimental_relax_shapes=True option that relaxes argument shapes that can avoid unnecessary retracing. For (3), please refer to https://www.tensorflow.org/tutorials/customization/performance#python_or_tensor_args and https://www.tensorflow.org/api_docs/python/tf/function for  more details.\n",
            "WARNING:tensorflow:6 out of the last 6 calls to <function recreate_function.<locals>.restored_function_body at 0x7efc3f60fa60> triggered tf.function retracing. Tracing is expensive and the excessive number of tracings could be due to (1) creating @tf.function repeatedly in a loop, (2) passing tensors with different shapes, (3) passing Python objects instead of tensors. For (1), please define your @tf.function outside of the loop. For (2), @tf.function has experimental_relax_shapes=True option that relaxes argument shapes that can avoid unnecessary retracing. For (3), please refer to https://www.tensorflow.org/tutorials/customization/performance#python_or_tensor_args and https://www.tensorflow.org/api_docs/python/tf/function for  more details.\n",
            "WARNING:tensorflow:7 out of the last 7 calls to <function recreate_function.<locals>.restored_function_body at 0x7efc3f651b70> triggered tf.function retracing. Tracing is expensive and the excessive number of tracings could be due to (1) creating @tf.function repeatedly in a loop, (2) passing tensors with different shapes, (3) passing Python objects instead of tensors. For (1), please define your @tf.function outside of the loop. For (2), @tf.function has experimental_relax_shapes=True option that relaxes argument shapes that can avoid unnecessary retracing. For (3), please refer to https://www.tensorflow.org/tutorials/customization/performance#python_or_tensor_args and https://www.tensorflow.org/api_docs/python/tf/function for  more details.\n",
            "WARNING:tensorflow:8 out of the last 8 calls to <function recreate_function.<locals>.restored_function_body at 0x7efc3f60fd90> triggered tf.function retracing. Tracing is expensive and the excessive number of tracings could be due to (1) creating @tf.function repeatedly in a loop, (2) passing tensors with different shapes, (3) passing Python objects instead of tensors. For (1), please define your @tf.function outside of the loop. For (2), @tf.function has experimental_relax_shapes=True option that relaxes argument shapes that can avoid unnecessary retracing. For (3), please refer to https://www.tensorflow.org/tutorials/customization/performance#python_or_tensor_args and https://www.tensorflow.org/api_docs/python/tf/function for  more details.\n",
            "WARNING:tensorflow:9 out of the last 9 calls to <function recreate_function.<locals>.restored_function_body at 0x7efc3b8a4400> triggered tf.function retracing. Tracing is expensive and the excessive number of tracings could be due to (1) creating @tf.function repeatedly in a loop, (2) passing tensors with different shapes, (3) passing Python objects instead of tensors. For (1), please define your @tf.function outside of the loop. For (2), @tf.function has experimental_relax_shapes=True option that relaxes argument shapes that can avoid unnecessary retracing. For (3), please refer to https://www.tensorflow.org/tutorials/customization/performance#python_or_tensor_args and https://www.tensorflow.org/api_docs/python/tf/function for  more details.\n",
            "WARNING:tensorflow:10 out of the last 10 calls to <function recreate_function.<locals>.restored_function_body at 0x7efc3ba01488> triggered tf.function retracing. Tracing is expensive and the excessive number of tracings could be due to (1) creating @tf.function repeatedly in a loop, (2) passing tensors with different shapes, (3) passing Python objects instead of tensors. For (1), please define your @tf.function outside of the loop. For (2), @tf.function has experimental_relax_shapes=True option that relaxes argument shapes that can avoid unnecessary retracing. For (3), please refer to https://www.tensorflow.org/tutorials/customization/performance#python_or_tensor_args and https://www.tensorflow.org/api_docs/python/tf/function for  more details.\n",
            "WARNING:tensorflow:11 out of the last 11 calls to <function recreate_function.<locals>.restored_function_body at 0x7efc3f613048> triggered tf.function retracing. Tracing is expensive and the excessive number of tracings could be due to (1) creating @tf.function repeatedly in a loop, (2) passing tensors with different shapes, (3) passing Python objects instead of tensors. For (1), please define your @tf.function outside of the loop. For (2), @tf.function has experimental_relax_shapes=True option that relaxes argument shapes that can avoid unnecessary retracing. For (3), please refer to https://www.tensorflow.org/tutorials/customization/performance#python_or_tensor_args and https://www.tensorflow.org/api_docs/python/tf/function for  more details.\n"
          ],
          "name": "stdout"
        }
      ]
    },
    {
      "cell_type": "markdown",
      "metadata": {
        "id": "D973plJrdwQ9"
      },
      "source": [
        "To get a prediction for a new sample, you can simply call `model.predict()`. There are just two things you need to do:\n",
        "\n",
        "1.   Wrap scalars into a list so as to have a batch dimension (models only process batches of data, not single samples)\n",
        "2.   Call `convert_to_tensor` on each feature"
      ]
    },
    {
      "cell_type": "code",
      "metadata": {
        "id": "rKq4pxtdDa7i",
        "outputId": "51b2d765-4001-46a8-9365-327c2f994521",
        "colab": {
          "base_uri": "https://localhost:8080/",
          "height": 34
        }
      },
      "source": [
        "sample = {\n",
        "    'Type': 'Cat',\n",
        "    'Age': 3,\n",
        "    'Breed1': 'Tabby',\n",
        "    'Gender': 'Male',\n",
        "    'Color1': 'Black',\n",
        "    'Color2': 'White',\n",
        "    'MaturitySize': 'Small',\n",
        "    'FurLength': 'Short',\n",
        "    'Vaccinated': 'No',\n",
        "    'Sterilized': 'No',\n",
        "    'Health': 'Healthy',\n",
        "    'Fee': 100,\n",
        "    'PhotoAmt': 2,\n",
        "}\n",
        "\n",
        "input_dict = {name: tf.convert_to_tensor([value]) for name, value in sample.items()}\n",
        "predictions = reloaded_model.predict(input_dict)\n",
        "prob = tf.nn.sigmoid(predictions[0])\n",
        "\n",
        "print(\n",
        "    \"This particular pet had a %.1f percent probability \"\n",
        "    \"of getting adopted.\" % (100 * prob)\n",
        ")"
      ],
      "execution_count": 26,
      "outputs": [
        {
          "output_type": "stream",
          "text": [
            "This particular pet had a 81.5 percent probability of getting adopted.\n"
          ],
          "name": "stdout"
        }
      ]
    },
    {
      "cell_type": "markdown",
      "metadata": {
        "id": "XJQQZEiH2FaB"
      },
      "source": [
        "Key point: You will typically see best results with deep learning with larger and more complex datasets. When working with a small dataset like this one, we recommend using a decision tree or random forest as a strong baseline. The goal of this tutorial is to demonstrate the mechanics of working with structured data, so you have code to use as a starting point when working with your own datasets in the future."
      ]
    },
    {
      "cell_type": "markdown",
      "metadata": {
        "id": "k0QAY2Tb2HYG"
      },
      "source": [
        "## Next steps\n",
        "The best way to learn more about classifying structured data is to try it yourself. You may want to find another dataset to work with, and training a model to classify it using code similar to the above. To improve accuracy, think carefully about which features to include in your model, and how they should be represented."
      ]
    }
  ]
}