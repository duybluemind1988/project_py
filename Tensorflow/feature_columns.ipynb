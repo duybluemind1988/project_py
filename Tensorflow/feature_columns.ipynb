{
  "nbformat": 4,
  "nbformat_minor": 0,
  "metadata": {
    "colab": {
      "name": "feature_columns.ipynb",
      "provenance": [],
      "collapsed_sections": []
    },
    "kernelspec": {
      "display_name": "Python 3",
      "name": "python3"
    }
  },
  "cells": [
    {
      "cell_type": "markdown",
      "metadata": {
        "id": "rNdWfPXCjTjY"
      },
      "source": [
        "##### Copyright 2019 The TensorFlow Authors."
      ]
    },
    {
      "cell_type": "code",
      "metadata": {
        "cellView": "form",
        "id": "I1dUQ0GejU8N"
      },
      "source": [
        "#@title Licensed under the Apache License, Version 2.0 (the \"License\");\n",
        "# you may not use this file except in compliance with the License.\n",
        "# You may obtain a copy of the License at\n",
        "#\n",
        "# https://www.apache.org/licenses/LICENSE-2.0\n",
        "#\n",
        "# Unless required by applicable law or agreed to in writing, software\n",
        "# distributed under the License is distributed on an \"AS IS\" BASIS,\n",
        "# WITHOUT WARRANTIES OR CONDITIONS OF ANY KIND, either express or implied.\n",
        "# See the License for the specific language governing permissions and\n",
        "# limitations under the License."
      ],
      "execution_count": 1,
      "outputs": []
    },
    {
      "cell_type": "markdown",
      "metadata": {
        "id": "c05P9g5WjizZ"
      },
      "source": [
        "# Classify structured data with feature columns"
      ]
    },
    {
      "cell_type": "markdown",
      "metadata": {
        "id": "zofH_gCzgplN"
      },
      "source": [
        "<table class=\"tfo-notebook-buttons\" align=\"left\">\n",
        "  <td>\n",
        "    <a target=\"_blank\" href=\"https://www.tensorflow.org/tutorials/structured_data/feature_columns\">\n",
        "    <img src=\"https://www.tensorflow.org/images/tf_logo_32px.png\" />\n",
        "    View on TensorFlow.org</a>\n",
        "  </td>\n",
        "  <td>\n",
        "    <a target=\"_blank\" href=\"https://colab.research.google.com/github/tensorflow/docs/blob/master/site/en/tutorials/structured_data/feature_columns.ipynb\">\n",
        "    <img src=\"https://www.tensorflow.org/images/colab_logo_32px.png\" />\n",
        "    Run in Google Colab</a>\n",
        "  </td>\n",
        "  <td>\n",
        "    <a target=\"_blank\" href=\"https://github.com/tensorflow/docs/blob/master/site/en/tutorials/structured_data/feature_columns.ipynb\">\n",
        "    <img src=\"https://www.tensorflow.org/images/GitHub-Mark-32px.png\" />\n",
        "    View source on GitHub</a>\n",
        "  </td>\n",
        "  <td>\n",
        "    <a href=\"https://storage.googleapis.com/tensorflow_docs/docs/site/en/tutorials/structured_data/feature_columns.ipynb\"><img src=\"https://www.tensorflow.org/images/download_logo_32px.png\" />Download notebook</a>\n",
        "  </td>\n",
        "</table>"
      ]
    },
    {
      "cell_type": "markdown",
      "metadata": {
        "id": "K1y4OHpGgss7"
      },
      "source": [
        "Note: If you are starting a new project to classify structured data, we recommend you use [preprocessing layers](https://www.tensorflow.org/tutorials/structured_data/preprocessing_layers).\n",
        "\n",
        "This tutorial demonstrates how to classify structured data (e.g. tabular data in a CSV). We will use [Keras](https://www.tensorflow.org/guide/keras) to define the model, and [feature columns](https://www.tensorflow.org/guide/feature_columns) as a bridge to map from columns in a CSV to features used to train the model. This tutorial contains complete code to:\n",
        "\n",
        "* Load a CSV file using [Pandas](https://pandas.pydata.org/).\n",
        "* Build an input pipeline to batch and shuffle the rows using [tf.data](https://www.tensorflow.org/guide/datasets).\n",
        "* Map from columns in the CSV to features used to train the model using feature columns.\n",
        "* Build, train, and evaluate a model using Keras.\n",
        "\n",
        "## The Dataset\n",
        "\n",
        "We will use a simplified version of the PetFinder [dataset](https://www.kaggle.com/c/petfinder-adoption-prediction). There are several thousand rows in the CSV. Each row describes a pet, and each column describes an attribute. We will use this information to predict the speed at which the pet will be adopted.\n",
        "\n",
        "Following is a description of this dataset. Notice there are both numeric and categorical columns. There is a free text column which we will not use in this tutorial.\n",
        "\n",
        "Column | Description| Feature Type | Data Type\n",
        "------------|--------------------|----------------------|-----------------\n",
        "Type | Type of animal (Dog, Cat) | Categorical | string\n",
        "Age |  Age of the pet | Numerical | integer\n",
        "Breed1 | Primary breed of the pet | Categorical | string\n",
        "Color1 | Color 1 of pet | Categorical | string\n",
        "Color2 | Color 2 of pet | Categorical | string\n",
        "MaturitySize | Size at maturity | Categorical | string\n",
        "FurLength | Fur length | Categorical | string\n",
        "Vaccinated | Pet has been vaccinated | Categorical | string\n",
        "Sterilized | Pet has been sterilized | Categorical | string\n",
        "Health | Health Condition | Categorical | string\n",
        "Fee | Adoption Fee | Numerical | integer\n",
        "Description | Profile write-up for this pet | Text | string\n",
        "PhotoAmt | Total uploaded photos for this pet | Numerical | integer\n",
        "AdoptionSpeed | Speed of adoption | Classification | integer"
      ]
    },
    {
      "cell_type": "markdown",
      "metadata": {
        "id": "VxyBFc_kKazA"
      },
      "source": [
        "## Import TensorFlow and other libraries"
      ]
    },
    {
      "cell_type": "code",
      "metadata": {
        "id": "LuOWVJBz8a6G",
        "outputId": "1c10d757-4611-423e-f749-7e0b9d3a1c0f",
        "colab": {
          "base_uri": "https://localhost:8080/",
          "height": 122
        }
      },
      "source": [
        "!pip install sklearn"
      ],
      "execution_count": 2,
      "outputs": [
        {
          "output_type": "stream",
          "text": [
            "Requirement already satisfied: sklearn in /usr/local/lib/python3.6/dist-packages (0.0)\n",
            "Requirement already satisfied: scikit-learn in /usr/local/lib/python3.6/dist-packages (from sklearn) (0.22.2.post1)\n",
            "Requirement already satisfied: numpy>=1.11.0 in /usr/local/lib/python3.6/dist-packages (from scikit-learn->sklearn) (1.18.5)\n",
            "Requirement already satisfied: joblib>=0.11 in /usr/local/lib/python3.6/dist-packages (from scikit-learn->sklearn) (0.16.0)\n",
            "Requirement already satisfied: scipy>=0.17.0 in /usr/local/lib/python3.6/dist-packages (from scikit-learn->sklearn) (1.4.1)\n"
          ],
          "name": "stdout"
        }
      ]
    },
    {
      "cell_type": "code",
      "metadata": {
        "id": "9dEreb4QKizj"
      },
      "source": [
        "import numpy as np\n",
        "import pandas as pd\n",
        "\n",
        "import tensorflow as tf\n",
        "\n",
        "from tensorflow import feature_column\n",
        "from tensorflow.keras import layers\n",
        "from sklearn.model_selection import train_test_split"
      ],
      "execution_count": 3,
      "outputs": []
    },
    {
      "cell_type": "markdown",
      "metadata": {
        "id": "KCEhSZcULZ9n"
      },
      "source": [
        "## Use Pandas to create a dataframe\n",
        "\n",
        "[Pandas](https://pandas.pydata.org/) is a Python library with many helpful utilities for loading and working with structured data. We will use Pandas to download the dataset from a URL, and load it into a dataframe."
      ]
    },
    {
      "cell_type": "markdown",
      "metadata": {
        "id": "ixkA8yPlEMxf"
      },
      "source": [
        "About dataset:\n",
        "\n",
        "https://www.kaggle.com/c/petfinder-adoption-prediction"
      ]
    },
    {
      "cell_type": "code",
      "metadata": {
        "id": "REZ57BXCLdfG",
        "outputId": "767ae24d-2874-4bff-8561-540dc0203ae8",
        "colab": {
          "base_uri": "https://localhost:8080/",
          "height": 71
        }
      },
      "source": [
        "import pathlib\n",
        "\n",
        "dataset_url = 'http://storage.googleapis.com/download.tensorflow.org/data/petfinder-mini.zip'\n",
        "csv_file = 'datasets/petfinder-mini/petfinder-mini.csv'\n",
        "\n",
        "tf.keras.utils.get_file('petfinder_mini.zip', dataset_url,\n",
        "                        extract=True, cache_dir='.')\n",
        "dataframe = pd.read_csv(csv_file)"
      ],
      "execution_count": 4,
      "outputs": [
        {
          "output_type": "stream",
          "text": [
            "Downloading data from http://storage.googleapis.com/download.tensorflow.org/data/petfinder-mini.zip\n",
            "1671168/1668792 [==============================] - 0s 0us/step\n"
          ],
          "name": "stdout"
        }
      ]
    },
    {
      "cell_type": "markdown",
      "metadata": {
        "id": "DtuXvT09FGIN"
      },
      "source": [
        "AdoptionSpeed\n",
        "\n",
        "Contestants are required to predict this value. The value is determined by how quickly, if at all, a pet is adopted. The values are determined in the following way:\n",
        "\n",
        "0 - Pet was adopted on the same day as it was listed.\n",
        "\n",
        "1 - Pet was adopted between 1 and 7 days (1st week) after being listed.\n",
        "\n",
        "2 - Pet was adopted between 8 and 30 days (1st month) after being listed.\n",
        "\n",
        "3 - Pet was adopted between 31 and 90 days (2nd & 3rd month) after being listed.\n",
        "\n",
        "4 - No adoption after 100 days of being listed. (There are no pets in this dataset that waited between 90 and 100 days)."
      ]
    },
    {
      "cell_type": "code",
      "metadata": {
        "id": "o8QIi0_jT5LM",
        "outputId": "4c4a19ff-c47f-4082-b795-27517d2125da",
        "colab": {
          "base_uri": "https://localhost:8080/",
          "height": 479
        }
      },
      "source": [
        "dataframe.head()"
      ],
      "execution_count": 5,
      "outputs": [
        {
          "output_type": "execute_result",
          "data": {
            "text/html": [
              "<div>\n",
              "<style scoped>\n",
              "    .dataframe tbody tr th:only-of-type {\n",
              "        vertical-align: middle;\n",
              "    }\n",
              "\n",
              "    .dataframe tbody tr th {\n",
              "        vertical-align: top;\n",
              "    }\n",
              "\n",
              "    .dataframe thead th {\n",
              "        text-align: right;\n",
              "    }\n",
              "</style>\n",
              "<table border=\"1\" class=\"dataframe\">\n",
              "  <thead>\n",
              "    <tr style=\"text-align: right;\">\n",
              "      <th></th>\n",
              "      <th>Type</th>\n",
              "      <th>Age</th>\n",
              "      <th>Breed1</th>\n",
              "      <th>Gender</th>\n",
              "      <th>Color1</th>\n",
              "      <th>Color2</th>\n",
              "      <th>MaturitySize</th>\n",
              "      <th>FurLength</th>\n",
              "      <th>Vaccinated</th>\n",
              "      <th>Sterilized</th>\n",
              "      <th>Health</th>\n",
              "      <th>Fee</th>\n",
              "      <th>Description</th>\n",
              "      <th>PhotoAmt</th>\n",
              "      <th>AdoptionSpeed</th>\n",
              "    </tr>\n",
              "  </thead>\n",
              "  <tbody>\n",
              "    <tr>\n",
              "      <th>0</th>\n",
              "      <td>Cat</td>\n",
              "      <td>3</td>\n",
              "      <td>Tabby</td>\n",
              "      <td>Male</td>\n",
              "      <td>Black</td>\n",
              "      <td>White</td>\n",
              "      <td>Small</td>\n",
              "      <td>Short</td>\n",
              "      <td>No</td>\n",
              "      <td>No</td>\n",
              "      <td>Healthy</td>\n",
              "      <td>100</td>\n",
              "      <td>Nibble is a 3+ month old ball of cuteness. He ...</td>\n",
              "      <td>1</td>\n",
              "      <td>2</td>\n",
              "    </tr>\n",
              "    <tr>\n",
              "      <th>1</th>\n",
              "      <td>Cat</td>\n",
              "      <td>1</td>\n",
              "      <td>Domestic Medium Hair</td>\n",
              "      <td>Male</td>\n",
              "      <td>Black</td>\n",
              "      <td>Brown</td>\n",
              "      <td>Medium</td>\n",
              "      <td>Medium</td>\n",
              "      <td>Not Sure</td>\n",
              "      <td>Not Sure</td>\n",
              "      <td>Healthy</td>\n",
              "      <td>0</td>\n",
              "      <td>I just found it alone yesterday near my apartm...</td>\n",
              "      <td>2</td>\n",
              "      <td>0</td>\n",
              "    </tr>\n",
              "    <tr>\n",
              "      <th>2</th>\n",
              "      <td>Dog</td>\n",
              "      <td>1</td>\n",
              "      <td>Mixed Breed</td>\n",
              "      <td>Male</td>\n",
              "      <td>Brown</td>\n",
              "      <td>White</td>\n",
              "      <td>Medium</td>\n",
              "      <td>Medium</td>\n",
              "      <td>Yes</td>\n",
              "      <td>No</td>\n",
              "      <td>Healthy</td>\n",
              "      <td>0</td>\n",
              "      <td>Their pregnant mother was dumped by her irresp...</td>\n",
              "      <td>7</td>\n",
              "      <td>3</td>\n",
              "    </tr>\n",
              "    <tr>\n",
              "      <th>3</th>\n",
              "      <td>Dog</td>\n",
              "      <td>4</td>\n",
              "      <td>Mixed Breed</td>\n",
              "      <td>Female</td>\n",
              "      <td>Black</td>\n",
              "      <td>Brown</td>\n",
              "      <td>Medium</td>\n",
              "      <td>Short</td>\n",
              "      <td>Yes</td>\n",
              "      <td>No</td>\n",
              "      <td>Healthy</td>\n",
              "      <td>150</td>\n",
              "      <td>Good guard dog, very alert, active, obedience ...</td>\n",
              "      <td>8</td>\n",
              "      <td>2</td>\n",
              "    </tr>\n",
              "    <tr>\n",
              "      <th>4</th>\n",
              "      <td>Dog</td>\n",
              "      <td>1</td>\n",
              "      <td>Mixed Breed</td>\n",
              "      <td>Male</td>\n",
              "      <td>Black</td>\n",
              "      <td>No Color</td>\n",
              "      <td>Medium</td>\n",
              "      <td>Short</td>\n",
              "      <td>No</td>\n",
              "      <td>No</td>\n",
              "      <td>Healthy</td>\n",
              "      <td>0</td>\n",
              "      <td>This handsome yet cute boy is up for adoption....</td>\n",
              "      <td>3</td>\n",
              "      <td>2</td>\n",
              "    </tr>\n",
              "  </tbody>\n",
              "</table>\n",
              "</div>"
            ],
            "text/plain": [
              "  Type  Age  ... PhotoAmt AdoptionSpeed\n",
              "0  Cat    3  ...        1             2\n",
              "1  Cat    1  ...        2             0\n",
              "2  Dog    1  ...        7             3\n",
              "3  Dog    4  ...        8             2\n",
              "4  Dog    1  ...        3             2\n",
              "\n",
              "[5 rows x 15 columns]"
            ]
          },
          "metadata": {
            "tags": []
          },
          "execution_count": 5
        }
      ]
    },
    {
      "cell_type": "code",
      "metadata": {
        "id": "CWVNx88ODl05",
        "outputId": "b2e9f1e1-4010-46c7-acc4-f8efd6172ba8",
        "colab": {
          "base_uri": "https://localhost:8080/",
          "height": 34
        }
      },
      "source": [
        "dataframe.shape"
      ],
      "execution_count": 6,
      "outputs": [
        {
          "output_type": "execute_result",
          "data": {
            "text/plain": [
              "(11537, 15)"
            ]
          },
          "metadata": {
            "tags": []
          },
          "execution_count": 6
        }
      ]
    },
    {
      "cell_type": "code",
      "metadata": {
        "id": "l8NUkhBnFhz7",
        "outputId": "6c754c63-088a-4b9a-b081-2ca4eede82f1",
        "colab": {
          "base_uri": "https://localhost:8080/",
          "height": 297
        }
      },
      "source": [
        "dataframe.describe()"
      ],
      "execution_count": 7,
      "outputs": [
        {
          "output_type": "execute_result",
          "data": {
            "text/html": [
              "<div>\n",
              "<style scoped>\n",
              "    .dataframe tbody tr th:only-of-type {\n",
              "        vertical-align: middle;\n",
              "    }\n",
              "\n",
              "    .dataframe tbody tr th {\n",
              "        vertical-align: top;\n",
              "    }\n",
              "\n",
              "    .dataframe thead th {\n",
              "        text-align: right;\n",
              "    }\n",
              "</style>\n",
              "<table border=\"1\" class=\"dataframe\">\n",
              "  <thead>\n",
              "    <tr style=\"text-align: right;\">\n",
              "      <th></th>\n",
              "      <th>Age</th>\n",
              "      <th>Fee</th>\n",
              "      <th>PhotoAmt</th>\n",
              "      <th>AdoptionSpeed</th>\n",
              "    </tr>\n",
              "  </thead>\n",
              "  <tbody>\n",
              "    <tr>\n",
              "      <th>count</th>\n",
              "      <td>11537.000000</td>\n",
              "      <td>11537.000000</td>\n",
              "      <td>11537.000000</td>\n",
              "      <td>11537.000000</td>\n",
              "    </tr>\n",
              "    <tr>\n",
              "      <th>mean</th>\n",
              "      <td>11.743434</td>\n",
              "      <td>23.957268</td>\n",
              "      <td>3.610211</td>\n",
              "      <td>2.486522</td>\n",
              "    </tr>\n",
              "    <tr>\n",
              "      <th>std</th>\n",
              "      <td>19.324221</td>\n",
              "      <td>80.024226</td>\n",
              "      <td>3.145872</td>\n",
              "      <td>1.173275</td>\n",
              "    </tr>\n",
              "    <tr>\n",
              "      <th>min</th>\n",
              "      <td>0.000000</td>\n",
              "      <td>0.000000</td>\n",
              "      <td>0.000000</td>\n",
              "      <td>0.000000</td>\n",
              "    </tr>\n",
              "    <tr>\n",
              "      <th>25%</th>\n",
              "      <td>2.000000</td>\n",
              "      <td>0.000000</td>\n",
              "      <td>2.000000</td>\n",
              "      <td>2.000000</td>\n",
              "    </tr>\n",
              "    <tr>\n",
              "      <th>50%</th>\n",
              "      <td>4.000000</td>\n",
              "      <td>0.000000</td>\n",
              "      <td>3.000000</td>\n",
              "      <td>2.000000</td>\n",
              "    </tr>\n",
              "    <tr>\n",
              "      <th>75%</th>\n",
              "      <td>12.000000</td>\n",
              "      <td>0.000000</td>\n",
              "      <td>5.000000</td>\n",
              "      <td>4.000000</td>\n",
              "    </tr>\n",
              "    <tr>\n",
              "      <th>max</th>\n",
              "      <td>255.000000</td>\n",
              "      <td>2000.000000</td>\n",
              "      <td>30.000000</td>\n",
              "      <td>4.000000</td>\n",
              "    </tr>\n",
              "  </tbody>\n",
              "</table>\n",
              "</div>"
            ],
            "text/plain": [
              "                Age           Fee      PhotoAmt  AdoptionSpeed\n",
              "count  11537.000000  11537.000000  11537.000000   11537.000000\n",
              "mean      11.743434     23.957268      3.610211       2.486522\n",
              "std       19.324221     80.024226      3.145872       1.173275\n",
              "min        0.000000      0.000000      0.000000       0.000000\n",
              "25%        2.000000      0.000000      2.000000       2.000000\n",
              "50%        4.000000      0.000000      3.000000       2.000000\n",
              "75%       12.000000      0.000000      5.000000       4.000000\n",
              "max      255.000000   2000.000000     30.000000       4.000000"
            ]
          },
          "metadata": {
            "tags": []
          },
          "execution_count": 7
        }
      ]
    },
    {
      "cell_type": "markdown",
      "metadata": {
        "id": "awGiBeBWbQC8"
      },
      "source": [
        "## Create target variable\n",
        "\n",
        "The task in the original dataset is to predict the speed at which a pet will be adopted (e.g., in the first week, the first month, the first three months, and so on). Let's simplify this for our tutorial. Here, we will transform this into a binary classification problem, and simply predict whether the pet was adopted, or not.\n",
        "\n",
        "After modifying the label column, 0 will indicate the pet was not adopted, and 1 will indicate it was."
      ]
    },
    {
      "cell_type": "code",
      "metadata": {
        "id": "xcbTpEXWbMDz"
      },
      "source": [
        "# In the original dataset \"4\" indicates the pet was not adopted.\n",
        "dataframe['target'] = np.where(dataframe['AdoptionSpeed']==4, 0, 1)\n",
        "\n",
        "# Drop un-used columns.\n",
        "dataframe = dataframe.drop(columns=['AdoptionSpeed', 'Description'])"
      ],
      "execution_count": 8,
      "outputs": []
    },
    {
      "cell_type": "code",
      "metadata": {
        "id": "e0E7OOcJFx_w",
        "outputId": "83b5c114-ea3e-404e-f099-0b3d51eeac8a",
        "colab": {
          "base_uri": "https://localhost:8080/",
          "height": 309
        }
      },
      "source": [
        "dataframe.head()"
      ],
      "execution_count": 9,
      "outputs": [
        {
          "output_type": "execute_result",
          "data": {
            "text/html": [
              "<div>\n",
              "<style scoped>\n",
              "    .dataframe tbody tr th:only-of-type {\n",
              "        vertical-align: middle;\n",
              "    }\n",
              "\n",
              "    .dataframe tbody tr th {\n",
              "        vertical-align: top;\n",
              "    }\n",
              "\n",
              "    .dataframe thead th {\n",
              "        text-align: right;\n",
              "    }\n",
              "</style>\n",
              "<table border=\"1\" class=\"dataframe\">\n",
              "  <thead>\n",
              "    <tr style=\"text-align: right;\">\n",
              "      <th></th>\n",
              "      <th>Type</th>\n",
              "      <th>Age</th>\n",
              "      <th>Breed1</th>\n",
              "      <th>Gender</th>\n",
              "      <th>Color1</th>\n",
              "      <th>Color2</th>\n",
              "      <th>MaturitySize</th>\n",
              "      <th>FurLength</th>\n",
              "      <th>Vaccinated</th>\n",
              "      <th>Sterilized</th>\n",
              "      <th>Health</th>\n",
              "      <th>Fee</th>\n",
              "      <th>PhotoAmt</th>\n",
              "      <th>target</th>\n",
              "    </tr>\n",
              "  </thead>\n",
              "  <tbody>\n",
              "    <tr>\n",
              "      <th>0</th>\n",
              "      <td>Cat</td>\n",
              "      <td>3</td>\n",
              "      <td>Tabby</td>\n",
              "      <td>Male</td>\n",
              "      <td>Black</td>\n",
              "      <td>White</td>\n",
              "      <td>Small</td>\n",
              "      <td>Short</td>\n",
              "      <td>No</td>\n",
              "      <td>No</td>\n",
              "      <td>Healthy</td>\n",
              "      <td>100</td>\n",
              "      <td>1</td>\n",
              "      <td>1</td>\n",
              "    </tr>\n",
              "    <tr>\n",
              "      <th>1</th>\n",
              "      <td>Cat</td>\n",
              "      <td>1</td>\n",
              "      <td>Domestic Medium Hair</td>\n",
              "      <td>Male</td>\n",
              "      <td>Black</td>\n",
              "      <td>Brown</td>\n",
              "      <td>Medium</td>\n",
              "      <td>Medium</td>\n",
              "      <td>Not Sure</td>\n",
              "      <td>Not Sure</td>\n",
              "      <td>Healthy</td>\n",
              "      <td>0</td>\n",
              "      <td>2</td>\n",
              "      <td>1</td>\n",
              "    </tr>\n",
              "    <tr>\n",
              "      <th>2</th>\n",
              "      <td>Dog</td>\n",
              "      <td>1</td>\n",
              "      <td>Mixed Breed</td>\n",
              "      <td>Male</td>\n",
              "      <td>Brown</td>\n",
              "      <td>White</td>\n",
              "      <td>Medium</td>\n",
              "      <td>Medium</td>\n",
              "      <td>Yes</td>\n",
              "      <td>No</td>\n",
              "      <td>Healthy</td>\n",
              "      <td>0</td>\n",
              "      <td>7</td>\n",
              "      <td>1</td>\n",
              "    </tr>\n",
              "    <tr>\n",
              "      <th>3</th>\n",
              "      <td>Dog</td>\n",
              "      <td>4</td>\n",
              "      <td>Mixed Breed</td>\n",
              "      <td>Female</td>\n",
              "      <td>Black</td>\n",
              "      <td>Brown</td>\n",
              "      <td>Medium</td>\n",
              "      <td>Short</td>\n",
              "      <td>Yes</td>\n",
              "      <td>No</td>\n",
              "      <td>Healthy</td>\n",
              "      <td>150</td>\n",
              "      <td>8</td>\n",
              "      <td>1</td>\n",
              "    </tr>\n",
              "    <tr>\n",
              "      <th>4</th>\n",
              "      <td>Dog</td>\n",
              "      <td>1</td>\n",
              "      <td>Mixed Breed</td>\n",
              "      <td>Male</td>\n",
              "      <td>Black</td>\n",
              "      <td>No Color</td>\n",
              "      <td>Medium</td>\n",
              "      <td>Short</td>\n",
              "      <td>No</td>\n",
              "      <td>No</td>\n",
              "      <td>Healthy</td>\n",
              "      <td>0</td>\n",
              "      <td>3</td>\n",
              "      <td>1</td>\n",
              "    </tr>\n",
              "  </tbody>\n",
              "</table>\n",
              "</div>"
            ],
            "text/plain": [
              "  Type  Age                Breed1  Gender  ...   Health  Fee PhotoAmt target\n",
              "0  Cat    3                 Tabby    Male  ...  Healthy  100        1      1\n",
              "1  Cat    1  Domestic Medium Hair    Male  ...  Healthy    0        2      1\n",
              "2  Dog    1           Mixed Breed    Male  ...  Healthy    0        7      1\n",
              "3  Dog    4           Mixed Breed  Female  ...  Healthy  150        8      1\n",
              "4  Dog    1           Mixed Breed    Male  ...  Healthy    0        3      1\n",
              "\n",
              "[5 rows x 14 columns]"
            ]
          },
          "metadata": {
            "tags": []
          },
          "execution_count": 9
        }
      ]
    },
    {
      "cell_type": "markdown",
      "metadata": {
        "id": "u0zhLtQqMPem"
      },
      "source": [
        "## Split the dataframe into train, validation, and test\n",
        "\n",
        "The dataset we downloaded was a single CSV file. We will split this into train, validation, and test sets."
      ]
    },
    {
      "cell_type": "code",
      "metadata": {
        "id": "YEOpw7LhMYsI",
        "outputId": "92f6e939-8d2d-463a-aa52-37e5a8463f49",
        "colab": {
          "base_uri": "https://localhost:8080/",
          "height": 68
        }
      },
      "source": [
        "train, test = train_test_split(dataframe, test_size=0.2)\n",
        "train, val = train_test_split(train, test_size=0.2)\n",
        "print(len(train), 'train examples')\n",
        "print(len(val), 'validation examples')\n",
        "print(len(test), 'test examples')"
      ],
      "execution_count": 10,
      "outputs": [
        {
          "output_type": "stream",
          "text": [
            "7383 train examples\n",
            "1846 validation examples\n",
            "2308 test examples\n"
          ],
          "name": "stdout"
        }
      ]
    },
    {
      "cell_type": "markdown",
      "metadata": {
        "id": "84ef46LXMfvu"
      },
      "source": [
        "## Create an input pipeline using tf.data\n",
        "\n",
        "Next, we will wrap the dataframes with [tf.data](https://www.tensorflow.org/guide/datasets). This will enable us  to use feature columns as a bridge to map from the columns in the Pandas dataframe to features used to train the model. If we were working with a very large CSV file (so large that it does not fit into memory), we would use tf.data to read it from disk directly. That is not covered in this tutorial."
      ]
    },
    {
      "cell_type": "code",
      "metadata": {
        "id": "NkcaMYP-MsRe"
      },
      "source": [
        "# A utility method to create a tf.data dataset from a Pandas Dataframe\n",
        "def df_to_dataset(dataframe, shuffle=True, batch_size=32):\n",
        "  dataframe = dataframe.copy()\n",
        "  labels = dataframe.pop('target')\n",
        "  ds = tf.data.Dataset.from_tensor_slices((dict(dataframe), labels))\n",
        "  if shuffle:\n",
        "    ds = ds.shuffle(buffer_size=len(dataframe))\n",
        "  ds = ds.batch(batch_size)\n",
        "  return ds"
      ],
      "execution_count": 11,
      "outputs": []
    },
    {
      "cell_type": "code",
      "metadata": {
        "id": "f3XIOcs3zTzn",
        "outputId": "35848f55-8e87-40bb-d8af-17265d798596",
        "colab": {
          "base_uri": "https://localhost:8080/",
          "height": 1000
        }
      },
      "source": [
        "dict(train)"
      ],
      "execution_count": 12,
      "outputs": [
        {
          "output_type": "execute_result",
          "data": {
            "text/plain": [
              "{'Age': 10723     9\n",
              " 6297     12\n",
              " 6675     29\n",
              " 1258      4\n",
              " 10199     8\n",
              "          ..\n",
              " 2058     10\n",
              " 1884      1\n",
              " 5608      4\n",
              " 7046      1\n",
              " 6258     12\n",
              " Name: Age, Length: 7383, dtype: int64, 'Breed1': 10723    Domestic Short Hair\n",
              " 6297             Mixed Breed\n",
              " 6675     Domestic Short Hair\n",
              " 1258     Domestic Short Hair\n",
              " 10199                Burmese\n",
              "                 ...         \n",
              " 2058     Domestic Short Hair\n",
              " 1884             Mixed Breed\n",
              " 5608             Mixed Breed\n",
              " 7046             Mixed Breed\n",
              " 6258     Domestic Short Hair\n",
              " Name: Breed1, Length: 7383, dtype: object, 'Color1': 10723    Cream\n",
              " 6297     Black\n",
              " 6675     Brown\n",
              " 1258     Brown\n",
              " 10199    Black\n",
              "          ...  \n",
              " 2058     Black\n",
              " 1884     Brown\n",
              " 5608     Brown\n",
              " 7046     Brown\n",
              " 6258     Black\n",
              " Name: Color1, Length: 7383, dtype: object, 'Color2': 10723    No Color\n",
              " 6297        Brown\n",
              " 6675        White\n",
              " 1258        Cream\n",
              " 10199      Yellow\n",
              "            ...   \n",
              " 2058        Brown\n",
              " 1884        Cream\n",
              " 5608     No Color\n",
              " 7046        White\n",
              " 6258       Yellow\n",
              " Name: Color2, Length: 7383, dtype: object, 'Fee': 10723    0\n",
              " 6297     0\n",
              " 6675     0\n",
              " 1258     0\n",
              " 10199    0\n",
              "         ..\n",
              " 2058     0\n",
              " 1884     0\n",
              " 5608     0\n",
              " 7046     0\n",
              " 6258     0\n",
              " Name: Fee, Length: 7383, dtype: int64, 'FurLength': 10723     Short\n",
              " 6297      Short\n",
              " 6675      Short\n",
              " 1258      Short\n",
              " 10199    Medium\n",
              "           ...  \n",
              " 2058      Short\n",
              " 1884      Short\n",
              " 5608      Short\n",
              " 7046     Medium\n",
              " 6258      Short\n",
              " Name: FurLength, Length: 7383, dtype: object, 'Gender': 10723    Female\n",
              " 6297     Female\n",
              " 6675     Female\n",
              " 1258     Female\n",
              " 10199    Female\n",
              "           ...  \n",
              " 2058     Female\n",
              " 1884     Female\n",
              " 5608     Female\n",
              " 7046       Male\n",
              " 6258     Female\n",
              " Name: Gender, Length: 7383, dtype: object, 'Health': 10723    Healthy\n",
              " 6297     Healthy\n",
              " 6675     Healthy\n",
              " 1258     Healthy\n",
              " 10199    Healthy\n",
              "           ...   \n",
              " 2058     Healthy\n",
              " 1884     Healthy\n",
              " 5608     Healthy\n",
              " 7046     Healthy\n",
              " 6258     Healthy\n",
              " Name: Health, Length: 7383, dtype: object, 'MaturitySize': 10723    Medium\n",
              " 6297     Medium\n",
              " 6675     Medium\n",
              " 1258     Medium\n",
              " 10199    Medium\n",
              "           ...  \n",
              " 2058     Medium\n",
              " 1884     Medium\n",
              " 5608     Medium\n",
              " 7046     Medium\n",
              " 6258     Medium\n",
              " Name: MaturitySize, Length: 7383, dtype: object, 'PhotoAmt': 10723    2\n",
              " 6297     2\n",
              " 6675     3\n",
              " 1258     2\n",
              " 10199    1\n",
              "         ..\n",
              " 2058     2\n",
              " 1884     3\n",
              " 5608     5\n",
              " 7046     6\n",
              " 6258     2\n",
              " Name: PhotoAmt, Length: 7383, dtype: int64, 'Sterilized': 10723          No\n",
              " 6297     Not Sure\n",
              " 6675           No\n",
              " 1258           No\n",
              " 10199         Yes\n",
              "            ...   \n",
              " 2058          Yes\n",
              " 1884           No\n",
              " 5608          Yes\n",
              " 7046           No\n",
              " 6258          Yes\n",
              " Name: Sterilized, Length: 7383, dtype: object, 'Type': 10723    Cat\n",
              " 6297     Dog\n",
              " 6675     Cat\n",
              " 1258     Cat\n",
              " 10199    Cat\n",
              "         ... \n",
              " 2058     Cat\n",
              " 1884     Dog\n",
              " 5608     Dog\n",
              " 7046     Dog\n",
              " 6258     Cat\n",
              " Name: Type, Length: 7383, dtype: object, 'Vaccinated': 10723          No\n",
              " 6297          Yes\n",
              " 6675     Not Sure\n",
              " 1258           No\n",
              " 10199         Yes\n",
              "            ...   \n",
              " 2058          Yes\n",
              " 1884           No\n",
              " 5608          Yes\n",
              " 7046           No\n",
              " 6258          Yes\n",
              " Name: Vaccinated, Length: 7383, dtype: object, 'target': 10723    1\n",
              " 6297     0\n",
              " 6675     0\n",
              " 1258     1\n",
              " 10199    1\n",
              "         ..\n",
              " 2058     1\n",
              " 1884     1\n",
              " 5608     0\n",
              " 7046     1\n",
              " 6258     0\n",
              " Name: target, Length: 7383, dtype: int64}"
            ]
          },
          "metadata": {
            "tags": []
          },
          "execution_count": 12
        }
      ]
    },
    {
      "cell_type": "code",
      "metadata": {
        "id": "CXbbXkJvMy34"
      },
      "source": [
        "batch_size = 5 # A small batch sized is used for demonstration purposes\n",
        "train_ds = df_to_dataset(train, batch_size=batch_size)\n",
        "val_ds = df_to_dataset(val, shuffle=False, batch_size=batch_size)\n",
        "test_ds = df_to_dataset(test, shuffle=False, batch_size=batch_size)"
      ],
      "execution_count": 13,
      "outputs": []
    },
    {
      "cell_type": "markdown",
      "metadata": {
        "id": "qRLGSMDzM-dl"
      },
      "source": [
        "## Understand the input pipeline\n",
        "\n",
        "Now that we have created the input pipeline, let's call it to see the format of the data it returns. We have used a small batch size to keep the output readable."
      ]
    },
    {
      "cell_type": "code",
      "metadata": {
        "id": "CSBo3dUVNFc9",
        "outputId": "4044a983-b748-488f-cb88-8d426d3115cf",
        "colab": {
          "base_uri": "https://localhost:8080/",
          "height": 88
        }
      },
      "source": [
        "for feature_batch, label_batch in train_ds.take(1):\n",
        "  print('Every feature:', list(feature_batch.keys()))\n",
        "  print('A batch of ages:', feature_batch['Age'])\n",
        "  print('A batch of targets:', label_batch )"
      ],
      "execution_count": 14,
      "outputs": [
        {
          "output_type": "stream",
          "text": [
            "Every feature: ['Type', 'Age', 'Breed1', 'Gender', 'Color1', 'Color2', 'MaturitySize', 'FurLength', 'Vaccinated', 'Sterilized', 'Health', 'Fee', 'PhotoAmt']\n",
            "A batch of ages: tf.Tensor([ 0  3  1  2 21], shape=(5,), dtype=int64)\n",
            "A batch of targets: tf.Tensor([1 1 1 1 0], shape=(5,), dtype=int64)\n"
          ],
          "name": "stdout"
        }
      ]
    },
    {
      "cell_type": "markdown",
      "metadata": {
        "id": "OT5N6Se-NQsC"
      },
      "source": [
        "We can see that the dataset returns a dictionary of column names (from the dataframe) that map to column values from rows in the dataframe."
      ]
    },
    {
      "cell_type": "markdown",
      "metadata": {
        "id": "ttIvgLRaNoOQ"
      },
      "source": [
        "## Demonstrate several types of feature columns\n",
        "TensorFlow provides many types of feature columns. In this section, we will create several types of feature columns, and demonstrate how they transform a column from the dataframe."
      ]
    },
    {
      "cell_type": "code",
      "metadata": {
        "id": "9LDX55hZ0TR1",
        "outputId": "7ebbcd88-2135-4319-f775-7582a2ad61e0",
        "colab": {
          "base_uri": "https://localhost:8080/",
          "height": 377
        }
      },
      "source": [
        "next(iter(train_ds)) # include x train and y train in one sample only"
      ],
      "execution_count": 17,
      "outputs": [
        {
          "output_type": "execute_result",
          "data": {
            "text/plain": [
              "({'Age': <tf.Tensor: shape=(5,), dtype=int64, numpy=array([24,  3, 12, 22,  2])>,\n",
              "  'Breed1': <tf.Tensor: shape=(5,), dtype=string, numpy=\n",
              "  array([b'Mixed Breed', b'Mixed Breed', b'Mixed Breed',\n",
              "         b'Golden Retriever', b'Mixed Breed'], dtype=object)>,\n",
              "  'Color1': <tf.Tensor: shape=(5,), dtype=string, numpy=array([b'Cream', b'Brown', b'Brown', b'Golden', b'Black'], dtype=object)>,\n",
              "  'Color2': <tf.Tensor: shape=(5,), dtype=string, numpy=\n",
              "  array([b'No Color', b'No Color', b'White', b'No Color', b'Brown'],\n",
              "        dtype=object)>,\n",
              "  'Fee': <tf.Tensor: shape=(5,), dtype=int64, numpy=array([0, 0, 0, 0, 0])>,\n",
              "  'FurLength': <tf.Tensor: shape=(5,), dtype=string, numpy=array([b'Medium', b'Short', b'Short', b'Long', b'Medium'], dtype=object)>,\n",
              "  'Gender': <tf.Tensor: shape=(5,), dtype=string, numpy=array([b'Male', b'Male', b'Female', b'Male', b'Female'], dtype=object)>,\n",
              "  'Health': <tf.Tensor: shape=(5,), dtype=string, numpy=\n",
              "  array([b'Healthy', b'Healthy', b'Healthy', b'Healthy', b'Healthy'],\n",
              "        dtype=object)>,\n",
              "  'MaturitySize': <tf.Tensor: shape=(5,), dtype=string, numpy=array([b'Medium', b'Medium', b'Medium', b'Large', b'Medium'], dtype=object)>,\n",
              "  'PhotoAmt': <tf.Tensor: shape=(5,), dtype=int64, numpy=array([5, 5, 3, 1, 1])>,\n",
              "  'Sterilized': <tf.Tensor: shape=(5,), dtype=string, numpy=array([b'No', b'No', b'Yes', b'No', b'No'], dtype=object)>,\n",
              "  'Type': <tf.Tensor: shape=(5,), dtype=string, numpy=array([b'Dog', b'Dog', b'Dog', b'Dog', b'Dog'], dtype=object)>,\n",
              "  'Vaccinated': <tf.Tensor: shape=(5,), dtype=string, numpy=array([b'Not Sure', b'No', b'Not Sure', b'Yes', b'No'], dtype=object)>},\n",
              " <tf.Tensor: shape=(5,), dtype=int64, numpy=array([1, 1, 0, 0, 1])>)"
            ]
          },
          "metadata": {
            "tags": []
          },
          "execution_count": 17
        }
      ]
    },
    {
      "cell_type": "code",
      "metadata": {
        "id": "mxwiHFHuNhmf"
      },
      "source": [
        "# We will use this batch to demonstrate several types of feature columns\n",
        "example_batch = next(iter(train_ds))[0]"
      ],
      "execution_count": 15,
      "outputs": []
    },
    {
      "cell_type": "code",
      "metadata": {
        "id": "7A6wkVYh0KqN",
        "outputId": "6f743c11-5ebd-404c-fa3b-a754babc7276",
        "colab": {
          "base_uri": "https://localhost:8080/",
          "height": 360
        }
      },
      "source": [
        "example_batch # contain only x train, not include y train"
      ],
      "execution_count": 16,
      "outputs": [
        {
          "output_type": "execute_result",
          "data": {
            "text/plain": [
              "{'Age': <tf.Tensor: shape=(5,), dtype=int64, numpy=array([36, 84,  5,  1, 24])>,\n",
              " 'Breed1': <tf.Tensor: shape=(5,), dtype=string, numpy=\n",
              " array([b'German Shepherd Dog', b'Mixed Breed', b'Domestic Medium Hair',\n",
              "        b'Mixed Breed', b'Mixed Breed'], dtype=object)>,\n",
              " 'Color1': <tf.Tensor: shape=(5,), dtype=string, numpy=array([b'Black', b'Brown', b'Black', b'Black', b'Yellow'], dtype=object)>,\n",
              " 'Color2': <tf.Tensor: shape=(5,), dtype=string, numpy=\n",
              " array([b'No Color', b'No Color', b'No Color', b'Brown', b'No Color'],\n",
              "       dtype=object)>,\n",
              " 'Fee': <tf.Tensor: shape=(5,), dtype=int64, numpy=array([  0,   0, 150,  50,   0])>,\n",
              " 'FurLength': <tf.Tensor: shape=(5,), dtype=string, numpy=array([b'Medium', b'Short', b'Medium', b'Short', b'Long'], dtype=object)>,\n",
              " 'Gender': <tf.Tensor: shape=(5,), dtype=string, numpy=array([b'Female', b'Female', b'Male', b'Female', b'Female'], dtype=object)>,\n",
              " 'Health': <tf.Tensor: shape=(5,), dtype=string, numpy=\n",
              " array([b'Healthy', b'Healthy', b'Healthy', b'Healthy', b'Healthy'],\n",
              "       dtype=object)>,\n",
              " 'MaturitySize': <tf.Tensor: shape=(5,), dtype=string, numpy=array([b'Large', b'Medium', b'Medium', b'Large', b'Large'], dtype=object)>,\n",
              " 'PhotoAmt': <tf.Tensor: shape=(5,), dtype=int64, numpy=array([ 3, 16, 20,  9,  2])>,\n",
              " 'Sterilized': <tf.Tensor: shape=(5,), dtype=string, numpy=array([b'No', b'Yes', b'Yes', b'No', b'No'], dtype=object)>,\n",
              " 'Type': <tf.Tensor: shape=(5,), dtype=string, numpy=array([b'Dog', b'Dog', b'Cat', b'Dog', b'Dog'], dtype=object)>,\n",
              " 'Vaccinated': <tf.Tensor: shape=(5,), dtype=string, numpy=array([b'Not Sure', b'Yes', b'Yes', b'No', b'No'], dtype=object)>}"
            ]
          },
          "metadata": {
            "tags": []
          },
          "execution_count": 16
        }
      ]
    },
    {
      "cell_type": "code",
      "metadata": {
        "id": "0wfLB8Q3N3UH"
      },
      "source": [
        "# A utility method to create a feature column\n",
        "# and to transform a batch of data\n",
        "def demo(feature_column):\n",
        "  feature_layer = layers.DenseFeatures(feature_column)\n",
        "  print(feature_layer(example_batch).numpy())"
      ],
      "execution_count": 18,
      "outputs": []
    },
    {
      "cell_type": "markdown",
      "metadata": {
        "id": "Q7OEKe82N-Qb"
      },
      "source": [
        "### Numeric columns\n",
        "The output of a feature column becomes the input to the model (using the demo function defined above, we will be able to see exactly how each column from the dataframe is transformed). A [numeric column](https://www.tensorflow.org/api_docs/python/tf/feature_column/numeric_column) is the simplest type of column. It is used to represent real valued features. When using this column, your model will receive the column value from the dataframe unchanged."
      ]
    },
    {
      "cell_type": "code",
      "metadata": {
        "id": "lLGbsv2CQlHg",
        "outputId": "5f0f6b3d-348c-4ee9-c153-ed4589b983ad",
        "colab": {
          "base_uri": "https://localhost:8080/",
          "height": 34
        }
      },
      "source": [
        "example_batch['PhotoAmt']"
      ],
      "execution_count": 21,
      "outputs": [
        {
          "output_type": "execute_result",
          "data": {
            "text/plain": [
              "<tf.Tensor: shape=(5,), dtype=int64, numpy=array([ 3, 16, 20,  9,  2])>"
            ]
          },
          "metadata": {
            "tags": []
          },
          "execution_count": 21
        }
      ]
    },
    {
      "cell_type": "code",
      "metadata": {
        "id": "QZTZ0HnHOCxC",
        "outputId": "dfb76659-63f1-455b-cbee-3c986420950b",
        "colab": {
          "base_uri": "https://localhost:8080/",
          "height": 54
        }
      },
      "source": [
        "photo_count = feature_column.numeric_column('PhotoAmt') # feature column from tensorflow\n",
        "photo_count"
      ],
      "execution_count": 19,
      "outputs": [
        {
          "output_type": "execute_result",
          "data": {
            "text/plain": [
              "NumericColumn(key='PhotoAmt', shape=(1,), default_value=None, dtype=tf.float32, normalizer_fn=None)"
            ]
          },
          "metadata": {
            "tags": []
          },
          "execution_count": 19
        }
      ]
    },
    {
      "cell_type": "code",
      "metadata": {
        "id": "iBRXEWnJ09h-",
        "outputId": "d72509f4-b0c9-43cc-e96a-e9e6382193bc",
        "colab": {
          "base_uri": "https://localhost:8080/",
          "height": 102
        }
      },
      "source": [
        "demo(photo_count) # show one sample from feature column"
      ],
      "execution_count": 20,
      "outputs": [
        {
          "output_type": "stream",
          "text": [
            "[[ 3.]\n",
            " [16.]\n",
            " [20.]\n",
            " [ 9.]\n",
            " [ 2.]]\n"
          ],
          "name": "stdout"
        }
      ]
    },
    {
      "cell_type": "markdown",
      "metadata": {
        "id": "7a6ddSyzOKpq"
      },
      "source": [
        "In the PetFinder dataset, most columns from the dataframe are categorical."
      ]
    },
    {
      "cell_type": "markdown",
      "metadata": {
        "id": "IcSxUoYgOlA1"
      },
      "source": [
        "### Bucketized columns\n",
        "Often, you don't want to feed a number directly into the model, but instead split its value into different categories based on numerical ranges. Consider raw data that represents a person's age. Instead of representing age as a numeric column, we could split the age into several buckets using a [bucketized column](https://www.tensorflow.org/api_docs/python/tf/feature_column/bucketized_column). Notice the one-hot values below describe which age range each row matches."
      ]
    },
    {
      "cell_type": "code",
      "metadata": {
        "id": "vdtsbsPWQrZY",
        "outputId": "79f7929b-285a-45cf-8b64-5826e5e96434",
        "colab": {
          "base_uri": "https://localhost:8080/",
          "height": 34
        }
      },
      "source": [
        "example_batch['Age']"
      ],
      "execution_count": 22,
      "outputs": [
        {
          "output_type": "execute_result",
          "data": {
            "text/plain": [
              "<tf.Tensor: shape=(5,), dtype=int64, numpy=array([36, 84,  5,  1, 24])>"
            ]
          },
          "metadata": {
            "tags": []
          },
          "execution_count": 22
        }
      ]
    },
    {
      "cell_type": "code",
      "metadata": {
        "id": "wJ4Wt3SAOpTQ",
        "outputId": "77cbd84a-8e75-4b84-caa5-42f8978d6dda",
        "colab": {
          "base_uri": "https://localhost:8080/",
          "height": 54
        }
      },
      "source": [
        "age = feature_column.numeric_column('Age')\n",
        "age_buckets = feature_column.bucketized_column(age, boundaries=[1, 3, 5])\n",
        "age_buckets"
      ],
      "execution_count": 23,
      "outputs": [
        {
          "output_type": "execute_result",
          "data": {
            "text/plain": [
              "BucketizedColumn(source_column=NumericColumn(key='Age', shape=(1,), default_value=None, dtype=tf.float32, normalizer_fn=None), boundaries=(1, 3, 5))"
            ]
          },
          "metadata": {
            "tags": []
          },
          "execution_count": 23
        }
      ]
    },
    {
      "cell_type": "code",
      "metadata": {
        "id": "esYJf60H1L2N",
        "outputId": "30844002-f760-48d7-a109-5fa1ab3ec278",
        "colab": {
          "base_uri": "https://localhost:8080/",
          "height": 102
        }
      },
      "source": [
        "demo(age_buckets)"
      ],
      "execution_count": 24,
      "outputs": [
        {
          "output_type": "stream",
          "text": [
            "[[0. 0. 0. 1.]\n",
            " [0. 0. 0. 1.]\n",
            " [0. 0. 0. 1.]\n",
            " [0. 1. 0. 0.]\n",
            " [0. 0. 0. 1.]]\n"
          ],
          "name": "stdout"
        }
      ]
    },
    {
      "cell_type": "code",
      "metadata": {
        "id": "JBY-oLwjclGF",
        "outputId": "ed296aaf-e37a-4058-fa70-cad2bd55b25d",
        "colab": {
          "base_uri": "https://localhost:8080/",
          "height": 102
        }
      },
      "source": [
        "age_buckets = feature_column.bucketized_column(age, boundaries=[10, 50, 100])\n",
        "demo(age_buckets)"
      ],
      "execution_count": 25,
      "outputs": [
        {
          "output_type": "stream",
          "text": [
            "[[0. 1. 0. 0.]\n",
            " [0. 0. 1. 0.]\n",
            " [1. 0. 0. 0.]\n",
            " [1. 0. 0. 0.]\n",
            " [0. 1. 0. 0.]]\n"
          ],
          "name": "stdout"
        }
      ]
    },
    {
      "cell_type": "markdown",
      "metadata": {
        "id": "r1tArzewPb-b"
      },
      "source": [
        "### Categorical columns\n",
        "In this dataset, Type is represented as a string (e.g. 'Dog', or 'Cat'). We cannot feed strings directly to a model. Instead, we must first map them to numeric values. The categorical vocabulary columns provide a way to represent strings as a one-hot vector (much like you have seen above with age buckets). The vocabulary can be passed as a list using [categorical_column_with_vocabulary_list](https://www.tensorflow.org/api_docs/python/tf/feature_column/categorical_column_with_vocabulary_list), or loaded from a file using [categorical_column_with_vocabulary_file](https://www.tensorflow.org/api_docs/python/tf/feature_column/categorical_column_with_vocabulary_file)."
      ]
    },
    {
      "cell_type": "code",
      "metadata": {
        "id": "3zLQbvC8cyxn",
        "outputId": "3ab64668-50ee-4475-ba67-1c4015f0270c",
        "colab": {
          "base_uri": "https://localhost:8080/",
          "height": 54
        }
      },
      "source": [
        "example_batch['Type']"
      ],
      "execution_count": 36,
      "outputs": [
        {
          "output_type": "execute_result",
          "data": {
            "text/plain": [
              "<tf.Tensor: shape=(5,), dtype=string, numpy=array([b'Dog', b'Dog', b'Cat', b'Dog', b'Dog'], dtype=object)>"
            ]
          },
          "metadata": {
            "tags": []
          },
          "execution_count": 36
        }
      ]
    },
    {
      "cell_type": "code",
      "metadata": {
        "id": "DJ6QnSHkPtOC",
        "outputId": "2fd8cdf8-a9bb-4583-e56e-fb6e6c539322",
        "colab": {
          "base_uri": "https://localhost:8080/",
          "height": 54
        }
      },
      "source": [
        "animal_type = feature_column.categorical_column_with_vocabulary_list(\n",
        "      'Type', ['Cat', 'Dog'])\n",
        "\n",
        "animal_type"
      ],
      "execution_count": 37,
      "outputs": [
        {
          "output_type": "execute_result",
          "data": {
            "text/plain": [
              "VocabularyListCategoricalColumn(key='Type', vocabulary_list=('Cat', 'Dog'), dtype=tf.string, default_value=-1, num_oov_buckets=0)"
            ]
          },
          "metadata": {
            "tags": []
          },
          "execution_count": 37
        }
      ]
    },
    {
      "cell_type": "code",
      "metadata": {
        "id": "TqFC0gSYfZWK",
        "outputId": "278a5526-bcf6-4886-fd7c-55f49f4ce777",
        "colab": {
          "base_uri": "https://localhost:8080/",
          "height": 102
        }
      },
      "source": [
        "animal_type_one_hot = feature_column.indicator_column(animal_type)\n",
        "demo(animal_type_one_hot)"
      ],
      "execution_count": 38,
      "outputs": [
        {
          "output_type": "stream",
          "text": [
            "[[0. 1.]\n",
            " [0. 1.]\n",
            " [1. 0.]\n",
            " [0. 1.]\n",
            " [0. 1.]]\n"
          ],
          "name": "stdout"
        }
      ]
    },
    {
      "cell_type": "markdown",
      "metadata": {
        "id": "LEFPjUr6QmwS"
      },
      "source": [
        "### Embedding columns\n",
        "Suppose instead of having just a few possible strings, we have thousands (or more) values per category. For a number of reasons, as the number of categories grow large, it becomes infeasible to train a neural network using one-hot encodings. We can use an embedding column to overcome this limitation. Instead of representing the data as a one-hot vector of many dimensions, an [embedding column](https://www.tensorflow.org/api_docs/python/tf/feature_column/embedding_column) represents that data as a lower-dimensional, dense vector in which each cell can contain any number, not just 0 or 1. The size of the embedding (8, in the example below) is a parameter that must be tuned.\n",
        "\n",
        "Key point: using an embedding column is best when a categorical column has many possible values. We are using one here for demonstration purposes, so you have a complete example you can modify for a different dataset in the future."
      ]
    },
    {
      "cell_type": "code",
      "metadata": {
        "id": "hmJHfq6QeZeo",
        "outputId": "0fd002ac-6133-4af1-ce4a-33b6179d5e3e",
        "colab": {
          "base_uri": "https://localhost:8080/",
          "height": 68
        }
      },
      "source": [
        "example_batch['Breed1']"
      ],
      "execution_count": 29,
      "outputs": [
        {
          "output_type": "execute_result",
          "data": {
            "text/plain": [
              "<tf.Tensor: shape=(5,), dtype=string, numpy=\n",
              "array([b'German Shepherd Dog', b'Mixed Breed', b'Domestic Medium Hair',\n",
              "       b'Mixed Breed', b'Mixed Breed'], dtype=object)>"
            ]
          },
          "metadata": {
            "tags": []
          },
          "execution_count": 29
        }
      ]
    },
    {
      "cell_type": "code",
      "metadata": {
        "id": "hSlohmr2Q_UU",
        "outputId": "837c487c-2ce8-4858-b6eb-0f31a6e48aac",
        "colab": {
          "base_uri": "https://localhost:8080/",
          "height": 187
        }
      },
      "source": [
        "# Notice the input to the embedding column is the categorical column\n",
        "# we previously created\n",
        "breed1 = feature_column.categorical_column_with_vocabulary_list(\n",
        "      'Breed1', dataframe.Breed1.unique())\n",
        "breed1_embedding = feature_column.embedding_column(breed1, dimension=8)\n",
        "demo(breed1_embedding)"
      ],
      "execution_count": 28,
      "outputs": [
        {
          "output_type": "stream",
          "text": [
            "[[ 0.31189206 -0.33967862 -0.6466614  -0.33414206  0.45192662 -0.21522976\n",
            "  -0.27996817  0.6959859 ]\n",
            " [ 0.32074252  0.10269089  0.3971076   0.11309242 -0.40013707 -0.11581437\n",
            "  -0.06517407  0.24499024]\n",
            " [-0.3786064   0.7015086  -0.34524834 -0.31299487  0.09972376 -0.38989344\n",
            "  -0.22461942 -0.06823309]\n",
            " [ 0.32074252  0.10269089  0.3971076   0.11309242 -0.40013707 -0.11581437\n",
            "  -0.06517407  0.24499024]\n",
            " [ 0.32074252  0.10269089  0.3971076   0.11309242 -0.40013707 -0.11581437\n",
            "  -0.06517407  0.24499024]]\n"
          ],
          "name": "stdout"
        }
      ]
    },
    {
      "cell_type": "markdown",
      "metadata": {
        "id": "urFCAvTVRMpB"
      },
      "source": [
        "### Hashed feature columns\n",
        "\n",
        "Another way to represent a categorical column with a large number of values is to use a [categorical_column_with_hash_bucket](https://www.tensorflow.org/api_docs/python/tf/feature_column/categorical_column_with_hash_bucket). This feature column calculates a hash value of the input, then selects one of the `hash_bucket_size` buckets to encode a string. When using this column, you do not need to provide the vocabulary, and you can choose to make the number of hash_buckets significantly smaller than the number of actual categories to save space.\n",
        "\n",
        "Key point: An important downside of this technique is that there may be collisions in which different strings are mapped to the same bucket. In practice, this can work well for some datasets regardless."
      ]
    },
    {
      "cell_type": "code",
      "metadata": {
        "id": "YHU_Aj2nRRDC",
        "outputId": "7c5b44d2-6a2c-448f-edfc-65f10cd47b02",
        "colab": {
          "base_uri": "https://localhost:8080/",
          "height": 102
        }
      },
      "source": [
        "breed1_hashed = feature_column.categorical_column_with_hash_bucket(\n",
        "      'Breed1', hash_bucket_size=10)\n",
        "demo(feature_column.indicator_column(breed1_hashed))"
      ],
      "execution_count": 30,
      "outputs": [
        {
          "output_type": "stream",
          "text": [
            "[[0. 0. 0. 0. 0. 1. 0. 0. 0. 0.]\n",
            " [0. 0. 0. 0. 0. 0. 0. 1. 0. 0.]\n",
            " [0. 0. 0. 0. 1. 0. 0. 0. 0. 0.]\n",
            " [0. 0. 0. 0. 0. 0. 0. 1. 0. 0.]\n",
            " [0. 0. 0. 0. 0. 0. 0. 1. 0. 0.]]\n"
          ],
          "name": "stdout"
        }
      ]
    },
    {
      "cell_type": "markdown",
      "metadata": {
        "id": "fB94M27DRXtZ"
      },
      "source": [
        "### Crossed feature columns\n",
        "Combining features into a single feature, better known as [feature crosses](https://developers.google.com/machine-learning/glossary/#feature_cross), enables a model to learn separate weights for each combination of features. Here, we will create a new feature that is the cross of Age and Type. Note that `crossed_column` does not build the full table of all possible combinations (which could be very large). Instead, it is backed by a `hashed_column`, so you can choose how large the table is."
      ]
    },
    {
      "cell_type": "code",
      "metadata": {
        "id": "oaPVERd9Rep6",
        "outputId": "e40b4aa1-492a-46b6-a3d0-09264ab4b6b2",
        "colab": {
          "base_uri": "https://localhost:8080/",
          "height": 102
        }
      },
      "source": [
        "crossed_feature = feature_column.crossed_column([age_buckets, animal_type], hash_bucket_size=10)\n",
        "demo(feature_column.indicator_column(crossed_feature))"
      ],
      "execution_count": 31,
      "outputs": [
        {
          "output_type": "stream",
          "text": [
            "[[0. 1. 0. 0. 0. 0. 0. 0. 0. 0.]\n",
            " [0. 0. 0. 0. 0. 0. 1. 0. 0. 0.]\n",
            " [0. 0. 0. 0. 1. 0. 0. 0. 0. 0.]\n",
            " [0. 0. 0. 1. 0. 0. 0. 0. 0. 0.]\n",
            " [0. 1. 0. 0. 0. 0. 0. 0. 0. 0.]]\n"
          ],
          "name": "stdout"
        }
      ]
    },
    {
      "cell_type": "markdown",
      "metadata": {
        "id": "ypkI9zx6Rj1q"
      },
      "source": [
        "## Choose which columns to use\n",
        "We have seen how to use several types of feature columns. Now we will use them to train a model. The goal of this tutorial is to show you the complete code (e.g. mechanics) needed to work with feature columns. We have selected a few columns to train our model below arbitrarily.\n",
        "\n",
        "Key point: If your aim is to build an accurate model, try a larger dataset of your own, and think carefully about which features are the most meaningful to include, and how they should be represented."
      ]
    },
    {
      "cell_type": "code",
      "metadata": {
        "id": "4PlLY7fORuzA"
      },
      "source": [
        "feature_columns = []\n",
        "\n",
        "# numeric cols\n",
        "for header in ['PhotoAmt', 'Fee', 'Age']:\n",
        "  feature_columns.append(feature_column.numeric_column(header))"
      ],
      "execution_count": 61,
      "outputs": []
    },
    {
      "cell_type": "code",
      "metadata": {
        "id": "jdF4rXkcDmBl"
      },
      "source": [
        "# bucketized cols\n",
        "age = feature_column.numeric_column('Age')\n",
        "age_buckets = feature_column.bucketized_column(age, boundaries=[1, 2, 3, 4, 5])\n",
        "feature_columns.append(age_buckets)"
      ],
      "execution_count": 62,
      "outputs": []
    },
    {
      "cell_type": "code",
      "metadata": {
        "id": "RsteO7FGDmNc"
      },
      "source": [
        "# indicator_columns\n",
        "indicator_column_names = ['Type', 'Color1', 'Color2', 'Gender', 'MaturitySize',\n",
        "                          'FurLength', 'Vaccinated', 'Sterilized', 'Health']\n",
        "for col_name in indicator_column_names:\n",
        "  categorical_column = feature_column.categorical_column_with_vocabulary_list( col_name, dataframe[col_name].unique()) # One hot encoder\n",
        "  indicator_column = feature_column.indicator_column(categorical_column) #\n",
        "  feature_columns.append(indicator_column)"
      ],
      "execution_count": 63,
      "outputs": []
    },
    {
      "cell_type": "code",
      "metadata": {
        "id": "6MhdqQ5uDmYU"
      },
      "source": [
        "# embedding columns\n",
        "breed1 = feature_column.categorical_column_with_vocabulary_list(\n",
        "      'Breed1', dataframe.Breed1.unique())\n",
        "breed1_embedding = feature_column.embedding_column(breed1, dimension=8)\n",
        "feature_columns.append(breed1_embedding)"
      ],
      "execution_count": null,
      "outputs": []
    },
    {
      "cell_type": "code",
      "metadata": {
        "id": "qkzRNfCLDsQf"
      },
      "source": [
        "# crossed columns\n",
        "age_type_feature = feature_column.crossed_column([age_buckets, animal_type], hash_bucket_size=100)\n",
        "feature_columns.append(feature_column.indicator_column(age_type_feature))"
      ],
      "execution_count": null,
      "outputs": []
    },
    {
      "cell_type": "markdown",
      "metadata": {
        "id": "nvvU12sMAxsE"
      },
      "source": [
        "### Explain"
      ]
    },
    {
      "cell_type": "markdown",
      "metadata": {
        "id": "qJFvtS-5fmKU"
      },
      "source": [
        "Explain indicator_columns"
      ]
    },
    {
      "cell_type": "code",
      "metadata": {
        "id": "gBHye4wQfpYA",
        "outputId": "72f5b307-b149-46be-dfac-4e1dcd08e342",
        "colab": {
          "base_uri": "https://localhost:8080/",
          "height": 1000
        }
      },
      "source": [
        "# indicator_columns\n",
        "indicator_column_names = ['Type', 'Color1', 'Color2', 'Gender', 'MaturitySize',\n",
        "                          'FurLength', 'Vaccinated', 'Sterilized', 'Health']\n",
        "for col_name in indicator_column_names:\n",
        "  print('-'*5)\n",
        "  print(col_name)\n",
        "  print(dataframe[col_name].unique())\n",
        "  categorical_column = feature_column.categorical_column_with_vocabulary_list( col_name, dataframe[col_name].unique()) # One hot encoder\n",
        "  print(categorical_column)\n",
        "  indicator_column = feature_column.indicator_column(categorical_column) \n",
        "  print(indicator_column)\n",
        "  print(demo(indicator_column))\n",
        "  #feature_columns.append(indicator_column)"
      ],
      "execution_count": 42,
      "outputs": [
        {
          "output_type": "stream",
          "text": [
            "-----\n",
            "Type\n",
            "['Cat' 'Dog']\n",
            "VocabularyListCategoricalColumn(key='Type', vocabulary_list=('Cat', 'Dog'), dtype=tf.string, default_value=-1, num_oov_buckets=0)\n",
            "IndicatorColumn(categorical_column=VocabularyListCategoricalColumn(key='Type', vocabulary_list=('Cat', 'Dog'), dtype=tf.string, default_value=-1, num_oov_buckets=0))\n",
            "[[0. 1.]\n",
            " [0. 1.]\n",
            " [1. 0.]\n",
            " [0. 1.]\n",
            " [0. 1.]]\n",
            "None\n",
            "-----\n",
            "Color1\n",
            "['Black' 'Brown' 'Cream' 'Gray' 'Golden' 'White' 'Yellow']\n",
            "VocabularyListCategoricalColumn(key='Color1', vocabulary_list=('Black', 'Brown', 'Cream', 'Gray', 'Golden', 'White', 'Yellow'), dtype=tf.string, default_value=-1, num_oov_buckets=0)\n",
            "IndicatorColumn(categorical_column=VocabularyListCategoricalColumn(key='Color1', vocabulary_list=('Black', 'Brown', 'Cream', 'Gray', 'Golden', 'White', 'Yellow'), dtype=tf.string, default_value=-1, num_oov_buckets=0))\n",
            "[[1. 0. 0. 0. 0. 0. 0.]\n",
            " [0. 1. 0. 0. 0. 0. 0.]\n",
            " [1. 0. 0. 0. 0. 0. 0.]\n",
            " [1. 0. 0. 0. 0. 0. 0.]\n",
            " [0. 0. 0. 0. 0. 0. 1.]]\n",
            "None\n",
            "-----\n",
            "Color2\n",
            "['White' 'Brown' 'No Color' 'Gray' 'Cream' 'Golden' 'Yellow']\n",
            "VocabularyListCategoricalColumn(key='Color2', vocabulary_list=('White', 'Brown', 'No Color', 'Gray', 'Cream', 'Golden', 'Yellow'), dtype=tf.string, default_value=-1, num_oov_buckets=0)\n",
            "IndicatorColumn(categorical_column=VocabularyListCategoricalColumn(key='Color2', vocabulary_list=('White', 'Brown', 'No Color', 'Gray', 'Cream', 'Golden', 'Yellow'), dtype=tf.string, default_value=-1, num_oov_buckets=0))\n",
            "[[0. 0. 1. 0. 0. 0. 0.]\n",
            " [0. 0. 1. 0. 0. 0. 0.]\n",
            " [0. 0. 1. 0. 0. 0. 0.]\n",
            " [0. 1. 0. 0. 0. 0. 0.]\n",
            " [0. 0. 1. 0. 0. 0. 0.]]\n",
            "None\n",
            "-----\n",
            "Gender\n",
            "['Male' 'Female']\n",
            "VocabularyListCategoricalColumn(key='Gender', vocabulary_list=('Male', 'Female'), dtype=tf.string, default_value=-1, num_oov_buckets=0)\n",
            "IndicatorColumn(categorical_column=VocabularyListCategoricalColumn(key='Gender', vocabulary_list=('Male', 'Female'), dtype=tf.string, default_value=-1, num_oov_buckets=0))\n",
            "[[0. 1.]\n",
            " [0. 1.]\n",
            " [1. 0.]\n",
            " [0. 1.]\n",
            " [0. 1.]]\n",
            "None\n",
            "-----\n",
            "MaturitySize\n",
            "['Small' 'Medium' 'Large']\n",
            "VocabularyListCategoricalColumn(key='MaturitySize', vocabulary_list=('Small', 'Medium', 'Large'), dtype=tf.string, default_value=-1, num_oov_buckets=0)\n",
            "IndicatorColumn(categorical_column=VocabularyListCategoricalColumn(key='MaturitySize', vocabulary_list=('Small', 'Medium', 'Large'), dtype=tf.string, default_value=-1, num_oov_buckets=0))\n",
            "[[0. 0. 1.]\n",
            " [0. 1. 0.]\n",
            " [0. 1. 0.]\n",
            " [0. 0. 1.]\n",
            " [0. 0. 1.]]\n",
            "None\n",
            "-----\n",
            "FurLength\n",
            "['Short' 'Medium' 'Long']\n",
            "VocabularyListCategoricalColumn(key='FurLength', vocabulary_list=('Short', 'Medium', 'Long'), dtype=tf.string, default_value=-1, num_oov_buckets=0)\n",
            "IndicatorColumn(categorical_column=VocabularyListCategoricalColumn(key='FurLength', vocabulary_list=('Short', 'Medium', 'Long'), dtype=tf.string, default_value=-1, num_oov_buckets=0))\n",
            "[[0. 1. 0.]\n",
            " [1. 0. 0.]\n",
            " [0. 1. 0.]\n",
            " [1. 0. 0.]\n",
            " [0. 0. 1.]]\n",
            "None\n",
            "-----\n",
            "Vaccinated\n",
            "['No' 'Not Sure' 'Yes']\n",
            "VocabularyListCategoricalColumn(key='Vaccinated', vocabulary_list=('No', 'Not Sure', 'Yes'), dtype=tf.string, default_value=-1, num_oov_buckets=0)\n",
            "IndicatorColumn(categorical_column=VocabularyListCategoricalColumn(key='Vaccinated', vocabulary_list=('No', 'Not Sure', 'Yes'), dtype=tf.string, default_value=-1, num_oov_buckets=0))\n",
            "[[0. 1. 0.]\n",
            " [0. 0. 1.]\n",
            " [0. 0. 1.]\n",
            " [1. 0. 0.]\n",
            " [1. 0. 0.]]\n",
            "None\n",
            "-----\n",
            "Sterilized\n",
            "['No' 'Not Sure' 'Yes']\n",
            "VocabularyListCategoricalColumn(key='Sterilized', vocabulary_list=('No', 'Not Sure', 'Yes'), dtype=tf.string, default_value=-1, num_oov_buckets=0)\n",
            "IndicatorColumn(categorical_column=VocabularyListCategoricalColumn(key='Sterilized', vocabulary_list=('No', 'Not Sure', 'Yes'), dtype=tf.string, default_value=-1, num_oov_buckets=0))\n",
            "[[1. 0. 0.]\n",
            " [0. 0. 1.]\n",
            " [0. 0. 1.]\n",
            " [1. 0. 0.]\n",
            " [1. 0. 0.]]\n",
            "None\n",
            "-----\n",
            "Health\n",
            "['Healthy' 'Minor Injury' 'Serious Injury']\n",
            "VocabularyListCategoricalColumn(key='Health', vocabulary_list=('Healthy', 'Minor Injury', 'Serious Injury'), dtype=tf.string, default_value=-1, num_oov_buckets=0)\n",
            "IndicatorColumn(categorical_column=VocabularyListCategoricalColumn(key='Health', vocabulary_list=('Healthy', 'Minor Injury', 'Serious Injury'), dtype=tf.string, default_value=-1, num_oov_buckets=0))\n",
            "[[1. 0. 0.]\n",
            " [1. 0. 0.]\n",
            " [1. 0. 0.]\n",
            " [1. 0. 0.]\n",
            " [1. 0. 0.]]\n",
            "None\n"
          ],
          "name": "stdout"
        }
      ]
    },
    {
      "cell_type": "markdown",
      "metadata": {
        "id": "Eamjnn-QhVfO"
      },
      "source": [
        "Explain embedding columns"
      ]
    },
    {
      "cell_type": "code",
      "metadata": {
        "id": "SApXC-ITg7Dn",
        "outputId": "61ea4150-88d6-4af2-f820-0c8f5841a584",
        "colab": {
          "base_uri": "https://localhost:8080/",
          "height": 850
        }
      },
      "source": [
        "dataframe.Breed1.unique()"
      ],
      "execution_count": 43,
      "outputs": [
        {
          "output_type": "execute_result",
          "data": {
            "text/plain": [
              "array(['Tabby', 'Domestic Medium Hair', 'Mixed Breed',\n",
              "       'Domestic Short Hair', 'Domestic Long Hair', 'Terrier', 'Persian',\n",
              "       'Rottweiler', 'Jack Russell Terrier', 'Shih Tzu',\n",
              "       'Labrador Retriever', 'Silky Terrier', 'Bombay', 'Husky',\n",
              "       'Schnauzer', 'Golden Retriever', 'Siberian Husky', 'Collie',\n",
              "       'German Shepherd Dog', 'Siamese', 'Calico',\n",
              "       'American Staffordshire Terrier', 'Turkish Van',\n",
              "       'Doberman Pinscher', 'Oriental Short Hair', 'Beagle', 'Ragdoll',\n",
              "       'Cocker Spaniel', 'Poodle', 'Black Labrador Retriever', 'Bengal',\n",
              "       'Shar Pei', 'Spitz', 'Birman', 'Belgian Shepherd Malinois',\n",
              "       'American Shorthair', 'Belgian Shepherd Laekenois', '0',\n",
              "       'Jack Russell Terrier (Parson Russell Terrier)', 'Shepherd',\n",
              "       'Corgi', 'Pit Bull Terrier', 'Oriental Tabby',\n",
              "       'Miniature Pinscher', 'Manx', 'Boxer', 'Dachshund', 'Chihuahua',\n",
              "       'Snowshoe', 'Rat Terrier', 'Tiger', 'Silver', 'Maine Coon',\n",
              "       'German Pinscher', 'Russian Blue', 'Tuxedo', 'Lhasa Apso',\n",
              "       'Pomeranian', 'Whippet', 'English Bulldog', 'Bull Terrier',\n",
              "       'Yellow Labrador Retriever', 'Dalmatian',\n",
              "       'West Highland White Terrier Westie', 'Pekingese',\n",
              "       'Wheaten Terrier', 'Havana', 'Egyptian Mau', 'Tortoiseshell',\n",
              "       'American Curl', 'British Shorthair',\n",
              "       'Cavalier King Charles Spaniel', 'Munsterlander', 'Singapura',\n",
              "       'Turkish Angora', 'Maltese', 'Applehead Siamese',\n",
              "       'Oriental Long Hair', 'Standard Poodle', 'Samoyed', 'Mountain Dog',\n",
              "       'Coonhound', 'Japanese Bobtail', 'Abyssinian', 'Bobtail',\n",
              "       'Glen of Imaal Terrier', 'Yorkshire Terrier Yorkie',\n",
              "       'English Cocker Spaniel', 'Siberian', 'Border Collie',\n",
              "       'Field Spaniel', 'Australian Terrier', 'Burmese', 'Pug',\n",
              "       'Toy Fox Terrier', 'French Bulldog', 'Norwegian Forest Cat',\n",
              "       'Boston Terrier', 'Australian Kelpie', 'Basset Hound',\n",
              "       'Belgian Shepherd Dog Sheepdog', 'Bullmastiff', 'Korat', 'Hound',\n",
              "       'Great Dane', 'American Wirehair', 'White German Shepherd',\n",
              "       'Burmilla', 'Ocicat', 'Saint Bernard', 'Javanese',\n",
              "       'Australian Shepherd', 'Retriever', 'Black Mouth Cur',\n",
              "       'Old English Sheepdog', 'Weimaraner', 'Chausie', 'Pointer',\n",
              "       'Staffordshire Bull Terrier', 'Dilute Tortoiseshell', 'Greyhound',\n",
              "       'Shetland Sheepdog Sheltie', 'Wirehaired Terrier',\n",
              "       'American Water Spaniel', 'Irish Setter', 'Flat-coated Retriever',\n",
              "       'Irish Wolfhound', 'Tonkinese', 'Nebelung', 'Irish Terrier',\n",
              "       'Bedlington Terrier', 'Cymric', 'American Bulldog', 'Mastiff',\n",
              "       'Akita', 'Basenji', 'Somali', 'English Springer Spaniel',\n",
              "       'Chow Chow', 'Shiba Inu', 'Rhodesian Ridgeback', 'Papillon',\n",
              "       'Setter', 'Chartreux', 'Dilute Calico', 'Fox Terrier', 'Balinese',\n",
              "       'Extra-Toes Cat (Hemingway Polydactyl)', 'English Pointer',\n",
              "       'Sphynx (hairless cat)', 'Lowchen', 'Kai Dog', 'German Spitz',\n",
              "       'Exotic Shorthair', 'Welsh Corgi', 'Himalayan',\n",
              "       'Manchester Terrier', 'Spaniel', 'Swedish Vallhund',\n",
              "       'Chinese Crested Dog', 'Cattle Dog', 'Torbie', 'Ragamuffin',\n",
              "       'Lancashire Heeler', 'Foxhound', 'Dutch Shepherd'], dtype=object)"
            ]
          },
          "metadata": {
            "tags": []
          },
          "execution_count": 43
        }
      ]
    },
    {
      "cell_type": "code",
      "metadata": {
        "id": "uLSGyVSNhHro",
        "outputId": "b8aeac48-e34a-42e9-8900-e0c895724da4",
        "colab": {
          "base_uri": "https://localhost:8080/",
          "height": 54
        }
      },
      "source": [
        "# embedding columns\n",
        "breed1 = feature_column.categorical_column_with_vocabulary_list(\n",
        "      'Breed1', dataframe.Breed1.unique())\n",
        "breed1_embedding = feature_column.embedding_column(breed1, dimension=8)\n",
        "breed1_embedding"
      ],
      "execution_count": 65,
      "outputs": [
        {
          "output_type": "execute_result",
          "data": {
            "text/plain": [
              "EmbeddingColumn(categorical_column=VocabularyListCategoricalColumn(key='Breed1', vocabulary_list=('Tabby', 'Domestic Medium Hair', 'Mixed Breed', 'Domestic Short Hair', 'Domestic Long Hair', 'Terrier', 'Persian', 'Rottweiler', 'Jack Russell Terrier', 'Shih Tzu', 'Labrador Retriever', 'Silky Terrier', 'Bombay', 'Husky', 'Schnauzer', 'Golden Retriever', 'Siberian Husky', 'Collie', 'German Shepherd Dog', 'Siamese', 'Calico', 'American Staffordshire Terrier', 'Turkish Van', 'Doberman Pinscher', 'Oriental Short Hair', 'Beagle', 'Ragdoll', 'Cocker Spaniel', 'Poodle', 'Black Labrador Retriever', 'Bengal', 'Shar Pei', 'Spitz', 'Birman', 'Belgian Shepherd Malinois', 'American Shorthair', 'Belgian Shepherd Laekenois', '0', 'Jack Russell Terrier (Parson Russell Terrier)', 'Shepherd', 'Corgi', 'Pit Bull Terrier', 'Oriental Tabby', 'Miniature Pinscher', 'Manx', 'Boxer', 'Dachshund', 'Chihuahua', 'Snowshoe', 'Rat Terrier', 'Tiger', 'Silver', 'Maine Coon', 'German Pinscher', 'Russian Blue', 'Tuxedo', 'Lhasa Apso', 'Pomeranian', 'Whippet', 'English Bulldog', 'Bull Terrier', 'Yellow Labrador Retriever', 'Dalmatian', 'West Highland White Terrier Westie', 'Pekingese', 'Wheaten Terrier', 'Havana', 'Egyptian Mau', 'Tortoiseshell', 'American Curl', 'British Shorthair', 'Cavalier King Charles Spaniel', 'Munsterlander', 'Singapura', 'Turkish Angora', 'Maltese', 'Applehead Siamese', 'Oriental Long Hair', 'Standard Poodle', 'Samoyed', 'Mountain Dog', 'Coonhound', 'Japanese Bobtail', 'Abyssinian', 'Bobtail', 'Glen of Imaal Terrier', 'Yorkshire Terrier Yorkie', 'English Cocker Spaniel', 'Siberian', 'Border Collie', 'Field Spaniel', 'Australian Terrier', 'Burmese', 'Pug', 'Toy Fox Terrier', 'French Bulldog', 'Norwegian Forest Cat', 'Boston Terrier', 'Australian Kelpie', 'Basset Hound', 'Belgian Shepherd Dog Sheepdog', 'Bullmastiff', 'Korat', 'Hound', 'Great Dane', 'American Wirehair', 'White German Shepherd', 'Burmilla', 'Ocicat', 'Saint Bernard', 'Javanese', 'Australian Shepherd', 'Retriever', 'Black Mouth Cur', 'Old English Sheepdog', 'Weimaraner', 'Chausie', 'Pointer', 'Staffordshire Bull Terrier', 'Dilute Tortoiseshell', 'Greyhound', 'Shetland Sheepdog Sheltie', 'Wirehaired Terrier', 'American Water Spaniel', 'Irish Setter', 'Flat-coated Retriever', 'Irish Wolfhound', 'Tonkinese', 'Nebelung', 'Irish Terrier', 'Bedlington Terrier', 'Cymric', 'American Bulldog', 'Mastiff', 'Akita', 'Basenji', 'Somali', 'English Springer Spaniel', 'Chow Chow', 'Shiba Inu', 'Rhodesian Ridgeback', 'Papillon', 'Setter', 'Chartreux', 'Dilute Calico', 'Fox Terrier', 'Balinese', 'Extra-Toes Cat (Hemingway Polydactyl)', 'English Pointer', 'Sphynx (hairless cat)', 'Lowchen', 'Kai Dog', 'German Spitz', 'Exotic Shorthair', 'Welsh Corgi', 'Himalayan', 'Manchester Terrier', 'Spaniel', 'Swedish Vallhund', 'Chinese Crested Dog', 'Cattle Dog', 'Torbie', 'Ragamuffin', 'Lancashire Heeler', 'Foxhound', 'Dutch Shepherd'), dtype=tf.string, default_value=-1, num_oov_buckets=0), dimension=8, combiner='mean', initializer=<tensorflow.python.ops.init_ops.TruncatedNormal object at 0x7f6db5bd2ac8>, ckpt_to_load_from=None, tensor_name_in_ckpt=None, max_norm=None, trainable=True, use_safe_embedding_lookup=True)"
            ]
          },
          "metadata": {
            "tags": []
          },
          "execution_count": 65
        }
      ]
    },
    {
      "cell_type": "code",
      "metadata": {
        "id": "9X4aQRlNg-3s",
        "outputId": "2cfd63bb-918a-4ee4-ac48-70a7e7722e0e",
        "colab": {
          "base_uri": "https://localhost:8080/",
          "height": 187
        }
      },
      "source": [
        "demo(breed1_embedding)"
      ],
      "execution_count": 47,
      "outputs": [
        {
          "output_type": "stream",
          "text": [
            "[[-0.2212519   0.42945105 -0.07446266  0.34322447 -0.01476592 -0.48085988\n",
            "   0.03153189 -0.26152351]\n",
            " [-0.3640167  -0.23997332  0.4086902   0.06860685  0.41826752  0.11606763\n",
            "  -0.6059803   0.345743  ]\n",
            " [ 0.42649218  0.09538587  0.67222625 -0.12674467  0.47199896 -0.28783375\n",
            "   0.02352233 -0.06842715]\n",
            " [-0.3640167  -0.23997332  0.4086902   0.06860685  0.41826752  0.11606763\n",
            "  -0.6059803   0.345743  ]\n",
            " [-0.3640167  -0.23997332  0.4086902   0.06860685  0.41826752  0.11606763\n",
            "  -0.6059803   0.345743  ]]\n"
          ],
          "name": "stdout"
        }
      ]
    },
    {
      "cell_type": "markdown",
      "metadata": {
        "id": "Wm7bcyO8hcey"
      },
      "source": [
        "Explain crossed columns"
      ]
    },
    {
      "cell_type": "code",
      "metadata": {
        "id": "5pPiC2Dwhn_g",
        "outputId": "5298b267-df69-4d66-fff9-6942d96775a7",
        "colab": {
          "base_uri": "https://localhost:8080/",
          "height": 54
        }
      },
      "source": [
        "age_buckets"
      ],
      "execution_count": 51,
      "outputs": [
        {
          "output_type": "execute_result",
          "data": {
            "text/plain": [
              "BucketizedColumn(source_column=NumericColumn(key='Age', shape=(1,), default_value=None, dtype=tf.float32, normalizer_fn=None), boundaries=(1, 2, 3, 4, 5))"
            ]
          },
          "metadata": {
            "tags": []
          },
          "execution_count": 51
        }
      ]
    },
    {
      "cell_type": "code",
      "metadata": {
        "id": "Lp5hugjVhp7y",
        "outputId": "f10efbec-83cd-4a3f-a433-57b927488c3a",
        "colab": {
          "base_uri": "https://localhost:8080/",
          "height": 54
        }
      },
      "source": [
        "animal_type"
      ],
      "execution_count": 52,
      "outputs": [
        {
          "output_type": "execute_result",
          "data": {
            "text/plain": [
              "VocabularyListCategoricalColumn(key='Type', vocabulary_list=('Cat', 'Dog'), dtype=tf.string, default_value=-1, num_oov_buckets=0)"
            ]
          },
          "metadata": {
            "tags": []
          },
          "execution_count": 52
        }
      ]
    },
    {
      "cell_type": "code",
      "metadata": {
        "id": "7xfo6Nrshffw",
        "outputId": "32984fa7-1ec2-4328-c9ff-ec55db5681b2",
        "colab": {
          "base_uri": "https://localhost:8080/",
          "height": 54
        }
      },
      "source": [
        "# crossed columns\n",
        "age_type_feature = feature_column.crossed_column([age_buckets, animal_type], hash_bucket_size=100)\n",
        "age_type_feature"
      ],
      "execution_count": 53,
      "outputs": [
        {
          "output_type": "execute_result",
          "data": {
            "text/plain": [
              "CrossedColumn(keys=(BucketizedColumn(source_column=NumericColumn(key='Age', shape=(1,), default_value=None, dtype=tf.float32, normalizer_fn=None), boundaries=(1, 2, 3, 4, 5)), VocabularyListCategoricalColumn(key='Type', vocabulary_list=('Cat', 'Dog'), dtype=tf.string, default_value=-1, num_oov_buckets=0)), hash_bucket_size=100, hash_key=None)"
            ]
          },
          "metadata": {
            "tags": []
          },
          "execution_count": 53
        }
      ]
    },
    {
      "cell_type": "code",
      "metadata": {
        "id": "IqjLLxvzhtQS",
        "outputId": "c905c6fb-fe63-4312-c659-90ef61903a82",
        "colab": {
          "base_uri": "https://localhost:8080/",
          "height": 54
        }
      },
      "source": [
        "feature_column.indicator_column(age_type_feature)"
      ],
      "execution_count": 54,
      "outputs": [
        {
          "output_type": "execute_result",
          "data": {
            "text/plain": [
              "IndicatorColumn(categorical_column=CrossedColumn(keys=(BucketizedColumn(source_column=NumericColumn(key='Age', shape=(1,), default_value=None, dtype=tf.float32, normalizer_fn=None), boundaries=(1, 2, 3, 4, 5)), VocabularyListCategoricalColumn(key='Type', vocabulary_list=('Cat', 'Dog'), dtype=tf.string, default_value=-1, num_oov_buckets=0)), hash_bucket_size=100, hash_key=None))"
            ]
          },
          "metadata": {
            "tags": []
          },
          "execution_count": 54
        }
      ]
    },
    {
      "cell_type": "code",
      "metadata": {
        "id": "MwSbnxTLhfnp",
        "outputId": "cd4b3e9b-1cc1-46e6-96ed-9176ac0f23d7",
        "colab": {
          "base_uri": "https://localhost:8080/",
          "height": 442
        }
      },
      "source": [
        "demo(feature_column.indicator_column(age_type_feature))"
      ],
      "execution_count": 55,
      "outputs": [
        {
          "output_type": "stream",
          "text": [
            "[[0. 0. 0. 0. 0. 0. 0. 0. 0. 0. 0. 0. 0. 0. 0. 1. 0. 0. 0. 0. 0. 0. 0. 0.\n",
            "  0. 0. 0. 0. 0. 0. 0. 0. 0. 0. 0. 0. 0. 0. 0. 0. 0. 0. 0. 0. 0. 0. 0. 0.\n",
            "  0. 0. 0. 0. 0. 0. 0. 0. 0. 0. 0. 0. 0. 0. 0. 0. 0. 0. 0. 0. 0. 0. 0. 0.\n",
            "  0. 0. 0. 0. 0. 0. 0. 0. 0. 0. 0. 0. 0. 0. 0. 0. 0. 0. 0. 0. 0. 0. 0. 0.\n",
            "  0. 0. 0. 0.]\n",
            " [0. 0. 0. 0. 0. 0. 0. 0. 0. 0. 0. 0. 0. 0. 0. 1. 0. 0. 0. 0. 0. 0. 0. 0.\n",
            "  0. 0. 0. 0. 0. 0. 0. 0. 0. 0. 0. 0. 0. 0. 0. 0. 0. 0. 0. 0. 0. 0. 0. 0.\n",
            "  0. 0. 0. 0. 0. 0. 0. 0. 0. 0. 0. 0. 0. 0. 0. 0. 0. 0. 0. 0. 0. 0. 0. 0.\n",
            "  0. 0. 0. 0. 0. 0. 0. 0. 0. 0. 0. 0. 0. 0. 0. 0. 0. 0. 0. 0. 0. 0. 0. 0.\n",
            "  0. 0. 0. 0.]\n",
            " [0. 0. 0. 0. 0. 0. 0. 0. 0. 0. 0. 0. 0. 0. 0. 0. 0. 0. 0. 0. 0. 0. 0. 0.\n",
            "  0. 0. 0. 0. 0. 0. 0. 0. 0. 0. 0. 0. 0. 0. 0. 0. 0. 0. 0. 0. 1. 0. 0. 0.\n",
            "  0. 0. 0. 0. 0. 0. 0. 0. 0. 0. 0. 0. 0. 0. 0. 0. 0. 0. 0. 0. 0. 0. 0. 0.\n",
            "  0. 0. 0. 0. 0. 0. 0. 0. 0. 0. 0. 0. 0. 0. 0. 0. 0. 0. 0. 0. 0. 0. 0. 0.\n",
            "  0. 0. 0. 0.]\n",
            " [0. 0. 0. 0. 0. 0. 0. 0. 0. 0. 0. 0. 0. 0. 0. 0. 0. 0. 0. 0. 0. 0. 0. 0.\n",
            "  0. 0. 0. 0. 0. 0. 0. 0. 0. 0. 0. 0. 0. 0. 0. 0. 0. 1. 0. 0. 0. 0. 0. 0.\n",
            "  0. 0. 0. 0. 0. 0. 0. 0. 0. 0. 0. 0. 0. 0. 0. 0. 0. 0. 0. 0. 0. 0. 0. 0.\n",
            "  0. 0. 0. 0. 0. 0. 0. 0. 0. 0. 0. 0. 0. 0. 0. 0. 0. 0. 0. 0. 0. 0. 0. 0.\n",
            "  0. 0. 0. 0.]\n",
            " [0. 0. 0. 0. 0. 0. 0. 0. 0. 0. 0. 0. 0. 0. 0. 1. 0. 0. 0. 0. 0. 0. 0. 0.\n",
            "  0. 0. 0. 0. 0. 0. 0. 0. 0. 0. 0. 0. 0. 0. 0. 0. 0. 0. 0. 0. 0. 0. 0. 0.\n",
            "  0. 0. 0. 0. 0. 0. 0. 0. 0. 0. 0. 0. 0. 0. 0. 0. 0. 0. 0. 0. 0. 0. 0. 0.\n",
            "  0. 0. 0. 0. 0. 0. 0. 0. 0. 0. 0. 0. 0. 0. 0. 0. 0. 0. 0. 0. 0. 0. 0. 0.\n",
            "  0. 0. 0. 0.]]\n"
          ],
          "name": "stdout"
        }
      ]
    },
    {
      "cell_type": "code",
      "metadata": {
        "id": "MuKPpUpAhfi-"
      },
      "source": [
        ""
      ],
      "execution_count": null,
      "outputs": []
    },
    {
      "cell_type": "markdown",
      "metadata": {
        "id": "YhCWZgilhgSs"
      },
      "source": [
        "### End of explain"
      ]
    },
    {
      "cell_type": "markdown",
      "metadata": {
        "id": "M-nDp8krS_ts"
      },
      "source": [
        "### Create a feature layer\n",
        "Now that we have defined our feature columns, we will use a [DenseFeatures](https://www.tensorflow.org/versions/r2.0/api_docs/python/tf/keras/layers/DenseFeatures) layer to input them to our Keras model."
      ]
    },
    {
      "cell_type": "code",
      "metadata": {
        "id": "4TZucMAKi5OO",
        "outputId": "11e4b965-fc37-448a-d64b-8bc5f4ed1013",
        "colab": {
          "base_uri": "https://localhost:8080/",
          "height": 292
        }
      },
      "source": [
        "feature_columns"
      ],
      "execution_count": 67,
      "outputs": [
        {
          "output_type": "execute_result",
          "data": {
            "text/plain": [
              "[NumericColumn(key='PhotoAmt', shape=(1,), default_value=None, dtype=tf.float32, normalizer_fn=None),\n",
              " NumericColumn(key='Fee', shape=(1,), default_value=None, dtype=tf.float32, normalizer_fn=None),\n",
              " NumericColumn(key='Age', shape=(1,), default_value=None, dtype=tf.float32, normalizer_fn=None),\n",
              " BucketizedColumn(source_column=NumericColumn(key='Age', shape=(1,), default_value=None, dtype=tf.float32, normalizer_fn=None), boundaries=(1, 2, 3, 4, 5)),\n",
              " IndicatorColumn(categorical_column=VocabularyListCategoricalColumn(key='Type', vocabulary_list=('Cat', 'Dog'), dtype=tf.string, default_value=-1, num_oov_buckets=0)),\n",
              " IndicatorColumn(categorical_column=VocabularyListCategoricalColumn(key='Color1', vocabulary_list=('Black', 'Brown', 'Cream', 'Gray', 'Golden', 'White', 'Yellow'), dtype=tf.string, default_value=-1, num_oov_buckets=0)),\n",
              " IndicatorColumn(categorical_column=VocabularyListCategoricalColumn(key='Color2', vocabulary_list=('White', 'Brown', 'No Color', 'Gray', 'Cream', 'Golden', 'Yellow'), dtype=tf.string, default_value=-1, num_oov_buckets=0)),\n",
              " IndicatorColumn(categorical_column=VocabularyListCategoricalColumn(key='Gender', vocabulary_list=('Male', 'Female'), dtype=tf.string, default_value=-1, num_oov_buckets=0)),\n",
              " IndicatorColumn(categorical_column=VocabularyListCategoricalColumn(key='MaturitySize', vocabulary_list=('Small', 'Medium', 'Large'), dtype=tf.string, default_value=-1, num_oov_buckets=0)),\n",
              " IndicatorColumn(categorical_column=VocabularyListCategoricalColumn(key='FurLength', vocabulary_list=('Short', 'Medium', 'Long'), dtype=tf.string, default_value=-1, num_oov_buckets=0)),\n",
              " IndicatorColumn(categorical_column=VocabularyListCategoricalColumn(key='Vaccinated', vocabulary_list=('No', 'Not Sure', 'Yes'), dtype=tf.string, default_value=-1, num_oov_buckets=0)),\n",
              " IndicatorColumn(categorical_column=VocabularyListCategoricalColumn(key='Sterilized', vocabulary_list=('No', 'Not Sure', 'Yes'), dtype=tf.string, default_value=-1, num_oov_buckets=0)),\n",
              " IndicatorColumn(categorical_column=VocabularyListCategoricalColumn(key='Health', vocabulary_list=('Healthy', 'Minor Injury', 'Serious Injury'), dtype=tf.string, default_value=-1, num_oov_buckets=0)),\n",
              " EmbeddingColumn(categorical_column=VocabularyListCategoricalColumn(key='Breed1', vocabulary_list=('Tabby', 'Domestic Medium Hair', 'Mixed Breed', 'Domestic Short Hair', 'Domestic Long Hair', 'Terrier', 'Persian', 'Rottweiler', 'Jack Russell Terrier', 'Shih Tzu', 'Labrador Retriever', 'Silky Terrier', 'Bombay', 'Husky', 'Schnauzer', 'Golden Retriever', 'Siberian Husky', 'Collie', 'German Shepherd Dog', 'Siamese', 'Calico', 'American Staffordshire Terrier', 'Turkish Van', 'Doberman Pinscher', 'Oriental Short Hair', 'Beagle', 'Ragdoll', 'Cocker Spaniel', 'Poodle', 'Black Labrador Retriever', 'Bengal', 'Shar Pei', 'Spitz', 'Birman', 'Belgian Shepherd Malinois', 'American Shorthair', 'Belgian Shepherd Laekenois', '0', 'Jack Russell Terrier (Parson Russell Terrier)', 'Shepherd', 'Corgi', 'Pit Bull Terrier', 'Oriental Tabby', 'Miniature Pinscher', 'Manx', 'Boxer', 'Dachshund', 'Chihuahua', 'Snowshoe', 'Rat Terrier', 'Tiger', 'Silver', 'Maine Coon', 'German Pinscher', 'Russian Blue', 'Tuxedo', 'Lhasa Apso', 'Pomeranian', 'Whippet', 'English Bulldog', 'Bull Terrier', 'Yellow Labrador Retriever', 'Dalmatian', 'West Highland White Terrier Westie', 'Pekingese', 'Wheaten Terrier', 'Havana', 'Egyptian Mau', 'Tortoiseshell', 'American Curl', 'British Shorthair', 'Cavalier King Charles Spaniel', 'Munsterlander', 'Singapura', 'Turkish Angora', 'Maltese', 'Applehead Siamese', 'Oriental Long Hair', 'Standard Poodle', 'Samoyed', 'Mountain Dog', 'Coonhound', 'Japanese Bobtail', 'Abyssinian', 'Bobtail', 'Glen of Imaal Terrier', 'Yorkshire Terrier Yorkie', 'English Cocker Spaniel', 'Siberian', 'Border Collie', 'Field Spaniel', 'Australian Terrier', 'Burmese', 'Pug', 'Toy Fox Terrier', 'French Bulldog', 'Norwegian Forest Cat', 'Boston Terrier', 'Australian Kelpie', 'Basset Hound', 'Belgian Shepherd Dog Sheepdog', 'Bullmastiff', 'Korat', 'Hound', 'Great Dane', 'American Wirehair', 'White German Shepherd', 'Burmilla', 'Ocicat', 'Saint Bernard', 'Javanese', 'Australian Shepherd', 'Retriever', 'Black Mouth Cur', 'Old English Sheepdog', 'Weimaraner', 'Chausie', 'Pointer', 'Staffordshire Bull Terrier', 'Dilute Tortoiseshell', 'Greyhound', 'Shetland Sheepdog Sheltie', 'Wirehaired Terrier', 'American Water Spaniel', 'Irish Setter', 'Flat-coated Retriever', 'Irish Wolfhound', 'Tonkinese', 'Nebelung', 'Irish Terrier', 'Bedlington Terrier', 'Cymric', 'American Bulldog', 'Mastiff', 'Akita', 'Basenji', 'Somali', 'English Springer Spaniel', 'Chow Chow', 'Shiba Inu', 'Rhodesian Ridgeback', 'Papillon', 'Setter', 'Chartreux', 'Dilute Calico', 'Fox Terrier', 'Balinese', 'Extra-Toes Cat (Hemingway Polydactyl)', 'English Pointer', 'Sphynx (hairless cat)', 'Lowchen', 'Kai Dog', 'German Spitz', 'Exotic Shorthair', 'Welsh Corgi', 'Himalayan', 'Manchester Terrier', 'Spaniel', 'Swedish Vallhund', 'Chinese Crested Dog', 'Cattle Dog', 'Torbie', 'Ragamuffin', 'Lancashire Heeler', 'Foxhound', 'Dutch Shepherd'), dtype=tf.string, default_value=-1, num_oov_buckets=0), dimension=8, combiner='mean', initializer=<tensorflow.python.ops.init_ops.TruncatedNormal object at 0x7f6db5bd2b70>, ckpt_to_load_from=None, tensor_name_in_ckpt=None, max_norm=None, trainable=True, use_safe_embedding_lookup=True),\n",
              " IndicatorColumn(categorical_column=CrossedColumn(keys=(BucketizedColumn(source_column=NumericColumn(key='Age', shape=(1,), default_value=None, dtype=tf.float32, normalizer_fn=None), boundaries=(1, 2, 3, 4, 5)), VocabularyListCategoricalColumn(key='Type', vocabulary_list=('Cat', 'Dog'), dtype=tf.string, default_value=-1, num_oov_buckets=0)), hash_bucket_size=100, hash_key=None))]"
            ]
          },
          "metadata": {
            "tags": []
          },
          "execution_count": 67
        }
      ]
    },
    {
      "cell_type": "code",
      "metadata": {
        "id": "6o-El1R2TGQP"
      },
      "source": [
        "feature_layer = tf.keras.layers.DenseFeatures(feature_columns)"
      ],
      "execution_count": 68,
      "outputs": []
    },
    {
      "cell_type": "code",
      "metadata": {
        "id": "1oJtJKJ2jr9h",
        "outputId": "39987008-010d-421b-c9de-07c28d7af193",
        "colab": {
          "base_uri": "https://localhost:8080/",
          "height": 34
        }
      },
      "source": [
        "feature_layer"
      ],
      "execution_count": 69,
      "outputs": [
        {
          "output_type": "execute_result",
          "data": {
            "text/plain": [
              "<tensorflow.python.keras.feature_column.dense_features_v2.DenseFeatures at 0x7f6db5bd2940>"
            ]
          },
          "metadata": {
            "tags": []
          },
          "execution_count": 69
        }
      ]
    },
    {
      "cell_type": "markdown",
      "metadata": {
        "id": "8cf6vKfgTH0U"
      },
      "source": [
        "Earlier, we used a small batch size to demonstrate how feature columns worked. We create a new input pipeline with a larger batch size."
      ]
    },
    {
      "cell_type": "code",
      "metadata": {
        "id": "bZ7EpNGrkMO5",
        "outputId": "e3bd6dcc-7aad-497b-cfe7-3ca896ba1709",
        "colab": {
          "base_uri": "https://localhost:8080/",
          "height": 694
        }
      },
      "source": [
        "print(type(train))\n",
        "train"
      ],
      "execution_count": 71,
      "outputs": [
        {
          "output_type": "stream",
          "text": [
            "<class 'pandas.core.frame.DataFrame'>\n"
          ],
          "name": "stdout"
        },
        {
          "output_type": "execute_result",
          "data": {
            "text/html": [
              "<div>\n",
              "<style scoped>\n",
              "    .dataframe tbody tr th:only-of-type {\n",
              "        vertical-align: middle;\n",
              "    }\n",
              "\n",
              "    .dataframe tbody tr th {\n",
              "        vertical-align: top;\n",
              "    }\n",
              "\n",
              "    .dataframe thead th {\n",
              "        text-align: right;\n",
              "    }\n",
              "</style>\n",
              "<table border=\"1\" class=\"dataframe\">\n",
              "  <thead>\n",
              "    <tr style=\"text-align: right;\">\n",
              "      <th></th>\n",
              "      <th>Type</th>\n",
              "      <th>Age</th>\n",
              "      <th>Breed1</th>\n",
              "      <th>Gender</th>\n",
              "      <th>Color1</th>\n",
              "      <th>Color2</th>\n",
              "      <th>MaturitySize</th>\n",
              "      <th>FurLength</th>\n",
              "      <th>Vaccinated</th>\n",
              "      <th>Sterilized</th>\n",
              "      <th>Health</th>\n",
              "      <th>Fee</th>\n",
              "      <th>PhotoAmt</th>\n",
              "      <th>target</th>\n",
              "    </tr>\n",
              "  </thead>\n",
              "  <tbody>\n",
              "    <tr>\n",
              "      <th>10723</th>\n",
              "      <td>Cat</td>\n",
              "      <td>9</td>\n",
              "      <td>Domestic Short Hair</td>\n",
              "      <td>Female</td>\n",
              "      <td>Cream</td>\n",
              "      <td>No Color</td>\n",
              "      <td>Medium</td>\n",
              "      <td>Short</td>\n",
              "      <td>No</td>\n",
              "      <td>No</td>\n",
              "      <td>Healthy</td>\n",
              "      <td>0</td>\n",
              "      <td>2</td>\n",
              "      <td>1</td>\n",
              "    </tr>\n",
              "    <tr>\n",
              "      <th>6297</th>\n",
              "      <td>Dog</td>\n",
              "      <td>12</td>\n",
              "      <td>Mixed Breed</td>\n",
              "      <td>Female</td>\n",
              "      <td>Black</td>\n",
              "      <td>Brown</td>\n",
              "      <td>Medium</td>\n",
              "      <td>Short</td>\n",
              "      <td>Yes</td>\n",
              "      <td>Not Sure</td>\n",
              "      <td>Healthy</td>\n",
              "      <td>0</td>\n",
              "      <td>2</td>\n",
              "      <td>0</td>\n",
              "    </tr>\n",
              "    <tr>\n",
              "      <th>6675</th>\n",
              "      <td>Cat</td>\n",
              "      <td>29</td>\n",
              "      <td>Domestic Short Hair</td>\n",
              "      <td>Female</td>\n",
              "      <td>Brown</td>\n",
              "      <td>White</td>\n",
              "      <td>Medium</td>\n",
              "      <td>Short</td>\n",
              "      <td>Not Sure</td>\n",
              "      <td>No</td>\n",
              "      <td>Healthy</td>\n",
              "      <td>0</td>\n",
              "      <td>3</td>\n",
              "      <td>0</td>\n",
              "    </tr>\n",
              "    <tr>\n",
              "      <th>1258</th>\n",
              "      <td>Cat</td>\n",
              "      <td>4</td>\n",
              "      <td>Domestic Short Hair</td>\n",
              "      <td>Female</td>\n",
              "      <td>Brown</td>\n",
              "      <td>Cream</td>\n",
              "      <td>Medium</td>\n",
              "      <td>Short</td>\n",
              "      <td>No</td>\n",
              "      <td>No</td>\n",
              "      <td>Healthy</td>\n",
              "      <td>0</td>\n",
              "      <td>2</td>\n",
              "      <td>1</td>\n",
              "    </tr>\n",
              "    <tr>\n",
              "      <th>10199</th>\n",
              "      <td>Cat</td>\n",
              "      <td>8</td>\n",
              "      <td>Burmese</td>\n",
              "      <td>Female</td>\n",
              "      <td>Black</td>\n",
              "      <td>Yellow</td>\n",
              "      <td>Medium</td>\n",
              "      <td>Medium</td>\n",
              "      <td>Yes</td>\n",
              "      <td>Yes</td>\n",
              "      <td>Healthy</td>\n",
              "      <td>0</td>\n",
              "      <td>1</td>\n",
              "      <td>1</td>\n",
              "    </tr>\n",
              "    <tr>\n",
              "      <th>...</th>\n",
              "      <td>...</td>\n",
              "      <td>...</td>\n",
              "      <td>...</td>\n",
              "      <td>...</td>\n",
              "      <td>...</td>\n",
              "      <td>...</td>\n",
              "      <td>...</td>\n",
              "      <td>...</td>\n",
              "      <td>...</td>\n",
              "      <td>...</td>\n",
              "      <td>...</td>\n",
              "      <td>...</td>\n",
              "      <td>...</td>\n",
              "      <td>...</td>\n",
              "    </tr>\n",
              "    <tr>\n",
              "      <th>2058</th>\n",
              "      <td>Cat</td>\n",
              "      <td>10</td>\n",
              "      <td>Domestic Short Hair</td>\n",
              "      <td>Female</td>\n",
              "      <td>Black</td>\n",
              "      <td>Brown</td>\n",
              "      <td>Medium</td>\n",
              "      <td>Short</td>\n",
              "      <td>Yes</td>\n",
              "      <td>Yes</td>\n",
              "      <td>Healthy</td>\n",
              "      <td>0</td>\n",
              "      <td>2</td>\n",
              "      <td>1</td>\n",
              "    </tr>\n",
              "    <tr>\n",
              "      <th>1884</th>\n",
              "      <td>Dog</td>\n",
              "      <td>1</td>\n",
              "      <td>Mixed Breed</td>\n",
              "      <td>Female</td>\n",
              "      <td>Brown</td>\n",
              "      <td>Cream</td>\n",
              "      <td>Medium</td>\n",
              "      <td>Short</td>\n",
              "      <td>No</td>\n",
              "      <td>No</td>\n",
              "      <td>Healthy</td>\n",
              "      <td>0</td>\n",
              "      <td>3</td>\n",
              "      <td>1</td>\n",
              "    </tr>\n",
              "    <tr>\n",
              "      <th>5608</th>\n",
              "      <td>Dog</td>\n",
              "      <td>4</td>\n",
              "      <td>Mixed Breed</td>\n",
              "      <td>Female</td>\n",
              "      <td>Brown</td>\n",
              "      <td>No Color</td>\n",
              "      <td>Medium</td>\n",
              "      <td>Short</td>\n",
              "      <td>Yes</td>\n",
              "      <td>Yes</td>\n",
              "      <td>Healthy</td>\n",
              "      <td>0</td>\n",
              "      <td>5</td>\n",
              "      <td>0</td>\n",
              "    </tr>\n",
              "    <tr>\n",
              "      <th>7046</th>\n",
              "      <td>Dog</td>\n",
              "      <td>1</td>\n",
              "      <td>Mixed Breed</td>\n",
              "      <td>Male</td>\n",
              "      <td>Brown</td>\n",
              "      <td>White</td>\n",
              "      <td>Medium</td>\n",
              "      <td>Medium</td>\n",
              "      <td>No</td>\n",
              "      <td>No</td>\n",
              "      <td>Healthy</td>\n",
              "      <td>0</td>\n",
              "      <td>6</td>\n",
              "      <td>1</td>\n",
              "    </tr>\n",
              "    <tr>\n",
              "      <th>6258</th>\n",
              "      <td>Cat</td>\n",
              "      <td>12</td>\n",
              "      <td>Domestic Short Hair</td>\n",
              "      <td>Female</td>\n",
              "      <td>Black</td>\n",
              "      <td>Yellow</td>\n",
              "      <td>Medium</td>\n",
              "      <td>Short</td>\n",
              "      <td>Yes</td>\n",
              "      <td>Yes</td>\n",
              "      <td>Healthy</td>\n",
              "      <td>0</td>\n",
              "      <td>2</td>\n",
              "      <td>0</td>\n",
              "    </tr>\n",
              "  </tbody>\n",
              "</table>\n",
              "<p>7383 rows × 14 columns</p>\n",
              "</div>"
            ],
            "text/plain": [
              "      Type  Age               Breed1  Gender  ...   Health Fee PhotoAmt target\n",
              "10723  Cat    9  Domestic Short Hair  Female  ...  Healthy   0        2      1\n",
              "6297   Dog   12          Mixed Breed  Female  ...  Healthy   0        2      0\n",
              "6675   Cat   29  Domestic Short Hair  Female  ...  Healthy   0        3      0\n",
              "1258   Cat    4  Domestic Short Hair  Female  ...  Healthy   0        2      1\n",
              "10199  Cat    8              Burmese  Female  ...  Healthy   0        1      1\n",
              "...    ...  ...                  ...     ...  ...      ...  ..      ...    ...\n",
              "2058   Cat   10  Domestic Short Hair  Female  ...  Healthy   0        2      1\n",
              "1884   Dog    1          Mixed Breed  Female  ...  Healthy   0        3      1\n",
              "5608   Dog    4          Mixed Breed  Female  ...  Healthy   0        5      0\n",
              "7046   Dog    1          Mixed Breed    Male  ...  Healthy   0        6      1\n",
              "6258   Cat   12  Domestic Short Hair  Female  ...  Healthy   0        2      0\n",
              "\n",
              "[7383 rows x 14 columns]"
            ]
          },
          "metadata": {
            "tags": []
          },
          "execution_count": 71
        }
      ]
    },
    {
      "cell_type": "code",
      "metadata": {
        "id": "gcemszoGSse_"
      },
      "source": [
        "batch_size = 32\n",
        "train_ds = df_to_dataset(train, batch_size=batch_size)\n",
        "val_ds = df_to_dataset(val, shuffle=False, batch_size=batch_size)\n",
        "test_ds = df_to_dataset(test, shuffle=False, batch_size=batch_size)"
      ],
      "execution_count": 72,
      "outputs": []
    },
    {
      "cell_type": "markdown",
      "metadata": {
        "id": "bBx4Xu0eTXWq"
      },
      "source": [
        "## Create, compile, and train the model"
      ]
    },
    {
      "cell_type": "code",
      "metadata": {
        "id": "_YJPPb3xTPeZ"
      },
      "source": [
        "model = tf.keras.Sequential([\n",
        "  feature_layer,\n",
        "  layers.Dense(128, activation='relu'),\n",
        "  layers.Dense(128, activation='relu'),\n",
        "  layers.Dropout(.1),\n",
        "  layers.Dense(1)\n",
        "])"
      ],
      "execution_count": 74,
      "outputs": []
    },
    {
      "cell_type": "code",
      "metadata": {
        "id": "4_xfQNPSi2IR"
      },
      "source": [
        "model.compile(optimizer='adam',\n",
        "              loss=tf.keras.losses.BinaryCrossentropy(from_logits=True),\n",
        "              metrics=['accuracy'])"
      ],
      "execution_count": 75,
      "outputs": []
    },
    {
      "cell_type": "code",
      "metadata": {
        "id": "57ZbaCPVi0nE",
        "outputId": "4e8a0a73-5515-4cb0-8f73-a2fbb9de32be",
        "colab": {
          "base_uri": "https://localhost:8080/",
          "height": 496
        }
      },
      "source": [
        "model.fit(train_ds,\n",
        "          validation_data=val_ds,\n",
        "          epochs=10)"
      ],
      "execution_count": 76,
      "outputs": [
        {
          "output_type": "stream",
          "text": [
            "Epoch 1/10\n",
            "WARNING:tensorflow:Layers in a Sequential model should only have a single input tensor, but we receive a <class 'dict'> input: {'Type': <tf.Tensor 'ExpandDims_11:0' shape=(None, 1) dtype=string>, 'Age': <tf.Tensor 'ExpandDims:0' shape=(None, 1) dtype=int64>, 'Breed1': <tf.Tensor 'ExpandDims_1:0' shape=(None, 1) dtype=string>, 'Gender': <tf.Tensor 'ExpandDims_6:0' shape=(None, 1) dtype=string>, 'Color1': <tf.Tensor 'ExpandDims_2:0' shape=(None, 1) dtype=string>, 'Color2': <tf.Tensor 'ExpandDims_3:0' shape=(None, 1) dtype=string>, 'MaturitySize': <tf.Tensor 'ExpandDims_8:0' shape=(None, 1) dtype=string>, 'FurLength': <tf.Tensor 'ExpandDims_5:0' shape=(None, 1) dtype=string>, 'Vaccinated': <tf.Tensor 'ExpandDims_12:0' shape=(None, 1) dtype=string>, 'Sterilized': <tf.Tensor 'ExpandDims_10:0' shape=(None, 1) dtype=string>, 'Health': <tf.Tensor 'ExpandDims_7:0' shape=(None, 1) dtype=string>, 'Fee': <tf.Tensor 'ExpandDims_4:0' shape=(None, 1) dtype=int64>, 'PhotoAmt': <tf.Tensor 'ExpandDims_9:0' shape=(None, 1) dtype=int64>}\n",
            "Consider rewriting this model with the Functional API.\n",
            "WARNING:tensorflow:Layers in a Sequential model should only have a single input tensor, but we receive a <class 'dict'> input: {'Type': <tf.Tensor 'ExpandDims_11:0' shape=(None, 1) dtype=string>, 'Age': <tf.Tensor 'ExpandDims:0' shape=(None, 1) dtype=int64>, 'Breed1': <tf.Tensor 'ExpandDims_1:0' shape=(None, 1) dtype=string>, 'Gender': <tf.Tensor 'ExpandDims_6:0' shape=(None, 1) dtype=string>, 'Color1': <tf.Tensor 'ExpandDims_2:0' shape=(None, 1) dtype=string>, 'Color2': <tf.Tensor 'ExpandDims_3:0' shape=(None, 1) dtype=string>, 'MaturitySize': <tf.Tensor 'ExpandDims_8:0' shape=(None, 1) dtype=string>, 'FurLength': <tf.Tensor 'ExpandDims_5:0' shape=(None, 1) dtype=string>, 'Vaccinated': <tf.Tensor 'ExpandDims_12:0' shape=(None, 1) dtype=string>, 'Sterilized': <tf.Tensor 'ExpandDims_10:0' shape=(None, 1) dtype=string>, 'Health': <tf.Tensor 'ExpandDims_7:0' shape=(None, 1) dtype=string>, 'Fee': <tf.Tensor 'ExpandDims_4:0' shape=(None, 1) dtype=int64>, 'PhotoAmt': <tf.Tensor 'ExpandDims_9:0' shape=(None, 1) dtype=int64>}\n",
            "Consider rewriting this model with the Functional API.\n",
            "225/231 [============================>.] - ETA: 0s - loss: 0.6271 - accuracy: 0.6919WARNING:tensorflow:Layers in a Sequential model should only have a single input tensor, but we receive a <class 'dict'> input: {'Type': <tf.Tensor 'ExpandDims_11:0' shape=(None, 1) dtype=string>, 'Age': <tf.Tensor 'ExpandDims:0' shape=(None, 1) dtype=int64>, 'Breed1': <tf.Tensor 'ExpandDims_1:0' shape=(None, 1) dtype=string>, 'Gender': <tf.Tensor 'ExpandDims_6:0' shape=(None, 1) dtype=string>, 'Color1': <tf.Tensor 'ExpandDims_2:0' shape=(None, 1) dtype=string>, 'Color2': <tf.Tensor 'ExpandDims_3:0' shape=(None, 1) dtype=string>, 'MaturitySize': <tf.Tensor 'ExpandDims_8:0' shape=(None, 1) dtype=string>, 'FurLength': <tf.Tensor 'ExpandDims_5:0' shape=(None, 1) dtype=string>, 'Vaccinated': <tf.Tensor 'ExpandDims_12:0' shape=(None, 1) dtype=string>, 'Sterilized': <tf.Tensor 'ExpandDims_10:0' shape=(None, 1) dtype=string>, 'Health': <tf.Tensor 'ExpandDims_7:0' shape=(None, 1) dtype=string>, 'Fee': <tf.Tensor 'ExpandDims_4:0' shape=(None, 1) dtype=int64>, 'PhotoAmt': <tf.Tensor 'ExpandDims_9:0' shape=(None, 1) dtype=int64>}\n",
            "Consider rewriting this model with the Functional API.\n",
            "231/231 [==============================] - 1s 6ms/step - loss: 0.6286 - accuracy: 0.6909 - val_loss: 0.5336 - val_accuracy: 0.6891\n",
            "Epoch 2/10\n",
            "231/231 [==============================] - 1s 4ms/step - loss: 0.5353 - accuracy: 0.7191 - val_loss: 0.5054 - val_accuracy: 0.7275\n",
            "Epoch 3/10\n",
            "231/231 [==============================] - 1s 4ms/step - loss: 0.5118 - accuracy: 0.7302 - val_loss: 0.5088 - val_accuracy: 0.7118\n",
            "Epoch 4/10\n",
            "231/231 [==============================] - 1s 4ms/step - loss: 0.5043 - accuracy: 0.7301 - val_loss: 0.5123 - val_accuracy: 0.7134\n",
            "Epoch 5/10\n",
            "231/231 [==============================] - 1s 4ms/step - loss: 0.4936 - accuracy: 0.7317 - val_loss: 0.4977 - val_accuracy: 0.7286\n",
            "Epoch 6/10\n",
            "231/231 [==============================] - 1s 4ms/step - loss: 0.4853 - accuracy: 0.7394 - val_loss: 0.5024 - val_accuracy: 0.7264\n",
            "Epoch 7/10\n",
            "231/231 [==============================] - 1s 4ms/step - loss: 0.4820 - accuracy: 0.7413 - val_loss: 0.5056 - val_accuracy: 0.7107\n",
            "Epoch 8/10\n",
            "231/231 [==============================] - 1s 4ms/step - loss: 0.4789 - accuracy: 0.7464 - val_loss: 0.5044 - val_accuracy: 0.7118\n",
            "Epoch 9/10\n",
            "231/231 [==============================] - 1s 4ms/step - loss: 0.4691 - accuracy: 0.7532 - val_loss: 0.5029 - val_accuracy: 0.7237\n",
            "Epoch 10/10\n",
            "231/231 [==============================] - 1s 4ms/step - loss: 0.4644 - accuracy: 0.7509 - val_loss: 0.5170 - val_accuracy: 0.6901\n"
          ],
          "name": "stdout"
        },
        {
          "output_type": "execute_result",
          "data": {
            "text/plain": [
              "<tensorflow.python.keras.callbacks.History at 0x7f6db5be3a58>"
            ]
          },
          "metadata": {
            "tags": []
          },
          "execution_count": 76
        }
      ]
    },
    {
      "cell_type": "code",
      "metadata": {
        "id": "GnFmMOW0Tcaa",
        "outputId": "e2bf762d-0270-4ca7-aa72-7f0ade3f27a9",
        "colab": {
          "base_uri": "https://localhost:8080/",
          "height": 51
        }
      },
      "source": [
        "loss, accuracy = model.evaluate(test_ds)\n",
        "print(\"Accuracy\", accuracy)"
      ],
      "execution_count": 77,
      "outputs": [
        {
          "output_type": "stream",
          "text": [
            "73/73 [==============================] - 0s 2ms/step - loss: 0.5167 - accuracy: 0.7023\n",
            "Accuracy 0.7023397088050842\n"
          ],
          "name": "stdout"
        }
      ]
    },
    {
      "cell_type": "code",
      "metadata": {
        "id": "8SZXPIH9m_D0",
        "outputId": "de9c7856-7998-41e5-a542-837e98a37d6a",
        "colab": {
          "base_uri": "https://localhost:8080/",
          "height": 323
        }
      },
      "source": [
        "model.summary()"
      ],
      "execution_count": 78,
      "outputs": [
        {
          "output_type": "stream",
          "text": [
            "Model: \"sequential_1\"\n",
            "_________________________________________________________________\n",
            "Layer (type)                 Output Shape              Param #   \n",
            "=================================================================\n",
            "dense_features_34 (DenseFeat multiple                  1328      \n",
            "_________________________________________________________________\n",
            "dense_3 (Dense)              multiple                  19328     \n",
            "_________________________________________________________________\n",
            "dense_4 (Dense)              multiple                  16512     \n",
            "_________________________________________________________________\n",
            "dropout_1 (Dropout)          multiple                  0         \n",
            "_________________________________________________________________\n",
            "dense_5 (Dense)              multiple                  129       \n",
            "=================================================================\n",
            "Total params: 37,297\n",
            "Trainable params: 37,297\n",
            "Non-trainable params: 0\n",
            "_________________________________________________________________\n"
          ],
          "name": "stdout"
        }
      ]
    },
    {
      "cell_type": "markdown",
      "metadata": {
        "id": "3bdfbq20V6zu"
      },
      "source": [
        "Key point: You will typically see best results with deep learning with much larger and more complex datasets. When working with a small dataset like this one, we recommend using a decision tree or random forest as a strong baseline. The goal of this tutorial is not to train an accurate model, but to demonstrate the mechanics of working with structured data, so you have code to use as a starting point when working with your own datasets in the future."
      ]
    },
    {
      "cell_type": "markdown",
      "metadata": {
        "id": "SotnhVWuHQCw"
      },
      "source": [
        "## Next steps\n",
        "The best way to learn more about classifying structured data is to try it yourself. We suggest finding another dataset to work with, and training a model to classify it using code similar to the above. To improve accuracy, think carefully about which features to include in your model, and how they should be represented."
      ]
    }
  ]
}