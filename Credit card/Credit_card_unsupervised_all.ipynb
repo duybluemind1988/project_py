{
  "nbformat": 4,
  "nbformat_minor": 0,
  "metadata": {
    "colab": {
      "name": "Credit card unsupervised all.ipynb",
      "provenance": [],
      "collapsed_sections": [],
      "authorship_tag": "ABX9TyPI5NbtW9/RyygG5Vqz9bdT",
      "include_colab_link": true
    },
    "kernelspec": {
      "name": "python3",
      "display_name": "Python 3"
    }
  },
  "cells": [
    {
      "cell_type": "markdown",
      "metadata": {
        "id": "view-in-github",
        "colab_type": "text"
      },
      "source": [
        "<a href=\"https://colab.research.google.com/github/duybluemind1988/Data-science/blob/master/Hands%20on%20Unsupervised%20Oreilly/Credit_card_unsupervised_all.ipynb\" target=\"_parent\"><img src=\"https://colab.research.google.com/assets/colab-badge.svg\" alt=\"Open In Colab\"/></a>"
      ]
    },
    {
      "cell_type": "code",
      "metadata": {
        "id": "swv_E86mrR40",
        "colab": {
          "base_uri": "https://localhost:8080/"
        },
        "outputId": "c98810eb-6b70-46fb-b2da-99fe8beb916b"
      },
      "source": [
        "# Load basic library\n",
        "import numpy as np\n",
        "import time\n",
        "import matplotlib.pyplot as plt\n",
        "import pandas as pd\n",
        "from tensorflow import random\n",
        "from sklearn.externals import joblib \n",
        "from scipy import stats\n",
        "import itertools\n",
        "\n",
        "# Load Keras\n",
        "from keras.datasets import imdb\n",
        "from keras.preprocessing.text import Tokenizer\n",
        "from keras import models\n",
        "from keras import layers\n",
        "from keras.models import Sequential\n",
        "from keras.layers import Dense\n",
        "from keras import regularizers\n",
        "from keras.callbacks import EarlyStopping, ModelCheckpoint\n",
        "from keras.wrappers.scikit_learn import KerasClassifier\n",
        "from keras.regularizers import l1\n",
        "from keras.regularizers import l2\n",
        "from keras.regularizers import l1_l2\n",
        "from keras.layers import Dropout\n",
        "\n",
        "#Load sklearn\n",
        "from sklearn.preprocessing import StandardScaler, RobustScaler\n",
        "from sklearn.preprocessing import OneHotEncoder\n",
        "from sklearn.model_selection import train_test_split\n",
        "from sklearn.model_selection import KFold\n",
        "from sklearn.model_selection import StratifiedKFold\n",
        "from sklearn.model_selection import cross_val_score\n",
        "from sklearn.model_selection import cross_validate\n",
        "from sklearn.model_selection import RandomizedSearchCV\n",
        "from sklearn.model_selection import GridSearchCV\n",
        "from sklearn.pipeline import Pipeline\n",
        "from sklearn.compose import ColumnTransformer\n",
        "from sklearn.utils import shuffle\n",
        "\n",
        "from sklearn.metrics import log_loss \n",
        "from sklearn.metrics import classification_report\n",
        "from sklearn.metrics import confusion_matrix\n",
        "from sklearn.metrics import accuracy_score\n",
        "from sklearn.metrics import recall_score, precision_score\n",
        "from sklearn.metrics import make_scorer\n",
        "from sklearn.metrics import roc_curve, auc\n",
        "from sklearn.metrics import precision_recall_curve\n",
        "from sklearn.metrics import f1_score,balanced_accuracy_score\n",
        "from sklearn.metrics import average_precision_score \n",
        "\n",
        "from sklearn.pipeline import Pipeline\n",
        "from sklearn.decomposition import PCA, NMF\n",
        "\n",
        "#ML normal ML\n",
        "from sklearn.linear_model import LogisticRegression\n",
        "from sklearn.tree import DecisionTreeClassifier\n",
        "from sklearn.neighbors import KNeighborsClassifier\n",
        "from sklearn.discriminant_analysis import LinearDiscriminantAnalysis\n",
        "from sklearn.naive_bayes import GaussianNB\n",
        "from sklearn.svm import SVC\n",
        "\n",
        "#ML ensembles\n",
        "from sklearn.ensemble import AdaBoostClassifier\n",
        "from sklearn.ensemble import GradientBoostingClassifier\n",
        "from sklearn.ensemble import RandomForestClassifier\n",
        "from sklearn.ensemble import ExtraTreesClassifier\n",
        "from sklearn.ensemble import BaggingClassifier\n",
        "from sklearn.ensemble import VotingClassifier\n",
        "from sklearn.ensemble import StackingClassifier\n",
        "\n",
        "#Special\n",
        "import xgboost as xgb\n",
        "from xgboost import XGBClassifier\n",
        "import lightgbm as lgb\n",
        "from lightgbm import LGBMClassifier\n",
        "\n",
        "#Load visual neural:\n",
        "from IPython.display import SVG\n",
        "from keras.utils.vis_utils import model_to_dot\n",
        "from keras.utils import plot_model\n",
        "\n",
        "# import require packages for plotting\n",
        "import matplotlib.pyplot as plt \n",
        "import seaborn as sns\n",
        "sns.set()\n",
        "import plotly\n",
        "import plotly.graph_objects as go\n",
        "from plotly.subplots import make_subplots\n",
        "import plotly.express as px\n",
        "import altair as alt # no need to add altviewer\n",
        "from pandas.plotting import scatter_matrix\n"
      ],
      "execution_count": null,
      "outputs": [
        {
          "output_type": "stream",
          "text": [
            "/usr/local/lib/python3.7/dist-packages/sklearn/externals/joblib/__init__.py:15: FutureWarning: sklearn.externals.joblib is deprecated in 0.21 and will be removed in 0.23. Please import this functionality directly from joblib, which can be installed with: pip install joblib. If this warning is raised when loading pickled models, you may need to re-serialize those models with scikit-learn 0.21+.\n",
            "  warnings.warn(msg, category=FutureWarning)\n"
          ],
          "name": "stderr"
        }
      ]
    },
    {
      "cell_type": "markdown",
      "metadata": {
        "id": "mUgROMNlrm8I"
      },
      "source": [
        "# Dimension reduction"
      ]
    },
    {
      "cell_type": "code",
      "metadata": {
        "id": "TW-XjyyGq-c-"
      },
      "source": [
        "file='https://media.githubusercontent.com/media/aapatel09/handson-unsupervised-learning/master/datasets/credit_card_data/credit_card.csv'\n",
        "data = pd.read_csv(file)\n",
        "\n",
        "dataX = data.copy().drop(['Class'],axis=1)\n",
        "dataY = data['Class'].copy()\n",
        "\n",
        "featuresToScale = dataX.columns\n",
        "sX =StandardScaler(copy=True)\n",
        "dataX.loc[:,featuresToScale] = sX.fit_transform(dataX[featuresToScale])\n",
        "\n",
        "X_train, X_test, y_train, y_test = \\\n",
        "    train_test_split(dataX, dataY, test_size=0.20, \\\n",
        "                    random_state=2018, stratify=dataY)"
      ],
      "execution_count": null,
      "outputs": []
    },
    {
      "cell_type": "code",
      "metadata": {
        "colab": {
          "base_uri": "https://localhost:8080/",
          "height": 241
        },
        "id": "0KqdYBkhreFk",
        "outputId": "2d68cf23-2cd8-4c2b-8323-00b98189082d"
      },
      "source": [
        "print(X_train.shape)\n",
        "X_train.head()"
      ],
      "execution_count": null,
      "outputs": [
        {
          "output_type": "stream",
          "text": [
            "(227845, 30)\n"
          ],
          "name": "stdout"
        },
        {
          "output_type": "execute_result",
          "data": {
            "text/html": [
              "<div>\n",
              "<style scoped>\n",
              "    .dataframe tbody tr th:only-of-type {\n",
              "        vertical-align: middle;\n",
              "    }\n",
              "\n",
              "    .dataframe tbody tr th {\n",
              "        vertical-align: top;\n",
              "    }\n",
              "\n",
              "    .dataframe thead th {\n",
              "        text-align: right;\n",
              "    }\n",
              "</style>\n",
              "<table border=\"1\" class=\"dataframe\">\n",
              "  <thead>\n",
              "    <tr style=\"text-align: right;\">\n",
              "      <th></th>\n",
              "      <th>Time</th>\n",
              "      <th>V1</th>\n",
              "      <th>V2</th>\n",
              "      <th>V3</th>\n",
              "      <th>V4</th>\n",
              "      <th>V5</th>\n",
              "      <th>V6</th>\n",
              "      <th>V7</th>\n",
              "      <th>V8</th>\n",
              "      <th>V9</th>\n",
              "      <th>V10</th>\n",
              "      <th>V11</th>\n",
              "      <th>V12</th>\n",
              "      <th>V13</th>\n",
              "      <th>V14</th>\n",
              "      <th>V15</th>\n",
              "      <th>V16</th>\n",
              "      <th>V17</th>\n",
              "      <th>V18</th>\n",
              "      <th>V19</th>\n",
              "      <th>V20</th>\n",
              "      <th>V21</th>\n",
              "      <th>V22</th>\n",
              "      <th>V23</th>\n",
              "      <th>V24</th>\n",
              "      <th>V25</th>\n",
              "      <th>V26</th>\n",
              "      <th>V27</th>\n",
              "      <th>V28</th>\n",
              "      <th>Amount</th>\n",
              "    </tr>\n",
              "  </thead>\n",
              "  <tbody>\n",
              "    <tr>\n",
              "      <th>212834</th>\n",
              "      <td>0.930700</td>\n",
              "      <td>-0.193563</td>\n",
              "      <td>-0.136547</td>\n",
              "      <td>-0.044610</td>\n",
              "      <td>-1.471851</td>\n",
              "      <td>0.299420</td>\n",
              "      <td>-0.447038</td>\n",
              "      <td>0.065017</td>\n",
              "      <td>-0.903609</td>\n",
              "      <td>-0.798323</td>\n",
              "      <td>0.777325</td>\n",
              "      <td>0.567004</td>\n",
              "      <td>-1.292424</td>\n",
              "      <td>-1.835557</td>\n",
              "      <td>0.267809</td>\n",
              "      <td>-0.676375</td>\n",
              "      <td>1.297130</td>\n",
              "      <td>-0.277600</td>\n",
              "      <td>-0.458910</td>\n",
              "      <td>0.618104</td>\n",
              "      <td>-0.431244</td>\n",
              "      <td>1.781078</td>\n",
              "      <td>1.908755</td>\n",
              "      <td>-0.224010</td>\n",
              "      <td>1.282179</td>\n",
              "      <td>-1.551742</td>\n",
              "      <td>-0.388800</td>\n",
              "      <td>0.018078</td>\n",
              "      <td>0.019746</td>\n",
              "      <td>-0.189908</td>\n",
              "    </tr>\n",
              "    <tr>\n",
              "      <th>175643</th>\n",
              "      <td>0.581475</td>\n",
              "      <td>1.145707</td>\n",
              "      <td>-0.464983</td>\n",
              "      <td>-1.365275</td>\n",
              "      <td>-0.886248</td>\n",
              "      <td>0.305657</td>\n",
              "      <td>0.066829</td>\n",
              "      <td>-0.273461</td>\n",
              "      <td>-0.153975</td>\n",
              "      <td>-0.720206</td>\n",
              "      <td>0.881148</td>\n",
              "      <td>0.098351</td>\n",
              "      <td>0.322958</td>\n",
              "      <td>1.307987</td>\n",
              "      <td>-0.171925</td>\n",
              "      <td>-1.092521</td>\n",
              "      <td>1.037590</td>\n",
              "      <td>-0.323926</td>\n",
              "      <td>-0.816001</td>\n",
              "      <td>1.463272</td>\n",
              "      <td>0.145879</td>\n",
              "      <td>0.755524</td>\n",
              "      <td>2.356802</td>\n",
              "      <td>-0.473290</td>\n",
              "      <td>-0.455927</td>\n",
              "      <td>1.229323</td>\n",
              "      <td>0.632015</td>\n",
              "      <td>-0.113455</td>\n",
              "      <td>-0.257673</td>\n",
              "      <td>-0.253277</td>\n",
              "    </tr>\n",
              "    <tr>\n",
              "      <th>32164</th>\n",
              "      <td>-1.224452</td>\n",
              "      <td>-0.132705</td>\n",
              "      <td>0.713528</td>\n",
              "      <td>0.633126</td>\n",
              "      <td>0.630864</td>\n",
              "      <td>0.100135</td>\n",
              "      <td>0.231616</td>\n",
              "      <td>0.130995</td>\n",
              "      <td>-1.418178</td>\n",
              "      <td>-0.417453</td>\n",
              "      <td>0.428285</td>\n",
              "      <td>1.664365</td>\n",
              "      <td>1.082977</td>\n",
              "      <td>0.337247</td>\n",
              "      <td>0.279745</td>\n",
              "      <td>0.476292</td>\n",
              "      <td>-0.411223</td>\n",
              "      <td>-0.270911</td>\n",
              "      <td>-0.000925</td>\n",
              "      <td>0.079491</td>\n",
              "      <td>-0.446114</td>\n",
              "      <td>2.304290</td>\n",
              "      <td>0.332887</td>\n",
              "      <td>0.582661</td>\n",
              "      <td>0.332978</td>\n",
              "      <td>-2.285405</td>\n",
              "      <td>-1.196946</td>\n",
              "      <td>0.395602</td>\n",
              "      <td>-0.122872</td>\n",
              "      <td>-0.273268</td>\n",
              "    </tr>\n",
              "    <tr>\n",
              "      <th>79783</th>\n",
              "      <td>-0.771538</td>\n",
              "      <td>0.677347</td>\n",
              "      <td>-0.593270</td>\n",
              "      <td>0.134047</td>\n",
              "      <td>-0.819728</td>\n",
              "      <td>-0.374058</td>\n",
              "      <td>0.793413</td>\n",
              "      <td>-0.989350</td>\n",
              "      <td>0.295608</td>\n",
              "      <td>-0.421328</td>\n",
              "      <td>0.672262</td>\n",
              "      <td>-0.039082</td>\n",
              "      <td>-0.728508</td>\n",
              "      <td>-0.042104</td>\n",
              "      <td>-0.215013</td>\n",
              "      <td>0.938789</td>\n",
              "      <td>2.189987</td>\n",
              "      <td>-0.602120</td>\n",
              "      <td>-0.197767</td>\n",
              "      <td>0.977359</td>\n",
              "      <td>0.230517</td>\n",
              "      <td>0.499247</td>\n",
              "      <td>1.235857</td>\n",
              "      <td>-0.528168</td>\n",
              "      <td>-2.753810</td>\n",
              "      <td>0.998054</td>\n",
              "      <td>0.138978</td>\n",
              "      <td>0.089492</td>\n",
              "      <td>0.003362</td>\n",
              "      <td>-0.133535</td>\n",
              "    </tr>\n",
              "    <tr>\n",
              "      <th>107026</th>\n",
              "      <td>-0.517390</td>\n",
              "      <td>-0.161335</td>\n",
              "      <td>0.702321</td>\n",
              "      <td>0.761409</td>\n",
              "      <td>-0.019016</td>\n",
              "      <td>0.180568</td>\n",
              "      <td>-0.574303</td>\n",
              "      <td>0.599706</td>\n",
              "      <td>-0.067450</td>\n",
              "      <td>-0.410422</td>\n",
              "      <td>-0.483954</td>\n",
              "      <td>-0.433314</td>\n",
              "      <td>0.084132</td>\n",
              "      <td>0.714155</td>\n",
              "      <td>-0.580312</td>\n",
              "      <td>0.941704</td>\n",
              "      <td>0.527760</td>\n",
              "      <td>-0.179441</td>\n",
              "      <td>-0.103065</td>\n",
              "      <td>0.049886</td>\n",
              "      <td>0.207703</td>\n",
              "      <td>-0.382678</td>\n",
              "      <td>-0.981056</td>\n",
              "      <td>-0.103749</td>\n",
              "      <td>-0.019104</td>\n",
              "      <td>-0.181466</td>\n",
              "      <td>0.191556</td>\n",
              "      <td>0.615710</td>\n",
              "      <td>0.290262</td>\n",
              "      <td>-0.338876</td>\n",
              "    </tr>\n",
              "  </tbody>\n",
              "</table>\n",
              "</div>"
            ],
            "text/plain": [
              "            Time        V1        V2  ...       V27       V28    Amount\n",
              "212834  0.930700 -0.193563 -0.136547  ...  0.018078  0.019746 -0.189908\n",
              "175643  0.581475  1.145707 -0.464983  ... -0.113455 -0.257673 -0.253277\n",
              "32164  -1.224452 -0.132705  0.713528  ...  0.395602 -0.122872 -0.273268\n",
              "79783  -0.771538  0.677347 -0.593270  ...  0.089492  0.003362 -0.133535\n",
              "107026 -0.517390 -0.161335  0.702321  ...  0.615710  0.290262 -0.338876\n",
              "\n",
              "[5 rows x 30 columns]"
            ]
          },
          "metadata": {
            "tags": []
          },
          "execution_count": 3
        }
      ]
    },
    {
      "cell_type": "code",
      "metadata": {
        "colab": {
          "base_uri": "https://localhost:8080/"
        },
        "id": "kAPQswvvrfgX",
        "outputId": "df1df2c2-ce30-47bb-a65f-afe21cd38a5f"
      },
      "source": [
        "y_train.value_counts(normalize=True)"
      ],
      "execution_count": null,
      "outputs": [
        {
          "output_type": "execute_result",
          "data": {
            "text/plain": [
              "0    0.998271\n",
              "1    0.001729\n",
              "Name: Class, dtype: float64"
            ]
          },
          "metadata": {
            "tags": []
          },
          "execution_count": 4
        }
      ]
    },
    {
      "cell_type": "code",
      "metadata": {
        "id": "MeX0Rsb8rfd6"
      },
      "source": [
        "def anomalyScores(originalDF, reducedDF):\n",
        "    loss = np.sum((np.array(originalDF)-np.array(reducedDF))**2, axis=1)\n",
        "    loss = pd.Series(data=loss,index=originalDF.index)\n",
        "    loss = (loss-np.min(loss))/(np.max(loss)-np.min(loss))\n",
        "    return loss"
      ],
      "execution_count": null,
      "outputs": []
    },
    {
      "cell_type": "code",
      "metadata": {
        "id": "BSdohuqonQ1e"
      },
      "source": [
        "def scatterPlot(xDF, yDF, algoName):\n",
        "    tempDF = pd.DataFrame(data=xDF.loc[:,0:1], index=xDF.index)\n",
        "    tempDF = pd.concat((tempDF,yDF), axis=1, join=\"inner\")\n",
        "    tempDF.columns = [\"First Vector\", \"Second Vector\", \"Label\"]\n",
        "    sns.lmplot(x=\"First Vector\", y=\"Second Vector\", hue=\"Label\", \\\n",
        "               data=tempDF, fit_reg=False)\n",
        "    ax = plt.gca()\n",
        "    ax.set_title(\"Separation of Observations using \"+algoName)"
      ],
      "execution_count": null,
      "outputs": []
    },
    {
      "cell_type": "markdown",
      "metadata": {
        "id": "PzShsDviz4W7"
      },
      "source": [
        "## PCA"
      ]
    },
    {
      "cell_type": "code",
      "metadata": {
        "colab": {
          "base_uri": "https://localhost:8080/",
          "height": 439
        },
        "id": "2itf4wtXOwJK",
        "outputId": "01341730-45c1-4fb8-98a9-649c218c8cbf"
      },
      "source": [
        "from sklearn.decomposition import PCA\n",
        "whiten = False\n",
        "random_state = 2018\n",
        "\n",
        "pca = PCA(0.95, whiten=whiten, \\\n",
        "          random_state=random_state)\n",
        "\n",
        "X_train_PCA = pca.fit_transform(X_train)\n",
        "X_train_PCA = pd.DataFrame(data=X_train_PCA, index=X_train.index)\n",
        "X_train_PCA"
      ],
      "execution_count": null,
      "outputs": [
        {
          "output_type": "execute_result",
          "data": {
            "text/html": [
              "<div>\n",
              "<style scoped>\n",
              "    .dataframe tbody tr th:only-of-type {\n",
              "        vertical-align: middle;\n",
              "    }\n",
              "\n",
              "    .dataframe tbody tr th {\n",
              "        vertical-align: top;\n",
              "    }\n",
              "\n",
              "    .dataframe thead th {\n",
              "        text-align: right;\n",
              "    }\n",
              "</style>\n",
              "<table border=\"1\" class=\"dataframe\">\n",
              "  <thead>\n",
              "    <tr style=\"text-align: right;\">\n",
              "      <th></th>\n",
              "      <th>0</th>\n",
              "      <th>1</th>\n",
              "      <th>2</th>\n",
              "      <th>3</th>\n",
              "      <th>4</th>\n",
              "      <th>5</th>\n",
              "      <th>6</th>\n",
              "      <th>7</th>\n",
              "      <th>8</th>\n",
              "      <th>9</th>\n",
              "      <th>10</th>\n",
              "      <th>11</th>\n",
              "      <th>12</th>\n",
              "      <th>13</th>\n",
              "      <th>14</th>\n",
              "      <th>15</th>\n",
              "      <th>16</th>\n",
              "      <th>17</th>\n",
              "      <th>18</th>\n",
              "      <th>19</th>\n",
              "      <th>20</th>\n",
              "      <th>21</th>\n",
              "      <th>22</th>\n",
              "      <th>23</th>\n",
              "      <th>24</th>\n",
              "      <th>25</th>\n",
              "      <th>26</th>\n",
              "    </tr>\n",
              "  </thead>\n",
              "  <tbody>\n",
              "    <tr>\n",
              "      <th>212834</th>\n",
              "      <td>-0.328386</td>\n",
              "      <td>-1.647120</td>\n",
              "      <td>-0.370647</td>\n",
              "      <td>1.069640</td>\n",
              "      <td>-0.448299</td>\n",
              "      <td>0.033146</td>\n",
              "      <td>0.104970</td>\n",
              "      <td>-0.257753</td>\n",
              "      <td>-0.144465</td>\n",
              "      <td>0.138775</td>\n",
              "      <td>-0.183408</td>\n",
              "      <td>-0.699255</td>\n",
              "      <td>2.408763</td>\n",
              "      <td>-0.276889</td>\n",
              "      <td>-0.647064</td>\n",
              "      <td>1.839798</td>\n",
              "      <td>-0.454629</td>\n",
              "      <td>1.126125</td>\n",
              "      <td>1.077458</td>\n",
              "      <td>-0.547043</td>\n",
              "      <td>-0.120453</td>\n",
              "      <td>-0.698270</td>\n",
              "      <td>-1.131134</td>\n",
              "      <td>1.133642</td>\n",
              "      <td>-2.028178</td>\n",
              "      <td>0.259533</td>\n",
              "      <td>0.249779</td>\n",
              "    </tr>\n",
              "    <tr>\n",
              "      <th>175643</th>\n",
              "      <td>-0.391033</td>\n",
              "      <td>-1.499358</td>\n",
              "      <td>-0.174836</td>\n",
              "      <td>-0.021138</td>\n",
              "      <td>-0.126573</td>\n",
              "      <td>-0.259141</td>\n",
              "      <td>0.018763</td>\n",
              "      <td>-0.119671</td>\n",
              "      <td>0.495395</td>\n",
              "      <td>-0.388307</td>\n",
              "      <td>-0.624634</td>\n",
              "      <td>-0.320947</td>\n",
              "      <td>-0.371824</td>\n",
              "      <td>-0.592912</td>\n",
              "      <td>-1.886222</td>\n",
              "      <td>-0.120720</td>\n",
              "      <td>-2.147871</td>\n",
              "      <td>0.932113</td>\n",
              "      <td>1.861459</td>\n",
              "      <td>1.074669</td>\n",
              "      <td>1.646203</td>\n",
              "      <td>0.353684</td>\n",
              "      <td>-0.098525</td>\n",
              "      <td>0.626862</td>\n",
              "      <td>-0.000636</td>\n",
              "      <td>-0.441325</td>\n",
              "      <td>-0.427625</td>\n",
              "    </tr>\n",
              "    <tr>\n",
              "      <th>32164</th>\n",
              "      <td>-0.251329</td>\n",
              "      <td>0.768326</td>\n",
              "      <td>-0.715681</td>\n",
              "      <td>2.481347</td>\n",
              "      <td>-0.233165</td>\n",
              "      <td>-0.264697</td>\n",
              "      <td>-0.017123</td>\n",
              "      <td>0.073743</td>\n",
              "      <td>0.015488</td>\n",
              "      <td>0.233733</td>\n",
              "      <td>0.703183</td>\n",
              "      <td>-0.071201</td>\n",
              "      <td>0.343467</td>\n",
              "      <td>0.700585</td>\n",
              "      <td>-0.097981</td>\n",
              "      <td>0.033051</td>\n",
              "      <td>0.043164</td>\n",
              "      <td>-0.303798</td>\n",
              "      <td>-0.778685</td>\n",
              "      <td>-0.165679</td>\n",
              "      <td>-1.181274</td>\n",
              "      <td>0.036525</td>\n",
              "      <td>-1.240614</td>\n",
              "      <td>3.033557</td>\n",
              "      <td>-0.278349</td>\n",
              "      <td>-0.317095</td>\n",
              "      <td>0.429228</td>\n",
              "    </tr>\n",
              "    <tr>\n",
              "      <th>79783</th>\n",
              "      <td>-0.178978</td>\n",
              "      <td>0.806585</td>\n",
              "      <td>-0.015431</td>\n",
              "      <td>0.030605</td>\n",
              "      <td>-0.016860</td>\n",
              "      <td>-0.165207</td>\n",
              "      <td>0.066215</td>\n",
              "      <td>0.066120</td>\n",
              "      <td>0.317023</td>\n",
              "      <td>0.646959</td>\n",
              "      <td>-0.904334</td>\n",
              "      <td>-0.225339</td>\n",
              "      <td>-0.547126</td>\n",
              "      <td>-0.461122</td>\n",
              "      <td>-2.377110</td>\n",
              "      <td>-0.249525</td>\n",
              "      <td>0.098223</td>\n",
              "      <td>-0.746629</td>\n",
              "      <td>1.380486</td>\n",
              "      <td>1.547023</td>\n",
              "      <td>2.169981</td>\n",
              "      <td>-1.131580</td>\n",
              "      <td>-0.573755</td>\n",
              "      <td>-0.439980</td>\n",
              "      <td>-1.603572</td>\n",
              "      <td>-0.701797</td>\n",
              "      <td>0.178609</td>\n",
              "    </tr>\n",
              "    <tr>\n",
              "      <th>107026</th>\n",
              "      <td>-0.422434</td>\n",
              "      <td>0.802797</td>\n",
              "      <td>0.092058</td>\n",
              "      <td>-0.132500</td>\n",
              "      <td>-0.083164</td>\n",
              "      <td>-0.063562</td>\n",
              "      <td>0.446350</td>\n",
              "      <td>0.376678</td>\n",
              "      <td>-0.042132</td>\n",
              "      <td>0.917738</td>\n",
              "      <td>0.002988</td>\n",
              "      <td>0.965396</td>\n",
              "      <td>-0.602810</td>\n",
              "      <td>0.467631</td>\n",
              "      <td>0.865096</td>\n",
              "      <td>-0.527295</td>\n",
              "      <td>0.193088</td>\n",
              "      <td>-0.278194</td>\n",
              "      <td>0.393471</td>\n",
              "      <td>-1.101177</td>\n",
              "      <td>0.360459</td>\n",
              "      <td>-0.519215</td>\n",
              "      <td>-0.087464</td>\n",
              "      <td>0.102168</td>\n",
              "      <td>0.138395</td>\n",
              "      <td>-0.142742</td>\n",
              "      <td>0.069431</td>\n",
              "    </tr>\n",
              "    <tr>\n",
              "      <th>...</th>\n",
              "      <td>...</td>\n",
              "      <td>...</td>\n",
              "      <td>...</td>\n",
              "      <td>...</td>\n",
              "      <td>...</td>\n",
              "      <td>...</td>\n",
              "      <td>...</td>\n",
              "      <td>...</td>\n",
              "      <td>...</td>\n",
              "      <td>...</td>\n",
              "      <td>...</td>\n",
              "      <td>...</td>\n",
              "      <td>...</td>\n",
              "      <td>...</td>\n",
              "      <td>...</td>\n",
              "      <td>...</td>\n",
              "      <td>...</td>\n",
              "      <td>...</td>\n",
              "      <td>...</td>\n",
              "      <td>...</td>\n",
              "      <td>...</td>\n",
              "      <td>...</td>\n",
              "      <td>...</td>\n",
              "      <td>...</td>\n",
              "      <td>...</td>\n",
              "      <td>...</td>\n",
              "      <td>...</td>\n",
              "    </tr>\n",
              "    <tr>\n",
              "      <th>48687</th>\n",
              "      <td>2.790033</td>\n",
              "      <td>0.951285</td>\n",
              "      <td>-0.008367</td>\n",
              "      <td>0.087185</td>\n",
              "      <td>-0.694909</td>\n",
              "      <td>0.506011</td>\n",
              "      <td>-0.289624</td>\n",
              "      <td>-0.168223</td>\n",
              "      <td>-0.008594</td>\n",
              "      <td>1.003334</td>\n",
              "      <td>0.630052</td>\n",
              "      <td>1.042305</td>\n",
              "      <td>-0.758453</td>\n",
              "      <td>-0.840284</td>\n",
              "      <td>0.844799</td>\n",
              "      <td>-0.917007</td>\n",
              "      <td>-0.214642</td>\n",
              "      <td>-0.268632</td>\n",
              "      <td>0.636924</td>\n",
              "      <td>-0.212475</td>\n",
              "      <td>0.862443</td>\n",
              "      <td>-0.164387</td>\n",
              "      <td>0.910430</td>\n",
              "      <td>-1.334788</td>\n",
              "      <td>-0.886176</td>\n",
              "      <td>-0.937503</td>\n",
              "      <td>0.616739</td>\n",
              "    </tr>\n",
              "    <tr>\n",
              "      <th>159608</th>\n",
              "      <td>-0.435838</td>\n",
              "      <td>-1.079428</td>\n",
              "      <td>0.057791</td>\n",
              "      <td>-0.084610</td>\n",
              "      <td>-0.140470</td>\n",
              "      <td>-0.219667</td>\n",
              "      <td>0.503158</td>\n",
              "      <td>0.309035</td>\n",
              "      <td>0.038082</td>\n",
              "      <td>1.216414</td>\n",
              "      <td>0.218779</td>\n",
              "      <td>0.290398</td>\n",
              "      <td>-0.000130</td>\n",
              "      <td>0.344989</td>\n",
              "      <td>0.028067</td>\n",
              "      <td>-1.451734</td>\n",
              "      <td>0.050735</td>\n",
              "      <td>-1.224011</td>\n",
              "      <td>0.576376</td>\n",
              "      <td>-0.877380</td>\n",
              "      <td>0.279461</td>\n",
              "      <td>-1.028943</td>\n",
              "      <td>1.163840</td>\n",
              "      <td>-1.006927</td>\n",
              "      <td>-0.226073</td>\n",
              "      <td>0.215674</td>\n",
              "      <td>0.323378</td>\n",
              "    </tr>\n",
              "    <tr>\n",
              "      <th>205176</th>\n",
              "      <td>8.201056</td>\n",
              "      <td>-1.394710</td>\n",
              "      <td>-0.372240</td>\n",
              "      <td>0.314482</td>\n",
              "      <td>-1.878672</td>\n",
              "      <td>1.714176</td>\n",
              "      <td>-0.723460</td>\n",
              "      <td>-1.789461</td>\n",
              "      <td>-1.012728</td>\n",
              "      <td>-0.128946</td>\n",
              "      <td>1.899642</td>\n",
              "      <td>0.385919</td>\n",
              "      <td>1.082216</td>\n",
              "      <td>-1.189724</td>\n",
              "      <td>1.105657</td>\n",
              "      <td>-0.545348</td>\n",
              "      <td>0.309816</td>\n",
              "      <td>-0.755390</td>\n",
              "      <td>0.497387</td>\n",
              "      <td>-0.994486</td>\n",
              "      <td>2.089284</td>\n",
              "      <td>-0.887795</td>\n",
              "      <td>-1.161978</td>\n",
              "      <td>-0.259862</td>\n",
              "      <td>-0.644684</td>\n",
              "      <td>0.879939</td>\n",
              "      <td>-1.040974</td>\n",
              "    </tr>\n",
              "    <tr>\n",
              "      <th>197673</th>\n",
              "      <td>-0.603686</td>\n",
              "      <td>-2.393943</td>\n",
              "      <td>0.522242</td>\n",
              "      <td>-0.515993</td>\n",
              "      <td>-0.521553</td>\n",
              "      <td>0.217642</td>\n",
              "      <td>0.899988</td>\n",
              "      <td>-0.766855</td>\n",
              "      <td>-0.021740</td>\n",
              "      <td>-1.683623</td>\n",
              "      <td>-0.617853</td>\n",
              "      <td>-3.180667</td>\n",
              "      <td>-1.347854</td>\n",
              "      <td>0.044459</td>\n",
              "      <td>0.318835</td>\n",
              "      <td>0.894758</td>\n",
              "      <td>0.864102</td>\n",
              "      <td>0.339722</td>\n",
              "      <td>0.022207</td>\n",
              "      <td>-2.080588</td>\n",
              "      <td>-2.503211</td>\n",
              "      <td>-0.536475</td>\n",
              "      <td>0.734151</td>\n",
              "      <td>-0.362354</td>\n",
              "      <td>0.254577</td>\n",
              "      <td>-1.083796</td>\n",
              "      <td>0.880067</td>\n",
              "    </tr>\n",
              "    <tr>\n",
              "      <th>151952</th>\n",
              "      <td>0.423819</td>\n",
              "      <td>0.767632</td>\n",
              "      <td>-0.267885</td>\n",
              "      <td>-0.222386</td>\n",
              "      <td>0.311018</td>\n",
              "      <td>-0.129255</td>\n",
              "      <td>0.911732</td>\n",
              "      <td>-0.659877</td>\n",
              "      <td>-0.845075</td>\n",
              "      <td>-1.074328</td>\n",
              "      <td>0.435796</td>\n",
              "      <td>-1.109688</td>\n",
              "      <td>2.549561</td>\n",
              "      <td>1.657972</td>\n",
              "      <td>0.255843</td>\n",
              "      <td>2.368642</td>\n",
              "      <td>-0.559299</td>\n",
              "      <td>-0.040419</td>\n",
              "      <td>2.019560</td>\n",
              "      <td>-0.232365</td>\n",
              "      <td>0.746700</td>\n",
              "      <td>-1.586883</td>\n",
              "      <td>-0.200942</td>\n",
              "      <td>-1.777225</td>\n",
              "      <td>-1.799383</td>\n",
              "      <td>0.039290</td>\n",
              "      <td>-0.730204</td>\n",
              "    </tr>\n",
              "  </tbody>\n",
              "</table>\n",
              "<p>227845 rows × 27 columns</p>\n",
              "</div>"
            ],
            "text/plain": [
              "              0         1         2   ...        24        25        26\n",
              "212834 -0.328386 -1.647120 -0.370647  ... -2.028178  0.259533  0.249779\n",
              "175643 -0.391033 -1.499358 -0.174836  ... -0.000636 -0.441325 -0.427625\n",
              "32164  -0.251329  0.768326 -0.715681  ... -0.278349 -0.317095  0.429228\n",
              "79783  -0.178978  0.806585 -0.015431  ... -1.603572 -0.701797  0.178609\n",
              "107026 -0.422434  0.802797  0.092058  ...  0.138395 -0.142742  0.069431\n",
              "...          ...       ...       ...  ...       ...       ...       ...\n",
              "48687   2.790033  0.951285 -0.008367  ... -0.886176 -0.937503  0.616739\n",
              "159608 -0.435838 -1.079428  0.057791  ... -0.226073  0.215674  0.323378\n",
              "205176  8.201056 -1.394710 -0.372240  ... -0.644684  0.879939 -1.040974\n",
              "197673 -0.603686 -2.393943  0.522242  ...  0.254577 -1.083796  0.880067\n",
              "151952  0.423819  0.767632 -0.267885  ... -1.799383  0.039290 -0.730204\n",
              "\n",
              "[227845 rows x 27 columns]"
            ]
          },
          "metadata": {
            "tags": []
          },
          "execution_count": 10
        }
      ]
    },
    {
      "cell_type": "code",
      "metadata": {
        "colab": {
          "base_uri": "https://localhost:8080/",
          "height": 398
        },
        "id": "jMpaXSC3rzDE",
        "outputId": "bbebcac6-0a8f-4030-a1fe-a6393bbfdad8"
      },
      "source": [
        "from sklearn.decomposition import PCA\n",
        "\n",
        "n_components = 27\n",
        "whiten = False\n",
        "random_state = 2018\n",
        "\n",
        "pca = PCA(n_components=n_components, whiten=whiten, \\\n",
        "          random_state=random_state)\n",
        "\n",
        "X_train_PCA = pca.fit_transform(X_train)\n",
        "X_train_PCA = pd.DataFrame(data=X_train_PCA, index=X_train.index)\n",
        "\n",
        "X_train_PCA_inverse = pca.inverse_transform(X_train_PCA)\n",
        "X_train_PCA_inverse = pd.DataFrame(data=X_train_PCA_inverse, \\\n",
        "                                   index=X_train.index)\n",
        "\n",
        "scatterPlot(X_train_PCA, y_train, \"PCA\")"
      ],
      "execution_count": null,
      "outputs": [
        {
          "output_type": "display_data",
          "data": {
            "image/png": "[encoded data removed]",
            "text/plain": [
              "<Figure size 406.6x360 with 1 Axes>"
            ]
          },
          "metadata": {
            "tags": []
          }
        }
      ]
    },
    {
      "cell_type": "code",
      "metadata": {
        "colab": {
          "base_uri": "https://localhost:8080/",
          "height": 224
        },
        "id": "PJfxkvmcnSj2",
        "outputId": "688861c4-ad31-487e-fe99-784d66ea6bde"
      },
      "source": [
        "X_train_PCA_inverse.head()"
      ],
      "execution_count": null,
      "outputs": [
        {
          "output_type": "execute_result",
          "data": {
            "text/html": [
              "<div>\n",
              "<style scoped>\n",
              "    .dataframe tbody tr th:only-of-type {\n",
              "        vertical-align: middle;\n",
              "    }\n",
              "\n",
              "    .dataframe tbody tr th {\n",
              "        vertical-align: top;\n",
              "    }\n",
              "\n",
              "    .dataframe thead th {\n",
              "        text-align: right;\n",
              "    }\n",
              "</style>\n",
              "<table border=\"1\" class=\"dataframe\">\n",
              "  <thead>\n",
              "    <tr style=\"text-align: right;\">\n",
              "      <th></th>\n",
              "      <th>0</th>\n",
              "      <th>1</th>\n",
              "      <th>2</th>\n",
              "      <th>3</th>\n",
              "      <th>4</th>\n",
              "      <th>5</th>\n",
              "      <th>6</th>\n",
              "      <th>7</th>\n",
              "      <th>8</th>\n",
              "      <th>9</th>\n",
              "      <th>10</th>\n",
              "      <th>11</th>\n",
              "      <th>12</th>\n",
              "      <th>13</th>\n",
              "      <th>14</th>\n",
              "      <th>15</th>\n",
              "      <th>16</th>\n",
              "      <th>17</th>\n",
              "      <th>18</th>\n",
              "      <th>19</th>\n",
              "      <th>20</th>\n",
              "      <th>21</th>\n",
              "      <th>22</th>\n",
              "      <th>23</th>\n",
              "      <th>24</th>\n",
              "      <th>25</th>\n",
              "      <th>26</th>\n",
              "      <th>27</th>\n",
              "      <th>28</th>\n",
              "      <th>29</th>\n",
              "    </tr>\n",
              "  </thead>\n",
              "  <tbody>\n",
              "    <tr>\n",
              "      <th>212834</th>\n",
              "      <td>1.158885</td>\n",
              "      <td>-0.230776</td>\n",
              "      <td>-0.131010</td>\n",
              "      <td>0.098186</td>\n",
              "      <td>-1.438465</td>\n",
              "      <td>0.245425</td>\n",
              "      <td>-0.427459</td>\n",
              "      <td>0.036078</td>\n",
              "      <td>-0.891368</td>\n",
              "      <td>-0.794555</td>\n",
              "      <td>0.769308</td>\n",
              "      <td>0.648595</td>\n",
              "      <td>-1.331473</td>\n",
              "      <td>-1.813925</td>\n",
              "      <td>0.301849</td>\n",
              "      <td>-0.614941</td>\n",
              "      <td>1.295263</td>\n",
              "      <td>-0.250496</td>\n",
              "      <td>-0.488517</td>\n",
              "      <td>0.607830</td>\n",
              "      <td>-0.416024</td>\n",
              "      <td>1.765854</td>\n",
              "      <td>1.860641</td>\n",
              "      <td>-0.240314</td>\n",
              "      <td>1.287519</td>\n",
              "      <td>-1.473860</td>\n",
              "      <td>-0.375029</td>\n",
              "      <td>0.019946</td>\n",
              "      <td>0.022692</td>\n",
              "      <td>-0.184939</td>\n",
              "    </tr>\n",
              "    <tr>\n",
              "      <th>175643</th>\n",
              "      <td>1.068744</td>\n",
              "      <td>1.064956</td>\n",
              "      <td>-0.451318</td>\n",
              "      <td>-1.063156</td>\n",
              "      <td>-0.813092</td>\n",
              "      <td>0.189380</td>\n",
              "      <td>0.107616</td>\n",
              "      <td>-0.339394</td>\n",
              "      <td>-0.127267</td>\n",
              "      <td>-0.713247</td>\n",
              "      <td>0.860652</td>\n",
              "      <td>0.274696</td>\n",
              "      <td>0.235324</td>\n",
              "      <td>1.354569</td>\n",
              "      <td>-0.102706</td>\n",
              "      <td>-0.961628</td>\n",
              "      <td>1.030428</td>\n",
              "      <td>-0.271244</td>\n",
              "      <td>-0.881205</td>\n",
              "      <td>1.442165</td>\n",
              "      <td>0.177689</td>\n",
              "      <td>0.722138</td>\n",
              "      <td>2.254794</td>\n",
              "      <td>-0.508642</td>\n",
              "      <td>-0.444527</td>\n",
              "      <td>1.394902</td>\n",
              "      <td>0.661439</td>\n",
              "      <td>-0.110189</td>\n",
              "      <td>-0.251929</td>\n",
              "      <td>-0.240983</td>\n",
              "    </tr>\n",
              "    <tr>\n",
              "      <th>32164</th>\n",
              "      <td>-0.532814</td>\n",
              "      <td>-0.252987</td>\n",
              "      <td>0.781670</td>\n",
              "      <td>1.036085</td>\n",
              "      <td>0.753874</td>\n",
              "      <td>-0.058894</td>\n",
              "      <td>0.266116</td>\n",
              "      <td>-0.034465</td>\n",
              "      <td>-1.368136</td>\n",
              "      <td>-0.419351</td>\n",
              "      <td>0.360914</td>\n",
              "      <td>1.941669</td>\n",
              "      <td>0.904731</td>\n",
              "      <td>0.408079</td>\n",
              "      <td>0.332013</td>\n",
              "      <td>0.658462</td>\n",
              "      <td>-0.461756</td>\n",
              "      <td>-0.262901</td>\n",
              "      <td>-0.120484</td>\n",
              "      <td>0.062839</td>\n",
              "      <td>-0.425895</td>\n",
              "      <td>2.240652</td>\n",
              "      <td>0.200577</td>\n",
              "      <td>0.531022</td>\n",
              "      <td>0.348846</td>\n",
              "      <td>-2.057416</td>\n",
              "      <td>-1.154801</td>\n",
              "      <td>0.389624</td>\n",
              "      <td>-0.122085</td>\n",
              "      <td>-0.188789</td>\n",
              "    </tr>\n",
              "    <tr>\n",
              "      <th>79783</th>\n",
              "      <td>-0.567660</td>\n",
              "      <td>0.622695</td>\n",
              "      <td>-0.581308</td>\n",
              "      <td>0.222736</td>\n",
              "      <td>-0.765269</td>\n",
              "      <td>-0.444535</td>\n",
              "      <td>0.804890</td>\n",
              "      <td>-1.052869</td>\n",
              "      <td>0.310377</td>\n",
              "      <td>-0.431990</td>\n",
              "      <td>0.622520</td>\n",
              "      <td>0.058719</td>\n",
              "      <td>-0.813657</td>\n",
              "      <td>-0.018054</td>\n",
              "      <td>-0.224515</td>\n",
              "      <td>0.990144</td>\n",
              "      <td>2.150828</td>\n",
              "      <td>-0.638863</td>\n",
              "      <td>-0.246558</td>\n",
              "      <td>0.976422</td>\n",
              "      <td>0.245328</td>\n",
              "      <td>0.478248</td>\n",
              "      <td>1.199715</td>\n",
              "      <td>-0.552183</td>\n",
              "      <td>-2.748957</td>\n",
              "      <td>1.057706</td>\n",
              "      <td>0.151385</td>\n",
              "      <td>0.083475</td>\n",
              "      <td>-0.000217</td>\n",
              "      <td>-0.135757</td>\n",
              "    </tr>\n",
              "    <tr>\n",
              "      <th>107026</th>\n",
              "      <td>-0.562482</td>\n",
              "      <td>-0.172608</td>\n",
              "      <td>0.729390</td>\n",
              "      <td>0.692010</td>\n",
              "      <td>0.001775</td>\n",
              "      <td>0.177487</td>\n",
              "      <td>-0.593665</td>\n",
              "      <td>0.543523</td>\n",
              "      <td>-0.061304</td>\n",
              "      <td>-0.427170</td>\n",
              "      <td>-0.532133</td>\n",
              "      <td>-0.418166</td>\n",
              "      <td>0.029029</td>\n",
              "      <td>0.715619</td>\n",
              "      <td>-0.638440</td>\n",
              "      <td>0.925223</td>\n",
              "      <td>0.481178</td>\n",
              "      <td>-0.261672</td>\n",
              "      <td>-0.126579</td>\n",
              "      <td>0.064325</td>\n",
              "      <td>0.193871</td>\n",
              "      <td>-0.392830</td>\n",
              "      <td>-0.960570</td>\n",
              "      <td>-0.108260</td>\n",
              "      <td>-0.020246</td>\n",
              "      <td>-0.207576</td>\n",
              "      <td>0.189090</td>\n",
              "      <td>0.604616</td>\n",
              "      <td>0.281583</td>\n",
              "      <td>-0.313295</td>\n",
              "    </tr>\n",
              "  </tbody>\n",
              "</table>\n",
              "</div>"
            ],
            "text/plain": [
              "              0         1         2   ...        27        28        29\n",
              "212834  1.158885 -0.230776 -0.131010  ...  0.019946  0.022692 -0.184939\n",
              "175643  1.068744  1.064956 -0.451318  ... -0.110189 -0.251929 -0.240983\n",
              "32164  -0.532814 -0.252987  0.781670  ...  0.389624 -0.122085 -0.188789\n",
              "79783  -0.567660  0.622695 -0.581308  ...  0.083475 -0.000217 -0.135757\n",
              "107026 -0.562482 -0.172608  0.729390  ...  0.604616  0.281583 -0.313295\n",
              "\n",
              "[5 rows x 30 columns]"
            ]
          },
          "metadata": {
            "tags": []
          },
          "execution_count": 37
        }
      ]
    },
    {
      "cell_type": "code",
      "metadata": {
        "colab": {
          "base_uri": "https://localhost:8080/",
          "height": 224
        },
        "id": "L1LWqnCenU0E",
        "outputId": "5a04a133-c4d2-494f-be93-050b1565668a"
      },
      "source": [
        "X_train.head()"
      ],
      "execution_count": null,
      "outputs": [
        {
          "output_type": "execute_result",
          "data": {
            "text/html": [
              "<div>\n",
              "<style scoped>\n",
              "    .dataframe tbody tr th:only-of-type {\n",
              "        vertical-align: middle;\n",
              "    }\n",
              "\n",
              "    .dataframe tbody tr th {\n",
              "        vertical-align: top;\n",
              "    }\n",
              "\n",
              "    .dataframe thead th {\n",
              "        text-align: right;\n",
              "    }\n",
              "</style>\n",
              "<table border=\"1\" class=\"dataframe\">\n",
              "  <thead>\n",
              "    <tr style=\"text-align: right;\">\n",
              "      <th></th>\n",
              "      <th>Time</th>\n",
              "      <th>V1</th>\n",
              "      <th>V2</th>\n",
              "      <th>V3</th>\n",
              "      <th>V4</th>\n",
              "      <th>V5</th>\n",
              "      <th>V6</th>\n",
              "      <th>V7</th>\n",
              "      <th>V8</th>\n",
              "      <th>V9</th>\n",
              "      <th>V10</th>\n",
              "      <th>V11</th>\n",
              "      <th>V12</th>\n",
              "      <th>V13</th>\n",
              "      <th>V14</th>\n",
              "      <th>V15</th>\n",
              "      <th>V16</th>\n",
              "      <th>V17</th>\n",
              "      <th>V18</th>\n",
              "      <th>V19</th>\n",
              "      <th>V20</th>\n",
              "      <th>V21</th>\n",
              "      <th>V22</th>\n",
              "      <th>V23</th>\n",
              "      <th>V24</th>\n",
              "      <th>V25</th>\n",
              "      <th>V26</th>\n",
              "      <th>V27</th>\n",
              "      <th>V28</th>\n",
              "      <th>Amount</th>\n",
              "    </tr>\n",
              "  </thead>\n",
              "  <tbody>\n",
              "    <tr>\n",
              "      <th>212834</th>\n",
              "      <td>0.930700</td>\n",
              "      <td>-0.193563</td>\n",
              "      <td>-0.136547</td>\n",
              "      <td>-0.044610</td>\n",
              "      <td>-1.471851</td>\n",
              "      <td>0.299420</td>\n",
              "      <td>-0.447038</td>\n",
              "      <td>0.065017</td>\n",
              "      <td>-0.903609</td>\n",
              "      <td>-0.798323</td>\n",
              "      <td>0.777325</td>\n",
              "      <td>0.567004</td>\n",
              "      <td>-1.292424</td>\n",
              "      <td>-1.835557</td>\n",
              "      <td>0.267809</td>\n",
              "      <td>-0.676375</td>\n",
              "      <td>1.297130</td>\n",
              "      <td>-0.277600</td>\n",
              "      <td>-0.458910</td>\n",
              "      <td>0.618104</td>\n",
              "      <td>-0.431244</td>\n",
              "      <td>1.781078</td>\n",
              "      <td>1.908755</td>\n",
              "      <td>-0.224010</td>\n",
              "      <td>1.282179</td>\n",
              "      <td>-1.551742</td>\n",
              "      <td>-0.388800</td>\n",
              "      <td>0.018078</td>\n",
              "      <td>0.019746</td>\n",
              "      <td>-0.189908</td>\n",
              "    </tr>\n",
              "    <tr>\n",
              "      <th>175643</th>\n",
              "      <td>0.581475</td>\n",
              "      <td>1.145707</td>\n",
              "      <td>-0.464983</td>\n",
              "      <td>-1.365275</td>\n",
              "      <td>-0.886248</td>\n",
              "      <td>0.305657</td>\n",
              "      <td>0.066829</td>\n",
              "      <td>-0.273461</td>\n",
              "      <td>-0.153975</td>\n",
              "      <td>-0.720206</td>\n",
              "      <td>0.881148</td>\n",
              "      <td>0.098351</td>\n",
              "      <td>0.322958</td>\n",
              "      <td>1.307987</td>\n",
              "      <td>-0.171925</td>\n",
              "      <td>-1.092521</td>\n",
              "      <td>1.037590</td>\n",
              "      <td>-0.323926</td>\n",
              "      <td>-0.816001</td>\n",
              "      <td>1.463272</td>\n",
              "      <td>0.145879</td>\n",
              "      <td>0.755524</td>\n",
              "      <td>2.356802</td>\n",
              "      <td>-0.473290</td>\n",
              "      <td>-0.455927</td>\n",
              "      <td>1.229323</td>\n",
              "      <td>0.632015</td>\n",
              "      <td>-0.113455</td>\n",
              "      <td>-0.257673</td>\n",
              "      <td>-0.253277</td>\n",
              "    </tr>\n",
              "    <tr>\n",
              "      <th>32164</th>\n",
              "      <td>-1.224452</td>\n",
              "      <td>-0.132705</td>\n",
              "      <td>0.713528</td>\n",
              "      <td>0.633126</td>\n",
              "      <td>0.630864</td>\n",
              "      <td>0.100135</td>\n",
              "      <td>0.231616</td>\n",
              "      <td>0.130995</td>\n",
              "      <td>-1.418178</td>\n",
              "      <td>-0.417453</td>\n",
              "      <td>0.428285</td>\n",
              "      <td>1.664365</td>\n",
              "      <td>1.082977</td>\n",
              "      <td>0.337247</td>\n",
              "      <td>0.279745</td>\n",
              "      <td>0.476292</td>\n",
              "      <td>-0.411223</td>\n",
              "      <td>-0.270911</td>\n",
              "      <td>-0.000925</td>\n",
              "      <td>0.079491</td>\n",
              "      <td>-0.446114</td>\n",
              "      <td>2.304290</td>\n",
              "      <td>0.332887</td>\n",
              "      <td>0.582661</td>\n",
              "      <td>0.332978</td>\n",
              "      <td>-2.285405</td>\n",
              "      <td>-1.196946</td>\n",
              "      <td>0.395602</td>\n",
              "      <td>-0.122872</td>\n",
              "      <td>-0.273268</td>\n",
              "    </tr>\n",
              "    <tr>\n",
              "      <th>79783</th>\n",
              "      <td>-0.771538</td>\n",
              "      <td>0.677347</td>\n",
              "      <td>-0.593270</td>\n",
              "      <td>0.134047</td>\n",
              "      <td>-0.819728</td>\n",
              "      <td>-0.374058</td>\n",
              "      <td>0.793413</td>\n",
              "      <td>-0.989350</td>\n",
              "      <td>0.295608</td>\n",
              "      <td>-0.421328</td>\n",
              "      <td>0.672262</td>\n",
              "      <td>-0.039082</td>\n",
              "      <td>-0.728508</td>\n",
              "      <td>-0.042104</td>\n",
              "      <td>-0.215013</td>\n",
              "      <td>0.938789</td>\n",
              "      <td>2.189987</td>\n",
              "      <td>-0.602120</td>\n",
              "      <td>-0.197767</td>\n",
              "      <td>0.977359</td>\n",
              "      <td>0.230517</td>\n",
              "      <td>0.499247</td>\n",
              "      <td>1.235857</td>\n",
              "      <td>-0.528168</td>\n",
              "      <td>-2.753810</td>\n",
              "      <td>0.998054</td>\n",
              "      <td>0.138978</td>\n",
              "      <td>0.089492</td>\n",
              "      <td>0.003362</td>\n",
              "      <td>-0.133535</td>\n",
              "    </tr>\n",
              "    <tr>\n",
              "      <th>107026</th>\n",
              "      <td>-0.517390</td>\n",
              "      <td>-0.161335</td>\n",
              "      <td>0.702321</td>\n",
              "      <td>0.761409</td>\n",
              "      <td>-0.019016</td>\n",
              "      <td>0.180568</td>\n",
              "      <td>-0.574303</td>\n",
              "      <td>0.599706</td>\n",
              "      <td>-0.067450</td>\n",
              "      <td>-0.410422</td>\n",
              "      <td>-0.483954</td>\n",
              "      <td>-0.433314</td>\n",
              "      <td>0.084132</td>\n",
              "      <td>0.714155</td>\n",
              "      <td>-0.580312</td>\n",
              "      <td>0.941704</td>\n",
              "      <td>0.527760</td>\n",
              "      <td>-0.179441</td>\n",
              "      <td>-0.103065</td>\n",
              "      <td>0.049886</td>\n",
              "      <td>0.207703</td>\n",
              "      <td>-0.382678</td>\n",
              "      <td>-0.981056</td>\n",
              "      <td>-0.103749</td>\n",
              "      <td>-0.019104</td>\n",
              "      <td>-0.181466</td>\n",
              "      <td>0.191556</td>\n",
              "      <td>0.615710</td>\n",
              "      <td>0.290262</td>\n",
              "      <td>-0.338876</td>\n",
              "    </tr>\n",
              "  </tbody>\n",
              "</table>\n",
              "</div>"
            ],
            "text/plain": [
              "            Time        V1        V2  ...       V27       V28    Amount\n",
              "212834  0.930700 -0.193563 -0.136547  ...  0.018078  0.019746 -0.189908\n",
              "175643  0.581475  1.145707 -0.464983  ... -0.113455 -0.257673 -0.253277\n",
              "32164  -1.224452 -0.132705  0.713528  ...  0.395602 -0.122872 -0.273268\n",
              "79783  -0.771538  0.677347 -0.593270  ...  0.089492  0.003362 -0.133535\n",
              "107026 -0.517390 -0.161335  0.702321  ...  0.615710  0.290262 -0.338876\n",
              "\n",
              "[5 rows x 30 columns]"
            ]
          },
          "metadata": {
            "tags": []
          },
          "execution_count": 36
        }
      ]
    },
    {
      "cell_type": "code",
      "metadata": {
        "colab": {
          "base_uri": "https://localhost:8080/"
        },
        "id": "KLV3ClFnrzIF",
        "outputId": "bc43173f-311b-4c5c-a7cd-8613d1743bf3"
      },
      "source": [
        "anomalyScoresPCA = anomalyScores(X_train, X_train_PCA_inverse)\n",
        "anomalyScoresPCA"
      ],
      "execution_count": null,
      "outputs": [
        {
          "output_type": "execute_result",
          "data": {
            "text/plain": [
              "212834    0.000048\n",
              "175643    0.000219\n",
              "32164     0.000456\n",
              "79783     0.000046\n",
              "107026    0.000015\n",
              "            ...   \n",
              "48687     0.000113\n",
              "159608    0.000146\n",
              "205176    0.000054\n",
              "197673    0.000780\n",
              "151952    0.000346\n",
              "Length: 227845, dtype: float64"
            ]
          },
          "metadata": {
            "tags": []
          },
          "execution_count": 11
        }
      ]
    },
    {
      "cell_type": "code",
      "metadata": {
        "colab": {
          "base_uri": "https://localhost:8080/",
          "height": 545
        },
        "id": "cx608Hywt-eJ",
        "outputId": "3adc56ba-8a8c-484d-f1de-b4f3526f6ab4"
      },
      "source": [
        "import h2o\n",
        "h2o.init()"
      ],
      "execution_count": null,
      "outputs": [
        {
          "output_type": "stream",
          "text": [
            "Checking whether there is an H2O instance running at http://localhost:54321 ..... not found.\n",
            "Attempting to start a local H2O server...\n",
            "  Java Version: openjdk version \"11.0.10\" 2021-01-19; OpenJDK Runtime Environment (build 11.0.10+9-Ubuntu-0ubuntu1.18.04); OpenJDK 64-Bit Server VM (build 11.0.10+9-Ubuntu-0ubuntu1.18.04, mixed mode, sharing)\n",
            "  Starting server from /usr/local/lib/python3.7/dist-packages/h2o/backend/bin/h2o.jar\n",
            "  Ice root: /tmp/tmph_1ei845\n",
            "  JVM stdout: /tmp/tmph_1ei845/h2o_unknownUser_started_from_python.out\n",
            "  JVM stderr: /tmp/tmph_1ei845/h2o_unknownUser_started_from_python.err\n",
            "  Server is running at http://127.0.0.1:54321\n",
            "Connecting to H2O server at http://127.0.0.1:54321 ... successful.\n"
          ],
          "name": "stdout"
        },
        {
          "output_type": "display_data",
          "data": {
            "text/html": [
              "<div style=\"overflow:auto\"><table style=\"width:50%\"><tr><td>H2O_cluster_uptime:</td>\n",
              "<td>02 secs</td></tr>\n",
              "<tr><td>H2O_cluster_timezone:</td>\n",
              "<td>Etc/UTC</td></tr>\n",
              "<tr><td>H2O_data_parsing_timezone:</td>\n",
              "<td>UTC</td></tr>\n",
              "<tr><td>H2O_cluster_version:</td>\n",
              "<td>3.32.0.4</td></tr>\n",
              "<tr><td>H2O_cluster_version_age:</td>\n",
              "<td>1 month and 3 days </td></tr>\n",
              "<tr><td>H2O_cluster_name:</td>\n",
              "<td>H2O_from_python_unknownUser_cmabb3</td></tr>\n",
              "<tr><td>H2O_cluster_total_nodes:</td>\n",
              "<td>1</td></tr>\n",
              "<tr><td>H2O_cluster_free_memory:</td>\n",
              "<td>3.180 Gb</td></tr>\n",
              "<tr><td>H2O_cluster_total_cores:</td>\n",
              "<td>2</td></tr>\n",
              "<tr><td>H2O_cluster_allowed_cores:</td>\n",
              "<td>2</td></tr>\n",
              "<tr><td>H2O_cluster_status:</td>\n",
              "<td>accepting new members, healthy</td></tr>\n",
              "<tr><td>H2O_connection_url:</td>\n",
              "<td>http://127.0.0.1:54321</td></tr>\n",
              "<tr><td>H2O_connection_proxy:</td>\n",
              "<td>{\"http\": null, \"https\": null}</td></tr>\n",
              "<tr><td>H2O_internal_security:</td>\n",
              "<td>False</td></tr>\n",
              "<tr><td>H2O_API_Extensions:</td>\n",
              "<td>Amazon S3, XGBoost, Algos, AutoML, Core V3, TargetEncoder, Core V4</td></tr>\n",
              "<tr><td>Python_version:</td>\n",
              "<td>3.7.10 final</td></tr></table></div>"
            ],
            "text/plain": [
              "--------------------------  ------------------------------------------------------------------\n",
              "H2O_cluster_uptime:         02 secs\n",
              "H2O_cluster_timezone:       Etc/UTC\n",
              "H2O_data_parsing_timezone:  UTC\n",
              "H2O_cluster_version:        3.32.0.4\n",
              "H2O_cluster_version_age:    1 month and 3 days\n",
              "H2O_cluster_name:           H2O_from_python_unknownUser_cmabb3\n",
              "H2O_cluster_total_nodes:    1\n",
              "H2O_cluster_free_memory:    3.180 Gb\n",
              "H2O_cluster_total_cores:    2\n",
              "H2O_cluster_allowed_cores:  2\n",
              "H2O_cluster_status:         accepting new members, healthy\n",
              "H2O_connection_url:         http://127.0.0.1:54321\n",
              "H2O_connection_proxy:       {\"http\": null, \"https\": null}\n",
              "H2O_internal_security:      False\n",
              "H2O_API_Extensions:         Amazon S3, XGBoost, Algos, AutoML, Core V3, TargetEncoder, Core V4\n",
              "Python_version:             3.7.10 final\n",
              "--------------------------  ------------------------------------------------------------------"
            ]
          },
          "metadata": {
            "tags": []
          }
        }
      ]
    },
    {
      "cell_type": "code",
      "metadata": {
        "colab": {
          "base_uri": "https://localhost:8080/",
          "height": 267
        },
        "id": "JiV0qQbatNKL",
        "outputId": "a7036e53-d61f-4d57-c267-8c75ce16e729"
      },
      "source": [
        "anomalyScoresPCA_h2o = h2o.H2OFrame(pd.DataFrame(anomalyScoresPCA))\n",
        "anomalyScoresPCA_h2o"
      ],
      "execution_count": null,
      "outputs": [
        {
          "output_type": "stream",
          "text": [
            "Parse progress: |█████████████████████████████████████████████████████████| 100%\n"
          ],
          "name": "stdout"
        },
        {
          "output_type": "display_data",
          "data": {
            "text/html": [
              "<table>\n",
              "<thead>\n",
              "<tr><th style=\"text-align: right;\">          0</th></tr>\n",
              "</thead>\n",
              "<tbody>\n",
              "<tr><td style=\"text-align: right;\">4.79664e-05</td></tr>\n",
              "<tr><td style=\"text-align: right;\">0.000218706</td></tr>\n",
              "<tr><td style=\"text-align: right;\">0.000455847</td></tr>\n",
              "<tr><td style=\"text-align: right;\">4.57365e-05</td></tr>\n",
              "<tr><td style=\"text-align: right;\">1.53108e-05</td></tr>\n",
              "<tr><td style=\"text-align: right;\">8.46817e-06</td></tr>\n",
              "<tr><td style=\"text-align: right;\">4.67493e-05</td></tr>\n",
              "<tr><td style=\"text-align: right;\">4.91935e-05</td></tr>\n",
              "<tr><td style=\"text-align: right;\">0.000140031</td></tr>\n",
              "<tr><td style=\"text-align: right;\">0.000139547</td></tr>\n",
              "</tbody>\n",
              "</table>"
            ]
          },
          "metadata": {
            "tags": []
          }
        },
        {
          "output_type": "execute_result",
          "data": {
            "text/plain": [
              ""
            ]
          },
          "metadata": {
            "tags": []
          },
          "execution_count": 25
        }
      ]
    },
    {
      "cell_type": "code",
      "metadata": {
        "colab": {
          "base_uri": "https://localhost:8080/",
          "height": 301
        },
        "id": "7NZnPegpwECs",
        "outputId": "0716b6d7-799f-4209-89aa-3ae04e08ec81"
      },
      "source": [
        "anomalyScoresPCA_h2o.hist()"
      ],
      "execution_count": null,
      "outputs": [
        {
          "output_type": "display_data",
          "data": {
            "image/png": "[encoded data removed]",
            "text/plain": [
              "<Figure size 432x288 with 1 Axes>"
            ]
          },
          "metadata": {
            "tags": [],
            "needs_background": "light"
          }
        }
      ]
    },
    {
      "cell_type": "code",
      "metadata": {
        "colab": {
          "base_uri": "https://localhost:8080/",
          "height": 229
        },
        "id": "3HqzGiP9uTjK",
        "outputId": "f496e89d-6265-40bc-e425-e12a5986da9a"
      },
      "source": [
        "anomalyScoresPCA_h2o.quantile()"
      ],
      "execution_count": null,
      "outputs": [
        {
          "output_type": "display_data",
          "data": {
            "text/html": [
              "<table>\n",
              "<thead>\n",
              "<tr><th style=\"text-align: right;\">  Probs</th><th style=\"text-align: right;\">  0Quantiles</th></tr>\n",
              "</thead>\n",
              "<tbody>\n",
              "<tr><td style=\"text-align: right;\">  0.01 </td><td style=\"text-align: right;\"> 6.44003e-07</td></tr>\n",
              "<tr><td style=\"text-align: right;\">  0.1  </td><td style=\"text-align: right;\"> 7.35062e-06</td></tr>\n",
              "<tr><td style=\"text-align: right;\">  0.25 </td><td style=\"text-align: right;\"> 2.05486e-05</td></tr>\n",
              "<tr><td style=\"text-align: right;\">  0.333</td><td style=\"text-align: right;\"> 3.15163e-05</td></tr>\n",
              "<tr><td style=\"text-align: right;\">  0.5  </td><td style=\"text-align: right;\"> 6.3834e-05 </td></tr>\n",
              "<tr><td style=\"text-align: right;\">  0.667</td><td style=\"text-align: right;\"> 0.000124889</td></tr>\n",
              "<tr><td style=\"text-align: right;\">  0.75 </td><td style=\"text-align: right;\"> 0.000180762</td></tr>\n",
              "<tr><td style=\"text-align: right;\">  0.9  </td><td style=\"text-align: right;\"> 0.000463321</td></tr>\n",
              "<tr><td style=\"text-align: right;\">  0.99 </td><td style=\"text-align: right;\"> 0.00164339 </td></tr>\n",
              "</tbody>\n",
              "</table>"
            ]
          },
          "metadata": {
            "tags": []
          }
        },
        {
          "output_type": "execute_result",
          "data": {
            "text/plain": [
              ""
            ]
          },
          "metadata": {
            "tags": []
          },
          "execution_count": 29
        }
      ]
    },
    {
      "cell_type": "code",
      "metadata": {
        "colab": {
          "base_uri": "https://localhost:8080/"
        },
        "id": "O8ItYYVtvrZI",
        "outputId": "12004b45-cb96-420b-e994-f49ef6ff74c7"
      },
      "source": [
        "y_train.value_counts(normalize=True)"
      ],
      "execution_count": null,
      "outputs": [
        {
          "output_type": "execute_result",
          "data": {
            "text/plain": [
              "0    0.998271\n",
              "1    0.001729\n",
              "Name: Class, dtype: float64"
            ]
          },
          "metadata": {
            "tags": []
          },
          "execution_count": 35
        }
      ]
    },
    {
      "cell_type": "code",
      "metadata": {
        "colab": {
          "base_uri": "https://localhost:8080/",
          "height": 61
        },
        "id": "VstwCS1lvcCE",
        "outputId": "e8f10109-c985-4643-b15e-b9cfb21dba62"
      },
      "source": [
        "anomalyScoresPCA_h2o.quantile(prob=[0.998271]) # ti le fraud"
      ],
      "execution_count": null,
      "outputs": [
        {
          "output_type": "display_data",
          "data": {
            "text/html": [
              "<table>\n",
              "<thead>\n",
              "<tr><th style=\"text-align: right;\">   Probs</th><th style=\"text-align: right;\">  0Quantiles</th></tr>\n",
              "</thead>\n",
              "<tbody>\n",
              "<tr><td style=\"text-align: right;\">0.998271</td><td style=\"text-align: right;\">   0.0213515</td></tr>\n",
              "</tbody>\n",
              "</table>"
            ]
          },
          "metadata": {
            "tags": []
          }
        },
        {
          "output_type": "execute_result",
          "data": {
            "text/plain": [
              ""
            ]
          },
          "metadata": {
            "tags": []
          },
          "execution_count": 36
        }
      ]
    },
    {
      "cell_type": "markdown",
      "metadata": {
        "id": "Bq7Ao_eOxjNf"
      },
      "source": [
        "Predict in train set"
      ]
    },
    {
      "cell_type": "code",
      "metadata": {
        "colab": {
          "base_uri": "https://localhost:8080/"
        },
        "id": "FPwEPi7DuTln",
        "outputId": "a29c843d-c3a6-42fa-954c-1521a74027e3"
      },
      "source": [
        "#Best Threshold=0.027314, F-Score=0.799\n",
        "best_threshold=0.0213515 # Normal threshold if not tunning\n",
        "y_pred_new = [1 if x >= best_threshold else 0 for x in anomalyScoresPCA]\n",
        "confmat = confusion_matrix(y_train,y_pred_new)\n",
        "print('accuracy_score: \\n',accuracy_score(y_train, y_pred_new))\n",
        "print('confusion_matrix \\n',confmat)\n",
        "print('classification_report \\n',classification_report(y_train, y_pred_new))"
      ],
      "execution_count": null,
      "outputs": [
        {
          "output_type": "stream",
          "text": [
            "accuracy_score: \n",
            " 0.9992538787333495\n",
            "confusion_matrix \n",
            " [[227366     85]\n",
            " [    85    309]]\n",
            "classification_report \n",
            "               precision    recall  f1-score   support\n",
            "\n",
            "           0       1.00      1.00      1.00    227451\n",
            "           1       0.78      0.78      0.78       394\n",
            "\n",
            "    accuracy                           1.00    227845\n",
            "   macro avg       0.89      0.89      0.89    227845\n",
            "weighted avg       1.00      1.00      1.00    227845\n",
            "\n"
          ],
          "name": "stdout"
        }
      ]
    },
    {
      "cell_type": "code",
      "metadata": {
        "colab": {
          "base_uri": "https://localhost:8080/"
        },
        "id": "1Qd2x0DRrzL_",
        "outputId": "e8107f96-3b24-418d-bf38-3f75b6b3b71c"
      },
      "source": [
        "best_threshold=0.5 # Normal threshold if not tunning\n",
        "y_pred_new = [1 if x >= best_threshold else 0 for x in anomalyScoresPCA]\n",
        "confmat = confusion_matrix(y_train,y_pred_new)\n",
        "print('accuracy_score: \\n',accuracy_score(y_train, y_pred_new))\n",
        "print('confusion_matrix \\n',confmat)\n",
        "print('classification_report \\n',classification_report(y_train, y_pred_new))"
      ],
      "execution_count": null,
      "outputs": [
        {
          "output_type": "stream",
          "text": [
            "accuracy_score: \n",
            " 0.9985209243125809\n",
            "confusion_matrix \n",
            " [[227435     16]\n",
            " [   321     73]]\n",
            "classification_report \n",
            "               precision    recall  f1-score   support\n",
            "\n",
            "           0       1.00      1.00      1.00    227451\n",
            "           1       0.82      0.19      0.30       394\n",
            "\n",
            "    accuracy                           1.00    227845\n",
            "   macro avg       0.91      0.59      0.65    227845\n",
            "weighted avg       1.00      1.00      1.00    227845\n",
            "\n"
          ],
          "name": "stdout"
        }
      ]
    },
    {
      "cell_type": "markdown",
      "metadata": {
        "id": "YoGsnqeGxmje"
      },
      "source": [
        "Predict in test set"
      ]
    },
    {
      "cell_type": "code",
      "metadata": {
        "colab": {
          "base_uri": "https://localhost:8080/"
        },
        "id": "2uCxEM0cxokv",
        "outputId": "0b6e91f7-9645-4a2b-c4b8-9181db114f3d"
      },
      "source": [
        "X_test_PCA = pca.transform(X_test)\n",
        "X_test_PCA = pd.DataFrame(data=X_test_PCA, index=X_test.index)\n",
        "\n",
        "X_test_PCA_inverse = pca.inverse_transform(X_test_PCA)\n",
        "X_test_PCA_inverse = pd.DataFrame(data=X_test_PCA_inverse,index=X_test.index)\n",
        "anomalyScoresPCA = anomalyScores(X_test, X_test_PCA_inverse)\n",
        "\n",
        "best_threshold=0.0213515 # Normal threshold if not tunning\n",
        "y_pred_new = [1 if x >= best_threshold else 0 for x in anomalyScoresPCA]\n",
        "confmat = confusion_matrix(y_test,y_pred_new)\n",
        "print('accuracy_score: \\n',accuracy_score(y_test, y_pred_new))\n",
        "print('confusion_matrix \\n',confmat)\n",
        "print('classification_report \\n',classification_report(y_test, y_pred_new))"
      ],
      "execution_count": null,
      "outputs": [
        {
          "output_type": "stream",
          "text": [
            "accuracy_score: \n",
            " 0.9992626663389628\n",
            "confusion_matrix \n",
            " [[56842    22]\n",
            " [   20    78]]\n",
            "classification_report \n",
            "               precision    recall  f1-score   support\n",
            "\n",
            "           0       1.00      1.00      1.00     56864\n",
            "           1       0.78      0.80      0.79        98\n",
            "\n",
            "    accuracy                           1.00     56962\n",
            "   macro avg       0.89      0.90      0.89     56962\n",
            "weighted avg       1.00      1.00      1.00     56962\n",
            "\n"
          ],
          "name": "stdout"
        }
      ]
    },
    {
      "cell_type": "markdown",
      "metadata": {
        "id": "QHF0RvNLzwa4"
      },
      "source": [
        "## SparsePCA"
      ]
    },
    {
      "cell_type": "code",
      "metadata": {
        "id": "tgv7iPQRrzNj"
      },
      "source": [
        "# SparsePCA\n",
        "from sklearn.decomposition import SparsePCA\n",
        "\n",
        "n_components = 27\n",
        "alpha = 0.0001\n",
        "random_state = 2018\n",
        "n_jobs = -1\n",
        "\n",
        "sparsePCA = SparsePCA(n_components=n_components, \\\n",
        "                alpha=alpha, random_state=random_state, n_jobs=n_jobs)\n",
        "\n",
        "sparsePCA.fit(X_train.loc[:,:])\n",
        "X_train_sparsePCA = sparsePCA.transform(X_train)\n",
        "X_train_sparsePCA = pd.DataFrame(data=X_train_sparsePCA, index=X_train.index)\n",
        "X_train_sparsePCA_inverse = np.array(X_train_sparsePCA). \\\n",
        "    dot(sparsePCA.components_) + np.array(X_train.mean(axis=0))\n",
        "X_train_sparsePCA_inverse = pd.DataFrame(data=X_train_sparsePCA_inverse,index=X_train.index)\n",
        "\n",
        "anomalyScoresPCA = anomalyScores(X_train, X_train_sparsePCA_inverse)"
      ],
      "execution_count": null,
      "outputs": []
    },
    {
      "cell_type": "code",
      "metadata": {
        "colab": {
          "base_uri": "https://localhost:8080/",
          "height": 78
        },
        "id": "7UmvHFSprfWZ",
        "outputId": "526b2b40-9652-4002-a5b3-c59df0ea1e20"
      },
      "source": [
        "anomalyScoresPCA_h2o = h2o.H2OFrame(pd.DataFrame(anomalyScoresPCA))\n",
        "anomalyScoresPCA_h2o.quantile(prob=[0.998271]) # ti le fraud"
      ],
      "execution_count": null,
      "outputs": [
        {
          "output_type": "stream",
          "text": [
            "Parse progress: |█████████████████████████████████████████████████████████| 100%\n"
          ],
          "name": "stdout"
        },
        {
          "output_type": "display_data",
          "data": {
            "text/html": [
              "<table>\n",
              "<thead>\n",
              "<tr><th style=\"text-align: right;\">   Probs</th><th style=\"text-align: right;\">  0Quantiles</th></tr>\n",
              "</thead>\n",
              "<tbody>\n",
              "<tr><td style=\"text-align: right;\">0.998271</td><td style=\"text-align: right;\">   0.0214191</td></tr>\n",
              "</tbody>\n",
              "</table>"
            ]
          },
          "metadata": {
            "tags": []
          }
        },
        {
          "output_type": "execute_result",
          "data": {
            "text/plain": [
              ""
            ]
          },
          "metadata": {
            "tags": []
          },
          "execution_count": 49
        }
      ]
    },
    {
      "cell_type": "code",
      "metadata": {
        "colab": {
          "base_uri": "https://localhost:8080/"
        },
        "id": "W2MQP89my5rG",
        "outputId": "4505f510-3d80-4d0b-9b3e-9d1be0746dee"
      },
      "source": [
        "best_threshold=0.0214191\n",
        "y_pred_new = [1 if x >= best_threshold else 0 for x in anomalyScoresPCA]\n",
        "confmat = confusion_matrix(y_train,y_pred_new)\n",
        "print('accuracy_score: \\n',accuracy_score(y_train, y_pred_new))\n",
        "print('confusion_matrix \\n',confmat)\n",
        "print('classification_report \\n',classification_report(y_train, y_pred_new))"
      ],
      "execution_count": null,
      "outputs": [
        {
          "output_type": "stream",
          "text": [
            "accuracy_score: \n",
            " 0.9992451008360947\n",
            "confusion_matrix \n",
            " [[227365     86]\n",
            " [    86    308]]\n",
            "classification_report \n",
            "               precision    recall  f1-score   support\n",
            "\n",
            "           0       1.00      1.00      1.00    227451\n",
            "           1       0.78      0.78      0.78       394\n",
            "\n",
            "    accuracy                           1.00    227845\n",
            "   macro avg       0.89      0.89      0.89    227845\n",
            "weighted avg       1.00      1.00      1.00    227845\n",
            "\n"
          ],
          "name": "stdout"
        }
      ]
    },
    {
      "cell_type": "code",
      "metadata": {
        "colab": {
          "base_uri": "https://localhost:8080/"
        },
        "id": "IY1DjWGgy9VK",
        "outputId": "db8ddf53-7324-4c9d-acb0-124bb2da520d"
      },
      "source": [
        "X_test_PCA = sparsePCA.transform(X_test)\n",
        "X_test_PCA = pd.DataFrame(data=X_test_PCA, index=X_test.index)\n",
        "\n",
        "X_test_PCA_inverse =  np.array(X_test_PCA). \\\n",
        "    dot(sparsePCA.components_) + np.array(X_test.mean(axis=0))\n",
        "X_test_PCA_inverse = pd.DataFrame(data=X_test_PCA_inverse,index=X_test.index)\n",
        "anomalyScoresPCA = anomalyScores(X_test, X_test_PCA_inverse)\n",
        "\n",
        "best_threshold=0.0214191\n",
        "y_pred_new = [1 if x >= best_threshold else 0 for x in anomalyScoresPCA]\n",
        "confmat = confusion_matrix(y_test,y_pred_new)\n",
        "print('accuracy_score: \\n',accuracy_score(y_test, y_pred_new))\n",
        "print('confusion_matrix \\n',confmat)\n",
        "print('classification_report \\n',classification_report(y_test, y_pred_new))"
      ],
      "execution_count": null,
      "outputs": [
        {
          "output_type": "stream",
          "text": [
            "accuracy_score: \n",
            " 0.9992626663389628\n",
            "confusion_matrix \n",
            " [[56842    22]\n",
            " [   20    78]]\n",
            "classification_report \n",
            "               precision    recall  f1-score   support\n",
            "\n",
            "           0       1.00      1.00      1.00     56864\n",
            "           1       0.78      0.80      0.79        98\n",
            "\n",
            "    accuracy                           1.00     56962\n",
            "   macro avg       0.89      0.90      0.89     56962\n",
            "weighted avg       1.00      1.00      1.00     56962\n",
            "\n"
          ],
          "name": "stdout"
        }
      ]
    },
    {
      "cell_type": "markdown",
      "metadata": {
        "id": "3XVcJmovg8Hx"
      },
      "source": [
        "# Auto encoder DL"
      ]
    },
    {
      "cell_type": "code",
      "metadata": {
        "id": "RBtZjsYGg_Ir"
      },
      "source": [
        "\n",
        "'''Main'''\n",
        "import numpy as np\n",
        "import pandas as pd\n",
        "import os, time, re\n",
        "import pickle, gzip\n",
        "\n",
        "'''Data Viz'''\n",
        "import matplotlib.pyplot as plt\n",
        "import seaborn as sns\n",
        "color = sns.color_palette()\n",
        "import matplotlib as mpl\n",
        "\n",
        "%matplotlib inline\n",
        "\n",
        "'''Data Prep and Model Evaluation'''\n",
        "from sklearn import preprocessing as pp\n",
        "from sklearn.model_selection import train_test_split \n",
        "from sklearn.model_selection import StratifiedKFold \n",
        "from sklearn.metrics import log_loss\n",
        "from sklearn.metrics import precision_recall_curve, average_precision_score\n",
        "from sklearn.metrics import roc_curve, auc, roc_auc_score\n",
        "\n",
        "'''Algos'''\n",
        "#import lightgbm as lgb\n",
        "\n",
        "'''TensorFlow and Keras'''\n",
        "import tensorflow as tf\n",
        "from tensorflow import keras\n",
        "K = keras.backend\n",
        "\n",
        "from tensorflow.keras.models import Sequential, Model\n",
        "from tensorflow.keras.layers import Activation, Dense, Dropout\n",
        "from tensorflow.keras.layers import BatchNormalization, Input, Lambda\n",
        "from tensorflow.keras import regularizers\n",
        "from tensorflow.keras.losses import mse, binary_crossentropy"
      ],
      "execution_count": null,
      "outputs": []
    },
    {
      "cell_type": "code",
      "metadata": {
        "colab": {
          "base_uri": "https://localhost:8080/"
        },
        "id": "KX7aJer5g_LO",
        "outputId": "97ff0a72-b4d8-409c-90c9-3ded97fa40d8"
      },
      "source": [
        "import sys, sklearn\n",
        "print(f'sklearn    {sklearn.__version__}')\n",
        "print(f'tensorflow {tf.__version__}')\n",
        "print(f'keras      {keras.__version__}')\n",
        "print(f'numpy      {np.__version__}')"
      ],
      "execution_count": null,
      "outputs": [
        {
          "output_type": "stream",
          "text": [
            "sklearn    0.22.2.post1\n",
            "tensorflow 2.4.1\n",
            "keras      2.4.0\n",
            "numpy      1.19.5\n"
          ],
          "name": "stdout"
        }
      ]
    },
    {
      "cell_type": "code",
      "metadata": {
        "id": "2RdMYqVgg_Nx"
      },
      "source": [
        "# To make the output stable across runs\n",
        "tf.random.set_seed(42)\n",
        "np.random.seed(42)"
      ],
      "execution_count": null,
      "outputs": []
    },
    {
      "cell_type": "code",
      "metadata": {
        "id": "w7c356IWhe_P"
      },
      "source": [
        "file='https://media.githubusercontent.com/media/aapatel09/handson-unsupervised-learning/master/datasets/credit_card_data/credit_card.csv'\n",
        "data = pd.read_csv(file)\n",
        "\n",
        "dataX = data.copy().drop(['Class','Time'],axis=1)\n",
        "dataY = data['Class'].copy()\n",
        "\n",
        "featuresToScale = dataX.columns\n",
        "sX =pp.StandardScaler(copy=True)\n",
        "dataX.loc[:,featuresToScale] = sX.fit_transform(dataX[featuresToScale])\n",
        "\n",
        "X_train, X_test, y_train, y_test = \\\n",
        "    train_test_split(dataX, dataY, test_size=0.20, \\\n",
        "                    random_state=2018, stratify=dataY)"
      ],
      "execution_count": null,
      "outputs": []
    },
    {
      "cell_type": "code",
      "metadata": {
        "id": "L-4MPw-DhfBl"
      },
      "source": [
        "def anomalyScores(originalDF, reducedDF):\n",
        "    loss = np.sum((np.array(originalDF) - \n",
        "                   np.array(reducedDF))**2, axis=1)\n",
        "    loss = pd.Series(data=loss,index=originalDF.index)\n",
        "    loss = (loss-np.min(loss))/(np.max(loss)-np.min(loss))\n",
        "    return loss"
      ],
      "execution_count": null,
      "outputs": []
    },
    {
      "cell_type": "markdown",
      "metadata": {
        "id": "8HZfadHijLib"
      },
      "source": [
        "Model Three\n",
        "\n",
        "Three layer undercomplete autoencoder with linear activation.\n",
        "With 28 and 27 nodes in the two hidden layers, respectively"
      ]
    },
    {
      "cell_type": "code",
      "metadata": {
        "colab": {
          "base_uri": "https://localhost:8080/"
        },
        "id": "ArU6v25vhfEM",
        "outputId": "c50a1359-e430-46d6-e609-d8719b13cda8"
      },
      "source": [
        "tf.random.set_seed(42)\n",
        "np.random.seed(42)\n",
        "tf.random.set_seed(42)\n",
        "np.random.seed(42)\n",
        "test_scores = []\n",
        "\n",
        "# Call neural network API\n",
        "model = Sequential()\n",
        "\n",
        "# Apply linear activation function to input layer\n",
        "# Generate first hidden layer with 27 nodes\n",
        "# Generate second hidden layer with 28 nodes\n",
        "model.add(Dense(units=28, activation='linear',input_dim=29))\n",
        "model.add(Dense(units=27, activation='linear'))\n",
        "\n",
        "# Apply linear activation function to second hidden layer\n",
        "# Generate output layer with 29 nodes\n",
        "model.add(Dense(units=29, activation='linear'))\n",
        "\n",
        "# Compile the model\n",
        "model.compile(optimizer='adam',\n",
        "              loss='mean_squared_error',\n",
        "              metrics=['accuracy'])\n",
        "\n",
        "# Train the model\n",
        "num_epochs = 10\n",
        "batch_size = 32\n",
        "\n",
        "history = model.fit(x=X_train, y=y_train,\n",
        "                    epochs=num_epochs,\n",
        "                    batch_size=batch_size,\n",
        "                    shuffle=True,\n",
        "                    validation_data=(X_train, y_train),\n",
        "                    verbose=1)\n",
        "\n",
        "\n"
      ],
      "execution_count": null,
      "outputs": [
        {
          "output_type": "stream",
          "text": [
            "Epoch 1/10\n",
            "7121/7121 [==============================] - 15s 2ms/step - loss: 0.0423 - accuracy: 0.0502 - val_loss: 0.0018 - val_accuracy: 0.0037\n",
            "Epoch 2/10\n",
            "7121/7121 [==============================] - 15s 2ms/step - loss: 0.0011 - accuracy: 0.0227 - val_loss: 8.8404e-04 - val_accuracy: 0.0096\n",
            "Epoch 3/10\n",
            "7121/7121 [==============================] - 15s 2ms/step - loss: 9.1330e-04 - accuracy: 0.0219 - val_loss: 0.0012 - val_accuracy: 0.0175\n",
            "Epoch 4/10\n",
            "7121/7121 [==============================] - 15s 2ms/step - loss: 8.9984e-04 - accuracy: 0.0178 - val_loss: 8.6748e-04 - val_accuracy: 0.0704\n",
            "Epoch 5/10\n",
            "7121/7121 [==============================] - 14s 2ms/step - loss: 9.7712e-04 - accuracy: 0.0307 - val_loss: 8.4466e-04 - val_accuracy: 0.0047\n",
            "Epoch 6/10\n",
            "7121/7121 [==============================] - 14s 2ms/step - loss: 9.7450e-04 - accuracy: 0.0351 - val_loss: 8.6196e-04 - val_accuracy: 0.0013\n",
            "Epoch 7/10\n",
            "7121/7121 [==============================] - 15s 2ms/step - loss: 9.7899e-04 - accuracy: 0.0351 - val_loss: 8.8140e-04 - val_accuracy: 0.0058\n",
            "Epoch 8/10\n",
            "7121/7121 [==============================] - 16s 2ms/step - loss: 9.5312e-04 - accuracy: 0.0176 - val_loss: 8.9339e-04 - val_accuracy: 0.0509\n",
            "Epoch 9/10\n",
            "7121/7121 [==============================] - 14s 2ms/step - loss: 9.4745e-04 - accuracy: 0.0197 - val_loss: 9.4874e-04 - val_accuracy: 0.0186\n",
            "Epoch 10/10\n",
            "7121/7121 [==============================] - 15s 2ms/step - loss: 8.2025e-04 - accuracy: 0.0130 - val_loss: 8.3934e-04 - val_accuracy: 0.0329\n"
          ],
          "name": "stdout"
        }
      ]
    },
    {
      "cell_type": "code",
      "metadata": {
        "colab": {
          "base_uri": "https://localhost:8080/"
        },
        "id": "AA1vrckql1hX",
        "outputId": "be7ae1cb-64a7-49b9-efed-dd0b53bbb9f6"
      },
      "source": [
        "!pip install h2o"
      ],
      "execution_count": null,
      "outputs": [
        {
          "output_type": "stream",
          "text": [
            "Collecting h2o\n",
            "\u001b[?25l  Downloading https://files.pythonhosted.org/packages/d4/d4/5c07504a392e94786e7cf33554d961ac4b2863aa22a07b8579940ea1f6b5/h2o-3.32.0.4.tar.gz (164.6MB)\n",
            "\u001b[K     |████████████████████████████████| 164.6MB 48kB/s \n",
            "\u001b[?25hRequirement already satisfied: requests in /usr/local/lib/python3.7/dist-packages (from h2o) (2.23.0)\n",
            "Requirement already satisfied: tabulate in /usr/local/lib/python3.7/dist-packages (from h2o) (0.8.9)\n",
            "Requirement already satisfied: future in /usr/local/lib/python3.7/dist-packages (from h2o) (0.16.0)\n",
            "Collecting colorama>=0.3.8\n",
            "  Downloading https://files.pythonhosted.org/packages/44/98/5b86278fbbf250d239ae0ecb724f8572af1c91f4a11edf4d36a206189440/colorama-0.4.4-py2.py3-none-any.whl\n",
            "Requirement already satisfied: certifi>=2017.4.17 in /usr/local/lib/python3.7/dist-packages (from requests->h2o) (2020.12.5)\n",
            "Requirement already satisfied: idna<3,>=2.5 in /usr/local/lib/python3.7/dist-packages (from requests->h2o) (2.10)\n",
            "Requirement already satisfied: chardet<4,>=3.0.2 in /usr/local/lib/python3.7/dist-packages (from requests->h2o) (3.0.4)\n",
            "Requirement already satisfied: urllib3!=1.25.0,!=1.25.1,<1.26,>=1.21.1 in /usr/local/lib/python3.7/dist-packages (from requests->h2o) (1.24.3)\n",
            "Building wheels for collected packages: h2o\n",
            "  Building wheel for h2o (setup.py) ... \u001b[?25l\u001b[?25hdone\n",
            "  Created wheel for h2o: filename=h2o-3.32.0.4-py2.py3-none-any.whl size=164670979 sha256=fb9b99795d860c4a0432b17e2d9c95c1ef42eb4e97c0d464a223b4a99370f923\n",
            "  Stored in directory: /root/.cache/pip/wheels/65/f4/0d/c9bb958d70c2e015c968cb91cbd7f1b486933056d422337d75\n",
            "Successfully built h2o\n",
            "Installing collected packages: colorama, h2o\n",
            "Successfully installed colorama-0.4.4 h2o-3.32.0.4\n"
          ],
          "name": "stdout"
        }
      ]
    },
    {
      "cell_type": "code",
      "metadata": {
        "colab": {
          "base_uri": "https://localhost:8080/",
          "height": 545
        },
        "id": "FnAtlCg0lrXU",
        "outputId": "74cd0244-55e1-4d92-d8cb-772dbdc3a48e"
      },
      "source": [
        "import h2o\n",
        "h2o.init()"
      ],
      "execution_count": null,
      "outputs": [
        {
          "output_type": "stream",
          "text": [
            "Checking whether there is an H2O instance running at http://localhost:54321 ..... not found.\n",
            "Attempting to start a local H2O server...\n",
            "  Java Version: openjdk version \"11.0.10\" 2021-01-19; OpenJDK Runtime Environment (build 11.0.10+9-Ubuntu-0ubuntu1.18.04); OpenJDK 64-Bit Server VM (build 11.0.10+9-Ubuntu-0ubuntu1.18.04, mixed mode, sharing)\n",
            "  Starting server from /usr/local/lib/python3.7/dist-packages/h2o/backend/bin/h2o.jar\n",
            "  Ice root: /tmp/tmpd5ptwz9s\n",
            "  JVM stdout: /tmp/tmpd5ptwz9s/h2o_unknownUser_started_from_python.out\n",
            "  JVM stderr: /tmp/tmpd5ptwz9s/h2o_unknownUser_started_from_python.err\n",
            "  Server is running at http://127.0.0.1:54321\n",
            "Connecting to H2O server at http://127.0.0.1:54321 ... successful.\n"
          ],
          "name": "stdout"
        },
        {
          "output_type": "display_data",
          "data": {
            "text/html": [
              "<div style=\"overflow:auto\"><table style=\"width:50%\"><tr><td>H2O_cluster_uptime:</td>\n",
              "<td>03 secs</td></tr>\n",
              "<tr><td>H2O_cluster_timezone:</td>\n",
              "<td>Etc/UTC</td></tr>\n",
              "<tr><td>H2O_data_parsing_timezone:</td>\n",
              "<td>UTC</td></tr>\n",
              "<tr><td>H2O_cluster_version:</td>\n",
              "<td>3.32.0.4</td></tr>\n",
              "<tr><td>H2O_cluster_version_age:</td>\n",
              "<td>1 month and 3 days </td></tr>\n",
              "<tr><td>H2O_cluster_name:</td>\n",
              "<td>H2O_from_python_unknownUser_2kxmgc</td></tr>\n",
              "<tr><td>H2O_cluster_total_nodes:</td>\n",
              "<td>1</td></tr>\n",
              "<tr><td>H2O_cluster_free_memory:</td>\n",
              "<td>3.180 Gb</td></tr>\n",
              "<tr><td>H2O_cluster_total_cores:</td>\n",
              "<td>2</td></tr>\n",
              "<tr><td>H2O_cluster_allowed_cores:</td>\n",
              "<td>2</td></tr>\n",
              "<tr><td>H2O_cluster_status:</td>\n",
              "<td>accepting new members, healthy</td></tr>\n",
              "<tr><td>H2O_connection_url:</td>\n",
              "<td>http://127.0.0.1:54321</td></tr>\n",
              "<tr><td>H2O_connection_proxy:</td>\n",
              "<td>{\"http\": null, \"https\": null}</td></tr>\n",
              "<tr><td>H2O_internal_security:</td>\n",
              "<td>False</td></tr>\n",
              "<tr><td>H2O_API_Extensions:</td>\n",
              "<td>Amazon S3, XGBoost, Algos, AutoML, Core V3, TargetEncoder, Core V4</td></tr>\n",
              "<tr><td>Python_version:</td>\n",
              "<td>3.7.10 final</td></tr></table></div>"
            ],
            "text/plain": [
              "--------------------------  ------------------------------------------------------------------\n",
              "H2O_cluster_uptime:         03 secs\n",
              "H2O_cluster_timezone:       Etc/UTC\n",
              "H2O_data_parsing_timezone:  UTC\n",
              "H2O_cluster_version:        3.32.0.4\n",
              "H2O_cluster_version_age:    1 month and 3 days\n",
              "H2O_cluster_name:           H2O_from_python_unknownUser_2kxmgc\n",
              "H2O_cluster_total_nodes:    1\n",
              "H2O_cluster_free_memory:    3.180 Gb\n",
              "H2O_cluster_total_cores:    2\n",
              "H2O_cluster_allowed_cores:  2\n",
              "H2O_cluster_status:         accepting new members, healthy\n",
              "H2O_connection_url:         http://127.0.0.1:54321\n",
              "H2O_connection_proxy:       {\"http\": null, \"https\": null}\n",
              "H2O_internal_security:      False\n",
              "H2O_API_Extensions:         Amazon S3, XGBoost, Algos, AutoML, Core V3, TargetEncoder, Core V4\n",
              "Python_version:             3.7.10 final\n",
              "--------------------------  ------------------------------------------------------------------"
            ]
          },
          "metadata": {
            "tags": []
          }
        }
      ]
    },
    {
      "cell_type": "code",
      "metadata": {
        "colab": {
          "base_uri": "https://localhost:8080/",
          "height": 241
        },
        "id": "7dnxrxOPmWVS",
        "outputId": "60d38c2b-3bf4-48e9-911f-f917423828dd"
      },
      "source": [
        "# Evaluate on train set\n",
        "predictions = model.predict(X_train, verbose=1) # prediction is nearly the same as X_train\n",
        "predictions = pd.DataFrame(data=predictions,index=X_train.index)\n",
        "predictions.head()"
      ],
      "execution_count": null,
      "outputs": [
        {
          "output_type": "stream",
          "text": [
            "7121/7121 [==============================] - 7s 1ms/step\n"
          ],
          "name": "stdout"
        },
        {
          "output_type": "execute_result",
          "data": {
            "text/html": [
              "<div>\n",
              "<style scoped>\n",
              "    .dataframe tbody tr th:only-of-type {\n",
              "        vertical-align: middle;\n",
              "    }\n",
              "\n",
              "    .dataframe tbody tr th {\n",
              "        vertical-align: top;\n",
              "    }\n",
              "\n",
              "    .dataframe thead th {\n",
              "        text-align: right;\n",
              "    }\n",
              "</style>\n",
              "<table border=\"1\" class=\"dataframe\">\n",
              "  <thead>\n",
              "    <tr style=\"text-align: right;\">\n",
              "      <th></th>\n",
              "      <th>0</th>\n",
              "      <th>1</th>\n",
              "      <th>2</th>\n",
              "      <th>3</th>\n",
              "      <th>4</th>\n",
              "      <th>5</th>\n",
              "      <th>6</th>\n",
              "      <th>7</th>\n",
              "      <th>8</th>\n",
              "      <th>9</th>\n",
              "      <th>10</th>\n",
              "      <th>11</th>\n",
              "      <th>12</th>\n",
              "      <th>13</th>\n",
              "      <th>14</th>\n",
              "      <th>15</th>\n",
              "      <th>16</th>\n",
              "      <th>17</th>\n",
              "      <th>18</th>\n",
              "      <th>19</th>\n",
              "      <th>20</th>\n",
              "      <th>21</th>\n",
              "      <th>22</th>\n",
              "      <th>23</th>\n",
              "      <th>24</th>\n",
              "      <th>25</th>\n",
              "      <th>26</th>\n",
              "      <th>27</th>\n",
              "      <th>28</th>\n",
              "    </tr>\n",
              "  </thead>\n",
              "  <tbody>\n",
              "    <tr>\n",
              "      <th>212834</th>\n",
              "      <td>0.000892</td>\n",
              "      <td>-0.000771</td>\n",
              "      <td>-0.000132</td>\n",
              "      <td>-0.000731</td>\n",
              "      <td>0.000409</td>\n",
              "      <td>0.000350</td>\n",
              "      <td>0.001214</td>\n",
              "      <td>-0.001293</td>\n",
              "      <td>-0.000168</td>\n",
              "      <td>-0.000470</td>\n",
              "      <td>-0.000780</td>\n",
              "      <td>0.000485</td>\n",
              "      <td>0.001509</td>\n",
              "      <td>0.000147</td>\n",
              "      <td>0.001013</td>\n",
              "      <td>0.001370</td>\n",
              "      <td>-0.000879</td>\n",
              "      <td>0.000517</td>\n",
              "      <td>0.002528</td>\n",
              "      <td>0.000232</td>\n",
              "      <td>0.001192</td>\n",
              "      <td>0.000574</td>\n",
              "      <td>0.000637</td>\n",
              "      <td>0.000198</td>\n",
              "      <td>0.000861</td>\n",
              "      <td>0.002962</td>\n",
              "      <td>0.001041</td>\n",
              "      <td>-0.000003</td>\n",
              "      <td>-0.001984</td>\n",
              "    </tr>\n",
              "    <tr>\n",
              "      <th>175643</th>\n",
              "      <td>0.000345</td>\n",
              "      <td>-0.000047</td>\n",
              "      <td>0.000655</td>\n",
              "      <td>0.000213</td>\n",
              "      <td>-0.000186</td>\n",
              "      <td>0.000172</td>\n",
              "      <td>0.000160</td>\n",
              "      <td>0.000189</td>\n",
              "      <td>-0.000004</td>\n",
              "      <td>-0.000158</td>\n",
              "      <td>0.000738</td>\n",
              "      <td>-0.000446</td>\n",
              "      <td>0.000100</td>\n",
              "      <td>0.000398</td>\n",
              "      <td>0.000079</td>\n",
              "      <td>-0.000196</td>\n",
              "      <td>-0.000296</td>\n",
              "      <td>-0.000141</td>\n",
              "      <td>0.000285</td>\n",
              "      <td>-0.000308</td>\n",
              "      <td>0.000815</td>\n",
              "      <td>0.000579</td>\n",
              "      <td>0.000243</td>\n",
              "      <td>0.000091</td>\n",
              "      <td>-0.000433</td>\n",
              "      <td>-0.000347</td>\n",
              "      <td>-0.000413</td>\n",
              "      <td>0.000027</td>\n",
              "      <td>-0.000459</td>\n",
              "    </tr>\n",
              "    <tr>\n",
              "      <th>32164</th>\n",
              "      <td>0.003402</td>\n",
              "      <td>0.002823</td>\n",
              "      <td>0.002259</td>\n",
              "      <td>0.002218</td>\n",
              "      <td>0.002788</td>\n",
              "      <td>0.002384</td>\n",
              "      <td>0.002400</td>\n",
              "      <td>0.001947</td>\n",
              "      <td>0.002298</td>\n",
              "      <td>0.002736</td>\n",
              "      <td>0.002181</td>\n",
              "      <td>0.002197</td>\n",
              "      <td>0.003172</td>\n",
              "      <td>0.002505</td>\n",
              "      <td>0.002462</td>\n",
              "      <td>0.002865</td>\n",
              "      <td>0.002564</td>\n",
              "      <td>0.003177</td>\n",
              "      <td>0.003627</td>\n",
              "      <td>0.002733</td>\n",
              "      <td>0.003624</td>\n",
              "      <td>0.002510</td>\n",
              "      <td>0.003502</td>\n",
              "      <td>0.003308</td>\n",
              "      <td>0.003183</td>\n",
              "      <td>0.004588</td>\n",
              "      <td>0.003929</td>\n",
              "      <td>0.002555</td>\n",
              "      <td>0.001302</td>\n",
              "    </tr>\n",
              "    <tr>\n",
              "      <th>79783</th>\n",
              "      <td>0.000690</td>\n",
              "      <td>-0.000109</td>\n",
              "      <td>0.000094</td>\n",
              "      <td>0.000066</td>\n",
              "      <td>0.000843</td>\n",
              "      <td>0.000521</td>\n",
              "      <td>0.001290</td>\n",
              "      <td>-0.000176</td>\n",
              "      <td>-0.000185</td>\n",
              "      <td>-0.000469</td>\n",
              "      <td>-0.000224</td>\n",
              "      <td>-0.000592</td>\n",
              "      <td>0.001265</td>\n",
              "      <td>0.000873</td>\n",
              "      <td>0.000553</td>\n",
              "      <td>0.000979</td>\n",
              "      <td>-0.000490</td>\n",
              "      <td>-0.000002</td>\n",
              "      <td>0.001635</td>\n",
              "      <td>0.000229</td>\n",
              "      <td>0.001166</td>\n",
              "      <td>0.000915</td>\n",
              "      <td>0.000512</td>\n",
              "      <td>0.000899</td>\n",
              "      <td>0.000112</td>\n",
              "      <td>0.001772</td>\n",
              "      <td>0.000815</td>\n",
              "      <td>0.000228</td>\n",
              "      <td>-0.001483</td>\n",
              "    </tr>\n",
              "    <tr>\n",
              "      <th>107026</th>\n",
              "      <td>0.002067</td>\n",
              "      <td>0.000457</td>\n",
              "      <td>0.001548</td>\n",
              "      <td>0.001501</td>\n",
              "      <td>0.001307</td>\n",
              "      <td>0.002437</td>\n",
              "      <td>0.002059</td>\n",
              "      <td>0.001437</td>\n",
              "      <td>0.001543</td>\n",
              "      <td>0.001447</td>\n",
              "      <td>0.001730</td>\n",
              "      <td>0.002184</td>\n",
              "      <td>0.002102</td>\n",
              "      <td>0.001810</td>\n",
              "      <td>0.002378</td>\n",
              "      <td>0.002072</td>\n",
              "      <td>0.000882</td>\n",
              "      <td>0.002552</td>\n",
              "      <td>0.002423</td>\n",
              "      <td>0.001581</td>\n",
              "      <td>0.001981</td>\n",
              "      <td>0.002110</td>\n",
              "      <td>0.001965</td>\n",
              "      <td>0.001405</td>\n",
              "      <td>0.002318</td>\n",
              "      <td>0.002944</td>\n",
              "      <td>0.001714</td>\n",
              "      <td>0.001335</td>\n",
              "      <td>0.001117</td>\n",
              "    </tr>\n",
              "  </tbody>\n",
              "</table>\n",
              "</div>"
            ],
            "text/plain": [
              "              0         1         2   ...        26        27        28\n",
              "212834  0.000892 -0.000771 -0.000132  ...  0.001041 -0.000003 -0.001984\n",
              "175643  0.000345 -0.000047  0.000655  ... -0.000413  0.000027 -0.000459\n",
              "32164   0.003402  0.002823  0.002259  ...  0.003929  0.002555  0.001302\n",
              "79783   0.000690 -0.000109  0.000094  ...  0.000815  0.000228 -0.001483\n",
              "107026  0.002067  0.000457  0.001548  ...  0.001714  0.001335  0.001117\n",
              "\n",
              "[5 rows x 29 columns]"
            ]
          },
          "metadata": {
            "tags": []
          },
          "execution_count": 70
        }
      ]
    },
    {
      "cell_type": "code",
      "metadata": {
        "colab": {
          "base_uri": "https://localhost:8080/",
          "height": 224
        },
        "id": "AwoiRbmesonv",
        "outputId": "3e515c20-57f5-4823-c240-2c7fc447f86e"
      },
      "source": [
        "X_train.head()"
      ],
      "execution_count": null,
      "outputs": [
        {
          "output_type": "execute_result",
          "data": {
            "text/html": [
              "<div>\n",
              "<style scoped>\n",
              "    .dataframe tbody tr th:only-of-type {\n",
              "        vertical-align: middle;\n",
              "    }\n",
              "\n",
              "    .dataframe tbody tr th {\n",
              "        vertical-align: top;\n",
              "    }\n",
              "\n",
              "    .dataframe thead th {\n",
              "        text-align: right;\n",
              "    }\n",
              "</style>\n",
              "<table border=\"1\" class=\"dataframe\">\n",
              "  <thead>\n",
              "    <tr style=\"text-align: right;\">\n",
              "      <th></th>\n",
              "      <th>V1</th>\n",
              "      <th>V2</th>\n",
              "      <th>V3</th>\n",
              "      <th>V4</th>\n",
              "      <th>V5</th>\n",
              "      <th>V6</th>\n",
              "      <th>V7</th>\n",
              "      <th>V8</th>\n",
              "      <th>V9</th>\n",
              "      <th>V10</th>\n",
              "      <th>V11</th>\n",
              "      <th>V12</th>\n",
              "      <th>V13</th>\n",
              "      <th>V14</th>\n",
              "      <th>V15</th>\n",
              "      <th>V16</th>\n",
              "      <th>V17</th>\n",
              "      <th>V18</th>\n",
              "      <th>V19</th>\n",
              "      <th>V20</th>\n",
              "      <th>V21</th>\n",
              "      <th>V22</th>\n",
              "      <th>V23</th>\n",
              "      <th>V24</th>\n",
              "      <th>V25</th>\n",
              "      <th>V26</th>\n",
              "      <th>V27</th>\n",
              "      <th>V28</th>\n",
              "      <th>Amount</th>\n",
              "    </tr>\n",
              "  </thead>\n",
              "  <tbody>\n",
              "    <tr>\n",
              "      <th>212834</th>\n",
              "      <td>-0.193563</td>\n",
              "      <td>-0.136547</td>\n",
              "      <td>-0.044610</td>\n",
              "      <td>-1.471851</td>\n",
              "      <td>0.299420</td>\n",
              "      <td>-0.447038</td>\n",
              "      <td>0.065017</td>\n",
              "      <td>-0.903609</td>\n",
              "      <td>-0.798323</td>\n",
              "      <td>0.777325</td>\n",
              "      <td>0.567004</td>\n",
              "      <td>-1.292424</td>\n",
              "      <td>-1.835557</td>\n",
              "      <td>0.267809</td>\n",
              "      <td>-0.676375</td>\n",
              "      <td>1.297130</td>\n",
              "      <td>-0.277600</td>\n",
              "      <td>-0.458910</td>\n",
              "      <td>0.618104</td>\n",
              "      <td>-0.431244</td>\n",
              "      <td>1.781078</td>\n",
              "      <td>1.908755</td>\n",
              "      <td>-0.224010</td>\n",
              "      <td>1.282179</td>\n",
              "      <td>-1.551742</td>\n",
              "      <td>-0.388800</td>\n",
              "      <td>0.018078</td>\n",
              "      <td>0.019746</td>\n",
              "      <td>-0.189908</td>\n",
              "    </tr>\n",
              "    <tr>\n",
              "      <th>175643</th>\n",
              "      <td>1.145707</td>\n",
              "      <td>-0.464983</td>\n",
              "      <td>-1.365275</td>\n",
              "      <td>-0.886248</td>\n",
              "      <td>0.305657</td>\n",
              "      <td>0.066829</td>\n",
              "      <td>-0.273461</td>\n",
              "      <td>-0.153975</td>\n",
              "      <td>-0.720206</td>\n",
              "      <td>0.881148</td>\n",
              "      <td>0.098351</td>\n",
              "      <td>0.322958</td>\n",
              "      <td>1.307987</td>\n",
              "      <td>-0.171925</td>\n",
              "      <td>-1.092521</td>\n",
              "      <td>1.037590</td>\n",
              "      <td>-0.323926</td>\n",
              "      <td>-0.816001</td>\n",
              "      <td>1.463272</td>\n",
              "      <td>0.145879</td>\n",
              "      <td>0.755524</td>\n",
              "      <td>2.356802</td>\n",
              "      <td>-0.473290</td>\n",
              "      <td>-0.455927</td>\n",
              "      <td>1.229323</td>\n",
              "      <td>0.632015</td>\n",
              "      <td>-0.113455</td>\n",
              "      <td>-0.257673</td>\n",
              "      <td>-0.253277</td>\n",
              "    </tr>\n",
              "    <tr>\n",
              "      <th>32164</th>\n",
              "      <td>-0.132705</td>\n",
              "      <td>0.713528</td>\n",
              "      <td>0.633126</td>\n",
              "      <td>0.630864</td>\n",
              "      <td>0.100135</td>\n",
              "      <td>0.231616</td>\n",
              "      <td>0.130995</td>\n",
              "      <td>-1.418178</td>\n",
              "      <td>-0.417453</td>\n",
              "      <td>0.428285</td>\n",
              "      <td>1.664365</td>\n",
              "      <td>1.082977</td>\n",
              "      <td>0.337247</td>\n",
              "      <td>0.279745</td>\n",
              "      <td>0.476292</td>\n",
              "      <td>-0.411223</td>\n",
              "      <td>-0.270911</td>\n",
              "      <td>-0.000925</td>\n",
              "      <td>0.079491</td>\n",
              "      <td>-0.446114</td>\n",
              "      <td>2.304290</td>\n",
              "      <td>0.332887</td>\n",
              "      <td>0.582661</td>\n",
              "      <td>0.332978</td>\n",
              "      <td>-2.285405</td>\n",
              "      <td>-1.196946</td>\n",
              "      <td>0.395602</td>\n",
              "      <td>-0.122872</td>\n",
              "      <td>-0.273268</td>\n",
              "    </tr>\n",
              "    <tr>\n",
              "      <th>79783</th>\n",
              "      <td>0.677347</td>\n",
              "      <td>-0.593270</td>\n",
              "      <td>0.134047</td>\n",
              "      <td>-0.819728</td>\n",
              "      <td>-0.374058</td>\n",
              "      <td>0.793413</td>\n",
              "      <td>-0.989350</td>\n",
              "      <td>0.295608</td>\n",
              "      <td>-0.421328</td>\n",
              "      <td>0.672262</td>\n",
              "      <td>-0.039082</td>\n",
              "      <td>-0.728508</td>\n",
              "      <td>-0.042104</td>\n",
              "      <td>-0.215013</td>\n",
              "      <td>0.938789</td>\n",
              "      <td>2.189987</td>\n",
              "      <td>-0.602120</td>\n",
              "      <td>-0.197767</td>\n",
              "      <td>0.977359</td>\n",
              "      <td>0.230517</td>\n",
              "      <td>0.499247</td>\n",
              "      <td>1.235857</td>\n",
              "      <td>-0.528168</td>\n",
              "      <td>-2.753810</td>\n",
              "      <td>0.998054</td>\n",
              "      <td>0.138978</td>\n",
              "      <td>0.089492</td>\n",
              "      <td>0.003362</td>\n",
              "      <td>-0.133535</td>\n",
              "    </tr>\n",
              "    <tr>\n",
              "      <th>107026</th>\n",
              "      <td>-0.161335</td>\n",
              "      <td>0.702321</td>\n",
              "      <td>0.761409</td>\n",
              "      <td>-0.019016</td>\n",
              "      <td>0.180568</td>\n",
              "      <td>-0.574303</td>\n",
              "      <td>0.599706</td>\n",
              "      <td>-0.067450</td>\n",
              "      <td>-0.410422</td>\n",
              "      <td>-0.483954</td>\n",
              "      <td>-0.433314</td>\n",
              "      <td>0.084132</td>\n",
              "      <td>0.714155</td>\n",
              "      <td>-0.580312</td>\n",
              "      <td>0.941704</td>\n",
              "      <td>0.527760</td>\n",
              "      <td>-0.179441</td>\n",
              "      <td>-0.103065</td>\n",
              "      <td>0.049886</td>\n",
              "      <td>0.207703</td>\n",
              "      <td>-0.382678</td>\n",
              "      <td>-0.981056</td>\n",
              "      <td>-0.103749</td>\n",
              "      <td>-0.019104</td>\n",
              "      <td>-0.181466</td>\n",
              "      <td>0.191556</td>\n",
              "      <td>0.615710</td>\n",
              "      <td>0.290262</td>\n",
              "      <td>-0.338876</td>\n",
              "    </tr>\n",
              "  </tbody>\n",
              "</table>\n",
              "</div>"
            ],
            "text/plain": [
              "              V1        V2        V3  ...       V27       V28    Amount\n",
              "212834 -0.193563 -0.136547 -0.044610  ...  0.018078  0.019746 -0.189908\n",
              "175643  1.145707 -0.464983 -1.365275  ... -0.113455 -0.257673 -0.253277\n",
              "32164  -0.132705  0.713528  0.633126  ...  0.395602 -0.122872 -0.273268\n",
              "79783   0.677347 -0.593270  0.134047  ...  0.089492  0.003362 -0.133535\n",
              "107026 -0.161335  0.702321  0.761409  ...  0.615710  0.290262 -0.338876\n",
              "\n",
              "[5 rows x 29 columns]"
            ]
          },
          "metadata": {
            "tags": []
          },
          "execution_count": 63
        }
      ]
    },
    {
      "cell_type": "code",
      "metadata": {
        "colab": {
          "base_uri": "https://localhost:8080/"
        },
        "id": "GMsKYwfGtUnk",
        "outputId": "09a42730-6d0b-449e-c71c-ab90fe693339"
      },
      "source": [
        "originalDF = X_train\n",
        "reducedDF = predictions\n",
        "loss = np.sum((np.array(originalDF) - \n",
        "                np.array(reducedDF))**2, axis=1)\n",
        "loss = pd.Series(data=loss,index=originalDF.index)\n",
        "loss = (loss-np.min(loss))/(np.max(loss)-np.min(loss))\n",
        "loss"
      ],
      "execution_count": null,
      "outputs": [
        {
          "output_type": "execute_result",
          "data": {
            "text/plain": [
              "212834    0.000419\n",
              "175643    0.000360\n",
              "32164     0.000360\n",
              "79783     0.000381\n",
              "107026    0.000044\n",
              "            ...   \n",
              "48687     0.000331\n",
              "159608    0.000166\n",
              "205176    0.001988\n",
              "197673    0.000749\n",
              "151952    0.000664\n",
              "Length: 227845, dtype: float64"
            ]
          },
          "metadata": {
            "tags": []
          },
          "execution_count": 71
        }
      ]
    },
    {
      "cell_type": "code",
      "metadata": {
        "colab": {
          "base_uri": "https://localhost:8080/",
          "height": 246
        },
        "id": "FfpfiSlshfGj",
        "outputId": "9305425f-31f8-46fd-c2cb-fa2e650f9c1a"
      },
      "source": [
        "#anomalyScores = anomalyScores(X_train, predictions)\n",
        "anomalyScores = loss\n",
        "anomalyScores_h2o = h2o.H2OFrame(pd.DataFrame(anomalyScores))\n",
        "anomalyScores_h2o.quantile() # ti le fraud\n",
        "anomalyScores_h2o.quantile(prob=[0.998271]) # ti le fraud"
      ],
      "execution_count": null,
      "outputs": [
        {
          "output_type": "stream",
          "text": [
            "Parse progress: |█████████████████████████████████████████████████████████| 100%\n"
          ],
          "name": "stdout"
        },
        {
          "output_type": "display_data",
          "data": {
            "text/html": [
              "<table>\n",
              "<thead>\n",
              "<tr><th style=\"text-align: right;\">  Probs</th><th style=\"text-align: right;\">  0Quantiles</th></tr>\n",
              "</thead>\n",
              "<tbody>\n",
              "<tr><td style=\"text-align: right;\">  0.01 </td><td style=\"text-align: right;\"> 4.2841e-05 </td></tr>\n",
              "<tr><td style=\"text-align: right;\">  0.1  </td><td style=\"text-align: right;\"> 9.31087e-05</td></tr>\n",
              "<tr><td style=\"text-align: right;\">  0.25 </td><td style=\"text-align: right;\"> 0.000156913</td></tr>\n",
              "<tr><td style=\"text-align: right;\">  0.333</td><td style=\"text-align: right;\"> 0.000194149</td></tr>\n",
              "<tr><td style=\"text-align: right;\">  0.5  </td><td style=\"text-align: right;\"> 0.000278055</td></tr>\n",
              "<tr><td style=\"text-align: right;\">  0.667</td><td style=\"text-align: right;\"> 0.000390163</td></tr>\n",
              "<tr><td style=\"text-align: right;\">  0.75 </td><td style=\"text-align: right;\"> 0.000461186</td></tr>\n",
              "<tr><td style=\"text-align: right;\">  0.9  </td><td style=\"text-align: right;\"> 0.000741543</td></tr>\n",
              "<tr><td style=\"text-align: right;\">  0.99 </td><td style=\"text-align: right;\"> 0.00476261 </td></tr>\n",
              "</tbody>\n",
              "</table>"
            ]
          },
          "metadata": {
            "tags": []
          }
        },
        {
          "output_type": "execute_result",
          "data": {
            "text/plain": [
              ""
            ]
          },
          "metadata": {
            "tags": []
          },
          "execution_count": 72
        }
      ]
    },
    {
      "cell_type": "code",
      "metadata": {
        "colab": {
          "base_uri": "https://localhost:8080/",
          "height": 61
        },
        "id": "0y1cH3_0szEs",
        "outputId": "256dc7ba-cc06-4307-c0b8-70d7ff587e48"
      },
      "source": [
        "anomalyScores_h2o.quantile(prob=[0.998271]) # ti le fraud"
      ],
      "execution_count": null,
      "outputs": [
        {
          "output_type": "display_data",
          "data": {
            "text/html": [
              "<table>\n",
              "<thead>\n",
              "<tr><th style=\"text-align: right;\">   Probs</th><th style=\"text-align: right;\">  0Quantiles</th></tr>\n",
              "</thead>\n",
              "<tbody>\n",
              "<tr><td style=\"text-align: right;\">0.998271</td><td style=\"text-align: right;\">   0.0183468</td></tr>\n",
              "</tbody>\n",
              "</table>"
            ]
          },
          "metadata": {
            "tags": []
          }
        },
        {
          "output_type": "execute_result",
          "data": {
            "text/plain": [
              ""
            ]
          },
          "metadata": {
            "tags": []
          },
          "execution_count": 66
        }
      ]
    },
    {
      "cell_type": "code",
      "metadata": {
        "colab": {
          "base_uri": "https://localhost:8080/"
        },
        "id": "f7jP84uzhfJK",
        "outputId": "c87b4df6-3540-43ee-ac15-38ed2509a362"
      },
      "source": [
        "best_threshold=0.0183468\n",
        "y_pred_new = [1 if x >= best_threshold else 0 for x in anomalyScores]\n",
        "confmat = confusion_matrix(y_train,y_pred_new)\n",
        "print('accuracy_score: \\n',accuracy_score(y_train, y_pred_new))\n",
        "print('confusion_matrix \\n',confmat)\n",
        "print('classification_report \\n',classification_report(y_train, y_pred_new))"
      ],
      "execution_count": null,
      "outputs": [
        {
          "output_type": "stream",
          "text": [
            "accuracy_score: \n",
            " 0.997340297131822\n",
            "confusion_matrix \n",
            " [[227148    303]\n",
            " [   303     91]]\n",
            "classification_report \n",
            "               precision    recall  f1-score   support\n",
            "\n",
            "           0       1.00      1.00      1.00    227451\n",
            "           1       0.23      0.23      0.23       394\n",
            "\n",
            "    accuracy                           1.00    227845\n",
            "   macro avg       0.61      0.61      0.61    227845\n",
            "weighted avg       1.00      1.00      1.00    227845\n",
            "\n"
          ],
          "name": "stdout"
        }
      ]
    },
    {
      "cell_type": "code",
      "metadata": {
        "colab": {
          "base_uri": "https://localhost:8080/"
        },
        "id": "bDOQVKU-vdr2",
        "outputId": "12c643c7-bf1b-44bb-ef39-cfc2754368e6"
      },
      "source": [
        "y_train"
      ],
      "execution_count": null,
      "outputs": [
        {
          "output_type": "execute_result",
          "data": {
            "text/plain": [
              "212834    0\n",
              "175643    0\n",
              "32164     0\n",
              "79783     0\n",
              "107026    0\n",
              "         ..\n",
              "48687     0\n",
              "159608    0\n",
              "205176    0\n",
              "197673    0\n",
              "151952    0\n",
              "Name: Class, Length: 227845, dtype: int64"
            ]
          },
          "metadata": {
            "tags": []
          },
          "execution_count": 74
        }
      ]
    },
    {
      "cell_type": "code",
      "metadata": {
        "colab": {
          "base_uri": "https://localhost:8080/"
        },
        "id": "nsqcHIFuvXvt",
        "outputId": "50bc17e7-c5d7-4881-cb1e-c1f63fe17831"
      },
      "source": [
        "len(y_pred_new) # list"
      ],
      "execution_count": null,
      "outputs": [
        {
          "output_type": "execute_result",
          "data": {
            "text/plain": [
              "227845"
            ]
          },
          "metadata": {
            "tags": []
          },
          "execution_count": 76
        }
      ]
    },
    {
      "cell_type": "code",
      "metadata": {
        "colab": {
          "base_uri": "https://localhost:8080/"
        },
        "id": "ot6-0IiShfLx",
        "outputId": "695dba9f-1374-4788-d78a-fc8ab34a70c8"
      },
      "source": [
        "# Evaluate on test set\n",
        "predictions = model.predict(X_test, verbose=1) # prediction is nearly the same as X_train\n",
        "predictions = pd.DataFrame(data=predictions,index=X_test.index)\n",
        "\n",
        "originalDF = X_test\n",
        "reducedDF = predictions\n",
        "loss = np.sum((np.array(originalDF) - \n",
        "                np.array(reducedDF))**2, axis=1)\n",
        "loss = pd.Series(data=loss,index=originalDF.index)\n",
        "loss = (loss-np.min(loss))/(np.max(loss)-np.min(loss))\n",
        "anomalyScores=loss\n",
        "best_threshold=0.0183468\n",
        "y_pred_new = [1 if x >= best_threshold else 0 for x in anomalyScores]\n",
        "confmat = confusion_matrix(y_test,y_pred_new)\n",
        "print('accuracy_score: \\n',accuracy_score(y_test, y_pred_new))\n",
        "print('confusion_matrix \\n',confmat)\n",
        "print('classification_report \\n',classification_report(y_test, y_pred_new))"
      ],
      "execution_count": null,
      "outputs": [
        {
          "output_type": "stream",
          "text": [
            "1781/1781 [==============================] - 2s 990us/step\n",
            "accuracy_score: \n",
            " 0.9911695516309118\n",
            "confusion_matrix \n",
            " [[56399   465]\n",
            " [   38    60]]\n",
            "classification_report \n",
            "               precision    recall  f1-score   support\n",
            "\n",
            "           0       1.00      0.99      1.00     56864\n",
            "           1       0.11      0.61      0.19        98\n",
            "\n",
            "    accuracy                           0.99     56962\n",
            "   macro avg       0.56      0.80      0.59     56962\n",
            "weighted avg       1.00      0.99      0.99     56962\n",
            "\n"
          ],
          "name": "stdout"
        }
      ]
    },
    {
      "cell_type": "markdown",
      "metadata": {
        "id": "fAD-ygwbwklh"
      },
      "source": [
        "Model eight\r\n",
        "\r\n",
        "Two layer sparse overcomplete autoencoder with linear activation and dropout\r\n",
        "29 -> 40 -> 29\r\n",
        "Dropout percentage: 5%"
      ]
    },
    {
      "cell_type": "code",
      "metadata": {
        "colab": {
          "base_uri": "https://localhost:8080/"
        },
        "id": "FjnDenovg_RM",
        "outputId": "f72881cf-c75b-4747-9c6b-6f5cfb1b834c"
      },
      "source": [
        "model = Sequential()\n",
        "\n",
        "model.add(Dense(units=40, activation='linear',  \\\n",
        "    activity_regularizer=regularizers.l1(10e-5), input_dim=29))\n",
        "model.add(Dropout(0.05))\n",
        "\n",
        "# Generate output layer with 29 nodes\n",
        "model.add(Dense(units=29, activation='linear'))\n",
        "\n",
        "# Compile the model\n",
        "model.compile(optimizer='adam',\n",
        "              loss='mean_squared_error',\n",
        "              metrics=['accuracy'])\n",
        "\n",
        "# Train the model\n",
        "num_epochs = 10\n",
        "batch_size = 32\n",
        "\n",
        "history = model.fit(x=X_train, y=X_train,\n",
        "                    epochs=num_epochs,\n",
        "                    batch_size=batch_size,\n",
        "                    shuffle=True,\n",
        "                    validation_data=(X_train, X_train),\n",
        "                    verbose=1)"
      ],
      "execution_count": null,
      "outputs": [
        {
          "output_type": "stream",
          "text": [
            "Epoch 1/10\n",
            "7121/7121 [==============================] - 18s 3ms/step - loss: 0.2198 - accuracy: 0.7181 - val_loss: 0.0049 - val_accuracy: 0.9806\n",
            "Epoch 2/10\n",
            "7121/7121 [==============================] - 17s 2ms/step - loss: 0.0404 - accuracy: 0.8610 - val_loss: 0.0047 - val_accuracy: 0.9822\n",
            "Epoch 3/10\n",
            "7121/7121 [==============================] - 18s 2ms/step - loss: 0.0411 - accuracy: 0.8613 - val_loss: 0.0074 - val_accuracy: 0.9724\n",
            "Epoch 4/10\n",
            "7121/7121 [==============================] - 18s 2ms/step - loss: 0.0415 - accuracy: 0.8601 - val_loss: 0.0050 - val_accuracy: 0.9789\n",
            "Epoch 5/10\n",
            "7121/7121 [==============================] - 18s 2ms/step - loss: 0.0413 - accuracy: 0.8602 - val_loss: 0.0047 - val_accuracy: 0.9839\n",
            "Epoch 6/10\n",
            "7121/7121 [==============================] - 17s 2ms/step - loss: 0.0409 - accuracy: 0.8622 - val_loss: 0.0049 - val_accuracy: 0.9769\n",
            "Epoch 7/10\n",
            "7121/7121 [==============================] - 17s 2ms/step - loss: 0.0397 - accuracy: 0.8611 - val_loss: 0.0044 - val_accuracy: 0.9805\n",
            "Epoch 8/10\n",
            "7121/7121 [==============================] - 17s 2ms/step - loss: 0.0419 - accuracy: 0.8623 - val_loss: 0.0039 - val_accuracy: 0.9830\n",
            "Epoch 9/10\n",
            "7121/7121 [==============================] - 18s 2ms/step - loss: 0.0410 - accuracy: 0.8638 - val_loss: 0.0047 - val_accuracy: 0.9791\n",
            "Epoch 10/10\n",
            "7121/7121 [==============================] - 18s 2ms/step - loss: 0.0427 - accuracy: 0.8625 - val_loss: 0.0060 - val_accuracy: 0.9780\n"
          ],
          "name": "stdout"
        }
      ]
    },
    {
      "cell_type": "code",
      "metadata": {
        "colab": {
          "base_uri": "https://localhost:8080/",
          "height": 95
        },
        "id": "O9TWW3lPg_TJ",
        "outputId": "e8ea30ff-7d10-41e9-c710-ed291e436ca6"
      },
      "source": [
        "# Evaluate on train set\n",
        "predictions = model.predict(X_train, verbose=1) # prediction is nearly the same as X_train\n",
        "predictions = pd.DataFrame(data=predictions,index=X_train.index)\n",
        "\n",
        "originalDF = X_train\n",
        "reducedDF = predictions\n",
        "loss = np.sum((np.array(originalDF) - \n",
        "                np.array(reducedDF))**2, axis=1)\n",
        "loss = pd.Series(data=loss,index=originalDF.index)\n",
        "loss = (loss-np.min(loss))/(np.max(loss)-np.min(loss))\n",
        "anomalyScores = loss\n",
        "anomalyScores_h2o = h2o.H2OFrame(pd.DataFrame(anomalyScores))\n",
        "anomalyScores_h2o.quantile() # ti le fraud\n",
        "anomalyScores_h2o.quantile(prob=[0.998271]) # ti le fraud"
      ],
      "execution_count": null,
      "outputs": [
        {
          "output_type": "stream",
          "text": [
            "7121/7121 [==============================] - 7s 958us/step\n",
            "Parse progress: |█████████████████████████████████████████████████████████| 100%\n"
          ],
          "name": "stdout"
        },
        {
          "output_type": "display_data",
          "data": {
            "text/html": [
              "<table>\n",
              "<thead>\n",
              "<tr><th style=\"text-align: right;\">   Probs</th><th style=\"text-align: right;\">  0Quantiles</th></tr>\n",
              "</thead>\n",
              "<tbody>\n",
              "<tr><td style=\"text-align: right;\">0.998271</td><td style=\"text-align: right;\">   0.0556092</td></tr>\n",
              "</tbody>\n",
              "</table>"
            ]
          },
          "metadata": {
            "tags": []
          }
        },
        {
          "output_type": "execute_result",
          "data": {
            "text/plain": [
              ""
            ]
          },
          "metadata": {
            "tags": []
          },
          "execution_count": 79
        }
      ]
    },
    {
      "cell_type": "code",
      "metadata": {
        "colab": {
          "base_uri": "https://localhost:8080/"
        },
        "id": "2VVoSGNvw5sp",
        "outputId": "a9566e12-85c0-49be-e01b-78b44fad2f31"
      },
      "source": [
        "best_threshold=0.0556092\n",
        "y_pred_new = [1 if x >= best_threshold else 0 for x in anomalyScores]\n",
        "confmat = confusion_matrix(y_train,y_pred_new)\n",
        "print('accuracy_score: \\n',accuracy_score(y_train, y_pred_new))\n",
        "print('confusion_matrix \\n',confmat)\n",
        "print('classification_report \\n',classification_report(y_train, y_pred_new))"
      ],
      "execution_count": null,
      "outputs": [
        {
          "output_type": "stream",
          "text": [
            "accuracy_score: \n",
            " 0.9986920933090478\n",
            "confusion_matrix \n",
            " [[227302    149]\n",
            " [   149    245]]\n",
            "classification_report \n",
            "               precision    recall  f1-score   support\n",
            "\n",
            "           0       1.00      1.00      1.00    227451\n",
            "           1       0.62      0.62      0.62       394\n",
            "\n",
            "    accuracy                           1.00    227845\n",
            "   macro avg       0.81      0.81      0.81    227845\n",
            "weighted avg       1.00      1.00      1.00    227845\n",
            "\n"
          ],
          "name": "stdout"
        }
      ]
    },
    {
      "cell_type": "code",
      "metadata": {
        "colab": {
          "base_uri": "https://localhost:8080/"
        },
        "id": "Sxx1B_P5xE0Z",
        "outputId": "ba6f35b2-6d7b-43cf-a2ff-948ca313e180"
      },
      "source": [
        "# Evaluate on test set\n",
        "predictions = model.predict(X_test, verbose=1) # prediction is nearly the same as X_train\n",
        "predictions = pd.DataFrame(data=predictions,index=X_test.index)\n",
        "\n",
        "originalDF = X_test\n",
        "reducedDF = predictions\n",
        "loss = np.sum((np.array(originalDF) - \n",
        "                np.array(reducedDF))**2, axis=1)\n",
        "loss = pd.Series(data=loss,index=originalDF.index)\n",
        "loss = (loss-np.min(loss))/(np.max(loss)-np.min(loss))\n",
        "anomalyScores=loss\n",
        "best_threshold=0.0183468\n",
        "y_pred_new = [1 if x >= best_threshold else 0 for x in anomalyScores]\n",
        "confmat = confusion_matrix(y_test,y_pred_new)\n",
        "print('accuracy_score: \\n',accuracy_score(y_test, y_pred_new))\n",
        "print('confusion_matrix \\n',confmat)\n",
        "print('classification_report \\n',classification_report(y_test, y_pred_new))"
      ],
      "execution_count": null,
      "outputs": [
        {
          "output_type": "stream",
          "text": [
            "1781/1781 [==============================] - 2s 925us/step\n",
            "accuracy_score: \n",
            " 0.9974368877497279\n",
            "confusion_matrix \n",
            " [[56738   126]\n",
            " [   20    78]]\n",
            "classification_report \n",
            "               precision    recall  f1-score   support\n",
            "\n",
            "           0       1.00      1.00      1.00     56864\n",
            "           1       0.38      0.80      0.52        98\n",
            "\n",
            "    accuracy                           1.00     56962\n",
            "   macro avg       0.69      0.90      0.76     56962\n",
            "weighted avg       1.00      1.00      1.00     56962\n",
            "\n"
          ],
          "name": "stdout"
        }
      ]
    },
    {
      "cell_type": "markdown",
      "metadata": {
        "id": "IFIN43Dm_sj5"
      },
      "source": [
        "# ML method"
      ]
    },
    {
      "cell_type": "code",
      "metadata": {
        "id": "be0txs_ITNut"
      },
      "source": [
        "import time"
      ],
      "execution_count": null,
      "outputs": []
    },
    {
      "cell_type": "code",
      "metadata": {
        "id": "v6fZ1xTO_uwt"
      },
      "source": [
        "file='https://media.githubusercontent.com/media/aapatel09/handson-unsupervised-learning/master/datasets/credit_card_data/credit_card.csv'\r\n",
        "data = pd.read_csv(file)\r\n",
        "\r\n",
        "dataX = data.copy().drop(['Class'],axis=1)\r\n",
        "dataY = data['Class'].copy()\r\n",
        "\r\n",
        "featuresToScale = dataX.columns\r\n",
        "sX =StandardScaler(copy=True)\r\n",
        "dataX.loc[:,featuresToScale] = sX.fit_transform(dataX[featuresToScale])\r\n",
        "\r\n",
        "X_train, X_test, y_train, y_test = \\\r\n",
        "    train_test_split(dataX, dataY, test_size=0.20, \\\r\n",
        "                    random_state=2018, stratify=dataY)"
      ],
      "execution_count": null,
      "outputs": []
    },
    {
      "cell_type": "code",
      "metadata": {
        "colab": {
          "base_uri": "https://localhost:8080/"
        },
        "id": "_gFwhKaO_uzB",
        "outputId": "e322ab0d-68be-4c17-d99e-f2a1306caf11"
      },
      "source": [
        "start=time.time()\r\n",
        "xgb=XGBClassifier(\r\n",
        "                nthread=16,\r\n",
        "                objective='binary:logistic',\r\n",
        "                eval_metric = 'logloss',\r\n",
        "                #scale_pos_weight=1,\r\n",
        "                seed=2018,\r\n",
        "                verbosity=1    \r\n",
        "                              )\r\n",
        "xgb.fit(X_train, y_train)\r\n",
        "end=time.time() \r\n",
        "print(\"time: \",end-start)\r\n",
        "\r\n",
        "y_pred=xgb.predict(X_test)\r\n",
        "y_pred_probs=xgb.predict_proba(X_test)\r\n",
        "\r\n",
        "precision, recall, thresholds = precision_recall_curve(y_test,y_pred_probs[:,1])\r\n",
        "average_precision = average_precision_score(y_test,y_pred_probs[:,1])\r\n",
        "\r\n",
        "fpr, tpr, thresholds = roc_curve(y_test,y_pred_probs[:,1])\r\n",
        "areaUnderROC = auc(fpr, tpr)\r\n",
        "print('average_precision',average_precision)\r\n",
        "print('AUC',areaUnderROC)\r\n",
        "print(\"f1 score\",f1_score(y_test,y_pred))\r\n",
        "print(\"balanced_accuracy_score:\",balanced_accuracy_score(y_test,y_pred))\r\n",
        "print('classification_report \\n',classification_report(y_test, y_pred))"
      ],
      "execution_count": null,
      "outputs": [
        {
          "output_type": "stream",
          "text": [
            "time:  48.214619398117065\n",
            "average_precision 0.8600324926641665\n",
            "AUC 0.9786933449519368\n",
            "f1 score 0.8972972972972973\n",
            "balanced_accuracy_score: 0.9234342161175106\n",
            "classification_report \n",
            "               precision    recall  f1-score   support\n",
            "\n",
            "           0       1.00      1.00      1.00     56864\n",
            "           1       0.95      0.85      0.90        98\n",
            "\n",
            "    accuracy                           1.00     56962\n",
            "   macro avg       0.98      0.92      0.95     56962\n",
            "weighted avg       1.00      1.00      1.00     56962\n",
            "\n"
          ],
          "name": "stdout"
        }
      ]
    },
    {
      "cell_type": "code",
      "metadata": {
        "colab": {
          "base_uri": "https://localhost:8080/"
        },
        "id": "j0IoMflh_u1m",
        "outputId": "d98a1810-0748-4951-8eee-55c91bd61a6f"
      },
      "source": [
        "start=time.time()\r\n",
        "lgbm=LGBMClassifier(\r\n",
        "    n_estimators = 200,\r\n",
        "    boosting_type = 'gbdt',\r\n",
        "    objective = 'binary',\r\n",
        "    metric= 'binary:logloss',\r\n",
        "    metric_freq=50,\r\n",
        "    learning_rate=0.01,\r\n",
        "    max_depth=4,\r\n",
        "    num_leaves= 16, #(2^maxdepth)\r\n",
        "    #min_data_in_leaf=2000,\r\n",
        "    scale_pos_weight=1,\r\n",
        "    num_threads=16,\r\n",
        "    random_state =500,\r\n",
        "    bagging_freq=0,\r\n",
        "                                )\r\n",
        "lgbm.fit(X_train, y_train)\r\n",
        "end=time.time() \r\n",
        "print(\"time: \",end-start)\r\n",
        "\r\n",
        "y_pred=lgbm.predict(X_test)\r\n",
        "y_pred_probs=lgbm.predict_proba(X_test)\r\n",
        "\r\n",
        "precision, recall, thresholds = precision_recall_curve(y_test,y_pred_probs[:,1])\r\n",
        "average_precision = average_precision_score(y_test,y_pred_probs[:,1])\r\n",
        "\r\n",
        "fpr, tpr, thresholds = roc_curve(y_test,y_pred_probs[:,1])\r\n",
        "areaUnderROC = auc(fpr, tpr)\r\n",
        "print('average_precision',average_precision)\r\n",
        "print('AUC',areaUnderROC)\r\n",
        "print(\"f1 score\",f1_score(y_test,y_pred))\r\n",
        "print(\"balanced_accuracy_score:\",balanced_accuracy_score(y_test,y_pred))\r\n",
        "print('classification_report \\n',classification_report(y_test, y_pred))"
      ],
      "execution_count": null,
      "outputs": [
        {
          "output_type": "stream",
          "text": [
            "time:  8.180473566055298\n",
            "average_precision 0.8315971400187149\n",
            "AUC 0.9737933616046306\n",
            "f1 score 0.8491620111731844\n",
            "balanced_accuracy_score: 0.887711137493827\n",
            "classification_report \n",
            "               precision    recall  f1-score   support\n",
            "\n",
            "           0       1.00      1.00      1.00     56864\n",
            "           1       0.94      0.78      0.85        98\n",
            "\n",
            "    accuracy                           1.00     56962\n",
            "   macro avg       0.97      0.89      0.92     56962\n",
            "weighted avg       1.00      1.00      1.00     56962\n",
            "\n"
          ],
          "name": "stdout"
        }
      ]
    }
  ]
}