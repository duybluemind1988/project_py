{
 "cells": [
  {
   "cell_type": "markdown",
   "metadata": {},
   "source": [
    "# Repeated K-Fold"
   ]
  },
  {
   "cell_type": "code",
   "execution_count": 14,
   "metadata": {},
   "outputs": [
    {
     "name": "stdout",
     "output_type": "stream",
     "text": [
      "[[1 2]\n",
      " [3 4]\n",
      " [1 2]\n",
      " [3 4]]\n",
      "[2 3] [0 1]\n",
      "[0 1] [2 3]\n"
     ]
    }
   ],
   "source": [
    "import numpy as np\r\n",
    "from sklearn.model_selection import RepeatedKFold\r\n",
    "X = np.array([[1, 2], [3, 4], [1, 2], [3, 4]])\r\n",
    "print(X)\r\n",
    "random_state = 12883823\r\n",
    "rkf = RepeatedKFold(n_splits=2, n_repeats=1, random_state=random_state)\r\n",
    "for train, test in rkf.split(X):\r\n",
    "    print(\"%s %s\" % (train, test))"
   ]
  },
  {
   "cell_type": "code",
   "execution_count": 13,
   "metadata": {},
   "outputs": [
    {
     "name": "stdout",
     "output_type": "stream",
     "text": [
      "[[1 2]\n",
      " [3 4]\n",
      " [1 2]\n",
      " [3 4]]\n",
      "[2 3] [0 1]\n",
      "[0 1] [2 3]\n",
      "[0 2] [1 3]\n",
      "[1 3] [0 2]\n"
     ]
    }
   ],
   "source": [
    "import numpy as np\r\n",
    "from sklearn.model_selection import RepeatedKFold\r\n",
    "X = np.array([[1, 2], [3, 4], [1, 2], [3, 4]])\r\n",
    "print(X)\r\n",
    "random_state = 12883823\r\n",
    "rkf = RepeatedKFold(n_splits=2, n_repeats=2, random_state=random_state)\r\n",
    "for train, test in rkf.split(X):\r\n",
    "    print(\"%s %s\" % (train, test))"
   ]
  },
  {
   "cell_type": "code",
   "execution_count": 17,
   "metadata": {},
   "outputs": [
    {
     "name": "stdout",
     "output_type": "stream",
     "text": [
      "[[1 2]\n",
      " [3 4]\n",
      " [1 2]\n",
      " [3 4]]\n",
      "[2 3] [0 1]\n",
      "[0 1] [2 3]\n",
      "[0 2] [1 3]\n",
      "[1 3] [0 2]\n",
      "[0 3] [1 2]\n",
      "[1 2] [0 3]\n"
     ]
    }
   ],
   "source": [
    "import numpy as np\r\n",
    "from sklearn.model_selection import RepeatedKFold\r\n",
    "X = np.array([[1, 2], [3, 4], [1, 2], [3, 4]])\r\n",
    "print(X)\r\n",
    "random_state = 12883823\r\n",
    "rkf = RepeatedKFold(n_splits=2, n_repeats=3, random_state=random_state)\r\n",
    "for train, test in rkf.split(X):\r\n",
    "    print(\"%s %s\" % (train, test))"
   ]
  },
  {
   "cell_type": "code",
   "execution_count": 26,
   "metadata": {},
   "outputs": [
    {
     "name": "stdout",
     "output_type": "stream",
     "text": [
      "[2 3] [0 1]\n",
      "[0 1] [2 3]\n"
     ]
    }
   ],
   "source": [
    "import numpy as np\r\n",
    "from sklearn.model_selection import KFold\r\n",
    "\r\n",
    "X = [\"a\", \"b\", \"c\", \"d\"]\r\n",
    "kf = KFold(n_splits=2)\r\n",
    "for train, test in kf.split(X):\r\n",
    "    print(\"%s %s\" % (train, test))"
   ]
  },
  {
   "cell_type": "code",
   "execution_count": 38,
   "metadata": {},
   "outputs": [
    {
     "name": "stdout",
     "output_type": "stream",
     "text": [
      "[[ 0.  0.]\n",
      " [ 1.  1.]\n",
      " [-1. -1.]\n",
      " [ 2.  2.]]\n",
      "[1 2 3 4]\n",
      "train: [[0. 0.]\n",
      " [1. 1.]] [1 2]\n",
      "test:  [[-1. -1.]\n",
      " [ 2.  2.]] [3 4]\n"
     ]
    }
   ],
   "source": [
    "X = np.array([[0., 0.], [1., 1.], [-1., -1.], [2., 2.]])\r\n",
    "y = np.array([1, 2, 3, 4])\r\n",
    "print(X)\r\n",
    "print(y)\r\n",
    "X_train, X_test, y_train, y_test = X[train], X[test], y[train], y[test]\r\n",
    "print(\"train:\",X_train, y_train)\r\n",
    "print(\"test: \",X_test, y_test)"
   ]
  },
  {
   "cell_type": "code",
   "execution_count": 53,
   "metadata": {},
   "outputs": [
    {
     "name": "stdout",
     "output_type": "stream",
     "text": [
      "X and y:\n",
      "[[ 0.  0.]\n",
      " [ 1.  1.]\n",
      " [-1. -1.]\n",
      " [ 2.  2.]\n",
      " [ 3.  5.]\n",
      " [ 4.  6.]]\n",
      "[1 2 3 4 5 6]\n",
      "loop:  1\n",
      "train, test split:\n",
      "[2 3 4 5] [0 1]\n",
      "X train, y train: [[ 0.  0.]\n",
      " [-1. -1.]\n",
      " [ 3.  5.]\n",
      " [ 4.  6.]] [1 3 5 6]\n",
      "X test, y test:  [[1. 1.]\n",
      " [2. 2.]] [2 4]\n",
      "loop:  2\n",
      "train, test split:\n",
      "[2 3 4 5] [0 1]\n",
      "X train, y train: [[1. 1.]\n",
      " [2. 2.]\n",
      " [3. 5.]\n",
      " [4. 6.]] [2 4 5 6]\n",
      "X test, y test:  [[ 0.  0.]\n",
      " [-1. -1.]] [1 3]\n",
      "loop:  3\n",
      "train, test split:\n",
      "[2 3 4 5] [0 1]\n",
      "X train, y train: [[ 0.  0.]\n",
      " [ 1.  1.]\n",
      " [-1. -1.]\n",
      " [ 2.  2.]] [1 2 3 4]\n",
      "X test, y test:  [[3. 5.]\n",
      " [4. 6.]] [5 6]\n",
      "loop:  4\n",
      "train, test split:\n",
      "[2 3 4 5] [0 1]\n",
      "X train, y train: [[0. 0.]\n",
      " [1. 1.]\n",
      " [2. 2.]\n",
      " [4. 6.]] [1 2 4 6]\n",
      "X test, y test:  [[-1. -1.]\n",
      " [ 3.  5.]] [3 5]\n",
      "loop:  5\n",
      "train, test split:\n",
      "[2 3 4 5] [0 1]\n",
      "X train, y train: [[-1. -1.]\n",
      " [ 2.  2.]\n",
      " [ 3.  5.]\n",
      " [ 4.  6.]] [3 4 5 6]\n",
      "X test, y test:  [[0. 0.]\n",
      " [1. 1.]] [1 2]\n",
      "loop:  6\n",
      "train, test split:\n",
      "[2 3 4 5] [0 1]\n",
      "X train, y train: [[ 0.  0.]\n",
      " [ 1.  1.]\n",
      " [-1. -1.]\n",
      " [ 3.  5.]] [1 2 3 5]\n",
      "X test, y test:  [[2. 2.]\n",
      " [4. 6.]] [4 6]\n"
     ]
    }
   ],
   "source": [
    "import numpy as np\r\n",
    "from sklearn.model_selection import KFold\r\n",
    "\r\n",
    "X = np.array([[0., 0.], [1., 1.], [-1., -1.], [2., 2.],[3., 5.],[4., 6.]])\r\n",
    "y = np.array([1, 2, 3, 4,5,6])\r\n",
    "print(\"X and y:\")\r\n",
    "print(X)\r\n",
    "print(y)\r\n",
    "kf = RepeatedKFold(n_splits=3,n_repeats=2,random_state=2652124)\r\n",
    "i=1\r\n",
    "for train_index, test_index  in kf.split(X):\r\n",
    "    \r\n",
    "    print(\"loop: \", i)\r\n",
    "    print(\"train, test split:\")\r\n",
    "    print(\"%s %s\" % (train, test))\r\n",
    "    X_train, X_test, y_train, y_test = X[train_index], X[test_index], y[train_index], y[test_index]\r\n",
    "    print(\"X train, y train:\",X_train, y_train)\r\n",
    "    print(\"X test, y test: \",X_test, y_test)\r\n",
    "    i+=1"
   ]
  },
  {
   "cell_type": "code",
   "execution_count": 57,
   "metadata": {},
   "outputs": [
    {
     "name": "stdout",
     "output_type": "stream",
     "text": [
      "[2 3 4 5] [0 1]\n",
      "[0 1 4 5] [2 3]\n",
      "[0 1 2 3] [4 5]\n"
     ]
    },
    {
     "name": "stderr",
     "output_type": "stream",
     "text": [
      "C:\\Users\\DNN\\AppData\\Roaming\\Python\\Python38\\site-packages\\sklearn\\model_selection\\_split.py:293: FutureWarning: Setting a random_state has no effect since shuffle is False. This will raise an error in 0.24. You should leave random_state to its default (None), or set shuffle=True.\n",
      "  warnings.warn(\n"
     ]
    }
   ],
   "source": [
    "kf = KFold(n_splits=3,random_state=2652124)\r\n",
    "for train_index, test_index  in kf.split(X):\r\n",
    "    print(train_index,test_index)"
   ]
  },
  {
   "cell_type": "code",
   "execution_count": 55,
   "metadata": {},
   "outputs": [
    {
     "name": "stdout",
     "output_type": "stream",
     "text": [
      "[0 2 4 5] [1 3]\n",
      "[1 3 4 5] [0 2]\n",
      "[0 1 2 3] [4 5]\n",
      "[0 1 3 5] [2 4]\n",
      "[2 3 4 5] [0 1]\n",
      "[0 1 2 4] [3 5]\n"
     ]
    }
   ],
   "source": [
    "kf = RepeatedKFold(n_splits=3,n_repeats=2,random_state=2652124)\r\n",
    "for train_index, test_index  in kf.split(X):\r\n",
    "    print(train_index,test_index)"
   ]
  },
  {
   "cell_type": "code",
   "execution_count": 19,
   "metadata": {},
   "outputs": [
    {
     "data": {
      "text/plain": "((150, 4), (150,))"
     },
     "execution_count": 19,
     "metadata": {},
     "output_type": "execute_result"
    }
   ],
   "source": [
    "import numpy as np\r\n",
    "from sklearn.model_selection import train_test_split\r\n",
    "from sklearn import datasets\r\n",
    "from sklearn import svm\r\n",
    "\r\n",
    "X, y = datasets.load_iris(return_X_y=True)\r\n",
    "X.shape, y.shape\r\n"
   ]
  },
  {
   "cell_type": "code",
   "execution_count": 20,
   "metadata": {},
   "outputs": [
    {
     "data": {
      "text/plain": "0.9666666666666667"
     },
     "execution_count": 20,
     "metadata": {},
     "output_type": "execute_result"
    }
   ],
   "source": [
    "X_train, X_test, y_train, y_test = train_test_split(\r\n",
    "    X, y, test_size=0.4, random_state=0)\r\n",
    "\r\n",
    "X_train.shape, y_train.shape\r\n",
    "\r\n",
    "X_test.shape, y_test.shape\r\n",
    "\r\n",
    "clf = svm.SVC(kernel='linear', C=1).fit(X_train, y_train)\r\n",
    "\r\n",
    "clf.score(X_test, y_test)"
   ]
  },
  {
   "cell_type": "code",
   "execution_count": null,
   "metadata": {},
   "outputs": [],
   "source": []
  },
  {
   "cell_type": "code",
   "execution_count": null,
   "metadata": {},
   "outputs": [],
   "source": []
  }
 ],
 "metadata": {
  "kernelspec": {
   "display_name": "Python 3.8.3 64-bit ('base': conda)",
   "name": "python383jvsc74a57bd01fc0ff7822ece9324f53d348d5460c8542e282fcd75ce14c89605fada57b9835"
  },
  "language_info": {
   "codemirror_mode": {
    "name": "ipython",
    "version": 3
   },
   "file_extension": ".py",
   "mimetype": "text/x-python",
   "name": "python",
   "nbconvert_exporter": "python",
   "pygments_lexer": "ipython3",
   "version": "3.8.3"
  },
  "orig_nbformat": 2
 },
 "nbformat": 4,
 "nbformat_minor": 2
}