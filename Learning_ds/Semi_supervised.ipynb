{
  "nbformat": 4,
  "nbformat_minor": 0,
  "metadata": {
    "colab": {
      "name": "Semi supervised.ipynb",
      "provenance": [],
      "collapsed_sections": [],
      "authorship_tag": "ABX9TyM4GCqDEzEX/TBEoZMiE1tU",
      "include_colab_link": true
    },
    "kernelspec": {
      "name": "python3",
      "display_name": "Python 3"
    }
  },
  "cells": [
    {
      "cell_type": "markdown",
      "metadata": {
        "id": "view-in-github",
        "colab_type": "text"
      },
      "source": [
        "<a href=\"https://colab.research.google.com/github/duybluemind1988/Data-science/blob/master/Semi_supervised.ipynb\" target=\"_parent\"><img src=\"https://colab.research.google.com/assets/colab-badge.svg\" alt=\"Open In Colab\"/></a>"
      ]
    },
    {
      "cell_type": "markdown",
      "metadata": {
        "id": "MXXEGSXUfboT",
        "colab_type": "text"
      },
      "source": [
        "# Decision boundary of label propagation versus SVM on the Iris dataset\n",
        "\n",
        "Comparison for decision boundary generated on iris dataset between Label Propagation and SVM.\n",
        "\n",
        "This demonstrates Label Propagation learning a good boundary even with a small amount of labeled data."
      ]
    },
    {
      "cell_type": "markdown",
      "metadata": {
        "id": "NbbHjD-qfeBN",
        "colab_type": "text"
      },
      "source": [
        "https://scikit-learn.org/stable/auto_examples/semi_supervised/plot_label_propagation_versus_svm_iris.html#sphx-glr-auto-examples-semi-supervised-plot-label-propagation-versus-svm-iris-py"
      ]
    },
    {
      "cell_type": "code",
      "metadata": {
        "id": "AtDXb4rPfb4U",
        "colab_type": "code",
        "colab": {
          "base_uri": "https://localhost:8080/",
          "height": 34
        },
        "outputId": "9c6667a5-19aa-4b93-e8f6-05c90bd1bb39"
      },
      "source": [
        "import numpy as np\n",
        "import pandas as pd\n",
        "import matplotlib.pyplot as plt\n",
        "from sklearn import datasets\n",
        "from sklearn import svm\n",
        "from sklearn.semi_supervised import LabelSpreading\n",
        "\n",
        "rng = np.random.RandomState(0)\n",
        "\n",
        "iris = datasets.load_iris()\n",
        "\n",
        "X = iris.data[:, :2]\n",
        "y = iris.target\n",
        "print(X.shape,y.shape)"
      ],
      "execution_count": null,
      "outputs": [
        {
          "output_type": "stream",
          "text": [
            "(150, 2) (150,)\n"
          ],
          "name": "stdout"
        }
      ]
    },
    {
      "cell_type": "code",
      "metadata": {
        "id": "_AD_hIt-foFT",
        "colab_type": "code",
        "colab": {}
      },
      "source": [
        "y_30 = np.copy(y)\n",
        "y_30[rng.rand(len(y)) < 0.3] = -1 # mask 30% data\n",
        "y_50 = np.copy(y)\n",
        "y_50[rng.rand(len(y)) < 0.5] = -1 # mask 50% data"
      ],
      "execution_count": null,
      "outputs": []
    },
    {
      "cell_type": "code",
      "metadata": {
        "id": "gyKd7aHAf7x6",
        "colab_type": "code",
        "colab": {
          "base_uri": "https://localhost:8080/",
          "height": 136
        },
        "outputId": "39772c96-be40-4e5e-8536-db6cf2703a80"
      },
      "source": [
        "y"
      ],
      "execution_count": null,
      "outputs": [
        {
          "output_type": "execute_result",
          "data": {
            "text/plain": [
              "array([0, 0, 0, 0, 0, 0, 0, 0, 0, 0, 0, 0, 0, 0, 0, 0, 0, 0, 0, 0, 0, 0,\n",
              "       0, 0, 0, 0, 0, 0, 0, 0, 0, 0, 0, 0, 0, 0, 0, 0, 0, 0, 0, 0, 0, 0,\n",
              "       0, 0, 0, 0, 0, 0, 1, 1, 1, 1, 1, 1, 1, 1, 1, 1, 1, 1, 1, 1, 1, 1,\n",
              "       1, 1, 1, 1, 1, 1, 1, 1, 1, 1, 1, 1, 1, 1, 1, 1, 1, 1, 1, 1, 1, 1,\n",
              "       1, 1, 1, 1, 1, 1, 1, 1, 1, 1, 1, 1, 2, 2, 2, 2, 2, 2, 2, 2, 2, 2,\n",
              "       2, 2, 2, 2, 2, 2, 2, 2, 2, 2, 2, 2, 2, 2, 2, 2, 2, 2, 2, 2, 2, 2,\n",
              "       2, 2, 2, 2, 2, 2, 2, 2, 2, 2, 2, 2, 2, 2, 2, 2, 2, 2])"
            ]
          },
          "metadata": {
            "tags": []
          },
          "execution_count": 6
        }
      ]
    },
    {
      "cell_type": "code",
      "metadata": {
        "id": "bx_NwcXCfpx0",
        "colab_type": "code",
        "colab": {
          "base_uri": "https://localhost:8080/",
          "height": 170
        },
        "outputId": "71594ff2-f560-4cb4-9e8e-54da8d37bf3d"
      },
      "source": [
        "y_30"
      ],
      "execution_count": null,
      "outputs": [
        {
          "output_type": "execute_result",
          "data": {
            "text/plain": [
              "array([ 0,  0,  0,  0,  0,  0,  0,  0,  0,  0,  0,  0,  0,  0, -1, -1, -1,\n",
              "        0,  0,  0,  0,  0,  0,  0, -1,  0, -1,  0,  0,  0, -1,  0,  0,  0,\n",
              "       -1,  0,  0,  0,  0,  0,  0,  0,  0, -1,  0,  0, -1, -1,  0,  0,  1,\n",
              "        1,  1, -1, -1, -1,  1, -1,  1, -1, -1, -1,  1, -1, -1,  1,  1, -1,\n",
              "        1, -1,  1,  1,  1,  1,  1, -1, -1, -1, -1, -1,  1,  1, -1,  1,  1,\n",
              "       -1,  1, -1,  1,  1,  1,  1, -1,  1, -1, -1,  1, -1,  1, -1,  2, -1,\n",
              "        2,  2, -1,  2,  2,  2, -1,  2,  2,  2,  2, -1,  2,  2,  2,  2,  2,\n",
              "        2,  2,  2,  2,  2,  2,  2, -1,  2,  2, -1,  2,  2, -1, -1,  2,  2,\n",
              "        2,  2,  2,  2,  2,  2,  2,  2,  2,  2, -1,  2,  2,  2])"
            ]
          },
          "metadata": {
            "tags": []
          },
          "execution_count": 5
        }
      ]
    },
    {
      "cell_type": "code",
      "metadata": {
        "id": "--szvhN1f6-R",
        "colab_type": "code",
        "colab": {}
      },
      "source": [
        "# we create an instance of SVM and fit out data. We do not scale our\n",
        "# data since we want to plot the support vectors\n",
        "ls30 = (LabelSpreading().fit(X, y_30), y_30)\n",
        "ls50 = (LabelSpreading().fit(X, y_50), y_50)\n",
        "ls100 = (LabelSpreading().fit(X, y), y)\n",
        "rbf_svc = (svm.SVC(kernel='rbf', gamma=.5).fit(X, y), y)"
      ],
      "execution_count": null,
      "outputs": []
    },
    {
      "cell_type": "code",
      "metadata": {
        "id": "41zxoC1VunVu",
        "colab_type": "code",
        "colab": {
          "base_uri": "https://localhost:8080/",
          "height": 204
        },
        "outputId": "d5917d5e-261e-428c-d0d2-12d56b784cef"
      },
      "source": [
        "ls30"
      ],
      "execution_count": null,
      "outputs": [
        {
          "output_type": "execute_result",
          "data": {
            "text/plain": [
              "(LabelSpreading(alpha=0.2, gamma=20, kernel='rbf', max_iter=30, n_jobs=None,\n",
              "                n_neighbors=7, tol=0.001),\n",
              " array([ 0,  0,  0,  0,  0,  0,  0,  0,  0,  0,  0,  0,  0,  0, -1, -1, -1,\n",
              "         0,  0,  0,  0,  0,  0,  0, -1,  0, -1,  0,  0,  0, -1,  0,  0,  0,\n",
              "        -1,  0,  0,  0,  0,  0,  0,  0,  0, -1,  0,  0, -1, -1,  0,  0,  1,\n",
              "         1,  1, -1, -1, -1,  1, -1,  1, -1, -1, -1,  1, -1, -1,  1,  1, -1,\n",
              "         1, -1,  1,  1,  1,  1,  1, -1, -1, -1, -1, -1,  1,  1, -1,  1,  1,\n",
              "        -1,  1, -1,  1,  1,  1,  1, -1,  1, -1, -1,  1, -1,  1, -1,  2, -1,\n",
              "         2,  2, -1,  2,  2,  2, -1,  2,  2,  2,  2, -1,  2,  2,  2,  2,  2,\n",
              "         2,  2,  2,  2,  2,  2,  2, -1,  2,  2, -1,  2,  2, -1, -1,  2,  2,\n",
              "         2,  2,  2,  2,  2,  2,  2,  2,  2,  2, -1,  2,  2,  2]))"
            ]
          },
          "metadata": {
            "tags": []
          },
          "execution_count": 38
        }
      ]
    },
    {
      "cell_type": "code",
      "metadata": {
        "id": "5wpzqfkNuqmC",
        "colab_type": "code",
        "colab": {
          "base_uri": "https://localhost:8080/",
          "height": 170
        },
        "outputId": "3c60c9a9-dd49-47a4-80f5-61444a6579d8"
      },
      "source": [
        "y_30"
      ],
      "execution_count": null,
      "outputs": [
        {
          "output_type": "execute_result",
          "data": {
            "text/plain": [
              "array([ 0,  0,  0,  0,  0,  0,  0,  0,  0,  0,  0,  0,  0,  0, -1, -1, -1,\n",
              "        0,  0,  0,  0,  0,  0,  0, -1,  0, -1,  0,  0,  0, -1,  0,  0,  0,\n",
              "       -1,  0,  0,  0,  0,  0,  0,  0,  0, -1,  0,  0, -1, -1,  0,  0,  1,\n",
              "        1,  1, -1, -1, -1,  1, -1,  1, -1, -1, -1,  1, -1, -1,  1,  1, -1,\n",
              "        1, -1,  1,  1,  1,  1,  1, -1, -1, -1, -1, -1,  1,  1, -1,  1,  1,\n",
              "       -1,  1, -1,  1,  1,  1,  1, -1,  1, -1, -1,  1, -1,  1, -1,  2, -1,\n",
              "        2,  2, -1,  2,  2,  2, -1,  2,  2,  2,  2, -1,  2,  2,  2,  2,  2,\n",
              "        2,  2,  2,  2,  2,  2,  2, -1,  2,  2, -1,  2,  2, -1, -1,  2,  2,\n",
              "        2,  2,  2,  2,  2,  2,  2,  2,  2,  2, -1,  2,  2,  2])"
            ]
          },
          "metadata": {
            "tags": []
          },
          "execution_count": 39
        }
      ]
    },
    {
      "cell_type": "code",
      "metadata": {
        "id": "FmJWVzmPgah3",
        "colab_type": "code",
        "colab": {}
      },
      "source": [
        "# step size in the mesh\n",
        "h = .02\n",
        "# create a mesh to plot in\n",
        "x_min, x_max = X[:, 0].min() - 1, X[:, 0].max() + 1\n",
        "y_min, y_max = X[:, 1].min() - 1, X[:, 1].max() + 1\n",
        "xx, yy = np.meshgrid(np.arange(x_min, x_max, h),\n",
        "                     np.arange(y_min, y_max, h))"
      ],
      "execution_count": null,
      "outputs": []
    },
    {
      "cell_type": "code",
      "metadata": {
        "id": "ptUBJ8ntgo6d",
        "colab_type": "code",
        "colab": {
          "base_uri": "https://localhost:8080/",
          "height": 34
        },
        "outputId": "556d8ec6-0ff0-452e-80ed-072ae60f3ff8"
      },
      "source": [
        "print(x_min,x_max,y_min,y_max)"
      ],
      "execution_count": null,
      "outputs": [
        {
          "output_type": "stream",
          "text": [
            "3.3 8.9 1.0 5.4\n"
          ],
          "name": "stdout"
        }
      ]
    },
    {
      "cell_type": "code",
      "metadata": {
        "id": "zrbFJiw5g278",
        "colab_type": "code",
        "colab": {
          "base_uri": "https://localhost:8080/",
          "height": 136
        },
        "outputId": "d3accb91-628f-4b1d-84a1-f8632e178a0c"
      },
      "source": [
        "xx"
      ],
      "execution_count": null,
      "outputs": [
        {
          "output_type": "execute_result",
          "data": {
            "text/plain": [
              "array([[3.3 , 3.32, 3.34, ..., 8.84, 8.86, 8.88],\n",
              "       [3.3 , 3.32, 3.34, ..., 8.84, 8.86, 8.88],\n",
              "       [3.3 , 3.32, 3.34, ..., 8.84, 8.86, 8.88],\n",
              "       ...,\n",
              "       [3.3 , 3.32, 3.34, ..., 8.84, 8.86, 8.88],\n",
              "       [3.3 , 3.32, 3.34, ..., 8.84, 8.86, 8.88],\n",
              "       [3.3 , 3.32, 3.34, ..., 8.84, 8.86, 8.88]])"
            ]
          },
          "metadata": {
            "tags": []
          },
          "execution_count": 16
        }
      ]
    },
    {
      "cell_type": "code",
      "metadata": {
        "id": "9oENoYV7nJ_x",
        "colab_type": "code",
        "colab": {
          "base_uri": "https://localhost:8080/",
          "height": 34
        },
        "outputId": "8c1c769f-1378-4372-9845-284073c986b4"
      },
      "source": [
        "xx.ravel()"
      ],
      "execution_count": null,
      "outputs": [
        {
          "output_type": "execute_result",
          "data": {
            "text/plain": [
              "array([3.3 , 3.32, 3.34, ..., 8.84, 8.86, 8.88])"
            ]
          },
          "metadata": {
            "tags": []
          },
          "execution_count": 37
        }
      ]
    },
    {
      "cell_type": "code",
      "metadata": {
        "id": "QavS2E54hM9h",
        "colab_type": "code",
        "colab": {
          "base_uri": "https://localhost:8080/",
          "height": 136
        },
        "outputId": "d522fa42-4977-4044-b8a6-16dafad33659"
      },
      "source": [
        "yy"
      ],
      "execution_count": null,
      "outputs": [
        {
          "output_type": "execute_result",
          "data": {
            "text/plain": [
              "array([[1.  , 1.  , 1.  , ..., 1.  , 1.  , 1.  ],\n",
              "       [1.02, 1.02, 1.02, ..., 1.02, 1.02, 1.02],\n",
              "       [1.04, 1.04, 1.04, ..., 1.04, 1.04, 1.04],\n",
              "       ...,\n",
              "       [5.34, 5.34, 5.34, ..., 5.34, 5.34, 5.34],\n",
              "       [5.36, 5.36, 5.36, ..., 5.36, 5.36, 5.36],\n",
              "       [5.38, 5.38, 5.38, ..., 5.38, 5.38, 5.38]])"
            ]
          },
          "metadata": {
            "tags": []
          },
          "execution_count": 17
        }
      ]
    },
    {
      "cell_type": "code",
      "metadata": {
        "id": "rF9LHXD4msID",
        "colab_type": "code",
        "colab": {
          "base_uri": "https://localhost:8080/",
          "height": 34
        },
        "outputId": "c48cffe4-cb50-43f3-8271-a164549db14f"
      },
      "source": [
        "print(xx.shape,yy.shape)"
      ],
      "execution_count": null,
      "outputs": [
        {
          "output_type": "stream",
          "text": [
            "(220, 280) (220, 280)\n"
          ],
          "name": "stdout"
        }
      ]
    },
    {
      "cell_type": "code",
      "metadata": {
        "id": "yuRNpFc9nE9B",
        "colab_type": "code",
        "colab": {
          "base_uri": "https://localhost:8080/",
          "height": 34
        },
        "outputId": "b2aeb782-7ec3-43d9-a78d-57332f3e166c"
      },
      "source": [
        "xx.ravel().shape"
      ],
      "execution_count": null,
      "outputs": [
        {
          "output_type": "execute_result",
          "data": {
            "text/plain": [
              "(61600,)"
            ]
          },
          "metadata": {
            "tags": []
          },
          "execution_count": 36
        }
      ]
    },
    {
      "cell_type": "code",
      "metadata": {
        "id": "S_jyNfnem-n5",
        "colab_type": "code",
        "colab": {
          "base_uri": "https://localhost:8080/",
          "height": 153
        },
        "outputId": "964b5bbe-fe17-406b-ef00-10ffd9d8c192"
      },
      "source": [
        "print(np.c_[xx.ravel(), yy.ravel()].shape)\n",
        "np.c_[xx.ravel(), yy.ravel()]\n",
        "# Lấy 2 cột features của X rồi chia mỗi cột thành 61k dữ liệu (thay vì 150 dữ liệu) cho prediction"
      ],
      "execution_count": null,
      "outputs": [
        {
          "output_type": "stream",
          "text": [
            "(61600, 2)\n"
          ],
          "name": "stdout"
        },
        {
          "output_type": "execute_result",
          "data": {
            "text/plain": [
              "array([[3.3 , 1.  ],\n",
              "       [3.32, 1.  ],\n",
              "       [3.34, 1.  ],\n",
              "       ...,\n",
              "       [8.84, 5.38],\n",
              "       [8.86, 5.38],\n",
              "       [8.88, 5.38]])"
            ]
          },
          "metadata": {
            "tags": []
          },
          "execution_count": 35
        }
      ]
    },
    {
      "cell_type": "code",
      "metadata": {
        "id": "aLSe7qxgltNZ",
        "colab_type": "code",
        "colab": {
          "base_uri": "https://localhost:8080/",
          "height": 51
        },
        "outputId": "40246f8f-fedd-4dfd-cfa4-94ed1d4f2b96"
      },
      "source": [
        "Z=ls30[0].predict(np.c_[xx.ravel(), yy.ravel()])\n",
        "print(Z.shape)\n",
        "Z"
      ],
      "execution_count": null,
      "outputs": [
        {
          "output_type": "stream",
          "text": [
            "(61600,)\n"
          ],
          "name": "stdout"
        },
        {
          "output_type": "execute_result",
          "data": {
            "text/plain": [
              "array([0, 0, 0, ..., 2, 2, 2])"
            ]
          },
          "metadata": {
            "tags": []
          },
          "execution_count": 31
        }
      ]
    },
    {
      "cell_type": "code",
      "metadata": {
        "id": "2rEL4wOGmF32",
        "colab_type": "code",
        "colab": {
          "base_uri": "https://localhost:8080/",
          "height": 153
        },
        "outputId": "269710da-1217-4c6f-9ac1-1345bf0a97bb"
      },
      "source": [
        "print(y_train.shape)\n",
        "y_train"
      ],
      "execution_count": null,
      "outputs": [
        {
          "output_type": "stream",
          "text": [
            "(150,)\n"
          ],
          "name": "stdout"
        },
        {
          "output_type": "execute_result",
          "data": {
            "text/plain": [
              "array([0, 0, 0, 0, 0, 0, 0, 0, 0, 0, 0, 0, 0, 0, 0, 0, 0, 0, 0, 0, 0, 0,\n",
              "       0, 0, 0, 0, 0, 0, 0, 0, 0, 0, 0, 0, 0, 0, 0, 0, 0, 0, 0, 0, 0, 0,\n",
              "       0, 0, 0, 0, 0, 0, 1, 1, 1, 1, 1, 1, 1, 1, 1, 1, 1, 1, 1, 1, 1, 1,\n",
              "       1, 1, 1, 1, 1, 1, 1, 1, 1, 1, 1, 1, 1, 1, 1, 1, 1, 1, 1, 1, 1, 1,\n",
              "       1, 1, 1, 1, 1, 1, 1, 1, 1, 1, 1, 1, 2, 2, 2, 2, 2, 2, 2, 2, 2, 2,\n",
              "       2, 2, 2, 2, 2, 2, 2, 2, 2, 2, 2, 2, 2, 2, 2, 2, 2, 2, 2, 2, 2, 2,\n",
              "       2, 2, 2, 2, 2, 2, 2, 2, 2, 2, 2, 2, 2, 2, 2, 2, 2, 2])"
            ]
          },
          "metadata": {
            "tags": []
          },
          "execution_count": 32
        }
      ]
    },
    {
      "cell_type": "code",
      "metadata": {
        "id": "AvjaeIcshubG",
        "colab_type": "code",
        "colab": {
          "base_uri": "https://localhost:8080/",
          "height": 285
        },
        "outputId": "c2ce376a-53b1-4098-fa47-9d7af9355dc9"
      },
      "source": [
        "\n",
        "# title for the plots\n",
        "titles = ['Label Spreading 30% data',\n",
        "          'Label Spreading 50% data',\n",
        "          'Label Spreading 100% data',\n",
        "          'SVC with rbf kernel']\n",
        "\n",
        "color_map = {-1: (1, 1, 1), 0: (0, 0, .9), 1: (1, 0, 0), 2: (.8, .6, 0)}\n",
        "\n",
        "for i, (clf, y_train) in enumerate((ls30, ls50, ls100, rbf_svc)):\n",
        "    # Plot the decision boundary. For that, we will assign a color to each\n",
        "    # point in the mesh [x_min, x_max]x[y_min, y_max].\n",
        "    plt.subplot(2, 2, i + 1)\n",
        "    Z = clf.predict(np.c_[xx.ravel(), yy.ravel()])\n",
        "\n",
        "    # Put the result into a color plot\n",
        "    Z = Z.reshape(xx.shape)\n",
        "    plt.contourf(xx, yy, Z, cmap=plt.cm.Paired)\n",
        "    plt.axis('off')\n",
        "\n",
        "    # Plot also the training points\n",
        "    colors = [color_map[y] for y in y_train]\n",
        "    plt.scatter(X[:, 0], X[:, 1], c=colors, edgecolors='black')\n",
        "\n",
        "    plt.title(titles[i])\n",
        "\n",
        "plt.suptitle(\"Unlabeled points are colored white\", y=0.1)\n",
        "plt.show()"
      ],
      "execution_count": null,
      "outputs": [
        {
          "output_type": "display_data",
          "data": {
            "image/png": "[encoded data removed]",
            "text/plain": [
              "<Figure size 432x288 with 4 Axes>"
            ]
          },
          "metadata": {
            "tags": [],
            "needs_background": "light"
          }
        }
      ]
    },
    {
      "cell_type": "markdown",
      "metadata": {
        "id": "lv8z8V8UzuKs",
        "colab_type": "text"
      },
      "source": [
        "Thuật toán Label Propagation sẽ học dữ liệu đã bị mask 30 hoặc 50%, sau đó nó sẽ dự đoán toàn bộ dữ liệu còn lại theo những gì mà nó đã học trước đó (61600 dữ liệu chia đều 0.02 step trên trục x và y - 3 mảng màu trên figure). Có thể thấy việc dự đoán này khá tốt vì đã phân chia tương đối rõ ràng các dữ liệu thuộc 3 nhóm khác nhau"
      ]
    },
    {
      "cell_type": "markdown",
      "metadata": {
        "id": "WqHVtTQFv2Gt",
        "colab_type": "text"
      },
      "source": [
        "Explain this chart:"
      ]
    },
    {
      "cell_type": "code",
      "metadata": {
        "id": "g-5kZ-5wvUFv",
        "colab_type": "code",
        "colab": {
          "base_uri": "https://localhost:8080/",
          "height": 85
        },
        "outputId": "0f2543c2-1820-48c7-ed86-5c59afcc8b32"
      },
      "source": [
        "clf=ls30[0]\n",
        "y_train=ls30[1]\n",
        "print(y_train.shape)\n",
        "print(xx.shape)\n",
        "print(xx.ravel().shape)\n",
        "print(np.c_[xx.ravel(), yy.ravel()].shape)"
      ],
      "execution_count": null,
      "outputs": [
        {
          "output_type": "stream",
          "text": [
            "(150,)\n",
            "(220, 280)\n",
            "(61600,)\n",
            "(61600, 2)\n"
          ],
          "name": "stdout"
        }
      ]
    },
    {
      "cell_type": "code",
      "metadata": {
        "id": "AJQkgbM8vfJG",
        "colab_type": "code",
        "colab": {
          "base_uri": "https://localhost:8080/",
          "height": 51
        },
        "outputId": "2476fb64-041b-462f-9216-fb2ce267c0a9"
      },
      "source": [
        "Z = clf.predict(np.c_[xx.ravel(), yy.ravel()])\n",
        "# Put the result into a color plot\n",
        "print(Z.shape)\n",
        "Z"
      ],
      "execution_count": null,
      "outputs": [
        {
          "output_type": "stream",
          "text": [
            "(61600,)\n"
          ],
          "name": "stdout"
        },
        {
          "output_type": "execute_result",
          "data": {
            "text/plain": [
              "array([0, 0, 0, ..., 2, 2, 2])"
            ]
          },
          "metadata": {
            "tags": []
          },
          "execution_count": 48
        }
      ]
    },
    {
      "cell_type": "code",
      "metadata": {
        "id": "Ofhmp9QbxCeN",
        "colab_type": "code",
        "colab": {
          "base_uri": "https://localhost:8080/",
          "height": 153
        },
        "outputId": "7db66629-9a2c-44e3-bb89-66ddedd25f40"
      },
      "source": [
        "print(xx.shape) # h step one feature X\n",
        "xx"
      ],
      "execution_count": null,
      "outputs": [
        {
          "output_type": "stream",
          "text": [
            "(220, 280)\n"
          ],
          "name": "stdout"
        },
        {
          "output_type": "execute_result",
          "data": {
            "text/plain": [
              "array([[3.3 , 3.32, 3.34, ..., 8.84, 8.86, 8.88],\n",
              "       [3.3 , 3.32, 3.34, ..., 8.84, 8.86, 8.88],\n",
              "       [3.3 , 3.32, 3.34, ..., 8.84, 8.86, 8.88],\n",
              "       ...,\n",
              "       [3.3 , 3.32, 3.34, ..., 8.84, 8.86, 8.88],\n",
              "       [3.3 , 3.32, 3.34, ..., 8.84, 8.86, 8.88],\n",
              "       [3.3 , 3.32, 3.34, ..., 8.84, 8.86, 8.88]])"
            ]
          },
          "metadata": {
            "tags": []
          },
          "execution_count": 53
        }
      ]
    },
    {
      "cell_type": "code",
      "metadata": {
        "id": "NH9drg7xvr34",
        "colab_type": "code",
        "colab": {
          "base_uri": "https://localhost:8080/",
          "height": 170
        },
        "outputId": "1ba7f000-0943-4c49-9ac2-c327d1bde82f"
      },
      "source": [
        "# Plot also the training points\n",
        "Z = Z.reshape(xx.shape)\n",
        "print(xx.shape)\n",
        "print(Z.shape)\n",
        "Z"
      ],
      "execution_count": null,
      "outputs": [
        {
          "output_type": "stream",
          "text": [
            "(220, 280)\n",
            "(220, 280)\n"
          ],
          "name": "stdout"
        },
        {
          "output_type": "execute_result",
          "data": {
            "text/plain": [
              "array([[0, 0, 0, ..., 2, 2, 2],\n",
              "       [0, 0, 0, ..., 2, 2, 2],\n",
              "       [0, 0, 0, ..., 2, 2, 2],\n",
              "       ...,\n",
              "       [0, 0, 0, ..., 2, 2, 2],\n",
              "       [0, 0, 0, ..., 2, 2, 2],\n",
              "       [0, 0, 0, ..., 2, 2, 2]])"
            ]
          },
          "metadata": {
            "tags": []
          },
          "execution_count": 49
        }
      ]
    },
    {
      "cell_type": "code",
      "metadata": {
        "id": "SKaIftfXvmK3",
        "colab_type": "code",
        "colab": {
          "base_uri": "https://localhost:8080/",
          "height": 282
        },
        "outputId": "78505721-ee86-4c44-d66c-3306aeb774ff"
      },
      "source": [
        "plt.contourf(xx, yy, Z, cmap=plt.cm.Paired)\n",
        "#plt.axis('off')"
      ],
      "execution_count": null,
      "outputs": [
        {
          "output_type": "execute_result",
          "data": {
            "text/plain": [
              "<matplotlib.contour.QuadContourSet at 0x7fd256aa1c50>"
            ]
          },
          "metadata": {
            "tags": []
          },
          "execution_count": 54
        },
        {
          "output_type": "display_data",
          "data": {
            "image/png": "[encoded data removed]",
            "text/plain": [
              "<Figure size 432x288 with 1 Axes>"
            ]
          },
          "metadata": {
            "tags": [],
            "needs_background": "light"
          }
        }
      ]
    },
    {
      "cell_type": "code",
      "metadata": {
        "id": "7DA76bdMvoj-",
        "colab_type": "code",
        "colab": {
          "base_uri": "https://localhost:8080/",
          "height": 285
        },
        "outputId": "ba71e311-b02e-47ce-bebb-1e533a8bfb8b"
      },
      "source": [
        "# Plot also the training points\n",
        "colors = [color_map[y] for y in y_train]\n",
        "plt.scatter(X[:, 0], X[:, 1], c=colors, edgecolors='black')"
      ],
      "execution_count": null,
      "outputs": [
        {
          "output_type": "execute_result",
          "data": {
            "text/plain": [
              "<matplotlib.collections.PathCollection at 0x7fd256a0e278>"
            ]
          },
          "metadata": {
            "tags": []
          },
          "execution_count": 58
        },
        {
          "output_type": "display_data",
          "data": {
            "image/png": "[encoded data removed]",
            "text/plain": [
              "<Figure size 432x288 with 1 Axes>"
            ]
          },
          "metadata": {
            "tags": [],
            "needs_background": "light"
          }
        }
      ]
    },
    {
      "cell_type": "code",
      "metadata": {
        "id": "ViRONWV0y4uL",
        "colab_type": "code",
        "colab": {
          "base_uri": "https://localhost:8080/",
          "height": 34
        },
        "outputId": "1520e39d-fc80-461a-ab32-55229cd112b1"
      },
      "source": [
        "np.unique(y_train)"
      ],
      "execution_count": null,
      "outputs": [
        {
          "output_type": "execute_result",
          "data": {
            "text/plain": [
              "array([-1,  0,  1,  2])"
            ]
          },
          "metadata": {
            "tags": []
          },
          "execution_count": 62
        }
      ]
    },
    {
      "cell_type": "code",
      "metadata": {
        "id": "2tK1ihRUyZ8x",
        "colab_type": "code",
        "colab": {
          "base_uri": "https://localhost:8080/",
          "height": 282
        },
        "outputId": "bbdf4af1-8c3c-4279-80a0-5d93bdc6a2e9"
      },
      "source": [
        "plt.contourf(xx, yy, Z, cmap=plt.cm.Paired)\n",
        "#plt.axis('off')\n",
        "# Plot also the training points\n",
        "colors = [color_map[y] for y in y_train]\n",
        "plt.scatter(X[:, 0], X[:, 1], c=colors, edgecolors='black')"
      ],
      "execution_count": null,
      "outputs": [
        {
          "output_type": "execute_result",
          "data": {
            "text/plain": [
              "<matplotlib.collections.PathCollection at 0x7fd256975588>"
            ]
          },
          "metadata": {
            "tags": []
          },
          "execution_count": 60
        },
        {
          "output_type": "display_data",
          "data": {
            "image/png": "[encoded data removed]",
            "text/plain": [
              "<Figure size 432x288 with 1 Axes>"
            ]
          },
          "metadata": {
            "tags": [],
            "needs_background": "light"
          }
        }
      ]
    },
    {
      "cell_type": "markdown",
      "metadata": {
        "id": "18XefTPl0kk3",
        "colab_type": "text"
      },
      "source": [
        "# Label Propagation learning a complex structure"
      ]
    },
    {
      "cell_type": "markdown",
      "metadata": {
        "id": "XIYOsv8d0o3P",
        "colab_type": "text"
      },
      "source": [
        "Example of LabelPropagation learning a complex internal structure to demonstrate “manifold learning”. The outer circle should be labeled “red” and the inner circle “blue”. Because both label groups lie inside their own distinct shape, we can see that the labels propagate correctly around the circle."
      ]
    },
    {
      "cell_type": "markdown",
      "metadata": {
        "id": "QA235kAr0m9o",
        "colab_type": "text"
      },
      "source": [
        "https://scikit-learn.org/stable/auto_examples/semi_supervised/plot_label_propagation_structure.html#sphx-glr-auto-examples-semi-supervised-plot-label-propagation-structure-py"
      ]
    },
    {
      "cell_type": "code",
      "metadata": {
        "id": "lu3X_ds-y0gF",
        "colab_type": "code",
        "colab": {
          "base_uri": "https://localhost:8080/",
          "height": 34
        },
        "outputId": "aeb6daaa-8ffb-487b-d3a5-d76e58818c67"
      },
      "source": [
        "import numpy as np\n",
        "import matplotlib.pyplot as plt\n",
        "from sklearn.semi_supervised import LabelSpreading\n",
        "from sklearn.datasets import make_circles\n",
        "\n",
        "# generate ring with inner box\n",
        "n_samples = 200\n",
        "X, y = make_circles(n_samples=n_samples, shuffle=False)\n",
        "print(X.shape,y.shape)"
      ],
      "execution_count": null,
      "outputs": [
        {
          "output_type": "stream",
          "text": [
            "(200, 2) (200,)\n"
          ],
          "name": "stdout"
        }
      ]
    },
    {
      "cell_type": "code",
      "metadata": {
        "id": "5b8vtBlB0zOX",
        "colab_type": "code",
        "colab": {
          "base_uri": "https://localhost:8080/",
          "height": 119
        },
        "outputId": "2c8e807a-f284-4e57-e681-dd730f7210e7"
      },
      "source": [
        "print(X[:5])\n",
        "print(y[:5])"
      ],
      "execution_count": null,
      "outputs": [
        {
          "output_type": "stream",
          "text": [
            "[[1.         0.        ]\n",
            " [0.99802673 0.06279052]\n",
            " [0.9921147  0.12533323]\n",
            " [0.98228725 0.18738131]\n",
            " [0.96858316 0.24868989]]\n",
            "[0 0 0 0 0]\n"
          ],
          "name": "stdout"
        }
      ]
    },
    {
      "cell_type": "code",
      "metadata": {
        "id": "9NjgNPos0uxm",
        "colab_type": "code",
        "colab": {
          "base_uri": "https://localhost:8080/",
          "height": 289
        },
        "outputId": "4badfa14-f738-44ba-c476-bfb1d5b07522"
      },
      "source": [
        "outer, inner = 0, 1\n",
        "labels = np.full(n_samples, -1.)\n",
        "labels"
      ],
      "execution_count": null,
      "outputs": [
        {
          "output_type": "execute_result",
          "data": {
            "text/plain": [
              "array([-1., -1., -1., -1., -1., -1., -1., -1., -1., -1., -1., -1., -1.,\n",
              "       -1., -1., -1., -1., -1., -1., -1., -1., -1., -1., -1., -1., -1.,\n",
              "       -1., -1., -1., -1., -1., -1., -1., -1., -1., -1., -1., -1., -1.,\n",
              "       -1., -1., -1., -1., -1., -1., -1., -1., -1., -1., -1., -1., -1.,\n",
              "       -1., -1., -1., -1., -1., -1., -1., -1., -1., -1., -1., -1., -1.,\n",
              "       -1., -1., -1., -1., -1., -1., -1., -1., -1., -1., -1., -1., -1.,\n",
              "       -1., -1., -1., -1., -1., -1., -1., -1., -1., -1., -1., -1., -1.,\n",
              "       -1., -1., -1., -1., -1., -1., -1., -1., -1., -1., -1., -1., -1.,\n",
              "       -1., -1., -1., -1., -1., -1., -1., -1., -1., -1., -1., -1., -1.,\n",
              "       -1., -1., -1., -1., -1., -1., -1., -1., -1., -1., -1., -1., -1.,\n",
              "       -1., -1., -1., -1., -1., -1., -1., -1., -1., -1., -1., -1., -1.,\n",
              "       -1., -1., -1., -1., -1., -1., -1., -1., -1., -1., -1., -1., -1.,\n",
              "       -1., -1., -1., -1., -1., -1., -1., -1., -1., -1., -1., -1., -1.,\n",
              "       -1., -1., -1., -1., -1., -1., -1., -1., -1., -1., -1., -1., -1.,\n",
              "       -1., -1., -1., -1., -1., -1., -1., -1., -1., -1., -1., -1., -1.,\n",
              "       -1., -1., -1., -1., -1.])"
            ]
          },
          "metadata": {
            "tags": []
          },
          "execution_count": 69
        }
      ]
    },
    {
      "cell_type": "code",
      "metadata": {
        "id": "SDlGV9vQ1NUq",
        "colab_type": "code",
        "colab": {}
      },
      "source": [
        "labels[0] = outer\n",
        "labels[-1] = inner"
      ],
      "execution_count": null,
      "outputs": []
    },
    {
      "cell_type": "code",
      "metadata": {
        "id": "I_BgXwXW1TfS",
        "colab_type": "code",
        "colab": {
          "base_uri": "https://localhost:8080/",
          "height": 51
        },
        "outputId": "1d1bc518-e0ef-47c9-d0e0-df8643f8c96f"
      },
      "source": [
        "# Learn with LabelSpreading\n",
        "label_spread = LabelSpreading(kernel='knn', alpha=0.8)\n",
        "label_spread.fit(X, labels)"
      ],
      "execution_count": null,
      "outputs": [
        {
          "output_type": "execute_result",
          "data": {
            "text/plain": [
              "LabelSpreading(alpha=0.8, gamma=20, kernel='knn', max_iter=30, n_jobs=None,\n",
              "               n_neighbors=7, tol=0.001)"
            ]
          },
          "metadata": {
            "tags": []
          },
          "execution_count": 73
        }
      ]
    },
    {
      "cell_type": "code",
      "metadata": {
        "id": "h3_g7_-n6Qia",
        "colab_type": "code",
        "colab": {
          "base_uri": "https://localhost:8080/",
          "height": 221
        },
        "outputId": "07bc0887-d0d7-4f4b-d21c-13f18a6bba79"
      },
      "source": [
        "output_labels = label_spread.transduction_\n",
        "output_labels"
      ],
      "execution_count": null,
      "outputs": [
        {
          "output_type": "execute_result",
          "data": {
            "text/plain": [
              "array([0., 0., 0., 0., 0., 0., 0., 0., 0., 0., 0., 0., 0., 0., 0., 0., 0.,\n",
              "       0., 0., 0., 0., 0., 0., 0., 0., 0., 0., 0., 0., 0., 0., 0., 0., 0.,\n",
              "       0., 0., 0., 0., 0., 0., 0., 0., 0., 0., 0., 0., 0., 0., 0., 0., 0.,\n",
              "       0., 0., 0., 0., 0., 0., 0., 0., 0., 0., 0., 0., 0., 0., 0., 0., 0.,\n",
              "       0., 0., 0., 0., 0., 0., 0., 0., 0., 0., 0., 0., 0., 0., 0., 0., 0.,\n",
              "       0., 0., 0., 0., 0., 0., 0., 0., 0., 0., 0., 0., 0., 0., 0., 1., 1.,\n",
              "       1., 1., 1., 1., 1., 1., 1., 1., 1., 1., 1., 1., 1., 1., 1., 1., 1.,\n",
              "       1., 1., 1., 1., 1., 1., 1., 1., 1., 1., 1., 1., 1., 1., 1., 1., 1.,\n",
              "       1., 1., 1., 1., 1., 1., 1., 1., 1., 1., 1., 1., 1., 1., 1., 1., 1.,\n",
              "       1., 1., 1., 1., 1., 1., 1., 1., 1., 1., 1., 1., 1., 1., 1., 1., 1.,\n",
              "       1., 1., 1., 1., 1., 1., 1., 1., 1., 1., 1., 1., 1., 1., 1., 1., 1.,\n",
              "       1., 1., 1., 1., 1., 1., 1., 1., 1., 1., 1., 1., 1.])"
            ]
          },
          "metadata": {
            "tags": []
          },
          "execution_count": 80
        }
      ]
    },
    {
      "cell_type": "code",
      "metadata": {
        "id": "SyaxnPIV55DN",
        "colab_type": "code",
        "colab": {
          "base_uri": "https://localhost:8080/",
          "height": 298
        },
        "outputId": "25689ce2-c0a5-4955-c9d0-a0c1196871be"
      },
      "source": [
        "# Plot output labels\n",
        "output_labels = label_spread.transduction_\n",
        "plt.figure(figsize=(8.5, 4))\n",
        "plt.subplot(1, 2, 1)\n",
        "plt.scatter(X[labels == outer, 0], X[labels == outer, 1], color='navy',\n",
        "            marker='s', lw=0, label=\"outer labeled\", s=10)\n",
        "plt.scatter(X[labels == inner, 0], X[labels == inner, 1], color='c',\n",
        "            marker='s', lw=0, label='inner labeled', s=10)\n",
        "plt.scatter(X[labels == -1, 0], X[labels == -1, 1], color='darkorange',\n",
        "            marker='.', label='unlabeled')\n",
        "plt.legend(scatterpoints=1, shadow=False, loc='upper right')\n",
        "plt.title(\"Raw data (2 classes=outer and inner)\")"
      ],
      "execution_count": null,
      "outputs": [
        {
          "output_type": "execute_result",
          "data": {
            "text/plain": [
              "Text(0.5, 1.0, 'Raw data (2 classes=outer and inner)')"
            ]
          },
          "metadata": {
            "tags": []
          },
          "execution_count": 76
        },
        {
          "output_type": "display_data",
          "data": {
            "image/png": "[encoded data removed]",
            "text/plain": [
              "<Figure size 612x288 with 1 Axes>"
            ]
          },
          "metadata": {
            "tags": [],
            "needs_background": "light"
          }
        }
      ]
    },
    {
      "cell_type": "code",
      "metadata": {
        "id": "PQW7UTTm6DZA",
        "colab_type": "code",
        "colab": {
          "base_uri": "https://localhost:8080/",
          "height": 281
        },
        "outputId": "87db9df9-a5f2-4aac-c724-91bb3a446e51"
      },
      "source": [
        "plt.subplot(1, 2, 2)\n",
        "output_label_array = np.asarray(output_labels)\n",
        "outer_numbers = np.where(output_label_array == outer)[0]\n",
        "inner_numbers = np.where(output_label_array == inner)[0]\n",
        "plt.scatter(X[outer_numbers, 0], X[outer_numbers, 1], color='navy',\n",
        "            marker='s', lw=0, s=10, label=\"outer learned\")\n",
        "plt.scatter(X[inner_numbers, 0], X[inner_numbers, 1], color='c',\n",
        "            marker='s', lw=0, s=10, label=\"inner learned\")\n",
        "plt.legend(scatterpoints=1, shadow=False, loc='upper right')\n",
        "plt.title(\"Labels learned with Label Spreading (KNN)\")\n",
        "\n",
        "#plt.subplots_adjust(left=0.07, bottom=0.07, right=0.93, top=0.92)\n",
        "plt.show()"
      ],
      "execution_count": null,
      "outputs": [
        {
          "output_type": "display_data",
          "data": {
            "image/png": "[encoded data removed]",
            "text/plain": [
              "<Figure size 432x288 with 1 Axes>"
            ]
          },
          "metadata": {
            "tags": [],
            "needs_background": "light"
          }
        }
      ]
    },
    {
      "cell_type": "markdown",
      "metadata": {
        "id": "dND40CHy7qYR",
        "colab_type": "text"
      },
      "source": [
        "Thuật toán LabelSpreading này sử dụng kernel là KNN để clustering các giá trị trong tập dữ liệu mà không cần nhãn"
      ]
    },
    {
      "cell_type": "markdown",
      "metadata": {
        "id": "9bnNxM_i_2bp",
        "colab_type": "text"
      },
      "source": [
        "# Label Propagation digits: Demonstrating performance"
      ]
    },
    {
      "cell_type": "code",
      "metadata": {
        "id": "Z_3FeyTT6FJe",
        "colab_type": "code",
        "colab": {}
      },
      "source": [
        "\n",
        "import numpy as np\n",
        "import matplotlib.pyplot as plt\n",
        "\n",
        "from scipy import stats\n",
        "\n",
        "from sklearn import datasets\n",
        "from sklearn.semi_supervised import LabelSpreading\n",
        "\n",
        "from sklearn.metrics import confusion_matrix, classification_report\n",
        "\n",
        "digits = datasets.load_digits()\n",
        "rng = np.random.RandomState(2)\n",
        "indices = np.arange(len(digits.data))\n",
        "rng.shuffle(indices)\n",
        "\n",
        "X = digits.data[indices[:340]]\n",
        "y = digits.target[indices[:340]]\n",
        "images = digits.images[indices[:340]]"
      ],
      "execution_count": null,
      "outputs": []
    },
    {
      "cell_type": "code",
      "metadata": {
        "id": "mlHfyEC3AlU5",
        "colab_type": "code",
        "colab": {
          "base_uri": "https://localhost:8080/",
          "height": 153
        },
        "outputId": "8687521d-b433-48f3-9a28-814ada2aaf16"
      },
      "source": [
        "print(X.shape)\n",
        "X"
      ],
      "execution_count": null,
      "outputs": [
        {
          "output_type": "stream",
          "text": [
            "(340, 64)\n"
          ],
          "name": "stdout"
        },
        {
          "output_type": "execute_result",
          "data": {
            "text/plain": [
              "array([[ 0.,  0.,  0., ...,  0.,  0.,  0.],\n",
              "       [ 0.,  0.,  1., ..., 15.,  1.,  0.],\n",
              "       [ 0.,  0.,  8., ..., 13.,  2.,  0.],\n",
              "       ...,\n",
              "       [ 0.,  1., 11., ...,  1.,  0.,  0.],\n",
              "       [ 0.,  3., 16., ..., 16.,  8.,  0.],\n",
              "       [ 0.,  0.,  0., ..., 16.,  8.,  0.]])"
            ]
          },
          "metadata": {
            "tags": []
          },
          "execution_count": 84
        }
      ]
    },
    {
      "cell_type": "code",
      "metadata": {
        "id": "a7MXLlPBAlzW",
        "colab_type": "code",
        "colab": {
          "base_uri": "https://localhost:8080/",
          "height": 306
        },
        "outputId": "562b3275-078e-4c4a-d423-d7f4cd464917"
      },
      "source": [
        "print(y.shape)\n",
        "y"
      ],
      "execution_count": null,
      "outputs": [
        {
          "output_type": "stream",
          "text": [
            "(340,)\n"
          ],
          "name": "stdout"
        },
        {
          "output_type": "execute_result",
          "data": {
            "text/plain": [
              "array([4, 0, 9, 1, 4, 7, 1, 5, 1, 6, 6, 7, 6, 1, 5, 5, 4, 6, 2, 7, 4, 6,\n",
              "       4, 1, 5, 2, 9, 5, 4, 6, 5, 6, 3, 4, 0, 9, 9, 8, 4, 6, 8, 8, 5, 7,\n",
              "       9, 6, 9, 6, 1, 3, 0, 1, 9, 7, 3, 3, 1, 1, 8, 8, 9, 8, 5, 4, 4, 7,\n",
              "       3, 5, 8, 4, 3, 1, 3, 8, 7, 3, 3, 0, 8, 7, 2, 8, 5, 3, 8, 7, 6, 4,\n",
              "       6, 2, 2, 0, 1, 1, 5, 3, 5, 7, 6, 8, 2, 2, 6, 4, 6, 7, 3, 7, 3, 9,\n",
              "       4, 7, 0, 3, 5, 8, 5, 0, 3, 9, 2, 7, 3, 2, 0, 8, 1, 9, 2, 1, 9, 1,\n",
              "       0, 3, 4, 3, 0, 9, 3, 2, 2, 7, 3, 1, 6, 7, 2, 8, 3, 1, 1, 6, 4, 8,\n",
              "       2, 1, 8, 4, 1, 3, 1, 1, 9, 5, 4, 8, 7, 4, 8, 9, 5, 7, 6, 9, 0, 0,\n",
              "       4, 0, 0, 4, 0, 6, 5, 8, 8, 3, 7, 9, 2, 0, 3, 2, 7, 3, 0, 2, 1, 5,\n",
              "       2, 7, 0, 6, 9, 3, 1, 1, 3, 5, 2, 3, 5, 2, 1, 2, 9, 4, 6, 5, 5, 5,\n",
              "       9, 7, 1, 5, 9, 6, 3, 7, 1, 7, 5, 1, 7, 2, 7, 5, 5, 4, 8, 6, 6, 2,\n",
              "       8, 7, 3, 7, 8, 0, 9, 5, 7, 4, 3, 4, 1, 0, 3, 3, 5, 4, 1, 3, 1, 2,\n",
              "       5, 1, 4, 0, 3, 1, 5, 5, 7, 4, 0, 1, 0, 8, 5, 5, 5, 4, 0, 1, 8, 6,\n",
              "       2, 1, 1, 1, 7, 9, 6, 7, 9, 7, 0, 4, 9, 6, 9, 2, 7, 2, 1, 0, 8, 2,\n",
              "       8, 6, 5, 7, 8, 4, 5, 7, 8, 6, 5, 2, 6, 9, 3, 0, 0, 8, 0, 6, 6, 7,\n",
              "       1, 4, 5, 6, 9, 7, 2, 8, 5, 1])"
            ]
          },
          "metadata": {
            "tags": []
          },
          "execution_count": 83
        }
      ]
    },
    {
      "cell_type": "code",
      "metadata": {
        "id": "bd8OvyRnApG3",
        "colab_type": "code",
        "colab": {
          "base_uri": "https://localhost:8080/",
          "height": 34
        },
        "outputId": "c1b22f0c-fe4c-46cb-f6fa-550e4f488653"
      },
      "source": [
        "images.shape"
      ],
      "execution_count": null,
      "outputs": [
        {
          "output_type": "execute_result",
          "data": {
            "text/plain": [
              "(340, 8, 8)"
            ]
          },
          "metadata": {
            "tags": []
          },
          "execution_count": 86
        }
      ]
    },
    {
      "cell_type": "code",
      "metadata": {
        "id": "3ukXrI_jAtke",
        "colab_type": "code",
        "colab": {
          "base_uri": "https://localhost:8080/",
          "height": 34
        },
        "outputId": "942dbb0c-f046-4da0-9f2e-33c3a6b07c39"
      },
      "source": [
        "n_total_samples = len(y)\n",
        "print('n_total_samples:',n_total_samples)\n",
        "n_labeled_points = 40\n",
        "indices = np.arange(n_total_samples)\n",
        "unlabeled_set = indices[n_labeled_points:]"
      ],
      "execution_count": null,
      "outputs": [
        {
          "output_type": "stream",
          "text": [
            "n_total_samples 340\n"
          ],
          "name": "stdout"
        }
      ]
    },
    {
      "cell_type": "code",
      "metadata": {
        "id": "hnBIf7m6A5lN",
        "colab_type": "code",
        "colab": {
          "base_uri": "https://localhost:8080/",
          "height": 493
        },
        "outputId": "26288343-fca4-4013-dbc8-a4bedaa76577"
      },
      "source": [
        "print(len(indices))\n",
        "indices"
      ],
      "execution_count": null,
      "outputs": [
        {
          "output_type": "stream",
          "text": [
            "340\n"
          ],
          "name": "stdout"
        },
        {
          "output_type": "execute_result",
          "data": {
            "text/plain": [
              "array([  0,   1,   2,   3,   4,   5,   6,   7,   8,   9,  10,  11,  12,\n",
              "        13,  14,  15,  16,  17,  18,  19,  20,  21,  22,  23,  24,  25,\n",
              "        26,  27,  28,  29,  30,  31,  32,  33,  34,  35,  36,  37,  38,\n",
              "        39,  40,  41,  42,  43,  44,  45,  46,  47,  48,  49,  50,  51,\n",
              "        52,  53,  54,  55,  56,  57,  58,  59,  60,  61,  62,  63,  64,\n",
              "        65,  66,  67,  68,  69,  70,  71,  72,  73,  74,  75,  76,  77,\n",
              "        78,  79,  80,  81,  82,  83,  84,  85,  86,  87,  88,  89,  90,\n",
              "        91,  92,  93,  94,  95,  96,  97,  98,  99, 100, 101, 102, 103,\n",
              "       104, 105, 106, 107, 108, 109, 110, 111, 112, 113, 114, 115, 116,\n",
              "       117, 118, 119, 120, 121, 122, 123, 124, 125, 126, 127, 128, 129,\n",
              "       130, 131, 132, 133, 134, 135, 136, 137, 138, 139, 140, 141, 142,\n",
              "       143, 144, 145, 146, 147, 148, 149, 150, 151, 152, 153, 154, 155,\n",
              "       156, 157, 158, 159, 160, 161, 162, 163, 164, 165, 166, 167, 168,\n",
              "       169, 170, 171, 172, 173, 174, 175, 176, 177, 178, 179, 180, 181,\n",
              "       182, 183, 184, 185, 186, 187, 188, 189, 190, 191, 192, 193, 194,\n",
              "       195, 196, 197, 198, 199, 200, 201, 202, 203, 204, 205, 206, 207,\n",
              "       208, 209, 210, 211, 212, 213, 214, 215, 216, 217, 218, 219, 220,\n",
              "       221, 222, 223, 224, 225, 226, 227, 228, 229, 230, 231, 232, 233,\n",
              "       234, 235, 236, 237, 238, 239, 240, 241, 242, 243, 244, 245, 246,\n",
              "       247, 248, 249, 250, 251, 252, 253, 254, 255, 256, 257, 258, 259,\n",
              "       260, 261, 262, 263, 264, 265, 266, 267, 268, 269, 270, 271, 272,\n",
              "       273, 274, 275, 276, 277, 278, 279, 280, 281, 282, 283, 284, 285,\n",
              "       286, 287, 288, 289, 290, 291, 292, 293, 294, 295, 296, 297, 298,\n",
              "       299, 300, 301, 302, 303, 304, 305, 306, 307, 308, 309, 310, 311,\n",
              "       312, 313, 314, 315, 316, 317, 318, 319, 320, 321, 322, 323, 324,\n",
              "       325, 326, 327, 328, 329, 330, 331, 332, 333, 334, 335, 336, 337,\n",
              "       338, 339])"
            ]
          },
          "metadata": {
            "tags": []
          },
          "execution_count": 91
        }
      ]
    },
    {
      "cell_type": "code",
      "metadata": {
        "id": "KZCNTHgLA7x9",
        "colab_type": "code",
        "colab": {
          "base_uri": "https://localhost:8080/",
          "height": 442
        },
        "outputId": "5cf58fb5-4ee6-49f0-8378-df3bc1bb6358"
      },
      "source": [
        "print(len(unlabeled_set))\n",
        "unlabeled_set"
      ],
      "execution_count": null,
      "outputs": [
        {
          "output_type": "stream",
          "text": [
            "300\n"
          ],
          "name": "stdout"
        },
        {
          "output_type": "execute_result",
          "data": {
            "text/plain": [
              "array([ 40,  41,  42,  43,  44,  45,  46,  47,  48,  49,  50,  51,  52,\n",
              "        53,  54,  55,  56,  57,  58,  59,  60,  61,  62,  63,  64,  65,\n",
              "        66,  67,  68,  69,  70,  71,  72,  73,  74,  75,  76,  77,  78,\n",
              "        79,  80,  81,  82,  83,  84,  85,  86,  87,  88,  89,  90,  91,\n",
              "        92,  93,  94,  95,  96,  97,  98,  99, 100, 101, 102, 103, 104,\n",
              "       105, 106, 107, 108, 109, 110, 111, 112, 113, 114, 115, 116, 117,\n",
              "       118, 119, 120, 121, 122, 123, 124, 125, 126, 127, 128, 129, 130,\n",
              "       131, 132, 133, 134, 135, 136, 137, 138, 139, 140, 141, 142, 143,\n",
              "       144, 145, 146, 147, 148, 149, 150, 151, 152, 153, 154, 155, 156,\n",
              "       157, 158, 159, 160, 161, 162, 163, 164, 165, 166, 167, 168, 169,\n",
              "       170, 171, 172, 173, 174, 175, 176, 177, 178, 179, 180, 181, 182,\n",
              "       183, 184, 185, 186, 187, 188, 189, 190, 191, 192, 193, 194, 195,\n",
              "       196, 197, 198, 199, 200, 201, 202, 203, 204, 205, 206, 207, 208,\n",
              "       209, 210, 211, 212, 213, 214, 215, 216, 217, 218, 219, 220, 221,\n",
              "       222, 223, 224, 225, 226, 227, 228, 229, 230, 231, 232, 233, 234,\n",
              "       235, 236, 237, 238, 239, 240, 241, 242, 243, 244, 245, 246, 247,\n",
              "       248, 249, 250, 251, 252, 253, 254, 255, 256, 257, 258, 259, 260,\n",
              "       261, 262, 263, 264, 265, 266, 267, 268, 269, 270, 271, 272, 273,\n",
              "       274, 275, 276, 277, 278, 279, 280, 281, 282, 283, 284, 285, 286,\n",
              "       287, 288, 289, 290, 291, 292, 293, 294, 295, 296, 297, 298, 299,\n",
              "       300, 301, 302, 303, 304, 305, 306, 307, 308, 309, 310, 311, 312,\n",
              "       313, 314, 315, 316, 317, 318, 319, 320, 321, 322, 323, 324, 325,\n",
              "       326, 327, 328, 329, 330, 331, 332, 333, 334, 335, 336, 337, 338,\n",
              "       339])"
            ]
          },
          "metadata": {
            "tags": []
          },
          "execution_count": 90
        }
      ]
    },
    {
      "cell_type": "code",
      "metadata": {
        "id": "jDC9hCbPA-nX",
        "colab_type": "code",
        "colab": {
          "base_uri": "https://localhost:8080/",
          "height": 357
        },
        "outputId": "9cd1b8c5-4a3a-4fd6-9e35-829f58e49291"
      },
      "source": [
        "# Shuffle everything around\n",
        "y_train = np.copy(y)\n",
        "y_train[unlabeled_set] = -1\n",
        "y_train"
      ],
      "execution_count": null,
      "outputs": [
        {
          "output_type": "execute_result",
          "data": {
            "text/plain": [
              "array([ 4,  0,  9,  1,  4,  7,  1,  5,  1,  6,  6,  7,  6,  1,  5,  5,  4,\n",
              "        6,  2,  7,  4,  6,  4,  1,  5,  2,  9,  5,  4,  6,  5,  6,  3,  4,\n",
              "        0,  9,  9,  8,  4,  6, -1, -1, -1, -1, -1, -1, -1, -1, -1, -1, -1,\n",
              "       -1, -1, -1, -1, -1, -1, -1, -1, -1, -1, -1, -1, -1, -1, -1, -1, -1,\n",
              "       -1, -1, -1, -1, -1, -1, -1, -1, -1, -1, -1, -1, -1, -1, -1, -1, -1,\n",
              "       -1, -1, -1, -1, -1, -1, -1, -1, -1, -1, -1, -1, -1, -1, -1, -1, -1,\n",
              "       -1, -1, -1, -1, -1, -1, -1, -1, -1, -1, -1, -1, -1, -1, -1, -1, -1,\n",
              "       -1, -1, -1, -1, -1, -1, -1, -1, -1, -1, -1, -1, -1, -1, -1, -1, -1,\n",
              "       -1, -1, -1, -1, -1, -1, -1, -1, -1, -1, -1, -1, -1, -1, -1, -1, -1,\n",
              "       -1, -1, -1, -1, -1, -1, -1, -1, -1, -1, -1, -1, -1, -1, -1, -1, -1,\n",
              "       -1, -1, -1, -1, -1, -1, -1, -1, -1, -1, -1, -1, -1, -1, -1, -1, -1,\n",
              "       -1, -1, -1, -1, -1, -1, -1, -1, -1, -1, -1, -1, -1, -1, -1, -1, -1,\n",
              "       -1, -1, -1, -1, -1, -1, -1, -1, -1, -1, -1, -1, -1, -1, -1, -1, -1,\n",
              "       -1, -1, -1, -1, -1, -1, -1, -1, -1, -1, -1, -1, -1, -1, -1, -1, -1,\n",
              "       -1, -1, -1, -1, -1, -1, -1, -1, -1, -1, -1, -1, -1, -1, -1, -1, -1,\n",
              "       -1, -1, -1, -1, -1, -1, -1, -1, -1, -1, -1, -1, -1, -1, -1, -1, -1,\n",
              "       -1, -1, -1, -1, -1, -1, -1, -1, -1, -1, -1, -1, -1, -1, -1, -1, -1,\n",
              "       -1, -1, -1, -1, -1, -1, -1, -1, -1, -1, -1, -1, -1, -1, -1, -1, -1,\n",
              "       -1, -1, -1, -1, -1, -1, -1, -1, -1, -1, -1, -1, -1, -1, -1, -1, -1,\n",
              "       -1, -1, -1, -1, -1, -1, -1, -1, -1, -1, -1, -1, -1, -1, -1, -1, -1])"
            ]
          },
          "metadata": {
            "tags": []
          },
          "execution_count": 92
        }
      ]
    },
    {
      "cell_type": "code",
      "metadata": {
        "id": "cuNrQXN4CGLJ",
        "colab_type": "code",
        "colab": {
          "base_uri": "https://localhost:8080/",
          "height": 51
        },
        "outputId": "ec7d7fc9-b526-4c46-b366-de36a471b04b"
      },
      "source": [
        "# Learn with LabelSpreading\n",
        "lp_model = LabelSpreading(gamma=.25, max_iter=20)\n",
        "lp_model.fit(X, y_train)"
      ],
      "execution_count": null,
      "outputs": [
        {
          "output_type": "execute_result",
          "data": {
            "text/plain": [
              "LabelSpreading(alpha=0.2, gamma=0.25, kernel='rbf', max_iter=20, n_jobs=None,\n",
              "               n_neighbors=7, tol=0.001)"
            ]
          },
          "metadata": {
            "tags": []
          },
          "execution_count": 93
        }
      ]
    },
    {
      "cell_type": "code",
      "metadata": {
        "id": "SrfBzbktCQxB",
        "colab_type": "code",
        "colab": {
          "base_uri": "https://localhost:8080/",
          "height": 255
        },
        "outputId": "c71cfb04-4ce8-438b-9015-8ba8fd2d8117"
      },
      "source": [
        "predicted_labels = lp_model.transduction_[unlabeled_set]\n",
        "true_labels = y[unlabeled_set]\n",
        "true_labels"
      ],
      "execution_count": null,
      "outputs": [
        {
          "output_type": "execute_result",
          "data": {
            "text/plain": [
              "array([8, 8, 5, 7, 9, 6, 9, 6, 1, 3, 0, 1, 9, 7, 3, 3, 1, 1, 8, 8, 9, 8,\n",
              "       5, 4, 4, 7, 3, 5, 8, 4, 3, 1, 3, 8, 7, 3, 3, 0, 8, 7, 2, 8, 5, 3,\n",
              "       8, 7, 6, 4, 6, 2, 2, 0, 1, 1, 5, 3, 5, 7, 6, 8, 2, 2, 6, 4, 6, 7,\n",
              "       3, 7, 3, 9, 4, 7, 0, 3, 5, 8, 5, 0, 3, 9, 2, 7, 3, 2, 0, 8, 1, 9,\n",
              "       2, 1, 9, 1, 0, 3, 4, 3, 0, 9, 3, 2, 2, 7, 3, 1, 6, 7, 2, 8, 3, 1,\n",
              "       1, 6, 4, 8, 2, 1, 8, 4, 1, 3, 1, 1, 9, 5, 4, 8, 7, 4, 8, 9, 5, 7,\n",
              "       6, 9, 0, 0, 4, 0, 0, 4, 0, 6, 5, 8, 8, 3, 7, 9, 2, 0, 3, 2, 7, 3,\n",
              "       0, 2, 1, 5, 2, 7, 0, 6, 9, 3, 1, 1, 3, 5, 2, 3, 5, 2, 1, 2, 9, 4,\n",
              "       6, 5, 5, 5, 9, 7, 1, 5, 9, 6, 3, 7, 1, 7, 5, 1, 7, 2, 7, 5, 5, 4,\n",
              "       8, 6, 6, 2, 8, 7, 3, 7, 8, 0, 9, 5, 7, 4, 3, 4, 1, 0, 3, 3, 5, 4,\n",
              "       1, 3, 1, 2, 5, 1, 4, 0, 3, 1, 5, 5, 7, 4, 0, 1, 0, 8, 5, 5, 5, 4,\n",
              "       0, 1, 8, 6, 2, 1, 1, 1, 7, 9, 6, 7, 9, 7, 0, 4, 9, 6, 9, 2, 7, 2,\n",
              "       1, 0, 8, 2, 8, 6, 5, 7, 8, 4, 5, 7, 8, 6, 5, 2, 6, 9, 3, 0, 0, 8,\n",
              "       0, 6, 6, 7, 1, 4, 5, 6, 9, 7, 2, 8, 5, 1])"
            ]
          },
          "metadata": {
            "tags": []
          },
          "execution_count": 95
        }
      ]
    },
    {
      "cell_type": "code",
      "metadata": {
        "id": "uYiZs8zoCSBI",
        "colab_type": "code",
        "colab": {
          "base_uri": "https://localhost:8080/",
          "height": 306
        },
        "outputId": "c7809d2a-79f6-4d32-8fbf-7405f4512fdb"
      },
      "source": [
        "print(classification_report(true_labels, predicted_labels))"
      ],
      "execution_count": null,
      "outputs": [
        {
          "output_type": "stream",
          "text": [
            "              precision    recall  f1-score   support\n",
            "\n",
            "           0       1.00      1.00      1.00        27\n",
            "           1       0.82      1.00      0.90        37\n",
            "           2       1.00      0.86      0.92        28\n",
            "           3       1.00      0.80      0.89        35\n",
            "           4       0.92      1.00      0.96        24\n",
            "           5       0.74      0.94      0.83        34\n",
            "           6       0.89      0.96      0.92        25\n",
            "           7       0.94      0.89      0.91        35\n",
            "           8       1.00      0.68      0.81        31\n",
            "           9       0.81      0.88      0.84        24\n",
            "\n",
            "    accuracy                           0.90       300\n",
            "   macro avg       0.91      0.90      0.90       300\n",
            "weighted avg       0.91      0.90      0.90       300\n",
            "\n"
          ],
          "name": "stdout"
        }
      ]
    },
    {
      "cell_type": "markdown",
      "metadata": {
        "id": "da-VU80eEFEN",
        "colab_type": "text"
      },
      "source": [
        "#Label Propagation digits active learning\n",
        "\n",
        "Demonstrates an active learning technique to learn handwritten digits using label propagation.\n",
        "\n",
        "We start by training a label propagation model with only 10 labeled points, then we select the top five most uncertain points to label. Next, we train with 15 labeled points (original 10 + 5 new ones). We repeat this process four times to have a model trained with 30 labeled examples. Note you can increase this to label more than 30 by changing max_iterations. Labeling more than 30 can be useful to get a sense for the speed of convergence of this active learning technique.\n",
        "\n",
        "A plot will appear showing the top 5 most uncertain digits for each iteration of training. These may or may not contain mistakes, but we will train the next model with their true labels."
      ]
    },
    {
      "cell_type": "code",
      "metadata": {
        "id": "AbD1DTgVCXG2",
        "colab_type": "code",
        "colab": {
          "base_uri": "https://localhost:8080/",
          "height": 51
        },
        "outputId": "e2935aa6-1a95-4b41-d041-9dd77a024d52"
      },
      "source": [
        "import numpy as np\n",
        "import matplotlib.pyplot as plt\n",
        "from scipy import stats\n",
        "\n",
        "from sklearn import datasets\n",
        "from sklearn.semi_supervised import LabelSpreading\n",
        "from sklearn.metrics import classification_report, confusion_matrix\n",
        "\n",
        "digits = datasets.load_digits()\n",
        "rng = np.random.RandomState(0)\n",
        "indices = np.arange(len(digits.data))\n",
        "rng.shuffle(indices)\n",
        "\n",
        "X = digits.data[indices[:330]]\n",
        "y = digits.target[indices[:330]]\n",
        "images = digits.images[indices[:330]]\n",
        "\n",
        "n_total_samples = len(y)\n",
        "n_labeled_points = 40\n",
        "print(X.shape,y.shape)\n",
        "print(n_total_samples)"
      ],
      "execution_count": null,
      "outputs": [
        {
          "output_type": "stream",
          "text": [
            "(330, 64) (330,)\n",
            "330\n"
          ],
          "name": "stdout"
        }
      ]
    },
    {
      "cell_type": "code",
      "metadata": {
        "id": "P8j68-oMEMKb",
        "colab_type": "code",
        "colab": {
          "base_uri": "https://localhost:8080/",
          "height": 34
        },
        "outputId": "4f68d9ad-3c30-40e7-f31a-8f06dfefd9e9"
      },
      "source": [
        "unlabeled_indices = np.arange(n_total_samples)[n_labeled_points:] # 40 : \n",
        "unlabeled_indices.shape"
      ],
      "execution_count": null,
      "outputs": [
        {
          "output_type": "execute_result",
          "data": {
            "text/plain": [
              "(290,)"
            ]
          },
          "metadata": {
            "tags": []
          },
          "execution_count": 35
        }
      ]
    },
    {
      "cell_type": "code",
      "metadata": {
        "id": "RlcA1Nk9Fq9k",
        "colab_type": "code",
        "colab": {
          "base_uri": "https://localhost:8080/",
          "height": 1000
        },
        "outputId": "5840d49d-c7a2-462c-cdf5-cdaac215d3d3"
      },
      "source": [
        "f = plt.figure()\n",
        "max_iterations = 5\n",
        "for i in range(max_iterations):\n",
        "    print('-'*20)\n",
        "    print('i: ',i)\n",
        "    print('len unlabeled_indices: ',len(unlabeled_indices))\n",
        "    if len(unlabeled_indices) == 0:\n",
        "        print(\"No unlabeled items left to label.\")\n",
        "        break\n",
        "    y_train = np.copy(y)\n",
        "    y_train[unlabeled_indices] = -1\n",
        "\n",
        "    lp_model = LabelSpreading(gamma=0.25, max_iter=20)\n",
        "    lp_model.fit(X, y_train)\n",
        "\n",
        "    predicted_labels = lp_model.transduction_[unlabeled_indices]\n",
        "    true_labels = y[unlabeled_indices]\n",
        "    print('predicted_labels: ',len(predicted_labels))\n",
        "    print('true_labels: ',len(true_labels))\n",
        "\n",
        "    cm = confusion_matrix(true_labels, predicted_labels,\n",
        "                          labels=lp_model.classes_)\n",
        "\n",
        "    print(\"Iteration %i %s\" % (i, 70 * \"_\"))\n",
        "    print(\"Label Spreading model: %d labeled & %d unlabeled (%d total)\"\n",
        "          % (n_labeled_points, n_total_samples - n_labeled_points,\n",
        "             n_total_samples))\n",
        "\n",
        "    print(classification_report(true_labels, predicted_labels))\n",
        "\n",
        "    #print(\"Confusion matrix\")\n",
        "    #print(cm)\n",
        "\n",
        "    # compute the entropies of transduced label distributions\n",
        "    pred_entropies = stats.distributions.entropy(\n",
        "        lp_model.label_distributions_.T)\n",
        "\n",
        "    # select up to 5 digit examples that the classifier is most uncertain about\n",
        "    uncertainty_index = np.argsort(pred_entropies)[::-1]\n",
        "    uncertainty_index = uncertainty_index[\n",
        "        np.in1d(uncertainty_index, unlabeled_indices)][:5]\n",
        "    print('uncertainty_index top 5: ',uncertainty_index)\n",
        "    # keep track of indices that we get labels for\n",
        "    delete_indices = np.array([], dtype=int)\n",
        "\n",
        "    # for more than 5 iterations, visualize the gain only on the first 5\n",
        "    if i < 5:\n",
        "        f.text(.05, (1 - (i + 1) * .183),\n",
        "               \"model %d\\n\\nfit with\\n%d labels\" %\n",
        "               ((i + 1), i * 5 + 10), size=10)\n",
        "    for index, image_index in enumerate(uncertainty_index):\n",
        "        print('for ------------')\n",
        "        image = images[image_index]\n",
        "\n",
        "        # for more than 5 iterations, visualize the gain only on the first 5\n",
        "        if i < 5:\n",
        "            sub = f.add_subplot(5, 5, index + 1 + (5 * i))\n",
        "            sub.imshow(image, cmap=plt.cm.gray_r, interpolation='none')\n",
        "            sub.set_title(\"predict: %i\\ntrue: %i\" % (\n",
        "                lp_model.transduction_[image_index], y[image_index]), size=10)\n",
        "            sub.axis('off')\n",
        "\n",
        "        # labeling 5 points, remote from labeled set\n",
        "        delete_index, = np.where(unlabeled_indices == image_index)\n",
        "        delete_indices = np.concatenate((delete_indices, delete_index))\n",
        "        print('delete_index',delete_index)\n",
        "        print('delete_indices',delete_indices)\n",
        "\n",
        "    unlabeled_indices = np.delete(unlabeled_indices, delete_indices)\n",
        "    n_labeled_points += len(uncertainty_index)\n",
        "    print('unlabeled_indices',unlabeled_indices)\n",
        "    print('n_labeled_points',n_labeled_points)\n",
        "\n",
        "f.suptitle(\"Active learning with Label Propagation.\\nRows show 5 most \"\n",
        "           \"uncertain labels to learn with the next model.\", y=1.15)\n",
        "plt.subplots_adjust(left=0.2, bottom=0.03, right=0.9, top=0.9, wspace=0.2,\n",
        "                    hspace=0.85)\n",
        "plt.show()"
      ],
      "execution_count": null,
      "outputs": [
        {
          "output_type": "stream",
          "text": [
            "--------------------\n",
            "i:  0\n",
            "len unlabeled_indices:  290\n",
            "predicted_labels:  290\n",
            "true_labels:  290\n",
            "Iteration 0 ______________________________________________________________________\n",
            "Label Spreading model: 40 labeled & 290 unlabeled (330 total)\n",
            "              precision    recall  f1-score   support\n",
            "\n",
            "           0       1.00      1.00      1.00        22\n",
            "           1       0.78      0.69      0.73        26\n",
            "           2       0.93      0.93      0.93        29\n",
            "           3       1.00      0.89      0.94        27\n",
            "           4       0.92      0.96      0.94        23\n",
            "           5       0.96      0.70      0.81        33\n",
            "           6       0.97      0.97      0.97        35\n",
            "           7       0.94      0.91      0.92        33\n",
            "           8       0.62      0.89      0.74        28\n",
            "           9       0.73      0.79      0.76        34\n",
            "\n",
            "    accuracy                           0.87       290\n",
            "   macro avg       0.89      0.87      0.87       290\n",
            "weighted avg       0.88      0.87      0.87       290\n",
            "\n",
            "uncertainty_index top 5:  [128  64 202 171  71]\n",
            "for ------------\n",
            "delete_index [88]\n",
            "delete_indices [88]\n",
            "for ------------\n",
            "delete_index [24]\n",
            "delete_indices [88 24]\n",
            "for ------------\n",
            "delete_index [162]\n",
            "delete_indices [ 88  24 162]\n",
            "for ------------\n",
            "delete_index [131]\n",
            "delete_indices [ 88  24 162 131]\n",
            "for ------------\n",
            "delete_index [31]\n",
            "delete_indices [ 88  24 162 131  31]\n",
            "unlabeled_indices [ 40  41  42  43  44  45  46  47  48  49  50  51  52  53  54  55  56  57\n",
            "  58  59  60  61  62  63  65  66  67  68  69  70  72  73  74  75  76  77\n",
            "  78  79  80  81  82  83  84  85  86  87  88  89  90  91  92  93  94  95\n",
            "  96  97  98  99 100 101 102 103 104 105 106 107 108 109 110 111 112 113\n",
            " 114 115 116 117 118 119 120 121 122 123 124 125 126 127 129 130 131 132\n",
            " 133 134 135 136 137 138 139 140 141 142 143 144 145 146 147 148 149 150\n",
            " 151 152 153 154 155 156 157 158 159 160 161 162 163 164 165 166 167 168\n",
            " 169 170 172 173 174 175 176 177 178 179 180 181 182 183 184 185 186 187\n",
            " 188 189 190 191 192 193 194 195 196 197 198 199 200 201 203 204 205 206\n",
            " 207 208 209 210 211 212 213 214 215 216 217 218 219 220 221 222 223 224\n",
            " 225 226 227 228 229 230 231 232 233 234 235 236 237 238 239 240 241 242\n",
            " 243 244 245 246 247 248 249 250 251 252 253 254 255 256 257 258 259 260\n",
            " 261 262 263 264 265 266 267 268 269 270 271 272 273 274 275 276 277 278\n",
            " 279 280 281 282 283 284 285 286 287 288 289 290 291 292 293 294 295 296\n",
            " 297 298 299 300 301 302 303 304 305 306 307 308 309 310 311 312 313 314\n",
            " 315 316 317 318 319 320 321 322 323 324 325 326 327 328 329]\n",
            "n_labeled_points 45\n",
            "--------------------\n",
            "i:  1\n",
            "len unlabeled_indices:  285\n",
            "predicted_labels:  285\n",
            "true_labels:  285\n",
            "Iteration 1 ______________________________________________________________________\n",
            "Label Spreading model: 45 labeled & 285 unlabeled (330 total)\n",
            "              precision    recall  f1-score   support\n",
            "\n",
            "           0       1.00      1.00      1.00        22\n",
            "           1       0.79      1.00      0.88        22\n",
            "           2       1.00      0.93      0.96        29\n",
            "           3       1.00      1.00      1.00        26\n",
            "           4       0.92      0.96      0.94        23\n",
            "           5       0.96      0.70      0.81        33\n",
            "           6       1.00      0.97      0.99        35\n",
            "           7       0.94      0.91      0.92        33\n",
            "           8       0.77      0.86      0.81        28\n",
            "           9       0.73      0.79      0.76        34\n",
            "\n",
            "    accuracy                           0.90       285\n",
            "   macro avg       0.91      0.91      0.91       285\n",
            "weighted avg       0.91      0.90      0.90       285\n",
            "\n",
            "uncertainty_index top 5:  [289 205 280  66 258]\n",
            "for ------------\n",
            "delete_index [244]\n",
            "delete_indices [244]\n",
            "for ------------\n",
            "delete_index [160]\n",
            "delete_indices [244 160]\n",
            "for ------------\n",
            "delete_index [235]\n",
            "delete_indices [244 160 235]\n",
            "for ------------\n",
            "delete_index [25]\n",
            "delete_indices [244 160 235  25]\n",
            "for ------------\n",
            "delete_index [213]\n",
            "delete_indices [244 160 235  25 213]\n",
            "unlabeled_indices [ 40  41  42  43  44  45  46  47  48  49  50  51  52  53  54  55  56  57\n",
            "  58  59  60  61  62  63  65  67  68  69  70  72  73  74  75  76  77  78\n",
            "  79  80  81  82  83  84  85  86  87  88  89  90  91  92  93  94  95  96\n",
            "  97  98  99 100 101 102 103 104 105 106 107 108 109 110 111 112 113 114\n",
            " 115 116 117 118 119 120 121 122 123 124 125 126 127 129 130 131 132 133\n",
            " 134 135 136 137 138 139 140 141 142 143 144 145 146 147 148 149 150 151\n",
            " 152 153 154 155 156 157 158 159 160 161 162 163 164 165 166 167 168 169\n",
            " 170 172 173 174 175 176 177 178 179 180 181 182 183 184 185 186 187 188\n",
            " 189 190 191 192 193 194 195 196 197 198 199 200 201 203 204 206 207 208\n",
            " 209 210 211 212 213 214 215 216 217 218 219 220 221 222 223 224 225 226\n",
            " 227 228 229 230 231 232 233 234 235 236 237 238 239 240 241 242 243 244\n",
            " 245 246 247 248 249 250 251 252 253 254 255 256 257 259 260 261 262 263\n",
            " 264 265 266 267 268 269 270 271 272 273 274 275 276 277 278 279 281 282\n",
            " 283 284 285 286 287 288 290 291 292 293 294 295 296 297 298 299 300 301\n",
            " 302 303 304 305 306 307 308 309 310 311 312 313 314 315 316 317 318 319\n",
            " 320 321 322 323 324 325 326 327 328 329]\n",
            "n_labeled_points 50\n",
            "--------------------\n",
            "i:  2\n",
            "len unlabeled_indices:  280\n",
            "predicted_labels:  280\n",
            "true_labels:  280\n",
            "Iteration 2 ______________________________________________________________________\n",
            "Label Spreading model: 50 labeled & 280 unlabeled (330 total)\n",
            "              precision    recall  f1-score   support\n",
            "\n",
            "           0       1.00      1.00      1.00        22\n",
            "           1       0.85      1.00      0.92        22\n",
            "           2       1.00      1.00      1.00        28\n",
            "           3       1.00      1.00      1.00        26\n",
            "           4       0.87      1.00      0.93        20\n",
            "           5       0.96      0.70      0.81        33\n",
            "           6       1.00      0.97      0.99        35\n",
            "           7       0.94      1.00      0.97        32\n",
            "           8       0.92      0.86      0.89        28\n",
            "           9       0.73      0.79      0.76        34\n",
            "\n",
            "    accuracy                           0.92       280\n",
            "   macro avg       0.93      0.93      0.93       280\n",
            "weighted avg       0.93      0.92      0.92       280\n",
            "\n",
            "uncertainty_index top 5:  [226  84 101 312 179]\n",
            "for ------------\n",
            "delete_index [179]\n",
            "delete_indices [179]\n",
            "for ------------\n",
            "delete_index [41]\n",
            "delete_indices [179  41]\n",
            "for ------------\n",
            "delete_index [58]\n",
            "delete_indices [179  41  58]\n",
            "for ------------\n",
            "delete_index [262]\n",
            "delete_indices [179  41  58 262]\n",
            "for ------------\n",
            "delete_index [134]\n",
            "delete_indices [179  41  58 262 134]\n",
            "unlabeled_indices [ 40  41  42  43  44  45  46  47  48  49  50  51  52  53  54  55  56  57\n",
            "  58  59  60  61  62  63  65  67  68  69  70  72  73  74  75  76  77  78\n",
            "  79  80  81  82  83  85  86  87  88  89  90  91  92  93  94  95  96  97\n",
            "  98  99 100 102 103 104 105 106 107 108 109 110 111 112 113 114 115 116\n",
            " 117 118 119 120 121 122 123 124 125 126 127 129 130 131 132 133 134 135\n",
            " 136 137 138 139 140 141 142 143 144 145 146 147 148 149 150 151 152 153\n",
            " 154 155 156 157 158 159 160 161 162 163 164 165 166 167 168 169 170 172\n",
            " 173 174 175 176 177 178 180 181 182 183 184 185 186 187 188 189 190 191\n",
            " 192 193 194 195 196 197 198 199 200 201 203 204 206 207 208 209 210 211\n",
            " 212 213 214 215 216 217 218 219 220 221 222 223 224 225 227 228 229 230\n",
            " 231 232 233 234 235 236 237 238 239 240 241 242 243 244 245 246 247 248\n",
            " 249 250 251 252 253 254 255 256 257 259 260 261 262 263 264 265 266 267\n",
            " 268 269 270 271 272 273 274 275 276 277 278 279 281 282 283 284 285 286\n",
            " 287 288 290 291 292 293 294 295 296 297 298 299 300 301 302 303 304 305\n",
            " 306 307 308 309 310 311 313 314 315 316 317 318 319 320 321 322 323 324\n",
            " 325 326 327 328 329]\n",
            "n_labeled_points 55\n",
            "--------------------\n",
            "i:  3\n",
            "len unlabeled_indices:  275\n",
            "predicted_labels:  275\n",
            "true_labels:  275\n",
            "Iteration 3 ______________________________________________________________________\n",
            "Label Spreading model: 55 labeled & 275 unlabeled (330 total)\n",
            "              precision    recall  f1-score   support\n",
            "\n",
            "           0       1.00      1.00      1.00        22\n",
            "           1       0.85      1.00      0.92        22\n",
            "           2       1.00      1.00      1.00        27\n",
            "           3       1.00      1.00      1.00        26\n",
            "           4       0.87      1.00      0.93        20\n",
            "           5       0.96      0.87      0.92        31\n",
            "           6       1.00      0.97      0.99        35\n",
            "           7       1.00      1.00      1.00        31\n",
            "           8       0.92      0.86      0.89        28\n",
            "           9       0.88      0.85      0.86        33\n",
            "\n",
            "    accuracy                           0.95       275\n",
            "   macro avg       0.95      0.95      0.95       275\n",
            "weighted avg       0.95      0.95      0.95       275\n",
            "\n",
            "uncertainty_index top 5:  [167 218 252 285 158]\n",
            "for ------------\n",
            "delete_index [121]\n",
            "delete_indices [121]\n",
            "for ------------\n",
            "delete_index [168]\n",
            "delete_indices [121 168]\n",
            "for ------------\n",
            "delete_index [201]\n",
            "delete_indices [121 168 201]\n",
            "for ------------\n",
            "delete_index [232]\n",
            "delete_indices [121 168 201 232]\n",
            "for ------------\n",
            "delete_index [112]\n",
            "delete_indices [121 168 201 232 112]\n",
            "unlabeled_indices [ 40  41  42  43  44  45  46  47  48  49  50  51  52  53  54  55  56  57\n",
            "  58  59  60  61  62  63  65  67  68  69  70  72  73  74  75  76  77  78\n",
            "  79  80  81  82  83  85  86  87  88  89  90  91  92  93  94  95  96  97\n",
            "  98  99 100 102 103 104 105 106 107 108 109 110 111 112 113 114 115 116\n",
            " 117 118 119 120 121 122 123 124 125 126 127 129 130 131 132 133 134 135\n",
            " 136 137 138 139 140 141 142 143 144 145 146 147 148 149 150 151 152 153\n",
            " 154 155 156 157 159 160 161 162 163 164 165 166 168 169 170 172 173 174\n",
            " 175 176 177 178 180 181 182 183 184 185 186 187 188 189 190 191 192 193\n",
            " 194 195 196 197 198 199 200 201 203 204 206 207 208 209 210 211 212 213\n",
            " 214 215 216 217 219 220 221 222 223 224 225 227 228 229 230 231 232 233\n",
            " 234 235 236 237 238 239 240 241 242 243 244 245 246 247 248 249 250 251\n",
            " 253 254 255 256 257 259 260 261 262 263 264 265 266 267 268 269 270 271\n",
            " 272 273 274 275 276 277 278 279 281 282 283 284 286 287 288 290 291 292\n",
            " 293 294 295 296 297 298 299 300 301 302 303 304 305 306 307 308 309 310\n",
            " 311 313 314 315 316 317 318 319 320 321 322 323 324 325 326 327 328 329]\n",
            "n_labeled_points 60\n",
            "--------------------\n",
            "i:  4\n",
            "len unlabeled_indices:  270\n",
            "predicted_labels:  270\n",
            "true_labels:  270\n",
            "Iteration 4 ______________________________________________________________________\n",
            "Label Spreading model: 60 labeled & 270 unlabeled (330 total)\n",
            "              precision    recall  f1-score   support\n",
            "\n",
            "           0       1.00      1.00      1.00        22\n",
            "           1       0.96      1.00      0.98        22\n",
            "           2       1.00      0.96      0.98        27\n",
            "           3       0.96      1.00      0.98        25\n",
            "           4       0.86      1.00      0.93        19\n",
            "           5       0.96      0.87      0.92        31\n",
            "           6       1.00      0.97      0.99        35\n",
            "           7       1.00      1.00      1.00        31\n",
            "           8       0.92      0.96      0.94        25\n",
            "           9       0.88      0.85      0.86        33\n",
            "\n",
            "    accuracy                           0.96       270\n",
            "   macro avg       0.95      0.96      0.96       270\n",
            "weighted avg       0.96      0.96      0.96       270\n",
            "\n",
            "uncertainty_index top 5:  [ 57 301 321 189  69]\n",
            "for ------------\n",
            "delete_index [17]\n",
            "delete_indices [17]\n",
            "for ------------\n",
            "delete_index [242]\n",
            "delete_indices [ 17 242]\n",
            "for ------------\n",
            "delete_index [261]\n",
            "delete_indices [ 17 242 261]\n",
            "for ------------\n",
            "delete_index [139]\n",
            "delete_indices [ 17 242 261 139]\n",
            "for ------------\n",
            "delete_index [27]\n",
            "delete_indices [ 17 242 261 139  27]\n",
            "unlabeled_indices [ 40  41  42  43  44  45  46  47  48  49  50  51  52  53  54  55  56  58\n",
            "  59  60  61  62  63  65  67  68  70  72  73  74  75  76  77  78  79  80\n",
            "  81  82  83  85  86  87  88  89  90  91  92  93  94  95  96  97  98  99\n",
            " 100 102 103 104 105 106 107 108 109 110 111 112 113 114 115 116 117 118\n",
            " 119 120 121 122 123 124 125 126 127 129 130 131 132 133 134 135 136 137\n",
            " 138 139 140 141 142 143 144 145 146 147 148 149 150 151 152 153 154 155\n",
            " 156 157 159 160 161 162 163 164 165 166 168 169 170 172 173 174 175 176\n",
            " 177 178 180 181 182 183 184 185 186 187 188 190 191 192 193 194 195 196\n",
            " 197 198 199 200 201 203 204 206 207 208 209 210 211 212 213 214 215 216\n",
            " 217 219 220 221 222 223 224 225 227 228 229 230 231 232 233 234 235 236\n",
            " 237 238 239 240 241 242 243 244 245 246 247 248 249 250 251 253 254 255\n",
            " 256 257 259 260 261 262 263 264 265 266 267 268 269 270 271 272 273 274\n",
            " 275 276 277 278 279 281 282 283 284 286 287 288 290 291 292 293 294 295\n",
            " 296 297 298 299 300 302 303 304 305 306 307 308 309 310 311 313 314 315\n",
            " 316 317 318 319 320 322 323 324 325 326 327 328 329]\n",
            "n_labeled_points 65\n"
          ],
          "name": "stdout"
        },
        {
          "output_type": "display_data",
          "data": {
            "image/png": "[encoded data removed]",
            "text/plain": [
              "<Figure size 432x288 with 25 Axes>"
            ]
          },
          "metadata": {
            "tags": [],
            "needs_background": "light"
          }
        }
      ]
    },
    {
      "cell_type": "markdown",
      "metadata": {
        "id": "IpajgtHqJC5z",
        "colab_type": "text"
      },
      "source": [
        "## Explain"
      ]
    },
    {
      "cell_type": "code",
      "metadata": {
        "id": "pmakj6GFUlPD",
        "colab_type": "code",
        "colab": {
          "base_uri": "https://localhost:8080/",
          "height": 34
        },
        "outputId": "fa9abc9b-f615-42cd-f11f-5c766ca0d32c"
      },
      "source": [
        "unlabeled_indices = np.arange(n_total_samples)[n_labeled_points:] # 40 : \n",
        "unlabeled_indices.shape"
      ],
      "execution_count": null,
      "outputs": [
        {
          "output_type": "execute_result",
          "data": {
            "text/plain": [
              "(290,)"
            ]
          },
          "metadata": {
            "tags": []
          },
          "execution_count": 36
        }
      ]
    },
    {
      "cell_type": "code",
      "metadata": {
        "id": "ZoOgCIMdFrAe",
        "colab_type": "code",
        "colab": {
          "base_uri": "https://localhost:8080/",
          "height": 544
        },
        "outputId": "d3250f59-ca72-4f2b-fcd9-b22bc9ff12c7"
      },
      "source": [
        "f = plt.figure()\n",
        "max_iterations = 1\n",
        "i=1\n",
        "if len(unlabeled_indices) == 0:\n",
        "    print(\"No unlabeled items left to label.\")\n",
        "y_train = np.copy(y)\n",
        "y_train[unlabeled_indices] = -1\n",
        "\n",
        "lp_model = LabelSpreading(gamma=0.25, max_iter=20)\n",
        "lp_model.fit(X, y_train)\n",
        "\n",
        "predicted_labels = lp_model.transduction_[unlabeled_indices]\n",
        "true_labels = y[unlabeled_indices]\n",
        "\n",
        "cm = confusion_matrix(true_labels, predicted_labels,\n",
        "                      labels=lp_model.classes_)\n",
        "\n",
        "print(\"Iteration %i %s\" % (i, 70 * \"_\"))\n",
        "print(\"Label Spreading model: %d labeled & %d unlabeled (%d total)\"\n",
        "      % (n_labeled_points, n_total_samples - n_labeled_points,\n",
        "          n_total_samples))\n",
        "\n",
        "print(classification_report(true_labels, predicted_labels))\n",
        "\n",
        "print(\"Confusion matrix\")\n",
        "print(cm)"
      ],
      "execution_count": null,
      "outputs": [
        {
          "output_type": "stream",
          "text": [
            "Iteration 1 ______________________________________________________________________\n",
            "Label Spreading model: 40 labeled & 290 unlabeled (330 total)\n",
            "              precision    recall  f1-score   support\n",
            "\n",
            "           0       1.00      1.00      1.00        22\n",
            "           1       0.78      0.69      0.73        26\n",
            "           2       0.93      0.93      0.93        29\n",
            "           3       1.00      0.89      0.94        27\n",
            "           4       0.92      0.96      0.94        23\n",
            "           5       0.96      0.70      0.81        33\n",
            "           6       0.97      0.97      0.97        35\n",
            "           7       0.94      0.91      0.92        33\n",
            "           8       0.62      0.89      0.74        28\n",
            "           9       0.73      0.79      0.76        34\n",
            "\n",
            "    accuracy                           0.87       290\n",
            "   macro avg       0.89      0.87      0.87       290\n",
            "weighted avg       0.88      0.87      0.87       290\n",
            "\n",
            "Confusion matrix\n",
            "[[22  0  0  0  0  0  0  0  0  0]\n",
            " [ 0 18  2  0  0  0  1  0  5  0]\n",
            " [ 0  0 27  0  0  0  0  0  2  0]\n",
            " [ 0  0  0 24  0  0  0  0  3  0]\n",
            " [ 0  1  0  0 22  0  0  0  0  0]\n",
            " [ 0  0  0  0  0 23  0  0  0 10]\n",
            " [ 0  1  0  0  0  0 34  0  0  0]\n",
            " [ 0  0  0  0  0  0  0 30  3  0]\n",
            " [ 0  3  0  0  0  0  0  0 25  0]\n",
            " [ 0  0  0  0  2  1  0  2  2 27]]\n"
          ],
          "name": "stdout"
        },
        {
          "output_type": "display_data",
          "data": {
            "text/plain": [
              "<Figure size 432x288 with 0 Axes>"
            ]
          },
          "metadata": {
            "tags": []
          }
        }
      ]
    },
    {
      "cell_type": "code",
      "metadata": {
        "id": "r0eMZSVZiakX",
        "colab_type": "code",
        "colab": {
          "base_uri": "https://localhost:8080/",
          "height": 34
        },
        "outputId": "a6d3c1d6-b557-4756-a712-83c7c19b09aa"
      },
      "source": [
        "X.shape"
      ],
      "execution_count": null,
      "outputs": [
        {
          "output_type": "execute_result",
          "data": {
            "text/plain": [
              "(330, 64)"
            ]
          },
          "metadata": {
            "tags": []
          },
          "execution_count": 38
        }
      ]
    },
    {
      "cell_type": "code",
      "metadata": {
        "id": "X7EudZ4micxU",
        "colab_type": "code",
        "colab": {
          "base_uri": "https://localhost:8080/",
          "height": 357
        },
        "outputId": "ca27206c-16c1-4a19-feea-3a27498ab080"
      },
      "source": [
        "y_train # mask 290/330 labels"
      ],
      "execution_count": null,
      "outputs": [
        {
          "output_type": "execute_result",
          "data": {
            "text/plain": [
              "array([ 2,  8,  2,  6,  6,  7,  1,  9,  8,  5,  2,  8,  6,  6,  6,  6,  1,\n",
              "        0,  5,  8,  8,  7,  8,  4,  7,  5,  4,  9,  2,  9,  4,  7,  6,  8,\n",
              "        9,  4,  3,  1,  0,  1, -1, -1, -1, -1, -1, -1, -1, -1, -1, -1, -1,\n",
              "       -1, -1, -1, -1, -1, -1, -1, -1, -1, -1, -1, -1, -1, -1, -1, -1, -1,\n",
              "       -1, -1, -1, -1, -1, -1, -1, -1, -1, -1, -1, -1, -1, -1, -1, -1, -1,\n",
              "       -1, -1, -1, -1, -1, -1, -1, -1, -1, -1, -1, -1, -1, -1, -1, -1, -1,\n",
              "       -1, -1, -1, -1, -1, -1, -1, -1, -1, -1, -1, -1, -1, -1, -1, -1, -1,\n",
              "       -1, -1, -1, -1, -1, -1, -1, -1, -1, -1, -1, -1, -1, -1, -1, -1, -1,\n",
              "       -1, -1, -1, -1, -1, -1, -1, -1, -1, -1, -1, -1, -1, -1, -1, -1, -1,\n",
              "       -1, -1, -1, -1, -1, -1, -1, -1, -1, -1, -1, -1, -1, -1, -1, -1, -1,\n",
              "       -1, -1, -1, -1, -1, -1, -1, -1, -1, -1, -1, -1, -1, -1, -1, -1, -1,\n",
              "       -1, -1, -1, -1, -1, -1, -1, -1, -1, -1, -1, -1, -1, -1, -1, -1, -1,\n",
              "       -1, -1, -1, -1, -1, -1, -1, -1, -1, -1, -1, -1, -1, -1, -1, -1, -1,\n",
              "       -1, -1, -1, -1, -1, -1, -1, -1, -1, -1, -1, -1, -1, -1, -1, -1, -1,\n",
              "       -1, -1, -1, -1, -1, -1, -1, -1, -1, -1, -1, -1, -1, -1, -1, -1, -1,\n",
              "       -1, -1, -1, -1, -1, -1, -1, -1, -1, -1, -1, -1, -1, -1, -1, -1, -1,\n",
              "       -1, -1, -1, -1, -1, -1, -1, -1, -1, -1, -1, -1, -1, -1, -1, -1, -1,\n",
              "       -1, -1, -1, -1, -1, -1, -1, -1, -1, -1, -1, -1, -1, -1, -1, -1, -1,\n",
              "       -1, -1, -1, -1, -1, -1, -1, -1, -1, -1, -1, -1, -1, -1, -1, -1, -1,\n",
              "       -1, -1, -1, -1, -1, -1, -1])"
            ]
          },
          "metadata": {
            "tags": []
          },
          "execution_count": 39
        }
      ]
    },
    {
      "cell_type": "code",
      "metadata": {
        "id": "t9kgXhThihNn",
        "colab_type": "code",
        "colab": {
          "base_uri": "https://localhost:8080/",
          "height": 255
        },
        "outputId": "4872577b-e371-45cd-eac8-6cf31fddf2b3"
      },
      "source": [
        "predicted_labels"
      ],
      "execution_count": null,
      "outputs": [
        {
          "output_type": "execute_result",
          "data": {
            "text/plain": [
              "array([8, 6, 7, 7, 1, 0, 7, 6, 2, 1, 9, 6, 7, 9, 0, 0, 9, 8, 6, 3, 0, 2,\n",
              "       8, 4, 2, 9, 8, 6, 9, 8, 8, 3, 5, 1, 2, 1, 2, 2, 9, 7, 2, 3, 6, 0,\n",
              "       9, 3, 7, 5, 1, 2, 9, 4, 3, 1, 7, 7, 4, 8, 5, 8, 5, 9, 2, 5, 8, 0,\n",
              "       7, 1, 4, 7, 3, 4, 8, 9, 7, 7, 8, 2, 1, 9, 2, 9, 8, 4, 8, 7, 0, 6,\n",
              "       1, 5, 8, 9, 9, 5, 9, 9, 5, 7, 9, 6, 2, 8, 6, 9, 6, 1, 5, 8, 5, 9,\n",
              "       9, 1, 9, 3, 6, 8, 8, 4, 8, 7, 6, 7, 6, 5, 6, 0, 8, 8, 9, 8, 6, 1,\n",
              "       0, 4, 2, 6, 3, 8, 6, 7, 4, 9, 6, 3, 0, 3, 3, 3, 0, 8, 7, 9, 7, 8,\n",
              "       0, 7, 8, 9, 6, 4, 5, 0, 1, 4, 6, 4, 3, 8, 0, 9, 5, 9, 2, 1, 4, 8,\n",
              "       1, 6, 1, 9, 2, 4, 9, 3, 7, 6, 2, 3, 3, 1, 6, 9, 3, 6, 3, 2, 2, 0,\n",
              "       7, 6, 1, 8, 9, 7, 2, 7, 8, 5, 5, 7, 5, 2, 8, 7, 2, 7, 9, 5, 8, 0,\n",
              "       9, 6, 6, 5, 9, 7, 4, 3, 8, 0, 3, 6, 4, 6, 3, 2, 6, 1, 8, 8, 4, 6,\n",
              "       7, 5, 2, 1, 5, 3, 2, 4, 6, 9, 4, 5, 4, 3, 4, 6, 2, 9, 0, 1, 7, 2,\n",
              "       0, 9, 6, 0, 4, 2, 0, 7, 5, 8, 5, 4, 8, 2, 8, 4, 3, 8, 2, 6, 7, 1,\n",
              "       5, 1, 0, 8])"
            ]
          },
          "metadata": {
            "tags": []
          },
          "execution_count": 40
        }
      ]
    },
    {
      "cell_type": "code",
      "metadata": {
        "id": "QyIKRrkhijbv",
        "colab_type": "code",
        "colab": {
          "base_uri": "https://localhost:8080/",
          "height": 255
        },
        "outputId": "cefaba37-3653-4d89-95bf-1bd1dfcb0522"
      },
      "source": [
        "true_labels"
      ],
      "execution_count": null,
      "outputs": [
        {
          "output_type": "execute_result",
          "data": {
            "text/plain": [
              "array([8, 6, 7, 7, 1, 0, 7, 6, 2, 1, 9, 6, 7, 9, 0, 0, 5, 1, 6, 3, 0, 2,\n",
              "       3, 4, 1, 9, 2, 6, 9, 1, 8, 3, 5, 1, 2, 8, 2, 2, 9, 7, 2, 3, 6, 0,\n",
              "       5, 3, 7, 5, 1, 2, 9, 9, 3, 1, 7, 7, 4, 8, 5, 8, 5, 5, 2, 5, 9, 0,\n",
              "       7, 1, 4, 7, 3, 4, 8, 9, 7, 9, 8, 2, 6, 5, 2, 5, 8, 4, 8, 7, 0, 6,\n",
              "       1, 5, 9, 9, 9, 5, 9, 9, 5, 7, 5, 6, 2, 8, 6, 9, 6, 1, 5, 1, 5, 9,\n",
              "       9, 1, 5, 3, 6, 1, 8, 9, 8, 7, 6, 7, 6, 5, 6, 0, 8, 8, 9, 8, 6, 1,\n",
              "       0, 4, 1, 6, 3, 8, 6, 7, 4, 5, 6, 3, 0, 3, 3, 3, 0, 7, 7, 5, 7, 8,\n",
              "       0, 7, 8, 9, 6, 4, 5, 0, 1, 4, 6, 4, 3, 3, 0, 9, 5, 9, 2, 1, 4, 2,\n",
              "       1, 6, 8, 9, 2, 4, 9, 3, 7, 6, 2, 3, 3, 1, 6, 9, 3, 6, 3, 2, 2, 0,\n",
              "       7, 6, 1, 1, 9, 7, 2, 7, 8, 5, 5, 7, 5, 2, 3, 7, 2, 7, 5, 5, 7, 0,\n",
              "       9, 1, 6, 5, 9, 7, 4, 3, 8, 0, 3, 6, 4, 6, 3, 2, 6, 8, 8, 8, 4, 6,\n",
              "       7, 5, 2, 4, 5, 3, 2, 4, 6, 9, 4, 5, 4, 3, 4, 6, 2, 9, 0, 1, 7, 2,\n",
              "       0, 9, 6, 0, 4, 2, 0, 7, 9, 8, 5, 4, 8, 2, 8, 4, 3, 7, 2, 6, 9, 1,\n",
              "       5, 1, 0, 8])"
            ]
          },
          "metadata": {
            "tags": []
          },
          "execution_count": 41
        }
      ]
    },
    {
      "cell_type": "code",
      "metadata": {
        "id": "4XEaX0F7LPdU",
        "colab_type": "code",
        "colab": {
          "base_uri": "https://localhost:8080/",
          "height": 255
        },
        "outputId": "024c63e3-90ba-4ec0-e522-50f4bc6f2c74"
      },
      "source": [
        "print(lp_model.label_distributions_.shape)\n",
        "lp_model.label_distributions_"
      ],
      "execution_count": null,
      "outputs": [
        {
          "output_type": "stream",
          "text": [
            "(330, 10)\n"
          ],
          "name": "stdout"
        },
        {
          "output_type": "execute_result",
          "data": {
            "text/plain": [
              "array([[6.76139169e-148, 5.72305415e-087, 1.00000000e+000, ...,\n",
              "        7.12758726e-105, 4.00562208e-100, 1.32090505e-125],\n",
              "       [2.04821888e-135, 1.69838403e-093, 6.46808196e-093, ...,\n",
              "        4.00244949e-104, 1.00000000e+000, 4.47267749e-105],\n",
              "       [3.61168452e-155, 9.68369380e-072, 1.00000000e+000, ...,\n",
              "        7.32550381e-090, 3.82877354e-092, 1.23111626e-121],\n",
              "       ...,\n",
              "       [9.29894507e-104, 1.00000000e+000, 1.71648010e-023, ...,\n",
              "        2.64230899e-105, 1.13437608e-054, 8.84406591e-085],\n",
              "       [1.00000000e+000, 3.50052270e-105, 8.83343079e-128, ...,\n",
              "        1.12375483e-134, 5.85020968e-063, 1.34922827e-062],\n",
              "       [2.24251366e-103, 1.73043169e-061, 3.36141191e-066, ...,\n",
              "        2.85627932e-063, 1.00000000e+000, 4.74753770e-073]])"
            ]
          },
          "metadata": {
            "tags": []
          },
          "execution_count": 42
        }
      ]
    },
    {
      "cell_type": "code",
      "metadata": {
        "id": "qMxu4bmhiJcG",
        "colab_type": "code",
        "colab": {
          "base_uri": "https://localhost:8080/",
          "height": 255
        },
        "outputId": "c7959c2c-cafd-4410-a542-c8e4e039b0b6"
      },
      "source": [
        "print(lp_model.label_distributions_.T.shape)\n",
        "lp_model.label_distributions_.T"
      ],
      "execution_count": null,
      "outputs": [
        {
          "output_type": "stream",
          "text": [
            "(10, 330)\n"
          ],
          "name": "stdout"
        },
        {
          "output_type": "execute_result",
          "data": {
            "text/plain": [
              "array([[6.76139169e-148, 2.04821888e-135, 3.61168452e-155, ...,\n",
              "        9.29894507e-104, 1.00000000e+000, 2.24251366e-103],\n",
              "       [5.72305415e-087, 1.69838403e-093, 9.68369380e-072, ...,\n",
              "        1.00000000e+000, 3.50052270e-105, 1.73043169e-061],\n",
              "       [1.00000000e+000, 6.46808196e-093, 1.00000000e+000, ...,\n",
              "        1.71648010e-023, 8.83343079e-128, 3.36141191e-066],\n",
              "       ...,\n",
              "       [7.12758726e-105, 4.00244949e-104, 7.32550381e-090, ...,\n",
              "        2.64230899e-105, 1.12375483e-134, 2.85627932e-063],\n",
              "       [4.00562208e-100, 1.00000000e+000, 3.82877354e-092, ...,\n",
              "        1.13437608e-054, 5.85020968e-063, 1.00000000e+000],\n",
              "       [1.32090505e-125, 4.47267749e-105, 1.23111626e-121, ...,\n",
              "        8.84406591e-085, 1.34922827e-062, 4.74753770e-073]])"
            ]
          },
          "metadata": {
            "tags": []
          },
          "execution_count": 43
        }
      ]
    },
    {
      "cell_type": "code",
      "metadata": {
        "id": "cEQLPB4sUphf",
        "colab_type": "code",
        "colab": {
          "base_uri": "https://localhost:8080/",
          "height": 119
        },
        "outputId": "d0325033-1d5a-47c7-b0f8-6fb06aa43667"
      },
      "source": [
        "# compute the entropies of transduced label distributions\n",
        "pred_entropies = stats.distributions.entropy(\n",
        "    lp_model.label_distributions_.T)\n",
        "print(pred_entropies.shape)\n",
        "pred_entropies[:20]"
      ],
      "execution_count": null,
      "outputs": [
        {
          "output_type": "stream",
          "text": [
            "(330,)\n"
          ],
          "name": "stdout"
        },
        {
          "output_type": "execute_result",
          "data": {
            "text/plain": [
              "array([1.13648638e-084, 1.73579568e-090, 1.58343581e-069, 7.70197579e-081,\n",
              "       1.27441557e-064, 4.47893496e-066, 2.92176551e-052, 1.78775573e-054,\n",
              "       3.08295672e-043, 5.30506593e-113, 6.83967093e-074, 1.35291277e-056,\n",
              "       6.72229333e-059, 5.42754608e-085, 1.19207086e-052, 4.55594368e-074,\n",
              "       8.69792009e-080, 3.33251447e-081, 9.19207094e-096, 2.06946145e-054])"
            ]
          },
          "metadata": {
            "tags": []
          },
          "execution_count": 45
        }
      ]
    },
    {
      "cell_type": "code",
      "metadata": {
        "id": "vR9nYUxvU2ES",
        "colab_type": "code",
        "colab": {
          "base_uri": "https://localhost:8080/",
          "height": 459
        },
        "outputId": "7df2f53d-c26c-4124-e7a8-8a1a7baf9a0d"
      },
      "source": [
        "np.argsort(pred_entropies)"
      ],
      "execution_count": null,
      "outputs": [
        {
          "output_type": "execute_result",
          "data": {
            "text/plain": [
              "array([  9, 293,  72, 100,  39, 145, 148, 302,  21,  18,  87, 257, 146,\n",
              "         1, 106,  13,   0, 236, 322,  17,   3, 230, 239, 182, 216,  16,\n",
              "       151,  24, 139, 306,  73,  93, 262, 325,  15,  10, 137, 283, 136,\n",
              "       172, 286,  35,  38,   2, 304, 220, 244,  49, 266, 127, 154,  55,\n",
              "       109,  88,  77, 161, 254,  94, 275,   5, 224,  58, 212, 162,   4,\n",
              "       198, 233, 307,  32, 117, 235,  26, 108, 296, 180,  23,  98,  25,\n",
              "       133,  28, 195, 188,  60, 237, 194, 328, 310, 329, 192, 201, 214,\n",
              "        12, 259,  70, 248, 247,  11,  37, 279, 129, 142, 276, 204, 303,\n",
              "        44, 213,  41, 164, 229, 314, 103, 323,  51,  63, 123,   7, 316,\n",
              "       116,  19, 288, 278, 317, 297, 308, 111,  30, 199, 150, 221,  14,\n",
              "        45,  79,  43, 159,  31,  46, 271, 160, 246,   6,  33,  95, 243,\n",
              "       253, 311, 265, 114, 144,  36, 240, 166, 196, 126, 105, 300,  82,\n",
              "       245, 208, 290,  96, 292,  83, 225, 281, 178,  42, 298, 284,  74,\n",
              "        80,  54,  34,  20, 184, 269, 209, 165, 219,  29, 134,  52, 238,\n",
              "       326,  89,  76, 249,   8,  22,  27,  78, 168, 197, 149, 242,  50,\n",
              "       231, 163, 132, 181, 291, 131, 260, 200, 263, 113, 313, 294, 203,\n",
              "       170,  65, 268, 272, 193, 305, 176,  48, 319, 267, 211, 140, 309,\n",
              "       228, 102,  92, 167, 223, 287, 270, 169, 141, 318, 177, 122,  91,\n",
              "       157, 173,  99,  97, 158, 143, 135, 187, 299, 295, 110, 206,  59,\n",
              "       153, 255, 120, 112, 125,  40, 327, 107, 191, 119, 256,  75, 156,\n",
              "       217,  61, 277, 124, 320,  85,  86, 282,  68, 190, 179, 251, 315,\n",
              "       261,  90,  67,  57, 301, 210, 207, 186, 274, 227, 222, 264, 130,\n",
              "       232,  53,  81, 152,  69, 155, 138, 183, 215,  62, 175, 121, 285,\n",
              "       115,  47, 250, 104, 118, 185, 273, 324, 218,  56, 312, 147, 101,\n",
              "        84, 226, 252, 241, 321, 189, 258,  66, 234, 280, 174, 205, 289,\n",
              "        71, 171, 202,  64, 128])"
            ]
          },
          "metadata": {
            "tags": []
          },
          "execution_count": 47
        }
      ]
    },
    {
      "cell_type": "code",
      "metadata": {
        "id": "kV1pAOhai6Z8",
        "colab_type": "code",
        "colab": {
          "base_uri": "https://localhost:8080/",
          "height": 476
        },
        "outputId": "f108503d-4cd6-4c28-920a-db7f351c6ec0"
      },
      "source": [
        "# select up to 5 digit examples that the classifier is most uncertain about\n",
        "uncertainty_index = np.argsort(pred_entropies)[::-1]\n",
        "print(uncertainty_index.shape)\n",
        "uncertainty_index"
      ],
      "execution_count": null,
      "outputs": [
        {
          "output_type": "stream",
          "text": [
            "(330,)\n"
          ],
          "name": "stdout"
        },
        {
          "output_type": "execute_result",
          "data": {
            "text/plain": [
              "array([128,  64, 202, 171,  71, 289, 205, 174, 280, 234,  66, 258, 189,\n",
              "       321, 241, 252, 226,  84, 101, 147, 312,  56, 218, 324, 273, 185,\n",
              "       118, 104, 250,  47, 115, 285, 121, 175,  62, 215, 183, 138, 155,\n",
              "        69, 152,  81,  53, 232, 130, 264, 222, 227, 274, 186, 207, 210,\n",
              "       301,  57,  67,  90, 261, 315, 251, 179, 190,  68, 282,  86,  85,\n",
              "       320, 124, 277,  61, 217, 156,  75, 256, 119, 191, 107, 327,  40,\n",
              "       125, 112, 120, 255, 153,  59, 206, 110, 295, 299, 187, 135, 143,\n",
              "       158,  97,  99, 173, 157,  91, 122, 177, 318, 141, 169, 270, 287,\n",
              "       223, 167,  92, 102, 228, 309, 140, 211, 267, 319,  48, 176, 305,\n",
              "       193, 272, 268,  65, 170, 203, 294, 313, 113, 263, 200, 260, 131,\n",
              "       291, 181, 132, 163, 231,  50, 242, 149, 197, 168,  78,  27,  22,\n",
              "         8, 249,  76,  89, 326, 238,  52, 134,  29, 219, 165, 209, 269,\n",
              "       184,  20,  34,  54,  80,  74, 284, 298,  42, 178, 281, 225,  83,\n",
              "       292,  96, 290, 208, 245,  82, 300, 105, 126, 196, 166, 240,  36,\n",
              "       144, 114, 265, 311, 253, 243,  95,  33,   6, 246, 160, 271,  46,\n",
              "        31, 159,  43,  79,  45,  14, 221, 150, 199,  30, 111, 308, 297,\n",
              "       317, 278, 288,  19, 116, 316,   7, 123,  63,  51, 323, 103, 314,\n",
              "       229, 164,  41, 213,  44, 303, 204, 276, 142, 129, 279,  37,  11,\n",
              "       247, 248,  70, 259,  12, 214, 201, 192, 329, 310, 328, 194, 237,\n",
              "        60, 188, 195,  28, 133,  25,  98,  23, 180, 296, 108,  26, 235,\n",
              "       117,  32, 307, 233, 198,   4, 162, 212,  58, 224,   5, 275,  94,\n",
              "       254, 161,  77,  88, 109,  55, 154, 127, 266,  49, 244, 220, 304,\n",
              "         2,  38,  35, 286, 172, 136, 283, 137,  10,  15, 325, 262,  93,\n",
              "        73, 306, 139,  24, 151,  16, 216, 182, 239, 230,   3,  17, 322,\n",
              "       236,   0,  13, 106,   1, 146, 257,  87,  18,  21, 302, 148, 145,\n",
              "        39, 100,  72, 293,   9])"
            ]
          },
          "metadata": {
            "tags": []
          },
          "execution_count": 46
        }
      ]
    },
    {
      "cell_type": "code",
      "metadata": {
        "id": "6T5dO3kiP_1d",
        "colab_type": "code",
        "colab": {
          "base_uri": "https://localhost:8080/",
          "height": 357
        },
        "outputId": "e49056e2-0df5-4dfb-b4f3-fcfaf388785f"
      },
      "source": [
        "unlabeled_indices"
      ],
      "execution_count": null,
      "outputs": [
        {
          "output_type": "execute_result",
          "data": {
            "text/plain": [
              "array([ 40,  41,  42,  43,  44,  45,  46,  48,  49,  50,  51,  52,  53,\n",
              "        54,  55,  56,  58,  59,  60,  61,  62,  63,  65,  67,  68,  70,\n",
              "        72,  73,  74,  75,  76,  77,  78,  79,  80,  81,  82,  83,  85,\n",
              "        86,  87,  88,  89,  90,  91,  92,  93,  94,  95,  96,  97,  98,\n",
              "        99, 100, 102, 103, 105, 106, 107, 108, 109, 110, 111, 112, 113,\n",
              "       114, 115, 116, 117, 119, 120, 121, 122, 123, 125, 126, 127, 129,\n",
              "       130, 131, 132, 133, 134, 135, 136, 137, 138, 139, 140, 141, 142,\n",
              "       143, 144, 145, 146, 147, 148, 149, 150, 151, 152, 153, 154, 155,\n",
              "       156, 157, 159, 160, 161, 162, 163, 164, 165, 166, 168, 169, 170,\n",
              "       172, 173, 174, 175, 176, 177, 178, 180, 181, 182, 183, 184, 185,\n",
              "       186, 187, 188, 190, 191, 192, 193, 194, 195, 196, 197, 198, 199,\n",
              "       200, 201, 203, 204, 206, 207, 208, 209, 210, 211, 212, 213, 214,\n",
              "       215, 216, 217, 219, 220, 221, 222, 223, 224, 225, 227, 228, 229,\n",
              "       230, 231, 232, 233, 234, 235, 236, 237, 238, 239, 240, 241, 242,\n",
              "       243, 244, 245, 246, 247, 248, 249, 250, 251, 253, 254, 255, 256,\n",
              "       257, 259, 260, 261, 262, 263, 264, 265, 266, 267, 268, 269, 270,\n",
              "       271, 272, 274, 275, 276, 277, 278, 279, 281, 282, 283, 284, 286,\n",
              "       287, 288, 290, 291, 292, 293, 294, 295, 296, 297, 298, 299, 300,\n",
              "       302, 303, 304, 305, 306, 307, 308, 309, 310, 311, 313, 314, 315,\n",
              "       316, 317, 318, 319, 320, 322, 323, 324, 325, 326, 327, 328, 329])"
            ]
          },
          "metadata": {
            "tags": []
          },
          "execution_count": 17
        }
      ]
    },
    {
      "cell_type": "code",
      "metadata": {
        "id": "Op5TQZWVVMVD",
        "colab_type": "code",
        "colab": {
          "base_uri": "https://localhost:8080/",
          "height": 646
        },
        "outputId": "09fa6226-bf10-4ab7-c37f-6f2fe134f96f"
      },
      "source": [
        "np.in1d(uncertainty_index, unlabeled_indices)"
      ],
      "execution_count": null,
      "outputs": [
        {
          "output_type": "execute_result",
          "data": {
            "text/plain": [
              "array([ True,  True,  True,  True,  True,  True,  True,  True,  True,\n",
              "        True,  True,  True,  True,  True,  True,  True,  True,  True,\n",
              "        True,  True,  True,  True,  True,  True,  True,  True,  True,\n",
              "        True,  True,  True,  True,  True,  True,  True,  True,  True,\n",
              "        True,  True,  True,  True,  True,  True,  True,  True,  True,\n",
              "        True,  True,  True,  True,  True,  True,  True,  True,  True,\n",
              "        True,  True,  True,  True,  True,  True,  True,  True,  True,\n",
              "        True,  True,  True,  True,  True,  True,  True,  True,  True,\n",
              "        True,  True,  True,  True,  True,  True,  True,  True,  True,\n",
              "        True,  True,  True,  True,  True,  True,  True,  True,  True,\n",
              "        True,  True,  True,  True,  True,  True,  True,  True,  True,\n",
              "        True,  True,  True,  True,  True,  True,  True,  True,  True,\n",
              "        True,  True,  True,  True,  True,  True,  True,  True,  True,\n",
              "        True,  True,  True,  True,  True,  True,  True,  True,  True,\n",
              "        True,  True,  True,  True,  True,  True,  True,  True,  True,\n",
              "        True,  True,  True,  True,  True,  True, False, False, False,\n",
              "        True,  True,  True,  True,  True,  True,  True, False,  True,\n",
              "        True,  True,  True,  True, False, False,  True,  True,  True,\n",
              "        True,  True,  True,  True,  True,  True,  True,  True,  True,\n",
              "        True,  True,  True,  True,  True,  True,  True,  True,  True,\n",
              "        True, False,  True,  True,  True,  True,  True,  True,  True,\n",
              "       False, False,  True,  True,  True,  True, False,  True,  True,\n",
              "        True,  True, False,  True,  True,  True, False,  True,  True,\n",
              "        True,  True,  True,  True, False,  True,  True, False,  True,\n",
              "        True,  True,  True,  True,  True,  True,  True,  True,  True,\n",
              "        True,  True,  True,  True,  True,  True,  True, False, False,\n",
              "        True,  True,  True,  True, False,  True,  True,  True,  True,\n",
              "        True,  True,  True,  True,  True,  True,  True, False,  True,\n",
              "       False,  True, False,  True,  True,  True, False,  True,  True,\n",
              "       False,  True,  True,  True, False,  True,  True,  True,  True,\n",
              "       False,  True,  True,  True,  True,  True,  True,  True,  True,\n",
              "        True,  True,  True,  True,  True,  True,  True, False, False,\n",
              "       False,  True,  True,  True,  True,  True, False, False,  True,\n",
              "        True,  True,  True,  True,  True, False,  True, False,  True,\n",
              "        True,  True,  True, False, False,  True,  True, False, False,\n",
              "        True, False,  True,  True,  True, False, False,  True,  True,\n",
              "        True, False,  True,  True,  True, False])"
            ]
          },
          "metadata": {
            "tags": []
          },
          "execution_count": 48
        }
      ]
    },
    {
      "cell_type": "code",
      "metadata": {
        "id": "23midheUi-1E",
        "colab_type": "code",
        "colab": {
          "base_uri": "https://localhost:8080/",
          "height": 34
        },
        "outputId": "cf5cb6f2-4c05-4f8f-cc05-8208587b30fc"
      },
      "source": [
        "uncertainty_index = uncertainty_index[np.in1d(uncertainty_index, unlabeled_indices)][:5]\n",
        "uncertainty_index # Image index ?"
      ],
      "execution_count": null,
      "outputs": [
        {
          "output_type": "execute_result",
          "data": {
            "text/plain": [
              "array([273, 104, 118,  47, 124])"
            ]
          },
          "metadata": {
            "tags": []
          },
          "execution_count": 14
        }
      ]
    },
    {
      "cell_type": "code",
      "metadata": {
        "id": "o0BQPbC4Lf6g",
        "colab_type": "code",
        "colab": {
          "base_uri": "https://localhost:8080/",
          "height": 34
        },
        "outputId": "65907456-6a1a-4ef6-8cf6-a3fe2b4adb91"
      },
      "source": [
        "# keep track of indices that we get labels for\n",
        "delete_indices = np.array([], dtype=int)\n",
        "delete_indices"
      ],
      "execution_count": null,
      "outputs": [
        {
          "output_type": "execute_result",
          "data": {
            "text/plain": [
              "array([], dtype=int64)"
            ]
          },
          "metadata": {
            "tags": []
          },
          "execution_count": 16
        }
      ]
    },
    {
      "cell_type": "code",
      "metadata": {
        "id": "4oU_uGaRhc3Y",
        "colab_type": "code",
        "colab": {
          "base_uri": "https://localhost:8080/",
          "height": 479
        },
        "outputId": "d86d0329-d791-489a-9dfb-f6e9058733ce"
      },
      "source": [
        "for index, image_index in enumerate(uncertainty_index):\n",
        "    # labeling 5 points, remote from labeled set\n",
        "    delete_index, = np.where(unlabeled_indices == image_index)\n",
        "    delete_indices = np.concatenate((delete_indices, delete_index))\n",
        "    print('delete_index',delete_index)\n",
        "    print('delete_indices',delete_indices)\n",
        "\n",
        "unlabeled_indices = np.delete(unlabeled_indices, delete_indices)\n",
        "n_labeled_points += len(uncertainty_index)\n",
        "print('unlabeled_indices',unlabeled_indices)\n",
        "print('n_labeled_points',n_labeled_points)"
      ],
      "execution_count": null,
      "outputs": [
        {
          "output_type": "stream",
          "text": [
            "delete_index []\n",
            "delete_indices []\n",
            "delete_index []\n",
            "delete_indices []\n",
            "delete_index []\n",
            "delete_indices []\n",
            "delete_index []\n",
            "delete_indices []\n",
            "delete_index []\n",
            "delete_indices []\n",
            "unlabeled_indices [ 40  41  42  43  44  45  46  48  49  50  51  52  53  54  55  56  58  59\n",
            "  60  61  62  63  65  67  68  70  72  73  74  75  76  77  78  79  80  81\n",
            "  82  83  85  86  87  88  89  90  91  92  93  94  95  96  97  98  99 100\n",
            " 102 103 105 106 107 108 109 110 111 112 113 114 115 116 117 119 120 121\n",
            " 122 123 125 126 127 129 130 131 132 133 134 135 136 137 138 139 140 141\n",
            " 142 143 144 145 146 147 148 149 150 151 152 153 154 155 156 157 159 160\n",
            " 161 162 163 164 165 166 168 169 170 172 173 174 175 176 177 178 180 181\n",
            " 182 183 184 185 186 187 188 190 191 192 193 194 195 196 197 198 199 200\n",
            " 201 203 204 206 207 208 209 210 211 212 213 214 215 216 217 219 220 221\n",
            " 222 223 224 225 227 228 229 230 231 232 233 234 235 236 237 238 239 240\n",
            " 241 242 243 244 245 246 247 248 249 250 251 253 254 255 256 257 259 260\n",
            " 261 262 263 264 265 266 267 268 269 270 271 272 274 275 276 277 278 279\n",
            " 281 282 283 284 286 287 288 290 291 292 293 294 295 296 297 298 299 300\n",
            " 302 303 304 305 306 307 308 309 310 311 313 314 315 316 317 318 319 320\n",
            " 322 323 324 325 326 327 328 329]\n",
            "n_labeled_points 75\n"
          ],
          "name": "stdout"
        }
      ]
    },
    {
      "cell_type": "markdown",
      "metadata": {
        "id": "8HFnUww4cz_Z",
        "colab_type": "text"
      },
      "source": [
        "# Try Breast_cancer"
      ]
    },
    {
      "cell_type": "code",
      "metadata": {
        "id": "ujfRQdoceKpW",
        "colab_type": "code",
        "colab": {}
      },
      "source": [
        "import json\n",
        "import numpy as np\n",
        "import pandas as pd\n",
        "import matplotlib.pyplot as plt\n",
        "import seaborn as sns ; sns.set()\n",
        "\n",
        "\n",
        "#Load sklearn\n",
        "from sklearn.preprocessing import StandardScaler, RobustScaler\n",
        "from sklearn.model_selection import train_test_split\n",
        "from sklearn.model_selection import KFold,StratifiedKFold\n",
        "from sklearn.model_selection import cross_val_score,cross_validate,cross_val_predict\n",
        "from sklearn.model_selection import RandomizedSearchCV,GridSearchCV\n",
        "from sklearn.pipeline import Pipeline\n",
        "from sklearn.compose import ColumnTransformer\n",
        "from sklearn.utils import shuffle\n",
        "\n",
        "from sklearn.metrics import log_loss ,balanced_accuracy_score\n",
        "from sklearn.metrics import classification_report,confusion_matrix\n",
        "from sklearn.metrics import precision_score, recall_score, f1_score, roc_auc_score, accuracy_score\n",
        "from sklearn.metrics import make_scorer,roc_curve, auc,precision_recall_curve\n",
        "from sklearn.metrics import f1_score,balanced_accuracy_score,average_precision_score \n",
        "\n",
        "#ML normal ML\n",
        "from sklearn.linear_model import LogisticRegression\n",
        "from sklearn.tree import DecisionTreeClassifier\n",
        "from sklearn.neighbors import KNeighborsClassifier\n",
        "from sklearn.discriminant_analysis import LinearDiscriminantAnalysis\n",
        "from sklearn.naive_bayes import GaussianNB\n",
        "from sklearn.svm import SVC\n",
        "\n",
        "#ML ensembles\n",
        "from sklearn.ensemble import AdaBoostClassifier\n",
        "from sklearn.ensemble import GradientBoostingClassifier\n",
        "from sklearn.ensemble import RandomForestClassifier\n",
        "from sklearn.ensemble import ExtraTreesClassifier\n",
        "from sklearn.ensemble import BaggingClassifier\n",
        "from sklearn.ensemble import VotingClassifier\n",
        "from sklearn.ensemble import StackingClassifier\n",
        "\n",
        "#Special\n",
        "from xgboost import XGBClassifier\n",
        "from lightgbm import LGBMClassifier"
      ],
      "execution_count": 74,
      "outputs": []
    },
    {
      "cell_type": "code",
      "metadata": {
        "id": "EW3LW4Woc6Xg",
        "colab_type": "code",
        "colab": {
          "base_uri": "https://localhost:8080/",
          "height": 34
        },
        "outputId": "f093fc45-fbcb-477a-eb51-d2f5e54da9c0"
      },
      "source": [
        "import numpy as np\n",
        "import pandas as pd\n",
        "import matplotlib.pyplot as plt\n",
        "from sklearn import datasets\n",
        "from sklearn import svm\n",
        "from sklearn.semi_supervised import LabelSpreading\n",
        "\n",
        "rng = np.random.RandomState(0)\n",
        "\n",
        "file = datasets.load_breast_cancer()\n",
        "X = file.data\n",
        "y = file.target\n",
        "print(X.shape,y.shape)"
      ],
      "execution_count": null,
      "outputs": [
        {
          "output_type": "stream",
          "text": [
            "(569, 30) (569,)\n"
          ],
          "name": "stdout"
        }
      ]
    },
    {
      "cell_type": "code",
      "metadata": {
        "id": "cwQxtYdxdIFQ",
        "colab_type": "code",
        "colab": {
          "base_uri": "https://localhost:8080/",
          "height": 238
        },
        "outputId": "9613bb5e-5146-4395-daf8-118a8632ce92"
      },
      "source": [
        "X"
      ],
      "execution_count": null,
      "outputs": [
        {
          "output_type": "execute_result",
          "data": {
            "text/plain": [
              "array([[1.799e+01, 1.038e+01, 1.228e+02, ..., 2.654e-01, 4.601e-01,\n",
              "        1.189e-01],\n",
              "       [2.057e+01, 1.777e+01, 1.329e+02, ..., 1.860e-01, 2.750e-01,\n",
              "        8.902e-02],\n",
              "       [1.969e+01, 2.125e+01, 1.300e+02, ..., 2.430e-01, 3.613e-01,\n",
              "        8.758e-02],\n",
              "       ...,\n",
              "       [1.660e+01, 2.808e+01, 1.083e+02, ..., 1.418e-01, 2.218e-01,\n",
              "        7.820e-02],\n",
              "       [2.060e+01, 2.933e+01, 1.401e+02, ..., 2.650e-01, 4.087e-01,\n",
              "        1.240e-01],\n",
              "       [7.760e+00, 2.454e+01, 4.792e+01, ..., 0.000e+00, 2.871e-01,\n",
              "        7.039e-02]])"
            ]
          },
          "metadata": {
            "tags": []
          },
          "execution_count": 3
        }
      ]
    },
    {
      "cell_type": "code",
      "metadata": {
        "id": "IeQw98Y5dNHR",
        "colab_type": "code",
        "colab": {
          "base_uri": "https://localhost:8080/",
          "height": 34
        },
        "outputId": "f09171af-54a5-4979-fae7-573168f37ce1"
      },
      "source": [
        "y[:20]"
      ],
      "execution_count": null,
      "outputs": [
        {
          "output_type": "execute_result",
          "data": {
            "text/plain": [
              "array([0, 0, 0, 0, 0, 0, 0, 0, 0, 0, 0, 0, 0, 0, 0, 0, 0, 0, 0, 1])"
            ]
          },
          "metadata": {
            "tags": []
          },
          "execution_count": 4
        }
      ]
    },
    {
      "cell_type": "code",
      "metadata": {
        "id": "O0fQC4QMeRi2",
        "colab_type": "code",
        "colab": {
          "base_uri": "https://localhost:8080/",
          "height": 34
        },
        "outputId": "113a1aa0-4f92-45c5-abca-fa7ff2a28047"
      },
      "source": [
        "np.unique(y)"
      ],
      "execution_count": null,
      "outputs": [
        {
          "output_type": "execute_result",
          "data": {
            "text/plain": [
              "array([0, 1])"
            ]
          },
          "metadata": {
            "tags": []
          },
          "execution_count": 5
        }
      ]
    },
    {
      "cell_type": "markdown",
      "metadata": {
        "id": "RlFZhIpddxls",
        "colab_type": "text"
      },
      "source": [
        "## Base line"
      ]
    },
    {
      "cell_type": "code",
      "metadata": {
        "id": "iO0PqeYSdZRz",
        "colab_type": "code",
        "colab": {
          "base_uri": "https://localhost:8080/",
          "height": 51
        },
        "outputId": "74f8f3b8-79cd-4f8a-93fa-64c5a37f330d"
      },
      "source": [
        "X_train,  X_test, y_train, y_test = train_test_split(X,y, test_size = 0.2, \n",
        "                                                     random_state = 42,stratify=y)\n",
        "print(X_train.shape,y_train.shape)\n",
        "print(X_test.shape,y_test.shape)"
      ],
      "execution_count": null,
      "outputs": [
        {
          "output_type": "stream",
          "text": [
            "(455, 30) (455,)\n",
            "(114, 30) (114,)\n"
          ],
          "name": "stdout"
        }
      ]
    },
    {
      "cell_type": "code",
      "metadata": {
        "id": "T7hCyuGLeb0a",
        "colab_type": "code",
        "colab": {
          "base_uri": "https://localhost:8080/",
          "height": 221
        },
        "outputId": "a2f7962d-7fc6-4071-8cf4-92fdbf5edf8f"
      },
      "source": [
        "model=XGBClassifier()\n",
        "model.fit(X_train, y_train)\n",
        "y_pred = model.predict(X_test)\n",
        "\n",
        "print(confusion_matrix(y_test,y_pred))\n",
        "#print('Accuracy score:',accuracy_score(y_test,y_pred))\n",
        "print('Balanced accuracy score:',balanced_accuracy_score(y_test,y_pred))\n",
        "print(classification_report(y_test,y_pred))"
      ],
      "execution_count": null,
      "outputs": [
        {
          "output_type": "stream",
          "text": [
            "[[38  4]\n",
            " [ 1 71]]\n",
            "Balanced accuracy score: 0.9454365079365079\n",
            "              precision    recall  f1-score   support\n",
            "\n",
            "           0       0.97      0.90      0.94        42\n",
            "           1       0.95      0.99      0.97        72\n",
            "\n",
            "    accuracy                           0.96       114\n",
            "   macro avg       0.96      0.95      0.95       114\n",
            "weighted avg       0.96      0.96      0.96       114\n",
            "\n"
          ],
          "name": "stdout"
        }
      ]
    },
    {
      "cell_type": "code",
      "metadata": {
        "id": "23HdSCFFkEQA",
        "colab_type": "code",
        "colab": {
          "base_uri": "https://localhost:8080/",
          "height": 255
        },
        "outputId": "55f39dc0-7d93-4912-c4a6-31757f03ee85"
      },
      "source": [
        "X_train,  X_test, y_train, y_test = train_test_split(X,y, test_size = 0.9, \n",
        "                                                     random_state = 42,stratify=y)\n",
        "print(X_train.shape,y_train.shape)\n",
        "print(X_test.shape,y_test.shape)\n",
        "model=XGBClassifier()\n",
        "model.fit(X_train, y_train)\n",
        "y_pred = model.predict(X_test)\n",
        "\n",
        "print(confusion_matrix(y_test,y_pred))\n",
        "#print('Accuracy score:',accuracy_score(y_test,y_pred))\n",
        "print('Balanced accuracy score:',balanced_accuracy_score(y_test,y_pred))\n",
        "print(classification_report(y_test,y_pred))"
      ],
      "execution_count": null,
      "outputs": [
        {
          "output_type": "stream",
          "text": [
            "(56, 30) (56,)\n",
            "(513, 30) (513,)\n",
            "[[167  24]\n",
            " [ 22 300]]\n",
            "Balanced accuracy score: 0.9030112841858802\n",
            "              precision    recall  f1-score   support\n",
            "\n",
            "           0       0.88      0.87      0.88       191\n",
            "           1       0.93      0.93      0.93       322\n",
            "\n",
            "    accuracy                           0.91       513\n",
            "   macro avg       0.90      0.90      0.90       513\n",
            "weighted avg       0.91      0.91      0.91       513\n",
            "\n"
          ],
          "name": "stdout"
        }
      ]
    },
    {
      "cell_type": "markdown",
      "metadata": {
        "id": "K7S49Vwheorn",
        "colab_type": "text"
      },
      "source": [
        "## Semi supervised with Label progapagation"
      ]
    },
    {
      "cell_type": "code",
      "metadata": {
        "id": "mpMSP5sBgmfi",
        "colab_type": "code",
        "colab": {
          "base_uri": "https://localhost:8080/",
          "height": 34
        },
        "outputId": "91e94a62-10d1-4007-f980-c5af7f15f849"
      },
      "source": [
        "import numpy as np\n",
        "import pandas as pd\n",
        "import matplotlib.pyplot as plt\n",
        "from sklearn import datasets\n",
        "from sklearn import svm\n",
        "from sklearn.semi_supervised import LabelSpreading\n",
        "\n",
        "file = datasets.load_breast_cancer()\n",
        "X = file.data\n",
        "y = file.target\n",
        "print(X.shape,y.shape)"
      ],
      "execution_count": null,
      "outputs": [
        {
          "output_type": "stream",
          "text": [
            "(569, 30) (569,)\n"
          ],
          "name": "stdout"
        }
      ]
    },
    {
      "cell_type": "code",
      "metadata": {
        "id": "lHMDVu14f0i9",
        "colab_type": "code",
        "colab": {
          "base_uri": "https://localhost:8080/",
          "height": 68
        },
        "outputId": "e6186f58-8a0e-43f4-fd3b-16e35bd7fd9f"
      },
      "source": [
        "n_total_samples = len(y)\n",
        "indices = np.arange(n_total_samples)\n",
        "print(indices.shape)\n",
        "indices[:20]"
      ],
      "execution_count": null,
      "outputs": [
        {
          "output_type": "stream",
          "text": [
            "(569,)\n"
          ],
          "name": "stdout"
        },
        {
          "output_type": "execute_result",
          "data": {
            "text/plain": [
              "array([ 0,  1,  2,  3,  4,  5,  6,  7,  8,  9, 10, 11, 12, 13, 14, 15, 16,\n",
              "       17, 18, 19])"
            ]
          },
          "metadata": {
            "tags": []
          },
          "execution_count": 10
        }
      ]
    },
    {
      "cell_type": "code",
      "metadata": {
        "id": "FvO_pn9JfRLu",
        "colab_type": "code",
        "colab": {
          "base_uri": "https://localhost:8080/",
          "height": 85
        },
        "outputId": "bc888d0f-84d1-4752-a2f0-1952592141c2"
      },
      "source": [
        "true_label_percentage=0.1\n",
        "n_labeled_points = int(true_label_percentage*n_total_samples) \n",
        "print(n_labeled_points)\n",
        "unlabeled_set = indices[n_labeled_points:]\n",
        "print(unlabeled_set.shape)\n",
        "unlabeled_set[:20]"
      ],
      "execution_count": null,
      "outputs": [
        {
          "output_type": "stream",
          "text": [
            "56\n",
            "(513,)\n"
          ],
          "name": "stdout"
        },
        {
          "output_type": "execute_result",
          "data": {
            "text/plain": [
              "array([56, 57, 58, 59, 60, 61, 62, 63, 64, 65, 66, 67, 68, 69, 70, 71, 72,\n",
              "       73, 74, 75])"
            ]
          },
          "metadata": {
            "tags": []
          },
          "execution_count": 11
        }
      ]
    },
    {
      "cell_type": "code",
      "metadata": {
        "id": "6yNhCjpwfRRh",
        "colab_type": "code",
        "colab": {}
      },
      "source": [
        "# Shuffle everything around\n",
        "y_train = np.copy(y)\n",
        "y_train[unlabeled_set] = -1"
      ],
      "execution_count": null,
      "outputs": []
    },
    {
      "cell_type": "code",
      "metadata": {
        "id": "F62ghZNMfRPf",
        "colab_type": "code",
        "colab": {
          "base_uri": "https://localhost:8080/",
          "height": 102
        },
        "outputId": "9c2a7bf4-d132-4d57-bf82-b68bf4d6d015"
      },
      "source": [
        "y_train[:80]"
      ],
      "execution_count": null,
      "outputs": [
        {
          "output_type": "execute_result",
          "data": {
            "text/plain": [
              "array([ 0,  0,  0,  0,  0,  0,  0,  0,  0,  0,  0,  0,  0,  0,  0,  0,  0,\n",
              "        0,  0,  1,  1,  1,  0,  0,  0,  0,  0,  0,  0,  0,  0,  0,  0,  0,\n",
              "        0,  0,  0,  1,  0,  0,  0,  0,  0,  0,  0,  0,  1,  0,  1,  1,  1,\n",
              "        1,  1,  0,  0,  1, -1, -1, -1, -1, -1, -1, -1, -1, -1, -1, -1, -1,\n",
              "       -1, -1, -1, -1, -1, -1, -1, -1, -1, -1, -1, -1])"
            ]
          },
          "metadata": {
            "tags": []
          },
          "execution_count": 13
        }
      ]
    },
    {
      "cell_type": "code",
      "metadata": {
        "id": "a1-GpNp5fPxi",
        "colab_type": "code",
        "colab": {
          "base_uri": "https://localhost:8080/",
          "height": 275
        },
        "outputId": "07cb227b-6a8e-4c18-aec3-c84b3f4d54fd"
      },
      "source": [
        "# Learn with LabelSpreading\n",
        "lp_model = LabelSpreading(gamma=.25, max_iter=20)\n",
        "lp_model.fit(X, y_train)\n",
        "# prediction for unlabeled set only\n",
        "y_pred = lp_model.transduction_[unlabeled_set]\n",
        "y_test = y[unlabeled_set]\n",
        "\n",
        "print(confusion_matrix(y_test,y_pred))\n",
        "#print('Accuracy score:',accuracy_score(y_test,y_pred))\n",
        "print('Balanced accuracy score:',balanced_accuracy_score(y_test,y_pred))\n",
        "print(classification_report(y_test,y_pred))"
      ],
      "execution_count": null,
      "outputs": [
        {
          "output_type": "stream",
          "text": [
            "[[164   3]\n",
            " [ 92 254]]\n",
            "Balanced accuracy score: 0.8580699871932436\n",
            "              precision    recall  f1-score   support\n",
            "\n",
            "           0       0.64      0.98      0.78       167\n",
            "           1       0.99      0.73      0.84       346\n",
            "\n",
            "    accuracy                           0.81       513\n",
            "   macro avg       0.81      0.86      0.81       513\n",
            "weighted avg       0.88      0.81      0.82       513\n",
            "\n"
          ],
          "name": "stdout"
        },
        {
          "output_type": "stream",
          "text": [
            "/usr/local/lib/python3.6/dist-packages/sklearn/semi_supervised/_label_propagation.py:293: RuntimeWarning: invalid value encountered in true_divide\n",
            "  self.label_distributions_ /= normalizer\n"
          ],
          "name": "stderr"
        }
      ]
    },
    {
      "cell_type": "markdown",
      "metadata": {
        "id": "WRT8wtHghhEN",
        "colab_type": "text"
      },
      "source": [
        "Try several percentage true label not mask:\n"
      ]
    },
    {
      "cell_type": "code",
      "metadata": {
        "id": "6mIacpf5hIRB",
        "colab_type": "code",
        "colab": {
          "base_uri": "https://localhost:8080/",
          "height": 1000
        },
        "outputId": "9f6349f6-a328-412a-b522-9a438c065f6e"
      },
      "source": [
        "list_percentage=[0.1,0.2,0.3,0.4,0.5,0.7,0.8]\n",
        "for i in list_percentage:\n",
        "  print('Percentage true label: ',i)\n",
        "  true_label_percentage=i\n",
        "  n_labeled_points = int(true_label_percentage*n_total_samples) \n",
        "  print(n_labeled_points)\n",
        "  unlabeled_set = indices[n_labeled_points:]\n",
        "  print(unlabeled_set.shape)\n",
        "  # Shuffle everything around\n",
        "  y_train = np.copy(y)\n",
        "  y_train[unlabeled_set] = -1\n",
        "  # Learn with LabelSpreading\n",
        "  lp_model = LabelSpreading(gamma=.25, max_iter=20)\n",
        "  lp_model.fit(X, y_train)\n",
        "  # prediction for unlabeled set only\n",
        "  y_pred = lp_model.transduction_[unlabeled_set]\n",
        "  y_test = y[unlabeled_set]\n",
        "\n",
        "  print(confusion_matrix(y_test,y_pred))\n",
        "  #print('Accuracy score:',accuracy_score(y_test,y_pred))\n",
        "  print('Balanced accuracy score:',balanced_accuracy_score(y_test,y_pred))\n",
        "  print(classification_report(y_test,y_pred))"
      ],
      "execution_count": null,
      "outputs": [
        {
          "output_type": "stream",
          "text": [
            "Percentage true label:  0.1\n",
            "56\n",
            "(513,)\n",
            "[[164   3]\n",
            " [ 92 254]]\n",
            "Balanced accuracy score: 0.8580699871932436\n",
            "              precision    recall  f1-score   support\n",
            "\n",
            "           0       0.64      0.98      0.78       167\n",
            "           1       0.99      0.73      0.84       346\n",
            "\n",
            "    accuracy                           0.81       513\n",
            "   macro avg       0.81      0.86      0.81       513\n",
            "weighted avg       0.88      0.81      0.82       513\n",
            "\n",
            "Percentage true label:  0.2\n",
            "113\n",
            "(456,)\n"
          ],
          "name": "stdout"
        },
        {
          "output_type": "stream",
          "text": [
            "/usr/local/lib/python3.6/dist-packages/sklearn/semi_supervised/_label_propagation.py:293: RuntimeWarning: invalid value encountered in true_divide\n",
            "  self.label_distributions_ /= normalizer\n",
            "/usr/local/lib/python3.6/dist-packages/sklearn/semi_supervised/_label_propagation.py:293: RuntimeWarning: invalid value encountered in true_divide\n",
            "  self.label_distributions_ /= normalizer\n",
            "/usr/local/lib/python3.6/dist-packages/sklearn/semi_supervised/_label_propagation.py:293: RuntimeWarning: invalid value encountered in true_divide\n",
            "  self.label_distributions_ /= normalizer\n",
            "/usr/local/lib/python3.6/dist-packages/sklearn/semi_supervised/_label_propagation.py:293: RuntimeWarning: invalid value encountered in true_divide\n",
            "  self.label_distributions_ /= normalizer\n"
          ],
          "name": "stderr"
        },
        {
          "output_type": "stream",
          "text": [
            "[[135   9]\n",
            " [ 55 257]]\n",
            "Balanced accuracy score: 0.8806089743589743\n",
            "              precision    recall  f1-score   support\n",
            "\n",
            "           0       0.71      0.94      0.81       144\n",
            "           1       0.97      0.82      0.89       312\n",
            "\n",
            "    accuracy                           0.86       456\n",
            "   macro avg       0.84      0.88      0.85       456\n",
            "weighted avg       0.89      0.86      0.86       456\n",
            "\n",
            "Percentage true label:  0.3\n",
            "170\n",
            "(399,)\n",
            "[[106  17]\n",
            " [ 38 238]]\n",
            "Balanced accuracy score: 0.8620537292329445\n",
            "              precision    recall  f1-score   support\n",
            "\n",
            "           0       0.74      0.86      0.79       123\n",
            "           1       0.93      0.86      0.90       276\n",
            "\n",
            "    accuracy                           0.86       399\n",
            "   macro avg       0.83      0.86      0.85       399\n",
            "weighted avg       0.87      0.86      0.86       399\n",
            "\n",
            "Percentage true label:  0.4\n",
            "227\n",
            "(342,)\n",
            "[[ 86   9]\n",
            " [ 33 214]]\n",
            "Balanced accuracy score: 0.8858299595141701\n",
            "              precision    recall  f1-score   support\n",
            "\n",
            "           0       0.72      0.91      0.80        95\n",
            "           1       0.96      0.87      0.91       247\n",
            "\n",
            "    accuracy                           0.88       342\n",
            "   macro avg       0.84      0.89      0.86       342\n",
            "weighted avg       0.89      0.88      0.88       342\n",
            "\n",
            "Percentage true label:  0.5\n",
            "284\n",
            "(285,)\n",
            "[[ 62   5]\n",
            " [ 25 193]]\n",
            "Balanced accuracy score: 0.9053471176228947\n",
            "              precision    recall  f1-score   support\n",
            "\n",
            "           0       0.71      0.93      0.81        67\n",
            "           1       0.97      0.89      0.93       218\n",
            "\n",
            "    accuracy                           0.89       285\n",
            "   macro avg       0.84      0.91      0.87       285\n",
            "weighted avg       0.91      0.89      0.90       285\n",
            "\n",
            "Percentage true label:  0.7\n",
            "398\n",
            "(171,)\n"
          ],
          "name": "stdout"
        },
        {
          "output_type": "stream",
          "text": [
            "/usr/local/lib/python3.6/dist-packages/sklearn/semi_supervised/_label_propagation.py:293: RuntimeWarning: invalid value encountered in true_divide\n",
            "  self.label_distributions_ /= normalizer\n",
            "/usr/local/lib/python3.6/dist-packages/sklearn/semi_supervised/_label_propagation.py:293: RuntimeWarning: invalid value encountered in true_divide\n",
            "  self.label_distributions_ /= normalizer\n"
          ],
          "name": "stderr"
        },
        {
          "output_type": "stream",
          "text": [
            "[[ 36   3]\n",
            " [ 11 121]]\n",
            "Balanced accuracy score: 0.9198717948717949\n",
            "              precision    recall  f1-score   support\n",
            "\n",
            "           0       0.77      0.92      0.84        39\n",
            "           1       0.98      0.92      0.95       132\n",
            "\n",
            "    accuracy                           0.92       171\n",
            "   macro avg       0.87      0.92      0.89       171\n",
            "weighted avg       0.93      0.92      0.92       171\n",
            "\n",
            "Percentage true label:  0.8\n",
            "455\n",
            "(114,)\n",
            "[[23  3]\n",
            " [ 6 82]]\n",
            "Balanced accuracy score: 0.9082167832167831\n",
            "              precision    recall  f1-score   support\n",
            "\n",
            "           0       0.79      0.88      0.84        26\n",
            "           1       0.96      0.93      0.95        88\n",
            "\n",
            "    accuracy                           0.92       114\n",
            "   macro avg       0.88      0.91      0.89       114\n",
            "weighted avg       0.93      0.92      0.92       114\n",
            "\n"
          ],
          "name": "stdout"
        },
        {
          "output_type": "stream",
          "text": [
            "/usr/local/lib/python3.6/dist-packages/sklearn/semi_supervised/_label_propagation.py:293: RuntimeWarning: invalid value encountered in true_divide\n",
            "  self.label_distributions_ /= normalizer\n"
          ],
          "name": "stderr"
        }
      ]
    },
    {
      "cell_type": "markdown",
      "metadata": {
        "id": "H9tpyzR0kjfC",
        "colab_type": "text"
      },
      "source": [
        "## Try classification with clustering"
      ]
    },
    {
      "cell_type": "markdown",
      "metadata": {
        "id": "cdCuFvoyQIHe",
        "colab_type": "text"
      },
      "source": [
        "### Kmean (so so)"
      ]
    },
    {
      "cell_type": "code",
      "metadata": {
        "id": "WceBuSt9UjrG",
        "colab_type": "code",
        "colab": {}
      },
      "source": [
        "import collections, numpy"
      ],
      "execution_count": 84,
      "outputs": []
    },
    {
      "cell_type": "code",
      "metadata": {
        "id": "HCrXt9l1KkK_",
        "colab_type": "code",
        "colab": {
          "base_uri": "https://localhost:8080/",
          "height": 34
        },
        "outputId": "b9c71626-bafc-4b22-d6e8-0a964e121175"
      },
      "source": [
        "file = datasets.load_breast_cancer()\n",
        "X = file.data\n",
        "y = file.target\n",
        "print(X.shape,y.shape)"
      ],
      "execution_count": 85,
      "outputs": [
        {
          "output_type": "stream",
          "text": [
            "(569, 30) (569,)\n"
          ],
          "name": "stdout"
        }
      ]
    },
    {
      "cell_type": "code",
      "metadata": {
        "id": "AyF3SdJ1KzwU",
        "colab_type": "code",
        "colab": {
          "base_uri": "https://localhost:8080/",
          "height": 51
        },
        "outputId": "b9fb2089-bd3a-47ae-92a6-ea0aa6c49f11"
      },
      "source": [
        "X_train,  X_test, y_train, y_test = train_test_split(X,y, test_size = 0.2, \n",
        "                                                     random_state = 42,stratify=y)\n",
        "print(X_train.shape,y_train.shape)\n",
        "print(X_test.shape,y_test.shape)"
      ],
      "execution_count": 86,
      "outputs": [
        {
          "output_type": "stream",
          "text": [
            "(455, 30) (455,)\n",
            "(114, 30) (114,)\n"
          ],
          "name": "stdout"
        }
      ]
    },
    {
      "cell_type": "code",
      "metadata": {
        "id": "fXLkrbizaB1u",
        "colab_type": "code",
        "colab": {
          "base_uri": "https://localhost:8080/",
          "height": 68
        },
        "outputId": "ca62f00d-827b-4e36-b868-14c5df5068f9"
      },
      "source": [
        "pd.Series(y).value_counts()"
      ],
      "execution_count": 90,
      "outputs": [
        {
          "output_type": "execute_result",
          "data": {
            "text/plain": [
              "1    357\n",
              "0    212\n",
              "dtype: int64"
            ]
          },
          "metadata": {
            "tags": []
          },
          "execution_count": 90
        }
      ]
    },
    {
      "cell_type": "code",
      "metadata": {
        "id": "Cdy2SDjbh8L3",
        "colab_type": "code",
        "colab": {
          "base_uri": "https://localhost:8080/",
          "height": 51
        },
        "outputId": "3c0c5b7a-f33a-4d49-ed03-dc597e12c38f"
      },
      "source": [
        "from sklearn.cluster import KMeans\n",
        "kmeans = KMeans(n_clusters=2)\n",
        "kmeans.fit(X_train) #\n",
        "y_pred=kmeans.predict(X_test)\n",
        "print(collections.Counter(y_pred))\n",
        "y_pred[y_pred == 0]=2\n",
        "y_pred[y_pred == 1]=0\n",
        "y_pred[y_pred == 2]=1\n",
        "print(collections.Counter(y_pred))"
      ],
      "execution_count": 91,
      "outputs": [
        {
          "output_type": "stream",
          "text": [
            "Counter({0: 86, 1: 28})\n",
            "Counter({1: 86, 0: 28})\n"
          ],
          "name": "stdout"
        }
      ]
    },
    {
      "cell_type": "code",
      "metadata": {
        "id": "9LvLPno6UgNa",
        "colab_type": "code",
        "colab": {
          "base_uri": "https://localhost:8080/",
          "height": 187
        },
        "outputId": "5466afdb-a829-46ea-8d28-9149fe646a9f"
      },
      "source": [
        "print('Balanced accuracy score:',balanced_accuracy_score(y_test,y_pred))\n",
        "print(classification_report(y_test,y_pred))"
      ],
      "execution_count": 92,
      "outputs": [
        {
          "output_type": "stream",
          "text": [
            "Balanced accuracy score: 0.8333333333333333\n",
            "              precision    recall  f1-score   support\n",
            "\n",
            "           0       1.00      0.67      0.80        42\n",
            "           1       0.84      1.00      0.91        72\n",
            "\n",
            "    accuracy                           0.88       114\n",
            "   macro avg       0.92      0.83      0.86       114\n",
            "weighted avg       0.90      0.88      0.87       114\n",
            "\n"
          ],
          "name": "stdout"
        }
      ]
    },
    {
      "cell_type": "code",
      "metadata": {
        "id": "7EHI3uu2LGFS",
        "colab_type": "code",
        "colab": {
          "base_uri": "https://localhost:8080/",
          "height": 289
        },
        "outputId": "b1854d57-3100-41d9-ff24-75d7260cc9c3"
      },
      "source": [
        "kmeans.cluster_centers_"
      ],
      "execution_count": null,
      "outputs": [
        {
          "output_type": "execute_result",
          "data": {
            "text/plain": [
              "array([[1.25252330e+01, 1.85455114e+01, 8.08969318e+01, 4.93918466e+02,\n",
              "        9.44911932e-02, 9.01074148e-02, 6.25259991e-02, 3.28653068e-02,\n",
              "        1.77215057e-01, 6.33970455e-02, 3.03363068e-01, 1.22366790e+00,\n",
              "        2.14338722e+00, 2.37431960e+01, 7.20699716e-03, 2.36134489e-02,\n",
              "        2.92863341e-02, 1.05061506e-02, 2.08103068e-02, 3.77418494e-03,\n",
              "        1.40087727e+01, 2.47088068e+01, 9.16829830e+01, 6.17094034e+02,\n",
              "        1.29514545e-01, 2.22715170e-01, 2.21655048e-01, 9.04615085e-02,\n",
              "        2.83444886e-01, 8.32046875e-02],\n",
              "       [1.93368932e+01, 2.16459223e+01, 1.27989320e+02, 1.17696019e+03,\n",
              "        1.01895922e-01, 1.50898447e-01, 1.80328252e-01, 1.01241845e-01,\n",
              "        1.92247573e-01, 6.08469903e-02, 7.25712621e-01, 1.20185146e+00,\n",
              "        5.14357282e+00, 9.22165049e+01, 6.66214563e-03, 3.21150194e-02,\n",
              "        4.37144660e-02, 1.56597184e-02, 2.06712621e-02, 3.87622330e-03,\n",
              "        2.35878641e+01, 2.88545631e+01, 1.57690291e+02, 1.73000000e+03,\n",
              "        1.41946990e-01, 3.62366602e-01, 4.64276699e-01, 1.94019612e-01,\n",
              "        3.16224272e-01, 8.64733010e-02]])"
            ]
          },
          "metadata": {
            "tags": []
          },
          "execution_count": 104
        }
      ]
    },
    {
      "cell_type": "code",
      "metadata": {
        "id": "paRPvbobaJv0",
        "colab_type": "code",
        "colab": {
          "base_uri": "https://localhost:8080/",
          "height": 221
        },
        "outputId": "e1efb915-804c-484d-8de9-7ee18ade546c"
      },
      "source": [
        "kmeans = KMeans(n_clusters=2)\n",
        "kmeans.fit(X_train) #\n",
        "y_pred=kmeans.predict(X_train)\n",
        "print(collections.Counter(y_pred))\n",
        "y_pred[y_pred == 0]=2\n",
        "y_pred[y_pred == 1]=0\n",
        "y_pred[y_pred == 2]=1\n",
        "print(collections.Counter(y_pred))\n",
        "print('Balanced accuracy score:',balanced_accuracy_score(y_train,y_pred))\n",
        "print(classification_report(y_train,y_pred))"
      ],
      "execution_count": 93,
      "outputs": [
        {
          "output_type": "stream",
          "text": [
            "Counter({0: 352, 1: 103})\n",
            "Counter({1: 352, 0: 103})\n",
            "Balanced accuracy score: 0.7982456140350878\n",
            "              precision    recall  f1-score   support\n",
            "\n",
            "           0       0.99      0.60      0.75       170\n",
            "           1       0.81      1.00      0.89       285\n",
            "\n",
            "    accuracy                           0.85       455\n",
            "   macro avg       0.90      0.80      0.82       455\n",
            "weighted avg       0.88      0.85      0.84       455\n",
            "\n"
          ],
          "name": "stdout"
        }
      ]
    },
    {
      "cell_type": "markdown",
      "metadata": {
        "id": "_jb2jVzgQPEo",
        "colab_type": "text"
      },
      "source": [
        "### Hierarchical clustering (very good)"
      ]
    },
    {
      "cell_type": "code",
      "metadata": {
        "id": "U2WFL3XCQjou",
        "colab_type": "code",
        "colab": {
          "base_uri": "https://localhost:8080/",
          "height": 139
        },
        "outputId": "024e4934-921c-410d-c72c-192f16b7984f"
      },
      "source": [
        "!pip install fastcluster"
      ],
      "execution_count": null,
      "outputs": [
        {
          "output_type": "stream",
          "text": [
            "Collecting fastcluster\n",
            "\u001b[?25l  Downloading https://files.pythonhosted.org/packages/1e/9d/3d7525a4722ee4a11ad969762d1de53b6dac326b5ac1366221e06958e1d7/fastcluster-1.1.26-cp36-cp36m-manylinux1_x86_64.whl (154kB)\n",
            "\r\u001b[K     |██▏                             | 10kB 16.9MB/s eta 0:00:01\r\u001b[K     |████▎                           | 20kB 2.1MB/s eta 0:00:01\r\u001b[K     |██████▍                         | 30kB 3.0MB/s eta 0:00:01\r\u001b[K     |████████▌                       | 40kB 4.0MB/s eta 0:00:01\r\u001b[K     |██████████▋                     | 51kB 2.4MB/s eta 0:00:01\r\u001b[K     |████████████▊                   | 61kB 2.8MB/s eta 0:00:01\r\u001b[K     |██████████████▉                 | 71kB 3.0MB/s eta 0:00:01\r\u001b[K     |█████████████████               | 81kB 3.3MB/s eta 0:00:01\r\u001b[K     |███████████████████▏            | 92kB 3.0MB/s eta 0:00:01\r\u001b[K     |█████████████████████▎          | 102kB 3.2MB/s eta 0:00:01\r\u001b[K     |███████████████████████▍        | 112kB 3.2MB/s eta 0:00:01\r\u001b[K     |█████████████████████████▌      | 122kB 3.2MB/s eta 0:00:01\r\u001b[K     |███████████████████████████▋    | 133kB 3.2MB/s eta 0:00:01\r\u001b[K     |█████████████████████████████▊  | 143kB 3.2MB/s eta 0:00:01\r\u001b[K     |███████████████████████████████▉| 153kB 3.2MB/s eta 0:00:01\r\u001b[K     |████████████████████████████████| 163kB 3.2MB/s \n",
            "\u001b[?25hRequirement already satisfied: numpy>=1.9 in /usr/local/lib/python3.6/dist-packages (from fastcluster) (1.18.5)\n",
            "Installing collected packages: fastcluster\n",
            "Successfully installed fastcluster-1.1.26\n"
          ],
          "name": "stdout"
        }
      ]
    },
    {
      "cell_type": "code",
      "metadata": {
        "id": "zGy9-dxSRIyf",
        "colab_type": "code",
        "colab": {}
      },
      "source": [
        "import fastcluster\n",
        "from scipy.cluster.hierarchy import fcluster,dendrogram, cophenet\n",
        "from scipy.spatial.distance import pdist\n",
        "import collections, numpy"
      ],
      "execution_count": 94,
      "outputs": []
    },
    {
      "cell_type": "code",
      "metadata": {
        "id": "D9Egx_2OODva",
        "colab_type": "code",
        "colab": {
          "base_uri": "https://localhost:8080/",
          "height": 238
        },
        "outputId": "3498d19f-2bdb-4ff0-cb18-f35ade6a0b8c"
      },
      "source": [
        "Z = fastcluster.linkage_vector(X_test,method='ward', metric='euclidean')\n",
        "distance_threshold = 5000 \n",
        "clusters = fcluster(Z, distance_threshold, criterion='distance')\n",
        "y_pred = clusters\n",
        "print(\"Number of distinct clusters: \",len(set(y_pred)))\n",
        "print(collections.Counter(y_pred))\n",
        "y_pred[y_pred == 2]=0\n",
        "print(collections.Counter(y_pred))\n",
        "print('Balanced accuracy score:',balanced_accuracy_score(y_test,y_pred))\n",
        "print(classification_report(y_test,y_pred))"
      ],
      "execution_count": 95,
      "outputs": [
        {
          "output_type": "stream",
          "text": [
            "Number of distinct clusters:  2\n",
            "Counter({1: 86, 2: 28})\n",
            "Counter({1: 86, 0: 28})\n",
            "Balanced accuracy score: 0.8333333333333333\n",
            "              precision    recall  f1-score   support\n",
            "\n",
            "           0       1.00      0.67      0.80        42\n",
            "           1       0.84      1.00      0.91        72\n",
            "\n",
            "    accuracy                           0.88       114\n",
            "   macro avg       0.92      0.83      0.86       114\n",
            "weighted avg       0.90      0.88      0.87       114\n",
            "\n"
          ],
          "name": "stdout"
        }
      ]
    },
    {
      "cell_type": "code",
      "metadata": {
        "id": "Fs7UJ4X5ZrCm",
        "colab_type": "code",
        "colab": {
          "base_uri": "https://localhost:8080/",
          "height": 238
        },
        "outputId": "5f03d51b-ab4a-426e-d343-ec0977e7b188"
      },
      "source": [
        "Z = fastcluster.linkage_vector(X_train,method='ward', metric='euclidean')\n",
        "distance_threshold = 8000 \n",
        "clusters = fcluster(Z, distance_threshold, criterion='distance')\n",
        "y_pred = clusters\n",
        "print(\"Number of distinct clusters: \",len(set(y_pred)))\n",
        "print(collections.Counter(y_pred))\n",
        "y_pred[y_pred == 1]=0\n",
        "y_pred[y_pred == 2]=1\n",
        "print(collections.Counter(y_pred))\n",
        "print('Balanced accuracy score:',balanced_accuracy_score(y_train,y_pred))\n",
        "print(classification_report(y_train,y_pred))"
      ],
      "execution_count": 96,
      "outputs": [
        {
          "output_type": "stream",
          "text": [
            "Number of distinct clusters:  2\n",
            "Counter({2: 380, 1: 75})\n",
            "Counter({1: 380, 0: 75})\n",
            "Balanced accuracy score: 0.7205882352941176\n",
            "              precision    recall  f1-score   support\n",
            "\n",
            "           0       1.00      0.44      0.61       170\n",
            "           1       0.75      1.00      0.86       285\n",
            "\n",
            "    accuracy                           0.79       455\n",
            "   macro avg       0.88      0.72      0.73       455\n",
            "weighted avg       0.84      0.79      0.77       455\n",
            "\n"
          ],
          "name": "stdout"
        }
      ]
    },
    {
      "cell_type": "markdown",
      "metadata": {
        "id": "x1ZWNlrPVf5-",
        "colab_type": "text"
      },
      "source": [
        "### DBSCAN (not good)"
      ]
    },
    {
      "cell_type": "code",
      "metadata": {
        "id": "lc_dBzc6RrAE",
        "colab_type": "code",
        "colab": {}
      },
      "source": [
        "from sklearn.neighbors import NearestNeighbors\n",
        "\n",
        "neigh = NearestNeighbors(n_neighbors=2)\n",
        "nbrs = neigh.fit(X_train)\n",
        "distances, indices = nbrs.kneighbors(X_train)\n",
        "distances = np.sort(distances, axis=0)"
      ],
      "execution_count": null,
      "outputs": []
    },
    {
      "cell_type": "markdown",
      "metadata": {
        "id": "HOpiNB6iV6bX",
        "colab_type": "text"
      },
      "source": [
        "Find optimal esp"
      ]
    },
    {
      "cell_type": "code",
      "metadata": {
        "id": "e8-IZ1ACVr21",
        "colab_type": "code",
        "colab": {
          "base_uri": "https://localhost:8080/",
          "height": 268
        },
        "outputId": "068f0db4-05ae-44b8-9d99-ca99a382b812"
      },
      "source": [
        "plt.plot(distances)\n",
        "plt.show()"
      ],
      "execution_count": null,
      "outputs": [
        {
          "output_type": "display_data",
          "data": {
            "image/png": "[encoded data removed]",
            "text/plain": [
              "<Figure size 432x288 with 1 Axes>"
            ]
          },
          "metadata": {
            "tags": []
          }
        }
      ]
    },
    {
      "cell_type": "code",
      "metadata": {
        "id": "-KnaAeWDVtNt",
        "colab_type": "code",
        "colab": {
          "base_uri": "https://localhost:8080/",
          "height": 360
        },
        "outputId": "de3eafbf-856f-4e4d-b30e-3d63124d8ced"
      },
      "source": [
        "from sklearn.cluster import DBSCAN\n",
        "eps = 300\n",
        "min_samples = 5\n",
        "leaf_size = 30\n",
        "n_jobs = 4\n",
        "\n",
        "db = DBSCAN(eps=eps, min_samples=min_samples, leaf_size=leaf_size, \n",
        "            n_jobs=n_jobs)\n",
        "y_pred = db.fit_predict(X_test)\n",
        "print(\"Number of distinct clusters: \",len(set(y_pred)))\n",
        "print(collections.Counter(y_pred))\n",
        "y_pred[y_pred == 2]=0\n",
        "print('Balanced accuracy score:',balanced_accuracy_score(y_test,y_pred))\n",
        "print(classification_report(y_test,y_pred))\n"
      ],
      "execution_count": null,
      "outputs": [
        {
          "output_type": "stream",
          "text": [
            "Number of distinct clusters:  2\n",
            "Counter({0: 110, -1: 4})\n",
            "Balanced accuracy score: 0.4523809523809524\n",
            "              precision    recall  f1-score   support\n",
            "\n",
            "          -1       0.00      0.00      0.00         0\n",
            "           0       0.35      0.90      0.50        42\n",
            "           1       0.00      0.00      0.00        72\n",
            "\n",
            "    accuracy                           0.33       114\n",
            "   macro avg       0.12      0.30      0.17       114\n",
            "weighted avg       0.13      0.33      0.18       114\n",
            "\n"
          ],
          "name": "stdout"
        },
        {
          "output_type": "stream",
          "text": [
            "/usr/local/lib/python3.6/dist-packages/sklearn/metrics/_classification.py:1859: UserWarning: y_pred contains classes not in y_true\n",
            "  warnings.warn('y_pred contains classes not in y_true')\n",
            "/usr/local/lib/python3.6/dist-packages/sklearn/metrics/_classification.py:1272: UndefinedMetricWarning: Precision and F-score are ill-defined and being set to 0.0 in labels with no predicted samples. Use `zero_division` parameter to control this behavior.\n",
            "  _warn_prf(average, modifier, msg_start, len(result))\n",
            "/usr/local/lib/python3.6/dist-packages/sklearn/metrics/_classification.py:1272: UndefinedMetricWarning: Recall and F-score are ill-defined and being set to 0.0 in labels with no true samples. Use `zero_division` parameter to control this behavior.\n",
            "  _warn_prf(average, modifier, msg_start, len(result))\n"
          ],
          "name": "stderr"
        }
      ]
    },
    {
      "cell_type": "markdown",
      "metadata": {
        "id": "5LZgjuEYYayz",
        "colab_type": "text"
      },
      "source": [
        "### HDBSCAN (not good)"
      ]
    },
    {
      "cell_type": "code",
      "metadata": {
        "id": "r3vQq2K5YN0P",
        "colab_type": "code",
        "colab": {
          "base_uri": "https://localhost:8080/",
          "height": 360
        },
        "outputId": "c604505a-2e1c-47f6-9d7c-9eb6105495b9"
      },
      "source": [
        "!pip install hdbscan"
      ],
      "execution_count": null,
      "outputs": [
        {
          "output_type": "stream",
          "text": [
            "Collecting hdbscan\n",
            "\u001b[?25l  Downloading https://files.pythonhosted.org/packages/22/2f/2423d844072f007a74214c1adc46260e45f034bb1679ccadfbb8a601f647/hdbscan-0.8.26.tar.gz (4.7MB)\n",
            "\u001b[K     |████████████████████████████████| 4.7MB 3.4MB/s \n",
            "\u001b[?25h  Installing build dependencies ... \u001b[?25l\u001b[?25hdone\n",
            "  Getting requirements to build wheel ... \u001b[?25l\u001b[?25hdone\n",
            "    Preparing wheel metadata ... \u001b[?25l\u001b[?25hdone\n",
            "Requirement already satisfied: joblib in /usr/local/lib/python3.6/dist-packages (from hdbscan) (0.16.0)\n",
            "Requirement already satisfied: scipy>=0.9 in /usr/local/lib/python3.6/dist-packages (from hdbscan) (1.4.1)\n",
            "Requirement already satisfied: scikit-learn>=0.17 in /usr/local/lib/python3.6/dist-packages (from hdbscan) (0.22.2.post1)\n",
            "Requirement already satisfied: numpy>=1.16.0 in /usr/local/lib/python3.6/dist-packages (from hdbscan) (1.18.5)\n",
            "Requirement already satisfied: six in /usr/local/lib/python3.6/dist-packages (from hdbscan) (1.15.0)\n",
            "Requirement already satisfied: cython>=0.27 in /usr/local/lib/python3.6/dist-packages (from hdbscan) (0.29.21)\n",
            "Building wheels for collected packages: hdbscan\n",
            "  Building wheel for hdbscan (PEP 517) ... \u001b[?25l\u001b[?25hdone\n",
            "  Created wheel for hdbscan: filename=hdbscan-0.8.26-cp36-cp36m-linux_x86_64.whl size=2301786 sha256=a4728d17599ba7aceb8f97462d73285159a0dd72b04823d182c970d0264a7baf\n",
            "  Stored in directory: /root/.cache/pip/wheels/82/38/41/372f034d8abd271ef7787a681e0a47fc05d472683a7eb088ed\n",
            "Successfully built hdbscan\n",
            "Installing collected packages: hdbscan\n",
            "Successfully installed hdbscan-0.8.26\n"
          ],
          "name": "stdout"
        }
      ]
    },
    {
      "cell_type": "code",
      "metadata": {
        "id": "4g8ISS90YL64",
        "colab_type": "code",
        "colab": {
          "base_uri": "https://localhost:8080/",
          "height": 309
        },
        "outputId": "1b3ac39f-7aeb-49fe-a355-545a0e81d8f5"
      },
      "source": [
        "import hdbscan\n",
        "\n",
        "min_cluster_size = 6\n",
        "min_samples = None\n",
        "alpha = 1.0\n",
        "cluster_selection_method = 'eom'\n",
        "\n",
        "hdb = hdbscan.HDBSCAN(min_cluster_size=min_cluster_size, \\\n",
        "        min_samples=min_samples, alpha=alpha, \\\n",
        "        cluster_selection_method=cluster_selection_method)\n",
        "y_pred = hdb.fit_predict(X_test)\n",
        "print(collections.Counter(y_pred))\n",
        "#y_pred[y_pred == 2]=0\n",
        "print('Balanced accuracy score:',balanced_accuracy_score(y_test,y_pred))\n",
        "print(classification_report(y_test,y_pred))"
      ],
      "execution_count": null,
      "outputs": [
        {
          "output_type": "stream",
          "text": [
            "Counter({1: 85, 0: 20, -1: 9})\n",
            "Balanced accuracy score: 0.7380952380952381\n",
            "              precision    recall  f1-score   support\n",
            "\n",
            "          -1       0.00      0.00      0.00         0\n",
            "           0       1.00      0.48      0.65        42\n",
            "           1       0.85      1.00      0.92        72\n",
            "\n",
            "    accuracy                           0.81       114\n",
            "   macro avg       0.62      0.49      0.52       114\n",
            "weighted avg       0.90      0.81      0.82       114\n",
            "\n"
          ],
          "name": "stdout"
        },
        {
          "output_type": "stream",
          "text": [
            "/usr/local/lib/python3.6/dist-packages/sklearn/metrics/_classification.py:1859: UserWarning: y_pred contains classes not in y_true\n",
            "  warnings.warn('y_pred contains classes not in y_true')\n",
            "/usr/local/lib/python3.6/dist-packages/sklearn/metrics/_classification.py:1272: UndefinedMetricWarning: Recall and F-score are ill-defined and being set to 0.0 in labels with no true samples. Use `zero_division` parameter to control this behavior.\n",
            "  _warn_prf(average, modifier, msg_start, len(result))\n"
          ],
          "name": "stderr"
        }
      ]
    },
    {
      "cell_type": "markdown",
      "metadata": {
        "id": "qP6HHTqsWxds",
        "colab_type": "text"
      },
      "source": [
        "### Compare all method"
      ]
    },
    {
      "cell_type": "code",
      "metadata": {
        "id": "3gdBsrReYtQI",
        "colab_type": "code",
        "colab": {
          "base_uri": "https://localhost:8080/",
          "height": 68
        },
        "outputId": "ca3f3f17-1402-41be-9a0e-c69f890e41d7"
      },
      "source": [
        "pd.Series(y_test).value_counts()"
      ],
      "execution_count": 77,
      "outputs": [
        {
          "output_type": "execute_result",
          "data": {
            "text/plain": [
              "1    72\n",
              "0    42\n",
              "dtype: int64"
            ]
          },
          "metadata": {
            "tags": []
          },
          "execution_count": 77
        }
      ]
    },
    {
      "cell_type": "code",
      "metadata": {
        "id": "QvpGjaowY06Y",
        "colab_type": "code",
        "colab": {
          "base_uri": "https://localhost:8080/",
          "height": 68
        },
        "outputId": "10b22238-4c0a-4933-8e2c-de47a23e906d"
      },
      "source": [
        "pd.Series(y_train).value_counts()"
      ],
      "execution_count": 78,
      "outputs": [
        {
          "output_type": "execute_result",
          "data": {
            "text/plain": [
              "1    285\n",
              "0    170\n",
              "dtype: int64"
            ]
          },
          "metadata": {
            "tags": []
          },
          "execution_count": 78
        }
      ]
    },
    {
      "cell_type": "code",
      "metadata": {
        "id": "9cAOquxqWI3d",
        "colab_type": "code",
        "colab": {
          "base_uri": "https://localhost:8080/",
          "height": 1000
        },
        "outputId": "9aaf3fb2-1a4d-49e0-b830-8c6e5625a975"
      },
      "source": [
        "import time\n",
        "import warnings\n",
        "from sklearn import cluster, mixture\n",
        "from sklearn.neighbors import kneighbors_graph\n",
        "\n",
        "X=X_test\n",
        "time_=[]\n",
        "name_=[]\n",
        "num_cluster=[]\n",
        "# Default setting for clustering algorithm:\n",
        "default_base = {'quantile': .3,     # Meanshift bandwith\n",
        "                'eps': .3,          # Dbscan\n",
        "                'damping': .9,      # Affinity_propagation \n",
        "                'preference': -200, # Affinity_propagation \n",
        "                'n_neighbors': 10,  # Agglomerative, average_linkage \n",
        "                'n_clusters': 2, # Two_means, Agglomerative, Spectral, Average_linkage, Birch, GaussianMixture\n",
        "                'min_samples': 20,  # Optics\n",
        "                'xi': 0.05,         # Optics \n",
        "                'min_cluster_size': 0.1 # Optics\n",
        "                }\n",
        "\n",
        "# update parameters with dataset-specific values\n",
        "params = default_base.copy()\n",
        "\n",
        "# estimate bandwidth for mean shift\n",
        "bandwidth = cluster.estimate_bandwidth(X, quantile=params['quantile']) # Mean shift\n",
        "\n",
        "# connectivity matrix for structured Ward\n",
        "connectivity = kneighbors_graph(\n",
        "    X, n_neighbors=params['n_neighbors'], include_self=False)\n",
        "# make connectivity symmetric\n",
        "connectivity = 0.5 * (connectivity + connectivity.T)\n",
        "\n",
        "# ============\n",
        "# Create cluster objects\n",
        "# ============\n",
        "ms = cluster.MeanShift(bandwidth=bandwidth, bin_seeding=True)\n",
        "\n",
        "two_means = cluster.MiniBatchKMeans(n_clusters=params['n_clusters'])\n",
        "\n",
        "ward = cluster.AgglomerativeClustering(\n",
        "    n_clusters=params['n_clusters'], linkage='ward',\n",
        "    connectivity=connectivity)\n",
        "\n",
        "average_linkage = cluster.AgglomerativeClustering(\n",
        "    linkage=\"average\", affinity=\"cityblock\",\n",
        "    n_clusters=params['n_clusters'], connectivity=connectivity)\n",
        "\n",
        "spectral = cluster.SpectralClustering(\n",
        "    n_clusters=params['n_clusters'], eigen_solver='arpack',\n",
        "    affinity=\"nearest_neighbors\")\n",
        "\n",
        "dbscan = cluster.DBSCAN(eps=params['eps'])\n",
        "\n",
        "optics = cluster.OPTICS(min_samples=params['min_samples'],\n",
        "                        xi=params['xi'],\n",
        "                        min_cluster_size=params['min_cluster_size'])\n",
        "\n",
        "affinity_propagation = cluster.AffinityPropagation(\n",
        "    damping=params['damping'], preference=params['preference'])\n",
        "\n",
        "birch = cluster.Birch(n_clusters=params['n_clusters'])\n",
        "\n",
        "gmm = mixture.GaussianMixture(\n",
        "    n_components=params['n_clusters'], covariance_type='full')\n",
        "\n",
        "clustering_algorithms = (\n",
        "    ('MiniBatchKMeans (D)', two_means),\n",
        "    #('AffinityPropagation', affinity_propagation),\n",
        "    #('MeanShift', ms),\n",
        "    ('SpectralClustering (D)', spectral),\n",
        "    ('Agglomerative-ward (D)', ward), # OK\n",
        "    ('Agglomerative-average_linkage (D)', average_linkage),\n",
        "    #('DBSCAN', dbscan),\n",
        "    #('OPTICS', optics),\n",
        "    ('Birch (D)', birch), # OK\n",
        "    ('GaussianMixture (D)', gmm) #OK\n",
        ")\n",
        "\n",
        "for name, algorithm in clustering_algorithms:\n",
        "    t0 = time.time()\n",
        "    print(name)\n",
        "    name_.append(name)\n",
        "    # catch warnings related to kneighbors_graph\n",
        "    with warnings.catch_warnings():\n",
        "        warnings.filterwarnings(\n",
        "            \"ignore\",\n",
        "            message=\"the number of connected components of the \" +\n",
        "            \"connectivity matrix is [0-9]{1,2}\" +\n",
        "            \" > 1. Completing it to avoid stopping the tree early.\",\n",
        "            category=UserWarning)\n",
        "        warnings.filterwarnings(\n",
        "            \"ignore\",\n",
        "            message=\"Graph is not fully connected, spectral embedding\" +\n",
        "            \" may not work as expected.\",\n",
        "            category=UserWarning)\n",
        "        algorithm.fit(X)\n",
        "\n",
        "    t1 = time.time()\n",
        "    if hasattr(algorithm, 'labels_'):\n",
        "        y_pred = algorithm.labels_.astype(np.int)\n",
        "    else:\n",
        "        y_pred = algorithm.predict(X)\n",
        "\n",
        "    print(collections.Counter(y_pred))   \n",
        "    print('Balanced accuracy score:',balanced_accuracy_score(y_test,y_pred))\n",
        "    print(classification_report(y_test,y_pred))\n",
        "    \n",
        "    #---------------DNN add-----------------------\n",
        "\n",
        "\n"
      ],
      "execution_count": 80,
      "outputs": [
        {
          "output_type": "stream",
          "text": [
            "MiniBatchKMeans (D)\n",
            "Counter({0: 86, 1: 28})\n",
            "Balanced accuracy score: 0.16666666666666666\n",
            "              precision    recall  f1-score   support\n",
            "\n",
            "           0       0.16      0.33      0.22        42\n",
            "           1       0.00      0.00      0.00        72\n",
            "\n",
            "    accuracy                           0.12       114\n",
            "   macro avg       0.08      0.17      0.11       114\n",
            "weighted avg       0.06      0.12      0.08       114\n",
            "\n",
            "SpectralClustering (D)\n",
            "Counter({0: 77, 1: 37})\n",
            "Balanced accuracy score: 0.7380952380952381\n",
            "              precision    recall  f1-score   support\n",
            "\n",
            "           0       0.53      0.98      0.69        42\n",
            "           1       0.97      0.50      0.66        72\n",
            "\n",
            "    accuracy                           0.68       114\n",
            "   macro avg       0.75      0.74      0.67       114\n",
            "weighted avg       0.81      0.68      0.67       114\n",
            "\n",
            "Agglomerative-ward (D)\n",
            "Counter({1: 86, 0: 28})\n",
            "Balanced accuracy score: 0.8333333333333333\n",
            "              precision    recall  f1-score   support\n",
            "\n",
            "           0       1.00      0.67      0.80        42\n",
            "           1       0.84      1.00      0.91        72\n",
            "\n",
            "    accuracy                           0.88       114\n",
            "   macro avg       0.92      0.83      0.86       114\n",
            "weighted avg       0.90      0.88      0.87       114\n",
            "\n",
            "Agglomerative-average_linkage (D)\n",
            "Counter({1: 112, 0: 2})\n",
            "Balanced accuracy score: 0.5238095238095238\n",
            "              precision    recall  f1-score   support\n",
            "\n",
            "           0       1.00      0.05      0.09        42\n",
            "           1       0.64      1.00      0.78        72\n",
            "\n",
            "    accuracy                           0.65       114\n",
            "   macro avg       0.82      0.52      0.44       114\n",
            "weighted avg       0.77      0.65      0.53       114\n",
            "\n",
            "Birch (D)\n",
            "Counter({1: 86, 0: 28})\n",
            "Balanced accuracy score: 0.8333333333333333\n",
            "              precision    recall  f1-score   support\n",
            "\n",
            "           0       1.00      0.67      0.80        42\n",
            "           1       0.84      1.00      0.91        72\n",
            "\n",
            "    accuracy                           0.88       114\n",
            "   macro avg       0.92      0.83      0.86       114\n",
            "weighted avg       0.90      0.88      0.87       114\n",
            "\n",
            "GaussianMixture (D)\n",
            "Counter({0: 86, 1: 28})\n",
            "Balanced accuracy score: 0.16666666666666666\n",
            "              precision    recall  f1-score   support\n",
            "\n",
            "           0       0.16      0.33      0.22        42\n",
            "           1       0.00      0.00      0.00        72\n",
            "\n",
            "    accuracy                           0.12       114\n",
            "   macro avg       0.08      0.17      0.11       114\n",
            "weighted avg       0.06      0.12      0.08       114\n",
            "\n"
          ],
          "name": "stdout"
        }
      ]
    },
    {
      "cell_type": "code",
      "metadata": {
        "id": "zHVQRKQIYVtZ",
        "colab_type": "code",
        "colab": {
          "base_uri": "https://localhost:8080/",
          "height": 1000
        },
        "outputId": "0776475f-929c-4a8e-b847-fd27f0ef6803"
      },
      "source": [
        "import time\n",
        "import warnings\n",
        "from sklearn import cluster, mixture\n",
        "from sklearn.neighbors import kneighbors_graph\n",
        "\n",
        "X=X_train\n",
        "time_=[]\n",
        "name_=[]\n",
        "num_cluster=[]\n",
        "# Default setting for clustering algorithm:\n",
        "default_base = {'quantile': .3,     # Meanshift bandwith\n",
        "                'eps': .3,          # Dbscan\n",
        "                'damping': .9,      # Affinity_propagation \n",
        "                'preference': -200, # Affinity_propagation \n",
        "                'n_neighbors': 10,  # Agglomerative, average_linkage \n",
        "                'n_clusters': 2, # Two_means, Agglomerative, Spectral, Average_linkage, Birch, GaussianMixture\n",
        "                'min_samples': 20,  # Optics\n",
        "                'xi': 0.05,         # Optics \n",
        "                'min_cluster_size': 0.1 # Optics\n",
        "                }\n",
        "\n",
        "# update parameters with dataset-specific values\n",
        "params = default_base.copy()\n",
        "\n",
        "# estimate bandwidth for mean shift\n",
        "bandwidth = cluster.estimate_bandwidth(X, quantile=params['quantile']) # Mean shift\n",
        "\n",
        "# connectivity matrix for structured Ward\n",
        "connectivity = kneighbors_graph(\n",
        "    X, n_neighbors=params['n_neighbors'], include_self=False)\n",
        "# make connectivity symmetric\n",
        "connectivity = 0.5 * (connectivity + connectivity.T)\n",
        "\n",
        "# ============\n",
        "# Create cluster objects\n",
        "# ============\n",
        "ms = cluster.MeanShift(bandwidth=bandwidth, bin_seeding=True)\n",
        "\n",
        "two_means = cluster.MiniBatchKMeans(n_clusters=params['n_clusters'])\n",
        "\n",
        "ward = cluster.AgglomerativeClustering(\n",
        "    n_clusters=params['n_clusters'], linkage='ward',\n",
        "    connectivity=connectivity)\n",
        "\n",
        "average_linkage = cluster.AgglomerativeClustering(\n",
        "    linkage=\"average\", affinity=\"cityblock\",\n",
        "    n_clusters=params['n_clusters'], connectivity=connectivity)\n",
        "\n",
        "spectral = cluster.SpectralClustering(\n",
        "    n_clusters=params['n_clusters'], eigen_solver='arpack',\n",
        "    affinity=\"nearest_neighbors\")\n",
        "\n",
        "dbscan = cluster.DBSCAN(eps=params['eps'])\n",
        "\n",
        "optics = cluster.OPTICS(min_samples=params['min_samples'],\n",
        "                        xi=params['xi'],\n",
        "                        min_cluster_size=params['min_cluster_size'])\n",
        "\n",
        "affinity_propagation = cluster.AffinityPropagation(\n",
        "    damping=params['damping'], preference=params['preference'])\n",
        "\n",
        "birch = cluster.Birch(n_clusters=params['n_clusters'])\n",
        "\n",
        "gmm = mixture.GaussianMixture(\n",
        "    n_components=params['n_clusters'], covariance_type='full')\n",
        "\n",
        "clustering_algorithms = (\n",
        "    ('MiniBatchKMeans (D)', two_means),\n",
        "    #('AffinityPropagation', affinity_propagation),\n",
        "    #('MeanShift', ms),\n",
        "    ('SpectralClustering (D)', spectral),\n",
        "    ('Agglomerative-ward (D)', ward), # OK\n",
        "    ('Agglomerative-average_linkage (D)', average_linkage),\n",
        "    #('DBSCAN', dbscan),\n",
        "    #('OPTICS', optics),\n",
        "    ('Birch (D)', birch), # OK\n",
        "    ('GaussianMixture (D)', gmm) #OK\n",
        ")\n",
        "\n",
        "for name, algorithm in clustering_algorithms:\n",
        "    t0 = time.time()\n",
        "    print(name)\n",
        "    name_.append(name)\n",
        "    # catch warnings related to kneighbors_graph\n",
        "    with warnings.catch_warnings():\n",
        "        warnings.filterwarnings(\n",
        "            \"ignore\",\n",
        "            message=\"the number of connected components of the \" +\n",
        "            \"connectivity matrix is [0-9]{1,2}\" +\n",
        "            \" > 1. Completing it to avoid stopping the tree early.\",\n",
        "            category=UserWarning)\n",
        "        warnings.filterwarnings(\n",
        "            \"ignore\",\n",
        "            message=\"Graph is not fully connected, spectral embedding\" +\n",
        "            \" may not work as expected.\",\n",
        "            category=UserWarning)\n",
        "        algorithm.fit(X)\n",
        "\n",
        "    t1 = time.time()\n",
        "    if hasattr(algorithm, 'labels_'):\n",
        "        y_pred = algorithm.labels_.astype(np.int)\n",
        "    else:\n",
        "        y_pred = algorithm.predict(X)\n",
        "    print(collections.Counter(y_pred))   \n",
        "    y_pred[y_pred == 0]=2\n",
        "    y_pred[y_pred == 1]=0\n",
        "    y_pred[y_pred == 2]=1\n",
        "    print(collections.Counter(y_pred)) \n",
        "    print('Balanced accuracy score:',balanced_accuracy_score(y_train,y_pred))\n",
        "    print(classification_report(y_train,y_pred))\n",
        "    \n",
        "    #---------------DNN add-----------------------\n",
        "\n",
        "\n"
      ],
      "execution_count": 79,
      "outputs": [
        {
          "output_type": "stream",
          "text": [
            "MiniBatchKMeans (D)\n",
            "Counter({0: 350, 1: 105})\n",
            "Counter({1: 350, 0: 105})\n",
            "Balanced accuracy score: 0.8041279669762642\n",
            "              precision    recall  f1-score   support\n",
            "\n",
            "           0       0.99      0.61      0.76       170\n",
            "           1       0.81      1.00      0.89       285\n",
            "\n",
            "    accuracy                           0.85       455\n",
            "   macro avg       0.90      0.80      0.83       455\n",
            "weighted avg       0.88      0.85      0.84       455\n",
            "\n",
            "SpectralClustering (D)\n",
            "Counter({1: 237, 0: 218})\n",
            "Counter({0: 237, 1: 218})\n",
            "Balanced accuracy score: 0.8589783281733746\n",
            "              precision    recall  f1-score   support\n",
            "\n",
            "           0       0.70      0.97      0.81       170\n",
            "           1       0.98      0.75      0.85       285\n",
            "\n",
            "    accuracy                           0.83       455\n",
            "   macro avg       0.84      0.86      0.83       455\n",
            "weighted avg       0.87      0.83      0.83       455\n",
            "\n",
            "Agglomerative-ward (D)\n",
            "Counter({0: 380, 1: 75})\n",
            "Counter({1: 380, 0: 75})\n",
            "Balanced accuracy score: 0.7205882352941176\n",
            "              precision    recall  f1-score   support\n",
            "\n",
            "           0       1.00      0.44      0.61       170\n",
            "           1       0.75      1.00      0.86       285\n",
            "\n",
            "    accuracy                           0.79       455\n",
            "   macro avg       0.88      0.72      0.73       455\n",
            "weighted avg       0.84      0.79      0.77       455\n",
            "\n",
            "Agglomerative-average_linkage (D)\n",
            "Counter({0: 454, 1: 1})\n",
            "Counter({1: 454, 0: 1})\n",
            "Balanced accuracy score: 0.5029411764705882\n",
            "              precision    recall  f1-score   support\n",
            "\n",
            "           0       1.00      0.01      0.01       170\n",
            "           1       0.63      1.00      0.77       285\n",
            "\n",
            "    accuracy                           0.63       455\n",
            "   macro avg       0.81      0.50      0.39       455\n",
            "weighted avg       0.77      0.63      0.49       455\n",
            "\n",
            "Birch (D)\n",
            "Counter({0: 380, 1: 75})\n",
            "Counter({1: 380, 0: 75})\n",
            "Balanced accuracy score: 0.7205882352941176\n",
            "              precision    recall  f1-score   support\n",
            "\n",
            "           0       1.00      0.44      0.61       170\n",
            "           1       0.75      1.00      0.86       285\n",
            "\n",
            "    accuracy                           0.79       455\n",
            "   macro avg       0.88      0.72      0.73       455\n",
            "weighted avg       0.84      0.79      0.77       455\n",
            "\n",
            "GaussianMixture (D)\n",
            "Counter({0: 291, 1: 164})\n",
            "Counter({1: 291, 0: 164})\n",
            "Balanced accuracy score: 0.9447884416924665\n",
            "              precision    recall  f1-score   support\n",
            "\n",
            "           0       0.95      0.92      0.93       170\n",
            "           1       0.95      0.97      0.96       285\n",
            "\n",
            "    accuracy                           0.95       455\n",
            "   macro avg       0.95      0.94      0.95       455\n",
            "weighted avg       0.95      0.95      0.95       455\n",
            "\n"
          ],
          "name": "stdout"
        }
      ]
    },
    {
      "cell_type": "markdown",
      "metadata": {
        "id": "tvOLDedTGqOh",
        "colab_type": "text"
      },
      "source": [
        "# Try with churn telecom"
      ]
    },
    {
      "cell_type": "code",
      "metadata": {
        "id": "xFCdPHX-Gz4p",
        "colab_type": "code",
        "colab": {}
      },
      "source": [
        "import json\n",
        "import numpy as np\n",
        "import pandas as pd\n",
        "import matplotlib.pyplot as plt\n",
        "import seaborn as sns ; sns.set()\n",
        "\n",
        "\n",
        "#Load sklearn\n",
        "from sklearn.preprocessing import StandardScaler, RobustScaler\n",
        "from sklearn.model_selection import train_test_split\n",
        "from sklearn.model_selection import KFold,StratifiedKFold\n",
        "from sklearn.model_selection import cross_val_score,cross_validate,cross_val_predict\n",
        "from sklearn.model_selection import RandomizedSearchCV,GridSearchCV\n",
        "from sklearn.pipeline import Pipeline\n",
        "from sklearn.compose import ColumnTransformer\n",
        "from sklearn.utils import shuffle\n",
        "\n",
        "from sklearn.metrics import log_loss ,balanced_accuracy_score,matthews_corrcoef\n",
        "from sklearn.metrics import classification_report,confusion_matrix\n",
        "from sklearn.metrics import precision_score, recall_score, f1_score, roc_auc_score, accuracy_score\n",
        "from sklearn.metrics import make_scorer,roc_curve, auc,precision_recall_curve\n",
        "from sklearn.metrics import f1_score,balanced_accuracy_score,average_precision_score \n",
        "\n",
        "#ML normal ML\n",
        "from sklearn.linear_model import LogisticRegression\n",
        "from sklearn.tree import DecisionTreeClassifier\n",
        "from sklearn.neighbors import KNeighborsClassifier\n",
        "from sklearn.discriminant_analysis import LinearDiscriminantAnalysis\n",
        "from sklearn.naive_bayes import GaussianNB\n",
        "from sklearn.svm import SVC\n",
        "\n",
        "#ML ensembles\n",
        "from sklearn.ensemble import AdaBoostClassifier\n",
        "from sklearn.ensemble import GradientBoostingClassifier\n",
        "from sklearn.ensemble import RandomForestClassifier\n",
        "from sklearn.ensemble import ExtraTreesClassifier\n",
        "from sklearn.ensemble import BaggingClassifier\n",
        "from sklearn.ensemble import VotingClassifier\n",
        "from sklearn.ensemble import StackingClassifier\n",
        "\n",
        "#Special\n",
        "from xgboost import XGBClassifier\n",
        "from lightgbm import LGBMClassifier"
      ],
      "execution_count": 97,
      "outputs": []
    },
    {
      "cell_type": "code",
      "metadata": {
        "id": "hYG8fXqHXYZm",
        "colab_type": "code",
        "colab": {
          "base_uri": "https://localhost:8080/",
          "height": 326
        },
        "outputId": "f9cd876b-bced-45db-9c13-1e68ea847777"
      },
      "source": [
        "path='https://raw.githubusercontent.com/rstudio/keras-customer-churn/master/data/WA_Fn-UseC_-Telco-Customer-Churn.csv'\n",
        "df=pd.read_csv(path)\n",
        "print(df.shape)\n",
        "df.head()"
      ],
      "execution_count": 98,
      "outputs": [
        {
          "output_type": "stream",
          "text": [
            "(7043, 21)\n"
          ],
          "name": "stdout"
        },
        {
          "output_type": "execute_result",
          "data": {
            "text/html": [
              "<div>\n",
              "<style scoped>\n",
              "    .dataframe tbody tr th:only-of-type {\n",
              "        vertical-align: middle;\n",
              "    }\n",
              "\n",
              "    .dataframe tbody tr th {\n",
              "        vertical-align: top;\n",
              "    }\n",
              "\n",
              "    .dataframe thead th {\n",
              "        text-align: right;\n",
              "    }\n",
              "</style>\n",
              "<table border=\"1\" class=\"dataframe\">\n",
              "  <thead>\n",
              "    <tr style=\"text-align: right;\">\n",
              "      <th></th>\n",
              "      <th>customerID</th>\n",
              "      <th>gender</th>\n",
              "      <th>SeniorCitizen</th>\n",
              "      <th>Partner</th>\n",
              "      <th>Dependents</th>\n",
              "      <th>tenure</th>\n",
              "      <th>PhoneService</th>\n",
              "      <th>MultipleLines</th>\n",
              "      <th>InternetService</th>\n",
              "      <th>OnlineSecurity</th>\n",
              "      <th>OnlineBackup</th>\n",
              "      <th>DeviceProtection</th>\n",
              "      <th>TechSupport</th>\n",
              "      <th>StreamingTV</th>\n",
              "      <th>StreamingMovies</th>\n",
              "      <th>Contract</th>\n",
              "      <th>PaperlessBilling</th>\n",
              "      <th>PaymentMethod</th>\n",
              "      <th>MonthlyCharges</th>\n",
              "      <th>TotalCharges</th>\n",
              "      <th>Churn</th>\n",
              "    </tr>\n",
              "  </thead>\n",
              "  <tbody>\n",
              "    <tr>\n",
              "      <th>0</th>\n",
              "      <td>7590-VHVEG</td>\n",
              "      <td>Female</td>\n",
              "      <td>0</td>\n",
              "      <td>Yes</td>\n",
              "      <td>No</td>\n",
              "      <td>1</td>\n",
              "      <td>No</td>\n",
              "      <td>No phone service</td>\n",
              "      <td>DSL</td>\n",
              "      <td>No</td>\n",
              "      <td>Yes</td>\n",
              "      <td>No</td>\n",
              "      <td>No</td>\n",
              "      <td>No</td>\n",
              "      <td>No</td>\n",
              "      <td>Month-to-month</td>\n",
              "      <td>Yes</td>\n",
              "      <td>Electronic check</td>\n",
              "      <td>29.85</td>\n",
              "      <td>29.85</td>\n",
              "      <td>No</td>\n",
              "    </tr>\n",
              "    <tr>\n",
              "      <th>1</th>\n",
              "      <td>5575-GNVDE</td>\n",
              "      <td>Male</td>\n",
              "      <td>0</td>\n",
              "      <td>No</td>\n",
              "      <td>No</td>\n",
              "      <td>34</td>\n",
              "      <td>Yes</td>\n",
              "      <td>No</td>\n",
              "      <td>DSL</td>\n",
              "      <td>Yes</td>\n",
              "      <td>No</td>\n",
              "      <td>Yes</td>\n",
              "      <td>No</td>\n",
              "      <td>No</td>\n",
              "      <td>No</td>\n",
              "      <td>One year</td>\n",
              "      <td>No</td>\n",
              "      <td>Mailed check</td>\n",
              "      <td>56.95</td>\n",
              "      <td>1889.5</td>\n",
              "      <td>No</td>\n",
              "    </tr>\n",
              "    <tr>\n",
              "      <th>2</th>\n",
              "      <td>3668-QPYBK</td>\n",
              "      <td>Male</td>\n",
              "      <td>0</td>\n",
              "      <td>No</td>\n",
              "      <td>No</td>\n",
              "      <td>2</td>\n",
              "      <td>Yes</td>\n",
              "      <td>No</td>\n",
              "      <td>DSL</td>\n",
              "      <td>Yes</td>\n",
              "      <td>Yes</td>\n",
              "      <td>No</td>\n",
              "      <td>No</td>\n",
              "      <td>No</td>\n",
              "      <td>No</td>\n",
              "      <td>Month-to-month</td>\n",
              "      <td>Yes</td>\n",
              "      <td>Mailed check</td>\n",
              "      <td>53.85</td>\n",
              "      <td>108.15</td>\n",
              "      <td>Yes</td>\n",
              "    </tr>\n",
              "    <tr>\n",
              "      <th>3</th>\n",
              "      <td>7795-CFOCW</td>\n",
              "      <td>Male</td>\n",
              "      <td>0</td>\n",
              "      <td>No</td>\n",
              "      <td>No</td>\n",
              "      <td>45</td>\n",
              "      <td>No</td>\n",
              "      <td>No phone service</td>\n",
              "      <td>DSL</td>\n",
              "      <td>Yes</td>\n",
              "      <td>No</td>\n",
              "      <td>Yes</td>\n",
              "      <td>Yes</td>\n",
              "      <td>No</td>\n",
              "      <td>No</td>\n",
              "      <td>One year</td>\n",
              "      <td>No</td>\n",
              "      <td>Bank transfer (automatic)</td>\n",
              "      <td>42.30</td>\n",
              "      <td>1840.75</td>\n",
              "      <td>No</td>\n",
              "    </tr>\n",
              "    <tr>\n",
              "      <th>4</th>\n",
              "      <td>9237-HQITU</td>\n",
              "      <td>Female</td>\n",
              "      <td>0</td>\n",
              "      <td>No</td>\n",
              "      <td>No</td>\n",
              "      <td>2</td>\n",
              "      <td>Yes</td>\n",
              "      <td>No</td>\n",
              "      <td>Fiber optic</td>\n",
              "      <td>No</td>\n",
              "      <td>No</td>\n",
              "      <td>No</td>\n",
              "      <td>No</td>\n",
              "      <td>No</td>\n",
              "      <td>No</td>\n",
              "      <td>Month-to-month</td>\n",
              "      <td>Yes</td>\n",
              "      <td>Electronic check</td>\n",
              "      <td>70.70</td>\n",
              "      <td>151.65</td>\n",
              "      <td>Yes</td>\n",
              "    </tr>\n",
              "  </tbody>\n",
              "</table>\n",
              "</div>"
            ],
            "text/plain": [
              "   customerID  gender  SeniorCitizen  ... MonthlyCharges TotalCharges  Churn\n",
              "0  7590-VHVEG  Female              0  ...          29.85        29.85     No\n",
              "1  5575-GNVDE    Male              0  ...          56.95       1889.5     No\n",
              "2  3668-QPYBK    Male              0  ...          53.85       108.15    Yes\n",
              "3  7795-CFOCW    Male              0  ...          42.30      1840.75     No\n",
              "4  9237-HQITU  Female              0  ...          70.70       151.65    Yes\n",
              "\n",
              "[5 rows x 21 columns]"
            ]
          },
          "metadata": {
            "tags": []
          },
          "execution_count": 98
        }
      ]
    },
    {
      "cell_type": "markdown",
      "metadata": {
        "id": "foOAN13gHxMu",
        "colab_type": "text"
      },
      "source": [
        "## Preprocess data"
      ]
    },
    {
      "cell_type": "code",
      "metadata": {
        "id": "D8RkDHEVGtBy",
        "colab_type": "code",
        "colab": {
          "base_uri": "https://localhost:8080/",
          "height": 68
        },
        "outputId": "e8cef0b4-d6dc-4fc5-c14c-bc9aa15dc11e"
      },
      "source": [
        "df['Churn'] = df['Churn'].apply(lambda x: 1 if x == 'Yes' else 0)\n",
        "df['Churn'].value_counts(normalize=True)"
      ],
      "execution_count": 99,
      "outputs": [
        {
          "output_type": "execute_result",
          "data": {
            "text/plain": [
              "0    0.73463\n",
              "1    0.26537\n",
              "Name: Churn, dtype: float64"
            ]
          },
          "metadata": {
            "tags": []
          },
          "execution_count": 99
        }
      ]
    },
    {
      "cell_type": "markdown",
      "metadata": {
        "id": "-OMm1QjZISdO",
        "colab_type": "text"
      },
      "source": [
        "Standard scaler"
      ]
    },
    {
      "cell_type": "code",
      "metadata": {
        "id": "bESPbgzLH85k",
        "colab_type": "code",
        "colab": {}
      },
      "source": [
        "df['TotalCharges'] = df['TotalCharges'].replace(' ', np.nan).astype(float)\n",
        "df = df.dropna()"
      ],
      "execution_count": 100,
      "outputs": []
    },
    {
      "cell_type": "code",
      "metadata": {
        "id": "LTL3SieHG4N6",
        "colab_type": "code",
        "colab": {}
      },
      "source": [
        "df['MonthlyCharges'] = np.log(df['MonthlyCharges'])\n",
        "df['MonthlyCharges'] = (df['MonthlyCharges'] - df['MonthlyCharges'].mean())/df['MonthlyCharges'].std()\n",
        "\n",
        "df['TotalCharges'] = np.log(df['TotalCharges'])\n",
        "df['TotalCharges'] = (df['TotalCharges'] - df['TotalCharges'].mean())/df['TotalCharges'].std()\n",
        "\n",
        "df['tenure'] = (df['tenure'] - df['tenure'].mean())/df['tenure'].std()"
      ],
      "execution_count": 101,
      "outputs": []
    },
    {
      "cell_type": "markdown",
      "metadata": {
        "id": "OG4Ep0tnIUFG",
        "colab_type": "text"
      },
      "source": [
        "One hot encoding"
      ]
    },
    {
      "cell_type": "code",
      "metadata": {
        "id": "QffMXvkMH0IQ",
        "colab_type": "code",
        "colab": {
          "base_uri": "https://localhost:8080/",
          "height": 413
        },
        "outputId": "21669c84-829a-492d-8bf2-9bc842d85633"
      },
      "source": [
        "dummy_cols = []\n",
        "# column with value\n",
        "sample_set = df[['tenure', 'MonthlyCharges', 'TotalCharges', 'Churn']].copy(deep=True)\n",
        "# for other column with category, only one hot with column have nuique < 5\n",
        "for col in list(df.columns):\n",
        "    if col not in ['tenure', 'MonthlyCharges', 'TotalCharges', 'Churn'] and df[col].nunique() < 5:\n",
        "        dummy_vars = pd.get_dummies(df[col])\n",
        "        dummy_vars.columns = [col+str(x) for x in dummy_vars.columns]        \n",
        "        sample_set = pd.concat([sample_set, dummy_vars], axis=1)\n",
        "sample_set.head(10)"
      ],
      "execution_count": 102,
      "outputs": [
        {
          "output_type": "execute_result",
          "data": {
            "text/html": [
              "<div>\n",
              "<style scoped>\n",
              "    .dataframe tbody tr th:only-of-type {\n",
              "        vertical-align: middle;\n",
              "    }\n",
              "\n",
              "    .dataframe tbody tr th {\n",
              "        vertical-align: top;\n",
              "    }\n",
              "\n",
              "    .dataframe thead th {\n",
              "        text-align: right;\n",
              "    }\n",
              "</style>\n",
              "<table border=\"1\" class=\"dataframe\">\n",
              "  <thead>\n",
              "    <tr style=\"text-align: right;\">\n",
              "      <th></th>\n",
              "      <th>tenure</th>\n",
              "      <th>MonthlyCharges</th>\n",
              "      <th>TotalCharges</th>\n",
              "      <th>Churn</th>\n",
              "      <th>genderFemale</th>\n",
              "      <th>genderMale</th>\n",
              "      <th>SeniorCitizen0</th>\n",
              "      <th>SeniorCitizen1</th>\n",
              "      <th>PartnerNo</th>\n",
              "      <th>PartnerYes</th>\n",
              "      <th>DependentsNo</th>\n",
              "      <th>DependentsYes</th>\n",
              "      <th>PhoneServiceNo</th>\n",
              "      <th>PhoneServiceYes</th>\n",
              "      <th>MultipleLinesNo</th>\n",
              "      <th>MultipleLinesNo phone service</th>\n",
              "      <th>MultipleLinesYes</th>\n",
              "      <th>InternetServiceDSL</th>\n",
              "      <th>InternetServiceFiber optic</th>\n",
              "      <th>InternetServiceNo</th>\n",
              "      <th>OnlineSecurityNo</th>\n",
              "      <th>OnlineSecurityNo internet service</th>\n",
              "      <th>OnlineSecurityYes</th>\n",
              "      <th>OnlineBackupNo</th>\n",
              "      <th>OnlineBackupNo internet service</th>\n",
              "      <th>OnlineBackupYes</th>\n",
              "      <th>DeviceProtectionNo</th>\n",
              "      <th>DeviceProtectionNo internet service</th>\n",
              "      <th>DeviceProtectionYes</th>\n",
              "      <th>TechSupportNo</th>\n",
              "      <th>TechSupportNo internet service</th>\n",
              "      <th>TechSupportYes</th>\n",
              "      <th>StreamingTVNo</th>\n",
              "      <th>StreamingTVNo internet service</th>\n",
              "      <th>StreamingTVYes</th>\n",
              "      <th>StreamingMoviesNo</th>\n",
              "      <th>StreamingMoviesNo internet service</th>\n",
              "      <th>StreamingMoviesYes</th>\n",
              "      <th>ContractMonth-to-month</th>\n",
              "      <th>ContractOne year</th>\n",
              "      <th>ContractTwo year</th>\n",
              "      <th>PaperlessBillingNo</th>\n",
              "      <th>PaperlessBillingYes</th>\n",
              "      <th>PaymentMethodBank transfer (automatic)</th>\n",
              "      <th>PaymentMethodCredit card (automatic)</th>\n",
              "      <th>PaymentMethodElectronic check</th>\n",
              "      <th>PaymentMethodMailed check</th>\n",
              "    </tr>\n",
              "  </thead>\n",
              "  <tbody>\n",
              "    <tr>\n",
              "      <th>0</th>\n",
              "      <td>-1.280157</td>\n",
              "      <td>-1.054244</td>\n",
              "      <td>-2.281382</td>\n",
              "      <td>0</td>\n",
              "      <td>1</td>\n",
              "      <td>0</td>\n",
              "      <td>1</td>\n",
              "      <td>0</td>\n",
              "      <td>0</td>\n",
              "      <td>1</td>\n",
              "      <td>1</td>\n",
              "      <td>0</td>\n",
              "      <td>1</td>\n",
              "      <td>0</td>\n",
              "      <td>0</td>\n",
              "      <td>1</td>\n",
              "      <td>0</td>\n",
              "      <td>1</td>\n",
              "      <td>0</td>\n",
              "      <td>0</td>\n",
              "      <td>1</td>\n",
              "      <td>0</td>\n",
              "      <td>0</td>\n",
              "      <td>0</td>\n",
              "      <td>0</td>\n",
              "      <td>1</td>\n",
              "      <td>1</td>\n",
              "      <td>0</td>\n",
              "      <td>0</td>\n",
              "      <td>1</td>\n",
              "      <td>0</td>\n",
              "      <td>0</td>\n",
              "      <td>1</td>\n",
              "      <td>0</td>\n",
              "      <td>0</td>\n",
              "      <td>1</td>\n",
              "      <td>0</td>\n",
              "      <td>0</td>\n",
              "      <td>1</td>\n",
              "      <td>0</td>\n",
              "      <td>0</td>\n",
              "      <td>0</td>\n",
              "      <td>1</td>\n",
              "      <td>0</td>\n",
              "      <td>0</td>\n",
              "      <td>1</td>\n",
              "      <td>0</td>\n",
              "    </tr>\n",
              "    <tr>\n",
              "      <th>1</th>\n",
              "      <td>0.064298</td>\n",
              "      <td>0.032896</td>\n",
              "      <td>0.389269</td>\n",
              "      <td>0</td>\n",
              "      <td>0</td>\n",
              "      <td>1</td>\n",
              "      <td>1</td>\n",
              "      <td>0</td>\n",
              "      <td>1</td>\n",
              "      <td>0</td>\n",
              "      <td>1</td>\n",
              "      <td>0</td>\n",
              "      <td>0</td>\n",
              "      <td>1</td>\n",
              "      <td>1</td>\n",
              "      <td>0</td>\n",
              "      <td>0</td>\n",
              "      <td>1</td>\n",
              "      <td>0</td>\n",
              "      <td>0</td>\n",
              "      <td>0</td>\n",
              "      <td>0</td>\n",
              "      <td>1</td>\n",
              "      <td>1</td>\n",
              "      <td>0</td>\n",
              "      <td>0</td>\n",
              "      <td>0</td>\n",
              "      <td>0</td>\n",
              "      <td>1</td>\n",
              "      <td>1</td>\n",
              "      <td>0</td>\n",
              "      <td>0</td>\n",
              "      <td>1</td>\n",
              "      <td>0</td>\n",
              "      <td>0</td>\n",
              "      <td>1</td>\n",
              "      <td>0</td>\n",
              "      <td>0</td>\n",
              "      <td>0</td>\n",
              "      <td>1</td>\n",
              "      <td>0</td>\n",
              "      <td>1</td>\n",
              "      <td>0</td>\n",
              "      <td>0</td>\n",
              "      <td>0</td>\n",
              "      <td>0</td>\n",
              "      <td>1</td>\n",
              "    </tr>\n",
              "    <tr>\n",
              "      <th>2</th>\n",
              "      <td>-1.239416</td>\n",
              "      <td>-0.061298</td>\n",
              "      <td>-1.452520</td>\n",
              "      <td>1</td>\n",
              "      <td>0</td>\n",
              "      <td>1</td>\n",
              "      <td>1</td>\n",
              "      <td>0</td>\n",
              "      <td>1</td>\n",
              "      <td>0</td>\n",
              "      <td>1</td>\n",
              "      <td>0</td>\n",
              "      <td>0</td>\n",
              "      <td>1</td>\n",
              "      <td>1</td>\n",
              "      <td>0</td>\n",
              "      <td>0</td>\n",
              "      <td>1</td>\n",
              "      <td>0</td>\n",
              "      <td>0</td>\n",
              "      <td>0</td>\n",
              "      <td>0</td>\n",
              "      <td>1</td>\n",
              "      <td>0</td>\n",
              "      <td>0</td>\n",
              "      <td>1</td>\n",
              "      <td>1</td>\n",
              "      <td>0</td>\n",
              "      <td>0</td>\n",
              "      <td>1</td>\n",
              "      <td>0</td>\n",
              "      <td>0</td>\n",
              "      <td>1</td>\n",
              "      <td>0</td>\n",
              "      <td>0</td>\n",
              "      <td>1</td>\n",
              "      <td>0</td>\n",
              "      <td>0</td>\n",
              "      <td>1</td>\n",
              "      <td>0</td>\n",
              "      <td>0</td>\n",
              "      <td>0</td>\n",
              "      <td>1</td>\n",
              "      <td>0</td>\n",
              "      <td>0</td>\n",
              "      <td>0</td>\n",
              "      <td>1</td>\n",
              "    </tr>\n",
              "    <tr>\n",
              "      <th>3</th>\n",
              "      <td>0.512450</td>\n",
              "      <td>-0.467578</td>\n",
              "      <td>0.372439</td>\n",
              "      <td>0</td>\n",
              "      <td>0</td>\n",
              "      <td>1</td>\n",
              "      <td>1</td>\n",
              "      <td>0</td>\n",
              "      <td>1</td>\n",
              "      <td>0</td>\n",
              "      <td>1</td>\n",
              "      <td>0</td>\n",
              "      <td>1</td>\n",
              "      <td>0</td>\n",
              "      <td>0</td>\n",
              "      <td>1</td>\n",
              "      <td>0</td>\n",
              "      <td>1</td>\n",
              "      <td>0</td>\n",
              "      <td>0</td>\n",
              "      <td>0</td>\n",
              "      <td>0</td>\n",
              "      <td>1</td>\n",
              "      <td>1</td>\n",
              "      <td>0</td>\n",
              "      <td>0</td>\n",
              "      <td>0</td>\n",
              "      <td>0</td>\n",
              "      <td>1</td>\n",
              "      <td>0</td>\n",
              "      <td>0</td>\n",
              "      <td>1</td>\n",
              "      <td>1</td>\n",
              "      <td>0</td>\n",
              "      <td>0</td>\n",
              "      <td>1</td>\n",
              "      <td>0</td>\n",
              "      <td>0</td>\n",
              "      <td>0</td>\n",
              "      <td>1</td>\n",
              "      <td>0</td>\n",
              "      <td>1</td>\n",
              "      <td>0</td>\n",
              "      <td>1</td>\n",
              "      <td>0</td>\n",
              "      <td>0</td>\n",
              "      <td>0</td>\n",
              "    </tr>\n",
              "    <tr>\n",
              "      <th>4</th>\n",
              "      <td>-1.239416</td>\n",
              "      <td>0.396862</td>\n",
              "      <td>-1.234860</td>\n",
              "      <td>1</td>\n",
              "      <td>1</td>\n",
              "      <td>0</td>\n",
              "      <td>1</td>\n",
              "      <td>0</td>\n",
              "      <td>1</td>\n",
              "      <td>0</td>\n",
              "      <td>1</td>\n",
              "      <td>0</td>\n",
              "      <td>0</td>\n",
              "      <td>1</td>\n",
              "      <td>1</td>\n",
              "      <td>0</td>\n",
              "      <td>0</td>\n",
              "      <td>0</td>\n",
              "      <td>1</td>\n",
              "      <td>0</td>\n",
              "      <td>1</td>\n",
              "      <td>0</td>\n",
              "      <td>0</td>\n",
              "      <td>1</td>\n",
              "      <td>0</td>\n",
              "      <td>0</td>\n",
              "      <td>1</td>\n",
              "      <td>0</td>\n",
              "      <td>0</td>\n",
              "      <td>1</td>\n",
              "      <td>0</td>\n",
              "      <td>0</td>\n",
              "      <td>1</td>\n",
              "      <td>0</td>\n",
              "      <td>0</td>\n",
              "      <td>1</td>\n",
              "      <td>0</td>\n",
              "      <td>0</td>\n",
              "      <td>1</td>\n",
              "      <td>0</td>\n",
              "      <td>0</td>\n",
              "      <td>0</td>\n",
              "      <td>1</td>\n",
              "      <td>0</td>\n",
              "      <td>0</td>\n",
              "      <td>1</td>\n",
              "      <td>0</td>\n",
              "    </tr>\n",
              "    <tr>\n",
              "      <th>5</th>\n",
              "      <td>-0.994970</td>\n",
              "      <td>0.974468</td>\n",
              "      <td>-0.147808</td>\n",
              "      <td>1</td>\n",
              "      <td>1</td>\n",
              "      <td>0</td>\n",
              "      <td>1</td>\n",
              "      <td>0</td>\n",
              "      <td>1</td>\n",
              "      <td>0</td>\n",
              "      <td>1</td>\n",
              "      <td>0</td>\n",
              "      <td>0</td>\n",
              "      <td>1</td>\n",
              "      <td>0</td>\n",
              "      <td>0</td>\n",
              "      <td>1</td>\n",
              "      <td>0</td>\n",
              "      <td>1</td>\n",
              "      <td>0</td>\n",
              "      <td>1</td>\n",
              "      <td>0</td>\n",
              "      <td>0</td>\n",
              "      <td>1</td>\n",
              "      <td>0</td>\n",
              "      <td>0</td>\n",
              "      <td>0</td>\n",
              "      <td>0</td>\n",
              "      <td>1</td>\n",
              "      <td>1</td>\n",
              "      <td>0</td>\n",
              "      <td>0</td>\n",
              "      <td>0</td>\n",
              "      <td>0</td>\n",
              "      <td>1</td>\n",
              "      <td>0</td>\n",
              "      <td>0</td>\n",
              "      <td>1</td>\n",
              "      <td>1</td>\n",
              "      <td>0</td>\n",
              "      <td>0</td>\n",
              "      <td>0</td>\n",
              "      <td>1</td>\n",
              "      <td>0</td>\n",
              "      <td>0</td>\n",
              "      <td>1</td>\n",
              "      <td>0</td>\n",
              "    </tr>\n",
              "    <tr>\n",
              "      <th>6</th>\n",
              "      <td>-0.424595</td>\n",
              "      <td>0.786142</td>\n",
              "      <td>0.409363</td>\n",
              "      <td>0</td>\n",
              "      <td>0</td>\n",
              "      <td>1</td>\n",
              "      <td>1</td>\n",
              "      <td>0</td>\n",
              "      <td>1</td>\n",
              "      <td>0</td>\n",
              "      <td>0</td>\n",
              "      <td>1</td>\n",
              "      <td>0</td>\n",
              "      <td>1</td>\n",
              "      <td>0</td>\n",
              "      <td>0</td>\n",
              "      <td>1</td>\n",
              "      <td>0</td>\n",
              "      <td>1</td>\n",
              "      <td>0</td>\n",
              "      <td>1</td>\n",
              "      <td>0</td>\n",
              "      <td>0</td>\n",
              "      <td>0</td>\n",
              "      <td>0</td>\n",
              "      <td>1</td>\n",
              "      <td>1</td>\n",
              "      <td>0</td>\n",
              "      <td>0</td>\n",
              "      <td>1</td>\n",
              "      <td>0</td>\n",
              "      <td>0</td>\n",
              "      <td>0</td>\n",
              "      <td>0</td>\n",
              "      <td>1</td>\n",
              "      <td>1</td>\n",
              "      <td>0</td>\n",
              "      <td>0</td>\n",
              "      <td>1</td>\n",
              "      <td>0</td>\n",
              "      <td>0</td>\n",
              "      <td>0</td>\n",
              "      <td>1</td>\n",
              "      <td>0</td>\n",
              "      <td>1</td>\n",
              "      <td>0</td>\n",
              "      <td>0</td>\n",
              "    </tr>\n",
              "    <tr>\n",
              "      <th>7</th>\n",
              "      <td>-0.913487</td>\n",
              "      <td>-1.059891</td>\n",
              "      <td>-0.791550</td>\n",
              "      <td>0</td>\n",
              "      <td>1</td>\n",
              "      <td>0</td>\n",
              "      <td>1</td>\n",
              "      <td>0</td>\n",
              "      <td>1</td>\n",
              "      <td>0</td>\n",
              "      <td>1</td>\n",
              "      <td>0</td>\n",
              "      <td>1</td>\n",
              "      <td>0</td>\n",
              "      <td>0</td>\n",
              "      <td>1</td>\n",
              "      <td>0</td>\n",
              "      <td>1</td>\n",
              "      <td>0</td>\n",
              "      <td>0</td>\n",
              "      <td>0</td>\n",
              "      <td>0</td>\n",
              "      <td>1</td>\n",
              "      <td>1</td>\n",
              "      <td>0</td>\n",
              "      <td>0</td>\n",
              "      <td>1</td>\n",
              "      <td>0</td>\n",
              "      <td>0</td>\n",
              "      <td>1</td>\n",
              "      <td>0</td>\n",
              "      <td>0</td>\n",
              "      <td>1</td>\n",
              "      <td>0</td>\n",
              "      <td>0</td>\n",
              "      <td>1</td>\n",
              "      <td>0</td>\n",
              "      <td>0</td>\n",
              "      <td>1</td>\n",
              "      <td>0</td>\n",
              "      <td>0</td>\n",
              "      <td>1</td>\n",
              "      <td>0</td>\n",
              "      <td>0</td>\n",
              "      <td>0</td>\n",
              "      <td>0</td>\n",
              "      <td>1</td>\n",
              "    </tr>\n",
              "    <tr>\n",
              "      <th>8</th>\n",
              "      <td>-0.180148</td>\n",
              "      <td>1.059269</td>\n",
              "      <td>0.696733</td>\n",
              "      <td>1</td>\n",
              "      <td>1</td>\n",
              "      <td>0</td>\n",
              "      <td>1</td>\n",
              "      <td>0</td>\n",
              "      <td>0</td>\n",
              "      <td>1</td>\n",
              "      <td>1</td>\n",
              "      <td>0</td>\n",
              "      <td>0</td>\n",
              "      <td>1</td>\n",
              "      <td>0</td>\n",
              "      <td>0</td>\n",
              "      <td>1</td>\n",
              "      <td>0</td>\n",
              "      <td>1</td>\n",
              "      <td>0</td>\n",
              "      <td>1</td>\n",
              "      <td>0</td>\n",
              "      <td>0</td>\n",
              "      <td>1</td>\n",
              "      <td>0</td>\n",
              "      <td>0</td>\n",
              "      <td>0</td>\n",
              "      <td>0</td>\n",
              "      <td>1</td>\n",
              "      <td>0</td>\n",
              "      <td>0</td>\n",
              "      <td>1</td>\n",
              "      <td>0</td>\n",
              "      <td>0</td>\n",
              "      <td>1</td>\n",
              "      <td>0</td>\n",
              "      <td>0</td>\n",
              "      <td>1</td>\n",
              "      <td>1</td>\n",
              "      <td>0</td>\n",
              "      <td>0</td>\n",
              "      <td>0</td>\n",
              "      <td>1</td>\n",
              "      <td>0</td>\n",
              "      <td>0</td>\n",
              "      <td>1</td>\n",
              "      <td>0</td>\n",
              "    </tr>\n",
              "    <tr>\n",
              "      <th>9</th>\n",
              "      <td>1.205048</td>\n",
              "      <td>0.009088</td>\n",
              "      <td>0.783956</td>\n",
              "      <td>0</td>\n",
              "      <td>0</td>\n",
              "      <td>1</td>\n",
              "      <td>1</td>\n",
              "      <td>0</td>\n",
              "      <td>1</td>\n",
              "      <td>0</td>\n",
              "      <td>0</td>\n",
              "      <td>1</td>\n",
              "      <td>0</td>\n",
              "      <td>1</td>\n",
              "      <td>1</td>\n",
              "      <td>0</td>\n",
              "      <td>0</td>\n",
              "      <td>1</td>\n",
              "      <td>0</td>\n",
              "      <td>0</td>\n",
              "      <td>0</td>\n",
              "      <td>0</td>\n",
              "      <td>1</td>\n",
              "      <td>0</td>\n",
              "      <td>0</td>\n",
              "      <td>1</td>\n",
              "      <td>1</td>\n",
              "      <td>0</td>\n",
              "      <td>0</td>\n",
              "      <td>1</td>\n",
              "      <td>0</td>\n",
              "      <td>0</td>\n",
              "      <td>1</td>\n",
              "      <td>0</td>\n",
              "      <td>0</td>\n",
              "      <td>1</td>\n",
              "      <td>0</td>\n",
              "      <td>0</td>\n",
              "      <td>0</td>\n",
              "      <td>1</td>\n",
              "      <td>0</td>\n",
              "      <td>1</td>\n",
              "      <td>0</td>\n",
              "      <td>1</td>\n",
              "      <td>0</td>\n",
              "      <td>0</td>\n",
              "      <td>0</td>\n",
              "    </tr>\n",
              "  </tbody>\n",
              "</table>\n",
              "</div>"
            ],
            "text/plain": [
              "     tenure  ...  PaymentMethodMailed check\n",
              "0 -1.280157  ...                          0\n",
              "1  0.064298  ...                          1\n",
              "2 -1.239416  ...                          1\n",
              "3  0.512450  ...                          0\n",
              "4 -1.239416  ...                          0\n",
              "5 -0.994970  ...                          0\n",
              "6 -0.424595  ...                          0\n",
              "7 -0.913487  ...                          1\n",
              "8 -0.180148  ...                          0\n",
              "9  1.205048  ...                          0\n",
              "\n",
              "[10 rows x 47 columns]"
            ]
          },
          "metadata": {
            "tags": []
          },
          "execution_count": 102
        }
      ]
    },
    {
      "cell_type": "code",
      "metadata": {
        "id": "umaod1QrIOsy",
        "colab_type": "code",
        "colab": {
          "base_uri": "https://localhost:8080/",
          "height": 51
        },
        "outputId": "c869ef0f-4b6a-4206-dfd4-bc418f84aba0"
      },
      "source": [
        "X = sample_set.drop(columns='Churn')\n",
        "y= sample_set['Churn']\n",
        "print(X.shape)\n",
        "print(y.shape)"
      ],
      "execution_count": 103,
      "outputs": [
        {
          "output_type": "stream",
          "text": [
            "(7032, 46)\n",
            "(7032,)\n"
          ],
          "name": "stdout"
        }
      ]
    },
    {
      "cell_type": "code",
      "metadata": {
        "id": "Hqno-dCPIsGB",
        "colab_type": "code",
        "colab": {
          "base_uri": "https://localhost:8080/",
          "height": 51
        },
        "outputId": "d5fa89fe-7304-4926-9721-d6947b1721ca"
      },
      "source": [
        "X_train,  X_test, y_train, y_test = train_test_split(X,y, test_size = 0.2, \n",
        "                                                     random_state = 42,stratify=y)\n",
        "print(X_train.shape,y_train.shape)\n",
        "print(X_test.shape,y_test.shape)"
      ],
      "execution_count": 104,
      "outputs": [
        {
          "output_type": "stream",
          "text": [
            "(5625, 46) (5625,)\n",
            "(1407, 46) (1407,)\n"
          ],
          "name": "stdout"
        }
      ]
    },
    {
      "cell_type": "markdown",
      "metadata": {
        "id": "Yet7d0wBqqVz",
        "colab_type": "text"
      },
      "source": [
        "## Base Model"
      ]
    },
    {
      "cell_type": "code",
      "metadata": {
        "id": "uf-E0wSJJpOB",
        "colab_type": "code",
        "colab": {
          "base_uri": "https://localhost:8080/",
          "height": 204
        },
        "outputId": "8ae4a772-3cb0-4b8f-c18c-75dcf7ce3f23"
      },
      "source": [
        "model=LogisticRegression()\n",
        "model.fit(X_train, y_train)\n",
        "y_pred = model.predict(X_test)\n",
        "print('Balanced accuracy score:',balanced_accuracy_score(y_test,y_pred))\n",
        "print('Matthews_corrcoef accuracy score:',matthews_corrcoef(y_test,y_pred))\n",
        "print(classification_report(y_test,y_pred))"
      ],
      "execution_count": 105,
      "outputs": [
        {
          "output_type": "stream",
          "text": [
            "Balanced accuracy score: 0.7158424401178232\n",
            "Matthews_corrcoef accuracy score: 0.45801309453634315\n",
            "              precision    recall  f1-score   support\n",
            "\n",
            "           0       0.84      0.89      0.87      1033\n",
            "           1       0.64      0.54      0.59       374\n",
            "\n",
            "    accuracy                           0.80      1407\n",
            "   macro avg       0.74      0.72      0.73      1407\n",
            "weighted avg       0.79      0.80      0.79      1407\n",
            "\n"
          ],
          "name": "stdout"
        }
      ]
    },
    {
      "cell_type": "code",
      "metadata": {
        "id": "CUBwoQrOIsyx",
        "colab_type": "code",
        "colab": {
          "base_uri": "https://localhost:8080/",
          "height": 204
        },
        "outputId": "13154bb9-e635-4bc2-dc0b-433446cce658"
      },
      "source": [
        "model=XGBClassifier()\n",
        "model.fit(X_train, y_train)\n",
        "y_pred = model.predict(X_test)\n",
        "print('Balanced accuracy score:',balanced_accuracy_score(y_test,y_pred))\n",
        "print('Matthews_corrcoef accuracy score:',matthews_corrcoef(y_test,y_pred))\n",
        "print(classification_report(y_test,y_pred))"
      ],
      "execution_count": 106,
      "outputs": [
        {
          "output_type": "stream",
          "text": [
            "Balanced accuracy score: 0.7081898939281777\n",
            "Matthews_corrcoef accuracy score: 0.4432922409989514\n",
            "              precision    recall  f1-score   support\n",
            "\n",
            "           0       0.84      0.89      0.86      1033\n",
            "           1       0.63      0.53      0.58       374\n",
            "\n",
            "    accuracy                           0.79      1407\n",
            "   macro avg       0.74      0.71      0.72      1407\n",
            "weighted avg       0.78      0.79      0.79      1407\n",
            "\n"
          ],
          "name": "stdout"
        }
      ]
    },
    {
      "cell_type": "markdown",
      "metadata": {
        "id": "2cz-wm6lJGkT",
        "colab_type": "text"
      },
      "source": [
        "All the documentation says that is should be:\n",
        "\n",
        "scale_pos_weight = count(negative examples)/count(Positive examples)\n",
        "\n",
        "In practice, that works pretty well, but if your dataset is extremely unbalanced I'd recommend using something more conservative like:\n",
        "\n",
        "scale_pos_weight = sqrt(count(negative examples)/count(Positive examples)) \n",
        "\n",
        "This is useful to limit the effect of a multiplication of positive examples by a very high weight."
      ]
    },
    {
      "cell_type": "code",
      "metadata": {
        "id": "-j7QJkyBI-Vn",
        "colab_type": "code",
        "colab": {
          "base_uri": "https://localhost:8080/",
          "height": 68
        },
        "outputId": "8c71c617-ae97-4df5-941f-5c47774e0186"
      },
      "source": [
        "weights=y_train.value_counts()\n",
        "weights"
      ],
      "execution_count": 107,
      "outputs": [
        {
          "output_type": "execute_result",
          "data": {
            "text/plain": [
              "0    4130\n",
              "1    1495\n",
              "Name: Churn, dtype: int64"
            ]
          },
          "metadata": {
            "tags": []
          },
          "execution_count": 107
        }
      ]
    },
    {
      "cell_type": "code",
      "metadata": {
        "id": "mtd1B9WPIwfA",
        "colab_type": "code",
        "colab": {
          "base_uri": "https://localhost:8080/",
          "height": 204
        },
        "outputId": "4e7dd4e9-d26c-45e6-b443-bd160099c75d"
      },
      "source": [
        "model=XGBClassifier(scale_pos_weight=int(weights[0]/weights[1]))\n",
        "model.fit(X_train, y_train)\n",
        "y_pred = model.predict(X_test)\n",
        "print('Balanced accuracy score:',balanced_accuracy_score(y_test,y_pred))\n",
        "print('Matthews_corrcoef accuracy score:',matthews_corrcoef(y_test,y_pred))\n",
        "print(classification_report(y_test,y_pred))"
      ],
      "execution_count": 108,
      "outputs": [
        {
          "output_type": "stream",
          "text": [
            "Balanced accuracy score: 0.763858187823224\n",
            "Matthews_corrcoef accuracy score: 0.48455160312337614\n",
            "              precision    recall  f1-score   support\n",
            "\n",
            "           0       0.90      0.78      0.83      1033\n",
            "           1       0.55      0.75      0.63       374\n",
            "\n",
            "    accuracy                           0.77      1407\n",
            "   macro avg       0.72      0.76      0.73      1407\n",
            "weighted avg       0.80      0.77      0.78      1407\n",
            "\n"
          ],
          "name": "stdout"
        }
      ]
    },
    {
      "cell_type": "markdown",
      "metadata": {
        "id": "6i6CQRc5TB2Q",
        "colab_type": "text"
      },
      "source": [
        "Try with test_size = 0.8"
      ]
    },
    {
      "cell_type": "code",
      "metadata": {
        "id": "g9LsFR_ES7lg",
        "colab_type": "code",
        "colab": {
          "base_uri": "https://localhost:8080/",
          "height": 51
        },
        "outputId": "c2b6e3bb-5b0b-438f-cd84-dcc86eef48f9"
      },
      "source": [
        "X_train,  X_test, y_train, y_test = train_test_split(X,y, test_size = 0.8, \n",
        "                                                     random_state = 42,stratify=y)\n",
        "print(X_train.shape,y_train.shape)\n",
        "print(X_test.shape,y_test.shape)"
      ],
      "execution_count": 109,
      "outputs": [
        {
          "output_type": "stream",
          "text": [
            "(1406, 46) (1406,)\n",
            "(5626, 46) (5626,)\n"
          ],
          "name": "stdout"
        }
      ]
    },
    {
      "cell_type": "code",
      "metadata": {
        "id": "lC_wOytWS-dw",
        "colab_type": "code",
        "colab": {
          "base_uri": "https://localhost:8080/",
          "height": 204
        },
        "outputId": "c3e3c1b9-e8ba-4544-ad08-c59374406e62"
      },
      "source": [
        "model=XGBClassifier(scale_pos_weight=int(weights[0]/weights[1]))\n",
        "model.fit(X_train, y_train)\n",
        "y_pred = model.predict(X_test)\n",
        "print('Balanced accuracy score:',balanced_accuracy_score(y_test,y_pred))\n",
        "print('Matthews_corrcoef accuracy score:',matthews_corrcoef(y_test,y_pred))\n",
        "print(classification_report(y_test,y_pred))"
      ],
      "execution_count": 110,
      "outputs": [
        {
          "output_type": "stream",
          "text": [
            "Balanced accuracy score: 0.739390075366205\n",
            "Matthews_corrcoef accuracy score: 0.4621161533517696\n",
            "              precision    recall  f1-score   support\n",
            "\n",
            "           0       0.87      0.83      0.85      4131\n",
            "           1       0.58      0.65      0.61      1495\n",
            "\n",
            "    accuracy                           0.78      5626\n",
            "   macro avg       0.72      0.74      0.73      5626\n",
            "weighted avg       0.79      0.78      0.79      5626\n",
            "\n"
          ],
          "name": "stdout"
        }
      ]
    },
    {
      "cell_type": "markdown",
      "metadata": {
        "id": "C_VYRMxmMkAt",
        "colab_type": "text"
      },
      "source": [
        "## Semi supervised with Label progapagation"
      ]
    },
    {
      "cell_type": "code",
      "metadata": {
        "id": "kdF-3xltTPF_",
        "colab_type": "code",
        "colab": {}
      },
      "source": [
        "import numpy as np\n",
        "import pandas as pd\n",
        "import matplotlib.pyplot as plt\n",
        "from sklearn import datasets\n",
        "from sklearn import svm\n",
        "from sklearn.semi_supervised import LabelSpreading"
      ],
      "execution_count": 111,
      "outputs": []
    },
    {
      "cell_type": "code",
      "metadata": {
        "id": "IK7DZn9bTcR1",
        "colab_type": "code",
        "colab": {}
      },
      "source": [
        "y=y.array"
      ],
      "execution_count": 112,
      "outputs": []
    },
    {
      "cell_type": "code",
      "metadata": {
        "id": "JpZwHR5tSzVU",
        "colab_type": "code",
        "colab": {
          "base_uri": "https://localhost:8080/",
          "height": 1000
        },
        "outputId": "b0dfc42b-8f13-49e4-f4e0-bc6760d2ba1f"
      },
      "source": [
        "n_total_samples = len(y)\n",
        "indices = np.arange(n_total_samples)\n",
        "print(indices.shape)\n",
        "list_percentage=[0.1,0.2,0.3,0.4,0.5,0.7,0.8]\n",
        "for i in list_percentage:\n",
        "  print('Percentage true label: ',i)\n",
        "  true_label_percentage=i\n",
        "  n_labeled_points = int(true_label_percentage*n_total_samples) \n",
        "  print('n_labeled_points: ',n_labeled_points)\n",
        "  unlabeled_set = indices[n_labeled_points:]\n",
        "  print('unlabeled_set: ',unlabeled_set.shape)\n",
        "  # Shuffle everything around\n",
        "  y_train = np.copy(y)\n",
        "  y_train[unlabeled_set] = -1\n",
        "  # Learn with LabelSpreading\n",
        "  lp_model = LabelSpreading(gamma=.25, max_iter=20)\n",
        "  lp_model.fit(X, y_train)\n",
        "  # prediction for unlabeled set only\n",
        "  y_pred = lp_model.transduction_[unlabeled_set]\n",
        "  y_test = y[unlabeled_set]\n",
        "\n",
        "  print('Balanced accuracy score:',balanced_accuracy_score(y_test,y_pred))\n",
        "  print('Matthews_corrcoef accuracy score:',matthews_corrcoef(y_test,y_pred))\n",
        "  print(classification_report(y_test,y_pred))"
      ],
      "execution_count": 113,
      "outputs": [
        {
          "output_type": "stream",
          "text": [
            "(7032,)\n",
            "Percentage true label:  0.1\n",
            "n_labeled_points:  703\n",
            "unlabeled_set:  (6329,)\n",
            "Balanced accuracy score: 0.6026542704645378\n",
            "Matthews_corrcoef accuracy score: 0.3223611089517321\n",
            "              precision    recall  f1-score   support\n",
            "\n",
            "           0       0.78      0.97      0.86      4636\n",
            "           1       0.73      0.24      0.36      1693\n",
            "\n",
            "    accuracy                           0.77      6329\n",
            "   macro avg       0.75      0.60      0.61      6329\n",
            "weighted avg       0.76      0.77      0.73      6329\n",
            "\n",
            "Percentage true label:  0.2\n",
            "n_labeled_points:  1406\n",
            "unlabeled_set:  (5626,)\n",
            "Balanced accuracy score: 0.6387199646364181\n",
            "Matthews_corrcoef accuracy score: 0.3798435351834359\n",
            "              precision    recall  f1-score   support\n",
            "\n",
            "           0       0.80      0.96      0.87      4131\n",
            "           1       0.72      0.32      0.45      1495\n",
            "\n",
            "    accuracy                           0.79      5626\n",
            "   macro avg       0.76      0.64      0.66      5626\n",
            "weighted avg       0.78      0.79      0.76      5626\n",
            "\n",
            "Percentage true label:  0.3\n",
            "n_labeled_points:  2109\n",
            "unlabeled_set:  (4923,)\n",
            "Balanced accuracy score: 0.6406004555118456\n",
            "Matthews_corrcoef accuracy score: 0.3840320578000435\n",
            "              precision    recall  f1-score   support\n",
            "\n",
            "           0       0.80      0.96      0.87      3616\n",
            "           1       0.73      0.33      0.45      1307\n",
            "\n",
            "    accuracy                           0.79      4923\n",
            "   macro avg       0.76      0.64      0.66      4923\n",
            "weighted avg       0.78      0.79      0.76      4923\n",
            "\n",
            "Percentage true label:  0.4\n",
            "n_labeled_points:  2812\n",
            "unlabeled_set:  (4220,)\n",
            "Balanced accuracy score: 0.633322996576283\n",
            "Matthews_corrcoef accuracy score: 0.3794363306188624\n",
            "              precision    recall  f1-score   support\n",
            "\n",
            "           0       0.79      0.96      0.87      3088\n",
            "           1       0.75      0.30      0.43      1132\n",
            "\n",
            "    accuracy                           0.79      4220\n",
            "   macro avg       0.77      0.63      0.65      4220\n",
            "weighted avg       0.78      0.79      0.75      4220\n",
            "\n",
            "Percentage true label:  0.5\n",
            "n_labeled_points:  3516\n",
            "unlabeled_set:  (3516,)\n",
            "Balanced accuracy score: 0.6306937361528074\n",
            "Matthews_corrcoef accuracy score: 0.3762813136782328\n",
            "              precision    recall  f1-score   support\n",
            "\n",
            "           0       0.79      0.96      0.87      2564\n",
            "           1       0.75      0.30      0.43       952\n",
            "\n",
            "    accuracy                           0.78      3516\n",
            "   macro avg       0.77      0.63      0.65      3516\n",
            "weighted avg       0.78      0.78      0.75      3516\n",
            "\n",
            "Percentage true label:  0.7\n",
            "n_labeled_points:  4922\n",
            "unlabeled_set:  (2110,)\n",
            "Balanced accuracy score: 0.6341052512959207\n",
            "Matthews_corrcoef accuracy score: 0.3926157072651712\n",
            "              precision    recall  f1-score   support\n",
            "\n",
            "           0       0.78      0.97      0.87      1530\n",
            "           1       0.79      0.30      0.43       580\n",
            "\n",
            "    accuracy                           0.79      2110\n",
            "   macro avg       0.79      0.63      0.65      2110\n",
            "weighted avg       0.79      0.79      0.75      2110\n",
            "\n",
            "Percentage true label:  0.8\n",
            "n_labeled_points:  5625\n",
            "unlabeled_set:  (1407,)\n",
            "Balanced accuracy score: 0.6438734631855229\n",
            "Matthews_corrcoef accuracy score: 0.403869453485075\n",
            "              precision    recall  f1-score   support\n",
            "\n",
            "           0       0.79      0.96      0.87      1026\n",
            "           1       0.77      0.32      0.46       381\n",
            "\n",
            "    accuracy                           0.79      1407\n",
            "   macro avg       0.78      0.64      0.66      1407\n",
            "weighted avg       0.79      0.79      0.76      1407\n",
            "\n"
          ],
          "name": "stdout"
        }
      ]
    },
    {
      "cell_type": "markdown",
      "metadata": {
        "id": "Mi-hGpNMVG-d",
        "colab_type": "text"
      },
      "source": [
        "## Try classification with clustering"
      ]
    },
    {
      "cell_type": "markdown",
      "metadata": {
        "id": "Oq2q1pfkWAvr",
        "colab_type": "text"
      },
      "source": [
        "K means"
      ]
    },
    {
      "cell_type": "code",
      "metadata": {
        "id": "EA65YmH4VUgF",
        "colab_type": "code",
        "colab": {}
      },
      "source": [
        "import collections, numpy"
      ],
      "execution_count": 114,
      "outputs": []
    },
    {
      "cell_type": "code",
      "metadata": {
        "id": "WXHWrJqoVZLK",
        "colab_type": "code",
        "colab": {
          "base_uri": "https://localhost:8080/",
          "height": 68
        },
        "outputId": "77497736-26fc-4fbf-d921-dd57551a5258"
      },
      "source": [
        "pd.Series(y).value_counts()"
      ],
      "execution_count": 115,
      "outputs": [
        {
          "output_type": "execute_result",
          "data": {
            "text/plain": [
              "0    5163\n",
              "1    1869\n",
              "dtype: int64"
            ]
          },
          "metadata": {
            "tags": []
          },
          "execution_count": 115
        }
      ]
    },
    {
      "cell_type": "code",
      "metadata": {
        "id": "yxLNcwjKTMUn",
        "colab_type": "code",
        "colab": {
          "base_uri": "https://localhost:8080/",
          "height": 51
        },
        "outputId": "4ddfcdcb-4635-48cd-d9a4-51af0a7443a6"
      },
      "source": [
        "X_train,  X_test, y_train, y_test = train_test_split(X,y, test_size = 0.2, \n",
        "                                                     random_state = 42,stratify=y)\n",
        "print(X_train.shape,y_train.shape)\n",
        "print(X_test.shape,y_test.shape)"
      ],
      "execution_count": 116,
      "outputs": [
        {
          "output_type": "stream",
          "text": [
            "(5625, 46) (5625,)\n",
            "(1407, 46) (1407,)\n"
          ],
          "name": "stdout"
        }
      ]
    },
    {
      "cell_type": "code",
      "metadata": {
        "id": "yqYMPR7uVL7x",
        "colab_type": "code",
        "colab": {
          "base_uri": "https://localhost:8080/",
          "height": 51
        },
        "outputId": "a40368c6-5b57-48d6-f0b7-f6c2aa89b925"
      },
      "source": [
        "from sklearn.cluster import KMeans\n",
        "kmeans = KMeans(n_clusters=2)\n",
        "kmeans.fit(X_test) #\n",
        "y_pred=kmeans.predict(X_test)\n",
        "print(collections.Counter(y_pred))\n",
        "y_pred[y_pred == 0]=2\n",
        "y_pred[y_pred == 1]=0\n",
        "y_pred[y_pred == 2]=1\n",
        "print(collections.Counter(y_pred))"
      ],
      "execution_count": 117,
      "outputs": [
        {
          "output_type": "stream",
          "text": [
            "Counter({0: 1095, 1: 312})\n",
            "Counter({1: 1095, 0: 312})\n"
          ],
          "name": "stdout"
        }
      ]
    },
    {
      "cell_type": "code",
      "metadata": {
        "id": "WQBbl9asVR1c",
        "colab_type": "code",
        "colab": {
          "base_uri": "https://localhost:8080/",
          "height": 187
        },
        "outputId": "f64aed43-8364-470e-9aef-0141e655d856"
      },
      "source": [
        "print('Balanced accuracy score:',balanced_accuracy_score(y_test,y_pred))\n",
        "print(classification_report(y_test,y_pred))"
      ],
      "execution_count": 118,
      "outputs": [
        {
          "output_type": "stream",
          "text": [
            "Balanced accuracy score: 0.6073142448918316\n",
            "              precision    recall  f1-score   support\n",
            "\n",
            "           0       0.92      0.28      0.43      1033\n",
            "           1       0.32      0.94      0.48       374\n",
            "\n",
            "    accuracy                           0.45      1407\n",
            "   macro avg       0.62      0.61      0.45      1407\n",
            "weighted avg       0.76      0.45      0.44      1407\n",
            "\n"
          ],
          "name": "stdout"
        }
      ]
    },
    {
      "cell_type": "code",
      "metadata": {
        "id": "WMqfMhq0jvtC",
        "colab_type": "code",
        "colab": {
          "base_uri": "https://localhost:8080/",
          "height": 221
        },
        "outputId": "bfa2ff9d-36a1-4d05-ff14-5392463033ee"
      },
      "source": [
        "from sklearn.cluster import KMeans\n",
        "kmeans = KMeans(n_clusters=2)\n",
        "kmeans.fit(X_train) #\n",
        "y_pred=kmeans.predict(X_train)\n",
        "print(collections.Counter(y_pred))\n",
        "y_pred[y_pred == 0]=2\n",
        "y_pred[y_pred == 1]=0\n",
        "y_pred[y_pred == 2]=1\n",
        "print(collections.Counter(y_pred))\n",
        "print('Balanced accuracy score:',balanced_accuracy_score(y_train,y_pred))\n",
        "print(classification_report(y_train,y_pred))"
      ],
      "execution_count": 120,
      "outputs": [
        {
          "output_type": "stream",
          "text": [
            "Counter({0: 4417, 1: 1208})\n",
            "Counter({1: 4417, 0: 1208})\n",
            "Balanced accuracy score: 0.6057062686760549\n",
            "              precision    recall  f1-score   support\n",
            "\n",
            "           0       0.93      0.27      0.42      4130\n",
            "           1       0.32      0.94      0.48      1495\n",
            "\n",
            "    accuracy                           0.45      5625\n",
            "   macro avg       0.62      0.61      0.45      5625\n",
            "weighted avg       0.76      0.45      0.43      5625\n",
            "\n"
          ],
          "name": "stdout"
        }
      ]
    },
    {
      "cell_type": "markdown",
      "metadata": {
        "id": "s_77C8BzV_up",
        "colab_type": "text"
      },
      "source": [
        "Hierarchical clustering"
      ]
    },
    {
      "cell_type": "code",
      "metadata": {
        "id": "Nkf5P3G-V-C3",
        "colab_type": "code",
        "colab": {
          "base_uri": "https://localhost:8080/",
          "height": 139
        },
        "outputId": "970c5485-dc87-42d0-f585-beb9c4798d84"
      },
      "source": [
        "!pip install fastcluster"
      ],
      "execution_count": 54,
      "outputs": [
        {
          "output_type": "stream",
          "text": [
            "Collecting fastcluster\n",
            "\u001b[?25l  Downloading https://files.pythonhosted.org/packages/1e/9d/3d7525a4722ee4a11ad969762d1de53b6dac326b5ac1366221e06958e1d7/fastcluster-1.1.26-cp36-cp36m-manylinux1_x86_64.whl (154kB)\n",
            "\r\u001b[K     |██▏                             | 10kB 16.1MB/s eta 0:00:01\r\u001b[K     |████▎                           | 20kB 2.8MB/s eta 0:00:01\r\u001b[K     |██████▍                         | 30kB 3.6MB/s eta 0:00:01\r\u001b[K     |████████▌                       | 40kB 3.8MB/s eta 0:00:01\r\u001b[K     |██████████▋                     | 51kB 3.3MB/s eta 0:00:01\r\u001b[K     |████████████▊                   | 61kB 3.6MB/s eta 0:00:01\r\u001b[K     |██████████████▉                 | 71kB 3.9MB/s eta 0:00:01\r\u001b[K     |█████████████████               | 81kB 4.0MB/s eta 0:00:01\r\u001b[K     |███████████████████▏            | 92kB 4.1MB/s eta 0:00:01\r\u001b[K     |█████████████████████▎          | 102kB 4.2MB/s eta 0:00:01\r\u001b[K     |███████████████████████▍        | 112kB 4.2MB/s eta 0:00:01\r\u001b[K     |█████████████████████████▌      | 122kB 4.2MB/s eta 0:00:01\r\u001b[K     |███████████████████████████▋    | 133kB 4.2MB/s eta 0:00:01\r\u001b[K     |█████████████████████████████▊  | 143kB 4.2MB/s eta 0:00:01\r\u001b[K     |███████████████████████████████▉| 153kB 4.2MB/s eta 0:00:01\r\u001b[K     |████████████████████████████████| 163kB 4.2MB/s \n",
            "\u001b[?25hRequirement already satisfied: numpy>=1.9 in /usr/local/lib/python3.6/dist-packages (from fastcluster) (1.18.5)\n",
            "Installing collected packages: fastcluster\n",
            "Successfully installed fastcluster-1.1.26\n"
          ],
          "name": "stdout"
        }
      ]
    },
    {
      "cell_type": "code",
      "metadata": {
        "id": "4hj-VN57V5Vn",
        "colab_type": "code",
        "colab": {}
      },
      "source": [
        "import fastcluster\n",
        "from scipy.cluster.hierarchy import fcluster,dendrogram, cophenet\n",
        "from scipy.spatial.distance import pdist\n",
        "import collections, numpy"
      ],
      "execution_count": 66,
      "outputs": []
    },
    {
      "cell_type": "code",
      "metadata": {
        "id": "8QzhHmJtWDKI",
        "colab_type": "code",
        "colab": {
          "base_uri": "https://localhost:8080/",
          "height": 238
        },
        "outputId": "1226c2ec-6763-46a7-e6f1-5f86bd9004f0"
      },
      "source": [
        "Z = fastcluster.linkage_vector(X_test,method='ward', metric='euclidean')\n",
        "distance_threshold = 70 \n",
        "clusters = fcluster(Z, distance_threshold, criterion='distance')\n",
        "y_pred = clusters\n",
        "print(\"Number of distinct clusters: \",len(set(y_pred)))\n",
        "print(collections.Counter(y_pred))\n",
        "y_pred[y_pred == 1]=0\n",
        "y_pred[y_pred == 2]=1\n",
        "print(collections.Counter(y_pred))\n",
        "print('Balanced accuracy score:',balanced_accuracy_score(y_test,y_pred))\n",
        "print(classification_report(y_test,y_pred))"
      ],
      "execution_count": 121,
      "outputs": [
        {
          "output_type": "stream",
          "text": [
            "Number of distinct clusters:  2\n",
            "Counter({2: 1095, 1: 312})\n",
            "Counter({1: 1095, 0: 312})\n",
            "Balanced accuracy score: 0.6073142448918316\n",
            "              precision    recall  f1-score   support\n",
            "\n",
            "           0       0.92      0.28      0.43      1033\n",
            "           1       0.32      0.94      0.48       374\n",
            "\n",
            "    accuracy                           0.45      1407\n",
            "   macro avg       0.62      0.61      0.45      1407\n",
            "weighted avg       0.76      0.45      0.44      1407\n",
            "\n"
          ],
          "name": "stdout"
        }
      ]
    },
    {
      "cell_type": "code",
      "metadata": {
        "id": "GXi0A284kMOm",
        "colab_type": "code",
        "colab": {
          "base_uri": "https://localhost:8080/",
          "height": 238
        },
        "outputId": "215c8bb8-c515-472b-abb3-94ce382cd1d4"
      },
      "source": [
        "Z = fastcluster.linkage_vector(X_train,method='ward', metric='euclidean')\n",
        "distance_threshold = 140 \n",
        "clusters = fcluster(Z, distance_threshold, criterion='distance')\n",
        "y_pred = clusters\n",
        "print(\"Number of distinct clusters: \",len(set(y_pred)))\n",
        "print(collections.Counter(y_pred))\n",
        "y_pred[y_pred == 1]=0\n",
        "y_pred[y_pred == 2]=1\n",
        "print(collections.Counter(y_pred))\n",
        "print('Balanced accuracy score:',balanced_accuracy_score(y_train,y_pred))\n",
        "print(classification_report(y_train,y_pred))"
      ],
      "execution_count": 127,
      "outputs": [
        {
          "output_type": "stream",
          "text": [
            "Number of distinct clusters:  2\n",
            "Counter({2: 4417, 1: 1208})\n",
            "Counter({1: 4417, 0: 1208})\n",
            "Balanced accuracy score: 0.6057062686760549\n",
            "              precision    recall  f1-score   support\n",
            "\n",
            "           0       0.93      0.27      0.42      4130\n",
            "           1       0.32      0.94      0.48      1495\n",
            "\n",
            "    accuracy                           0.45      5625\n",
            "   macro avg       0.62      0.61      0.45      5625\n",
            "weighted avg       0.76      0.45      0.43      5625\n",
            "\n"
          ],
          "name": "stdout"
        }
      ]
    },
    {
      "cell_type": "markdown",
      "metadata": {
        "id": "Fv2vid2jWeai",
        "colab_type": "text"
      },
      "source": [
        "Compare all method"
      ]
    },
    {
      "cell_type": "code",
      "metadata": {
        "id": "zUhNzVDpWS2H",
        "colab_type": "code",
        "colab": {
          "base_uri": "https://localhost:8080/",
          "height": 1000
        },
        "outputId": "02d92939-0460-45b0-e0a9-89439a589ba7"
      },
      "source": [
        "import time\n",
        "import warnings\n",
        "from sklearn import cluster, mixture\n",
        "from sklearn.neighbors import kneighbors_graph\n",
        "\n",
        "X=X_test\n",
        "time_=[]\n",
        "name_=[]\n",
        "num_cluster=[]\n",
        "# Default setting for clustering algorithm:\n",
        "default_base = {'quantile': .3,     # Meanshift bandwith\n",
        "                'eps': .3,          # Dbscan\n",
        "                'damping': .9,      # Affinity_propagation \n",
        "                'preference': -200, # Affinity_propagation \n",
        "                'n_neighbors': 10,  # Agglomerative, average_linkage \n",
        "                'n_clusters': 2, # Two_means, Agglomerative, Spectral, Average_linkage, Birch, GaussianMixture\n",
        "                'min_samples': 20,  # Optics\n",
        "                'xi': 0.05,         # Optics \n",
        "                'min_cluster_size': 0.1 # Optics\n",
        "                }\n",
        "\n",
        "# update parameters with dataset-specific values\n",
        "params = default_base.copy()\n",
        "\n",
        "# estimate bandwidth for mean shift\n",
        "bandwidth = cluster.estimate_bandwidth(X, quantile=params['quantile']) # Mean shift\n",
        "\n",
        "# connectivity matrix for structured Ward\n",
        "connectivity = kneighbors_graph(\n",
        "    X, n_neighbors=params['n_neighbors'], include_self=False)\n",
        "# make connectivity symmetric\n",
        "connectivity = 0.5 * (connectivity + connectivity.T)\n",
        "\n",
        "# ============\n",
        "# Create cluster objects\n",
        "# ============\n",
        "ms = cluster.MeanShift(bandwidth=bandwidth, bin_seeding=True)\n",
        "\n",
        "two_means = cluster.MiniBatchKMeans(n_clusters=params['n_clusters'])\n",
        "\n",
        "ward = cluster.AgglomerativeClustering(\n",
        "    n_clusters=params['n_clusters'], linkage='ward',\n",
        "    connectivity=connectivity)\n",
        "\n",
        "average_linkage = cluster.AgglomerativeClustering(\n",
        "    linkage=\"average\", affinity=\"cityblock\",\n",
        "    n_clusters=params['n_clusters'], connectivity=connectivity)\n",
        "\n",
        "spectral = cluster.SpectralClustering(\n",
        "    n_clusters=params['n_clusters'], eigen_solver='arpack',\n",
        "    affinity=\"nearest_neighbors\")\n",
        "\n",
        "dbscan = cluster.DBSCAN(eps=params['eps'])\n",
        "\n",
        "optics = cluster.OPTICS(min_samples=params['min_samples'],\n",
        "                        xi=params['xi'],\n",
        "                        min_cluster_size=params['min_cluster_size'])\n",
        "\n",
        "affinity_propagation = cluster.AffinityPropagation(\n",
        "    damping=params['damping'], preference=params['preference'])\n",
        "\n",
        "birch = cluster.Birch(n_clusters=params['n_clusters'])\n",
        "\n",
        "gmm = mixture.GaussianMixture(\n",
        "    n_components=params['n_clusters'], covariance_type='full')\n",
        "\n",
        "clustering_algorithms = (\n",
        "    ('MiniBatchKMeans (D)', two_means),\n",
        "    #('AffinityPropagation', affinity_propagation),\n",
        "    #('MeanShift', ms),\n",
        "    ('SpectralClustering (D)', spectral),\n",
        "    ('Agglomerative-ward (D)', ward), # OK\n",
        "    ('Agglomerative-average_linkage (D)', average_linkage),\n",
        "    #('DBSCAN', dbscan),\n",
        "    #('OPTICS', optics),\n",
        "    ('Birch (D)', birch), # OK\n",
        "    ('GaussianMixture (D)', gmm) #OK\n",
        ")\n",
        "\n",
        "for name, algorithm in clustering_algorithms:\n",
        "    t0 = time.time()\n",
        "    print(name)\n",
        "    name_.append(name)\n",
        "    # catch warnings related to kneighbors_graph\n",
        "    with warnings.catch_warnings():\n",
        "        warnings.filterwarnings(\n",
        "            \"ignore\",\n",
        "            message=\"the number of connected components of the \" +\n",
        "            \"connectivity matrix is [0-9]{1,2}\" +\n",
        "            \" > 1. Completing it to avoid stopping the tree early.\",\n",
        "            category=UserWarning)\n",
        "        warnings.filterwarnings(\n",
        "            \"ignore\",\n",
        "            message=\"Graph is not fully connected, spectral embedding\" +\n",
        "            \" may not work as expected.\",\n",
        "            category=UserWarning)\n",
        "        algorithm.fit(X)\n",
        "\n",
        "    t1 = time.time()\n",
        "    if hasattr(algorithm, 'labels_'):\n",
        "        y_pred = algorithm.labels_.astype(np.int)\n",
        "    else:\n",
        "        y_pred = algorithm.predict(X)\n",
        "\n",
        "    print(collections.Counter(y_pred))  \n",
        "    y_pred[y_pred == 0]=2\n",
        "    y_pred[y_pred == 1]=0\n",
        "    y_pred[y_pred == 2]=1\n",
        "    print(collections.Counter(y_pred)) \n",
        "    print('Balanced accuracy score:',balanced_accuracy_score(y_test,y_pred))\n",
        "    print(classification_report(y_test,y_pred))\n",
        "    \n",
        "    #---------------DNN add-----------------------\n",
        "\n",
        "\n"
      ],
      "execution_count": 69,
      "outputs": [
        {
          "output_type": "stream",
          "text": [
            "MiniBatchKMeans (D)\n",
            "Counter({1: 788, 0: 619})\n",
            "Counter({0: 788, 1: 619})\n",
            "Balanced accuracy score: 0.435286611344353\n",
            "              precision    recall  f1-score   support\n",
            "\n",
            "           0       0.69      0.53      0.60      1033\n",
            "           1       0.21      0.34      0.26       374\n",
            "\n",
            "    accuracy                           0.48      1407\n",
            "   macro avg       0.45      0.44      0.43      1407\n",
            "weighted avg       0.56      0.48      0.51      1407\n",
            "\n",
            "SpectralClustering (D)\n",
            "Counter({0: 1095, 1: 312})\n",
            "Counter({1: 1095, 0: 312})\n",
            "Balanced accuracy score: 0.6073142448918316\n",
            "              precision    recall  f1-score   support\n",
            "\n",
            "           0       0.92      0.28      0.43      1033\n",
            "           1       0.32      0.94      0.48       374\n",
            "\n",
            "    accuracy                           0.45      1407\n",
            "   macro avg       0.62      0.61      0.45      1407\n",
            "weighted avg       0.76      0.45      0.44      1407\n",
            "\n",
            "Agglomerative-ward (D)\n",
            "Counter({0: 1095, 1: 312})\n",
            "Counter({1: 1095, 0: 312})\n",
            "Balanced accuracy score: 0.6073142448918316\n",
            "              precision    recall  f1-score   support\n",
            "\n",
            "           0       0.92      0.28      0.43      1033\n",
            "           1       0.32      0.94      0.48       374\n",
            "\n",
            "    accuracy                           0.45      1407\n",
            "   macro avg       0.62      0.61      0.45      1407\n",
            "weighted avg       0.76      0.45      0.44      1407\n",
            "\n",
            "Agglomerative-average_linkage (D)\n",
            "Counter({0: 1095, 1: 312})\n",
            "Counter({1: 1095, 0: 312})\n",
            "Balanced accuracy score: 0.6073142448918316\n",
            "              precision    recall  f1-score   support\n",
            "\n",
            "           0       0.92      0.28      0.43      1033\n",
            "           1       0.32      0.94      0.48       374\n",
            "\n",
            "    accuracy                           0.45      1407\n",
            "   macro avg       0.62      0.61      0.45      1407\n",
            "weighted avg       0.76      0.45      0.44      1407\n",
            "\n",
            "Birch (D)\n",
            "Counter({0: 1095, 1: 312})\n",
            "Counter({1: 1095, 0: 312})\n",
            "Balanced accuracy score: 0.6073142448918316\n",
            "              precision    recall  f1-score   support\n",
            "\n",
            "           0       0.92      0.28      0.43      1033\n",
            "           1       0.32      0.94      0.48       374\n",
            "\n",
            "    accuracy                           0.45      1407\n",
            "   macro avg       0.62      0.61      0.45      1407\n",
            "weighted avg       0.76      0.45      0.44      1407\n",
            "\n",
            "GaussianMixture (D)\n",
            "Counter({1: 1095, 0: 312})\n",
            "Counter({0: 1095, 1: 312})\n",
            "Balanced accuracy score: 0.39268575510816844\n",
            "              precision    recall  f1-score   support\n",
            "\n",
            "           0       0.68      0.72      0.70      1033\n",
            "           1       0.08      0.06      0.07       374\n",
            "\n",
            "    accuracy                           0.55      1407\n",
            "   macro avg       0.38      0.39      0.39      1407\n",
            "weighted avg       0.52      0.55      0.53      1407\n",
            "\n"
          ],
          "name": "stdout"
        }
      ]
    },
    {
      "cell_type": "markdown",
      "metadata": {
        "id": "QKySz1vNX63-",
        "colab_type": "text"
      },
      "source": [
        "Try predict 80% data"
      ]
    },
    {
      "cell_type": "code",
      "metadata": {
        "id": "mciit1KiXmVG",
        "colab_type": "code",
        "colab": {
          "base_uri": "https://localhost:8080/",
          "height": 1000
        },
        "outputId": "76b52688-e02e-4968-ac91-2a01dfb5d57b"
      },
      "source": [
        "import time\n",
        "import warnings\n",
        "from sklearn import cluster, mixture\n",
        "from sklearn.neighbors import kneighbors_graph\n",
        "\n",
        "X=X_train\n",
        "time_=[]\n",
        "name_=[]\n",
        "num_cluster=[]\n",
        "# Default setting for clustering algorithm:\n",
        "default_base = {'quantile': .3,     # Meanshift bandwith\n",
        "                'eps': .3,          # Dbscan\n",
        "                'damping': .9,      # Affinity_propagation \n",
        "                'preference': -200, # Affinity_propagation \n",
        "                'n_neighbors': 10,  # Agglomerative, average_linkage \n",
        "                'n_clusters': 2, # Two_means, Agglomerative, Spectral, Average_linkage, Birch, GaussianMixture\n",
        "                'min_samples': 20,  # Optics\n",
        "                'xi': 0.05,         # Optics \n",
        "                'min_cluster_size': 0.1 # Optics\n",
        "                }\n",
        "\n",
        "# update parameters with dataset-specific values\n",
        "params = default_base.copy()\n",
        "\n",
        "# estimate bandwidth for mean shift\n",
        "bandwidth = cluster.estimate_bandwidth(X, quantile=params['quantile']) # Mean shift\n",
        "\n",
        "# connectivity matrix for structured Ward\n",
        "connectivity = kneighbors_graph(\n",
        "    X, n_neighbors=params['n_neighbors'], include_self=False)\n",
        "# make connectivity symmetric\n",
        "connectivity = 0.5 * (connectivity + connectivity.T)\n",
        "\n",
        "# ============\n",
        "# Create cluster objects\n",
        "# ============\n",
        "ms = cluster.MeanShift(bandwidth=bandwidth, bin_seeding=True)\n",
        "\n",
        "two_means = cluster.MiniBatchKMeans(n_clusters=params['n_clusters'])\n",
        "\n",
        "ward = cluster.AgglomerativeClustering(\n",
        "    n_clusters=params['n_clusters'], linkage='ward',\n",
        "    connectivity=connectivity)\n",
        "\n",
        "average_linkage = cluster.AgglomerativeClustering(\n",
        "    linkage=\"average\", affinity=\"cityblock\",\n",
        "    n_clusters=params['n_clusters'], connectivity=connectivity)\n",
        "\n",
        "spectral = cluster.SpectralClustering(\n",
        "    n_clusters=params['n_clusters'], eigen_solver='arpack',\n",
        "    affinity=\"nearest_neighbors\")\n",
        "\n",
        "dbscan = cluster.DBSCAN(eps=params['eps'])\n",
        "\n",
        "optics = cluster.OPTICS(min_samples=params['min_samples'],\n",
        "                        xi=params['xi'],\n",
        "                        min_cluster_size=params['min_cluster_size'])\n",
        "\n",
        "affinity_propagation = cluster.AffinityPropagation(\n",
        "    damping=params['damping'], preference=params['preference'])\n",
        "\n",
        "birch = cluster.Birch(n_clusters=params['n_clusters'])\n",
        "\n",
        "gmm = mixture.GaussianMixture(\n",
        "    n_components=params['n_clusters'], covariance_type='full')\n",
        "\n",
        "clustering_algorithms = (\n",
        "    ('MiniBatchKMeans (D)', two_means),\n",
        "    #('AffinityPropagation', affinity_propagation),\n",
        "    #('MeanShift', ms),\n",
        "    ('SpectralClustering (D)', spectral),\n",
        "    ('Agglomerative-ward (D)', ward), # OK\n",
        "    ('Agglomerative-average_linkage (D)', average_linkage),\n",
        "    #('DBSCAN', dbscan),\n",
        "    #('OPTICS', optics),\n",
        "    ('Birch (D)', birch), # OK\n",
        "    ('GaussianMixture (D)', gmm) #OK\n",
        ")\n",
        "\n",
        "for name, algorithm in clustering_algorithms:\n",
        "    t0 = time.time()\n",
        "    print(name)\n",
        "    name_.append(name)\n",
        "    # catch warnings related to kneighbors_graph\n",
        "    with warnings.catch_warnings():\n",
        "        warnings.filterwarnings(\n",
        "            \"ignore\",\n",
        "            message=\"the number of connected components of the \" +\n",
        "            \"connectivity matrix is [0-9]{1,2}\" +\n",
        "            \" > 1. Completing it to avoid stopping the tree early.\",\n",
        "            category=UserWarning)\n",
        "        warnings.filterwarnings(\n",
        "            \"ignore\",\n",
        "            message=\"Graph is not fully connected, spectral embedding\" +\n",
        "            \" may not work as expected.\",\n",
        "            category=UserWarning)\n",
        "        algorithm.fit(X)\n",
        "\n",
        "    t1 = time.time()\n",
        "    if hasattr(algorithm, 'labels_'):\n",
        "        y_pred = algorithm.labels_.astype(np.int)\n",
        "    else:\n",
        "        y_pred = algorithm.predict(X)\n",
        "\n",
        "    print(collections.Counter(y_pred))  \n",
        "    y_pred[y_pred == 0]=2\n",
        "    y_pred[y_pred == 1]=0\n",
        "    y_pred[y_pred == 2]=1\n",
        "    print(collections.Counter(y_pred)) \n",
        "    print('Balanced accuracy score:',balanced_accuracy_score(y_train,y_pred))\n",
        "    print(classification_report(y_train,y_pred))\n",
        "    \n",
        "    #---------------DNN add-----------------------\n",
        "\n",
        "\n"
      ],
      "execution_count": 70,
      "outputs": [
        {
          "output_type": "stream",
          "text": [
            "MiniBatchKMeans (D)\n",
            "Counter({0: 4417, 1: 1208})\n",
            "Counter({1: 4417, 0: 1208})\n",
            "Balanced accuracy score: 0.6057062686760549\n",
            "              precision    recall  f1-score   support\n",
            "\n",
            "           0       0.93      0.27      0.42      4130\n",
            "           1       0.32      0.94      0.48      1495\n",
            "\n",
            "    accuracy                           0.45      5625\n",
            "   macro avg       0.62      0.61      0.45      5625\n",
            "weighted avg       0.76      0.45      0.43      5625\n",
            "\n",
            "SpectralClustering (D)\n",
            "Counter({1: 4417, 0: 1208})\n",
            "Counter({0: 4417, 1: 1208})\n",
            "Balanced accuracy score: 0.3942937313239451\n",
            "              precision    recall  f1-score   support\n",
            "\n",
            "           0       0.68      0.73      0.70      4130\n",
            "           1       0.07      0.06      0.07      1495\n",
            "\n",
            "    accuracy                           0.55      5625\n",
            "   macro avg       0.38      0.39      0.39      5625\n",
            "weighted avg       0.52      0.55      0.53      5625\n",
            "\n",
            "Agglomerative-ward (D)\n",
            "Counter({0: 4417, 1: 1208})\n",
            "Counter({1: 4417, 0: 1208})\n",
            "Balanced accuracy score: 0.6057062686760549\n",
            "              precision    recall  f1-score   support\n",
            "\n",
            "           0       0.93      0.27      0.42      4130\n",
            "           1       0.32      0.94      0.48      1495\n",
            "\n",
            "    accuracy                           0.45      5625\n",
            "   macro avg       0.62      0.61      0.45      5625\n",
            "weighted avg       0.76      0.45      0.43      5625\n",
            "\n",
            "Agglomerative-average_linkage (D)\n",
            "Counter({0: 4417, 1: 1208})\n",
            "Counter({1: 4417, 0: 1208})\n",
            "Balanced accuracy score: 0.6057062686760549\n",
            "              precision    recall  f1-score   support\n",
            "\n",
            "           0       0.93      0.27      0.42      4130\n",
            "           1       0.32      0.94      0.48      1495\n",
            "\n",
            "    accuracy                           0.45      5625\n",
            "   macro avg       0.62      0.61      0.45      5625\n",
            "weighted avg       0.76      0.45      0.43      5625\n",
            "\n",
            "Birch (D)\n",
            "Counter({0: 4417, 1: 1208})\n",
            "Counter({1: 4417, 0: 1208})\n",
            "Balanced accuracy score: 0.6057062686760549\n",
            "              precision    recall  f1-score   support\n",
            "\n",
            "           0       0.93      0.27      0.42      4130\n",
            "           1       0.32      0.94      0.48      1495\n",
            "\n",
            "    accuracy                           0.45      5625\n",
            "   macro avg       0.62      0.61      0.45      5625\n",
            "weighted avg       0.76      0.45      0.43      5625\n",
            "\n",
            "GaussianMixture (D)\n",
            "Counter({0: 4417, 1: 1208})\n",
            "Counter({1: 4417, 0: 1208})\n",
            "Balanced accuracy score: 0.6057062686760549\n",
            "              precision    recall  f1-score   support\n",
            "\n",
            "           0       0.93      0.27      0.42      4130\n",
            "           1       0.32      0.94      0.48      1495\n",
            "\n",
            "    accuracy                           0.45      5625\n",
            "   macro avg       0.62      0.61      0.45      5625\n",
            "weighted avg       0.76      0.45      0.43      5625\n",
            "\n"
          ],
          "name": "stdout"
        }
      ]
    },
    {
      "cell_type": "markdown",
      "metadata": {
        "id": "kw8Zn8ZDnZhE",
        "colab_type": "text"
      },
      "source": [
        "# Credit card"
      ]
    },
    {
      "cell_type": "code",
      "metadata": {
        "id": "k_bs-SViWhVt",
        "colab_type": "code",
        "colab": {
          "base_uri": "https://localhost:8080/",
          "height": 105
        },
        "outputId": "99807db9-8466-4db4-c119-227682dda41d"
      },
      "source": [
        "# Load basic library\n",
        "import numpy as np\n",
        "import time\n",
        "import matplotlib.pyplot as plt\n",
        "import pandas as pd\n",
        "from tensorflow import random\n",
        "from sklearn.externals import joblib \n",
        "from scipy import stats\n",
        "import itertools\n",
        "\n",
        "# Load Keras\n",
        "from keras.datasets import imdb\n",
        "from keras.preprocessing.text import Tokenizer\n",
        "from keras import models\n",
        "from keras import layers\n",
        "from keras.models import Sequential\n",
        "from keras.layers import Dense\n",
        "from keras import regularizers\n",
        "from keras.callbacks import EarlyStopping, ModelCheckpoint\n",
        "from keras.wrappers.scikit_learn import KerasClassifier\n",
        "from keras.regularizers import l1\n",
        "from keras.regularizers import l2\n",
        "from keras.regularizers import l1_l2\n",
        "from keras.layers import Dropout\n",
        "\n",
        "#Load sklearn\n",
        "from sklearn.preprocessing import StandardScaler, RobustScaler\n",
        "from sklearn.preprocessing import OneHotEncoder\n",
        "from sklearn.model_selection import train_test_split\n",
        "from sklearn.model_selection import KFold\n",
        "from sklearn.model_selection import StratifiedKFold\n",
        "from sklearn.model_selection import cross_val_score\n",
        "from sklearn.model_selection import cross_validate\n",
        "from sklearn.model_selection import RandomizedSearchCV\n",
        "from sklearn.model_selection import GridSearchCV\n",
        "from sklearn.pipeline import Pipeline\n",
        "from sklearn.compose import ColumnTransformer\n",
        "from sklearn.utils import shuffle\n",
        "\n",
        "from sklearn.metrics import log_loss \n",
        "from sklearn.metrics import classification_report\n",
        "from sklearn.metrics import confusion_matrix\n",
        "from sklearn.metrics import accuracy_score\n",
        "from sklearn.metrics import recall_score, precision_score\n",
        "from sklearn.metrics import make_scorer\n",
        "from sklearn.metrics import roc_curve, auc\n",
        "from sklearn.metrics import precision_recall_curve\n",
        "from sklearn.metrics import f1_score,balanced_accuracy_score\n",
        "from sklearn.metrics import average_precision_score \n",
        "\n",
        "from sklearn.pipeline import Pipeline\n",
        "from sklearn.decomposition import PCA, NMF\n",
        "\n",
        "#ML normal ML\n",
        "from sklearn.linear_model import LogisticRegression\n",
        "from sklearn.tree import DecisionTreeClassifier\n",
        "from sklearn.neighbors import KNeighborsClassifier\n",
        "from sklearn.discriminant_analysis import LinearDiscriminantAnalysis\n",
        "from sklearn.naive_bayes import GaussianNB\n",
        "from sklearn.svm import SVC\n",
        "\n",
        "#ML ensembles\n",
        "from sklearn.ensemble import AdaBoostClassifier\n",
        "from sklearn.ensemble import GradientBoostingClassifier\n",
        "from sklearn.ensemble import RandomForestClassifier\n",
        "from sklearn.ensemble import ExtraTreesClassifier\n",
        "from sklearn.ensemble import BaggingClassifier\n",
        "from sklearn.ensemble import VotingClassifier\n",
        "from sklearn.ensemble import StackingClassifier\n",
        "\n",
        "#Special\n",
        "import xgboost as xgb\n",
        "from xgboost import XGBClassifier\n",
        "import lightgbm as lgb\n",
        "from lightgbm import LGBMClassifier\n",
        "\n",
        "#Load visual neural:\n",
        "from IPython.display import SVG\n",
        "from keras.utils.vis_utils import model_to_dot\n",
        "from keras.utils import plot_model\n",
        "\n",
        "# import require packages for plotting\n",
        "import matplotlib.pyplot as plt \n",
        "import seaborn as sns\n",
        "sns.set()\n",
        "import plotly\n",
        "import plotly.graph_objects as go\n",
        "from plotly.subplots import make_subplots\n",
        "import plotly.express as px\n",
        "import altair as alt # no need to add altviewer\n",
        "from pandas.plotting import scatter_matrix\n"
      ],
      "execution_count": 2,
      "outputs": [
        {
          "output_type": "stream",
          "text": [
            "/usr/local/lib/python3.6/dist-packages/sklearn/externals/joblib/__init__.py:15: FutureWarning: sklearn.externals.joblib is deprecated in 0.21 and will be removed in 0.23. Please import this functionality directly from joblib, which can be installed with: pip install joblib. If this warning is raised when loading pickled models, you may need to re-serialize those models with scikit-learn 0.21+.\n",
            "  warnings.warn(msg, category=FutureWarning)\n",
            "/usr/local/lib/python3.6/dist-packages/statsmodels/tools/_testing.py:19: FutureWarning: pandas.util.testing is deprecated. Use the functions in the public API at pandas.testing instead.\n",
            "  import pandas.util.testing as tm\n"
          ],
          "name": "stderr"
        }
      ]
    },
    {
      "cell_type": "code",
      "metadata": {
        "id": "RgLNUdH-nbho",
        "colab_type": "code",
        "colab": {}
      },
      "source": [
        "# Load datasets\n",
        "#current_path = os.getcwd()\n",
        "#file = os.path.sep.join(['', 'datasets', 'credit_card_data', 'credit_card.csv'])\n",
        "file='https://media.githubusercontent.com/media/aapatel09/handson-unsupervised-learning/master/datasets/credit_card_data/credit_card.csv'\n",
        "data = pd.read_csv(file)\n",
        "\n",
        "dataX = data.copy().drop(['Class'],axis=1)\n",
        "dataY = data['Class'].copy()\n",
        "\n",
        "featuresToScale = dataX.columns\n",
        "sX =StandardScaler(copy=True)\n",
        "dataX.loc[:,featuresToScale] = sX.fit_transform(dataX[featuresToScale])"
      ],
      "execution_count": 3,
      "outputs": []
    },
    {
      "cell_type": "markdown",
      "metadata": {
        "id": "JGf4kCAinzEp",
        "colab_type": "text"
      },
      "source": [
        "## Base model"
      ]
    },
    {
      "cell_type": "code",
      "metadata": {
        "id": "aLQpR3c9n6ms",
        "colab_type": "code",
        "colab": {
          "base_uri": "https://localhost:8080/",
          "height": 102
        },
        "outputId": "993b5837-a35b-435f-8802-76940fe189dc"
      },
      "source": [
        "X_train, X_test, y_train, y_test = \\\n",
        "    train_test_split(dataX, dataY, test_size=0.20,random_state=2018, stratify=dataY)\n",
        "print(X_train.shape,y_train.shape)\n",
        "print(X_test.shape,y_test.shape)\n",
        "print(y_train.value_counts(normalize=True))"
      ],
      "execution_count": 133,
      "outputs": [
        {
          "output_type": "stream",
          "text": [
            "(227845, 30) (227845,)\n",
            "(56962, 30) (56962,)\n",
            "0    0.998271\n",
            "1    0.001729\n",
            "Name: Class, dtype: float64\n"
          ],
          "name": "stdout"
        }
      ]
    },
    {
      "cell_type": "code",
      "metadata": {
        "id": "Gbznv2z-nk0K",
        "colab_type": "code",
        "colab": {
          "base_uri": "https://localhost:8080/",
          "height": 204
        },
        "outputId": "01b92feb-e176-49bd-ea74-22d839f1a229"
      },
      "source": [
        "model=XGBClassifier()\n",
        "model.fit(X_train, y_train)\n",
        "y_pred = model.predict(X_test)\n",
        "print('Balanced accuracy score:',balanced_accuracy_score(y_test,y_pred))\n",
        "print('Matthews_corrcoef accuracy score:',matthews_corrcoef(y_test,y_pred))\n",
        "print(classification_report(y_test,y_pred))"
      ],
      "execution_count": 134,
      "outputs": [
        {
          "output_type": "stream",
          "text": [
            "Balanced accuracy score: 0.9234342161175106\n",
            "Matthews_corrcoef accuracy score: 0.8987260999191232\n",
            "              precision    recall  f1-score   support\n",
            "\n",
            "           0       1.00      1.00      1.00     56864\n",
            "           1       0.95      0.85      0.90        98\n",
            "\n",
            "    accuracy                           1.00     56962\n",
            "   macro avg       0.98      0.92      0.95     56962\n",
            "weighted avg       1.00      1.00      1.00     56962\n",
            "\n"
          ],
          "name": "stdout"
        }
      ]
    },
    {
      "cell_type": "code",
      "metadata": {
        "id": "qdF18rR8onWI",
        "colab_type": "code",
        "colab": {
          "base_uri": "https://localhost:8080/",
          "height": 68
        },
        "outputId": "e7a187d0-c71f-496f-e0b8-e12e2a97e11d"
      },
      "source": [
        "pd.Series(y_pred).value_counts(normalize=True)"
      ],
      "execution_count": 139,
      "outputs": [
        {
          "output_type": "execute_result",
          "data": {
            "text/plain": [
              "0    0.993224\n",
              "1    0.006776\n",
              "dtype: float64"
            ]
          },
          "metadata": {
            "tags": []
          },
          "execution_count": 139
        }
      ]
    },
    {
      "cell_type": "code",
      "metadata": {
        "id": "6uF6B0K_oLXN",
        "colab_type": "code",
        "colab": {
          "base_uri": "https://localhost:8080/",
          "height": 68
        },
        "outputId": "f3d2f00e-0bc6-4ad5-aefb-eed4a25893a2"
      },
      "source": [
        "weights=y_train.value_counts()\n",
        "weights"
      ],
      "execution_count": 135,
      "outputs": [
        {
          "output_type": "execute_result",
          "data": {
            "text/plain": [
              "0    227451\n",
              "1       394\n",
              "Name: Class, dtype: int64"
            ]
          },
          "metadata": {
            "tags": []
          },
          "execution_count": 135
        }
      ]
    },
    {
      "cell_type": "code",
      "metadata": {
        "id": "0Wd7gd7JoHy4",
        "colab_type": "code",
        "colab": {
          "base_uri": "https://localhost:8080/",
          "height": 204
        },
        "outputId": "6d4052d3-34ca-45c7-a81e-ecda6b776861"
      },
      "source": [
        "model=XGBClassifier(scale_pos_weight=int(weights[0]/weights[1]))\n",
        "model.fit(X_train, y_train)\n",
        "y_pred = model.predict(X_test)\n",
        "print('Balanced accuracy score:',balanced_accuracy_score(y_test,y_pred))\n",
        "print('Matthews_corrcoef accuracy score:',matthews_corrcoef(y_test,y_pred))\n",
        "print(classification_report(y_test,y_pred))"
      ],
      "execution_count": 136,
      "outputs": [
        {
          "output_type": "stream",
          "text": [
            "Balanced accuracy score: 0.9361376373847232\n",
            "Matthews_corrcoef accuracy score: 0.44063149031384274\n",
            "              precision    recall  f1-score   support\n",
            "\n",
            "           0       1.00      0.99      1.00     56864\n",
            "           1       0.22      0.88      0.36        98\n",
            "\n",
            "    accuracy                           0.99     56962\n",
            "   macro avg       0.61      0.94      0.68     56962\n",
            "weighted avg       1.00      0.99      1.00     56962\n",
            "\n"
          ],
          "name": "stdout"
        }
      ]
    },
    {
      "cell_type": "markdown",
      "metadata": {
        "id": "mYbAQngWpjAk",
        "colab_type": "text"
      },
      "source": [
        "Try sqrt scale pos weight"
      ]
    },
    {
      "cell_type": "code",
      "metadata": {
        "id": "2V0wHKQ1ox6u",
        "colab_type": "code",
        "colab": {
          "base_uri": "https://localhost:8080/",
          "height": 204
        },
        "outputId": "a680af08-5b5f-4b11-b6a3-65465a0db0bf"
      },
      "source": [
        "model=XGBClassifier(scale_pos_weight=np.sqrt(int(weights[0]/weights[1])))\n",
        "model.fit(X_train, y_train)\n",
        "y_pred = model.predict(X_test)\n",
        "print('Balanced accuracy score:',balanced_accuracy_score(y_test,y_pred))\n",
        "print('Matthews_corrcoef accuracy score:',matthews_corrcoef(y_test,y_pred))\n",
        "print(classification_report(y_test,y_pred))"
      ],
      "execution_count": 141,
      "outputs": [
        {
          "output_type": "stream",
          "text": [
            "Balanced accuracy score: 0.9283340200176863\n",
            "Matthews_corrcoef accuracy score: 0.8050331461750092\n",
            "              precision    recall  f1-score   support\n",
            "\n",
            "           0       1.00      1.00      1.00     56864\n",
            "           1       0.76      0.86      0.80        98\n",
            "\n",
            "    accuracy                           1.00     56962\n",
            "   macro avg       0.88      0.93      0.90     56962\n",
            "weighted avg       1.00      1.00      1.00     56962\n",
            "\n"
          ],
          "name": "stdout"
        }
      ]
    },
    {
      "cell_type": "markdown",
      "metadata": {
        "id": "LWozOESwpggx",
        "colab_type": "text"
      },
      "source": [
        "Try predict 80% data set"
      ]
    },
    {
      "cell_type": "code",
      "metadata": {
        "id": "fFqsLRw3n44Z",
        "colab_type": "code",
        "colab": {
          "base_uri": "https://localhost:8080/",
          "height": 102
        },
        "outputId": "665a66b3-fae9-4824-c296-531e11ac885d"
      },
      "source": [
        "X_train, X_test, y_train, y_test = \\\n",
        "    train_test_split(dataX, dataY, test_size=0.80,random_state=2018, stratify=dataY)\n",
        "print(X_train.shape,y_train.shape)\n",
        "print(X_test.shape,y_test.shape)\n",
        "print(y_train.value_counts(normalize=True))"
      ],
      "execution_count": 142,
      "outputs": [
        {
          "output_type": "stream",
          "text": [
            "(56961, 30) (56961,)\n",
            "(227846, 30) (227846,)\n",
            "0    0.99828\n",
            "1    0.00172\n",
            "Name: Class, dtype: float64\n"
          ],
          "name": "stdout"
        }
      ]
    },
    {
      "cell_type": "code",
      "metadata": {
        "id": "-DvL1q8mn_6a",
        "colab_type": "code",
        "colab": {
          "base_uri": "https://localhost:8080/",
          "height": 204
        },
        "outputId": "b5a3dab6-ed77-4d74-80f5-16f28a2be197"
      },
      "source": [
        "model=XGBClassifier()\n",
        "model.fit(X_train, y_train)\n",
        "y_pred = model.predict(X_test)\n",
        "print('Balanced accuracy score:',balanced_accuracy_score(y_test,y_pred))\n",
        "print('Matthews_corrcoef accuracy score:',matthews_corrcoef(y_test,y_pred))\n",
        "print(classification_report(y_test,y_pred))"
      ],
      "execution_count": 143,
      "outputs": [
        {
          "output_type": "stream",
          "text": [
            "Balanced accuracy score: 0.8717614631872794\n",
            "Matthews_corrcoef accuracy score: 0.8210572521494928\n",
            "              precision    recall  f1-score   support\n",
            "\n",
            "           0       1.00      1.00      1.00    227452\n",
            "           1       0.91      0.74      0.82       394\n",
            "\n",
            "    accuracy                           1.00    227846\n",
            "   macro avg       0.95      0.87      0.91    227846\n",
            "weighted avg       1.00      1.00      1.00    227846\n",
            "\n"
          ],
          "name": "stdout"
        }
      ]
    },
    {
      "cell_type": "code",
      "metadata": {
        "id": "s1WHz3epp4sS",
        "colab_type": "code",
        "colab": {}
      },
      "source": [
        "weights=y_train.value_counts()\n",
        "weights"
      ],
      "execution_count": null,
      "outputs": []
    },
    {
      "cell_type": "code",
      "metadata": {
        "id": "AlUhU3S-p8uw",
        "colab_type": "code",
        "colab": {
          "base_uri": "https://localhost:8080/",
          "height": 204
        },
        "outputId": "50bc8145-2e82-4dd3-9182-a5b963566763"
      },
      "source": [
        "model=XGBClassifier(scale_pos_weight=int(weights[0]/weights[1]))\n",
        "model.fit(X_train, y_train)\n",
        "y_pred = model.predict(X_test)\n",
        "print('Balanced accuracy score:',balanced_accuracy_score(y_test,y_pred))\n",
        "print('Matthews_corrcoef accuracy score:',matthews_corrcoef(y_test,y_pred))\n",
        "print(classification_report(y_test,y_pred))"
      ],
      "execution_count": 144,
      "outputs": [
        {
          "output_type": "stream",
          "text": [
            "Balanced accuracy score: 0.9031158445568389\n",
            "Matthews_corrcoef accuracy score: 0.7040121636525253\n",
            "              precision    recall  f1-score   support\n",
            "\n",
            "           0       1.00      1.00      1.00    227452\n",
            "           1       0.62      0.81      0.70       394\n",
            "\n",
            "    accuracy                           1.00    227846\n",
            "   macro avg       0.81      0.90      0.85    227846\n",
            "weighted avg       1.00      1.00      1.00    227846\n",
            "\n"
          ],
          "name": "stdout"
        }
      ]
    },
    {
      "cell_type": "code",
      "metadata": {
        "id": "CTRzxQ6Zp_DG",
        "colab_type": "code",
        "colab": {
          "base_uri": "https://localhost:8080/",
          "height": 204
        },
        "outputId": "c66b27b5-7f5d-454f-ba0d-af89d66c5cc4"
      },
      "source": [
        "model=XGBClassifier(scale_pos_weight=np.sqrt(int(weights[0]/weights[1])))\n",
        "model.fit(X_train, y_train)\n",
        "y_pred = model.predict(X_test)\n",
        "print('Balanced accuracy score:',balanced_accuracy_score(y_test,y_pred))\n",
        "print('Matthews_corrcoef accuracy score:',matthews_corrcoef(y_test,y_pred))\n",
        "print(classification_report(y_test,y_pred))"
      ],
      "execution_count": 145,
      "outputs": [
        {
          "output_type": "stream",
          "text": [
            "Balanced accuracy score: 0.8945205686728928\n",
            "Matthews_corrcoef accuracy score: 0.8044773704146525\n",
            "              precision    recall  f1-score   support\n",
            "\n",
            "           0       1.00      1.00      1.00    227452\n",
            "           1       0.82      0.79      0.80       394\n",
            "\n",
            "    accuracy                           1.00    227846\n",
            "   macro avg       0.91      0.89      0.90    227846\n",
            "weighted avg       1.00      1.00      1.00    227846\n",
            "\n"
          ],
          "name": "stdout"
        }
      ]
    },
    {
      "cell_type": "markdown",
      "metadata": {
        "id": "wZh3N0derc5s",
        "colab_type": "text"
      },
      "source": [
        "## Semi supervised with Label progapagation"
      ]
    },
    {
      "cell_type": "code",
      "metadata": {
        "id": "5FdQ6HsfqBJi",
        "colab_type": "code",
        "colab": {}
      },
      "source": [
        "import numpy as np\n",
        "import pandas as pd\n",
        "import matplotlib.pyplot as plt\n",
        "from sklearn import datasets\n",
        "from sklearn import svm\n",
        "from sklearn.semi_supervised import LabelSpreading"
      ],
      "execution_count": 4,
      "outputs": []
    },
    {
      "cell_type": "code",
      "metadata": {
        "id": "tnmaQdz2sDJK",
        "colab_type": "code",
        "colab": {
          "base_uri": "https://localhost:8080/",
          "height": 102
        },
        "outputId": "6b9bf51b-dfc6-46d5-9127-34b0a2e04c4a"
      },
      "source": [
        "X_train, X_test, y_train, y_test = \\\n",
        "    train_test_split(dataX, dataY, test_size=0.20,random_state=2018, stratify=dataY)\n",
        "print(X_train.shape,y_train.shape)\n",
        "print(X_test.shape,y_test.shape)\n",
        "print(y_train.value_counts(normalize=True))"
      ],
      "execution_count": 3,
      "outputs": [
        {
          "output_type": "stream",
          "text": [
            "(227845, 30) (227845,)\n",
            "(56962, 30) (56962,)\n",
            "0    0.998271\n",
            "1    0.001729\n",
            "Name: Class, dtype: float64\n"
          ],
          "name": "stdout"
        }
      ]
    },
    {
      "cell_type": "code",
      "metadata": {
        "id": "4LpgUPwfrmbn",
        "colab_type": "code",
        "colab": {
          "base_uri": "https://localhost:8080/",
          "height": 85
        },
        "outputId": "304934ce-a2f4-4374-d8d1-0e6d63df0117"
      },
      "source": [
        "X=X_train\n",
        "y=y_train\n",
        "print(X.shape,y.shape)\n",
        "print(y.value_counts())"
      ],
      "execution_count": 5,
      "outputs": [
        {
          "output_type": "stream",
          "text": [
            "(227845, 30) (227845,)\n",
            "0    227451\n",
            "1       394\n",
            "Name: Class, dtype: int64\n"
          ],
          "name": "stdout"
        }
      ]
    },
    {
      "cell_type": "code",
      "metadata": {
        "id": "CVdHCi5SrjWB",
        "colab_type": "code",
        "colab": {
          "base_uri": "https://localhost:8080/",
          "height": 85
        },
        "outputId": "8dd6e1a2-f75d-4f71-a1cf-5a92c692c7dc"
      },
      "source": [
        "y=y.array\n",
        "n_total_samples = len(y)\n",
        "indices = np.arange(n_total_samples)\n",
        "print(indices.shape)\n",
        "list_percentage=[0.1,0.2,0.3,0.4,0.5,0.7,0.8]\n",
        "for i in list_percentage:\n",
        "  print('Percentage true label: ',i)\n",
        "  true_label_percentage=i\n",
        "  n_labeled_points = int(true_label_percentage*n_total_samples) \n",
        "  print('n_labeled_points: ',n_labeled_points)\n",
        "  unlabeled_set = indices[n_labeled_points:]\n",
        "  print('unlabeled_set: ',unlabeled_set.shape)\n",
        "  # Shuffle everything around\n",
        "  y_train = np.copy(y)\n",
        "  y_train[unlabeled_set] = -1\n",
        "  # Learn with LabelSpreading\n",
        "  lp_model = LabelSpreading(gamma=.25, max_iter=20)\n",
        "  lp_model.fit(X, y_train)\n",
        "  # prediction for unlabeled set only\n",
        "  y_pred = lp_model.transduction_[unlabeled_set]\n",
        "  y_test = y[unlabeled_set]\n",
        "\n",
        "  print('Balanced accuracy score:',balanced_accuracy_score(y_test,y_pred))\n",
        "  print('Matthews_corrcoef accuracy score:',matthews_corrcoef(y_test,y_pred))\n",
        "  print(classification_report(y_test,y_pred))"
      ],
      "execution_count": null,
      "outputs": [
        {
          "output_type": "stream",
          "text": [
            "(227845,)\n",
            "Percentage true label:  0.1\n",
            "n_labeled_points:  22784\n",
            "unlabeled_set:  (205061,)\n"
          ],
          "name": "stdout"
        }
      ]
    },
    {
      "cell_type": "markdown",
      "metadata": {
        "id": "_v_qwC_Zs5Jr",
        "colab_type": "text"
      },
      "source": [
        "## Try classification with clustering"
      ]
    },
    {
      "cell_type": "code",
      "metadata": {
        "id": "QVwtTfT2rwaQ",
        "colab_type": "code",
        "colab": {
          "base_uri": "https://localhost:8080/",
          "height": 102
        },
        "outputId": "3651a477-089c-459c-dfec-22188068e5c7"
      },
      "source": [
        "import collections, numpy\n",
        "X_train, X_test, y_train, y_test = \\\n",
        "    train_test_split(dataX, dataY, test_size=0.20,random_state=2018, stratify=dataY)\n",
        "print(X_train.shape,y_train.shape)\n",
        "print(X_test.shape,y_test.shape)\n",
        "print(y_train.value_counts(normalize=True))"
      ],
      "execution_count": 4,
      "outputs": [
        {
          "output_type": "stream",
          "text": [
            "(227845, 30) (227845,)\n",
            "(56962, 30) (56962,)\n",
            "0    0.998271\n",
            "1    0.001729\n",
            "Name: Class, dtype: float64\n"
          ],
          "name": "stdout"
        }
      ]
    },
    {
      "cell_type": "code",
      "metadata": {
        "id": "KkzRSndQs86X",
        "colab_type": "code",
        "colab": {
          "base_uri": "https://localhost:8080/",
          "height": 204
        },
        "outputId": "672d51a6-babd-48ae-8999-9291bc7a4fed"
      },
      "source": [
        "from sklearn.cluster import KMeans\n",
        "kmeans = KMeans(n_clusters=2)\n",
        "kmeans.fit(X_test) #\n",
        "y_pred=kmeans.predict(X_test)\n",
        "print(collections.Counter(y_pred))\n",
        "print('Balanced accuracy score:',balanced_accuracy_score(y_test,y_pred))\n",
        "print(classification_report(y_test,y_pred))"
      ],
      "execution_count": 7,
      "outputs": [
        {
          "output_type": "stream",
          "text": [
            "Counter({0: 30942, 1: 26020})\n",
            "Balanced accuracy score: 0.4603093453194446\n",
            "              precision    recall  f1-score   support\n",
            "\n",
            "           0       1.00      0.54      0.70     56864\n",
            "           1       0.00      0.38      0.00        98\n",
            "\n",
            "    accuracy                           0.54     56962\n",
            "   macro avg       0.50      0.46      0.35     56962\n",
            "weighted avg       1.00      0.54      0.70     56962\n",
            "\n"
          ],
          "name": "stdout"
        }
      ]
    },
    {
      "cell_type": "code",
      "metadata": {
        "id": "nvGhDfbEtEGp",
        "colab_type": "code",
        "colab": {
          "base_uri": "https://localhost:8080/",
          "height": 204
        },
        "outputId": "f5461c1a-77e7-47ed-b794-7d9784905fac"
      },
      "source": [
        "kmeans = KMeans(n_clusters=2)\n",
        "kmeans.fit(X_train) #\n",
        "y_pred=kmeans.predict(X_train)\n",
        "print(collections.Counter(y_pred))\n",
        "print('Balanced accuracy score:',balanced_accuracy_score(y_train,y_pred))\n",
        "print(classification_report(y_train,y_pred))"
      ],
      "execution_count": 10,
      "outputs": [
        {
          "output_type": "stream",
          "text": [
            "Counter({0: 123725, 1: 104120})\n",
            "Balanced accuracy score: 0.46815677731625893\n",
            "              precision    recall  f1-score   support\n",
            "\n",
            "           0       1.00      0.54      0.70    227451\n",
            "           1       0.00      0.39      0.00       394\n",
            "\n",
            "    accuracy                           0.54    227845\n",
            "   macro avg       0.50      0.47      0.35    227845\n",
            "weighted avg       1.00      0.54      0.70    227845\n",
            "\n"
          ],
          "name": "stdout"
        }
      ]
    },
    {
      "cell_type": "markdown",
      "metadata": {
        "id": "ZZJ7G4Hgtusc",
        "colab_type": "text"
      },
      "source": [
        "Hierarchical clustering"
      ]
    },
    {
      "cell_type": "code",
      "metadata": {
        "id": "4lJ7nZa3tcNT",
        "colab_type": "code",
        "colab": {
          "base_uri": "https://localhost:8080/",
          "height": 71
        },
        "outputId": "56396c41-48d5-4970-c538-c9cfeaf106a0"
      },
      "source": [
        "!pip install fastcluster\n",
        "import fastcluster\n",
        "from scipy.cluster.hierarchy import fcluster,dendrogram, cophenet\n",
        "from scipy.spatial.distance import pdist\n",
        "import collections, numpy"
      ],
      "execution_count": 11,
      "outputs": [
        {
          "output_type": "stream",
          "text": [
            "Requirement already satisfied: fastcluster in /usr/local/lib/python3.6/dist-packages (1.1.26)\n",
            "Requirement already satisfied: numpy>=1.9 in /usr/local/lib/python3.6/dist-packages (from fastcluster) (1.18.5)\n"
          ],
          "name": "stdout"
        }
      ]
    },
    {
      "cell_type": "code",
      "metadata": {
        "id": "HhhjPpANtxAh",
        "colab_type": "code",
        "colab": {
          "base_uri": "https://localhost:8080/",
          "height": 51
        },
        "outputId": "fa22eeb1-d124-4777-bbea-7f8ce0aada62"
      },
      "source": [
        "Z = fastcluster.linkage_vector(X_test,method='ward', metric='euclidean')\n",
        "distance_threshold = 500 \n",
        "clusters = fcluster(Z, distance_threshold, criterion='distance')\n",
        "y_pred = clusters\n",
        "print(\"Number of distinct clusters: \",len(set(y_pred)))\n",
        "print(collections.Counter(y_pred))\n"
      ],
      "execution_count": 14,
      "outputs": [
        {
          "output_type": "stream",
          "text": [
            "Number of distinct clusters:  1\n",
            "Counter({1: 56962})\n"
          ],
          "name": "stdout"
        }
      ]
    },
    {
      "cell_type": "code",
      "metadata": {
        "id": "rSThWdp2tzvJ",
        "colab_type": "code",
        "colab": {}
      },
      "source": [
        "y_pred[y_pred == 1]=0\n",
        "y_pred[y_pred == 2]=1\n",
        "print(collections.Counter(y_pred))\n",
        "print('Balanced accuracy score:',balanced_accuracy_score(y_test,y_pred))\n",
        "print(classification_report(y_test,y_pred))"
      ],
      "execution_count": null,
      "outputs": []
    },
    {
      "cell_type": "markdown",
      "metadata": {
        "id": "dfumUgkvw7CJ",
        "colab_type": "text"
      },
      "source": [
        "HDBSCAN"
      ]
    },
    {
      "cell_type": "code",
      "metadata": {
        "id": "-T6QAGXAw88Y",
        "colab_type": "code",
        "colab": {
          "base_uri": "https://localhost:8080/",
          "height": 340
        },
        "outputId": "7161f265-d01f-4f73-88ae-df721c3c7a1d"
      },
      "source": [
        "!pip install hdbscan"
      ],
      "execution_count": 15,
      "outputs": [
        {
          "output_type": "stream",
          "text": [
            "Collecting hdbscan\n",
            "\u001b[?25l  Downloading https://files.pythonhosted.org/packages/22/2f/2423d844072f007a74214c1adc46260e45f034bb1679ccadfbb8a601f647/hdbscan-0.8.26.tar.gz (4.7MB)\n",
            "\u001b[K     |████████████████████████████████| 4.7MB 4.7MB/s \n",
            "\u001b[?25h  Installing build dependencies ... \u001b[?25l\u001b[?25hdone\n",
            "  Getting requirements to build wheel ... \u001b[?25l\u001b[?25hdone\n",
            "    Preparing wheel metadata ... \u001b[?25l\u001b[?25hdone\n",
            "Requirement already satisfied: joblib in /usr/local/lib/python3.6/dist-packages (from hdbscan) (0.16.0)\n",
            "Requirement already satisfied: six in /usr/local/lib/python3.6/dist-packages (from hdbscan) (1.15.0)\n",
            "Requirement already satisfied: numpy>=1.16.0 in /usr/local/lib/python3.6/dist-packages (from hdbscan) (1.18.5)\n",
            "Requirement already satisfied: scikit-learn>=0.17 in /usr/local/lib/python3.6/dist-packages (from hdbscan) (0.22.2.post1)\n",
            "Requirement already satisfied: cython>=0.27 in /usr/local/lib/python3.6/dist-packages (from hdbscan) (0.29.21)\n",
            "Requirement already satisfied: scipy>=0.9 in /usr/local/lib/python3.6/dist-packages (from hdbscan) (1.4.1)\n",
            "Building wheels for collected packages: hdbscan\n",
            "  Building wheel for hdbscan (PEP 517) ... \u001b[?25l\u001b[?25hdone\n",
            "  Created wheel for hdbscan: filename=hdbscan-0.8.26-cp36-cp36m-linux_x86_64.whl size=2301832 sha256=1d63f5f95f0a472c13aeb48cca427ea848efc7ef7ae91fab593891e5fffba190\n",
            "  Stored in directory: /root/.cache/pip/wheels/82/38/41/372f034d8abd271ef7787a681e0a47fc05d472683a7eb088ed\n",
            "Successfully built hdbscan\n",
            "Installing collected packages: hdbscan\n",
            "Successfully installed hdbscan-0.8.26\n"
          ],
          "name": "stdout"
        }
      ]
    },
    {
      "cell_type": "code",
      "metadata": {
        "id": "1E_xKhpPw-1n",
        "colab_type": "code",
        "colab": {
          "base_uri": "https://localhost:8080/",
          "height": 54
        },
        "outputId": "c07f75de-c3fb-434a-874c-18a0875dbdd5"
      },
      "source": [
        "import hdbscan\n",
        "\n",
        "min_cluster_size = 6\n",
        "min_samples = None\n",
        "alpha = 1.0\n",
        "cluster_selection_method = 'eom'\n",
        "\n",
        "hdb = hdbscan.HDBSCAN(min_cluster_size=min_cluster_size, \\\n",
        "        min_samples=min_samples, alpha=alpha, \\\n",
        "        cluster_selection_method=cluster_selection_method)\n",
        "y_pred = hdb.fit_predict(X_test)\n",
        "print(collections.Counter(y_pred))\n"
      ],
      "execution_count": 16,
      "outputs": [
        {
          "output_type": "stream",
          "text": [
            "Counter({-1: 35176, 526: 1110, 422: 1044, 225: 574, 222: 522, 170: 501, 220: 409, 172: 389, 186: 309, 194: 301, 421: 293, 492: 290, 292: 271, 533: 270, 352: 269, 339: 226, 414: 211, 200: 197, 539: 188, 360: 186, 291: 184, 349: 184, 196: 174, 576: 151, 312: 142, 344: 132, 442: 128, 151: 126, 330: 124, 430: 123, 377: 123, 433: 121, 198: 118, 411: 102, 519: 101, 332: 95, 424: 95, 530: 94, 314: 90, 408: 90, 326: 89, 217: 88, 183: 87, 203: 86, 160: 84, 72: 84, 517: 80, 358: 79, 474: 74, 544: 73, 553: 73, 568: 70, 182: 70, 419: 67, 461: 67, 481: 66, 459: 64, 289: 64, 218: 63, 165: 61, 386: 61, 501: 61, 57: 61, 491: 60, 242: 58, 514: 58, 142: 57, 141: 56, 13: 55, 367: 55, 336: 54, 458: 54, 177: 54, 343: 53, 334: 53, 558: 53, 522: 52, 114: 51, 396: 50, 534: 50, 298: 50, 545: 50, 163: 49, 540: 49, 240: 49, 22: 48, 466: 47, 239: 47, 241: 47, 512: 47, 317: 46, 134: 45, 342: 45, 490: 44, 570: 43, 528: 43, 552: 43, 38: 43, 486: 42, 509: 41, 290: 41, 8: 41, 315: 41, 275: 41, 504: 41, 365: 41, 577: 40, 471: 40, 299: 40, 338: 40, 288: 39, 479: 39, 482: 39, 375: 39, 494: 38, 341: 38, 518: 38, 60: 38, 253: 37, 34: 37, 35: 37, 39: 37, 426: 37, 366: 37, 345: 37, 409: 37, 98: 36, 155: 36, 84: 35, 438: 35, 223: 35, 400: 35, 399: 35, 460: 35, 318: 34, 56: 34, 322: 34, 436: 34, 113: 34, 208: 34, 94: 33, 392: 33, 85: 33, 532: 33, 233: 33, 146: 33, 505: 32, 262: 32, 301: 32, 67: 32, 6: 32, 347: 32, 297: 32, 404: 32, 465: 32, 209: 32, 563: 31, 521: 31, 81: 31, 403: 31, 307: 30, 82: 30, 27: 30, 32: 30, 346: 29, 402: 28, 285: 28, 207: 28, 572: 28, 135: 28, 277: 28, 176: 28, 498: 28, 148: 28, 78: 28, 44: 28, 276: 27, 527: 27, 280: 27, 20: 27, 441: 27, 467: 27, 138: 27, 515: 27, 4: 27, 537: 27, 252: 26, 55: 26, 359: 26, 561: 26, 319: 26, 64: 26, 95: 26, 227: 25, 287: 25, 123: 25, 87: 25, 543: 25, 444: 25, 546: 25, 555: 25, 18: 25, 25: 25, 516: 25, 119: 25, 296: 25, 450: 24, 415: 24, 374: 24, 99: 24, 175: 24, 144: 24, 456: 24, 580: 24, 274: 24, 258: 24, 90: 24, 566: 24, 33: 24, 29: 24, 449: 24, 549: 23, 286: 23, 270: 23, 477: 23, 510: 23, 437: 23, 554: 23, 105: 23, 463: 22, 452: 22, 86: 22, 91: 22, 337: 22, 413: 22, 470: 22, 329: 22, 578: 22, 551: 22, 9: 21, 69: 21, 257: 21, 410: 21, 211: 21, 393: 21, 49: 21, 21: 21, 127: 21, 215: 21, 73: 21, 264: 21, 159: 20, 574: 20, 112: 20, 12: 20, 189: 20, 101: 20, 302: 20, 496: 20, 63: 19, 158: 19, 248: 19, 448: 19, 335: 19, 559: 19, 232: 19, 31: 19, 174: 19, 103: 18, 380: 18, 427: 18, 331: 18, 267: 18, 369: 18, 255: 18, 143: 18, 132: 18, 351: 18, 106: 18, 488: 18, 65: 18, 434: 18, 495: 18, 368: 18, 50: 18, 228: 18, 468: 18, 124: 18, 179: 18, 567: 17, 373: 17, 464: 17, 573: 17, 221: 17, 372: 17, 418: 17, 507: 17, 93: 17, 108: 17, 443: 17, 575: 17, 406: 16, 229: 16, 224: 16, 230: 16, 100: 16, 247: 16, 503: 16, 284: 16, 210: 16, 524: 16, 26: 16, 328: 16, 80: 16, 308: 16, 447: 15, 71: 15, 476: 15, 234: 15, 420: 15, 126: 15, 15: 15, 571: 15, 28: 15, 483: 15, 238: 15, 295: 15, 118: 15, 271: 15, 11: 15, 376: 15, 121: 15, 137: 15, 109: 15, 0: 15, 388: 15, 201: 14, 145: 14, 304: 14, 370: 14, 40: 14, 190: 14, 269: 14, 425: 14, 243: 14, 17: 14, 260: 14, 46: 14, 305: 14, 508: 14, 484: 14, 110: 14, 16: 14, 256: 14, 357: 14, 316: 14, 487: 14, 439: 14, 502: 14, 5: 14, 92: 14, 111: 13, 513: 13, 166: 13, 560: 13, 58: 13, 70: 13, 59: 13, 161: 13, 122: 13, 493: 13, 361: 13, 480: 13, 327: 13, 303: 13, 120: 13, 157: 13, 139: 13, 394: 13, 191: 13, 180: 13, 469: 12, 136: 12, 417: 12, 446: 12, 53: 12, 115: 12, 525: 12, 300: 12, 309: 12, 156: 12, 423: 12, 184: 12, 204: 12, 51: 12, 231: 12, 535: 12, 133: 12, 102: 12, 199: 12, 321: 12, 294: 12, 320: 11, 398: 11, 214: 11, 440: 11, 48: 11, 529: 11, 75: 11, 195: 11, 23: 11, 565: 11, 236: 11, 362: 11, 416: 11, 379: 11, 387: 11, 389: 11, 197: 11, 325: 11, 455: 11, 385: 11, 454: 11, 473: 11, 548: 11, 311: 11, 130: 11, 237: 10, 107: 10, 1: 10, 407: 10, 205: 10, 497: 10, 36: 10, 581: 10, 500: 10, 206: 10, 178: 10, 523: 10, 43: 10, 79: 10, 169: 10, 564: 10, 154: 10, 202: 10, 405: 10, 61: 10, 293: 10, 378: 10, 173: 9, 167: 9, 117: 9, 462: 9, 541: 9, 129: 9, 24: 9, 193: 9, 457: 9, 340: 9, 226: 9, 266: 9, 445: 9, 250: 9, 272: 9, 246: 9, 520: 9, 579: 9, 354: 9, 2: 9, 14: 9, 216: 9, 128: 9, 152: 9, 428: 9, 235: 9, 245: 9, 97: 9, 499: 9, 62: 9, 171: 9, 45: 9, 66: 9, 7: 9, 432: 9, 188: 9, 19: 9, 313: 9, 261: 9, 147: 9, 324: 9, 371: 8, 37: 8, 350: 8, 10: 8, 273: 8, 268: 8, 278: 8, 265: 8, 348: 8, 254: 8, 364: 8, 435: 8, 333: 8, 42: 8, 281: 8, 397: 8, 96: 8, 431: 8, 187: 8, 536: 8, 489: 8, 356: 8, 3: 8, 68: 8, 562: 8, 41: 8, 219: 8, 353: 7, 511: 7, 475: 7, 542: 7, 77: 7, 390: 7, 153: 7, 283: 7, 88: 7, 251: 7, 30: 7, 83: 7, 381: 7, 89: 7, 550: 7, 451: 7, 140: 7, 149: 7, 538: 7, 52: 7, 192: 7, 485: 7, 310: 7, 249: 7, 164: 7, 74: 7, 244: 7, 116: 7, 531: 7, 306: 7, 104: 7, 279: 7, 212: 7, 185: 7, 47: 7, 54: 7, 131: 7, 150: 7, 478: 6, 76: 6, 259: 6, 125: 6, 383: 6, 453: 6, 557: 6, 282: 6, 168: 6, 363: 6, 181: 6, 506: 6, 355: 6, 391: 6, 569: 6, 429: 6, 382: 6, 162: 6, 384: 6, 213: 6, 412: 6, 547: 6, 263: 6, 556: 6, 472: 6, 323: 6, 395: 6, 401: 6})\n"
          ],
          "name": "stdout"
        }
      ]
    },
    {
      "cell_type": "code",
      "metadata": {
        "id": "ifo1s2qsxE2J",
        "colab_type": "code",
        "colab": {}
      },
      "source": [
        "#y_pred[y_pred == 2]=0\n",
        "print('Balanced accuracy score:',balanced_accuracy_score(y_test,y_pred))\n",
        "print(classification_report(y_test,y_pred))"
      ],
      "execution_count": null,
      "outputs": []
    }
  ]
}